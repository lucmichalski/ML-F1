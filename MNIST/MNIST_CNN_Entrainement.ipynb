{
  "nbformat": 4,
  "nbformat_minor": 0,
  "metadata": {
    "anaconda-cloud": {},
    "kernelspec": {
      "name": "python3",
      "display_name": "Python 3"
    },
    "language_info": {
      "codemirror_mode": {
        "name": "ipython",
        "version": 3
      },
      "file_extension": ".py",
      "mimetype": "text/x-python",
      "name": "python",
      "nbconvert_exporter": "python",
      "pygments_lexer": "ipython3",
      "version": "3.6.8"
    },
    "colab": {
      "name": "MNIST_CNN_Training.ipynb",
      "provenance": [],
      "collapsed_sections": [],
      "include_colab_link": true
    }
  },
  "cells": [
    {
      "cell_type": "markdown",
      "metadata": {
        "id": "view-in-github",
        "colab_type": "text"
      },
      "source": [
        "<a href=\"https://colab.research.google.com/github/AlexandreBourrieau/ML-F1/blob/master/MNIST/MNIST_CNN_Entrainement.ipynb\" target=\"_parent\"><img src=\"https://colab.research.google.com/assets/colab-badge.svg\" alt=\"Open In Colab\"/></a>"
      ]
    },
    {
      "cell_type": "markdown",
      "metadata": {
        "id": "GN77vsrTjM04",
        "colab_type": "text"
      },
      "source": [
        "## Réseau neuronal convolutif\n",
        "\n",
        "Les [réseaux de neurones à convolution](https://fr.wikipedia.org/wiki/R%C3%A9seau_neuronal_convolutif) (Convolutional Neural Networks - CNNs) ont de larges applications, en particulier dans la reconnaissance d'image et de vidéo. Leur structure est inspirée par celle du cortex visuel des animaux.\n",
        "\n",
        "Cet exemple nécessite Python 3, Tensorflow 2, matplotlib, et numpy. Entrainer un réseau de neurones à convolution demande davantage de temps de calcul qu'un réseau de base, entièrement connecté. C'est la raison pour laquelle l'entrainement par GPU est préféré."
      ]
    },
    {
      "cell_type": "code",
      "metadata": {
        "id": "mHWfBk3sjM1m",
        "colab_type": "code",
        "colab": {}
      },
      "source": [
        "from tensorflow.keras.datasets import mnist\n",
        "from tensorflow.keras.models import Sequential\n",
        "from tensorflow.keras.layers import Dense, Dropout, Flatten\n",
        "from tensorflow.keras.layers import Conv2D, MaxPooling2D\n",
        "from tensorflow.keras import backend as K\n",
        "from tensorflow.keras.optimizers import Adam\n",
        "from matplotlib import pyplot as plt\n",
        "import numpy as np\n",
        "import random"
      ],
      "execution_count": 1,
      "outputs": []
    },
    {
      "cell_type": "markdown",
      "metadata": {
        "id": "wgM5FuvXjM15",
        "colab_type": "text"
      },
      "source": [
        "Quelques configurations des paramètres et des hyperparamètres."
      ]
    },
    {
      "cell_type": "code",
      "metadata": {
        "id": "L9Nu8uRSjM18",
        "colab_type": "code",
        "colab": {}
      },
      "source": [
        "# Dimensions des images d'entrée : 28x28\n",
        "dim_img_lignes, dim_img_colonnes = 28, 28\n",
        "\n",
        "# Nombre d'échantillons d'entrainement par lot. 128 est un nombre raisonable\n",
        "batch_size = 128\n",
        "\n",
        "# Les données contiennent 10 chiffres\n",
        "nbr_classes = 10\n",
        "\n",
        "# Nombre d'itérations à utiliser.\n",
        "iterations = 5\n",
        "\n",
        "# dropout est un hyperparamètre de régularisation. Il permet d'éviter la mémorisation pure et simple des entrées.\n",
        "dropout = 0.5"
      ],
      "execution_count": 2,
      "outputs": []
    },
    {
      "cell_type": "markdown",
      "metadata": {
        "id": "OB_ROKhkjM2H",
        "colab_type": "text"
      },
      "source": [
        "### Chargement des données\n",
        "\n",
        "Keras possède des fonctions intégrées pour charger la base données MNIST, qui est par défaut structurée avec des données réservées pour l'entrainement et les tests.  \n",
        "* x_entrainement and x_test sont les variables utilisées pour sauvegarder les échantillons d'entrainement et de tests. Les images sont représentées dans une matrice de 28x28 pixels.  \n",
        "* y_entrainement et y_test sont les variables utilisées pour sauvegarder les valeurs attendues (les labels qui correspondent à chaque image manuscrite, c'est-à-dire le chiffre correspondant) d'entrainement et de tests."
      ]
    },
    {
      "cell_type": "code",
      "metadata": {
        "id": "xNZd9SiqlLPo",
        "colab_type": "code",
        "colab": {
          "base_uri": "https://localhost:8080/",
          "height": 52
        },
        "outputId": "03856531-c556-4085-d2f9-1a69feb28539"
      },
      "source": [
        "(x_entrainement, y_entrainement), (x_test, y_test) = mnist.load_data()\n",
        "\n",
        "# Sauvegarde des échantillons des images de tests dans une variable intermédiaire \n",
        "# pour regarder un peu comment ces données sont structurées\n",
        "orig_test = x_test"
      ],
      "execution_count": 3,
      "outputs": [
        {
          "output_type": "stream",
          "text": [
            "Downloading data from https://storage.googleapis.com/tensorflow/tf-keras-datasets/mnist.npz\n",
            "11493376/11490434 [==============================] - 0s 0us/step\n"
          ],
          "name": "stdout"
        }
      ]
    },
    {
      "cell_type": "markdown",
      "metadata": {
        "id": "cGUVT3axlc23",
        "colab_type": "text"
      },
      "source": [
        "La cellule suivante permet de visualiser des images réservées aux tests au hasard afin de se faire une idée de ce à quoi elles ressemblent."
      ]
    },
    {
      "cell_type": "code",
      "metadata": {
        "id": "qEFrHyHVlXtF",
        "colab_type": "code",
        "colab": {
          "base_uri": "https://localhost:8080/",
          "height": 281
        },
        "outputId": "179e2896-780c-4b5f-fe48-21e099b8837c"
      },
      "source": [
        "index = random.randrange(1000)\n",
        "plt.imshow(orig_test[index], cmap='gray')\n",
        "plt.title('Label: %d' % y_test[index])\n",
        "plt.show()"
      ],
      "execution_count": 4,
      "outputs": [
        {
          "output_type": "display_data",
          "data": {
            "image/png": "[encoded data removed]",
            "text/plain": [
              "<Figure size 432x288 with 1 Axes>"
            ]
          },
          "metadata": {
            "tags": [],
            "needs_background": "light"
          }
        }
      ]
    },
    {
      "cell_type": "markdown",
      "metadata": {
        "id": "kOns6ruZlMrD",
        "colab_type": "text"
      },
      "source": [
        "### Préparation des données\n",
        "\n",
        "Les données sont structurées afin d'être compatibles avec la forme d'entrée attendue par Keras :\n",
        "*  Soit du type : (RGB, X, Y)  \n",
        "*  Soit du type : (X, Y, RGB)  \n",
        "\n",
        "La valeur des pixels sont normalisées entre 0.0 et 1.0."
      ]
    },
    {
      "cell_type": "code",
      "metadata": {
        "id": "AcbM1pEqjM2L",
        "colab_type": "code",
        "colab": {
          "base_uri": "https://localhost:8080/",
          "height": 52
        },
        "outputId": "40751424-e547-4bde-dbda-52c86a0c3cfa"
      },
      "source": [
        "if K.image_data_format() == 'channels_first':\n",
        "    x_entrainement = x_entrainement.reshape(x_entrainement.shape[0], 1, dim_img_lignes, dim_img_colonnes)\n",
        "    x_test = x_test.reshape(x_test.shape[0], 1, dim_img_lignes, dim_img_colonnes)\n",
        "    input_shape = (1, dim_img_lignes, dim_img_colonnes)\n",
        "else:\n",
        "    x_entrainement = x_entrainement.reshape(x_entrainement.shape[0], dim_img_lignes, dim_img_colonnes, 1)\n",
        "    x_test = x_test.reshape(x_test.shape[0], dim_img_lignes, dim_img_colonnes, 1)\n",
        "    input_shape = (dim_img_lignes, dim_img_colonnes, 1)\n",
        "    \n",
        "x_entrainement, x_test = x_entrainement / 255.0, x_test / 255.0\n",
        "\n",
        "print(x_entrainement.shape[0], 'train samples')\n",
        "print(x_test.shape[0], 'test samples')"
      ],
      "execution_count": 4,
      "outputs": [
        {
          "output_type": "stream",
          "text": [
            "60000 train samples\n",
            "10000 test samples\n"
          ],
          "name": "stdout"
        }
      ]
    },
    {
      "cell_type": "code",
      "metadata": {
        "id": "JCmaGB5o76tS",
        "colab_type": "code",
        "colab": {}
      },
      "source": [
        "#x_entrainement[0]\n",
        "#x_entrainement\n",
        "#x_entrainement.reshape(x_entrainement.shape[0], 1, dim_img_lignes, dim_img_colonnes)\n",
        "#x_entrainement.reshape(x_entrainement.shape[0], 1, dim_img_lignes, dim_img_colonnes).shape"
      ],
      "execution_count": null,
      "outputs": []
    },
    {
      "cell_type": "markdown",
      "metadata": {
        "id": "hWEsjkQ5jM2v",
        "colab_type": "text"
      },
      "source": [
        "### Definition du modèle\n",
        "\n",
        "Des modèles avec plus de 100 réseaux de neurones à convolution, des couches de  pooling, padding, et autres couches ont permis d'être entrainés avec succès afin de reconnaitre des objets complexes ainsi que de multiples objets dans une image.\n",
        "\n",
        "La structure du modèle que nous allons utliser est la suivante :  \n",
        "* Deux [couches de convolution 2D](https://keras.io/api/layers/convolution_layers/convolution2d/) avec des fonctions d'activation de type redresseur (ReLU) ;  \n",
        "* Une [couche de pooling max](https://keras.io/api/layers/pooling_layers/max_pooling2d/) suivie d'une couche de régularisation de type [dropout](https://keras.io/api/layers/regularization_layers/dropout/) ;\n",
        "*  Une [couche d'aplatissement](https://keras.io/api/layers/reshaping_layers/flatten/) ;\n",
        "* Une [couche dense](https://keras.io/api/layers/core_layers/dense/) avec une fonction d'activation de type redresseur (ReLU) ;  \n",
        "* Une régularisation de type [dropout](https://keras.io/api/layers/regularization_layers/dropout/) ;\n",
        "* Une [couche dense](https://keras.io/api/layers/core_layers/dense/) avec une fonction d'activation de type Soft-Max. Cette dernière couche réalise la classification de type \"1 parmi n\" (One-hot encoded).  \n",
        "  \n",
        "Avec seulement des quelques couches, ce modèle permet d'attendre une précision de 99 %.  \n",
        "La structure de notre modèle peut être visualisée comme ci-dessous :  \n",
        "![ReseauNeurone](Images/ReseauConvolutionKeras.jpg \"ReseauNeurone\")\n"
      ]
    },
    {
      "cell_type": "code",
      "metadata": {
        "id": "mF5kDTK3jM2y",
        "colab_type": "code",
        "colab": {
          "base_uri": "https://localhost:8080/",
          "height": 433
        },
        "outputId": "04a6da55-de5e-492c-ce10-15330094bd90"
      },
      "source": [
        "model = Sequential()\n",
        "model.add(Conv2D(32, kernel_size=(3, 3), activation='relu', input_shape=input_shape))\n",
        "model.add(Conv2D(64, (3, 3), activation='relu'))\n",
        "model.add(MaxPooling2D(pool_size=(2, 2)))\n",
        "model.add(Dropout(dropout/2))\n",
        "model.add(Flatten())\n",
        "model.add(Dense(128, activation='relu'))\n",
        "model.add(Dropout(dropout))\n",
        "model.add(Dense(nbr_classes, activation='softmax'))\n",
        "\n",
        "model.summary()"
      ],
      "execution_count": 6,
      "outputs": [
        {
          "output_type": "stream",
          "text": [
            "Model: \"sequential_1\"\n",
            "_________________________________________________________________\n",
            "Layer (type)                 Output Shape              Param #   \n",
            "=================================================================\n",
            "conv2d_2 (Conv2D)            (None, 26, 26, 32)        320       \n",
            "_________________________________________________________________\n",
            "conv2d_3 (Conv2D)            (None, 24, 24, 64)        18496     \n",
            "_________________________________________________________________\n",
            "max_pooling2d_1 (MaxPooling2 (None, 12, 12, 64)        0         \n",
            "_________________________________________________________________\n",
            "dropout_2 (Dropout)          (None, 12, 12, 64)        0         \n",
            "_________________________________________________________________\n",
            "flatten_1 (Flatten)          (None, 9216)              0         \n",
            "_________________________________________________________________\n",
            "dense_2 (Dense)              (None, 128)               1179776   \n",
            "_________________________________________________________________\n",
            "dropout_3 (Dropout)          (None, 128)               0         \n",
            "_________________________________________________________________\n",
            "dense_3 (Dense)              (None, 10)                1290      \n",
            "=================================================================\n",
            "Total params: 1,199,882\n",
            "Trainable params: 1,199,882\n",
            "Non-trainable params: 0\n",
            "_________________________________________________________________\n"
          ],
          "name": "stdout"
        }
      ]
    },
    {
      "cell_type": "markdown",
      "metadata": {
        "id": "JMHjxcZEjM26",
        "colab_type": "text"
      },
      "source": [
        "### Entrainement du modèle\n",
        "\n",
        "Le code qui suit passe les données d'entrainement à Keras pour entrainer le modèle. La librairie Matplotlib est utilisée pour afficher la précision des entrainements et des tests, en fonction des itérations.\n",
        "\n",
        "Dans l'idéal, la précision obtenue avec les données de tests et d'entrainements devrait être la même.  \n",
        "* Une faible précision obtenue avec les données d'entrainements signifie que le modèle souffre d'un biais important. Cela peut être dû à un modèle qui n'est pas assez robuste, ou un manque de données d'entrainements, ou un trop petit nombre d'itérations.  \n",
        "* Une grande précision obtenue avec des données d'entrainements mais une faible précision obtenue avec les données de tests signifie que le modèle souffre d'une variance élevée. Le modèle est plus ou moins en train de mémoriser les données et non d'apprendre réellement. Ce problème peut être réglé à l'aide de régularisations."
      ]
    },
    {
      "cell_type": "code",
      "metadata": {
        "id": "hNbcqP__jM29",
        "colab_type": "code",
        "colab": {}
      },
      "source": [
        "model.compile(loss='sparse_categorical_crossentropy', optimizer=Adam(), metrics=['accuracy'])\n",
        "\n",
        "# Entraine le modèle sur un certain nombre d'itérations\n",
        "historique = model.fit(x_entrainement, y_entrainement, batch_size=batch_size, epochs=iterations, verbose=1, validation_data=(x_test, y_test))\n",
        "\n",
        "# Evalue la précision du modèle avec les données de tests\n",
        "score = model.evaluate(x_test, y_test, verbose=0)\n",
        "print('Pertes (Test) :', score[0])\n",
        "print('Précision (Test) :', score[1])\n",
        "\n",
        "# Affiche les informations\n",
        "plt.plot(historique.history['accuracy'])\n",
        "plt.plot(historique.history['val_accuracy'])\n",
        "plt.title('Précision du modèle')\n",
        "plt.ylabel('Précision')\n",
        "plt.xlabel('Itérations')\n",
        "plt.legend(['Entrainement', 'Test'], loc='upper left')\n",
        "plt.show()"
      ],
      "execution_count": null,
      "outputs": []
    },
    {
      "cell_type": "markdown",
      "metadata": {
        "id": "YmGm6OSVjM3G",
        "colab_type": "text"
      },
      "source": [
        "### Prédictions\n",
        "\n",
        "Réalisons maintenant quelques prédictions en utilisant le modèle entrainé précédent.\n"
      ]
    },
    {
      "cell_type": "code",
      "metadata": {
        "id": "Q42ckWf6jM3K",
        "colab_type": "code",
        "colab": {}
      },
      "source": [
        "predictions = model.predict(x_test)\n",
        "most_likely = predictions.argmax(1)"
      ],
      "execution_count": null,
      "outputs": []
    },
    {
      "cell_type": "markdown",
      "metadata": {
        "id": "oFh7qmw-jM3S",
        "colab_type": "text"
      },
      "source": [
        "The following cell chooses a random test image, prints the model predicted value, expected value (label), and the original image."
      ]
    },
    {
      "cell_type": "code",
      "metadata": {
        "id": "Hmx7E54jjM3V",
        "colab_type": "code",
        "colab": {
          "base_uri": "https://localhost:8080/",
          "height": 281
        },
        "outputId": "972b678a-daff-4a4e-e370-1f9f6bf1f4de"
      },
      "source": [
        "index = random.randrange(10000)\n",
        "plt.title('Prediction: %d, label: %d' % (most_likely[index], y_test[index]))\n",
        "plt.imshow(orig_test[index], cmap='gray')\n",
        "plt.show()"
      ],
      "execution_count": null,
      "outputs": [
        {
          "output_type": "display_data",
          "data": {
            "image/png": "[encoded data removed]",
            "text/plain": [
              "<Figure size 432x288 with 1 Axes>"
            ]
          },
          "metadata": {
            "tags": []
          }
        }
      ]
    },
    {
      "cell_type": "markdown",
      "metadata": {
        "id": "J9wOZZiXjM3b",
        "colab_type": "text"
      },
      "source": [
        "### Analyse des erreurs\n",
        "\n",
        "Cette dernière cellule recherche les prédictions du modèle qui n'ont pas fonctionnées. Dans certains cas, même un humain ne pourrait trouver la bonne réponse !"
      ]
    },
    {
      "cell_type": "code",
      "metadata": {
        "id": "HoOvG05sjM3d",
        "colab_type": "code",
        "colab": {
          "base_uri": "https://localhost:8080/",
          "height": 545
        },
        "outputId": "a1039138-1f3a-483c-932c-8dbf4c1d5dfc"
      },
      "source": [
        "for i in range(10000):\n",
        "    index = random.randrange(10000)\n",
        "    if most_likely[index] != y_test[index]:\n",
        "        break\n",
        "\n",
        "plt.imshow(orig_test[index], cmap='gray')\n",
        "plt.title('Prediction: %d, label: %d' % (most_likely[index], y_test[index]))\n",
        "plt.show()\n",
        "\n",
        "plt.bar(range(10), predictions[index], tick_label=range(10))\n",
        "plt.title('Prediction values')\n",
        "plt.show()"
      ],
      "execution_count": null,
      "outputs": [
        {
          "output_type": "display_data",
          "data": {
            "image/png": "[encoded data removed]",
            "text/plain": [
              "<Figure size 432x288 with 1 Axes>"
            ]
          },
          "metadata": {
            "tags": []
          }
        },
        {
          "output_type": "display_data",
          "data": {
            "image/png": "[encoded data removed]",
            "text/plain": [
              "<Figure size 432x288 with 1 Axes>"
            ]
          },
          "metadata": {
            "tags": []
          }
        }
      ]
    },
    {
      "cell_type": "code",
      "metadata": {
        "id": "p4Rq5dA-jM3n",
        "colab_type": "code",
        "colab": {}
      },
      "source": [
        ""
      ],
      "execution_count": null,
      "outputs": []
    }
  ]
}