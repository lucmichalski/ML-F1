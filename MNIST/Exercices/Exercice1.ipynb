{
  "nbformat": 4,
  "nbformat_minor": 0,
  "metadata": {
    "colab": {
      "name": "Untitled9.ipynb",
      "provenance": [],
      "toc_visible": true,
      "authorship_tag": "ABX9TyNIsdSy1EVB/bBtiLpMNNAH",
      "include_colab_link": true
    },
    "kernelspec": {
      "name": "python3",
      "display_name": "Python 3"
    }
  },
  "cells": [
    {
      "cell_type": "markdown",
      "metadata": {
        "id": "view-in-github",
        "colab_type": "text"
      },
      "source": [
        "<a href=\"https://colab.research.google.com/github/AlexandreBourrieau/ML-F1/blob/master/MNIST/Exercices/Exercice1.ipynb\" target=\"_parent\"><img src=\"https://colab.research.google.com/assets/colab-badge.svg\" alt=\"Open In Colab\"/></a>"
      ]
    },
    {
      "cell_type": "markdown",
      "metadata": {
        "id": "0LIP6N6JvN7W",
        "colab_type": "text"
      },
      "source": [
        "# Chargement du modèle entrainé"
      ]
    },
    {
      "cell_type": "code",
      "metadata": {
        "id": "9hUls9qxvKfi",
        "colab_type": "code",
        "colab": {}
      },
      "source": [
        "from tensorflow.keras.models import model_from_json\n",
        "\n",
        "with open('modelMNIST.json', 'r') as json_file:\n",
        "    loaded_model_json = json_file.read()\n",
        "restored_model = model_from_json(loaded_model_json)\n",
        "restored_model.load_weights(\"weights.h5\")"
      ],
      "execution_count": null,
      "outputs": []
    },
    {
      "cell_type": "markdown",
      "metadata": {
        "id": "2IS_a1AmYXze",
        "colab_type": "text"
      },
      "source": [
        "# Importation des modules Python pour traiter les images"
      ]
    },
    {
      "cell_type": "code",
      "metadata": {
        "id": "Xv2CnJaLXiDE",
        "colab_type": "code",
        "colab": {}
      },
      "source": [
        "from skimage import io, transform"
      ],
      "execution_count": 2,
      "outputs": []
    },
    {
      "cell_type": "markdown",
      "metadata": {
        "id": "midNHWdQYgiO",
        "colab_type": "text"
      },
      "source": [
        "# Lecture des images"
      ]
    },
    {
      "cell_type": "code",
      "metadata": {
        "id": "LfAZ9yF8YjHG",
        "colab_type": "code",
        "colab": {
          "base_uri": "https://localhost:8080/",
          "height": 218
        },
        "outputId": "50747470-af06-4949-8c2e-bbe438f72e7c"
      },
      "source": [
        "rgb = io.imread('0.png')\n",
        "print(f'Format original de l\\'image {rgb.shape}')\n",
        "plt.imshow(rgb)"
      ],
      "execution_count": 3,
      "outputs": [
        {
          "output_type": "stream",
          "text": [
            "Format original de l'image (54, 56, 4)\n"
          ],
          "name": "stdout"
        },
        {
          "output_type": "error",
          "ename": "NameError",
          "evalue": "ignored",
          "traceback": [
            "\u001b[0;31m---------------------------------------------------------------------------\u001b[0m",
            "\u001b[0;31mNameError\u001b[0m                                 Traceback (most recent call last)",
            "\u001b[0;32m<ipython-input-3-dfec9b09ed19>\u001b[0m in \u001b[0;36m<module>\u001b[0;34m()\u001b[0m\n\u001b[1;32m      1\u001b[0m \u001b[0mrgb\u001b[0m \u001b[0;34m=\u001b[0m \u001b[0mio\u001b[0m\u001b[0;34m.\u001b[0m\u001b[0mimread\u001b[0m\u001b[0;34m(\u001b[0m\u001b[0;34m'0.png'\u001b[0m\u001b[0;34m)\u001b[0m\u001b[0;34m\u001b[0m\u001b[0;34m\u001b[0m\u001b[0m\n\u001b[1;32m      2\u001b[0m \u001b[0mprint\u001b[0m\u001b[0;34m(\u001b[0m\u001b[0;34mf'Format original de l\\'image {rgb.shape}'\u001b[0m\u001b[0;34m)\u001b[0m\u001b[0;34m\u001b[0m\u001b[0;34m\u001b[0m\u001b[0m\n\u001b[0;32m----> 3\u001b[0;31m \u001b[0mplt\u001b[0m\u001b[0;34m.\u001b[0m\u001b[0mimshow\u001b[0m\u001b[0;34m(\u001b[0m\u001b[0mrgb\u001b[0m\u001b[0;34m)\u001b[0m\u001b[0;34m\u001b[0m\u001b[0;34m\u001b[0m\u001b[0m\n\u001b[0m",
            "\u001b[0;31mNameError\u001b[0m: name 'plt' is not defined"
          ]
        }
      ]
    },
    {
      "cell_type": "markdown",
      "metadata": {
        "id": "S9GLTYySZaJZ",
        "colab_type": "text"
      },
      "source": [
        "3. Conversion de l'image en N&B"
      ]
    },
    {
      "cell_type": "code",
      "metadata": {
        "id": "H21gJhmXZeAN",
        "colab_type": "code",
        "colab": {}
      },
      "source": [
        "gray = np.dot(rgb[...,:], [0.299, 0.587, 0.114, 0])\n",
        "print(f'Format de l\\'image en N&B {gray.shape}')\n",
        "plt.imshow(gray, cmap='gray')"
      ],
      "execution_count": null,
      "outputs": []
    },
    {
      "cell_type": "markdown",
      "metadata": {
        "id": "lXVjUvgoaFqm",
        "colab_type": "text"
      },
      "source": [
        "4. Redimensionner l'image en 28x28px"
      ]
    },
    {
      "cell_type": "code",
      "metadata": {
        "id": "41fraZ9QZ3_V",
        "colab_type": "code",
        "colab": {}
      },
      "source": [
        "gray28x28 = transform.resize(gray, (img_rows, img_cols))\n",
        "print(f'Format de l\\'image redimensionnée {gray28x28.shape}')\n",
        "plt.imshow(gray28x28, cmap='gray')"
      ],
      "execution_count": null,
      "outputs": []
    },
    {
      "cell_type": "markdown",
      "metadata": {
        "id": "YE0A21PXand_",
        "colab_type": "text"
      },
      "source": [
        ""
      ]
    },
    {
      "cell_type": "markdown",
      "metadata": {
        "id": "m1HsbYxFaNj1",
        "colab_type": "text"
      },
      "source": [
        "5. Filtrer le fond d'image"
      ]
    },
    {
      "cell_type": "code",
      "metadata": {
        "id": "DtTfgeNYaQg-",
        "colab_type": "code",
        "colab": {}
      },
      "source": [
        "vectorized_filter = np.vectorize(lambda v: 255 if v > 128 else v)\n",
        "filtered = vectorized_filter(gray28x28)\n",
        "plt.imshow(filtered, cmap='gray')"
      ],
      "execution_count": null,
      "outputs": []
    },
    {
      "cell_type": "markdown",
      "metadata": {
        "id": "Z5CZkz6_akX9",
        "colab_type": "text"
      },
      "source": [
        "6. Inverser l'image et normliser la valeur des pixels"
      ]
    },
    {
      "cell_type": "code",
      "metadata": {
        "id": "uxgp2LM6aoGF",
        "colab_type": "code",
        "colab": {}
      },
      "source": [
        "inverted = 255 - filtered\n",
        "reshaped = inverted.reshape(img_rows, img_cols, 1) / 255.0\n",
        "batch = np.array([reshaped])\n",
        "plt.imshow(inverted, cmap='gray')"
      ],
      "execution_count": null,
      "outputs": []
    },
    {
      "cell_type": "markdown",
      "metadata": {
        "id": "Sl8IMElxbP_1",
        "colab_type": "text"
      },
      "source": [
        "7. Prédiction avec un modèle pré-entrainé"
      ]
    },
    {
      "cell_type": "code",
      "metadata": {
        "id": "IIzLk-jHbTNN",
        "colab_type": "code",
        "colab": {}
      },
      "source": [
        "predictions = model.predict(batch)\n",
        "plus_probable = predictions.argmax(1)\n",
        "plus_probable"
      ],
      "execution_count": null,
      "outputs": []
    },
    {
      "cell_type": "markdown",
      "metadata": {
        "id": "wBuWWMMzb36t",
        "colab_type": "text"
      },
      "source": [
        "8. Afficher les probabilités"
      ]
    },
    {
      "cell_type": "code",
      "metadata": {
        "id": "9emfWHc9b6oG",
        "colab_type": "code",
        "colab": {}
      },
      "source": [
        "plt.bar(range(10), predictions[0], tick_label=range(10))\n",
        "plt.title('Valeurs prédites')\n",
        "plt.show()"
      ],
      "execution_count": null,
      "outputs": []
    },
    {
      "cell_type": "markdown",
      "metadata": {
        "id": "P4fMLOZvcNl9",
        "colab_type": "text"
      },
      "source": [
        "9. Combiner le code précédent dans une fonction"
      ]
    },
    {
      "cell_type": "code",
      "metadata": {
        "id": "tViwJQ4fcRTE",
        "colab_type": "code",
        "colab": {}
      },
      "source": [
        "def prediction_chiffre(nom_fichier):\n",
        "    # Entrer le code ici\n",
        "    return prediction"
      ],
      "execution_count": null,
      "outputs": []
    }
  ]
}