{
  "nbformat": 4,
  "nbformat_minor": 0,
  "metadata": {
    "colab": {
      "name": "Untitled9.ipynb",
      "provenance": [],
      "toc_visible": true,
      "authorship_tag": "ABX9TyM2kXzrvj6y7fVf85Fh0Kah",
      "include_colab_link": true
    },
    "kernelspec": {
      "name": "python3",
      "display_name": "Python 3"
    }
  },
  "cells": [
    {
      "cell_type": "markdown",
      "metadata": {
        "id": "view-in-github",
        "colab_type": "text"
      },
      "source": [
        "<a href=\"https://colab.research.google.com/github/AlexandreBourrieau/ML-F1/blob/master/MNIST/Exercices/Exercice1.ipynb\" target=\"_parent\"><img src=\"https://colab.research.google.com/assets/colab-badge.svg\" alt=\"Open In Colab\"/></a>"
      ]
    },
    {
      "cell_type": "markdown",
      "metadata": {
        "id": "0LIP6N6JvN7W",
        "colab_type": "text"
      },
      "source": [
        "# Chargement du modèle entrainé"
      ]
    },
    {
      "cell_type": "code",
      "metadata": {
        "id": "9hUls9qxvKfi",
        "colab_type": "code",
        "colab": {}
      },
      "source": [
        "from tensorflow.keras.models import model_from_json\n",
        "\n",
        "with open('model_MNIST1.json', 'r') as json_file:\n",
        "    loaded_model_json = json_file.read()\n",
        "restored_model = model_from_json(loaded_model_json)\n",
        "restored_model.load_weights(\"weights_MNIST1.h5\")"
      ],
      "execution_count": 16,
      "outputs": []
    },
    {
      "cell_type": "markdown",
      "metadata": {
        "id": "2IS_a1AmYXze",
        "colab_type": "text"
      },
      "source": [
        "# Importation des modules Python pour traiter les images"
      ]
    },
    {
      "cell_type": "code",
      "metadata": {
        "id": "Xv2CnJaLXiDE",
        "colab_type": "code",
        "colab": {}
      },
      "source": [
        "from skimage import io, transform"
      ],
      "execution_count": 26,
      "outputs": []
    },
    {
      "cell_type": "markdown",
      "metadata": {
        "id": "midNHWdQYgiO",
        "colab_type": "text"
      },
      "source": [
        "# Lecture des images"
      ]
    },
    {
      "cell_type": "code",
      "metadata": {
        "id": "LfAZ9yF8YjHG",
        "colab_type": "code",
        "colab": {
          "base_uri": "https://localhost:8080/",
          "height": 303
        },
        "outputId": "0b367e45-1c3b-4ba3-810f-f8c5a572fb65"
      },
      "source": [
        "rgb = io.imread('1.png')\n",
        "print(f'Format original de l\\'image {rgb.shape}')\n",
        "plt.imshow(rgb)"
      ],
      "execution_count": 43,
      "outputs": [
        {
          "output_type": "stream",
          "text": [
            "Format original de l'image (65, 65, 4)\n"
          ],
          "name": "stdout"
        },
        {
          "output_type": "execute_result",
          "data": {
            "text/plain": [
              "<matplotlib.image.AxesImage at 0x7f43c3ef3940>"
            ]
          },
          "metadata": {
            "tags": []
          },
          "execution_count": 43
        },
        {
          "output_type": "display_data",
          "data": {
            "image/png": "[encoded data removed]",
            "text/plain": [
              "<Figure size 432x288 with 1 Axes>"
            ]
          },
          "metadata": {
            "tags": [],
            "needs_background": "light"
          }
        }
      ]
    },
    {
      "cell_type": "markdown",
      "metadata": {
        "id": "S9GLTYySZaJZ",
        "colab_type": "text"
      },
      "source": [
        "# Conversion de l'image en N&B"
      ]
    },
    {
      "cell_type": "markdown",
      "metadata": {
        "id": "Q88sRESi7Po3",
        "colab_type": "text"
      },
      "source": [
        "![ConversionGrayScale](../Images/GrayScaleConversion.png \"ConversionNB\")"
      ]
    },
    {
      "cell_type": "code",
      "metadata": {
        "id": "H21gJhmXZeAN",
        "colab_type": "code",
        "colab": {
          "base_uri": "https://localhost:8080/",
          "height": 303
        },
        "outputId": "2973f222-7073-43ae-802b-741b189a94ad"
      },
      "source": [
        "gray = np.dot(rgb[...,:], [0.299, 0.587, 0.114, 0])\n",
        "print(f'Format de l\\'image en N&B {gray.shape}')\n",
        "plt.imshow(gray, cmap='gray')"
      ],
      "execution_count": 44,
      "outputs": [
        {
          "output_type": "stream",
          "text": [
            "Format de l'image en N&B (65, 65)\n"
          ],
          "name": "stdout"
        },
        {
          "output_type": "execute_result",
          "data": {
            "text/plain": [
              "<matplotlib.image.AxesImage at 0x7f43c3e81828>"
            ]
          },
          "metadata": {
            "tags": []
          },
          "execution_count": 44
        },
        {
          "output_type": "display_data",
          "data": {
            "image/png": "[encoded data removed]",
            "text/plain": [
              "<Figure size 432x288 with 1 Axes>"
            ]
          },
          "metadata": {
            "tags": [],
            "needs_background": "light"
          }
        }
      ]
    },
    {
      "cell_type": "markdown",
      "metadata": {
        "id": "lXVjUvgoaFqm",
        "colab_type": "text"
      },
      "source": [
        "# Redimensionner l'image en 28x28px"
      ]
    },
    {
      "cell_type": "code",
      "metadata": {
        "id": "41fraZ9QZ3_V",
        "colab_type": "code",
        "colab": {
          "base_uri": "https://localhost:8080/",
          "height": 300
        },
        "outputId": "b43c19af-5f50-4a77-a3b6-910ce1792282"
      },
      "source": [
        "gray28x28 = transform.resize(gray, (28, 28))\n",
        "print(f'Format de l\\'image redimensionnée {gray28x28.shape}')\n",
        "plt.imshow(gray28x28, cmap='gray')"
      ],
      "execution_count": 45,
      "outputs": [
        {
          "output_type": "stream",
          "text": [
            "Format de l'image redimensionnée (28, 28)\n"
          ],
          "name": "stdout"
        },
        {
          "output_type": "execute_result",
          "data": {
            "text/plain": [
              "<matplotlib.image.AxesImage at 0x7f43c3e177b8>"
            ]
          },
          "metadata": {
            "tags": []
          },
          "execution_count": 45
        },
        {
          "output_type": "display_data",
          "data": {
            "image/png": "[encoded data removed]",
            "text/plain": [
              "<Figure size 432x288 with 1 Axes>"
            ]
          },
          "metadata": {
            "tags": [],
            "needs_background": "light"
          }
        }
      ]
    },
    {
      "cell_type": "markdown",
      "metadata": {
        "id": "m1HsbYxFaNj1",
        "colab_type": "text"
      },
      "source": [
        "# Filtrer le fond d'image"
      ]
    },
    {
      "cell_type": "code",
      "metadata": {
        "id": "DtTfgeNYaQg-",
        "colab_type": "code",
        "colab": {
          "base_uri": "https://localhost:8080/",
          "height": 283
        },
        "outputId": "b68b0976-e925-43d2-d7c5-e94ed34895f8"
      },
      "source": [
        "vectorized_filter = np.vectorize(lambda v: 255 if v > 128 else v)\n",
        "filtered = vectorized_filter(gray28x28)\n",
        "plt.imshow(filtered, cmap='gray')"
      ],
      "execution_count": 46,
      "outputs": [
        {
          "output_type": "execute_result",
          "data": {
            "text/plain": [
              "<matplotlib.image.AxesImage at 0x7f43c3ea8208>"
            ]
          },
          "metadata": {
            "tags": []
          },
          "execution_count": 46
        },
        {
          "output_type": "display_data",
          "data": {
            "image/png": "[encoded data removed]",
            "text/plain": [
              "<Figure size 432x288 with 1 Axes>"
            ]
          },
          "metadata": {
            "tags": [],
            "needs_background": "light"
          }
        }
      ]
    },
    {
      "cell_type": "markdown",
      "metadata": {
        "id": "Z5CZkz6_akX9",
        "colab_type": "text"
      },
      "source": [
        "# Inverser l'image et normliser la valeur des pixels"
      ]
    },
    {
      "cell_type": "code",
      "metadata": {
        "id": "uxgp2LM6aoGF",
        "colab_type": "code",
        "colab": {
          "base_uri": "https://localhost:8080/",
          "height": 283
        },
        "outputId": "c3ebabc3-8367-4bb3-d2e6-20ead0b8c2bb"
      },
      "source": [
        "inverted = 255 - filtered\n",
        "reshaped = inverted.reshape(28, 28, 1) / 255.0\n",
        "batch = np.array([reshaped])\n",
        "plt.imshow(inverted, cmap='gray')"
      ],
      "execution_count": 47,
      "outputs": [
        {
          "output_type": "execute_result",
          "data": {
            "text/plain": [
              "<matplotlib.image.AxesImage at 0x7f43c3fb0940>"
            ]
          },
          "metadata": {
            "tags": []
          },
          "execution_count": 47
        },
        {
          "output_type": "display_data",
          "data": {
            "image/png": "[encoded data removed]",
            "text/plain": [
              "<Figure size 432x288 with 1 Axes>"
            ]
          },
          "metadata": {
            "tags": [],
            "needs_background": "light"
          }
        }
      ]
    },
    {
      "cell_type": "markdown",
      "metadata": {
        "id": "Sl8IMElxbP_1",
        "colab_type": "text"
      },
      "source": [
        "# Prédiction avec un modèle pré-entrainé"
      ]
    },
    {
      "cell_type": "code",
      "metadata": {
        "id": "IIzLk-jHbTNN",
        "colab_type": "code",
        "colab": {
          "base_uri": "https://localhost:8080/",
          "height": 35
        },
        "outputId": "ad688032-e588-4886-df8f-7fe4642d9901"
      },
      "source": [
        "predictions = restored_model.predict(batch)\n",
        "plus_probable = predictions.argmax(1)\n",
        "plus_probable"
      ],
      "execution_count": 48,
      "outputs": [
        {
          "output_type": "execute_result",
          "data": {
            "text/plain": [
              "array([1])"
            ]
          },
          "metadata": {
            "tags": []
          },
          "execution_count": 48
        }
      ]
    },
    {
      "cell_type": "markdown",
      "metadata": {
        "id": "wBuWWMMzb36t",
        "colab_type": "text"
      },
      "source": [
        "# Afficher les probabilités"
      ]
    },
    {
      "cell_type": "code",
      "metadata": {
        "id": "9emfWHc9b6oG",
        "colab_type": "code",
        "colab": {
          "base_uri": "https://localhost:8080/",
          "height": 281
        },
        "outputId": "de861b63-4b70-4c9a-b5e3-85439d65bc57"
      },
      "source": [
        "plt.bar(range(10), predictions[0], tick_label=range(10))\n",
        "plt.title('Valeurs prédites')\n",
        "plt.show()"
      ],
      "execution_count": 49,
      "outputs": [
        {
          "output_type": "display_data",
          "data": {
            "image/png": "[encoded data removed]",
            "text/plain": [
              "<Figure size 432x288 with 1 Axes>"
            ]
          },
          "metadata": {
            "tags": [],
            "needs_background": "light"
          }
        }
      ]
    },
    {
      "cell_type": "markdown",
      "metadata": {
        "id": "P4fMLOZvcNl9",
        "colab_type": "text"
      },
      "source": [
        "# Combiner le code précédent dans une fonction"
      ]
    },
    {
      "cell_type": "code",
      "metadata": {
        "id": "tViwJQ4fcRTE",
        "colab_type": "code",
        "colab": {}
      },
      "source": [
        "def prediction_chiffre(nom_fichier):\n",
        "  # Lecture de l'image\n",
        "  rgb = io.imread(nom_fichier)\n",
        "\n",
        "  # Conversion en N&B\n",
        "  gray = np.dot(rgb[...,:], [0.299, 0.587, 0.114, 0])\n",
        "\n",
        "  # Redimensionnement en 28x28 px\n",
        "  gray28x28 = transform.resize(gray, (28, 28))\n",
        "\n",
        "  # Filtrage du fond\n",
        "  vectorized_filter = np.vectorize(lambda v: 255 if v > 128 else v)\n",
        "  filtered = vectorized_filter(gray28x28)\n",
        "\n",
        "  # Inversion des \"couleurs\" et normalisation des valeurs\n",
        "  inverted = 255 - filtered\n",
        "  reshaped = inverted.reshape(28, 28, 1) / 255.0\n",
        "  batch = np.array([reshaped])\n",
        "\n",
        "  # Prédiction\n",
        "  redictions = restored_model.predict(batch)\n",
        "  plus_probable = predictions.argmax(1)\n",
        "  return plus_probable"
      ],
      "execution_count": 50,
      "outputs": []
    },
    {
      "cell_type": "code",
      "metadata": {
        "id": "3URb8SW59lLA",
        "colab_type": "code",
        "colab": {}
      },
      "source": [
        "prediction_chiffre(\"2.png\")"
      ],
      "execution_count": null,
      "outputs": []
    }
  ]
}