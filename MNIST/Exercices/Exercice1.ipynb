{
  "nbformat": 4,
  "nbformat_minor": 0,
  "metadata": {
    "colab": {
      "name": "Untitled9.ipynb",
      "provenance": [],
      "authorship_tag": "ABX9TyOUkrMsKw5jHN+6CwE3UMJQ",
      "include_colab_link": true
    },
    "kernelspec": {
      "name": "python3",
      "display_name": "Python 3"
    }
  },
  "cells": [
    {
      "cell_type": "markdown",
      "metadata": {
        "id": "view-in-github",
        "colab_type": "text"
      },
      "source": [
        "<a href=\"https://colab.research.google.com/github/AlexandreBourrieau/ML-F1/blob/master/MNIST/Exercices/Exercice1.ipynb\" target=\"_parent\"><img src=\"https://colab.research.google.com/assets/colab-badge.svg\" alt=\"Open In Colab\"/></a>"
      ]
    },
    {
      "cell_type": "markdown",
      "metadata": {
        "id": "2IS_a1AmYXze",
        "colab_type": "text"
      },
      "source": [
        "1. Importation des modules Python pour traiter les images"
      ]
    },
    {
      "cell_type": "code",
      "metadata": {
        "id": "Xv2CnJaLXiDE",
        "colab_type": "code",
        "colab": {}
      },
      "source": [
        "from skimage import io, transform"
      ],
      "execution_count": 1,
      "outputs": []
    },
    {
      "cell_type": "markdown",
      "metadata": {
        "id": "midNHWdQYgiO",
        "colab_type": "text"
      },
      "source": [
        "2. Lecture des images"
      ]
    },
    {
      "cell_type": "code",
      "metadata": {
        "id": "LfAZ9yF8YjHG",
        "colab_type": "code",
        "colab": {}
      },
      "source": [
        "rgb = io.imread('8.png')\n",
        "print(f'Format original de l\\'image {rgb.shape}')\n",
        "plt.imshow(rgb)"
      ],
      "execution_count": null,
      "outputs": []
    }
  ]
}