{
  "nbformat": 4,
  "nbformat_minor": 0,
  "metadata": {
    "colab": {
      "name": "Untitled1.ipynb",
      "provenance": [],
      "authorship_tag": "ABX9TyPBjFMy+yyMNk4A6MmEY9cP",
      "include_colab_link": true
    },
    "kernelspec": {
      "name": "python3",
      "display_name": "Python 3"
    },
    "accelerator": "GPU"
  },
  "cells": [
    {
      "cell_type": "markdown",
      "metadata": {
        "id": "view-in-github",
        "colab_type": "text"
      },
      "source": [
        "<a href=\"https://colab.research.google.com/github/AlexandreBourrieau/ML-F1/blob/master/Carnets%20Jupyter/Ressentis_distilBERT.ipynb\" target=\"_parent\"><img src=\"https://colab.research.google.com/assets/colab-badge.svg\" alt=\"Open In Colab\"/></a>"
      ]
    },
    {
      "cell_type": "markdown",
      "metadata": {
        "id": "LJih03NWtfi0"
      },
      "source": [
        "# **Classification de ressentis avec distilBERT**"
      ]
    },
    {
      "cell_type": "markdown",
      "metadata": {
        "id": "x6Xo1x4rtto8"
      },
      "source": [
        "L'objectif est de créer un modèle qui prend en entrée des commentaires (en Anglais) et attribue à chacun un ressenti positif ou négatif.  \n",
        "Le modèle global est composé de deux parties :  \n",
        "* [DistilBERT](https://huggingface.co/transformers/model_doc/distilbert.html) (une version allégée de BERT) va encoder le commentaire et en extraire des informations qui seront passées ensuite au réseau de neurones.  \n",
        "* Le modèle suivant est un réseau de neurones qui sera créé avec l'API [Keras](https://www.tensorflow.org/guide/keras?hl=fr) de [Tensorflow](https://www.tensorflow.org/?hl=fr).  \n",
        "\n",
        "Nous testerons deux modèles de réseaux de neurones pour traiter les sorties de DistilBERT :  \n",
        "* Un modèle très simple, composé de 2 neurones avec une fonction d'activation Softmax\n",
        "* Un modèle plus complexe, qui sera en fait le même que celui utilisé lors de l'activité avec GloVe\n",
        "\n",
        "<img src=\"https://raw.githubusercontent.com/AlexandreBourrieau/ML-F1/master/Carnets%20Jupyter/Images/StructureBERT.png\" />  \n",
        "  \n",
        "  Les données qui s'échangent entre les deux modèles sont des vecteurs de dimension 768. On peut voir ces vecteurs comme l'équivalent de l'application d'un algorithme de prolongation lexicale sur les mots qui composent le commentaire."
      ]
    },
    {
      "cell_type": "markdown",
      "metadata": {
        "id": "gePh7FotwPTH"
      },
      "source": [
        "# **Installation et importation des librairies**\n"
      ]
    },
    {
      "cell_type": "code",
      "metadata": {
        "id": "g5WrrT_pzIHu",
        "outputId": "86bdab2d-30f8-4698-c046-814fa36f9891",
        "colab": {
          "base_uri": "https://localhost:8080/",
          "height": 104
        }
      },
      "source": [
        "!pip install transformers --quiet"
      ],
      "execution_count": 1,
      "outputs": [
        {
          "output_type": "stream",
          "text": [
            "\u001b[K     |████████████████████████████████| 1.1MB 5.5MB/s \n",
            "\u001b[K     |████████████████████████████████| 890kB 31.4MB/s \n",
            "\u001b[K     |████████████████████████████████| 3.0MB 20.8MB/s \n",
            "\u001b[K     |████████████████████████████████| 1.1MB 32.9MB/s \n",
            "\u001b[?25h  Building wheel for sacremoses (setup.py) ... \u001b[?25l\u001b[?25hdone\n"
          ],
          "name": "stdout"
        }
      ]
    },
    {
      "cell_type": "code",
      "metadata": {
        "id": "L5n4uHtutPlJ"
      },
      "source": [
        "import pandas as pd\n",
        "import numpy as np\n",
        "import tensorflow as tf\n",
        "\n",
        "from tensorflow.keras.layers import Dense, Dropout, Input, Dropout, Lambda, Conv1D, GlobalMaxPooling1D\n",
        "from tensorflow.keras import Sequential\n",
        "from tensorflow.keras.models import Model\n",
        "from tensorflow.keras.optimizers import Adam\n",
        "\n",
        "from sklearn.model_selection import train_test_split\n",
        "\n",
        "from transformers import DistilBertConfig\n",
        "from transformers import TFDistilBertModel\n",
        "from transformers import AutoTokenizer\n",
        "\n",
        "import matplotlib.pyplot as plt\n",
        "\n",
        "import random"
      ],
      "execution_count": 2,
      "outputs": []
    },
    {
      "cell_type": "markdown",
      "metadata": {
        "id": "uWZEaivhxTd2"
      },
      "source": [
        "# **Importation des données**\n",
        "\n",
        "On utilise la librairie pandas pour lire les données depuis le fichier csv disponible sur le site de [standford](https://nlp.stanford.edu/sentiment/index.html) qui contient des commentaires sur des films, chacun d'eux avec une note positive (1) ou négative (0)."
      ]
    },
    {
      "cell_type": "code",
      "metadata": {
        "id": "hOrjCZGyyH4P"
      },
      "source": [
        "df = pd.read_csv('https://raw.githubusercontent.com/AlexandreBourrieau/ML-F1/master/Carnets%20Jupyter/Donn%C3%A9es/train.csv', delimiter='\\t', header=None)"
      ],
      "execution_count": 3,
      "outputs": []
    },
    {
      "cell_type": "markdown",
      "metadata": {
        "id": "xiO-lNQ6zYpU"
      },
      "source": [
        "Affiche quelques informations :"
      ]
    },
    {
      "cell_type": "code",
      "metadata": {
        "id": "uOMoEtbysA5q"
      },
      "source": [
        "def LongueurMax(df):\n",
        "  Lmax = 0\n",
        "  for com in df[0]:\n",
        "    Longueur = len(com)\n",
        "    if Lmax < Longueur:\n",
        "      Lmax = Longueur\n",
        "  return Lmax"
      ],
      "execution_count": 4,
      "outputs": []
    },
    {
      "cell_type": "code",
      "metadata": {
        "id": "FQT1SwyBzPvP",
        "outputId": "a455889c-0a77-4fbd-a3e4-3e516d492d27",
        "colab": {
          "base_uri": "https://localhost:8080/",
          "height": 295
        }
      },
      "source": [
        "print(df[0:10])\n",
        "print(\"Total des données : \", str(len(df)))\n",
        "print(\"Nombre d'avis positifs et négatifs : \",df[1].value_counts())\n",
        "print(\"Longueur maximale d'un commentaire : \",LongueurMax(df))"
      ],
      "execution_count": 5,
      "outputs": [
        {
          "output_type": "stream",
          "text": [
            "                                                   0  1\n",
            "0  a stirring , funny and finally transporting re...  1\n",
            "1  apparently reassembled from the cutting room f...  0\n",
            "2  they presume their audience wo n't sit still f...  0\n",
            "3  this is a visually stunning rumination on love...  1\n",
            "4  jonathan parker 's bartleby should have been t...  1\n",
            "5  campanella gets the tone just right funny in t...  1\n",
            "6  a fan film that for the uninitiated plays bett...  0\n",
            "7  b art and berling are both superb , while hupp...  1\n",
            "8  a little less extreme than in the past , with ...  0\n",
            "9                       the film is strictly routine  0\n",
            "Total des données :  6920\n",
            "Nombre d'avis positifs et négatifs :  1    3610\n",
            "0    3310\n",
            "Name: 1, dtype: int64\n",
            "Longueur maximale d'un commentaire :  271\n"
          ],
          "name": "stdout"
        }
      ]
    },
    {
      "cell_type": "markdown",
      "metadata": {
        "id": "n4Vcm5K3Dej4"
      },
      "source": [
        "# **Préparation des données**\n",
        "\n",
        "# Séparation des données d'entrainement et de test \n",
        "On commence par récupérer 75% des données pour l'entrainement, et le reste pour les tests :"
      ]
    },
    {
      "cell_type": "code",
      "metadata": {
        "id": "XefRRLg2DiQs"
      },
      "source": [
        "MAX = 3000\n",
        "\n",
        "# Chargement des commentaires et des ressentis\n",
        "commentaires = df[0].astype(str).tolist()    # Récupère tous les commentaires dans une liste python\n",
        "ressentis = df[1].tolist()                   # Récupère tous les ressentis dans une liste python\n",
        "labels = np.asarray(ressentis)               # Créé un tableau de type numpy avec les ressentis\n",
        "\n",
        "x_entrainement, x_test, y_entrainement, y_test = train_test_split(commentaires[0:MAX], labels[0:MAX], test_size=0.25)"
      ],
      "execution_count": 39,
      "outputs": []
    },
    {
      "cell_type": "code",
      "metadata": {
        "id": "4tajm9VKu1pg",
        "outputId": "7366b25b-7080-46c9-c6dc-23d70a66fff9",
        "colab": {
          "base_uri": "https://localhost:8080/",
          "height": 52
        }
      },
      "source": [
        "print (\"Nombre de commentaires pour l'entrainement : \", len(x_entrainement))\n",
        "print (\"Nombre de commentaires pour les tests : \", len(x_test))"
      ],
      "execution_count": 40,
      "outputs": [
        {
          "output_type": "stream",
          "text": [
            "Nombre de commentaires pour l'entrainement :  2250\n",
            "Nombre de commentaires pour les tests :  750\n"
          ],
          "name": "stdout"
        }
      ]
    },
    {
      "cell_type": "markdown",
      "metadata": {
        "id": "QDDdUWj83wuz"
      },
      "source": [
        "# Tokénisation  \n",
        "La première étape est de tokéniser les commentaires : les mots sont décomposés en index numériques au format BERT.  \n",
        "\n",
        "<img src=\"https://github.com/AlexandreBourrieau/ML-F1/blob/master/Carnets%20Jupyter/Images/TokenizeBERT.png?raw=true\" />\n",
        "\n",
        "Après tokénisation, on obtient une liste de séquences et chaque séquence représente une liste d'index. On souhaite que BERT analyse toutes les séquences en une seule fois (ce qui est plus rapide). Il faut donc que toutes les séquences aient la même taille. On va donc ajouter du bourrage pour égaliser la longueur des séquences. Cela est indiqué avec le paramètre `padding='True'`.  \n",
        "Lorsque un bourrage est ajouté, il faut que BERT ne prenne pas en compte les mots à cette position (car il n'y en a pas !). Cette restriction est réalisé grace à l'`attention_mask`"
      ]
    },
    {
      "cell_type": "code",
      "metadata": {
        "id": "yHhqUPeiqzam"
      },
      "source": [
        "LONGUEUR_MAX_COMMENTAIRE = LongueurMax(df) + 2\n",
        "\n",
        "# Instanciation du tokeniseur\n",
        "tokenizer = AutoTokenizer.from_pretrained('distilbert-base-uncased')\n",
        "\n",
        "# Préparation des données d'entrainement\n",
        "output_tokenizer_entrainement = tokenizer(x_entrainement,max_length=LONGUEUR_MAX_COMMENTAIRE, padding='max_length', truncation=False, return_tensors='tf',add_special_tokens=True)\n",
        "\n",
        "# Préparation des données de tests\n",
        "output_tokenizer_tests = tokenizer(x_test,max_length=LONGUEUR_MAX_COMMENTAIRE, padding='max_length', truncation=False, return_tensors='tf',add_special_tokens=True)"
      ],
      "execution_count": 41,
      "outputs": []
    },
    {
      "cell_type": "markdown",
      "metadata": {
        "id": "_kwmm53NCihe"
      },
      "source": [
        "Les commentaires sont maintenant tous tokénisés :"
      ]
    },
    {
      "cell_type": "markdown",
      "metadata": {
        "id": "2WVYvpcRChKd"
      },
      "source": [
        "\n",
        "<img src=\"https://raw.githubusercontent.com/AlexandreBourrieau/ML-F1/master/Carnets%20Jupyter/Images/SeparationData2.png\"/>"
      ]
    },
    {
      "cell_type": "markdown",
      "metadata": {
        "id": "kzboG3fX5LkP"
      },
      "source": [
        "Regardons un peu comment sont formatées les données en sortie du tokéniseur :"
      ]
    },
    {
      "cell_type": "code",
      "metadata": {
        "id": "_0BL0iiKzVS7",
        "outputId": "1e3ed6ce-cbca-4ee6-ecf8-b5c509091f79",
        "colab": {
          "base_uri": "https://localhost:8080/",
          "height": 277
        }
      },
      "source": [
        "output_tokenizer_entrainement"
      ],
      "execution_count": 15,
      "outputs": [
        {
          "output_type": "execute_result",
          "data": {
            "text/plain": [
              "{'input_ids': <tf.Tensor: shape=(750, 273), dtype=int32, numpy=\n",
              "array([[ 101, 2138, 1996, ...,    0,    0,    0],\n",
              "       [ 101, 2022, 6072, ...,    0,    0,    0],\n",
              "       [ 101, 2054, 1005, ...,    0,    0,    0],\n",
              "       ...,\n",
              "       [ 101, 1999, 2028, ...,    0,    0,    0],\n",
              "       [ 101, 2012, 2049, ...,    0,    0,    0],\n",
              "       [ 101, 2057, 2131, ...,    0,    0,    0]], dtype=int32)>, 'attention_mask': <tf.Tensor: shape=(750, 273), dtype=int32, numpy=\n",
              "array([[1, 1, 1, ..., 0, 0, 0],\n",
              "       [1, 1, 1, ..., 0, 0, 0],\n",
              "       [1, 1, 1, ..., 0, 0, 0],\n",
              "       ...,\n",
              "       [1, 1, 1, ..., 0, 0, 0],\n",
              "       [1, 1, 1, ..., 0, 0, 0],\n",
              "       [1, 1, 1, ..., 0, 0, 0]], dtype=int32)>}"
            ]
          },
          "metadata": {
            "tags": []
          },
          "execution_count": 15
        }
      ]
    },
    {
      "cell_type": "markdown",
      "metadata": {
        "id": "fejN7ZrzzaOu"
      },
      "source": [
        "Regardons comment le premier commentaire a été encodé :"
      ]
    },
    {
      "cell_type": "code",
      "metadata": {
        "id": "Q-E6oJcG5Qlj",
        "outputId": "29c119ba-2659-4aee-87f4-2e70a0cb0e23",
        "colab": {
          "base_uri": "https://localhost:8080/",
          "height": 627
        }
      },
      "source": [
        "print(\"Commentaire original :\", x_entrainement[0])\n",
        "print(\"input_ids: \", output_tokenizer_entrainement['input_ids'][0])\n",
        "print(\"attention_mask: \", output_tokenizer_entrainement['attention_mask'][0])"
      ],
      "execution_count": 42,
      "outputs": [
        {
          "output_type": "stream",
          "text": [
            "Commentaire original : the delicious trimmings arrive early and stay late , filling nearly every minute with a lighthearted glow , some impudent snickers , and a glorious dose of humankind 's liberating ability to triumph over a scrooge or two\n",
            "input_ids:  tf.Tensor(\n",
            "[  101  1996 12090 12241  6562  2015  7180  2220  1998  2994  2397  1010\n",
            "  8110  3053  2296  3371  2007  1037  2422 27693  8652  1010  2070 17727\n",
            " 12672  3372  1055 13542  2545  1010  1998  1037 14013 13004  1997  2529\n",
            " 18824  1005  1055  5622  5677  5844  3754  2000 10911  2058  1037  8040\n",
            "  3217 23884  2030  2048   102     0     0     0     0     0     0     0\n",
            "     0     0     0     0     0     0     0     0     0     0     0     0\n",
            "     0     0     0     0     0     0     0     0     0     0     0     0\n",
            "     0     0     0     0     0     0     0     0     0     0     0     0\n",
            "     0     0     0     0     0     0     0     0     0     0     0     0\n",
            "     0     0     0     0     0     0     0     0     0     0     0     0\n",
            "     0     0     0     0     0     0     0     0     0     0     0     0\n",
            "     0     0     0     0     0     0     0     0     0     0     0     0\n",
            "     0     0     0     0     0     0     0     0     0     0     0     0\n",
            "     0     0     0     0     0     0     0     0     0     0     0     0\n",
            "     0     0     0     0     0     0     0     0     0     0     0     0\n",
            "     0     0     0     0     0     0     0     0     0     0     0     0\n",
            "     0     0     0     0     0     0     0     0     0     0     0     0\n",
            "     0     0     0     0     0     0     0     0     0     0     0     0\n",
            "     0     0     0     0     0     0     0     0     0     0     0     0\n",
            "     0     0     0     0     0     0     0     0     0     0     0     0\n",
            "     0     0     0     0     0     0     0     0     0     0     0     0\n",
            "     0     0     0     0     0     0     0     0     0     0     0     0\n",
            "     0     0     0     0     0     0     0     0     0], shape=(273,), dtype=int32)\n",
            "attention_mask:  tf.Tensor(\n",
            "[1 1 1 1 1 1 1 1 1 1 1 1 1 1 1 1 1 1 1 1 1 1 1 1 1 1 1 1 1 1 1 1 1 1 1 1 1\n",
            " 1 1 1 1 1 1 1 1 1 1 1 1 1 1 1 1 0 0 0 0 0 0 0 0 0 0 0 0 0 0 0 0 0 0 0 0 0\n",
            " 0 0 0 0 0 0 0 0 0 0 0 0 0 0 0 0 0 0 0 0 0 0 0 0 0 0 0 0 0 0 0 0 0 0 0 0 0\n",
            " 0 0 0 0 0 0 0 0 0 0 0 0 0 0 0 0 0 0 0 0 0 0 0 0 0 0 0 0 0 0 0 0 0 0 0 0 0\n",
            " 0 0 0 0 0 0 0 0 0 0 0 0 0 0 0 0 0 0 0 0 0 0 0 0 0 0 0 0 0 0 0 0 0 0 0 0 0\n",
            " 0 0 0 0 0 0 0 0 0 0 0 0 0 0 0 0 0 0 0 0 0 0 0 0 0 0 0 0 0 0 0 0 0 0 0 0 0\n",
            " 0 0 0 0 0 0 0 0 0 0 0 0 0 0 0 0 0 0 0 0 0 0 0 0 0 0 0 0 0 0 0 0 0 0 0 0 0\n",
            " 0 0 0 0 0 0 0 0 0 0 0 0 0 0], shape=(273,), dtype=int32)\n"
          ],
          "name": "stdout"
        }
      ]
    },
    {
      "cell_type": "markdown",
      "metadata": {
        "id": "xAmGZYP86Hx7"
      },
      "source": [
        "Regardons les 3 premiers résultats de la tokénisation : On peut identifier les mot-clés **[CLS]** (valeur : 101) et **[SEP]** (valeur : 102)"
      ]
    },
    {
      "cell_type": "code",
      "metadata": {
        "id": "WWVaSBqo59qW",
        "outputId": "9bd48dbf-aa56-4977-d819-788b3cdef3b1",
        "colab": {
          "base_uri": "https://localhost:8080/",
          "height": 1000
        }
      },
      "source": [
        "for i in range (0,3):\n",
        "  print(output_tokenizer_entrainement['input_ids'][i])"
      ],
      "execution_count": 20,
      "outputs": [
        {
          "output_type": "stream",
          "text": [
            "tf.Tensor(\n",
            "[  101  2138  1996  2143  9969 14087 19728  1010  2009  2038  1037 10218\n",
            "  6918  4254  2009  3248  2066  1037  3928  3890  3689  2057  1005  2310\n",
            "  5064  2196  2464  2077   102     0     0     0     0     0     0     0\n",
            "     0     0     0     0     0     0     0     0     0     0     0     0\n",
            "     0     0     0     0     0     0     0     0     0     0     0     0\n",
            "     0     0     0     0     0     0     0     0     0     0     0     0\n",
            "     0     0     0     0     0     0     0     0     0     0     0     0\n",
            "     0     0     0     0     0     0     0     0     0     0     0     0\n",
            "     0     0     0     0     0     0     0     0     0     0     0     0\n",
            "     0     0     0     0     0     0     0     0     0     0     0     0\n",
            "     0     0     0     0     0     0     0     0     0     0     0     0\n",
            "     0     0     0     0     0     0     0     0     0     0     0     0\n",
            "     0     0     0     0     0     0     0     0     0     0     0     0\n",
            "     0     0     0     0     0     0     0     0     0     0     0     0\n",
            "     0     0     0     0     0     0     0     0     0     0     0     0\n",
            "     0     0     0     0     0     0     0     0     0     0     0     0\n",
            "     0     0     0     0     0     0     0     0     0     0     0     0\n",
            "     0     0     0     0     0     0     0     0     0     0     0     0\n",
            "     0     0     0     0     0     0     0     0     0     0     0     0\n",
            "     0     0     0     0     0     0     0     0     0     0     0     0\n",
            "     0     0     0     0     0     0     0     0     0     0     0     0\n",
            "     0     0     0     0     0     0     0     0     0     0     0     0\n",
            "     0     0     0     0     0     0     0     0     0], shape=(273,), dtype=int32)\n",
            "tf.Tensor(\n",
            "[  101  2022  6072  3877 19957 21109  1999  2004  2172  8562  2004  4130\n",
            "  2891  2000  2202  2149  2006  2010 23069  4990  1997  1996  2540   102\n",
            "     0     0     0     0     0     0     0     0     0     0     0     0\n",
            "     0     0     0     0     0     0     0     0     0     0     0     0\n",
            "     0     0     0     0     0     0     0     0     0     0     0     0\n",
            "     0     0     0     0     0     0     0     0     0     0     0     0\n",
            "     0     0     0     0     0     0     0     0     0     0     0     0\n",
            "     0     0     0     0     0     0     0     0     0     0     0     0\n",
            "     0     0     0     0     0     0     0     0     0     0     0     0\n",
            "     0     0     0     0     0     0     0     0     0     0     0     0\n",
            "     0     0     0     0     0     0     0     0     0     0     0     0\n",
            "     0     0     0     0     0     0     0     0     0     0     0     0\n",
            "     0     0     0     0     0     0     0     0     0     0     0     0\n",
            "     0     0     0     0     0     0     0     0     0     0     0     0\n",
            "     0     0     0     0     0     0     0     0     0     0     0     0\n",
            "     0     0     0     0     0     0     0     0     0     0     0     0\n",
            "     0     0     0     0     0     0     0     0     0     0     0     0\n",
            "     0     0     0     0     0     0     0     0     0     0     0     0\n",
            "     0     0     0     0     0     0     0     0     0     0     0     0\n",
            "     0     0     0     0     0     0     0     0     0     0     0     0\n",
            "     0     0     0     0     0     0     0     0     0     0     0     0\n",
            "     0     0     0     0     0     0     0     0     0     0     0     0\n",
            "     0     0     0     0     0     0     0     0     0], shape=(273,), dtype=int32)\n",
            "tf.Tensor(\n",
            "[  101  2054  1005  1055  2087  5805  2003  1050  1005  1056  1996  5949\n",
            "  1997  1037  2204  3459  1010  2021  1996  2143  1005  1055 14920  1997\n",
            " 18006  9940  1998 16236  1999  5684  1997 22132  2271  6259  2964   102\n",
            "     0     0     0     0     0     0     0     0     0     0     0     0\n",
            "     0     0     0     0     0     0     0     0     0     0     0     0\n",
            "     0     0     0     0     0     0     0     0     0     0     0     0\n",
            "     0     0     0     0     0     0     0     0     0     0     0     0\n",
            "     0     0     0     0     0     0     0     0     0     0     0     0\n",
            "     0     0     0     0     0     0     0     0     0     0     0     0\n",
            "     0     0     0     0     0     0     0     0     0     0     0     0\n",
            "     0     0     0     0     0     0     0     0     0     0     0     0\n",
            "     0     0     0     0     0     0     0     0     0     0     0     0\n",
            "     0     0     0     0     0     0     0     0     0     0     0     0\n",
            "     0     0     0     0     0     0     0     0     0     0     0     0\n",
            "     0     0     0     0     0     0     0     0     0     0     0     0\n",
            "     0     0     0     0     0     0     0     0     0     0     0     0\n",
            "     0     0     0     0     0     0     0     0     0     0     0     0\n",
            "     0     0     0     0     0     0     0     0     0     0     0     0\n",
            "     0     0     0     0     0     0     0     0     0     0     0     0\n",
            "     0     0     0     0     0     0     0     0     0     0     0     0\n",
            "     0     0     0     0     0     0     0     0     0     0     0     0\n",
            "     0     0     0     0     0     0     0     0     0     0     0     0\n",
            "     0     0     0     0     0     0     0     0     0], shape=(273,), dtype=int32)\n"
          ],
          "name": "stdout"
        }
      ]
    },
    {
      "cell_type": "markdown",
      "metadata": {
        "id": "Vakqzatl3le0"
      },
      "source": [
        "# **Définition et utilisation du modèle distilBERT avec Keras**"
      ]
    },
    {
      "cell_type": "markdown",
      "metadata": {
        "id": "uE_TEftF1OCf"
      },
      "source": [
        "Les données d'entrées étant maintenant correctement préparées, commençons par définir le modèle distilBERT pour ensuite l'appliquer aux données afin de réaliser l'opération de prolongation lexicale.  \n",
        "\n",
        "<img src=\"https://raw.githubusercontent.com/AlexandreBourrieau/ML-F1/master/Carnets%20Jupyter/Images/distilBERT_process.png\" style=\"width: 600px;\"/>."
      ]
    },
    {
      "cell_type": "code",
      "metadata": {
        "id": "38a0wigo18Zg",
        "outputId": "a7f6b2ce-99ba-478f-8cc4-a2a7a2b63c17",
        "colab": {
          "base_uri": "https://localhost:8080/",
          "height": 384
        }
      },
      "source": [
        "# Configuration du modèle distilBERT\n",
        "config = DistilBertConfig(num_labels=2)             # 2 labels en sortie\n",
        "\n",
        "# Instanciation du modèle distilBERT\n",
        "transformer_model = TFDistilBertModel.from_pretrained('distilbert-base-uncased', config = config)\n",
        "\n",
        "# Défintion du format des entrées du modèle\n",
        "entrees_ids = tf.keras.layers.Input(shape=(LONGUEUR_MAX_COMMENTAIRE,), name='input_token', dtype='int32')\n",
        "entrees_masks = tf.keras.layers.Input(shape=(LONGUEUR_MAX_COMMENTAIRE,), name='masked_token', dtype='int32') \n",
        "\n",
        "# Création de la sortie du modèle\n",
        "sortie_distilBERT = transformer_model([entrees_ids,entrees_masks])\n",
        "\n",
        "# Instanciation du modèle avec Keras\n",
        "model_distilBERT = tf.keras.Model(inputs=[entrees_ids, entrees_masks], outputs = sortie_distilBERT,trainable=False)\n",
        "model_distilBERT.summary()"
      ],
      "execution_count": 43,
      "outputs": [
        {
          "output_type": "stream",
          "text": [
            "Some weights of the model checkpoint at distilbert-base-uncased were not used when initializing TFDistilBertModel: ['activation_13', 'vocab_projector', 'vocab_layer_norm', 'vocab_transform']\n",
            "- This IS expected if you are initializing TFDistilBertModel from the checkpoint of a model trained on another task or with another architecture (e.g. initializing a BertForSequenceClassification model from a BertForPretraining model).\n",
            "- This IS NOT expected if you are initializing TFDistilBertModel from the checkpoint of a model that you expect to be exactly identical (initializing a BertForSequenceClassification model from a BertForSequenceClassification model).\n",
            "All the weights of TFDistilBertModel were initialized from the model checkpoint at distilbert-base-uncased.\n",
            "If your task is similar to the task the model of the checkpoint was trained on, you can already use TFDistilBertModel for predictions without further training.\n"
          ],
          "name": "stderr"
        },
        {
          "output_type": "stream",
          "text": [
            "Model: \"functional_5\"\n",
            "__________________________________________________________________________________________________\n",
            "Layer (type)                    Output Shape         Param #     Connected to                     \n",
            "==================================================================================================\n",
            "input_token (InputLayer)        [(None, 273)]        0                                            \n",
            "__________________________________________________________________________________________________\n",
            "masked_token (InputLayer)       [(None, 273)]        0                                            \n",
            "__________________________________________________________________________________________________\n",
            "tf_distil_bert_model_3 (TFDisti ((None, 273, 768),)  66362880    input_token[0][0]                \n",
            "                                                                 masked_token[0][0]               \n",
            "==================================================================================================\n",
            "Total params: 66,362,880\n",
            "Trainable params: 0\n",
            "Non-trainable params: 66,362,880\n",
            "__________________________________________________________________________________________________\n"
          ],
          "name": "stdout"
        }
      ]
    },
    {
      "cell_type": "markdown",
      "metadata": {
        "id": "z9vwylPK8B2d"
      },
      "source": [
        "Pour chaque commentaire en entrée, la sortie du modèle distilBERT est un vecteur de dimension MAX_SEQUENCE_LENGTH :\n",
        "* Il y a au maximum MAX_SEQUENCE_LENGTH mots dans chaque commentaire\n",
        "* Il y a un vecteur en sortie du modèle par mot dans chaque commentaire\n",
        "* Le vecteur qui code chaque mot est de dimension 768"
      ]
    },
    {
      "cell_type": "markdown",
      "metadata": {
        "id": "84jTmbNS9och"
      },
      "source": [
        "Vérifions cela en regardant le format de la sortie du modèle :"
      ]
    },
    {
      "cell_type": "code",
      "metadata": {
        "id": "SRyx0t5z5_zY",
        "outputId": "f37fbf66-ccfe-47af-adad-1ea706657040",
        "colab": {
          "base_uri": "https://localhost:8080/",
          "height": 35
        }
      },
      "source": [
        "sortie_distilBERT"
      ],
      "execution_count": 30,
      "outputs": [
        {
          "output_type": "execute_result",
          "data": {
            "text/plain": [
              "(<tf.Tensor 'tf_distil_bert_model_1/distilbert/transformer/layer_._5/output_layer_norm/batchnorm/add_1:0' shape=(None, 273, 768) dtype=float32>,)"
            ]
          },
          "metadata": {
            "tags": []
          },
          "execution_count": 30
        }
      ]
    },
    {
      "cell_type": "markdown",
      "metadata": {
        "id": "RDYf-Owpwk4Q"
      },
      "source": [
        "La fonction `predict()` permet d'exécuter le modèle sur les séquences d'entrées"
      ]
    },
    {
      "cell_type": "code",
      "metadata": {
        "id": "l-NlEgWUxehg",
        "outputId": "1c303436-5787-4351-b3f1-3e77a5d99fe7",
        "colab": {
          "base_uri": "https://localhost:8080/",
          "height": 35
        }
      },
      "source": [
        "sortie_vecteurs_distilBERT = model_distilBERT.predict(\n",
        "    [output_tokenizer_entrainement['input_ids'][0:2],\n",
        "     output_tokenizer_entrainement['attention_mask'][0:2]]\n",
        "     ,verbose=1)"
      ],
      "execution_count": 28,
      "outputs": [
        {
          "output_type": "stream",
          "text": [
            "1/1 [==============================] - 0s 3ms/step\n"
          ],
          "name": "stdout"
        }
      ]
    },
    {
      "cell_type": "markdown",
      "metadata": {
        "id": "nr1pLKgsCwMP"
      },
      "source": [
        "Regardons à quoi ressemble la sortie de distilBERT :"
      ]
    },
    {
      "cell_type": "markdown",
      "metadata": {
        "id": "M2EaziuPDIsO"
      },
      "source": [
        "\n",
        "<img src=\"https://raw.githubusercontent.com/AlexandreBourrieau/ML-F1/master/Carnets%20Jupyter/Images/distilBERT_process.png\" style=\"width: 600px;\"/>."
      ]
    },
    {
      "cell_type": "code",
      "metadata": {
        "id": "8aRQgN8AxmZ0"
      },
      "source": [
        "sortie_vecteurs_distilBERT"
      ],
      "execution_count": null,
      "outputs": []
    },
    {
      "cell_type": "markdown",
      "metadata": {
        "id": "Ti2mW-uFC1rV"
      },
      "source": [
        "Regardons par exemple le vecteur de dimension 768, résultant de l'encodage du [CLS] du premier commentaire : "
      ]
    },
    {
      "cell_type": "code",
      "metadata": {
        "id": "ps4Rp9g5x7sU",
        "outputId": "9706bbd1-36e0-46a6-fa0f-bee41804f472",
        "colab": {
          "base_uri": "https://localhost:8080/",
          "height": 1000
        }
      },
      "source": [
        "sortie_vecteurs_distilBERT[0][0][0]"
      ],
      "execution_count": 31,
      "outputs": [
        {
          "output_type": "execute_result",
          "data": {
            "text/plain": [
              "array([ 9.40778479e-02, -1.26441009e-02, -1.06442824e-01, -8.10394436e-02,\n",
              "       -2.55053379e-02, -1.74454316e-01,  2.16101870e-01,  6.55390024e-02,\n",
              "       -1.45144016e-01, -2.44917329e-02,  1.09214537e-01,  1.13456123e-01,\n",
              "       -2.62949020e-02,  4.89590347e-01,  1.31486267e-01,  2.17394009e-01,\n",
              "       -7.33401403e-02,  5.83949462e-02,  1.56819478e-01, -2.04139814e-01,\n",
              "       -2.47634560e-01, -2.05340266e-01,  1.95729613e-01,  1.57646403e-01,\n",
              "       -1.30162627e-01, -4.70334962e-02, -3.05111986e-03, -1.94609258e-02,\n",
              "        5.70351519e-02,  1.03090517e-01,  8.76417160e-02, -9.83348265e-02,\n",
              "       -2.81133860e-01, -1.65928617e-01, -6.29881863e-03, -2.74495274e-01,\n",
              "       -8.59423429e-02,  5.13489619e-02,  5.55354916e-03, -1.05958730e-01,\n",
              "        8.28593969e-02,  9.57126766e-02,  1.93080142e-01, -1.39120311e-01,\n",
              "       -1.21283948e-01, -8.73560160e-02, -2.53488231e+00, -6.26704469e-02,\n",
              "       -2.59308755e-01, -1.72726512e-01,  2.26712152e-01,  9.93750244e-02,\n",
              "        2.77041674e-01,  2.36629397e-01,  3.16348791e-01,  2.61005312e-01,\n",
              "       -3.30050826e-01,  3.06355476e-01, -7.97615796e-02,  1.12619102e-02,\n",
              "        2.08898067e-01, -5.03430776e-02,  1.44809291e-01, -1.99255452e-01,\n",
              "       -7.81200081e-02,  1.17433071e-01, -2.86324276e-03, -4.94594201e-02,\n",
              "       -1.10420518e-01,  3.96525145e-01, -2.10205585e-01, -1.62726909e-01,\n",
              "        1.52083993e-01, -3.09866033e-02,  2.11518109e-02, -1.83879435e-01,\n",
              "        3.69603336e-02,  3.09390843e-01, -2.61220276e-01,  1.05100162e-01,\n",
              "        1.41269594e-01,  1.41140431e-01,  1.92621246e-01,  1.41599417e-01,\n",
              "       -1.56284794e-01,  5.23248911e-02,  1.24631271e-01, -2.62982659e-02,\n",
              "        2.44477391e-01,  3.31257164e-01, -3.85081530e-01, -1.42757684e-01,\n",
              "       -6.69570789e-02,  2.05610618e-01,  3.57431054e-01, -3.29047054e-01,\n",
              "        1.81994557e-01,  3.49867493e-02,  2.95057833e-01,  2.60524035e-01,\n",
              "        2.58809477e-01, -1.49668634e-01,  1.55579709e-02, -4.89185691e-01,\n",
              "       -3.20136808e-02, -7.37437457e-02,  1.60454318e-01, -2.12377101e-01,\n",
              "       -2.04647202e-02, -2.51392317e+00,  3.39595914e-01,  3.21311414e-01,\n",
              "       -1.36334240e-01, -2.62023717e-01, -2.43432224e-01,  1.56357050e-01,\n",
              "        5.81049472e-02, -2.17586264e-01, -1.53375790e-01,  3.98767516e-02,\n",
              "       -8.87690410e-02,  4.32357132e-01, -2.13256463e-01, -1.12973802e-01,\n",
              "       -1.98345687e-02,  3.17455411e-01,  9.19507295e-02, -2.66108513e-02,\n",
              "        5.82700633e-02,  2.04448372e-01,  2.21729934e-01,  3.80947322e-01,\n",
              "       -2.61418335e-03, -9.57927257e-02, -3.90273899e-01,  1.51998907e-01,\n",
              "        3.56226146e-01, -6.81796074e-02, -2.19410762e-01,  8.96367356e-02,\n",
              "       -2.91658938e-01, -2.07789943e-01, -2.93860054e+00,  4.32043761e-01,\n",
              "        5.13098359e-01,  8.14134330e-02,  1.29998282e-01,  2.95934509e-02,\n",
              "        1.34441853e-02, -1.24920800e-01,  1.58912644e-01,  2.34114304e-02,\n",
              "       -1.02801442e-01, -1.14746019e-01, -2.51659542e-01,  2.63364241e-02,\n",
              "       -1.09310560e-01, -3.58306840e-02,  2.95175970e-01,  7.77690113e-02,\n",
              "        2.99231857e-01, -1.23994134e-01,  9.53917801e-02, -1.77571818e-01,\n",
              "       -2.62779184e-03,  7.77912699e-03,  2.64333814e-01,  1.41527295e-01,\n",
              "        3.98145095e-02, -3.25580761e-02,  5.97921424e-02,  8.04615021e-02,\n",
              "        3.03159446e-01, -1.79110080e-01,  1.23559892e-01,  2.16655694e-02,\n",
              "       -1.47356987e-01,  3.20194393e-01,  4.92422804e-02, -9.30753499e-02,\n",
              "       -1.76960528e-01,  4.14298266e-01,  4.65490744e-02,  8.86684284e-02,\n",
              "        8.18672180e-02, -9.23803635e-03,  2.16493011e-02, -2.35678479e-01,\n",
              "       -1.11394599e-01,  1.50517434e-01, -2.11489908e-02, -1.40212387e-01,\n",
              "       -1.15950868e-01, -2.23728120e-01,  3.23335737e-01,  6.13667816e-03,\n",
              "        7.98601285e-02, -3.54228079e-01,  1.59683272e-01,  1.88722342e-01,\n",
              "       -1.60297364e-01, -1.38550162e-01, -7.69058242e-02,  1.41852111e-01,\n",
              "       -1.76601440e-01,  3.47080135e+00,  9.68718380e-02,  1.41318113e-01,\n",
              "        1.73462600e-01,  5.80529217e-03,  4.58393842e-02, -1.04135424e-01,\n",
              "        2.55635716e-02, -3.94351501e-03,  4.24765199e-02,  1.04891181e-01,\n",
              "        2.67476737e-02, -9.55799222e-02,  8.65164846e-02, -1.08280778e-01,\n",
              "        1.68465167e-01,  2.16370285e-01,  1.18641309e-01,  8.12104940e-02,\n",
              "       -1.45763740e-01,  1.78319156e-01, -1.02481455e-01,  1.58537239e-01,\n",
              "        1.85627609e-01, -1.15284514e+00,  5.82584515e-02,  1.47551540e-02,\n",
              "       -3.20222259e-01,  2.11653382e-01, -2.37382382e-01, -1.50912881e-01,\n",
              "       -5.99354506e-03, -4.73247319e-02,  9.47155058e-02,  2.50185095e-03,\n",
              "       -3.31567749e-02,  8.99908394e-02,  5.14036939e-02,  2.87399292e-01,\n",
              "       -1.57737061e-02,  1.07604071e-01,  2.57030517e-01, -1.27195045e-01,\n",
              "        1.85866728e-02,  3.22674587e-02,  6.00131005e-02, -5.47188446e-02,\n",
              "        6.44842237e-02, -7.74582401e-02,  1.82565510e-01,  1.28281474e-01,\n",
              "        3.20046991e-02, -1.25852779e-01, -3.60095501e-02, -2.31293604e-01,\n",
              "       -2.41567016e-01, -2.95629073e-02,  7.42185861e-02,  4.32989374e-02,\n",
              "       -5.49867392e-01, -1.35794476e-01, -4.02297080e-02, -2.85793424e-01,\n",
              "        1.37372725e-02,  7.03262687e-02, -2.31869280e-01, -4.27675545e-02,\n",
              "       -3.72476876e-01, -3.58165240e+00, -7.22052669e-03,  8.51830244e-02,\n",
              "        2.71767467e-01,  2.53065199e-01, -4.47612964e-02,  1.32972285e-01,\n",
              "        1.10584863e-01,  2.05739662e-01, -2.21310213e-01,  1.86861187e-01,\n",
              "        1.64263695e-01, -5.90566248e-02,  2.19729140e-01, -3.91480744e-01,\n",
              "        3.68687928e-01,  4.04938236e-02, -2.29558527e-01,  6.29794151e-02,\n",
              "       -1.36992082e-01, -1.81251809e-01,  9.10344869e-02, -7.47640282e-02,\n",
              "        9.74708274e-02, -5.07258624e-02, -5.42065734e-03, -9.61616188e-02,\n",
              "       -3.93747687e-01,  1.65018618e-01,  1.60693973e-01, -6.27977103e-02,\n",
              "       -7.49044046e-02,  3.71612400e-01, -1.29866570e-01, -7.82386139e-02,\n",
              "       -2.91455293e+00,  7.17195123e-02, -8.74125287e-02, -5.31933159e-02,\n",
              "        1.32973641e-01, -1.97684765e-01,  2.14194864e-01, -1.28101230e-01,\n",
              "       -2.14252636e-01, -4.87757027e-02,  1.10524051e-01, -3.74791622e-02,\n",
              "       -6.64572269e-02,  3.49997520e-01,  1.51391834e-01, -1.14773259e-01,\n",
              "        1.51795447e-02,  2.24436820e-02, -4.02871706e-02,  2.49092177e-01,\n",
              "       -3.97484750e-02, -1.14003964e-01, -7.71853328e-02, -1.62685364e-02,\n",
              "       -2.47845761e-02,  4.21586871e-01, -6.33587182e-01, -3.70954983e-02,\n",
              "       -2.14820027e-01, -2.32586786e-01, -1.14316747e-01, -4.04936492e-01,\n",
              "       -2.91037727e-02, -1.06244981e-01, -9.24662724e-02, -1.16327986e-01,\n",
              "       -5.69148324e-02,  7.36056417e-02,  2.83798367e-01,  8.58008396e-04,\n",
              "       -3.24596971e-01,  5.67915678e-01, -8.89655203e-04,  2.36881971e-01,\n",
              "        3.75235081e-01,  6.49307817e-02,  2.04239756e-01, -3.55767697e-01,\n",
              "        7.60537311e-02,  1.59711361e-01,  6.40300512e-02,  3.08779925e-01,\n",
              "        1.14671063e+00, -1.26246363e-03,  1.74876720e-01, -1.45494133e-01,\n",
              "        3.22716415e-01, -1.32285967e-01, -1.02141015e-02,  3.39672387e-01,\n",
              "        2.11632490e-01, -8.17999542e-02,  2.31248900e-01, -2.51085460e-02,\n",
              "        6.88565299e-02, -2.37043038e-01,  3.16769749e-01, -1.95239305e-01,\n",
              "        1.34516843e-02, -1.11244693e-01, -7.83832148e-02,  2.47921273e-01,\n",
              "        6.77959919e-02, -6.07535839e-01, -2.11985558e-01, -8.53129625e-02,\n",
              "       -6.42236471e-02,  8.39617774e-02, -1.35214984e-01,  1.42017633e-01,\n",
              "       -2.80208617e-01,  2.36700550e-01,  3.95937711e-02,  3.44562531e-03,\n",
              "       -1.26875192e-01,  1.04752526e-01, -1.36280626e-01,  2.72703916e-01,\n",
              "       -2.50228196e-01,  2.41043493e-02,  9.90136787e-02,  2.69951969e-01,\n",
              "        3.33240703e-02,  1.89302534e-01, -1.05124429e-01,  1.60922855e-03,\n",
              "        2.55536944e-01, -6.20059192e-01,  2.10338593e-01, -1.01350643e-01,\n",
              "       -9.82347280e-02, -3.58010322e-01, -1.49616241e-01, -7.32936412e-02,\n",
              "       -2.60221928e-01, -2.50846654e-01,  2.00003870e-02,  5.16050994e-01,\n",
              "       -4.92688157e-02, -5.91764227e-03,  6.56992942e-03,  1.38949051e-01,\n",
              "        3.85844931e-02, -1.90451831e-01,  1.01033819e+00, -8.07869434e-02,\n",
              "        1.53271198e-01,  1.74384952e-01, -7.57468343e-02,  1.50938332e-01,\n",
              "        2.37584025e-01,  3.87842879e-02, -7.32873157e-02,  1.89209998e-01,\n",
              "       -2.82610238e-01, -5.80373853e-02,  1.14312777e-02, -2.79993892e-01,\n",
              "       -3.70225966e-01, -1.39470696e-02,  6.02384172e-02, -4.10707481e-02,\n",
              "       -3.80432159e-02, -4.45907921e-01, -6.30412102e-02, -3.45063955e-01,\n",
              "       -8.60785320e-02,  2.06043631e-01,  5.58628030e-02,  2.32139658e-02,\n",
              "        5.00308394e-01,  1.14175744e-01, -4.51467410e-02,  3.39447081e-01,\n",
              "       -4.81748804e-02,  1.41055301e-01,  5.96007705e-02,  2.04443663e-01,\n",
              "       -3.62202246e-03,  2.03335345e-01,  3.42865705e-01,  5.16239554e-03,\n",
              "       -5.71448542e-03, -1.81612492e-01,  7.68327415e-02,  2.21010953e-01,\n",
              "        1.38650805e-01,  1.00186825e-01, -1.70475096e-02,  8.70785043e-02,\n",
              "        3.89696717e-01,  2.96254337e-01, -1.45521688e+00,  1.38387531e-01,\n",
              "        1.20830454e-01, -1.45272493e-01,  7.98766315e-02, -2.62816250e-01,\n",
              "       -9.00277197e-02,  3.53595018e-01,  7.75535554e-02, -2.01162510e-02,\n",
              "        2.11881101e-02, -1.15821995e-01, -2.26074029e-02, -3.60500813e-02,\n",
              "       -3.88372242e-02,  1.28546590e-02,  1.60217881e-01,  1.76985532e-01,\n",
              "        1.45516112e-01,  2.70110928e-02, -1.94246203e-01,  2.46019304e-01,\n",
              "        8.55195373e-02, -1.28647074e-01, -2.50317156e-01, -1.83242075e-02,\n",
              "       -2.40811899e-01,  1.29131526e-01,  9.68380943e-02,  1.57873169e-01,\n",
              "        1.57104880e-01, -4.04817820e-01, -4.67571974e-01, -1.17287390e-01,\n",
              "        3.18863615e-03, -1.66307509e-01,  3.56729180e-02,  1.13324329e-01,\n",
              "        2.28495225e-01,  2.93018341e-01, -3.50453943e-01,  2.68009067e-01,\n",
              "        2.12926105e-01, -4.32725027e-02,  5.04608870e-01,  1.21635601e-01,\n",
              "       -7.89780542e-03,  2.66811937e-01, -1.25627726e-01, -1.92797348e-01,\n",
              "       -4.12748717e-02, -7.94042349e-02,  1.36147231e-01,  7.32347369e-02,\n",
              "        1.19478665e-01, -9.37952772e-02,  6.60947412e-02,  2.84859955e-01,\n",
              "       -1.64720491e-02, -1.99793667e-01,  1.78468078e-01, -2.51534045e-01,\n",
              "       -2.35773161e-01,  1.42618030e-01, -2.85782456e-01, -7.57574022e-01,\n",
              "       -1.46111801e-01, -4.28888798e-02, -1.04327954e-01, -3.24536711e-02,\n",
              "        2.99172550e-01, -1.68737173e-02, -2.73676813e-01, -2.33332999e-02,\n",
              "       -1.09766051e-01,  1.18643366e-01, -6.58081174e-02,  2.30881959e-01,\n",
              "        7.87885487e-02,  5.00812903e-02,  3.50702345e-01,  7.92966932e-02,\n",
              "       -5.37942946e-02,  2.74171710e-01, -1.94371179e-01, -5.89021705e-02,\n",
              "       -3.72137487e-01, -1.27457231e-01, -1.80536211e-01,  8.60254094e-03,\n",
              "       -2.51623958e-01, -2.57318825e-01,  2.20921963e-01, -5.58174737e-02,\n",
              "        1.97858796e-01,  1.72570087e-02,  1.53120250e-01, -5.27159013e-02,\n",
              "       -3.41652483e-02, -1.88752204e-01, -6.03295416e-02, -1.70366243e-02,\n",
              "        2.06830874e-01,  1.79105818e-01,  1.15085647e-01,  2.21467108e-01,\n",
              "        3.00732642e-01,  8.85433257e-02, -3.89140427e-01,  4.43608575e-02,\n",
              "        5.95987141e-02, -3.39917988e-02,  8.26248303e-02,  7.54354894e-02,\n",
              "        7.70939961e-02, -1.07279181e-01, -8.99662971e-02, -3.08988392e-01,\n",
              "        2.33933401e+00,  4.89144325e-01, -1.34333596e-02, -1.05513014e-01,\n",
              "        3.29282209e-02, -5.55510148e-02, -8.80767405e-02,  1.38435274e-01,\n",
              "        4.76182774e-02,  2.78827727e-01,  2.11577956e-02, -5.78797311e-02,\n",
              "       -3.16163264e-02,  6.30891547e-02,  2.30393618e-01, -1.72858164e-01,\n",
              "        2.13469192e-02, -9.12035108e-02, -5.36108851e-01,  5.31426258e-02,\n",
              "       -4.92621243e-01, -2.09597200e-02,  4.46362421e-02, -3.23292911e-01,\n",
              "       -1.25005975e-01, -4.06478681e-02,  1.52254149e-01, -9.08480510e-02,\n",
              "        3.17652635e-02,  4.18972135e-01,  5.86724281e-02,  2.11313456e-01,\n",
              "        5.90312853e-02,  2.44740993e-01, -1.20595634e-01,  5.03680259e-02,\n",
              "        1.97290719e-01, -2.06550676e-02,  9.91405323e-02,  6.69526588e-03,\n",
              "       -3.36369127e-03, -2.87278026e-01,  2.60193378e-01, -2.83691704e-01,\n",
              "        1.47603661e-01,  4.61632729e-01,  1.41054749e-01, -1.79462761e-01,\n",
              "        4.04110029e-02,  2.19238967e-01,  5.23676127e-02, -1.46095842e-01,\n",
              "       -1.34924680e-01,  1.67447016e-01, -1.81598172e-01, -1.73830129e-02,\n",
              "       -4.39169072e-02,  2.31285188e-02,  9.61784646e-02,  9.77214724e-02,\n",
              "       -1.73714548e-01,  7.51880333e-02,  4.63125288e-01,  8.79280642e-02,\n",
              "        6.97742924e-02, -1.06290817e-01, -6.39404207e-02,  2.26999953e-01,\n",
              "       -8.87320191e-02, -2.52369046e-01,  5.64089343e-02,  3.12837958e-01,\n",
              "        3.56805235e-01,  1.34525269e-01,  4.59547639e-01,  9.16432142e-02,\n",
              "        2.10040957e-01,  7.12798014e-02, -7.78888464e-02, -2.58579040e+00,\n",
              "        9.73879732e-03,  1.19671457e-01,  2.69876987e-01,  1.13043934e-01,\n",
              "        3.20842177e-01,  2.36737922e-01, -3.04609276e-02, -4.45845723e-03,\n",
              "       -9.01183710e-02,  1.10168234e-01,  2.74126023e-01,  2.77277827e-01,\n",
              "        1.61720559e-01,  8.95056874e-04,  2.27681249e-01,  2.05306113e-01,\n",
              "       -7.00560883e-02, -7.55724609e-02,  1.73319262e-02, -5.81469908e-02,\n",
              "        1.69124156e-01,  1.07155621e-01, -1.89558059e-01, -2.41382703e-01,\n",
              "       -1.24126254e-02, -2.65792757e-02, -3.73273529e-03,  2.48103783e-01,\n",
              "        3.07777226e-01, -2.01984555e-01,  3.73942733e-01, -3.77702355e-01,\n",
              "       -8.47491622e-02,  2.50722885e-01, -1.62630320e-01, -2.11014692e-02,\n",
              "        3.80561873e-03,  4.91814092e-02, -1.47490516e-01, -1.02472395e-01,\n",
              "        4.01449978e-01, -4.59244587e-02, -2.11866111e-01,  1.01666287e-01,\n",
              "       -2.52193883e-02,  3.87119621e-01, -2.81265140e-01,  2.51285911e-01,\n",
              "       -2.54783660e-01, -5.11306301e-02,  1.72048464e-01, -3.54055017e-02,\n",
              "        4.46070135e-02,  1.87076390e-01,  4.59823273e-02,  1.83367953e-02,\n",
              "        1.00881770e-01,  9.04553682e-02, -7.66917244e-02, -1.63286626e-01,\n",
              "        7.43057132e-02,  5.09340614e-02,  2.40912773e-02,  3.08422856e-02,\n",
              "       -1.72406614e-01, -1.31776243e-01,  1.14764415e-01, -2.69271016e-01,\n",
              "       -1.04036536e-02, -1.20121971e-01, -7.54036754e-02,  1.85936555e-01,\n",
              "        4.16793749e-02,  1.53920308e-01,  8.01949427e-02,  2.15130627e-01,\n",
              "        4.14599866e-01,  9.86717865e-02, -1.31350756e-03, -1.36448026e-01,\n",
              "       -2.95502245e-01,  4.85612750e-02,  1.66136734e-02,  1.53735373e-03,\n",
              "       -7.15434074e+00, -3.79271954e-01, -1.31869316e-01,  8.65855813e-02,\n",
              "        5.01063764e-02, -5.47398701e-02, -3.60213369e-02, -2.66354978e-01,\n",
              "       -2.72462647e-02, -2.00637225e-02, -1.60626203e-01,  8.06833506e-02,\n",
              "        1.50972977e-01, -8.31654370e-02,  4.00875598e-01,  3.93915772e-01],\n",
              "      dtype=float32)"
            ]
          },
          "metadata": {
            "tags": []
          },
          "execution_count": 31
        }
      ]
    },
    {
      "cell_type": "markdown",
      "metadata": {
        "id": "D0RqMRY1o4Gl"
      },
      "source": [
        "Exécutons maintenant distilBERT sur les 10 premiers commentaires afin de regarder le format des sorties obtenues :"
      ]
    },
    {
      "cell_type": "code",
      "metadata": {
        "id": "U_nAKA85o_Fm",
        "outputId": "e093a385-5f71-4483-dc10-c4041928a2c6",
        "colab": {
          "base_uri": "https://localhost:8080/",
          "height": 693
        }
      },
      "source": [
        "sortie_vecteurs_distilBERT = model_distilBERT.predict(\n",
        "    [output_tokenizer_entrainement['input_ids'][0:10],\n",
        "     output_tokenizer_entrainement['attention_mask'][0:10]]\n",
        "     ,verbose=1)\n",
        "print(\"Commentaire :\", commentaires[1])\n",
        "print(\"input_ids\", output_tokenizer_entrainement['input_ids'][1])\n",
        "print(\"Sortie BERT\", sortie_vecteurs_distilBERT[0][:,0,:])"
      ],
      "execution_count": 33,
      "outputs": [
        {
          "output_type": "stream",
          "text": [
            "1/1 [==============================] - 0s 7ms/step\n",
            "Commentaire : apparently reassembled from the cutting room floor of any given daytime soap\n",
            "input_ids tf.Tensor(\n",
            "[  101  2022  6072  3877 19957 21109  1999  2004  2172  8562  2004  4130\n",
            "  2891  2000  2202  2149  2006  2010 23069  4990  1997  1996  2540   102\n",
            "     0     0     0     0     0     0     0     0     0     0     0     0\n",
            "     0     0     0     0     0     0     0     0     0     0     0     0\n",
            "     0     0     0     0     0     0     0     0     0     0     0     0\n",
            "     0     0     0     0     0     0     0     0     0     0     0     0\n",
            "     0     0     0     0     0     0     0     0     0     0     0     0\n",
            "     0     0     0     0     0     0     0     0     0     0     0     0\n",
            "     0     0     0     0     0     0     0     0     0     0     0     0\n",
            "     0     0     0     0     0     0     0     0     0     0     0     0\n",
            "     0     0     0     0     0     0     0     0     0     0     0     0\n",
            "     0     0     0     0     0     0     0     0     0     0     0     0\n",
            "     0     0     0     0     0     0     0     0     0     0     0     0\n",
            "     0     0     0     0     0     0     0     0     0     0     0     0\n",
            "     0     0     0     0     0     0     0     0     0     0     0     0\n",
            "     0     0     0     0     0     0     0     0     0     0     0     0\n",
            "     0     0     0     0     0     0     0     0     0     0     0     0\n",
            "     0     0     0     0     0     0     0     0     0     0     0     0\n",
            "     0     0     0     0     0     0     0     0     0     0     0     0\n",
            "     0     0     0     0     0     0     0     0     0     0     0     0\n",
            "     0     0     0     0     0     0     0     0     0     0     0     0\n",
            "     0     0     0     0     0     0     0     0     0     0     0     0\n",
            "     0     0     0     0     0     0     0     0     0], shape=(273,), dtype=int32)\n",
            "Sortie BERT [[ 9.4077952e-02 -1.2644181e-02 -1.0644248e-01 ... -8.3165474e-02\n",
            "   4.0087545e-01  3.9391544e-01]\n",
            " [-1.3467675e-01 -4.0323958e-02 -1.0404439e-01 ... -5.0258264e-04\n",
            "   5.3243411e-01  9.7730868e-02]\n",
            " [ 1.0015480e-01  1.0694310e-01 -1.9640607e-01 ...  1.9803867e-03\n",
            "   6.5390015e-01  2.8232852e-01]\n",
            " ...\n",
            " [-2.9876120e-02 -7.5026415e-05  4.5046955e-03 ... -3.4805503e-02\n",
            "   3.5515904e-01  3.1908199e-01]\n",
            " [-8.9636207e-02  1.5495930e-02 -1.0749227e-01 ... -2.3425445e-01\n",
            "   4.9148878e-01  3.3345434e-01]\n",
            " [-1.6719535e-02 -1.0756796e-01 -6.7308992e-02 ...  8.5385717e-02\n",
            "   6.0789430e-01  5.3271335e-01]]\n"
          ],
          "name": "stdout"
        }
      ]
    },
    {
      "cell_type": "markdown",
      "metadata": {
        "id": "0bjWNVb4KdZG"
      },
      "source": [
        "# **Ajout du réseau de neurones simple en sortie du modèle distilBERT**"
      ]
    },
    {
      "cell_type": "markdown",
      "metadata": {
        "id": "xd2hHeGJGtVB"
      },
      "source": [
        "**Extraction des vecteurs [CLS]**"
      ]
    },
    {
      "cell_type": "markdown",
      "metadata": {
        "id": "EkqicdHNDSpu"
      },
      "source": [
        "Parmi les MAX_SEQUENCE_LENGTH vecteurs en sortie, il ne nous faut que le premier (celui qui correspond au mot clé [CLS]). On doit donc récupérer, pour chaque commentaire, le premier vecteur de dimension 768 parmi les MAX_SEQUENCE_LENGTH en sortie :  \n",
        "  \n",
        "  \n",
        "<img src=\"https://github.com/AlexandreBourrieau/ML-F1/blob/master/Carnets%20Jupyter/Images/Slice_SortieBERT.png?raw=true\"/>  "
      ]
    },
    {
      "cell_type": "code",
      "metadata": {
        "id": "5_sA6CqIIiXR",
        "outputId": "0177f9ce-df04-42dc-c535-cab68bc356b2",
        "colab": {
          "base_uri": "https://localhost:8080/",
          "height": 35
        }
      },
      "source": [
        "sortie_distilBERT[0]"
      ],
      "execution_count": 34,
      "outputs": [
        {
          "output_type": "execute_result",
          "data": {
            "text/plain": [
              "<tf.Tensor 'tf_distil_bert_model_1/distilbert/transformer/layer_._5/output_layer_norm/batchnorm/add_1:0' shape=(None, 273, 768) dtype=float32>"
            ]
          },
          "metadata": {
            "tags": []
          },
          "execution_count": 34
        }
      ]
    },
    {
      "cell_type": "markdown",
      "metadata": {
        "id": "7H26bHc7GxhP"
      },
      "source": [
        "**Construction du modèle global**"
      ]
    },
    {
      "cell_type": "markdown",
      "metadata": {
        "id": "rEv4gm-wEEP2"
      },
      "source": [
        "Les vecteurs de dimension 768 correspondants aux sorties [CLS] de chaque commentaire sont envoyés dans un réseau de neurones à 2 neurones avec une fonction d'activation Softmax :\n",
        "<img src=\"https://raw.githubusercontent.com/AlexandreBourrieau/ML-F1/master/Carnets%20Jupyter/Images/ReseauDistilBERT1.png\"/>"
      ]
    },
    {
      "cell_type": "code",
      "metadata": {
        "id": "SEQc1zx5P25h",
        "outputId": "db720c44-54cb-4e11-f176-d76df7089eaa",
        "colab": {
          "base_uri": "https://localhost:8080/",
          "height": 453
        }
      },
      "source": [
        "# Configuration du modèle distilBERT\n",
        "config = DistilBertConfig(num_labels=2)           # 1 label\n",
        "config.output_hidden_states = True               # Ne récupère pas la totalité des couches mais uniquement la dernière\n",
        "config.output_attentions = False\n",
        "\n",
        "# Instanciation du modèle distilBERT\n",
        "transformer_model = TFDistilBertModel.from_pretrained('distilbert-base-uncased', config = config)\n",
        "\n",
        "# Défintion du format des entrées du modèle\n",
        "entrees_ids = tf.keras.layers.Input(shape=(LONGUEUR_MAX_COMMENTAIRE,), name='input_token', dtype='int32')\n",
        "entrees_masks = tf.keras.layers.Input(shape=(LONGUEUR_MAX_COMMENTAIRE,), name='masked_token', dtype='int32') \n",
        "\n",
        "# Création de la sortie du modèle\n",
        "sortie_distilBERT = transformer_model([entrees_ids,entrees_masks])[0]\n",
        "\n",
        "\n",
        "l1 = Lambda(lambda seq: seq[:, 0, :])(sortie_distilBERT)        # On ne récupère que les vecteurs [CLS]\n",
        "output = Dense(2, activation='softmax')(l1)\n",
        "\n",
        "model = tf.keras.Model(inputs=[entrees_ids, entrees_masks], outputs = output)\n",
        "model.layers[2].trainable = False         # Désactive d'entrainement de distilBERT\n",
        "\n",
        "model.compile(loss='sparse_categorical_crossentropy', optimizer=Adam(), metrics=['accuracy'])\n",
        "model.summary()"
      ],
      "execution_count": 44,
      "outputs": [
        {
          "output_type": "stream",
          "text": [
            "Some weights of the model checkpoint at distilbert-base-uncased were not used when initializing TFDistilBertModel: ['activation_13', 'vocab_projector', 'vocab_layer_norm', 'vocab_transform']\n",
            "- This IS expected if you are initializing TFDistilBertModel from the checkpoint of a model trained on another task or with another architecture (e.g. initializing a BertForSequenceClassification model from a BertForPretraining model).\n",
            "- This IS NOT expected if you are initializing TFDistilBertModel from the checkpoint of a model that you expect to be exactly identical (initializing a BertForSequenceClassification model from a BertForSequenceClassification model).\n",
            "All the weights of TFDistilBertModel were initialized from the model checkpoint at distilbert-base-uncased.\n",
            "If your task is similar to the task the model of the checkpoint was trained on, you can already use TFDistilBertModel for predictions without further training.\n"
          ],
          "name": "stderr"
        },
        {
          "output_type": "stream",
          "text": [
            "Model: \"functional_7\"\n",
            "__________________________________________________________________________________________________\n",
            "Layer (type)                    Output Shape         Param #     Connected to                     \n",
            "==================================================================================================\n",
            "input_token (InputLayer)        [(None, 273)]        0                                            \n",
            "__________________________________________________________________________________________________\n",
            "masked_token (InputLayer)       [(None, 273)]        0                                            \n",
            "__________________________________________________________________________________________________\n",
            "tf_distil_bert_model_4 (TFDisti ((None, 273, 768), ( 66362880    input_token[0][0]                \n",
            "                                                                 masked_token[0][0]               \n",
            "__________________________________________________________________________________________________\n",
            "lambda_1 (Lambda)               (None, 768)          0           tf_distil_bert_model_4[0][7]     \n",
            "__________________________________________________________________________________________________\n",
            "dense_1 (Dense)                 (None, 2)            1538        lambda_1[0][0]                   \n",
            "==================================================================================================\n",
            "Total params: 66,364,418\n",
            "Trainable params: 1,538\n",
            "Non-trainable params: 66,362,880\n",
            "__________________________________________________________________________________________________\n"
          ],
          "name": "stdout"
        }
      ]
    },
    {
      "cell_type": "markdown",
      "metadata": {
        "id": "Q0NXqJTWDroW"
      },
      "source": [
        "On lance maintenant l'entrainement du modèle :"
      ]
    },
    {
      "cell_type": "code",
      "metadata": {
        "id": "3XOX7Ve54k0p",
        "outputId": "8e65d84f-3c8f-4998-b380-f1d9f3665238",
        "colab": {
          "base_uri": "https://localhost:8080/",
          "height": 228
        }
      },
      "source": [
        "history = model.fit([output_tokenizer_entrainement['input_ids'],output_tokenizer_entrainement['attention_mask']],y_entrainement,\n",
        "                    epochs=5, verbose=1, batch_size = 3,\n",
        "                    validation_data=([output_tokenizer_tests['input_ids'],output_tokenizer_tests['attention_mask']],y_test))\n"
      ],
      "execution_count": 45,
      "outputs": [
        {
          "output_type": "stream",
          "text": [
            "Epoch 1/5\n",
            "748/750 [============================>.] - ETA: 0s - loss: 0.5501 - accuracy: 0.7250WARNING:tensorflow:Callbacks method `on_test_batch_end` is slow compared to the batch time (batch time: 0.0051s vs `on_test_batch_end` time: 0.0150s). Check your callbacks.\n",
            "750/750 [==============================] - 24s 32ms/step - loss: 0.5499 - accuracy: 0.7253 - val_loss: 0.4287 - val_accuracy: 0.8093\n",
            "Epoch 2/5\n",
            "750/750 [==============================] - 23s 30ms/step - loss: 0.4409 - accuracy: 0.8031 - val_loss: 0.3887 - val_accuracy: 0.8320\n",
            "Epoch 3/5\n",
            "750/750 [==============================] - 23s 30ms/step - loss: 0.4176 - accuracy: 0.8098 - val_loss: 0.3528 - val_accuracy: 0.8587\n",
            "Epoch 4/5\n",
            "750/750 [==============================] - 23s 30ms/step - loss: 0.3972 - accuracy: 0.8249 - val_loss: 0.3452 - val_accuracy: 0.8587\n",
            "Epoch 5/5\n",
            "750/750 [==============================] - 23s 30ms/step - loss: 0.3871 - accuracy: 0.8227 - val_loss: 0.3493 - val_accuracy: 0.8493\n"
          ],
          "name": "stdout"
        }
      ]
    },
    {
      "cell_type": "code",
      "metadata": {
        "id": "4ZhKM9mfQ0qi",
        "outputId": "a2b8b858-0e98-4edb-f4d9-dff26c2c3d15",
        "colab": {
          "base_uri": "https://localhost:8080/",
          "height": 295
        }
      },
      "source": [
        "plt.plot(history.history['accuracy'])\n",
        "plt.plot(history.history['val_accuracy'])\n",
        "plt.title('Précision du modèle')\n",
        "plt.ylabel('Précision')\n",
        "plt.xlabel('Itération')\n",
        "plt.legend(['Entrainement', 'Test'], loc='upper left')\n",
        "plt.show()"
      ],
      "execution_count": 46,
      "outputs": [
        {
          "output_type": "display_data",
          "data": {
            "image/png": "[encoded data removed]",
            "text/plain": [
              "<Figure size 432x288 with 1 Axes>"
            ]
          },
          "metadata": {
            "tags": [],
            "needs_background": "light"
          }
        }
      ]
    },
    {
      "cell_type": "markdown",
      "metadata": {
        "id": "T5ThHOoGRGIa"
      },
      "source": [
        "# **Fine Tuning**"
      ]
    },
    {
      "cell_type": "markdown",
      "metadata": {
        "id": "QhYtyQjuIIAZ"
      },
      "source": [
        "Afin d'obtenir une meilleur précision, on va également entrainer distilBERT : "
      ]
    },
    {
      "cell_type": "code",
      "metadata": {
        "id": "5eui3V0PRI6U",
        "outputId": "41ba5ba3-2328-4cc4-f83d-d332e9dacce2",
        "colab": {
          "base_uri": "https://localhost:8080/",
          "height": 347
        }
      },
      "source": [
        "model.layers[2].trainable = True\n",
        "model.compile(loss='sparse_categorical_crossentropy', optimizer=Adam(1e-5), metrics=['accuracy'])\n",
        "model.summary()"
      ],
      "execution_count": 47,
      "outputs": [
        {
          "output_type": "stream",
          "text": [
            "Model: \"functional_7\"\n",
            "__________________________________________________________________________________________________\n",
            "Layer (type)                    Output Shape         Param #     Connected to                     \n",
            "==================================================================================================\n",
            "input_token (InputLayer)        [(None, 273)]        0                                            \n",
            "__________________________________________________________________________________________________\n",
            "masked_token (InputLayer)       [(None, 273)]        0                                            \n",
            "__________________________________________________________________________________________________\n",
            "tf_distil_bert_model_4 (TFDisti ((None, 273, 768), ( 66362880    input_token[0][0]                \n",
            "                                                                 masked_token[0][0]               \n",
            "__________________________________________________________________________________________________\n",
            "lambda_1 (Lambda)               (None, 768)          0           tf_distil_bert_model_4[0][7]     \n",
            "__________________________________________________________________________________________________\n",
            "dense_1 (Dense)                 (None, 2)            1538        lambda_1[0][0]                   \n",
            "==================================================================================================\n",
            "Total params: 66,364,418\n",
            "Trainable params: 66,364,418\n",
            "Non-trainable params: 0\n",
            "__________________________________________________________________________________________________\n"
          ],
          "name": "stdout"
        }
      ]
    },
    {
      "cell_type": "code",
      "metadata": {
        "id": "eO3HSM6dRYl_",
        "outputId": "c2ed5ab8-d00a-41dc-e0ac-f481f18d8c85",
        "colab": {
          "base_uri": "https://localhost:8080/",
          "height": 191
        }
      },
      "source": [
        "history = model.fit([output_tokenizer_entrainement['input_ids'],output_tokenizer_entrainement['attention_mask']],y_entrainement,\n",
        "                    epochs=5, verbose=1, batch_size = 3,\n",
        "                    validation_data=([output_tokenizer_tests['input_ids'],output_tokenizer_tests['attention_mask']],y_test))"
      ],
      "execution_count": 48,
      "outputs": [
        {
          "output_type": "stream",
          "text": [
            "Epoch 1/5\n",
            "750/750 [==============================] - 59s 79ms/step - loss: 0.3759 - accuracy: 0.8404 - val_loss: 0.2538 - val_accuracy: 0.8880\n",
            "Epoch 2/5\n",
            "750/750 [==============================] - 58s 77ms/step - loss: 0.1726 - accuracy: 0.9324 - val_loss: 0.2896 - val_accuracy: 0.8813\n",
            "Epoch 3/5\n",
            "750/750 [==============================] - 58s 77ms/step - loss: 0.0559 - accuracy: 0.9804 - val_loss: 0.5024 - val_accuracy: 0.8680\n",
            "Epoch 4/5\n",
            "750/750 [==============================] - 58s 77ms/step - loss: 0.0430 - accuracy: 0.9844 - val_loss: 0.5953 - val_accuracy: 0.8747\n",
            "Epoch 5/5\n",
            "750/750 [==============================] - 58s 77ms/step - loss: 0.0256 - accuracy: 0.9898 - val_loss: 0.6003 - val_accuracy: 0.8667\n"
          ],
          "name": "stdout"
        }
      ]
    },
    {
      "cell_type": "code",
      "metadata": {
        "id": "TGsA4TSdRvnu",
        "outputId": "4a9a3ed8-415b-40fe-eccd-f32f47c4b15d",
        "colab": {
          "base_uri": "https://localhost:8080/",
          "height": 295
        }
      },
      "source": [
        "plt.plot(history.history['accuracy'])\n",
        "plt.plot(history.history['val_accuracy'])\n",
        "plt.title('Précision du modèle')\n",
        "plt.ylabel('Précision')\n",
        "plt.xlabel('Itération')\n",
        "plt.legend(['Entrainement', 'Test'], loc='upper left')\n",
        "plt.show()"
      ],
      "execution_count": 49,
      "outputs": [
        {
          "output_type": "display_data",
          "data": {
            "image/png": "[encoded data removed]",
            "text/plain": [
              "<Figure size 432x288 with 1 Axes>"
            ]
          },
          "metadata": {
            "tags": [],
            "needs_background": "light"
          }
        }
      ]
    },
    {
      "cell_type": "markdown",
      "metadata": {
        "id": "CUAkgLQy2mSo"
      },
      "source": [
        "# **Un modèle plus complexe**"
      ]
    },
    {
      "cell_type": "markdown",
      "metadata": {
        "id": "KiWq_-8HJqAp"
      },
      "source": [
        "Cette fois, les vecteurs de dimension 768 correspondants aux sorties [CLS] de chaque commentaire sont envoyés au même modèle que celui utilisé lors de l'activité avec GloVe :\n",
        "<img src=\"https://raw.githubusercontent.com/AlexandreBourrieau/ML-F1/master/Carnets%20Jupyter/Images/ReseauDistilBERT3.png\"/>"
      ]
    },
    {
      "cell_type": "markdown",
      "metadata": {
        "id": "qu0eaqewLTVB"
      },
      "source": [
        "<img src=\"https://raw.githubusercontent.com/AlexandreBourrieau/ML-F1/master/Carnets%20Jupyter/Images/ReseauDistilBERT4.png\"/>"
      ]
    },
    {
      "cell_type": "code",
      "metadata": {
        "id": "JS4_ExKz9Beu",
        "outputId": "cc5b43b8-a550-4820-fa86-43fbfd215e8f",
        "colab": {
          "base_uri": "https://localhost:8080/",
          "height": 661
        }
      },
      "source": [
        "dropout = 0.4\n",
        "\n",
        "# Configuration du modèle distilBERT\n",
        "config = DistilBertConfig(num_labels=2)           # 1 label\n",
        "config.output_hidden_states = True               # Ne récupère pas la totalité des couches mais uniquement la dernière\n",
        "config.output_attentions = False\n",
        "\n",
        "# Instanciation du modèle distilBERT\n",
        "transformer_model = TFDistilBertModel.from_pretrained('distilbert-base-uncased', config = config)\n",
        "\n",
        "# Défintion du format des entrées du modèle\n",
        "entrees_ids = tf.keras.layers.Input(shape=(LONGUEUR_MAX_COMMENTAIRE,), name='input_token', dtype='int32')\n",
        "entrees_masks = tf.keras.layers.Input(shape=(LONGUEUR_MAX_COMMENTAIRE,), name='masked_token', dtype='int32') \n",
        "\n",
        "# Création de la sortie du modèle\n",
        "sortie_distilBERT = transformer_model([entrees_ids,entrees_masks])[0]\n",
        "\n",
        "l1 = Lambda(lambda seq: seq[:, 0, :])(sortie_distilBERT)\n",
        "l2 = Conv1D(128, 5, activation='relu', padding='same', strides=2)(tf.expand_dims(l1,axis=1))\n",
        "l3 = GlobalMaxPooling1D()(l2)\n",
        "l4 = Dropout(dropout)(l3)\n",
        "l5 = Dense(128, activation='relu')(l4)\n",
        "l6 = Dropout(dropout)(l5)\n",
        "l7 = Dense(2, activation='softmax')(l6)\n",
        "\n",
        "model = tf.keras.Model(inputs=[entrees_ids, entrees_masks], outputs = l7)\n",
        "model.layers[2].trainable = False\n",
        "\n",
        "model.compile(loss='sparse_categorical_crossentropy', optimizer=Adam(), metrics=['accuracy'])\n",
        "model.summary()"
      ],
      "execution_count": 53,
      "outputs": [
        {
          "output_type": "stream",
          "text": [
            "Some weights of the model checkpoint at distilbert-base-uncased were not used when initializing TFDistilBertModel: ['activation_13', 'vocab_projector', 'vocab_layer_norm', 'vocab_transform']\n",
            "- This IS expected if you are initializing TFDistilBertModel from the checkpoint of a model trained on another task or with another architecture (e.g. initializing a BertForSequenceClassification model from a BertForPretraining model).\n",
            "- This IS NOT expected if you are initializing TFDistilBertModel from the checkpoint of a model that you expect to be exactly identical (initializing a BertForSequenceClassification model from a BertForSequenceClassification model).\n",
            "All the weights of TFDistilBertModel were initialized from the model checkpoint at distilbert-base-uncased.\n",
            "If your task is similar to the task the model of the checkpoint was trained on, you can already use TFDistilBertModel for predictions without further training.\n"
          ],
          "name": "stderr"
        },
        {
          "output_type": "stream",
          "text": [
            "Model: \"functional_15\"\n",
            "__________________________________________________________________________________________________\n",
            "Layer (type)                    Output Shape         Param #     Connected to                     \n",
            "==================================================================================================\n",
            "input_token (InputLayer)        [(None, 273)]        0                                            \n",
            "__________________________________________________________________________________________________\n",
            "masked_token (InputLayer)       [(None, 273)]        0                                            \n",
            "__________________________________________________________________________________________________\n",
            "tf_distil_bert_model_8 (TFDisti ((None, 273, 768), ( 66362880    input_token[0][0]                \n",
            "                                                                 masked_token[0][0]               \n",
            "__________________________________________________________________________________________________\n",
            "lambda_5 (Lambda)               (None, 768)          0           tf_distil_bert_model_8[0][7]     \n",
            "__________________________________________________________________________________________________\n",
            "tf_op_layer_ExpandDims_3 (Tenso [(None, 1, 768)]     0           lambda_5[0][0]                   \n",
            "__________________________________________________________________________________________________\n",
            "conv1d_3 (Conv1D)               (None, 1, 128)       491648      tf_op_layer_ExpandDims_3[0][0]   \n",
            "__________________________________________________________________________________________________\n",
            "global_max_pooling1d_3 (GlobalM (None, 128)          0           conv1d_3[0][0]                   \n",
            "__________________________________________________________________________________________________\n",
            "dropout_177 (Dropout)           (None, 128)          0           global_max_pooling1d_3[0][0]     \n",
            "__________________________________________________________________________________________________\n",
            "dense_8 (Dense)                 (None, 128)          16512       dropout_177[0][0]                \n",
            "__________________________________________________________________________________________________\n",
            "dropout_178 (Dropout)           (None, 128)          0           dense_8[0][0]                    \n",
            "__________________________________________________________________________________________________\n",
            "dense_9 (Dense)                 (None, 2)            258         dropout_178[0][0]                \n",
            "==================================================================================================\n",
            "Total params: 66,871,298\n",
            "Trainable params: 508,418\n",
            "Non-trainable params: 66,362,880\n",
            "__________________________________________________________________________________________________\n"
          ],
          "name": "stdout"
        }
      ]
    },
    {
      "cell_type": "code",
      "metadata": {
        "id": "xJ1zFZr3_iKX",
        "outputId": "4b29e8cf-d552-4ae3-c0cc-efae1cc8bddc",
        "colab": {
          "base_uri": "https://localhost:8080/",
          "height": 228
        }
      },
      "source": [
        "history = model.fit([output_tokenizer_entrainement['input_ids'],output_tokenizer_entrainement['attention_mask']],y_entrainement,\n",
        "                    epochs=5, verbose=1, batch_size = 3,\n",
        "                    validation_data=([output_tokenizer_tests['input_ids'],output_tokenizer_tests['attention_mask']],y_test))"
      ],
      "execution_count": 54,
      "outputs": [
        {
          "output_type": "stream",
          "text": [
            "Epoch 1/5\n",
            "749/750 [============================>.] - ETA: 0s - loss: 0.5759 - accuracy: 0.6934WARNING:tensorflow:Callbacks method `on_test_batch_end` is slow compared to the batch time (batch time: 0.0054s vs `on_test_batch_end` time: 0.0155s). Check your callbacks.\n",
            "750/750 [==============================] - 25s 33ms/step - loss: 0.5753 - accuracy: 0.6938 - val_loss: 0.3849 - val_accuracy: 0.8360\n",
            "Epoch 2/5\n",
            "750/750 [==============================] - 24s 31ms/step - loss: 0.4877 - accuracy: 0.7724 - val_loss: 0.4344 - val_accuracy: 0.7773\n",
            "Epoch 3/5\n",
            "750/750 [==============================] - 23s 31ms/step - loss: 0.4521 - accuracy: 0.7813 - val_loss: 0.3452 - val_accuracy: 0.8467\n",
            "Epoch 4/5\n",
            "750/750 [==============================] - 24s 31ms/step - loss: 0.4395 - accuracy: 0.7960 - val_loss: 0.3563 - val_accuracy: 0.8520\n",
            "Epoch 5/5\n",
            "750/750 [==============================] - 23s 31ms/step - loss: 0.4258 - accuracy: 0.8093 - val_loss: 0.3428 - val_accuracy: 0.8547\n"
          ],
          "name": "stdout"
        }
      ]
    },
    {
      "cell_type": "code",
      "metadata": {
        "id": "-xbfmmKuB__B",
        "outputId": "9fd7659d-e43d-404c-e63f-d9050f100ca8",
        "colab": {
          "base_uri": "https://localhost:8080/",
          "height": 295
        }
      },
      "source": [
        "plt.plot(history.history['accuracy'])\n",
        "plt.plot(history.history['val_accuracy'])\n",
        "plt.title('Précision du modèle')\n",
        "plt.ylabel('Précision')\n",
        "plt.xlabel('Itération')\n",
        "plt.legend(['Entrainement', 'Test'], loc='upper left')\n",
        "plt.show()"
      ],
      "execution_count": 55,
      "outputs": [
        {
          "output_type": "display_data",
          "data": {
            "image/png": "[encoded data removed]",
            "text/plain": [
              "<Figure size 432x288 with 1 Axes>"
            ]
          },
          "metadata": {
            "tags": [],
            "needs_background": "light"
          }
        }
      ]
    },
    {
      "cell_type": "markdown",
      "metadata": {
        "id": "KlBsWHRNQPrP"
      },
      "source": [
        "**Fine-tuning**"
      ]
    },
    {
      "cell_type": "markdown",
      "metadata": {
        "id": "hKn5K5VYQMtS"
      },
      "source": [
        "Afin de tenter d'obtenir une meilleur précision, on va également entrainer distilBERT : "
      ]
    },
    {
      "cell_type": "code",
      "metadata": {
        "id": "ZsfwWC_sB9-k",
        "outputId": "b45760d9-15fa-4308-976d-6efd4fca6658",
        "colab": {
          "base_uri": "https://localhost:8080/",
          "height": 555
        }
      },
      "source": [
        "model.layers[2].trainable = True\n",
        "model.compile(loss='sparse_categorical_crossentropy', optimizer=Adam(1e-5), metrics=['accuracy'])\n",
        "model.summary()"
      ],
      "execution_count": 56,
      "outputs": [
        {
          "output_type": "stream",
          "text": [
            "Model: \"functional_15\"\n",
            "__________________________________________________________________________________________________\n",
            "Layer (type)                    Output Shape         Param #     Connected to                     \n",
            "==================================================================================================\n",
            "input_token (InputLayer)        [(None, 273)]        0                                            \n",
            "__________________________________________________________________________________________________\n",
            "masked_token (InputLayer)       [(None, 273)]        0                                            \n",
            "__________________________________________________________________________________________________\n",
            "tf_distil_bert_model_8 (TFDisti ((None, 273, 768), ( 66362880    input_token[0][0]                \n",
            "                                                                 masked_token[0][0]               \n",
            "__________________________________________________________________________________________________\n",
            "lambda_5 (Lambda)               (None, 768)          0           tf_distil_bert_model_8[0][7]     \n",
            "__________________________________________________________________________________________________\n",
            "tf_op_layer_ExpandDims_3 (Tenso [(None, 1, 768)]     0           lambda_5[0][0]                   \n",
            "__________________________________________________________________________________________________\n",
            "conv1d_3 (Conv1D)               (None, 1, 128)       491648      tf_op_layer_ExpandDims_3[0][0]   \n",
            "__________________________________________________________________________________________________\n",
            "global_max_pooling1d_3 (GlobalM (None, 128)          0           conv1d_3[0][0]                   \n",
            "__________________________________________________________________________________________________\n",
            "dropout_177 (Dropout)           (None, 128)          0           global_max_pooling1d_3[0][0]     \n",
            "__________________________________________________________________________________________________\n",
            "dense_8 (Dense)                 (None, 128)          16512       dropout_177[0][0]                \n",
            "__________________________________________________________________________________________________\n",
            "dropout_178 (Dropout)           (None, 128)          0           dense_8[0][0]                    \n",
            "__________________________________________________________________________________________________\n",
            "dense_9 (Dense)                 (None, 2)            258         dropout_178[0][0]                \n",
            "==================================================================================================\n",
            "Total params: 66,871,298\n",
            "Trainable params: 66,871,298\n",
            "Non-trainable params: 0\n",
            "__________________________________________________________________________________________________\n"
          ],
          "name": "stdout"
        }
      ]
    },
    {
      "cell_type": "code",
      "metadata": {
        "id": "Eh_1ALcKCFSk",
        "outputId": "0ea194e0-f695-43db-d233-dc684b24d30e",
        "colab": {
          "base_uri": "https://localhost:8080/",
          "height": 228
        }
      },
      "source": [
        "history = model.fit([output_tokenizer_entrainement['input_ids'],output_tokenizer_entrainement['attention_mask']],y_entrainement,\n",
        "                    epochs=5, verbose=1, batch_size = 3,\n",
        "                    validation_data=([output_tokenizer_tests['input_ids'],output_tokenizer_tests['attention_mask']],y_test))"
      ],
      "execution_count": 57,
      "outputs": [
        {
          "output_type": "stream",
          "text": [
            "Epoch 1/5\n",
            "750/750 [==============================] - ETA: 0s - loss: 0.3907 - accuracy: 0.8276WARNING:tensorflow:Callbacks method `on_test_batch_end` is slow compared to the batch time (batch time: 0.0053s vs `on_test_batch_end` time: 0.0152s). Check your callbacks.\n",
            "750/750 [==============================] - 60s 80ms/step - loss: 0.3907 - accuracy: 0.8276 - val_loss: 0.2562 - val_accuracy: 0.8933\n",
            "Epoch 2/5\n",
            "750/750 [==============================] - 59s 78ms/step - loss: 0.2101 - accuracy: 0.9160 - val_loss: 0.2798 - val_accuracy: 0.8760\n",
            "Epoch 3/5\n",
            "750/750 [==============================] - 59s 78ms/step - loss: 0.0959 - accuracy: 0.9658 - val_loss: 0.4200 - val_accuracy: 0.8587\n",
            "Epoch 4/5\n",
            "750/750 [==============================] - 59s 79ms/step - loss: 0.0502 - accuracy: 0.9862 - val_loss: 0.4512 - val_accuracy: 0.8800\n",
            "Epoch 5/5\n",
            "750/750 [==============================] - 59s 78ms/step - loss: 0.0188 - accuracy: 0.9947 - val_loss: 0.7252 - val_accuracy: 0.8813\n"
          ],
          "name": "stdout"
        }
      ]
    },
    {
      "cell_type": "code",
      "metadata": {
        "id": "s2EGMAnCHXVf",
        "outputId": "f88eb440-39cb-4041-db0d-46ede0d0ac09",
        "colab": {
          "base_uri": "https://localhost:8080/",
          "height": 295
        }
      },
      "source": [
        "plt.plot(history.history['accuracy'])\n",
        "plt.plot(history.history['val_accuracy'])\n",
        "plt.title('Précision du modèle')\n",
        "plt.ylabel('Précision')\n",
        "plt.xlabel('Itération')\n",
        "plt.legend(['Entrainement', 'Test'], loc='upper left')\n",
        "plt.show()"
      ],
      "execution_count": 58,
      "outputs": [
        {
          "output_type": "display_data",
          "data": {
            "image/png": "[encoded data removed]",
            "text/plain": [
              "<Figure size 432x288 with 1 Axes>"
            ]
          },
          "metadata": {
            "tags": [],
            "needs_background": "light"
          }
        }
      ]
    }
  ]
}