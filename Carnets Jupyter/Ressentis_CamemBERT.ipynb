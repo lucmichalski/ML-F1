{
  "nbformat": 4,
  "nbformat_minor": 0,
  "metadata": {
    "colab": {
      "name": "Sentiment-BERT.ipynb",
      "provenance": [],
      "collapsed_sections": []
    },
    "kernelspec": {
      "name": "python3",
      "display_name": "Python 3"
    },
    "accelerator": "GPU"
  },
  "cells": [
    {
      "cell_type": "markdown",
      "metadata": {
        "id": "oS3VTFrtP_EA"
      },
      "source": [
        "# **Classification de ressentis avec CamemBERT**"
      ]
    },
    {
      "cell_type": "markdown",
      "metadata": {
        "id": "0pbPgf-yQGdW"
      },
      "source": [
        "L'objectif est de créer un modèle qui prend en entrée des commentaires (en Français) et attribue à chacun un ressenti positif ou négatif.  \n",
        "Le modèle global est composé de deux parties :  \n",
        "* [CamemBERT](https://camembert-model.fr/) va encoder le commentaire et en extraire des informations qui seront passées ensuite au réseau de neurones.  \n",
        "* Le modèle suivant est un réseau de neurones qui sera créé avec l'API [Keras](https://www.tensorflow.org/guide/keras?hl=fr) de [Tensorflow](https://www.tensorflow.org/?hl=fr).  \n",
        "\n",
        "<img src=\"https://raw.githubusercontent.com/AlexandreBourrieau/ML-F1/master/Carnets%20Jupyter/Images/StructureBERT.png\" />  \n",
        "  \n",
        "  Les données qui s'échangent entre les deux modèles sont des vecteurs de dimension 768. On peut voir ces vecteurs comme l'équivalent de l'application d'un algorithme de prolongation lexicale sur les mots qui composent le commentaire."
      ]
    },
    {
      "cell_type": "code",
      "metadata": {
        "id": "ZdwgQ7MfNoj2",
        "outputId": "3ec19f2c-9071-4f60-d380-2fc2f229276c",
        "colab": {
          "base_uri": "https://localhost:8080/",
          "height": 104
        }
      },
      "source": [
        "!pip install transformers --quiet"
      ],
      "execution_count": 1,
      "outputs": [
        {
          "output_type": "stream",
          "text": [
            "\u001b[K     |████████████████████████████████| 1.1MB 2.7MB/s \n",
            "\u001b[K     |████████████████████████████████| 890kB 12.8MB/s \n",
            "\u001b[K     |████████████████████████████████| 1.1MB 12.9MB/s \n",
            "\u001b[K     |████████████████████████████████| 3.0MB 23.5MB/s \n",
            "\u001b[?25h  Building wheel for sacremoses (setup.py) ... \u001b[?25l\u001b[?25hdone\n"
          ],
          "name": "stdout"
        }
      ]
    },
    {
      "cell_type": "code",
      "metadata": {
        "id": "VJzvJaBONyHe"
      },
      "source": [
        "import pandas as pd\n",
        "import numpy as np\n",
        "import tensorflow as tf\n",
        "\n",
        "from tensorflow.keras.layers import Dense, Dropout, Input, Dropout, Lambda\n",
        "from tensorflow.keras import Sequential\n",
        "from tensorflow.keras.models import Model\n",
        "from tensorflow.keras.optimizers import Adam\n",
        "\n",
        "from sklearn.model_selection import train_test_split\n",
        "\n",
        "from transformers import CamembertConfig\n",
        "from transformers import TFCamembertModel\n",
        "from transformers import AutoTokenizer\n",
        "\n",
        "import matplotlib.pyplot as plt"
      ],
      "execution_count": 2,
      "outputs": []
    },
    {
      "cell_type": "markdown",
      "metadata": {
        "id": "tl9VyhxKnZRP"
      },
      "source": [
        "# Importation des données\n",
        "\n",
        "Téléchargement des ressentis Allociné"
      ]
    },
    {
      "cell_type": "code",
      "metadata": {
        "id": "Gr-B216RN3zu",
        "outputId": "72b1e881-3d6c-4f0a-e5d1-d2044d87f2a2",
        "colab": {
          "base_uri": "https://localhost:8080/",
          "height": 104
        }
      },
      "source": [
        "# Téléchargement des données depuis le repot github \"https://github.com/AlexandreBourrieau/ML-F1/raw/master/Carnets%20Jupyter/Donn%C3%A9es/data.tar.bz2\"\n",
        "\n",
        "!wget -q \"https://github.com/AlexandreBourrieau/ML-F1/raw/master/Carnets%20Jupyter/Donn%C3%A9es/data.tar.bz2\"\n",
        "!tar -xjvf data.tar.bz2"
      ],
      "execution_count": 3,
      "outputs": [
        {
          "output_type": "stream",
          "text": [
            "data/\n",
            "data/allocine_dataset.pickle\n",
            "data/test.jsonl\n",
            "data/train.jsonl\n",
            "data/val.jsonl\n"
          ],
          "name": "stdout"
        }
      ]
    },
    {
      "cell_type": "code",
      "metadata": {
        "id": "cYpXPzRhogfQ",
        "outputId": "cb2a27f0-f8dc-46cf-84ae-1e2c617b46ce",
        "colab": {
          "base_uri": "https://localhost:8080/",
          "height": 202
        }
      },
      "source": [
        "df = pd.read_json(\"/content/data/test.jsonl\", lines=True)\n",
        "df.head(5)"
      ],
      "execution_count": 4,
      "outputs": [
        {
          "output_type": "execute_result",
          "data": {
            "text/html": [
              "<div>\n",
              "<style scoped>\n",
              "    .dataframe tbody tr th:only-of-type {\n",
              "        vertical-align: middle;\n",
              "    }\n",
              "\n",
              "    .dataframe tbody tr th {\n",
              "        vertical-align: top;\n",
              "    }\n",
              "\n",
              "    .dataframe thead th {\n",
              "        text-align: right;\n",
              "    }\n",
              "</style>\n",
              "<table border=\"1\" class=\"dataframe\">\n",
              "  <thead>\n",
              "    <tr style=\"text-align: right;\">\n",
              "      <th></th>\n",
              "      <th>film-url</th>\n",
              "      <th>review</th>\n",
              "      <th>polarity</th>\n",
              "    </tr>\n",
              "  </thead>\n",
              "  <tbody>\n",
              "    <tr>\n",
              "      <th>0</th>\n",
              "      <td>http://www.allocine.fr/film/fichefilm-25385/cr...</td>\n",
              "      <td>Magnifique épopée, une belle histoire, touchan...</td>\n",
              "      <td>1</td>\n",
              "    </tr>\n",
              "    <tr>\n",
              "      <th>1</th>\n",
              "      <td>http://www.allocine.fr/film/fichefilm-1954/cri...</td>\n",
              "      <td>Je n'ai pas aimé mais pourtant je lui mets 2 é...</td>\n",
              "      <td>0</td>\n",
              "    </tr>\n",
              "    <tr>\n",
              "      <th>2</th>\n",
              "      <td>http://www.allocine.fr/film/fichefilm-135523/c...</td>\n",
              "      <td>Un dessin animé qui brille par sa féerie et se...</td>\n",
              "      <td>1</td>\n",
              "    </tr>\n",
              "    <tr>\n",
              "      <th>3</th>\n",
              "      <td>http://www.allocine.fr/film/fichefilm-61514/cr...</td>\n",
              "      <td>Si c'est là le renouveau du cinéma français, c...</td>\n",
              "      <td>0</td>\n",
              "    </tr>\n",
              "    <tr>\n",
              "      <th>4</th>\n",
              "      <td>http://www.allocine.fr/film/fichefilm-260395/c...</td>\n",
              "      <td>Et pourtant on s’en Doutait !Second volet très...</td>\n",
              "      <td>0</td>\n",
              "    </tr>\n",
              "  </tbody>\n",
              "</table>\n",
              "</div>"
            ],
            "text/plain": [
              "                                            film-url  ... polarity\n",
              "0  http://www.allocine.fr/film/fichefilm-25385/cr...  ...        1\n",
              "1  http://www.allocine.fr/film/fichefilm-1954/cri...  ...        0\n",
              "2  http://www.allocine.fr/film/fichefilm-135523/c...  ...        1\n",
              "3  http://www.allocine.fr/film/fichefilm-61514/cr...  ...        0\n",
              "4  http://www.allocine.fr/film/fichefilm-260395/c...  ...        0\n",
              "\n",
              "[5 rows x 3 columns]"
            ]
          },
          "metadata": {
            "tags": []
          },
          "execution_count": 4
        }
      ]
    },
    {
      "cell_type": "markdown",
      "metadata": {
        "id": "xiO-lNQ6zYpU"
      },
      "source": [
        "Affiche quelques informations :"
      ]
    },
    {
      "cell_type": "code",
      "metadata": {
        "id": "SxMNwnpKQ6B5"
      },
      "source": [
        "def LongueurMax(df):\n",
        "  Lmax = 0\n",
        "  for com in df['review']:\n",
        "    Longueur = len(com)\n",
        "    if Lmax < Longueur:\n",
        "      Lmax = Longueur\n",
        "  return Lmax"
      ],
      "execution_count": 5,
      "outputs": []
    },
    {
      "cell_type": "code",
      "metadata": {
        "id": "2-_65fyzQ80e",
        "outputId": "db0ef7d7-bf0f-4279-c9b3-be4195287259",
        "colab": {
          "base_uri": "https://localhost:8080/",
          "height": 329
        }
      },
      "source": [
        "print(df[0:10])\n",
        "print(\"Total des données : \", str(len(df)))\n",
        "print(\"Nombre d'avis positifs et négatifs : \",df['polarity'].value_counts())\n",
        "print(\"Longueur maximale d'un commentaire : \",LongueurMax(df))"
      ],
      "execution_count": 6,
      "outputs": [
        {
          "output_type": "stream",
          "text": [
            "                                            film-url  ... polarity\n",
            "0  http://www.allocine.fr/film/fichefilm-25385/cr...  ...        1\n",
            "1  http://www.allocine.fr/film/fichefilm-1954/cri...  ...        0\n",
            "2  http://www.allocine.fr/film/fichefilm-135523/c...  ...        1\n",
            "3  http://www.allocine.fr/film/fichefilm-61514/cr...  ...        0\n",
            "4  http://www.allocine.fr/film/fichefilm-260395/c...  ...        0\n",
            "5  http://www.allocine.fr/film/fichefilm-220641/c...  ...        1\n",
            "6  http://www.allocine.fr/film/fichefilm-120103/c...  ...        1\n",
            "7  http://www.allocine.fr/film/fichefilm-190956/c...  ...        1\n",
            "8  http://www.allocine.fr/film/fichefilm-186185/c...  ...        1\n",
            "9  http://www.allocine.fr/film/fichefilm-17327/cr...  ...        0\n",
            "\n",
            "[10 rows x 3 columns]\n",
            "Total des données :  20000\n",
            "Nombre d'avis positifs et négatifs :  0    10408\n",
            "1     9592\n",
            "Name: polarity, dtype: int64\n",
            "Longueur maximale d'un commentaire :  2000\n"
          ],
          "name": "stdout"
        }
      ]
    },
    {
      "cell_type": "markdown",
      "metadata": {
        "id": "_ojEyeQyRznp"
      },
      "source": [
        "# **Préparation des données**\n"
      ]
    },
    {
      "cell_type": "code",
      "metadata": {
        "id": "aARCujGCqVud"
      },
      "source": [
        "def LongueurMax2(df):\n",
        "  Lmax = 0\n",
        "  for com in df:\n",
        "    Longueur = len(com)\n",
        "    if Lmax < Longueur:\n",
        "      Lmax = Longueur\n",
        "  return Lmax"
      ],
      "execution_count": 32,
      "outputs": []
    },
    {
      "cell_type": "code",
      "metadata": {
        "id": "VSFqQME7RgFH"
      },
      "source": [
        "# Chargement des commentaires et des ressentis\n",
        "commentaires = df['review'].astype(str).tolist()    # Récupère tous les commentaires dans une liste python\n",
        "ressentis = df['polarity'].tolist()                   # Récupère tous les ressentis dans une liste python\n",
        "labels = np.asarray(ressentis)               # Créé un tableau de type numpy avec les ressentis\n",
        "\n",
        "x_entrainement, x_test, y_entrainement, y_test = train_test_split(commentaires[0:MAX], labels[0:MAX], test_size=0.25)"
      ],
      "execution_count": 35,
      "outputs": []
    },
    {
      "cell_type": "code",
      "metadata": {
        "id": "wqx6-1JYqios",
        "outputId": "a09b51b1-727f-4e48-f168-4ac0a1fa2099",
        "colab": {
          "base_uri": "https://localhost:8080/",
          "height": 35
        }
      },
      "source": [
        "Longueur_max_entrainement = LongueurMax2(x_entrainement)\n",
        "Longueur_max_tests = LongueurMax2(x_test)\n",
        "print(\"Longueur maximale des commentaires : \", max([Longueur_max_entrainement, Longueur_max_tests]))"
      ],
      "execution_count": 36,
      "outputs": [
        {
          "output_type": "stream",
          "text": [
            "Longueur maximale des commentaires :  2000\n"
          ],
          "name": "stdout"
        }
      ]
    },
    {
      "cell_type": "code",
      "metadata": {
        "id": "vhArZ0AeRlzt",
        "outputId": "154ebd51-c186-4b07-a06a-7979ee983d1d",
        "colab": {
          "base_uri": "https://localhost:8080/",
          "height": 52
        }
      },
      "source": [
        "print (\"Nombre de commentaires pour l'entrainement : \", len(x_entrainement))\n",
        "print (\"Nombre de commentaires pour les tests : \", len(x_test))"
      ],
      "execution_count": 29,
      "outputs": [
        {
          "output_type": "stream",
          "text": [
            "Nombre de commentaires pour l'entrainement :  2250\n",
            "Nombre de commentaires pour les tests :  750\n"
          ],
          "name": "stdout"
        }
      ]
    },
    {
      "cell_type": "markdown",
      "metadata": {
        "id": "n4Vcm5K3Dej4"
      },
      "source": [
        "# **Tokénisation**\n"
      ]
    },
    {
      "cell_type": "code",
      "metadata": {
        "id": "KCLBUOUGR9yl"
      },
      "source": [
        "LONGUEUR_MAX_COMMENTAIRE = max([Longueur_max_entrainement, Longueur_max_tests]) + 2\n",
        "\n",
        "# Instanciation du tokeniseur\n",
        "tokenizer = AutoTokenizer.from_pretrained('jplu/tf-camembert-base')\n",
        "\n",
        "# Préparation des données d'entrainement\n",
        "output_tokenizer_entrainement = tokenizer(x_entrainement,max_length=LONGUEUR_MAX_COMMENTAIRE, padding='max_length', truncation=False, return_tensors='tf',add_special_tokens=True)\n",
        "\n",
        "# Préparation des données de tests\n",
        "output_tokenizer_tests = tokenizer(x_test,max_length=LONGUEUR_MAX_COMMENTAIRE, padding='max_length', truncation=False, return_tensors='tf',add_special_tokens=True)"
      ],
      "execution_count": 38,
      "outputs": []
    },
    {
      "cell_type": "markdown",
      "metadata": {
        "id": "kzboG3fX5LkP"
      },
      "source": [
        "Regardons un peu comment sont formatées les données en sortie du tokéniseur :"
      ]
    },
    {
      "cell_type": "code",
      "metadata": {
        "id": "PngM0hP2SaY2",
        "outputId": "0dbca090-c0f5-4db9-bfc9-5b9644aefa7a",
        "colab": {
          "base_uri": "https://localhost:8080/",
          "height": 277
        }
      },
      "source": [
        "output_tokenizer_entrainement"
      ],
      "execution_count": 16,
      "outputs": [
        {
          "output_type": "execute_result",
          "data": {
            "text/plain": [
              "{'input_ids': <tf.Tensor: shape=(2250, 2002), dtype=int32, numpy=\n",
              "array([[   5,  799,  248, ...,    1,    1,    1],\n",
              "       [   5,   87, 1003, ...,    1,    1,    1],\n",
              "       [   5,  153, 2560, ...,    1,    1,    1],\n",
              "       ...,\n",
              "       [   5,  153,  918, ...,    1,    1,    1],\n",
              "       [   5,   54,  565, ...,    1,    1,    1],\n",
              "       [   5,  100,  676, ...,    1,    1,    1]], dtype=int32)>, 'attention_mask': <tf.Tensor: shape=(2250, 2002), dtype=int32, numpy=\n",
              "array([[1, 1, 1, ..., 0, 0, 0],\n",
              "       [1, 1, 1, ..., 0, 0, 0],\n",
              "       [1, 1, 1, ..., 0, 0, 0],\n",
              "       ...,\n",
              "       [1, 1, 1, ..., 0, 0, 0],\n",
              "       [1, 1, 1, ..., 0, 0, 0],\n",
              "       [1, 1, 1, ..., 0, 0, 0]], dtype=int32)>}"
            ]
          },
          "metadata": {
            "tags": []
          },
          "execution_count": 16
        }
      ]
    },
    {
      "cell_type": "markdown",
      "metadata": {
        "id": "fejN7ZrzzaOu"
      },
      "source": [
        "Regardons comment le premier commentaire a été encodé :"
      ]
    },
    {
      "cell_type": "code",
      "metadata": {
        "id": "n_U6gUTtSkjP",
        "outputId": "c0add753-f50c-4b50-9224-3dc764e855a0",
        "colab": {
          "base_uri": "https://localhost:8080/",
          "height": 89
        }
      },
      "source": [
        "print(\"Commentaire original :\", x_entrainement[0])\n",
        "print(\"input_ids: \", output_tokenizer_entrainement['input_ids'][0])\n",
        "print(\"attention_mask: \", output_tokenizer_entrainement['attention_mask'][0])"
      ],
      "execution_count": 15,
      "outputs": [
        {
          "output_type": "stream",
          "text": [
            "Commentaire original : Que dire de ce film... l'Apprenti est utra-soporifique, les dialogues sont creux: \"J'crois que j'taime encore.Ca m'fé plaiz\". Certaines scènes sont très incohérentes, comme celle du bar où les jeunes chantent \"c'est un ivrogne, il est des nôtres...\" bouteilles de bière à la main, buvant du sirop de menthe(?).Ce film incarne un certaine \"beaufitude\", de par ses personnages, les situations et l'environnement. Enfin l'Apprenti du film n'est pas du tout un personnage attachant, au contraire.\n",
            "input_ids:  tf.Tensor([  5 799 248 ...   1   1   1], shape=(2002,), dtype=int32)\n",
            "attention_mask:  tf.Tensor([1 1 1 ... 0 0 0], shape=(2002,), dtype=int32)\n"
          ],
          "name": "stdout"
        }
      ]
    },
    {
      "cell_type": "markdown",
      "metadata": {
        "id": "mbk3Ha0zTBhm"
      },
      "source": [
        "# **Définition et utilisation du modèle camemBERT avec Keras**"
      ]
    },
    {
      "cell_type": "code",
      "metadata": {
        "id": "1yplJTKgTHUW",
        "outputId": "358ecd4e-008b-42f2-fba1-78df869b60e7",
        "colab": {
          "base_uri": "https://localhost:8080/",
          "height": 384
        }
      },
      "source": [
        "# Instanciation du modèle camemBERT\n",
        "transformer_model = TFCamembertModel.from_pretrained('jplu/tf-camembert-base')\n",
        "\n",
        "# Défintion du format des entrées du modèle\n",
        "entrees_ids = tf.keras.layers.Input(shape=(LONGUEUR_MAX_COMMENTAIRE,), name='input_token', dtype='int32')\n",
        "entrees_masks = tf.keras.layers.Input(shape=(LONGUEUR_MAX_COMMENTAIRE,), name='masked_token', dtype='int32') \n",
        "\n",
        "# Création de la sortie du modèle\n",
        "sortie_camemBERT = transformer_model([entrees_ids,entrees_masks])\n",
        "\n",
        "# Instanciation du modèle avec Keras\n",
        "model_camemBERT = tf.keras.Model(inputs=[entrees_ids, entrees_masks], outputs = sortie_camemBERT,trainable=False)\n",
        "model_camemBERT.summary()"
      ],
      "execution_count": 39,
      "outputs": [
        {
          "output_type": "stream",
          "text": [
            "Some weights of the model checkpoint at jplu/tf-camembert-base were not used when initializing TFCamembertModel: ['lm_head']\n",
            "- This IS expected if you are initializing TFCamembertModel from the checkpoint of a model trained on another task or with another architecture (e.g. initializing a BertForSequenceClassification model from a BertForPretraining model).\n",
            "- This IS NOT expected if you are initializing TFCamembertModel from the checkpoint of a model that you expect to be exactly identical (initializing a BertForSequenceClassification model from a BertForSequenceClassification model).\n",
            "All the weights of TFCamembertModel were initialized from the model checkpoint at jplu/tf-camembert-base.\n",
            "If your task is similar to the task the model of the checkpoint was trained on, you can already use TFCamembertModel for predictions without further training.\n"
          ],
          "name": "stderr"
        },
        {
          "output_type": "stream",
          "text": [
            "Model: \"functional_7\"\n",
            "__________________________________________________________________________________________________\n",
            "Layer (type)                    Output Shape         Param #     Connected to                     \n",
            "==================================================================================================\n",
            "input_token (InputLayer)        [(None, 2002)]       0                                            \n",
            "__________________________________________________________________________________________________\n",
            "masked_token (InputLayer)       [(None, 2002)]       0                                            \n",
            "__________________________________________________________________________________________________\n",
            "tf_camembert_model_2 (TFCamembe ((None, 2002, 768),  110621952   input_token[0][0]                \n",
            "                                                                 masked_token[0][0]               \n",
            "==================================================================================================\n",
            "Total params: 110,621,952\n",
            "Trainable params: 0\n",
            "Non-trainable params: 110,621,952\n",
            "__________________________________________________________________________________________________\n"
          ],
          "name": "stdout"
        }
      ]
    },
    {
      "cell_type": "markdown",
      "metadata": {
        "id": "iyWJkTbu5rMo"
      },
      "source": [
        "Si on regarde le format de la sortie du modèle camemBERT, on voit qu'elle est composée de deux sorties :\n",
        "* Une sortie avec un format (None,MAX_SEQUENCE_LENGTH,768)\n",
        "* Une sortie avec un format (None,768)  \n",
        "  \n",
        "On trouve la signification de ces sorties [sur le site de hugginface](https://huggingface.co/transformers/main_classes/output.html#tfbasemodeloutput). Ainsi, la première sortie est de type `last_hidden_state` et la deuxième de type `pooler_output`."
      ]
    },
    {
      "cell_type": "code",
      "metadata": {
        "id": "DbqJEKUR5wNn",
        "outputId": "cdd36a7e-de4a-4901-8fc3-129268881d18",
        "colab": {
          "base_uri": "https://localhost:8080/",
          "height": 52
        }
      },
      "source": [
        "sortie_camemBERT"
      ],
      "execution_count": 11,
      "outputs": [
        {
          "output_type": "execute_result",
          "data": {
            "text/plain": [
              "(<tf.Tensor 'tf_camembert_model/roberta/encoder/layer_._11/output/LayerNorm/batchnorm/add_1:0' shape=(None, 2002, 768) dtype=float32>,\n",
              " <tf.Tensor 'tf_camembert_model/roberta/pooler/dense/Tanh:0' shape=(None, 768) dtype=float32>)"
            ]
          },
          "metadata": {
            "tags": []
          },
          "execution_count": 11
        }
      ]
    },
    {
      "cell_type": "markdown",
      "metadata": {
        "id": "UjOGqVhS82S9"
      },
      "source": [
        " Celle qui nous interesse ici est la sortie `last_hidden_state` : C'est elle qui contient le résultat de l'encodage des mots des commentaires"
      ]
    },
    {
      "cell_type": "code",
      "metadata": {
        "id": "drPY4gEO84Fk",
        "outputId": "58d66c4e-ab2c-4826-81ae-2a1a05bfdfa3",
        "colab": {
          "base_uri": "https://localhost:8080/",
          "height": 35
        }
      },
      "source": [
        "sortie_camemBERT[0]"
      ],
      "execution_count": 12,
      "outputs": [
        {
          "output_type": "execute_result",
          "data": {
            "text/plain": [
              "<tf.Tensor 'tf_camembert_model/roberta/encoder/layer_._11/output/LayerNorm/batchnorm/add_1:0' shape=(None, 2002, 768) dtype=float32>"
            ]
          },
          "metadata": {
            "tags": []
          },
          "execution_count": 12
        }
      ]
    },
    {
      "cell_type": "markdown",
      "metadata": {
        "id": "RDYf-Owpwk4Q"
      },
      "source": [
        "La fonction `predict()` permet d'exécuter le modèle sur les séquences d'entrées"
      ]
    },
    {
      "cell_type": "code",
      "metadata": {
        "id": "l-NlEgWUxehg",
        "outputId": "68ec70d1-91e9-4fee-cebe-07a1e2ffaf12",
        "colab": {
          "base_uri": "https://localhost:8080/",
          "height": 35
        }
      },
      "source": [
        "sortie_vecteurs_camemBERT = model_camemBERT.predict(\n",
        "    [output_tokenizer_entrainement['input_ids'][0:2],\n",
        "     output_tokenizer_entrainement['attention_mask'][0:2]]\n",
        "     ,verbose=1)"
      ],
      "execution_count": 13,
      "outputs": [
        {
          "output_type": "stream",
          "text": [
            "1/1 [==============================] - 0s 11ms/step\n"
          ],
          "name": "stdout"
        }
      ]
    },
    {
      "cell_type": "markdown",
      "metadata": {
        "id": "nr1pLKgsCwMP"
      },
      "source": [
        "Regardons à quoi ressemble la sortie de distilBERT :"
      ]
    },
    {
      "cell_type": "code",
      "metadata": {
        "id": "m173U4t5oyzw"
      },
      "source": [
        "sortie_vecteurs_camemBERT"
      ],
      "execution_count": null,
      "outputs": []
    },
    {
      "cell_type": "markdown",
      "metadata": {
        "id": "Rq2_YZt6pE1t"
      },
      "source": [
        ""
      ]
    },
    {
      "cell_type": "markdown",
      "metadata": {
        "id": "0bjWNVb4KdZG"
      },
      "source": [
        "# **Ajout du réseau de neurones simple en sortie du modèle distilBERT**"
      ]
    },
    {
      "cell_type": "markdown",
      "metadata": {
        "id": "xd2hHeGJGtVB"
      },
      "source": [
        "**Extraction des vecteurs [CLS]**"
      ]
    },
    {
      "cell_type": "markdown",
      "metadata": {
        "id": "guk_K_70pPU1"
      },
      "source": [
        "Parmi les MAX_SEQUENCE_LENGTH vecteurs en sortie, il ne nous faut que le premier (celui qui correspond au mot clé [CLS]). On doit donc récupérer, pour chaque commentaire, le premier vecteur de dimension 768 parmi les MAX_SEQUENCE_LENGTH en sortie :  "
      ]
    },
    {
      "cell_type": "code",
      "metadata": {
        "id": "jpyV9C1gpSLr",
        "outputId": "8c8ee1f5-5aac-493a-ca4f-22c71308ca11",
        "colab": {
          "base_uri": "https://localhost:8080/",
          "height": 35
        }
      },
      "source": [
        "sortie_camemBERT[0]"
      ],
      "execution_count": null,
      "outputs": [
        {
          "output_type": "execute_result",
          "data": {
            "text/plain": [
              "<tf.Tensor 'tf_camembert_model/roberta/encoder/layer_._11/output/LayerNorm/batchnorm/add_1:0' shape=(None, 2002, 768) dtype=float32>"
            ]
          },
          "metadata": {
            "tags": []
          },
          "execution_count": 17
        }
      ]
    },
    {
      "cell_type": "markdown",
      "metadata": {
        "id": "7H26bHc7GxhP"
      },
      "source": [
        "**Construction du modèle global**"
      ]
    },
    {
      "cell_type": "markdown",
      "metadata": {
        "id": "T_2vHlNspbVe"
      },
      "source": [
        "Les vecteurs de dimension 768 correspondants aux sorties [CLS] de chaque commentaire sont envoyés dans un réseau de neurones à 2 neurones avec une fonction d'activation Softmax :\n",
        "<img src=\"https://raw.githubusercontent.com/AlexandreBourrieau/ML-F1/master/Carnets%20Jupyter/Images/ReseauDistilBERT1.png\"/>"
      ]
    },
    {
      "cell_type": "code",
      "metadata": {
        "id": "MUUwxLMsp40U",
        "outputId": "dad2a558-302e-48bd-b095-b2a2108781e8",
        "colab": {
          "base_uri": "https://localhost:8080/",
          "height": 453
        }
      },
      "source": [
        "# Instanciation du modèle camemBERT\n",
        "transformer_model = TFCamembertModel.from_pretrained('jplu/tf-camembert-base')\n",
        "\n",
        "# Défintion du format des entrées du modèle\n",
        "entrees_ids = tf.keras.layers.Input(shape=(LONGUEUR_MAX_COMMENTAIRE,), name='input_token', dtype='int32')\n",
        "entrees_masks = tf.keras.layers.Input(shape=(LONGUEUR_MAX_COMMENTAIRE,), name='masked_token', dtype='int32') \n",
        "\n",
        "# Création de la sortie du modèle\n",
        "sortie_camemBERT = transformer_model([entrees_ids,entrees_masks])\n",
        "\n",
        "# Instanciation du modèle avec Keras\n",
        "model_camemBERT = tf.keras.Model(inputs=[entrees_ids, entrees_masks], outputs = sortie_camemBERT,trainable=False)\n",
        "\n",
        "# Défintion du format des entrées du modèle\n",
        "entrees_ids = tf.keras.layers.Input(shape=(LONGUEUR_MAX_COMMENTAIRE,), name='input_token', dtype='int32')\n",
        "entrees_masks = tf.keras.layers.Input(shape=(LONGUEUR_MAX_COMMENTAIRE,), name='masked_token', dtype='int32') \n",
        "\n",
        "# Création de la sortie du modèle\n",
        "sortie_camemBERT = transformer_model([entrees_ids,entrees_masks])[0]\n",
        "\n",
        "\n",
        "l1 = Lambda(lambda seq: seq[:, 0, :])(sortie_camemBERT)        # On ne récupère que les vecteurs [CLS]\n",
        "output = Dense(2, activation='softmax')(l1)\n",
        "\n",
        "model = tf.keras.Model(inputs=[entrees_ids, entrees_masks], outputs = output)\n",
        "model.layers[2].trainable = False         # Désactive d'entrainement de camemBERT\n",
        "\n",
        "model.compile(loss='sparse_categorical_crossentropy', optimizer=Adam(), metrics=['accuracy'])\n",
        "model.summary()"
      ],
      "execution_count": 40,
      "outputs": [
        {
          "output_type": "stream",
          "text": [
            "Some weights of the model checkpoint at jplu/tf-camembert-base were not used when initializing TFCamembertModel: ['lm_head']\n",
            "- This IS expected if you are initializing TFCamembertModel from the checkpoint of a model trained on another task or with another architecture (e.g. initializing a BertForSequenceClassification model from a BertForPretraining model).\n",
            "- This IS NOT expected if you are initializing TFCamembertModel from the checkpoint of a model that you expect to be exactly identical (initializing a BertForSequenceClassification model from a BertForSequenceClassification model).\n",
            "All the weights of TFCamembertModel were initialized from the model checkpoint at jplu/tf-camembert-base.\n",
            "If your task is similar to the task the model of the checkpoint was trained on, you can already use TFCamembertModel for predictions without further training.\n"
          ],
          "name": "stderr"
        },
        {
          "output_type": "stream",
          "text": [
            "Model: \"functional_11\"\n",
            "__________________________________________________________________________________________________\n",
            "Layer (type)                    Output Shape         Param #     Connected to                     \n",
            "==================================================================================================\n",
            "input_token (InputLayer)        [(None, 2002)]       0                                            \n",
            "__________________________________________________________________________________________________\n",
            "masked_token (InputLayer)       [(None, 2002)]       0                                            \n",
            "__________________________________________________________________________________________________\n",
            "tf_camembert_model_3 (TFCamembe ((None, 2002, 768),  110621952   input_token[0][0]                \n",
            "                                                                 masked_token[0][0]               \n",
            "__________________________________________________________________________________________________\n",
            "lambda_1 (Lambda)               (None, 768)          0           tf_camembert_model_3[1][0]       \n",
            "__________________________________________________________________________________________________\n",
            "dense_1 (Dense)                 (None, 2)            1538        lambda_1[0][0]                   \n",
            "==================================================================================================\n",
            "Total params: 110,623,490\n",
            "Trainable params: 1,538\n",
            "Non-trainable params: 110,621,952\n",
            "__________________________________________________________________________________________________\n"
          ],
          "name": "stdout"
        }
      ]
    },
    {
      "cell_type": "markdown",
      "metadata": {
        "id": "Q0NXqJTWDroW"
      },
      "source": [
        "On lance maintenant l'entrainement du modèle :"
      ]
    },
    {
      "cell_type": "code",
      "metadata": {
        "id": "tDLirYrZqCad",
        "outputId": "533c4980-10ed-4e95-84f2-34f04ad1739e",
        "colab": {
          "base_uri": "https://localhost:8080/",
          "height": 89
        }
      },
      "source": [
        "history = model.fit([output_tokenizer_entrainement['input_ids'],output_tokenizer_entrainement['attention_mask']],y_entrainement,\n",
        "                    epochs=5, verbose=1, batch_size = 3,\n",
        "                    validation_data=([output_tokenizer_tests['input_ids'],output_tokenizer_tests['attention_mask']],y_test))"
      ],
      "execution_count": null,
      "outputs": [
        {
          "output_type": "stream",
          "text": [
            "Epoch 1/5\n",
            "  2/750 [..............................] - ETA: 6:24 - loss: 0.6668 - accuracy: 0.6667WARNING:tensorflow:Callbacks method `on_train_batch_end` is slow compared to the batch time (batch time: 0.1081s vs `on_train_batch_end` time: 0.4599s). Check your callbacks.\n",
            "111/750 [===>..........................] - ETA: 6:02 - loss: 0.6741 - accuracy: 0.5736"
          ],
          "name": "stdout"
        }
      ]
    },
    {
      "cell_type": "code",
      "metadata": {
        "id": "gKU2TlZDqFws"
      },
      "source": [
        "plt.plot(history.history['accuracy'])\n",
        "plt.plot(history.history['val_accuracy'])\n",
        "plt.title('Précision du modèle')\n",
        "plt.ylabel('Précision')\n",
        "plt.xlabel('Itération')\n",
        "plt.legend(['Entrainement', 'Test'], loc='upper left')\n",
        "plt.show()"
      ],
      "execution_count": null,
      "outputs": []
    },
    {
      "cell_type": "markdown",
      "metadata": {
        "id": "T5ThHOoGRGIa"
      },
      "source": [
        "# **Fine Tuning**"
      ]
    },
    {
      "cell_type": "markdown",
      "metadata": {
        "id": "QhYtyQjuIIAZ"
      },
      "source": [
        "Afin d'obtenir une meilleur précision, on va également entrainer camemBERT : "
      ]
    },
    {
      "cell_type": "code",
      "metadata": {
        "id": "5eui3V0PRI6U",
        "outputId": "ecd42578-ac39-4add-c7d9-a91fc7a46a96",
        "colab": {
          "base_uri": "https://localhost:8080/",
          "height": 347
        }
      },
      "source": [
        "model.layers[2].trainable = True\n",
        "model.compile(loss='sparse_categorical_crossentropy', optimizer=Adam(1e-5), metrics=['accuracy'])\n",
        "model.summary()"
      ],
      "execution_count": null,
      "outputs": [
        {
          "output_type": "stream",
          "text": [
            "Model: \"functional_5\"\n",
            "__________________________________________________________________________________________________\n",
            "Layer (type)                    Output Shape         Param #     Connected to                     \n",
            "==================================================================================================\n",
            "input_token (InputLayer)        [(None, 273)]        0                                            \n",
            "__________________________________________________________________________________________________\n",
            "masked_token (InputLayer)       [(None, 273)]        0                                            \n",
            "__________________________________________________________________________________________________\n",
            "tf_distil_bert_model_2 (TFDisti ((None, 273, 768), ( 66362880    input_token[0][0]                \n",
            "                                                                 masked_token[0][0]               \n",
            "__________________________________________________________________________________________________\n",
            "lambda_1 (Lambda)               (None, 768)          0           tf_distil_bert_model_2[0][7]     \n",
            "__________________________________________________________________________________________________\n",
            "dense_1 (Dense)                 (None, 2)            1538        lambda_1[0][0]                   \n",
            "==================================================================================================\n",
            "Total params: 66,364,418\n",
            "Trainable params: 66,364,418\n",
            "Non-trainable params: 0\n",
            "__________________________________________________________________________________________________\n"
          ],
          "name": "stdout"
        }
      ]
    },
    {
      "cell_type": "code",
      "metadata": {
        "id": "eO3HSM6dRYl_",
        "outputId": "9bb01c0e-3f67-4f07-9402-21e20f5d7e4c",
        "colab": {
          "base_uri": "https://localhost:8080/",
          "height": 228
        }
      },
      "source": [
        "history = model.fit([output_tokenizer_entrainement['input_ids'],output_tokenizer_entrainement['attention_mask']],y_entrainement,\n",
        "                    epochs=5, verbose=1, batch_size = 3,\n",
        "                    validation_data=([output_tokenizer_tests['input_ids'],output_tokenizer_tests['attention_mask']],y_test))"
      ],
      "execution_count": null,
      "outputs": [
        {
          "output_type": "stream",
          "text": [
            "Epoch 1/5\n",
            "750/750 [==============================] - ETA: 0s - loss: 0.3706 - accuracy: 0.8356WARNING:tensorflow:Callbacks method `on_test_batch_end` is slow compared to the batch time (batch time: 0.0041s vs `on_test_batch_end` time: 0.0214s). Check your callbacks.\n",
            "750/750 [==============================] - 85s 114ms/step - loss: 0.3706 - accuracy: 0.8356 - val_loss: 0.3417 - val_accuracy: 0.8667\n",
            "Epoch 2/5\n",
            "750/750 [==============================] - 87s 116ms/step - loss: 0.1593 - accuracy: 0.9329 - val_loss: 0.3125 - val_accuracy: 0.8880\n",
            "Epoch 3/5\n",
            "750/750 [==============================] - 88s 117ms/step - loss: 0.0635 - accuracy: 0.9769 - val_loss: 0.4711 - val_accuracy: 0.8653\n",
            "Epoch 4/5\n",
            "750/750 [==============================] - 89s 118ms/step - loss: 0.0241 - accuracy: 0.9907 - val_loss: 0.4908 - val_accuracy: 0.8773\n",
            "Epoch 5/5\n",
            "750/750 [==============================] - 89s 118ms/step - loss: 0.0358 - accuracy: 0.9898 - val_loss: 0.4185 - val_accuracy: 0.8920\n"
          ],
          "name": "stdout"
        }
      ]
    },
    {
      "cell_type": "code",
      "metadata": {
        "id": "TGsA4TSdRvnu",
        "outputId": "9aea8862-d296-4796-c83e-e0c4841c32ef",
        "colab": {
          "base_uri": "https://localhost:8080/",
          "height": 295
        }
      },
      "source": [
        "plt.plot(history.history['accuracy'])\n",
        "plt.plot(history.history['val_accuracy'])\n",
        "plt.title('Précision du modèle')\n",
        "plt.ylabel('Précision')\n",
        "plt.xlabel('Itération')\n",
        "plt.legend(['Entrainement', 'Test'], loc='upper left')\n",
        "plt.show()"
      ],
      "execution_count": null,
      "outputs": [
        {
          "output_type": "display_data",
          "data": {
            "image/png": "[encoded data removed]",
            "text/plain": [
              "<Figure size 432x288 with 1 Axes>"
            ]
          },
          "metadata": {
            "tags": [],
            "needs_background": "light"
          }
        }
      ]
    }
  ]
}