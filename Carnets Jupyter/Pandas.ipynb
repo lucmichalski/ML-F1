{
  "nbformat": 4,
  "nbformat_minor": 0,
  "metadata": {
    "kernelspec": {
      "display_name": "Python 3",
      "language": "python",
      "name": "python3"
    },
    "language_info": {
      "codemirror_mode": {
        "name": "ipython",
        "version": 3
      },
      "file_extension": ".py",
      "mimetype": "text/x-python",
      "name": "python",
      "nbconvert_exporter": "python",
      "pygments_lexer": "ipython3",
      "version": "3.6.8"
    },
    "colab": {
      "name": "Pandas.ipynb",
      "provenance": []
    }
  },
  "cells": [
    {
      "cell_type": "markdown",
      "metadata": {
        "id": "jd-m28CDlXUU",
        "colab_type": "text"
      },
      "source": [
        "# Exemple d'utilisation de Pandas\n",
        "\n",
        "Voici un carnet qui décrit les bases de Pandas, une librairie Python permettant d'analyser et de manipuler des données. Vous pouvez trouver davantages de détails sur le [site internet de Pandas](https://pandas.pydata.org/).\n",
        "\n",
        "Cet exemple utlise une base de données contenant une description des missions spatiales depuis effectuées depuis 1957. Elle provient du site [Kaggle](https://www.kaggle.com/agirlcoding/all-space-missions-from-1957)"
      ]
    },
    {
      "cell_type": "code",
      "metadata": {
        "id": "dBT1YCWXlXUW",
        "colab_type": "code",
        "colab": {}
      },
      "source": [
        "import pandas as pd\n",
        "import matplotlib.pyplot as plt"
      ],
      "execution_count": 80,
      "outputs": []
    },
    {
      "cell_type": "markdown",
      "metadata": {
        "id": "IW-fYZlilXUc",
        "colab_type": "text"
      },
      "source": [
        "## Chargement des données\n",
        "\n",
        "Les données sont au format CSV. Elles sont séparées par des virgules. Pandas assume que la première ligne contient le nom des colonnes mais si le nom des colonnnes n'est pas donné dans le fichier, il est possible de l'indiquer \"à la main\" à Pandas.  \n",
        "La fonction `read_csv` retourne une [classe Dataframe](https://pandas.pydata.org/pandas-docs/stable/reference/api/pandas.DataFrame.html) qui supporte de nombreuses fonctions.\n",
        "  \n",
        "Pandas peut lire de nombreux types de fichiers, comme le CSV, Excel, et bien d'autres. Pandas peut lire des données depuis un fichier, depuis un lien HTTP, FTP ou encore depuis un serveur S3. Vous trouverez davantage d'informations dans [la documentation de Pandas](https://pandas.pydata.org/pandas-docs/stable/user_guide/io.html)"
      ]
    },
    {
      "cell_type": "markdown",
      "metadata": {
        "id": "oOLAQM0wlXUd",
        "colab_type": "text"
      },
      "source": [
        "### Télchargement des données depuis un dépôt Github\n",
        "\n",
        "Pour télécharger les données stockées dans un fichier sauvegardé sur un dépôt github, on peut procéder comme suit :\n",
        "\n",
        "```\n",
        "!mkdir data\n",
        "!wget https://raw.githubusercontent.com/AlexandreBourrieau/ML-F1/master/Carnets%20Jupyter/Donn%C3%A9es/All%20Space%20Missions%20from%201957.csv -P data\n",
        "```"
      ]
    },
    {
      "cell_type": "code",
      "metadata": {
        "id": "LzmqfqBzq-Je",
        "colab_type": "code",
        "colab": {
          "base_uri": "https://localhost:8080/",
          "height": 225
        },
        "outputId": "6b490249-3ff2-4c4b-cb26-dc9515c974af"
      },
      "source": [
        "!mkdir data\n",
        "!wget https://raw.githubusercontent.com/AlexandreBourrieau/ML-F1/master/Carnets%20Jupyter/Donn%C3%A9es/All%20Space%20Missions%20from%201957.csv -P data"
      ],
      "execution_count": 81,
      "outputs": [
        {
          "output_type": "stream",
          "text": [
            "mkdir: cannot create directory ‘data’: File exists\n",
            "--2020-09-05 16:56:43--  https://raw.githubusercontent.com/AlexandreBourrieau/ML-F1/master/Carnets%20Jupyter/Donn%C3%A9es/All%20Space%20Missions%20from%201957.csv\n",
            "Resolving raw.githubusercontent.com (raw.githubusercontent.com)... 151.101.0.133, 151.101.64.133, 151.101.128.133, ...\n",
            "Connecting to raw.githubusercontent.com (raw.githubusercontent.com)|151.101.0.133|:443... connected.\n",
            "HTTP request sent, awaiting response... 200 OK\n",
            "Length: 628652 (614K) [text/plain]\n",
            "Saving to: ‘data/All Space Missions from 1957.csv.1’\n",
            "\n",
            "All Space Missions  100%[===================>] 613.92K  --.-KB/s    in 0.07s   \n",
            "\n",
            "2020-09-05 16:56:43 (8.17 MB/s) - ‘data/All Space Missions from 1957.csv.1’ saved [628652/628652]\n",
            "\n"
          ],
          "name": "stdout"
        }
      ]
    },
    {
      "cell_type": "code",
      "metadata": {
        "id": "q8yfdNNLlXUe",
        "colab_type": "code",
        "colab": {
          "base_uri": "https://localhost:8080/",
          "height": 35
        },
        "outputId": "540d43ff-2085-435f-b641-b1619b2d8d9c"
      },
      "source": [
        "#Noms_colonnes = ['Nnum','Unnamed','Company Name','Location','Datum','Detail','Status Rocket','Rocket','Status Mission']\n",
        "\n",
        "# La première ligne contient le nom des colonnes, dans le cas contraire il faut les spécifier\n",
        "#missions = pd.read_csv('data/All Space Missions from 1957.csv', sep=',', names = Noms_colonnes)\n",
        "missions = pd.read_csv('data/All Space Missions from 1957.csv', sep=',')\n",
        "\n",
        "\n",
        "print('Nombre total de missions : %d' % len(missions))"
      ],
      "execution_count": 82,
      "outputs": [
        {
          "output_type": "stream",
          "text": [
            "Nombre total de missions : 4324\n"
          ],
          "name": "stdout"
        }
      ]
    },
    {
      "cell_type": "markdown",
      "metadata": {
        "id": "IdzCg3j1lXUj",
        "colab_type": "text"
      },
      "source": [
        "Affiche les premières lignes des données avec la fonction `head`. La fonction `tail` affiche les dernières lignes. Les deux fonctions retournent un objet Dataframe contenant une liste de lignes."
      ]
    },
    {
      "cell_type": "code",
      "metadata": {
        "id": "svkrlrRNlXUk",
        "colab_type": "code",
        "colab": {
          "base_uri": "https://localhost:8080/",
          "height": 202
        },
        "outputId": "c5e94105-38e0-465c-82e8-e824464e2380"
      },
      "source": [
        "missions.head(5)"
      ],
      "execution_count": null,
      "outputs": [
        {
          "output_type": "execute_result",
          "data": {
            "text/html": [
              "<div>\n",
              "<style scoped>\n",
              "    .dataframe tbody tr th:only-of-type {\n",
              "        vertical-align: middle;\n",
              "    }\n",
              "\n",
              "    .dataframe tbody tr th {\n",
              "        vertical-align: top;\n",
              "    }\n",
              "\n",
              "    .dataframe thead th {\n",
              "        text-align: right;\n",
              "    }\n",
              "</style>\n",
              "<table border=\"1\" class=\"dataframe\">\n",
              "  <thead>\n",
              "    <tr style=\"text-align: right;\">\n",
              "      <th></th>\n",
              "      <th>Unnamed: 0</th>\n",
              "      <th>Unnamed: 0.1</th>\n",
              "      <th>Company Name</th>\n",
              "      <th>Location</th>\n",
              "      <th>Datum</th>\n",
              "      <th>Detail</th>\n",
              "      <th>Status Rocket</th>\n",
              "      <th>Rocket</th>\n",
              "      <th>Status Mission</th>\n",
              "    </tr>\n",
              "  </thead>\n",
              "  <tbody>\n",
              "    <tr>\n",
              "      <th>0</th>\n",
              "      <td>0</td>\n",
              "      <td>0</td>\n",
              "      <td>SpaceX</td>\n",
              "      <td>LC-39A, Kennedy Space Center, Florida, USA</td>\n",
              "      <td>Fri Aug 07, 2020 05:12 UTC</td>\n",
              "      <td>Falcon 9 Block 5 | Starlink V1 L9 &amp; BlackSky</td>\n",
              "      <td>StatusActive</td>\n",
              "      <td>50.0</td>\n",
              "      <td>Success</td>\n",
              "    </tr>\n",
              "    <tr>\n",
              "      <th>1</th>\n",
              "      <td>1</td>\n",
              "      <td>1</td>\n",
              "      <td>CASC</td>\n",
              "      <td>Site 9401 (SLS-2), Jiuquan Satellite Launch Ce...</td>\n",
              "      <td>Thu Aug 06, 2020 04:01 UTC</td>\n",
              "      <td>Long March 2D | Gaofen-9 04 &amp; Q-SAT</td>\n",
              "      <td>StatusActive</td>\n",
              "      <td>29.75</td>\n",
              "      <td>Success</td>\n",
              "    </tr>\n",
              "    <tr>\n",
              "      <th>2</th>\n",
              "      <td>2</td>\n",
              "      <td>2</td>\n",
              "      <td>SpaceX</td>\n",
              "      <td>Pad A, Boca Chica, Texas, USA</td>\n",
              "      <td>Tue Aug 04, 2020 23:57 UTC</td>\n",
              "      <td>Starship Prototype | 150 Meter Hop</td>\n",
              "      <td>StatusActive</td>\n",
              "      <td>NaN</td>\n",
              "      <td>Success</td>\n",
              "    </tr>\n",
              "    <tr>\n",
              "      <th>3</th>\n",
              "      <td>3</td>\n",
              "      <td>3</td>\n",
              "      <td>Roscosmos</td>\n",
              "      <td>Site 200/39, Baikonur Cosmodrome, Kazakhstan</td>\n",
              "      <td>Thu Jul 30, 2020 21:25 UTC</td>\n",
              "      <td>Proton-M/Briz-M | Ekspress-80 &amp; Ekspress-103</td>\n",
              "      <td>StatusActive</td>\n",
              "      <td>65.0</td>\n",
              "      <td>Success</td>\n",
              "    </tr>\n",
              "    <tr>\n",
              "      <th>4</th>\n",
              "      <td>4</td>\n",
              "      <td>4</td>\n",
              "      <td>ULA</td>\n",
              "      <td>SLC-41, Cape Canaveral AFS, Florida, USA</td>\n",
              "      <td>Thu Jul 30, 2020 11:50 UTC</td>\n",
              "      <td>Atlas V 541 | Perseverance</td>\n",
              "      <td>StatusActive</td>\n",
              "      <td>145.0</td>\n",
              "      <td>Success</td>\n",
              "    </tr>\n",
              "  </tbody>\n",
              "</table>\n",
              "</div>"
            ],
            "text/plain": [
              "   Unnamed: 0  Unnamed: 0.1 Company Name  ... Status Rocket  Rocket Status Mission\n",
              "0           0             0       SpaceX  ...  StatusActive   50.0         Success\n",
              "1           1             1         CASC  ...  StatusActive  29.75         Success\n",
              "2           2             2       SpaceX  ...  StatusActive     NaN        Success\n",
              "3           3             3    Roscosmos  ...  StatusActive   65.0         Success\n",
              "4           4             4          ULA  ...  StatusActive  145.0         Success\n",
              "\n",
              "[5 rows x 9 columns]"
            ]
          },
          "metadata": {
            "tags": []
          },
          "execution_count": 27
        }
      ]
    },
    {
      "cell_type": "markdown",
      "metadata": {
        "id": "s1b5H-dOlXUp",
        "colab_type": "text"
      },
      "source": [
        "## Sélection de lignes et de colonnes\n",
        "\n",
        "Une ou plusieurs lignes peuvent être sélectionnées depuis l'objet Dataframe de manière simple. L'objet retourné est encore un  objet de type Dataframe."
      ]
    },
    {
      "cell_type": "code",
      "metadata": {
        "id": "HWDboTzzlXUp",
        "colab_type": "code",
        "colab": {
          "base_uri": "https://localhost:8080/",
          "height": 171
        },
        "outputId": "53fe98a6-2978-42af-dfcd-bec96e4cc42e"
      },
      "source": [
        "missions[1:5]"
      ],
      "execution_count": null,
      "outputs": [
        {
          "output_type": "execute_result",
          "data": {
            "text/html": [
              "<div>\n",
              "<style scoped>\n",
              "    .dataframe tbody tr th:only-of-type {\n",
              "        vertical-align: middle;\n",
              "    }\n",
              "\n",
              "    .dataframe tbody tr th {\n",
              "        vertical-align: top;\n",
              "    }\n",
              "\n",
              "    .dataframe thead th {\n",
              "        text-align: right;\n",
              "    }\n",
              "</style>\n",
              "<table border=\"1\" class=\"dataframe\">\n",
              "  <thead>\n",
              "    <tr style=\"text-align: right;\">\n",
              "      <th></th>\n",
              "      <th>Unnamed: 0</th>\n",
              "      <th>Unnamed: 0.1</th>\n",
              "      <th>Company Name</th>\n",
              "      <th>Location</th>\n",
              "      <th>Datum</th>\n",
              "      <th>Detail</th>\n",
              "      <th>Status Rocket</th>\n",
              "      <th>Rocket</th>\n",
              "      <th>Status Mission</th>\n",
              "    </tr>\n",
              "  </thead>\n",
              "  <tbody>\n",
              "    <tr>\n",
              "      <th>1</th>\n",
              "      <td>1</td>\n",
              "      <td>1</td>\n",
              "      <td>CASC</td>\n",
              "      <td>Site 9401 (SLS-2), Jiuquan Satellite Launch Ce...</td>\n",
              "      <td>Thu Aug 06, 2020 04:01 UTC</td>\n",
              "      <td>Long March 2D | Gaofen-9 04 &amp; Q-SAT</td>\n",
              "      <td>StatusActive</td>\n",
              "      <td>29.75</td>\n",
              "      <td>Success</td>\n",
              "    </tr>\n",
              "    <tr>\n",
              "      <th>2</th>\n",
              "      <td>2</td>\n",
              "      <td>2</td>\n",
              "      <td>SpaceX</td>\n",
              "      <td>Pad A, Boca Chica, Texas, USA</td>\n",
              "      <td>Tue Aug 04, 2020 23:57 UTC</td>\n",
              "      <td>Starship Prototype | 150 Meter Hop</td>\n",
              "      <td>StatusActive</td>\n",
              "      <td>NaN</td>\n",
              "      <td>Success</td>\n",
              "    </tr>\n",
              "    <tr>\n",
              "      <th>3</th>\n",
              "      <td>3</td>\n",
              "      <td>3</td>\n",
              "      <td>Roscosmos</td>\n",
              "      <td>Site 200/39, Baikonur Cosmodrome, Kazakhstan</td>\n",
              "      <td>Thu Jul 30, 2020 21:25 UTC</td>\n",
              "      <td>Proton-M/Briz-M | Ekspress-80 &amp; Ekspress-103</td>\n",
              "      <td>StatusActive</td>\n",
              "      <td>65.0</td>\n",
              "      <td>Success</td>\n",
              "    </tr>\n",
              "    <tr>\n",
              "      <th>4</th>\n",
              "      <td>4</td>\n",
              "      <td>4</td>\n",
              "      <td>ULA</td>\n",
              "      <td>SLC-41, Cape Canaveral AFS, Florida, USA</td>\n",
              "      <td>Thu Jul 30, 2020 11:50 UTC</td>\n",
              "      <td>Atlas V 541 | Perseverance</td>\n",
              "      <td>StatusActive</td>\n",
              "      <td>145.0</td>\n",
              "      <td>Success</td>\n",
              "    </tr>\n",
              "  </tbody>\n",
              "</table>\n",
              "</div>"
            ],
            "text/plain": [
              "   Unnamed: 0  Unnamed: 0.1 Company Name  ... Status Rocket  Rocket Status Mission\n",
              "1           1             1         CASC  ...  StatusActive  29.75         Success\n",
              "2           2             2       SpaceX  ...  StatusActive     NaN        Success\n",
              "3           3             3    Roscosmos  ...  StatusActive   65.0         Success\n",
              "4           4             4          ULA  ...  StatusActive  145.0         Success\n",
              "\n",
              "[4 rows x 9 columns]"
            ]
          },
          "metadata": {
            "tags": []
          },
          "execution_count": 30
        }
      ]
    },
    {
      "cell_type": "markdown",
      "metadata": {
        "id": "HVevoqV6lXUu",
        "colab_type": "text"
      },
      "source": [
        "Les colonnes peuvent être sélectionnées en utlisant la syntaxe suivante. Dans cet exemple, deux colonnes et 5 lignes sont sélectionnées."
      ]
    },
    {
      "cell_type": "code",
      "metadata": {
        "id": "z5Em_NEtlXUv",
        "colab_type": "code",
        "colab": {
          "base_uri": "https://localhost:8080/",
          "height": 202
        },
        "outputId": "ca4c929f-42ea-4628-b691-3222cd26d1e7"
      },
      "source": [
        "missions[['Location', 'Detail']].head(5)"
      ],
      "execution_count": null,
      "outputs": [
        {
          "output_type": "execute_result",
          "data": {
            "text/html": [
              "<div>\n",
              "<style scoped>\n",
              "    .dataframe tbody tr th:only-of-type {\n",
              "        vertical-align: middle;\n",
              "    }\n",
              "\n",
              "    .dataframe tbody tr th {\n",
              "        vertical-align: top;\n",
              "    }\n",
              "\n",
              "    .dataframe thead th {\n",
              "        text-align: right;\n",
              "    }\n",
              "</style>\n",
              "<table border=\"1\" class=\"dataframe\">\n",
              "  <thead>\n",
              "    <tr style=\"text-align: right;\">\n",
              "      <th></th>\n",
              "      <th>Location</th>\n",
              "      <th>Detail</th>\n",
              "    </tr>\n",
              "  </thead>\n",
              "  <tbody>\n",
              "    <tr>\n",
              "      <th>0</th>\n",
              "      <td>LC-39A, Kennedy Space Center, Florida, USA</td>\n",
              "      <td>Falcon 9 Block 5 | Starlink V1 L9 &amp; BlackSky</td>\n",
              "    </tr>\n",
              "    <tr>\n",
              "      <th>1</th>\n",
              "      <td>Site 9401 (SLS-2), Jiuquan Satellite Launch Ce...</td>\n",
              "      <td>Long March 2D | Gaofen-9 04 &amp; Q-SAT</td>\n",
              "    </tr>\n",
              "    <tr>\n",
              "      <th>2</th>\n",
              "      <td>Pad A, Boca Chica, Texas, USA</td>\n",
              "      <td>Starship Prototype | 150 Meter Hop</td>\n",
              "    </tr>\n",
              "    <tr>\n",
              "      <th>3</th>\n",
              "      <td>Site 200/39, Baikonur Cosmodrome, Kazakhstan</td>\n",
              "      <td>Proton-M/Briz-M | Ekspress-80 &amp; Ekspress-103</td>\n",
              "    </tr>\n",
              "    <tr>\n",
              "      <th>4</th>\n",
              "      <td>SLC-41, Cape Canaveral AFS, Florida, USA</td>\n",
              "      <td>Atlas V 541 | Perseverance</td>\n",
              "    </tr>\n",
              "  </tbody>\n",
              "</table>\n",
              "</div>"
            ],
            "text/plain": [
              "                                            Location                                        Detail\n",
              "0         LC-39A, Kennedy Space Center, Florida, USA  Falcon 9 Block 5 | Starlink V1 L9 & BlackSky\n",
              "1  Site 9401 (SLS-2), Jiuquan Satellite Launch Ce...           Long March 2D | Gaofen-9 04 & Q-SAT\n",
              "2                      Pad A, Boca Chica, Texas, USA            Starship Prototype | 150 Meter Hop\n",
              "3       Site 200/39, Baikonur Cosmodrome, Kazakhstan  Proton-M/Briz-M | Ekspress-80 & Ekspress-103\n",
              "4           SLC-41, Cape Canaveral AFS, Florida, USA                    Atlas V 541 | Perseverance"
            ]
          },
          "metadata": {
            "tags": []
          },
          "execution_count": 31
        }
      ]
    },
    {
      "cell_type": "markdown",
      "metadata": {
        "id": "vpDWM42zlXUz",
        "colab_type": "text"
      },
      "source": [
        "Les lignes peuvent être sélectionnées avec des filtres. La syntaxe SQL est aussi supportée. Les détails se trouvent [ici](https://pandas.pydata.org/pandas-docs/stable/getting_started/comparison/comparison_with_sql.html)."
      ]
    },
    {
      "cell_type": "code",
      "metadata": {
        "id": "AYU_NIYFlXU0",
        "colab_type": "code",
        "colab": {
          "base_uri": "https://localhost:8080/",
          "height": 202
        },
        "outputId": "ec929e08-7a2e-4969-b4d2-430c880b9895"
      },
      "source": [
        "missions[(missions['Location'].str.contains('Florida')) & (missions['Detail'].str.contains('V 541'))]"
      ],
      "execution_count": null,
      "outputs": [
        {
          "output_type": "execute_result",
          "data": {
            "text/html": [
              "<div>\n",
              "<style scoped>\n",
              "    .dataframe tbody tr th:only-of-type {\n",
              "        vertical-align: middle;\n",
              "    }\n",
              "\n",
              "    .dataframe tbody tr th {\n",
              "        vertical-align: top;\n",
              "    }\n",
              "\n",
              "    .dataframe thead th {\n",
              "        text-align: right;\n",
              "    }\n",
              "</style>\n",
              "<table border=\"1\" class=\"dataframe\">\n",
              "  <thead>\n",
              "    <tr style=\"text-align: right;\">\n",
              "      <th></th>\n",
              "      <th>Unnamed: 0</th>\n",
              "      <th>Unnamed: 0.1</th>\n",
              "      <th>Company Name</th>\n",
              "      <th>Location</th>\n",
              "      <th>Datum</th>\n",
              "      <th>Detail</th>\n",
              "      <th>Status Rocket</th>\n",
              "      <th>Rocket</th>\n",
              "      <th>Status Mission</th>\n",
              "    </tr>\n",
              "  </thead>\n",
              "  <tbody>\n",
              "    <tr>\n",
              "      <th>4</th>\n",
              "      <td>4</td>\n",
              "      <td>4</td>\n",
              "      <td>ULA</td>\n",
              "      <td>SLC-41, Cape Canaveral AFS, Florida, USA</td>\n",
              "      <td>Thu Jul 30, 2020 11:50 UTC</td>\n",
              "      <td>Atlas V 541 | Perseverance</td>\n",
              "      <td>StatusActive</td>\n",
              "      <td>145.0</td>\n",
              "      <td>Success</td>\n",
              "    </tr>\n",
              "    <tr>\n",
              "      <th>267</th>\n",
              "      <td>267</td>\n",
              "      <td>267</td>\n",
              "      <td>ULA</td>\n",
              "      <td>SLC-41, Cape Canaveral AFS, Florida, USA</td>\n",
              "      <td>Thu Mar 01, 2018 22:02 UTC</td>\n",
              "      <td>Atlas V 541 | GOES-S (GOES-17)</td>\n",
              "      <td>StatusActive</td>\n",
              "      <td>145.0</td>\n",
              "      <td>Success</td>\n",
              "    </tr>\n",
              "    <tr>\n",
              "      <th>394</th>\n",
              "      <td>394</td>\n",
              "      <td>394</td>\n",
              "      <td>ULA</td>\n",
              "      <td>SLC-41, Cape Canaveral AFS, Florida, USA</td>\n",
              "      <td>Sat Nov 19, 2016 23:42 UTC</td>\n",
              "      <td>Atlas V 541 | GOES-R (GOES-16)</td>\n",
              "      <td>StatusActive</td>\n",
              "      <td>145.0</td>\n",
              "      <td>Success</td>\n",
              "    </tr>\n",
              "    <tr>\n",
              "      <th>563</th>\n",
              "      <td>563</td>\n",
              "      <td>563</td>\n",
              "      <td>ULA</td>\n",
              "      <td>SLC-41, Cape Canaveral AFS, Florida, USA</td>\n",
              "      <td>Thu Apr 10, 2014 17:45 UTC</td>\n",
              "      <td>Atlas V 541 | NROL-67</td>\n",
              "      <td>StatusActive</td>\n",
              "      <td>145.0</td>\n",
              "      <td>Success</td>\n",
              "    </tr>\n",
              "    <tr>\n",
              "      <th>662</th>\n",
              "      <td>662</td>\n",
              "      <td>662</td>\n",
              "      <td>ULA</td>\n",
              "      <td>SLC-41, Cape Canaveral AFS, Florida, USA</td>\n",
              "      <td>Sat Nov 26, 2011 15:02 UTC</td>\n",
              "      <td>Atlas V 541 | Mars Science Laboratory</td>\n",
              "      <td>StatusActive</td>\n",
              "      <td>145.0</td>\n",
              "      <td>Success</td>\n",
              "    </tr>\n",
              "  </tbody>\n",
              "</table>\n",
              "</div>"
            ],
            "text/plain": [
              "     Unnamed: 0  Unnamed: 0.1 Company Name  ... Status Rocket  Rocket Status Mission\n",
              "4             4             4          ULA  ...  StatusActive  145.0         Success\n",
              "267         267           267          ULA  ...  StatusActive  145.0         Success\n",
              "394         394           394          ULA  ...  StatusActive  145.0         Success\n",
              "563         563           563          ULA  ...  StatusActive  145.0         Success\n",
              "662         662           662          ULA  ...  StatusActive  145.0         Success\n",
              "\n",
              "[5 rows x 9 columns]"
            ]
          },
          "metadata": {
            "tags": []
          },
          "execution_count": 32
        }
      ]
    },
    {
      "cell_type": "markdown",
      "metadata": {
        "id": "TnM7V4XIlXU7",
        "colab_type": "text"
      },
      "source": [
        "Les lignes peuvent être sélectionnées par des index, soit numériques ou avec les labels. Les détails sont [ici](https://pandas.pydata.org/pandas-docs/stable/user_guide/indexing.html). La sélection numérique est réalisée avec la fonction ```iloc()```."
      ]
    },
    {
      "cell_type": "code",
      "metadata": {
        "id": "q3SNScMZlXU8",
        "colab_type": "code",
        "colab": {
          "base_uri": "https://localhost:8080/",
          "height": 35
        },
        "outputId": "28763109-0db6-404e-c61c-aa34ef0fbd06"
      },
      "source": [
        "# Sélection d'une seule valeur en se basant sur les index\n",
        "\n",
        "missions.iloc[4]['Company Name']"
      ],
      "execution_count": null,
      "outputs": [
        {
          "output_type": "execute_result",
          "data": {
            "application/vnd.google.colaboratory.intrinsic+json": {
              "type": "string"
            },
            "text/plain": [
              "'ULA'"
            ]
          },
          "metadata": {
            "tags": []
          },
          "execution_count": 34
        }
      ]
    },
    {
      "cell_type": "code",
      "metadata": {
        "id": "OCPqHzTClXVA",
        "colab_type": "code",
        "colab": {
          "base_uri": "https://localhost:8080/",
          "height": 104
        },
        "outputId": "beb97937-7c97-43b3-fc18-2884623674e7"
      },
      "source": [
        "# Sélection de quelques lignes en utilisant un intervalle\n",
        "\n",
        "missions.iloc[1:5]"
      ],
      "execution_count": null,
      "outputs": [
        {
          "output_type": "execute_result",
          "data": {
            "text/plain": [
              "1         CASC\n",
              "2       SpaceX\n",
              "3    Roscosmos\n",
              "4          ULA\n",
              "Name: Company Name, dtype: object"
            ]
          },
          "metadata": {
            "tags": []
          },
          "execution_count": 36
        }
      ]
    },
    {
      "cell_type": "markdown",
      "metadata": {
        "id": "aN_NVRa1lXVJ",
        "colab_type": "text"
      },
      "source": [
        "## Inspection des données\n",
        "\n",
        "Les cellules suivantes permettent dobtenir des informations sur les objets Dataframe, ce qui peut être très utile pendant la phase préliminaire d'analyse."
      ]
    },
    {
      "cell_type": "code",
      "metadata": {
        "id": "YqrSqZSalXVK",
        "colab_type": "code",
        "colab": {
          "base_uri": "https://localhost:8080/",
          "height": 69
        },
        "outputId": "dc19f425-d785-4208-fed0-bb7e5cb74c51"
      },
      "source": [
        "missions.columns"
      ],
      "execution_count": null,
      "outputs": [
        {
          "output_type": "execute_result",
          "data": {
            "text/plain": [
              "Index(['Unnamed: 0', 'Unnamed: 0.1', 'Company Name', 'Location', 'Datum',\n",
              "       'Detail', 'Status Rocket', 'Rocket', 'Status Mission'],\n",
              "      dtype='object')"
            ]
          },
          "metadata": {
            "tags": []
          },
          "execution_count": 37
        }
      ]
    },
    {
      "cell_type": "markdown",
      "metadata": {
        "id": "YgAPTRddlXVO",
        "colab_type": "text"
      },
      "source": [
        "La fonction `describe` donne des informations statistiques sur les colonnes à valeurs numériques."
      ]
    },
    {
      "cell_type": "code",
      "metadata": {
        "id": "7cLYpFRolXVP",
        "colab_type": "code",
        "colab": {
          "base_uri": "https://localhost:8080/",
          "height": 294
        },
        "outputId": "d93d370a-5b95-4ac1-cdde-e261e5fea5e5"
      },
      "source": [
        "missions.describe()"
      ],
      "execution_count": null,
      "outputs": [
        {
          "output_type": "execute_result",
          "data": {
            "text/html": [
              "<div>\n",
              "<style scoped>\n",
              "    .dataframe tbody tr th:only-of-type {\n",
              "        vertical-align: middle;\n",
              "    }\n",
              "\n",
              "    .dataframe tbody tr th {\n",
              "        vertical-align: top;\n",
              "    }\n",
              "\n",
              "    .dataframe thead th {\n",
              "        text-align: right;\n",
              "    }\n",
              "</style>\n",
              "<table border=\"1\" class=\"dataframe\">\n",
              "  <thead>\n",
              "    <tr style=\"text-align: right;\">\n",
              "      <th></th>\n",
              "      <th>Unnamed: 0</th>\n",
              "      <th>Unnamed: 0.1</th>\n",
              "    </tr>\n",
              "  </thead>\n",
              "  <tbody>\n",
              "    <tr>\n",
              "      <th>count</th>\n",
              "      <td>4324.000000</td>\n",
              "      <td>4324.000000</td>\n",
              "    </tr>\n",
              "    <tr>\n",
              "      <th>mean</th>\n",
              "      <td>2161.500000</td>\n",
              "      <td>2161.500000</td>\n",
              "    </tr>\n",
              "    <tr>\n",
              "      <th>std</th>\n",
              "      <td>1248.375611</td>\n",
              "      <td>1248.375611</td>\n",
              "    </tr>\n",
              "    <tr>\n",
              "      <th>min</th>\n",
              "      <td>0.000000</td>\n",
              "      <td>0.000000</td>\n",
              "    </tr>\n",
              "    <tr>\n",
              "      <th>25%</th>\n",
              "      <td>1080.750000</td>\n",
              "      <td>1080.750000</td>\n",
              "    </tr>\n",
              "    <tr>\n",
              "      <th>50%</th>\n",
              "      <td>2161.500000</td>\n",
              "      <td>2161.500000</td>\n",
              "    </tr>\n",
              "    <tr>\n",
              "      <th>75%</th>\n",
              "      <td>3242.250000</td>\n",
              "      <td>3242.250000</td>\n",
              "    </tr>\n",
              "    <tr>\n",
              "      <th>max</th>\n",
              "      <td>4323.000000</td>\n",
              "      <td>4323.000000</td>\n",
              "    </tr>\n",
              "  </tbody>\n",
              "</table>\n",
              "</div>"
            ],
            "text/plain": [
              "        Unnamed: 0  Unnamed: 0.1\n",
              "count  4324.000000   4324.000000\n",
              "mean   2161.500000   2161.500000\n",
              "std    1248.375611   1248.375611\n",
              "min       0.000000      0.000000\n",
              "25%    1080.750000   1080.750000\n",
              "50%    2161.500000   2161.500000\n",
              "75%    3242.250000   3242.250000\n",
              "max    4323.000000   4323.000000"
            ]
          },
          "metadata": {
            "tags": []
          },
          "execution_count": 39
        }
      ]
    },
    {
      "cell_type": "markdown",
      "metadata": {
        "id": "kiGZ6KfjlXVT",
        "colab_type": "text"
      },
      "source": [
        "Pandas essaye de déteriner le type de données de chaque colonne.  Si une colonne contient différents types de données, ce type est assumé comme \"objet\".  \n",
        "Les types gérés par Pandas se trouvent [ici](https://pandas.pydata.org/pandas-docs/stable/reference/api/pandas.DataFrame.dtypes.html). "
      ]
    },
    {
      "cell_type": "code",
      "metadata": {
        "id": "rXEG7kDMlXVU",
        "colab_type": "code",
        "colab": {
          "base_uri": "https://localhost:8080/",
          "height": 191
        },
        "outputId": "3a661c18-6cad-4dc2-c2b0-cc8872c21ecb"
      },
      "source": [
        "missions.dtypes"
      ],
      "execution_count": null,
      "outputs": [
        {
          "output_type": "execute_result",
          "data": {
            "text/plain": [
              "Unnamed: 0         int64\n",
              "Unnamed: 0.1       int64\n",
              "Company Name      object\n",
              "Location          object\n",
              "Datum             object\n",
              "Detail            object\n",
              "Status Rocket     object\n",
              "Rocket            object\n",
              "Status Mission    object\n",
              "dtype: object"
            ]
          },
          "metadata": {
            "tags": []
          },
          "execution_count": 40
        }
      ]
    },
    {
      "cell_type": "markdown",
      "metadata": {
        "id": "qUR1T5SolXVX",
        "colab_type": "text"
      },
      "source": [
        "## Les objects de type \"Series\"\n",
        "\n",
        "Les colonnes dans le Dataframe Pandas sont des instances de la classe [Series](https://pandas.pydata.org/pandas-docs/stable/reference/series.html). La classe \"Series\" contient de nombreuses fonctions. Voici un exemple : \n"
      ]
    },
    {
      "cell_type": "code",
      "metadata": {
        "id": "Op64UynzlXVY",
        "colab_type": "code",
        "colab": {}
      },
      "source": [
        "missions['Company Name'].unique()"
      ],
      "execution_count": null,
      "outputs": []
    },
    {
      "cell_type": "markdown",
      "metadata": {
        "id": "bzfprgHjlXVc",
        "colab_type": "text"
      },
      "source": [
        "La propriétée ```values``` retourne un tableau NumPy."
      ]
    },
    {
      "cell_type": "code",
      "metadata": {
        "id": "a1EBEda3lXVd",
        "colab_type": "code",
        "colab": {}
      },
      "source": [
        "missions[1:5].Rocket.values"
      ],
      "execution_count": null,
      "outputs": []
    },
    {
      "cell_type": "markdown",
      "metadata": {
        "id": "1jC9zczwlXVg",
        "colab_type": "text"
      },
      "source": [
        "## Tri\n",
        "\n",
        "Les objets Dataframe et Series peuvent être triés par une ou plusieurs colonnes."
      ]
    },
    {
      "cell_type": "markdown",
      "metadata": {
        "id": "0EvgJIn7-n3Q",
        "colab_type": "text"
      },
      "source": [
        ""
      ]
    },
    {
      "cell_type": "markdown",
      "metadata": {
        "id": "MspOXDdW-mcH",
        "colab_type": "text"
      },
      "source": [
        "Dans l'exemple suivant, la colonne \"Datum\" est de type objet et non de type \"datetime\". Le tri n'est donc pas possible :"
      ]
    },
    {
      "cell_type": "code",
      "metadata": {
        "id": "Pl5T3Sj8lXVh",
        "colab_type": "code",
        "colab": {}
      },
      "source": [
        "missions.sort_values(by='Rocket', ascending=True).head(50)"
      ],
      "execution_count": null,
      "outputs": []
    },
    {
      "cell_type": "markdown",
      "metadata": {
        "id": "B_C6y1EdlXVl",
        "colab_type": "text"
      },
      "source": [
        "## Conversion de types\n",
        "\n",
        "Pour convertir le type d'une colonne, il faut tout d'abord copier la variable Dataframe puis effectuer les conversions sur cette variable.  \n",
        "Dans l'exemple suivant, l'objet \"Rocket\" est de type chaine de caractère. Pour le convertir en flottant, nous sommes obligé de supprimer les virgules sinon nous obtenons une erreur.  "
      ]
    },
    {
      "cell_type": "code",
      "metadata": {
        "id": "hWDsTBzNlXVl",
        "colab_type": "code",
        "colab": {}
      },
      "source": [
        "# Cette méthode ne fonctionne pas\n",
        "#issions2 = missions.copy()\n",
        "#missions2['Rocket'] = missions2['Rocket'].astype(float)\n",
        "\n",
        "# Cette méthode fonctionne, il faut d'abord supprimer les virgules\n",
        "\n",
        "missions2 = missions.copy()\n",
        "missions2['Rocket'] = missions2['Rocket'].str.replace(\",\",\"\").astype(float)\n",
        "missions2.sort_values(by='Rocket', ascending=True).head(50)\n",
        "missions2.dtypes"
      ],
      "execution_count": null,
      "outputs": []
    },
    {
      "cell_type": "code",
      "metadata": {
        "id": "_osdBIM1lXVq",
        "colab_type": "code",
        "colab": {}
      },
      "source": [
        "missions2.dtypes"
      ],
      "execution_count": null,
      "outputs": []
    },
    {
      "cell_type": "code",
      "metadata": {
        "id": "Bf8klWU3lXVt",
        "colab_type": "code",
        "colab": {}
      },
      "source": [
        "missions2.describe()"
      ],
      "execution_count": null,
      "outputs": []
    },
    {
      "cell_type": "markdown",
      "metadata": {
        "id": "GQEqyUsNMV_k",
        "colab_type": "text"
      },
      "source": [
        "On peut également vouloir copier uniquement les données qui sont exploitables, c'est-à-dire par exemple celles dont la valeur n'est pas égale à \"Nan\". "
      ]
    },
    {
      "cell_type": "code",
      "metadata": {
        "id": "ethfK7uFMl4N",
        "colab_type": "code",
        "colab": {}
      },
      "source": [
        "missions2 = missions[missions.Rocket.str.find(\"nan\")<0].copy()\n",
        "missions2['Rocket'] = missions2['Rocket'].str.replace(\",\",\"\").astype(float)\n",
        "missions2.sort_values(by='Rocket', ascending=True).head(50)"
      ],
      "execution_count": null,
      "outputs": []
    },
    {
      "cell_type": "markdown",
      "metadata": {
        "id": "COCuQVTVlXVx",
        "colab_type": "text"
      },
      "source": [
        "## Agrégation\n",
        "\n",
        "La fonction groupby permet de regrouper des données par colonnes ou pas ensemble de colonnes et d'y appliquer des fonctions d'agrégation, comme count, min, max, etc ... "
      ]
    },
    {
      "cell_type": "code",
      "metadata": {
        "id": "zAgLDwavlXVy",
        "colab_type": "code",
        "colab": {}
      },
      "source": [
        "pricedCars.groupby(['make']).max().head(5)"
      ],
      "execution_count": null,
      "outputs": []
    },
    {
      "cell_type": "code",
      "metadata": {
        "id": "qP3DCyvNlXV1",
        "colab_type": "code",
        "colab": {}
      },
      "source": [
        "pricedCars.groupby(['make', 'body_style']).max().head(5)"
      ],
      "execution_count": null,
      "outputs": []
    },
    {
      "cell_type": "markdown",
      "metadata": {
        "id": "Y4CDWMWklXV4",
        "colab_type": "text"
      },
      "source": [
        "The ```groupby``` method returns a DataFrameGroupBy object. It is possible to iterate over a DataFrameGroupBy object."
      ]
    },
    {
      "cell_type": "code",
      "metadata": {
        "id": "uxHYObwYlXV5",
        "colab_type": "code",
        "colab": {}
      },
      "source": [
        "groups = pricedCars.groupby(['make'])\n",
        "\n",
        "# groupDF is a DataFrame containing all rows withing a group.\n",
        "for groupName, groupDF in groups:\n",
        "    print(groupName, len(groupDF))"
      ],
      "execution_count": null,
      "outputs": []
    },
    {
      "cell_type": "markdown",
      "metadata": {
        "id": "Xsup5B8ilXV9",
        "colab_type": "text"
      },
      "source": [
        "## Visualisation\n",
        "\n",
        "Les objets Dataframe de Pandas contiennent des fonctions pour créer un très grand nombre de courbes en utlisant [Matplotlib](https://matplotlib.org). Les fonctions d'affichage de Pandas sont documentées dans [la documentation](https://pandas.pydata.org/pandas-docs/stable/user_guide/visualization.html)."
      ]
    },
    {
      "cell_type": "code",
      "metadata": {
        "id": "wqvzyhfGlXV9",
        "colab_type": "code",
        "colab": {}
      },
      "source": [
        "pricedCars.hist('price', bins=50)"
      ],
      "execution_count": null,
      "outputs": []
    },
    {
      "cell_type": "code",
      "metadata": {
        "id": "vTFvHAiWlXWB",
        "colab_type": "code",
        "colab": {}
      },
      "source": [
        "pricedCars.hist('price', bins=50, cumulative=-1)"
      ],
      "execution_count": null,
      "outputs": []
    },
    {
      "cell_type": "code",
      "metadata": {
        "id": "EUH01p5HlXWF",
        "colab_type": "code",
        "colab": {}
      },
      "source": [
        "hpPricedCars = pricedCars[pricedCars.horsepower.str.isnumeric()].copy()\n",
        "hpPricedCars.horsepower = hpPricedCars.horsepower.astype(float)"
      ],
      "execution_count": null,
      "outputs": []
    },
    {
      "cell_type": "code",
      "metadata": {
        "id": "y8OpBrYalXWK",
        "colab_type": "code",
        "colab": {}
      },
      "source": [
        "hpPricedCars.plot.scatter(x='horsepower', y='city_mpg', color='red')"
      ],
      "execution_count": null,
      "outputs": []
    },
    {
      "cell_type": "code",
      "metadata": {
        "id": "RBvcZDbLlXWN",
        "colab_type": "code",
        "colab": {}
      },
      "source": [
        "hpPricedCars.plot.scatter(x='horsepower', y='highway_mpg', color='red')"
      ],
      "execution_count": null,
      "outputs": []
    },
    {
      "cell_type": "code",
      "metadata": {
        "id": "PqBWy_ThlXWR",
        "colab_type": "code",
        "colab": {}
      },
      "source": [
        "priceGroups = pricedCars.groupby(['make'])['price']\n",
        "means = priceGroups.mean()\n",
        "std = priceGroups.std()"
      ],
      "execution_count": null,
      "outputs": []
    },
    {
      "cell_type": "code",
      "metadata": {
        "id": "znFWbCcrlXWV",
        "colab_type": "code",
        "colab": {}
      },
      "source": [
        "fig, ax = plt.subplots()\n",
        "means.plot.bar(ax=ax, yerr=std, color='lightgreen')"
      ],
      "execution_count": null,
      "outputs": []
    },
    {
      "cell_type": "code",
      "metadata": {
        "id": "C_OFt_XQlXWZ",
        "colab_type": "code",
        "colab": {}
      },
      "source": [
        ""
      ],
      "execution_count": null,
      "outputs": []
    }
  ]
}