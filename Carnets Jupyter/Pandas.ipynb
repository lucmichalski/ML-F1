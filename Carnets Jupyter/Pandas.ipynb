{
  "nbformat": 4,
  "nbformat_minor": 0,
  "metadata": {
    "kernelspec": {
      "display_name": "Python 3",
      "language": "python",
      "name": "python3"
    },
    "language_info": {
      "codemirror_mode": {
        "name": "ipython",
        "version": 3
      },
      "file_extension": ".py",
      "mimetype": "text/x-python",
      "name": "python",
      "nbconvert_exporter": "python",
      "pygments_lexer": "ipython3",
      "version": "3.6.8"
    },
    "colab": {
      "name": "Pandas.ipynb",
      "provenance": []
    }
  },
  "cells": [
    {
      "cell_type": "markdown",
      "metadata": {
        "id": "jd-m28CDlXUU",
        "colab_type": "text"
      },
      "source": [
        "# Exemple d'utilisation de Pandas\n",
        "\n",
        "Voici un carnet qui décrit les bases de Pandas, une librairie Python permettant d'analyser et de manipuler des données. Vous pouvez trouver davantages de détails sur le [site internet de Pandas](https://pandas.pydata.org/).\n",
        "\n",
        "Cet exemple utlise une base de données contenant une description des missions spatiales depuis effectuées depuis 1957. Elle provient du site [Kaggle](https://www.kaggle.com/agirlcoding/all-space-missions-from-1957)"
      ]
    },
    {
      "cell_type": "code",
      "metadata": {
        "id": "dBT1YCWXlXUW",
        "colab_type": "code",
        "colab": {}
      },
      "source": [
        "import pandas as pd\n",
        "import matplotlib.pyplot as plt"
      ],
      "execution_count": 24,
      "outputs": []
    },
    {
      "cell_type": "markdown",
      "metadata": {
        "id": "IW-fYZlilXUc",
        "colab_type": "text"
      },
      "source": [
        "## Chargement des données\n",
        "\n",
        "Les données sont au format CSV. Elles sont séparées par des virgules. Pandas assume que la première ligne contient le nom des colonnes mais si le nom des colonnnes n'est pas donné dans le fichier, il est possible de l'indiquer \"à la main\" à Pandas.  \n",
        "La fonction `read_csv` retourne une [classe Dataframe](https://pandas.pydata.org/pandas-docs/stable/reference/api/pandas.DataFrame.html) qui supporte de nombreuses fonctions.\n",
        "  \n",
        "Pandas peut lire de nombreux types de fichiers, comme le CSV, Excel, et bien d'autres. Pandas peut lire des données depuis un fichier, depuis un lien HTTP, FTP ou encore depuis un serveur S3. Vous trouverez davantage d'informations dans [la documentation de Pandas](https://pandas.pydata.org/pandas-docs/stable/user_guide/io.html)"
      ]
    },
    {
      "cell_type": "markdown",
      "metadata": {
        "id": "oOLAQM0wlXUd",
        "colab_type": "text"
      },
      "source": [
        "### Télchargement des données depuis un dépôt Github\n",
        "\n",
        "Pour télécharger les données stockées dans un fichier sauvegardé sur un dépôt github, on peut procéder comme suit :\n",
        "\n",
        "```\n",
        "!mkdir data\n",
        "!wget https://raw.githubusercontent.com/AlexandreBourrieau/ML-F1/master/Carnets%20Jupyter/Donn%C3%A9es/All%20Space%20Missions%20from%201957.csv -P data\n",
        "```"
      ]
    },
    {
      "cell_type": "code",
      "metadata": {
        "id": "LzmqfqBzq-Je",
        "colab_type": "code",
        "colab": {}
      },
      "source": [
        "!mkdir data\n",
        "!wget https://raw.githubusercontent.com/AlexandreBourrieau/ML-F1/master/Carnets%20Jupyter/Donn%C3%A9es/All%20Space%20Missions%20from%201957.csv -P data"
      ],
      "execution_count": null,
      "outputs": []
    },
    {
      "cell_type": "code",
      "metadata": {
        "id": "q8yfdNNLlXUe",
        "colab_type": "code",
        "colab": {}
      },
      "source": [
        "#Noms_colonnes = ['Nnum','Unnamed','Company Name','Location','Datum','Detail','Status Rocket','Rocket','Status Mission']\n",
        "\n",
        "# La première ligne contient le nom des colonnes, dans le cas contraire il faut les spécifier\n",
        "#missions = pd.read_csv('data/All Space Missions from 1957.csv', sep=',', names = Noms_colonnes)\n",
        "missions = pd.read_csv('data/All Space Missions from 1957.csv', sep=',')\n",
        "\n",
        "\n",
        "print('Nombre total de missions : %d' % len(missions))"
      ],
      "execution_count": null,
      "outputs": []
    },
    {
      "cell_type": "markdown",
      "metadata": {
        "id": "IdzCg3j1lXUj",
        "colab_type": "text"
      },
      "source": [
        "Affiche les premières lignes des données avec la fonction `head`. La fonction `tail` affiche les dernières lignes. Les deux fonctions retournent un objet Dataframe contenant une liste de lignes."
      ]
    },
    {
      "cell_type": "code",
      "metadata": {
        "id": "svkrlrRNlXUk",
        "colab_type": "code",
        "colab": {}
      },
      "source": [
        "missions.head(5)"
      ],
      "execution_count": null,
      "outputs": []
    },
    {
      "cell_type": "markdown",
      "metadata": {
        "id": "s1b5H-dOlXUp",
        "colab_type": "text"
      },
      "source": [
        "## Sélection de lignes et de colonnes\n",
        "\n",
        "Une ou plusieurs lignes peuvent être sélectionnées depuis l'objet Dataframe de manière simple. L'objet retourné est encore un  objet de type Dataframe."
      ]
    },
    {
      "cell_type": "code",
      "metadata": {
        "id": "HWDboTzzlXUp",
        "colab_type": "code",
        "colab": {}
      },
      "source": [
        "missions[1:5]"
      ],
      "execution_count": null,
      "outputs": []
    },
    {
      "cell_type": "markdown",
      "metadata": {
        "id": "HVevoqV6lXUu",
        "colab_type": "text"
      },
      "source": [
        "Les colonnes peuvent être sélectionnées en utlisant la syntaxe suivante. Dans cet exemple, deux colonnes et 5 lignes sont sélectionnées."
      ]
    },
    {
      "cell_type": "code",
      "metadata": {
        "id": "z5Em_NEtlXUv",
        "colab_type": "code",
        "colab": {}
      },
      "source": [
        "missions[['Location', 'Detail']].head(5)"
      ],
      "execution_count": null,
      "outputs": []
    },
    {
      "cell_type": "markdown",
      "metadata": {
        "id": "vpDWM42zlXUz",
        "colab_type": "text"
      },
      "source": [
        "Les lignes peuvent être sélectionnées avec des filtres. La syntaxe SQL est aussi supportée. Les détails se trouvent [ici](https://pandas.pydata.org/pandas-docs/stable/getting_started/comparison/comparison_with_sql.html)."
      ]
    },
    {
      "cell_type": "code",
      "metadata": {
        "id": "AYU_NIYFlXU0",
        "colab_type": "code",
        "colab": {}
      },
      "source": [
        "missions[(missions['Location'].str.contains('Florida')) & (missions['Detail'].str.contains('V 541'))]"
      ],
      "execution_count": null,
      "outputs": []
    },
    {
      "cell_type": "markdown",
      "metadata": {
        "id": "TnM7V4XIlXU7",
        "colab_type": "text"
      },
      "source": [
        "Les lignes peuvent être sélectionnées par des index, soit numériques ou avec les labels. Les détails sont [ici](https://pandas.pydata.org/pandas-docs/stable/user_guide/indexing.html). La sélection numérique est réalisée avec la fonction ```iloc()```."
      ]
    },
    {
      "cell_type": "code",
      "metadata": {
        "id": "q3SNScMZlXU8",
        "colab_type": "code",
        "colab": {}
      },
      "source": [
        "# Sélection d'une seule valeur en se basant sur les index\n",
        "\n",
        "missions.iloc[4]['Company Name']"
      ],
      "execution_count": null,
      "outputs": []
    },
    {
      "cell_type": "code",
      "metadata": {
        "id": "OCPqHzTClXVA",
        "colab_type": "code",
        "colab": {
          "base_uri": "https://localhost:8080/",
          "height": 171
        },
        "outputId": "561a092f-1b38-482b-b89f-4d981675a4d3"
      },
      "source": [
        "# Sélection de quelques lignes en utilisant un intervalle\n",
        "\n",
        "missions.iloc[1:5]"
      ],
      "execution_count": 25,
      "outputs": [
        {
          "output_type": "execute_result",
          "data": {
            "text/html": [
              "<div>\n",
              "<style scoped>\n",
              "    .dataframe tbody tr th:only-of-type {\n",
              "        vertical-align: middle;\n",
              "    }\n",
              "\n",
              "    .dataframe tbody tr th {\n",
              "        vertical-align: top;\n",
              "    }\n",
              "\n",
              "    .dataframe thead th {\n",
              "        text-align: right;\n",
              "    }\n",
              "</style>\n",
              "<table border=\"1\" class=\"dataframe\">\n",
              "  <thead>\n",
              "    <tr style=\"text-align: right;\">\n",
              "      <th></th>\n",
              "      <th>Unnamed: 0</th>\n",
              "      <th>Unnamed: 0.1</th>\n",
              "      <th>Company Name</th>\n",
              "      <th>Location</th>\n",
              "      <th>Datum</th>\n",
              "      <th>Detail</th>\n",
              "      <th>Status Rocket</th>\n",
              "      <th>Rocket</th>\n",
              "      <th>Status Mission</th>\n",
              "    </tr>\n",
              "  </thead>\n",
              "  <tbody>\n",
              "    <tr>\n",
              "      <th>1</th>\n",
              "      <td>1</td>\n",
              "      <td>1</td>\n",
              "      <td>CASC</td>\n",
              "      <td>Site 9401 (SLS-2), Jiuquan Satellite Launch Ce...</td>\n",
              "      <td>Thu Aug 06, 2020 04:01 UTC</td>\n",
              "      <td>Long March 2D | Gaofen-9 04 &amp; Q-SAT</td>\n",
              "      <td>StatusActive</td>\n",
              "      <td>29.75</td>\n",
              "      <td>Success</td>\n",
              "    </tr>\n",
              "    <tr>\n",
              "      <th>2</th>\n",
              "      <td>2</td>\n",
              "      <td>2</td>\n",
              "      <td>SpaceX</td>\n",
              "      <td>Pad A, Boca Chica, Texas, USA</td>\n",
              "      <td>Tue Aug 04, 2020 23:57 UTC</td>\n",
              "      <td>Starship Prototype | 150 Meter Hop</td>\n",
              "      <td>StatusActive</td>\n",
              "      <td>NaN</td>\n",
              "      <td>Success</td>\n",
              "    </tr>\n",
              "    <tr>\n",
              "      <th>3</th>\n",
              "      <td>3</td>\n",
              "      <td>3</td>\n",
              "      <td>Roscosmos</td>\n",
              "      <td>Site 200/39, Baikonur Cosmodrome, Kazakhstan</td>\n",
              "      <td>Thu Jul 30, 2020 21:25 UTC</td>\n",
              "      <td>Proton-M/Briz-M | Ekspress-80 &amp; Ekspress-103</td>\n",
              "      <td>StatusActive</td>\n",
              "      <td>65.0</td>\n",
              "      <td>Success</td>\n",
              "    </tr>\n",
              "    <tr>\n",
              "      <th>4</th>\n",
              "      <td>4</td>\n",
              "      <td>4</td>\n",
              "      <td>ULA</td>\n",
              "      <td>SLC-41, Cape Canaveral AFS, Florida, USA</td>\n",
              "      <td>Thu Jul 30, 2020 11:50 UTC</td>\n",
              "      <td>Atlas V 541 | Perseverance</td>\n",
              "      <td>StatusActive</td>\n",
              "      <td>145.0</td>\n",
              "      <td>Success</td>\n",
              "    </tr>\n",
              "  </tbody>\n",
              "</table>\n",
              "</div>"
            ],
            "text/plain": [
              "   Unnamed: 0  Unnamed: 0.1 Company Name  ... Status Rocket  Rocket Status Mission\n",
              "1           1             1         CASC  ...  StatusActive  29.75         Success\n",
              "2           2             2       SpaceX  ...  StatusActive     NaN        Success\n",
              "3           3             3    Roscosmos  ...  StatusActive   65.0         Success\n",
              "4           4             4          ULA  ...  StatusActive  145.0         Success\n",
              "\n",
              "[4 rows x 9 columns]"
            ]
          },
          "metadata": {
            "tags": []
          },
          "execution_count": 25
        }
      ]
    },
    {
      "cell_type": "markdown",
      "metadata": {
        "id": "aN_NVRa1lXVJ",
        "colab_type": "text"
      },
      "source": [
        "## Inspection des données\n",
        "\n",
        "Les cellules suivantes permettent dobtenir des informations sur les objets Dataframe, ce qui peut être très utile pendant la phase préliminaire d'analyse."
      ]
    },
    {
      "cell_type": "code",
      "metadata": {
        "id": "YqrSqZSalXVK",
        "colab_type": "code",
        "colab": {}
      },
      "source": [
        "missions.columns"
      ],
      "execution_count": null,
      "outputs": []
    },
    {
      "cell_type": "markdown",
      "metadata": {
        "id": "YgAPTRddlXVO",
        "colab_type": "text"
      },
      "source": [
        "La fonction `describe` donne des informations statistiques sur les colonnes à valeurs numériques."
      ]
    },
    {
      "cell_type": "code",
      "metadata": {
        "id": "7cLYpFRolXVP",
        "colab_type": "code",
        "colab": {}
      },
      "source": [
        "missions.describe()"
      ],
      "execution_count": null,
      "outputs": []
    },
    {
      "cell_type": "markdown",
      "metadata": {
        "id": "kiGZ6KfjlXVT",
        "colab_type": "text"
      },
      "source": [
        "Pandas essaye de déteriner le type de données de chaque colonne.  Si une colonne contient différents types de données, ce type est assumé comme \"objet\".  \n",
        "Les types gérés par Pandas se trouvent [ici](https://pandas.pydata.org/pandas-docs/stable/reference/api/pandas.DataFrame.dtypes.html). "
      ]
    },
    {
      "cell_type": "code",
      "metadata": {
        "id": "rXEG7kDMlXVU",
        "colab_type": "code",
        "colab": {}
      },
      "source": [
        "missions.dtypes"
      ],
      "execution_count": null,
      "outputs": []
    },
    {
      "cell_type": "markdown",
      "metadata": {
        "id": "qUR1T5SolXVX",
        "colab_type": "text"
      },
      "source": [
        "## Les objects de type \"Series\"\n",
        "\n",
        "Les colonnes dans le Dataframe Pandas sont des instances de la classe [Series](https://pandas.pydata.org/pandas-docs/stable/reference/series.html). La classe \"Series\" contient de nombreuses fonctions. Voici un exemple : \n"
      ]
    },
    {
      "cell_type": "code",
      "metadata": {
        "id": "Op64UynzlXVY",
        "colab_type": "code",
        "colab": {}
      },
      "source": [
        "missions.Rocket.unique()"
      ],
      "execution_count": null,
      "outputs": []
    },
    {
      "cell_type": "markdown",
      "metadata": {
        "id": "bzfprgHjlXVc",
        "colab_type": "text"
      },
      "source": [
        "La propriétée ```values``` retourne un tableau NumPy."
      ]
    },
    {
      "cell_type": "code",
      "metadata": {
        "id": "a1EBEda3lXVd",
        "colab_type": "code",
        "colab": {}
      },
      "source": [
        "missions[1:5]['Rocket'].values"
      ],
      "execution_count": null,
      "outputs": []
    },
    {
      "cell_type": "markdown",
      "metadata": {
        "id": "1jC9zczwlXVg",
        "colab_type": "text"
      },
      "source": [
        "## Tri\n",
        "\n",
        "Les objets Dataframe et Series peuvent être triés par une ou plusieurs colonnes."
      ]
    },
    {
      "cell_type": "code",
      "metadata": {
        "id": "Pl5T3Sj8lXVh",
        "colab_type": "code",
        "colab": {}
      },
      "source": [
        "missions.sort_values(by='Rocket', ascending=True).head(50)"
      ],
      "execution_count": null,
      "outputs": []
    },
    {
      "cell_type": "markdown",
      "metadata": {
        "id": "B_C6y1EdlXVl",
        "colab_type": "text"
      },
      "source": [
        "## Conversion de types\n",
        "\n",
        "Pour convertir le type d'une colonne, il faut tout d'abord copier la variable Dataframe puis effectuer les conversions sur cette variable.  \n",
        "Dans l'exemple suivant, l'objet \"Rocket\" est de type chaine de caractère. Pour le convertir en flottant, nous sommes obligé de supprimer les virgules sinon nous obtenons une erreur.  "
      ]
    },
    {
      "cell_type": "code",
      "metadata": {
        "id": "hWDsTBzNlXVl",
        "colab_type": "code",
        "colab": {}
      },
      "source": [
        "# Cette méthode ne fonctionne pas\n",
        "#issions2 = missions.copy()\n",
        "#missions2['Rocket'] = missions2['Rocket'].astype(float)\n",
        "\n",
        "# Cette méthode fonctionne, il faut d'abord supprimer les virgules\n",
        "\n",
        "missions2 = missions.copy()\n",
        "missions2['Rocket'] = missions2['Rocket'].str.replace(\",\",\"\").astype(float)\n",
        "missions2.sort_values(by='Rocket', ascending=True).head(50)\n",
        "missions2.dtypes"
      ],
      "execution_count": null,
      "outputs": []
    },
    {
      "cell_type": "code",
      "metadata": {
        "id": "_osdBIM1lXVq",
        "colab_type": "code",
        "colab": {}
      },
      "source": [
        "missions2.dtypes"
      ],
      "execution_count": null,
      "outputs": []
    },
    {
      "cell_type": "code",
      "metadata": {
        "id": "Bf8klWU3lXVt",
        "colab_type": "code",
        "colab": {}
      },
      "source": [
        "missions2.describe()"
      ],
      "execution_count": null,
      "outputs": []
    },
    {
      "cell_type": "markdown",
      "metadata": {
        "id": "COCuQVTVlXVx",
        "colab_type": "text"
      },
      "source": [
        "## Agrégation\n",
        "\n",
        "La fonction groupby permet de regrouper des données par colonnes ou pas ensemble de colonnes et d'y appliquer des fonctions d'agrégation, comme count, min, max, etc ... "
      ]
    },
    {
      "cell_type": "code",
      "metadata": {
        "id": "zAgLDwavlXVy",
        "colab_type": "code",
        "colab": {}
      },
      "source": [
        "pricedCars.groupby(['make']).max().head(5)"
      ],
      "execution_count": null,
      "outputs": []
    },
    {
      "cell_type": "code",
      "metadata": {
        "id": "qP3DCyvNlXV1",
        "colab_type": "code",
        "colab": {}
      },
      "source": [
        "pricedCars.groupby(['make', 'body_style']).max().head(5)"
      ],
      "execution_count": null,
      "outputs": []
    },
    {
      "cell_type": "markdown",
      "metadata": {
        "id": "Y4CDWMWklXV4",
        "colab_type": "text"
      },
      "source": [
        "The ```groupby``` method returns a DataFrameGroupBy object. It is possible to iterate over a DataFrameGroupBy object."
      ]
    },
    {
      "cell_type": "code",
      "metadata": {
        "id": "uxHYObwYlXV5",
        "colab_type": "code",
        "colab": {}
      },
      "source": [
        "groups = pricedCars.groupby(['make'])\n",
        "\n",
        "# groupDF is a DataFrame containing all rows withing a group.\n",
        "for groupName, groupDF in groups:\n",
        "    print(groupName, len(groupDF))"
      ],
      "execution_count": null,
      "outputs": []
    },
    {
      "cell_type": "markdown",
      "metadata": {
        "id": "Xsup5B8ilXV9",
        "colab_type": "text"
      },
      "source": [
        "## Visualisation\n",
        "\n",
        "Les objets Dataframe de Pandas contiennent des fonctions pour créer un très grand nombre de courbes en utlisant [Matplotlib](https://matplotlib.org). Les fonctions d'affichage de Pandas sont documentées dans [la documentation](https://pandas.pydata.org/pandas-docs/stable/user_guide/visualization.html)."
      ]
    },
    {
      "cell_type": "code",
      "metadata": {
        "id": "wqvzyhfGlXV9",
        "colab_type": "code",
        "colab": {}
      },
      "source": [
        "pricedCars.hist('price', bins=50)"
      ],
      "execution_count": null,
      "outputs": []
    },
    {
      "cell_type": "code",
      "metadata": {
        "id": "vTFvHAiWlXWB",
        "colab_type": "code",
        "colab": {}
      },
      "source": [
        "pricedCars.hist('price', bins=50, cumulative=-1)"
      ],
      "execution_count": null,
      "outputs": []
    },
    {
      "cell_type": "code",
      "metadata": {
        "id": "EUH01p5HlXWF",
        "colab_type": "code",
        "colab": {}
      },
      "source": [
        "hpPricedCars = pricedCars[pricedCars.horsepower.str.isnumeric()].copy()\n",
        "hpPricedCars.horsepower = hpPricedCars.horsepower.astype(float)"
      ],
      "execution_count": null,
      "outputs": []
    },
    {
      "cell_type": "code",
      "metadata": {
        "id": "y8OpBrYalXWK",
        "colab_type": "code",
        "colab": {}
      },
      "source": [
        "hpPricedCars.plot.scatter(x='horsepower', y='city_mpg', color='red')"
      ],
      "execution_count": null,
      "outputs": []
    },
    {
      "cell_type": "code",
      "metadata": {
        "id": "RBvcZDbLlXWN",
        "colab_type": "code",
        "colab": {}
      },
      "source": [
        "hpPricedCars.plot.scatter(x='horsepower', y='highway_mpg', color='red')"
      ],
      "execution_count": null,
      "outputs": []
    },
    {
      "cell_type": "code",
      "metadata": {
        "id": "PqBWy_ThlXWR",
        "colab_type": "code",
        "colab": {}
      },
      "source": [
        "priceGroups = pricedCars.groupby(['make'])['price']\n",
        "means = priceGroups.mean()\n",
        "std = priceGroups.std()"
      ],
      "execution_count": null,
      "outputs": []
    },
    {
      "cell_type": "code",
      "metadata": {
        "id": "znFWbCcrlXWV",
        "colab_type": "code",
        "colab": {}
      },
      "source": [
        "fig, ax = plt.subplots()\n",
        "means.plot.bar(ax=ax, yerr=std, color='lightgreen')"
      ],
      "execution_count": null,
      "outputs": []
    },
    {
      "cell_type": "code",
      "metadata": {
        "id": "C_OFt_XQlXWZ",
        "colab_type": "code",
        "colab": {}
      },
      "source": [
        ""
      ],
      "execution_count": null,
      "outputs": []
    }
  ]
}