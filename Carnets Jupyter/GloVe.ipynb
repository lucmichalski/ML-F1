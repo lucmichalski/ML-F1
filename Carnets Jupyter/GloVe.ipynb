{
  "nbformat": 4,
  "nbformat_minor": 0,
  "metadata": {
    "kernelspec": {
      "display_name": "Python 3",
      "language": "python",
      "name": "python3"
    },
    "language_info": {
      "codemirror_mode": {
        "name": "ipython",
        "version": 3
      },
      "file_extension": ".py",
      "mimetype": "text/x-python",
      "name": "python",
      "nbconvert_exporter": "python",
      "pygments_lexer": "ipython3",
      "version": "3.6.8"
    },
    "colab": {
      "name": "GloVe Sentiment.ipynb",
      "provenance": [],
      "collapsed_sections": []
    },
    "accelerator": "GPU"
  },
  "cells": [
    {
      "cell_type": "markdown",
      "metadata": {
        "id": "ygBHZ2O-MFK1",
        "colab_type": "text"
      },
      "source": [
        "# Analyse des ressentis avec GloVe Vectors\n",
        "\n",
        "L'analyse des ressentis a pour objectif de classifier les opinions exprimées sous forme de texte dans un langage naturel. Différentes méthodes peuvent être utlisées pour réaliser cette analyse. Dans cet exemple, des commentaires recueillis surle site [allociné](http://www.allocine.fr/) vont être utlisés pour entrainer un modèle de classification supervisé. Le modèle utilise un réseau de neurones à convolution 1D.\n",
        "\n",
        "Les mots contenus dans les phrases doivent être encodés dans des vecteurs qui seront utilisés pour l'entrainement et les tests. Une manière simple serait d'assigner à chaque mot une valeur numérique. Le problème de cette méthode est que le contexte dans lequel les mots sont utilisés n'est pas pris en compte. Une méthode permettant de combler ce manque est d'utiliser un algorithme de prolongation lexicale (Word embedding). Parmi ce genre d'algorithme, on trouve [GloVe (Global Vectors for Word Representation)](https://nlp.stanford.edu/projects/glove/) qui se base sur les probabilités de co-occurence de mots. Une base de données pré-entrainée (mais en Anglais) est déjà disponnible sur leur site web.  \n",
        "\n",
        "Une base de donnée pré-entrainée en Français peut-être néanmoins téléchargée à cette [adresse](http://www.cs.cmu.edu/~afm/projects/multilingual_embeddings.html). C'est celle-ci que nous utiliserons."
      ]
    },
    {
      "cell_type": "code",
      "metadata": {
        "id": "CVAIpfO0MFK7",
        "colab_type": "code",
        "colab": {}
      },
      "source": [
        "import pandas as pd\n",
        "import numpy as np\n",
        "import random\n",
        "import json\n",
        "\n",
        "from tensorflow.keras.models import Sequential\n",
        "from tensorflow.keras.layers import Dense, Dropout, Flatten\n",
        "from tensorflow.keras.layers import Conv1D, GlobalMaxPooling1D, Embedding\n",
        "from tensorflow.keras.optimizers import Adam\n",
        "from tensorflow.keras.preprocessing.sequence import pad_sequences\n",
        "from tensorflow.keras.preprocessing.text import Tokenizer\n",
        "\n",
        "import matplotlib.pyplot as plt\n",
        "\n",
        "from sklearn.model_selection import train_test_split"
      ],
      "execution_count": 1,
      "outputs": []
    },
    {
      "cell_type": "markdown",
      "metadata": {
        "id": "WN_eQNboMFLA",
        "colab_type": "text"
      },
      "source": [
        "# Chargement des données d'entrainement\n",
        "\n",
        "Les données d'entrainement sont chargées dans une dataframe Panda depuis des fichiers textes. Ces données contiennent deux colonnes : Un commentaire et une valeur binaire définissant un sentiment négatif ou positif sur ce commentaire. \n",
        "\n",
        "Ces données sont disponnibles sur le github de [TheophileBlard](https://github.com/TheophileBlard/french-sentiment-analysis-with-bert/tree/master/allocine_dataset). Ces données sont issues de commentaires récupérés sur Allociné. Les utilisateurs votent avec des notes allant de 0.5 à 5.0 :    \n",
        "<img src=\"https://github.com/AlexandreBourrieau/ML-F1/blob/master/Carnets%20Jupyter/Images/rating_counts.png?raw=1\" width=\"600\"/>\n",
        "\n",
        "Afin de récupérer une note binaire (négative ou positive) à partir de cet intervalle de valeurs, les votes <= 2 sont classé comme négatifs et ceux >=4 sont classés comme positifs. Les autres sont classés comme neutres :    \n",
        "<img src=\"https://github.com/AlexandreBourrieau/ML-F1/blob/master/Carnets%20Jupyter/Images/polarity_frequency.png?raw=1\" width=\"600\"/>  \n",
        "  \n",
        "\n",
        "Enfin, pour construire les données, 100 000 avis négatifs et 100 000 avis positifs sont extraits aléatoirement, puis décomposés en deux catégories : Les données d'entrainement (80%), les données de test (10%) et les données de validation (10%) :  \n",
        "<img src=\"https://github.com/AlexandreBourrieau/ML-F1/blob/master/Carnets%20Jupyter/Images/splits_polarity.png?raw=1\" width=\"600\"/>  \n",
        "\n"
      ]
    },
    {
      "cell_type": "code",
      "metadata": {
        "id": "WFyrqXX4M5ek",
        "colab_type": "code",
        "colab": {
          "base_uri": "https://localhost:8080/",
          "height": 468
        },
        "outputId": "67a49a1d-a1d3-4820-d91c-ac4bb1b3eeb7"
      },
      "source": [
        "# Téléchargement des données depuis le repot github \"https://github.com/AlexandreBourrieau/ML-F1/raw/master/Carnets%20Jupyter/Donn%C3%A9es/data.tar.bz2\"\n",
        "\n",
        "!wget \"https://github.com/AlexandreBourrieau/ML-F1/raw/master/Carnets%20Jupyter/Donn%C3%A9es/data.tar.bz2\"\n",
        "!tar -xjvf data.tar.bz2\n",
        "!ls -l data"
      ],
      "execution_count": 2,
      "outputs": [
        {
          "output_type": "stream",
          "text": [
            "--2020-09-13 17:25:49--  https://github.com/AlexandreBourrieau/ML-F1/raw/master/Carnets%20Jupyter/Donn%C3%A9es/data.tar.bz2\n",
            "Resolving github.com (github.com)... 192.30.255.112\n",
            "Connecting to github.com (github.com)|192.30.255.112|:443... connected.\n",
            "HTTP request sent, awaiting response... 302 Found\n",
            "Location: https://raw.githubusercontent.com/AlexandreBourrieau/ML-F1/master/Carnets%20Jupyter/Donn%C3%A9es/data.tar.bz2 [following]\n",
            "--2020-09-13 17:25:49--  https://raw.githubusercontent.com/AlexandreBourrieau/ML-F1/master/Carnets%20Jupyter/Donn%C3%A9es/data.tar.bz2\n",
            "Resolving raw.githubusercontent.com (raw.githubusercontent.com)... 151.101.0.133, 151.101.64.133, 151.101.128.133, ...\n",
            "Connecting to raw.githubusercontent.com (raw.githubusercontent.com)|151.101.0.133|:443... connected.\n",
            "HTTP request sent, awaiting response... 200 OK\n",
            "Length: 66625305 (64M) [application/octet-stream]\n",
            "Saving to: ‘data.tar.bz2’\n",
            "\n",
            "data.tar.bz2        100%[===================>]  63.54M   130MB/s    in 0.5s    \n",
            "\n",
            "2020-09-13 17:25:51 (130 MB/s) - ‘data.tar.bz2’ saved [66625305/66625305]\n",
            "\n",
            "data/\n",
            "data/allocine_dataset.pickle\n",
            "data/test.jsonl\n",
            "data/train.jsonl\n",
            "data/val.jsonl\n",
            "total 247580\n",
            "-rw-r--r-- 1 1000 1000 119034075 Feb  6  2020 allocine_dataset.pickle\n",
            "-rw-r--r-- 1 1000 1000  13554101 Feb  6  2020 test.jsonl\n",
            "-rw-r--r-- 1 1000 1000 107365432 Feb  6  2020 train.jsonl\n",
            "-rw-r--r-- 1 1000 1000  13550874 Feb  6  2020 val.jsonl\n"
          ],
          "name": "stdout"
        }
      ]
    },
    {
      "cell_type": "code",
      "metadata": {
        "id": "je5Lkv_aMFLA",
        "colab_type": "code",
        "colab": {
          "base_uri": "https://localhost:8080/",
          "height": 355
        },
        "outputId": "6436a068-ee9a-4287-9464-2885083cc0d9"
      },
      "source": [
        "DataEntrainement = pd.read_json(\"/content/data/test.jsonl\", lines=True)\n",
        "DataEntrainement.head(10)"
      ],
      "execution_count": 3,
      "outputs": [
        {
          "output_type": "execute_result",
          "data": {
            "text/html": [
              "<div>\n",
              "<style scoped>\n",
              "    .dataframe tbody tr th:only-of-type {\n",
              "        vertical-align: middle;\n",
              "    }\n",
              "\n",
              "    .dataframe tbody tr th {\n",
              "        vertical-align: top;\n",
              "    }\n",
              "\n",
              "    .dataframe thead th {\n",
              "        text-align: right;\n",
              "    }\n",
              "</style>\n",
              "<table border=\"1\" class=\"dataframe\">\n",
              "  <thead>\n",
              "    <tr style=\"text-align: right;\">\n",
              "      <th></th>\n",
              "      <th>film-url</th>\n",
              "      <th>review</th>\n",
              "      <th>polarity</th>\n",
              "    </tr>\n",
              "  </thead>\n",
              "  <tbody>\n",
              "    <tr>\n",
              "      <th>0</th>\n",
              "      <td>http://www.allocine.fr/film/fichefilm-25385/cr...</td>\n",
              "      <td>Magnifique épopée, une belle histoire, touchan...</td>\n",
              "      <td>1</td>\n",
              "    </tr>\n",
              "    <tr>\n",
              "      <th>1</th>\n",
              "      <td>http://www.allocine.fr/film/fichefilm-1954/cri...</td>\n",
              "      <td>Je n'ai pas aimé mais pourtant je lui mets 2 é...</td>\n",
              "      <td>0</td>\n",
              "    </tr>\n",
              "    <tr>\n",
              "      <th>2</th>\n",
              "      <td>http://www.allocine.fr/film/fichefilm-135523/c...</td>\n",
              "      <td>Un dessin animé qui brille par sa féerie et se...</td>\n",
              "      <td>1</td>\n",
              "    </tr>\n",
              "    <tr>\n",
              "      <th>3</th>\n",
              "      <td>http://www.allocine.fr/film/fichefilm-61514/cr...</td>\n",
              "      <td>Si c'est là le renouveau du cinéma français, c...</td>\n",
              "      <td>0</td>\n",
              "    </tr>\n",
              "    <tr>\n",
              "      <th>4</th>\n",
              "      <td>http://www.allocine.fr/film/fichefilm-260395/c...</td>\n",
              "      <td>Et pourtant on s’en Doutait !Second volet très...</td>\n",
              "      <td>0</td>\n",
              "    </tr>\n",
              "    <tr>\n",
              "      <th>5</th>\n",
              "      <td>http://www.allocine.fr/film/fichefilm-220641/c...</td>\n",
              "      <td>Vous reprendrez bien un peu d'été ? Ce film je...</td>\n",
              "      <td>1</td>\n",
              "    </tr>\n",
              "    <tr>\n",
              "      <th>6</th>\n",
              "      <td>http://www.allocine.fr/film/fichefilm-120103/c...</td>\n",
              "      <td>Bon c'est pas un grand film mais on passe un b...</td>\n",
              "      <td>1</td>\n",
              "    </tr>\n",
              "    <tr>\n",
              "      <th>7</th>\n",
              "      <td>http://www.allocine.fr/film/fichefilm-190956/c...</td>\n",
              "      <td>Terrible histoire que ces êtres sans amour, ce...</td>\n",
              "      <td>1</td>\n",
              "    </tr>\n",
              "    <tr>\n",
              "      <th>8</th>\n",
              "      <td>http://www.allocine.fr/film/fichefilm-186185/c...</td>\n",
              "      <td>Un très joli film, qui ressemble à un téléfilm...</td>\n",
              "      <td>1</td>\n",
              "    </tr>\n",
              "    <tr>\n",
              "      <th>9</th>\n",
              "      <td>http://www.allocine.fr/film/fichefilm-17327/cr...</td>\n",
              "      <td>Mais comment certaines personnes ont pus lui m...</td>\n",
              "      <td>0</td>\n",
              "    </tr>\n",
              "  </tbody>\n",
              "</table>\n",
              "</div>"
            ],
            "text/plain": [
              "                                            film-url  ... polarity\n",
              "0  http://www.allocine.fr/film/fichefilm-25385/cr...  ...        1\n",
              "1  http://www.allocine.fr/film/fichefilm-1954/cri...  ...        0\n",
              "2  http://www.allocine.fr/film/fichefilm-135523/c...  ...        1\n",
              "3  http://www.allocine.fr/film/fichefilm-61514/cr...  ...        0\n",
              "4  http://www.allocine.fr/film/fichefilm-260395/c...  ...        0\n",
              "5  http://www.allocine.fr/film/fichefilm-220641/c...  ...        1\n",
              "6  http://www.allocine.fr/film/fichefilm-120103/c...  ...        1\n",
              "7  http://www.allocine.fr/film/fichefilm-190956/c...  ...        1\n",
              "8  http://www.allocine.fr/film/fichefilm-186185/c...  ...        1\n",
              "9  http://www.allocine.fr/film/fichefilm-17327/cr...  ...        0\n",
              "\n",
              "[10 rows x 3 columns]"
            ]
          },
          "metadata": {
            "tags": []
          },
          "execution_count": 3
        }
      ]
    },
    {
      "cell_type": "markdown",
      "metadata": {
        "id": "Iq6cMhkEMFLG",
        "colab_type": "text"
      },
      "source": [
        "# Chargement des vecteurs GloVe et préparation des données\n",
        "\n",
        "**Commençons par charger les vecteurs GloVe**  \n",
        "\n",
        "Les fichiers des vecteurs GloVe sont téléchargés à partir du site de [GloVe](https://nlp.stanford.edu/projects/glove/) mais ils sont en Anglais. Nous allons utiliser une [version française](http://www.cs.cmu.edu/~afm/projects/multilingual_embeddings.html) équivalente.  \n",
        "  \n",
        "Le fichier que nous utilisons contient plus de 40000 vecteurs de dimension 300. Cela signifie que pour chaque mot contenu dans ce fichier, un vecteur de 300 valeurs permet de définir les relations lexicales de ce mots avec les autres mots du fichier.  \n",
        "\n",
        "<img src=\"https://github.com/AlexandreBourrieau/ML-F1/blob/master/Carnets%20Jupyter/Images/EmbeddedVectors.png?raw=1\"/>  "
      ]
    },
    {
      "cell_type": "code",
      "metadata": {
        "id": "ZGcwMGR-R3tR",
        "colab_type": "code",
        "colab": {
          "base_uri": "https://localhost:8080/",
          "height": 433
        },
        "outputId": "66e7a375-c8e6-4a93-85fb-3871af2489d0"
      },
      "source": [
        "# Téléchargement des vecteurs\n",
        "!wget \"https://github.com/AlexandreBourrieau/ML-F1/raw/master/Carnets%20Jupyter/Donn%C3%A9es/multilingual_embeddings.rar\"\n",
        "!mv multilingual_embeddings.rar /content/data/multilingual_embeddings.rar\n",
        "!unrar x /content/data/multilingual_embeddings.rar /content/data"
      ],
      "execution_count": 4,
      "outputs": [
        {
          "output_type": "stream",
          "text": [
            "--2020-09-13 17:26:36--  https://github.com/AlexandreBourrieau/ML-F1/raw/master/Carnets%20Jupyter/Donn%C3%A9es/multilingual_embeddings.rar\n",
            "Resolving github.com (github.com)... 192.30.255.112\n",
            "Connecting to github.com (github.com)|192.30.255.112|:443... connected.\n",
            "HTTP request sent, awaiting response... 302 Found\n",
            "Location: https://raw.githubusercontent.com/AlexandreBourrieau/ML-F1/master/Carnets%20Jupyter/Donn%C3%A9es/multilingual_embeddings.rar [following]\n",
            "--2020-09-13 17:26:36--  https://raw.githubusercontent.com/AlexandreBourrieau/ML-F1/master/Carnets%20Jupyter/Donn%C3%A9es/multilingual_embeddings.rar\n",
            "Resolving raw.githubusercontent.com (raw.githubusercontent.com)... 151.101.0.133, 151.101.64.133, 151.101.128.133, ...\n",
            "Connecting to raw.githubusercontent.com (raw.githubusercontent.com)|151.101.0.133|:443... connected.\n",
            "HTTP request sent, awaiting response... 200 OK\n",
            "Length: 80894821 (77M) [application/octet-stream]\n",
            "Saving to: ‘multilingual_embeddings.rar’\n",
            "\n",
            "multilingual_embedd 100%[===================>]  77.15M   114MB/s    in 0.7s    \n",
            "\n",
            "2020-09-13 17:26:38 (114 MB/s) - ‘multilingual_embeddings.rar’ saved [80894821/80894821]\n",
            "\n",
            "\n",
            "UNRAR 5.50 freeware      Copyright (c) 1993-2017 Alexander Roshal\n",
            "\n",
            "\n",
            "Extracting from /content/data/multilingual_embeddings.rar\n",
            "\n",
            "Extracting  /content/data/multilingual_embeddings.fr                     \b\b\b\b  5%\b\b\b\b 10%\b\b\b\b 15%\b\b\b\b 20%\b\b\b\b 25%\b\b\b\b 31%\b\b\b\b 36%\b\b\b\b 41%\b\b\b\b 46%\b\b\b\b 51%\b\b\b\b 57%\b\b\b\b 62%\b\b\b\b 67%\b\b\b\b 72%\b\b\b\b 77%\b\b\b\b 82%\b\b\b\b 88%\b\b\b\b 93%\b\b\b\b 98%\b\b\b\b 99%\b\b\b\b\b  OK \n",
            "All OK\n"
          ],
          "name": "stdout"
        }
      ]
    },
    {
      "cell_type": "markdown",
      "metadata": {
        "id": "PNI60PfJkhp8",
        "colab_type": "text"
      },
      "source": [
        "**Encodage des commentaires**  \n",
        "Pour utiliser notre réseau de neurones, nous devons encoder le texte des commentaires. L'encodage suit le principe suivant :  \n",
        "* Chaque mot contenu dans l'ensemble des commentaires va se voir attribuer une valeur entière unique\n",
        "* Chaque commentaire va ensuite être transformé en un vecteur de nombre entiers, dont les nombres correspondent aux valeurs entières attribuées aux mots précédemment  \n",
        "* Les commentaires sont ensuite redimensionnés afin d'avoir tous la même dimension (avec bourrage de 0)"
      ]
    },
    {
      "cell_type": "code",
      "metadata": {
        "id": "MobDmxmfzg69",
        "colab_type": "code",
        "colab": {
          "base_uri": "https://localhost:8080/",
          "height": 72
        },
        "outputId": "ceb5a6ba-ac43-42db-d046-e65a36187805"
      },
      "source": [
        "print(DataEntrainement['review'][0])\n",
        "print(DataEntrainement['review'][1])"
      ],
      "execution_count": 12,
      "outputs": [
        {
          "output_type": "stream",
          "text": [
            "Magnifique épopée, une belle histoire, touchante avec des acteurs qui interprètent très bien leur rôles (Mel Gibson, Heath Ledger, Jason Isaacs...), le genre de film qui se savoure en famille! :)\n",
            "Je n'ai pas aimé mais pourtant je lui mets 2 étoiles car l'expérience est louable. Rien de conventionnel ici. Une visite E.T. mais jonchée d'idées /- originales. Le soucis, tout ceci avait-il vraiment sa place dans un film de S.F. tirant sur l'horreur ? Voici un film qui, à l'inverse de tant d'autres qui y ont droit, mériterait peut-être un remake.\n"
          ],
          "name": "stdout"
        }
      ]
    },
    {
      "cell_type": "markdown",
      "metadata": {
        "id": "aGcJIZiQk8t5",
        "colab_type": "text"
      },
      "source": [
        "Voici un exemple d'encodage de texte :"
      ]
    },
    {
      "cell_type": "code",
      "metadata": {
        "id": "UapGqFb6lAx5",
        "colab_type": "code",
        "colab": {
          "base_uri": "https://localhost:8080/",
          "height": 104
        },
        "outputId": "48421462-a6f2-45c0-bb9c-91902926fee6"
      },
      "source": [
        "com = ['un plus un egal deux','deux plus deux cela fait quatre']\n",
        "tokenizer_ex = Tokenizer(num_words=10)\n",
        "tokenizer_ex.fit_on_texts(com)\n",
        "seq = tokenizer_ex.texts_to_sequences(com)\n",
        "bourrage = pad_sequences(seq,maxlen=10)\n",
        "\n",
        "print(com)\n",
        "print(tokenizer_ex.word_index)\n",
        "print(seq)\n",
        "print(bourrage)"
      ],
      "execution_count": 13,
      "outputs": [
        {
          "output_type": "stream",
          "text": [
            "['un plus un egal deux', 'deux plus deux cela fait quatre']\n",
            "{'deux': 1, 'un': 2, 'plus': 3, 'egal': 4, 'cela': 5, 'fait': 6, 'quatre': 7}\n",
            "[[2, 3, 2, 4, 1], [1, 3, 1, 5, 6, 7]]\n",
            "[[0 0 0 0 0 2 3 2 4 1]\n",
            " [0 0 0 0 1 3 1 5 6 7]]\n"
          ],
          "name": "stdout"
        }
      ]
    },
    {
      "cell_type": "markdown",
      "metadata": {
        "id": "DvcLUToHlN2N",
        "colab_type": "text"
      },
      "source": [
        "Le code suivant réalise ces opérations avec les données d'entrainements de notre projet :"
      ]
    },
    {
      "cell_type": "code",
      "metadata": {
        "id": "vqI5FJ8OlRWN",
        "colab_type": "code",
        "colab": {}
      },
      "source": [
        "MAX_NB_MOTS = 1000000\n",
        "MAX_SEQUENCE_LENGTH = 1000\n",
        "\n",
        "# Chargement des commentaires et des ressentis\n",
        "commentaires = DataEntrainement['review'].astype(str).tolist()      # Récupère tous les commentaires dans une liste python\n",
        "ressentis = DataEntrainement['polarity'].tolist()                   # Récupère tous les ressentis dans une liste python\n",
        "labels = np.asarray(ressentis)                                      # Créé un tableau de type numpy avec les ressentis\n",
        "\n",
        "# Encodage des commentaires\n",
        "tokenizer = Tokenizer(num_words=MAX_NB_MOTS)                              # Initialise la fonction Tokenizer de Keras\n",
        "tokenizer.fit_on_texts(commentaires)                                      # Création des index des mots\n",
        "sequences = tokenizer.texts_to_sequences(commentaires)                    # Transformation des phrases en séquences d'index de mots \n",
        "padded_sequences = pad_sequences(sequences, maxlen=MAX_SEQUENCE_LENGTH)   # Bourrage des vecteurs"
      ],
      "execution_count": 5,
      "outputs": []
    },
    {
      "cell_type": "code",
      "metadata": {
        "id": "JCHB2BuP2vH7",
        "colab_type": "code",
        "colab": {
          "base_uri": "https://localhost:8080/",
          "height": 139
        },
        "outputId": "43f055ff-2dc6-475c-8799-618597a97186"
      },
      "source": [
        "padded_sequences"
      ],
      "execution_count": null,
      "outputs": [
        {
          "output_type": "execute_result",
          "data": {
            "text/plain": [
              "array([[    0,     0,     0, ..., 10022,    11,   264],\n",
              "       [    0,     0,     0, ...,    65,     5,   645],\n",
              "       [    0,     0,     0, ...,     2,    59,   840],\n",
              "       ...,\n",
              "       [    0,     0,     0, ...,    21,  1142,   205],\n",
              "       [    0,     0,     0, ...,  6098,    19,    81],\n",
              "       [    0,     0,     0, ...,    62,    37,  1191]], dtype=int32)"
            ]
          },
          "metadata": {
            "tags": []
          },
          "execution_count": 16
        }
      ]
    },
    {
      "cell_type": "code",
      "metadata": {
        "id": "x1ycKyMN296u",
        "colab_type": "code",
        "colab": {}
      },
      "source": [
        "tokenizer.index_word"
      ],
      "execution_count": null,
      "outputs": []
    },
    {
      "cell_type": "markdown",
      "metadata": {
        "id": "uvHU4F21lWHh",
        "colab_type": "text"
      },
      "source": [
        "**Création des données d'entrainement et de tests**  \n",
        "On utilise la fonction `train_test_split` de [ScikitLearn](https://scikit-learn.org/stable/modules/generated/sklearn.model_selection.train_test_split.html) afin de créer les données d'entrainement et de tests à partir des séquences :\n",
        "\n",
        "\n"
      ]
    },
    {
      "cell_type": "code",
      "metadata": {
        "id": "oBFoHU9RlkOD",
        "colab_type": "code",
        "colab": {}
      },
      "source": [
        "index_des_mots = tokenizer.word_index\n",
        "nbr_mots = min(MAX_NB_MOTS, len(index_des_mots)) + 1\n",
        "\n",
        "x_entrainement, x_test, y_entrainement, y_test = train_test_split(padded_sequences, labels, test_size=0.2)"
      ],
      "execution_count": 6,
      "outputs": []
    },
    {
      "cell_type": "code",
      "metadata": {
        "id": "Fg3t3ahhxJ9p",
        "colab_type": "code",
        "colab": {
          "base_uri": "https://localhost:8080/",
          "height": 35
        },
        "outputId": "561457c3-189f-4f50-ad2a-fce45306102a"
      },
      "source": [
        "y_entrainement"
      ],
      "execution_count": null,
      "outputs": [
        {
          "output_type": "execute_result",
          "data": {
            "text/plain": [
              "array([1, 0, 0, ..., 0, 1, 1])"
            ]
          },
          "metadata": {
            "tags": []
          },
          "execution_count": 20
        }
      ]
    },
    {
      "cell_type": "markdown",
      "metadata": {
        "id": "tdcJUpqilsoC",
        "colab_type": "text"
      },
      "source": [
        "**Création de la matrice embarquant les données numériques des vecteurs des mots contenus dans les commentaires**  \n",
        "L'objectif est ici de créer une matrice dont chaque ligne contient le vecteur du mot issu de l'algorithme GolVe. La matrice est donc de taille n x m avec :  \n",
        "* n : Nombre de mots (uniques) pris en compte dans l'ensemble des commentiares  \n",
        "* m : Nombre de valeurs contenues dans les vecteurs GolvE (300 dans notre exemple)  \n",
        "  \n",
        "$$\\begin{array}{*{20}{c}}\n",
        "{glace}\\\\\n",
        "{soda}\\\\\n",
        "{...}\\\\\n",
        "{film}\n",
        "\\end{array}\\left( \\begin{array}{l}\n",
        "\\begin{array}{*{20}{c}}\n",
        "{ - 0.3}&{0.2}&{...}&{0.32}&{ - 0.24}\n",
        "\\end{array}\\\\\n",
        "\\begin{array}{*{20}{c}}\n",
        "{ - 0.1}&{0.3}&{...}&{0.52}&{ - 0.94}\n",
        "\\end{array}\\\\\n",
        "\\begin{array}{*{20}{c}}\n",
        "{...}&{...}&{...}&{...}&{...}\n",
        "\\end{array}\\\\\n",
        "\\begin{array}{*{20}{c}}\n",
        "{ - 0.5}&{0.9}&{...}&{0.72}&{ - 0.24}\n",
        "\\end{array}\n",
        "\\end{array} \\right)$$    \n",
        "  \n",
        "    \n",
        "\n",
        "Les lignes ne sont pas arrangées dans n'importe quel ordre : Elles suivent l'ordre des séquences créées par la fonction `tokenizer.texts_to_sequences()`\n",
        "\n",
        "\n",
        "\n"
      ]
    },
    {
      "cell_type": "markdown",
      "metadata": {
        "id": "qp7oQXgtVz8x",
        "colab_type": "text"
      },
      "source": [
        "Pour cela définit tout d'abord la fonction `Chargement_Vecteurs()` qui va créer un tableau de type numpy, avec pour chaque mot son vecteur correspondant :  \n",
        "\n",
        "\n",
        "```\n",
        "  ...\n",
        "  'embêtant': array([-2.26152748e-01,  3.20324749e-01, -1.10406213e-01, -6.05279326e-01,\n",
        "        -4.68072683e-01,  1.29561171e-01,  5.62916815e-01, -1.16834176e+00,\n",
        "       ...\n",
        "        -7.50736117e-01, -2.48611599e-01, -2.42264550e-02, -9.54209745e-01],\n",
        "       dtype=float32),\n",
        " 'lockheed': array([ 3.6074609e-01, -8.0667698e-01,  8.7549436e-01,  6.2351477e-01,\n",
        "        -9.2155904e-01,  7.3180795e-01, -2.8121206e-01,  2.9078028e-01,\n",
        "        ...\n",
        "         1.5100185e+00,  8.1941241e-01, -1.6970781e+00,  1.9289741e-01],\n",
        "       dtype=float32),\n",
        " 'séparez': array([-0.5703459 , -0.8884122 , -0.4579496 ,  0.55588883, -0.8727098 ,\n",
        "         0.56783265, -0.10067926,  0.14027229, -0.89301944, -0.42706665,\n",
        "        ...\n",
        "        -0.36254016, -0.40695533,  1.087127  , -0.641696  ,  0.10919298,\n",
        "        ...\n",
        "```  \n",
        "\n",
        "Puis la fonction `Creation_Matrice()` qui va créer notre matrice. Pour chaque mot contenu dans les séquences créées par la fonction `tokenizer.texts_to_sequences` on récupère le vecteur correspondant à l'aide du tableau numpy créé précédemment. Ainsi chaque ligne de la matrice indexe chaque mot des séquences.\n"
      ]
    },
    {
      "cell_type": "code",
      "metadata": {
        "id": "zVeUb4AsMFLG",
        "colab_type": "code",
        "colab": {}
      },
      "source": [
        "MAX_NB_VECTORS = 400000\n",
        "EMBEDDING_DIM = 300\n",
        "\n",
        "def Chargement_Vecteurs():\n",
        "    print('Chargement des vecteurs GloVe...')\n",
        "    glove_dict = {}\n",
        "    Max_Nb_Vect = 0\n",
        "    with open('/content/data/multilingual_embeddings.fr', encoding='utf8') as fichier:\n",
        "        for ligne in fichier:\n",
        "            Max_Nb_Vect = Max_Nb_Vect + 1\n",
        "            if Max_Nb_Vect > MAX_NB_VECTORS:\n",
        "              break\n",
        "            valeur = ligne.split()\n",
        "            mot = valeur[0]\n",
        "            glove_dict[mot] = np.asarray(valeur[1:], dtype='float32')\n",
        "    return glove_dict\n",
        "\n",
        "def Creation_Matrice(index_mot, nbr_mots):\n",
        "    glove_dict = Chargement_Vecteurs()\n",
        "    matrice = np.zeros((nbr_mots, EMBEDDING_DIM))\n",
        "    for mot, i in index_mot.items():\n",
        "        if i > nbr_mots:\n",
        "            continue\n",
        "        vector = glove_dict.get(mot)\n",
        "        if vector is not None:\n",
        "            matrice[i] = vector\n",
        "    print('Matrice créée...')\n",
        "    return matrice"
      ],
      "execution_count": 7,
      "outputs": []
    },
    {
      "cell_type": "markdown",
      "metadata": {
        "id": "AKg1xxG1t7rQ",
        "colab_type": "text"
      },
      "source": [
        "Regardons à quoi cela ressemble sur notre précédent exemple :"
      ]
    },
    {
      "cell_type": "code",
      "metadata": {
        "id": "ocbWFigsU7I5",
        "colab_type": "code",
        "colab": {
          "base_uri": "https://localhost:8080/",
          "height": 219
        },
        "outputId": "77250d14-ab61-4456-f50a-9f692cbe96f5"
      },
      "source": [
        "print(com)\n",
        "print(tokenizer_ex.word_index)\n",
        "\n",
        "matrice = Creation_Matrice(tokenizer_ex.word_index, 10)"
      ],
      "execution_count": 8,
      "outputs": [
        {
          "output_type": "error",
          "ename": "NameError",
          "evalue": "ignored",
          "traceback": [
            "\u001b[0;31m---------------------------------------------------------------------------\u001b[0m",
            "\u001b[0;31mNameError\u001b[0m                                 Traceback (most recent call last)",
            "\u001b[0;32m<ipython-input-8-449ae02a5cba>\u001b[0m in \u001b[0;36m<module>\u001b[0;34m()\u001b[0m\n\u001b[0;32m----> 1\u001b[0;31m \u001b[0mprint\u001b[0m\u001b[0;34m(\u001b[0m\u001b[0mcom\u001b[0m\u001b[0;34m)\u001b[0m\u001b[0;34m\u001b[0m\u001b[0;34m\u001b[0m\u001b[0m\n\u001b[0m\u001b[1;32m      2\u001b[0m \u001b[0mprint\u001b[0m\u001b[0;34m(\u001b[0m\u001b[0mtokenizer_ex\u001b[0m\u001b[0;34m.\u001b[0m\u001b[0mword_index\u001b[0m\u001b[0;34m)\u001b[0m\u001b[0;34m\u001b[0m\u001b[0;34m\u001b[0m\u001b[0m\n\u001b[1;32m      3\u001b[0m \u001b[0;34m\u001b[0m\u001b[0m\n\u001b[1;32m      4\u001b[0m \u001b[0mmatrice\u001b[0m \u001b[0;34m=\u001b[0m \u001b[0mCreation_Matrice\u001b[0m\u001b[0;34m(\u001b[0m\u001b[0mtokenizer_ex\u001b[0m\u001b[0;34m.\u001b[0m\u001b[0mword_index\u001b[0m\u001b[0;34m,\u001b[0m \u001b[0;36m10\u001b[0m\u001b[0;34m)\u001b[0m\u001b[0;34m\u001b[0m\u001b[0;34m\u001b[0m\u001b[0m\n",
            "\u001b[0;31mNameError\u001b[0m: name 'com' is not defined"
          ]
        }
      ]
    },
    {
      "cell_type": "code",
      "metadata": {
        "id": "wiyyluWRvSEa",
        "colab_type": "code",
        "colab": {
          "base_uri": "https://localhost:8080/",
          "height": 243
        },
        "outputId": "dfe45a68-e095-4ffc-f73f-879f09a5e16f"
      },
      "source": [
        "matrice"
      ],
      "execution_count": null,
      "outputs": [
        {
          "output_type": "execute_result",
          "data": {
            "text/plain": [
              "array([[ 0.        ,  0.        ,  0.        , ...,  0.        ,\n",
              "         0.        ,  0.        ],\n",
              "       [-0.14380729, -0.15245135, -0.32095706, ..., -0.2833837 ,\n",
              "         0.20184219, -0.3477053 ],\n",
              "       [ 0.02684828,  0.34394601, -0.17763138, ..., -0.31729311,\n",
              "        -0.08849339,  0.17732655],\n",
              "       ...,\n",
              "       [ 0.38667157, -0.01152001, -0.22971489, ..., -0.3842952 ,\n",
              "         0.18768422, -0.45241103],\n",
              "       [ 0.        ,  0.        ,  0.        , ...,  0.        ,\n",
              "         0.        ,  0.        ],\n",
              "       [ 0.        ,  0.        ,  0.        , ...,  0.        ,\n",
              "         0.        ,  0.        ]])"
            ]
          },
          "metadata": {
            "tags": []
          },
          "execution_count": 25
        }
      ]
    },
    {
      "cell_type": "markdown",
      "metadata": {
        "id": "LQJoxfCTf1Hd",
        "colab_type": "text"
      },
      "source": [
        "On créé donc maintenant la matrice pour notre projet :"
      ]
    },
    {
      "cell_type": "code",
      "metadata": {
        "id": "EZlja3d1MFLL",
        "colab_type": "code",
        "colab": {
          "base_uri": "https://localhost:8080/",
          "height": 52
        },
        "outputId": "62e25130-8302-4cd0-beb7-eddb40aca507"
      },
      "source": [
        "matrice = Creation_Matrice(index_des_mots, nbr_mots)"
      ],
      "execution_count": 9,
      "outputs": [
        {
          "output_type": "stream",
          "text": [
            "Chargement des vecteurs GloVe...\n",
            "Matrice créée...\n"
          ],
          "name": "stdout"
        }
      ]
    },
    {
      "cell_type": "markdown",
      "metadata": {
        "id": "6mnxIJKC5wPO",
        "colab_type": "text"
      },
      "source": [
        ""
      ]
    },
    {
      "cell_type": "code",
      "metadata": {
        "id": "d03F2eT2gbYG",
        "colab_type": "code",
        "colab": {
          "base_uri": "https://localhost:8080/",
          "height": 35
        },
        "outputId": "0df06ad3-1ebc-4e13-83ef-65b576b9ee12"
      },
      "source": [
        "matrice.shape"
      ],
      "execution_count": 10,
      "outputs": [
        {
          "output_type": "execute_result",
          "data": {
            "text/plain": [
              "(66079, 300)"
            ]
          },
          "metadata": {
            "tags": []
          },
          "execution_count": 10
        }
      ]
    },
    {
      "cell_type": "markdown",
      "metadata": {
        "id": "OSCKoWPYMFLN",
        "colab_type": "text"
      },
      "source": [
        "# Définition du Modèle\n",
        "\n",
        "Nous utilisons un réseau de neurones à convolution 1D avec Keras et en utilisant la matrice créée précédemment afin de paramétrer la couche interne. La couche interne est pré-entrainée donc nous n'avons pas d'entrainement à réaliser sur celle-ci.  \n",
        "\n",
        "La structure du réseau est la suivante :  "
      ]
    },
    {
      "cell_type": "code",
      "metadata": {
        "id": "o9G1oAXnVJJP",
        "colab_type": "code",
        "colab": {
          "base_uri": "https://localhost:8080/",
          "height": 587
        },
        "outputId": "95de97f9-a8d4-4430-c25e-7df6bb9835bd"
      },
      "source": [
        "from IPython.display import Image\n",
        "Image(url='https://github.com/AlexandreBourrieau/ML-F1/blob/master/Carnets%20Jupyter/Images/Conv1D2.png?raw=1', width=1500)"
      ],
      "execution_count": 18,
      "outputs": [
        {
          "output_type": "execute_result",
          "data": {
            "text/html": [
              "<img src=\"https://github.com/AlexandreBourrieau/ML-F1/blob/master/Carnets%20Jupyter/Images/Conv1D2.png?raw=1\" width=\"1500\"/>"
            ],
            "text/plain": [
              "<IPython.core.display.Image object>"
            ]
          },
          "metadata": {
            "tags": []
          },
          "execution_count": 18
        }
      ]
    },
    {
      "cell_type": "code",
      "metadata": {
        "id": "b0IUw1VDMFLO",
        "colab_type": "code",
        "colab": {
          "base_uri": "https://localhost:8080/",
          "height": 433
        },
        "outputId": "83184e6c-383e-4106-fb67-7e93363576df"
      },
      "source": [
        "dropout = 0.4\n",
        "\n",
        "model = Sequential()\n",
        "model.add(Embedding(nbr_mots, EMBEDDING_DIM, weights=[matrice],\n",
        "                    input_length=MAX_SEQUENCE_LENGTH, trainable=False))\n",
        "model.add(Dropout(dropout))\n",
        "\n",
        "model.add(Conv1D(128, 5, activation='relu', padding='same', strides=2))\n",
        "model.add(GlobalMaxPooling1D())\n",
        "model.add(Dropout(dropout))\n",
        "\n",
        "model.add(Dense(128, activation='relu'))\n",
        "model.add(Dropout(dropout))\n",
        "model.add(Dense(2, activation='softmax'))\n",
        "model.summary()"
      ],
      "execution_count": 11,
      "outputs": [
        {
          "output_type": "stream",
          "text": [
            "Model: \"sequential\"\n",
            "_________________________________________________________________\n",
            "Layer (type)                 Output Shape              Param #   \n",
            "=================================================================\n",
            "embedding (Embedding)        (None, 1000, 300)         19823700  \n",
            "_________________________________________________________________\n",
            "dropout (Dropout)            (None, 1000, 300)         0         \n",
            "_________________________________________________________________\n",
            "conv1d (Conv1D)              (None, 500, 128)          192128    \n",
            "_________________________________________________________________\n",
            "global_max_pooling1d (Global (None, 128)               0         \n",
            "_________________________________________________________________\n",
            "dropout_1 (Dropout)          (None, 128)               0         \n",
            "_________________________________________________________________\n",
            "dense (Dense)                (None, 128)               16512     \n",
            "_________________________________________________________________\n",
            "dropout_2 (Dropout)          (None, 128)               0         \n",
            "_________________________________________________________________\n",
            "dense_1 (Dense)              (None, 2)                 258       \n",
            "=================================================================\n",
            "Total params: 20,032,598\n",
            "Trainable params: 208,898\n",
            "Non-trainable params: 19,823,700\n",
            "_________________________________________________________________\n"
          ],
          "name": "stdout"
        }
      ]
    },
    {
      "cell_type": "markdown",
      "metadata": {
        "id": "vWFUoRi6XZYU",
        "colab_type": "text"
      },
      "source": [
        "# Entrainement du modèle"
      ]
    },
    {
      "cell_type": "code",
      "metadata": {
        "id": "BUMaXNjMMFLQ",
        "colab_type": "code",
        "colab": {
          "base_uri": "https://localhost:8080/",
          "height": 1000
        },
        "outputId": "e812c7e2-40ff-4238-d7e0-201c7372ef1d"
      },
      "source": [
        "model.compile(loss='sparse_categorical_crossentropy', optimizer=Adam(), metrics=['acc'])\n",
        "\n",
        "# Entraine le modèle sur un certain nombre d'itérations\n",
        "historique = model.fit(x_entrainement, y_entrainement, batch_size=128, epochs=40, verbose=1, validation_data=(x_test, y_test))\n",
        "\n",
        "# Evalue le modèle avec les échantillons de tests\n",
        "score = model.evaluate(x_test, y_test, verbose=0)\n",
        "print('Fonction d\\'objectif des tests :', score[0])\n",
        "print('Précision des tests :', score[1])\n",
        "\n",
        "# Synthèse\n",
        "plt.plot(historique.history['acc'])\n",
        "plt.plot(historique.history['val_acc'])\n",
        "plt.title('Précision du modèle')\n",
        "plt.ylabel('Précision')\n",
        "plt.xlabel('Itérations')\n",
        "plt.legend(['Entrainements', 'Tests'], loc='upper left')\n",
        "plt.show()"
      ],
      "execution_count": 12,
      "outputs": [
        {
          "output_type": "stream",
          "text": [
            "Epoch 1/40\n",
            "125/125 [==============================] - 8s 65ms/step - loss: 0.7842 - acc: 0.5397 - val_loss: 0.6621 - val_acc: 0.6550\n",
            "Epoch 2/40\n",
            "125/125 [==============================] - 8s 63ms/step - loss: 0.6570 - acc: 0.6189 - val_loss: 0.5966 - val_acc: 0.7197\n",
            "Epoch 3/40\n",
            "125/125 [==============================] - 8s 64ms/step - loss: 0.6049 - acc: 0.6802 - val_loss: 0.5342 - val_acc: 0.7692\n",
            "Epoch 4/40\n",
            "125/125 [==============================] - 8s 63ms/step - loss: 0.5512 - acc: 0.7198 - val_loss: 0.4851 - val_acc: 0.7845\n",
            "Epoch 5/40\n",
            "125/125 [==============================] - 8s 63ms/step - loss: 0.5203 - acc: 0.7369 - val_loss: 0.4538 - val_acc: 0.7965\n",
            "Epoch 6/40\n",
            "125/125 [==============================] - 8s 64ms/step - loss: 0.4935 - acc: 0.7584 - val_loss: 0.4338 - val_acc: 0.8112\n",
            "Epoch 7/40\n",
            "125/125 [==============================] - 8s 63ms/step - loss: 0.4755 - acc: 0.7732 - val_loss: 0.4202 - val_acc: 0.8102\n",
            "Epoch 8/40\n",
            "125/125 [==============================] - 8s 64ms/step - loss: 0.4561 - acc: 0.7857 - val_loss: 0.4216 - val_acc: 0.7977\n",
            "Epoch 9/40\n",
            "125/125 [==============================] - 8s 64ms/step - loss: 0.4427 - acc: 0.7911 - val_loss: 0.3984 - val_acc: 0.8198\n",
            "Epoch 10/40\n",
            "125/125 [==============================] - 8s 64ms/step - loss: 0.4428 - acc: 0.7937 - val_loss: 0.3943 - val_acc: 0.8280\n",
            "Epoch 11/40\n",
            "125/125 [==============================] - 8s 64ms/step - loss: 0.4164 - acc: 0.8093 - val_loss: 0.3839 - val_acc: 0.8295\n",
            "Epoch 12/40\n",
            "125/125 [==============================] - 8s 64ms/step - loss: 0.4129 - acc: 0.8114 - val_loss: 0.3772 - val_acc: 0.8260\n",
            "Epoch 13/40\n",
            "125/125 [==============================] - 8s 64ms/step - loss: 0.4030 - acc: 0.8160 - val_loss: 0.3829 - val_acc: 0.8292\n",
            "Epoch 14/40\n",
            "125/125 [==============================] - 8s 64ms/step - loss: 0.3911 - acc: 0.8232 - val_loss: 0.3714 - val_acc: 0.8313\n",
            "Epoch 15/40\n",
            "125/125 [==============================] - 8s 64ms/step - loss: 0.3838 - acc: 0.8277 - val_loss: 0.3647 - val_acc: 0.8375\n",
            "Epoch 16/40\n",
            "125/125 [==============================] - 8s 64ms/step - loss: 0.3742 - acc: 0.8302 - val_loss: 0.3667 - val_acc: 0.8320\n",
            "Epoch 17/40\n",
            "125/125 [==============================] - 8s 63ms/step - loss: 0.3622 - acc: 0.8354 - val_loss: 0.3679 - val_acc: 0.8307\n",
            "Epoch 18/40\n",
            "125/125 [==============================] - 8s 64ms/step - loss: 0.3572 - acc: 0.8390 - val_loss: 0.3560 - val_acc: 0.8375\n",
            "Epoch 19/40\n",
            "125/125 [==============================] - 8s 63ms/step - loss: 0.3507 - acc: 0.8439 - val_loss: 0.3527 - val_acc: 0.8342\n",
            "Epoch 20/40\n",
            "125/125 [==============================] - 8s 63ms/step - loss: 0.3465 - acc: 0.8469 - val_loss: 0.3537 - val_acc: 0.8390\n",
            "Epoch 21/40\n",
            "125/125 [==============================] - 8s 63ms/step - loss: 0.3415 - acc: 0.8512 - val_loss: 0.3478 - val_acc: 0.8425\n",
            "Epoch 22/40\n",
            "125/125 [==============================] - 8s 63ms/step - loss: 0.3347 - acc: 0.8498 - val_loss: 0.3498 - val_acc: 0.8407\n",
            "Epoch 23/40\n",
            "125/125 [==============================] - 8s 63ms/step - loss: 0.3326 - acc: 0.8549 - val_loss: 0.3453 - val_acc: 0.8413\n",
            "Epoch 24/40\n",
            "125/125 [==============================] - 8s 63ms/step - loss: 0.3208 - acc: 0.8564 - val_loss: 0.3448 - val_acc: 0.8418\n",
            "Epoch 25/40\n",
            "125/125 [==============================] - 8s 63ms/step - loss: 0.3198 - acc: 0.8599 - val_loss: 0.3497 - val_acc: 0.8360\n",
            "Epoch 26/40\n",
            "125/125 [==============================] - 8s 63ms/step - loss: 0.3138 - acc: 0.8633 - val_loss: 0.3586 - val_acc: 0.8385\n",
            "Epoch 27/40\n",
            "125/125 [==============================] - 8s 63ms/step - loss: 0.3074 - acc: 0.8667 - val_loss: 0.3485 - val_acc: 0.8395\n",
            "Epoch 28/40\n",
            "125/125 [==============================] - 8s 63ms/step - loss: 0.3092 - acc: 0.8683 - val_loss: 0.3456 - val_acc: 0.8390\n",
            "Epoch 29/40\n",
            "125/125 [==============================] - 8s 63ms/step - loss: 0.3059 - acc: 0.8686 - val_loss: 0.3462 - val_acc: 0.8453\n",
            "Epoch 30/40\n",
            "125/125 [==============================] - 8s 63ms/step - loss: 0.3044 - acc: 0.8690 - val_loss: 0.3454 - val_acc: 0.8432\n",
            "Epoch 31/40\n",
            "125/125 [==============================] - 8s 63ms/step - loss: 0.2972 - acc: 0.8724 - val_loss: 0.3477 - val_acc: 0.8407\n",
            "Epoch 32/40\n",
            "125/125 [==============================] - 8s 63ms/step - loss: 0.2918 - acc: 0.8763 - val_loss: 0.3471 - val_acc: 0.8397\n",
            "Epoch 33/40\n",
            "125/125 [==============================] - 8s 63ms/step - loss: 0.2914 - acc: 0.8762 - val_loss: 0.3441 - val_acc: 0.8400\n",
            "Epoch 34/40\n",
            "125/125 [==============================] - 8s 63ms/step - loss: 0.2830 - acc: 0.8803 - val_loss: 0.3465 - val_acc: 0.8428\n",
            "Epoch 35/40\n",
            "125/125 [==============================] - 8s 63ms/step - loss: 0.2773 - acc: 0.8815 - val_loss: 0.3464 - val_acc: 0.8413\n",
            "Epoch 36/40\n",
            "125/125 [==============================] - 8s 63ms/step - loss: 0.2840 - acc: 0.8818 - val_loss: 0.3392 - val_acc: 0.8440\n",
            "Epoch 37/40\n",
            "125/125 [==============================] - 8s 63ms/step - loss: 0.2759 - acc: 0.8849 - val_loss: 0.3539 - val_acc: 0.8400\n",
            "Epoch 38/40\n",
            "125/125 [==============================] - 8s 63ms/step - loss: 0.2727 - acc: 0.8839 - val_loss: 0.3454 - val_acc: 0.8407\n",
            "Epoch 39/40\n",
            "125/125 [==============================] - 8s 62ms/step - loss: 0.2702 - acc: 0.8857 - val_loss: 0.3415 - val_acc: 0.8482\n",
            "Epoch 40/40\n",
            "125/125 [==============================] - 8s 63ms/step - loss: 0.2646 - acc: 0.8872 - val_loss: 0.3459 - val_acc: 0.8478\n",
            "Fonction d'objectif des tests : 0.3459189534187317\n",
            "Précision des tests : 0.8477500081062317\n"
          ],
          "name": "stdout"
        },
        {
          "output_type": "display_data",
          "data": {
            "image/png": "[encoded data removed]",
            "text/plain": [
              "<Figure size 432x288 with 1 Axes>"
            ]
          },
          "metadata": {
            "tags": [],
            "needs_background": "light"
          }
        }
      ]
    },
    {
      "cell_type": "markdown",
      "metadata": {
        "id": "3LVwi0vLMFLS",
        "colab_type": "text"
      },
      "source": [
        "# Prédictions\n",
        "\n"
      ]
    },
    {
      "cell_type": "code",
      "metadata": {
        "id": "_i423WNQMFLS",
        "colab_type": "code",
        "colab": {}
      },
      "source": [
        "predictions = model.predict(padded_sequences)\n",
        "plus_probable = predictions.argmax(1)"
      ],
      "execution_count": 16,
      "outputs": []
    },
    {
      "cell_type": "code",
      "metadata": {
        "id": "2Ve2a-roMFLV",
        "colab_type": "code",
        "colab": {
          "base_uri": "https://localhost:8080/",
          "height": 72
        },
        "outputId": "7f9aea4e-6075-479a-ab0c-c721e4acd29d"
      },
      "source": [
        "index = random.randrange(len(predictions))\n",
        "print(commentaires[index])\n",
        "print('Prédiction: %d, label: %d' % (plus_probable[index], ressentis[index]))"
      ],
      "execution_count": 21,
      "outputs": [
        {
          "output_type": "stream",
          "text": [
            "À forcer de chercher, on trouve... Deux amis voituriers qui travaillent pour un restaurant se servent de cette opportunité d'avoir la voiture du client pour aller les voler chez eux en sachant très bien que la maison sera vide. Une combine rodée jusqu'au jour où Sean pénètre dans la mauvaise maison et découvre quelque chose de terrifiant. Le propriétaire est un maniaque complètement détraqué qui va faire vivre un enfer aux jeunes hommes. \"Bad Samaritan\" se déroule sous une tension constante et sur un rythme effréné qui ne faiblit jamais. C'est clairement la grande force de ce thriller parfaitement mené et exécuté qui est haletant et captivant jusqu'à la dernière minute. C'est souvent tiré par les cheveux et pas toujours crédible, mais peu importe, car l'on est vraiment pris dans l'action et par ce mano à mano particulièrement intense. C'est une série B totalement assumée qui n'hésite pas à en faire des tonnes quitte à ce que ce soit risible par moment. On ne compte plus les rebondissements et situations improbables, mais c'est aussi ce qui fait le charme de ce film. Les deux films n'ont rien à voir, mais l'histoire m'a fait penser à celle de l'excellent \"Disturbia\" avec ce jeune homme qui veut prouver qu'un adulte n'est pas celui qu'il prétend être. Le personnage ici se retrouve dans la même galère et est tout aussi en danger sauf qu'ici, le film est plus dynamique et surtout l'action ne se déroule pas à un endroit. Sans être original, ce \"Bad Samaritan\" est un très bon film avec beaucoup de suspens et d'action qui est peut-être très simple, mais aussi très divertissant.\n",
            "Prédiction: 1, label: 1\n"
          ],
          "name": "stdout"
        }
      ]
    },
    {
      "cell_type": "markdown",
      "metadata": {
        "id": "FcR3Qu6FMFLX",
        "colab_type": "text"
      },
      "source": [
        "# Analyse des erreurs"
      ]
    },
    {
      "cell_type": "code",
      "metadata": {
        "id": "T7aMVD5lMFLX",
        "colab_type": "code",
        "colab": {
          "base_uri": "https://localhost:8080/",
          "height": 316
        },
        "outputId": "fb06e115-3f3d-4491-837a-673e648f3750"
      },
      "source": [
        "for i in range(10000):\n",
        "    index = random.randrange(len(predictions))\n",
        "    if most_likely[index] != sentiments[index]:\n",
        "        break\n",
        "\n",
        "print(comments[index])\n",
        "print('Prediction: %d, label: %d' % (most_likely[index], sentiments[index]))\n",
        "\n",
        "plt.bar(range(num_classes), predictions[index], tick_label=range(num_classes))\n",
        "plt.title('Prediction values')\n",
        "plt.show()"
      ],
      "execution_count": null,
      "outputs": [
        {
          "output_type": "stream",
          "text": [
            "You get extra minutes so that you can carry out the call and not get cut off.\"\n",
            "Prediction: 0, label: 1\n"
          ],
          "name": "stdout"
        },
        {
          "output_type": "display_data",
          "data": {
            "image/png": "[encoded data removed]",
            "text/plain": [
              "<Figure size 432x288 with 1 Axes>"
            ]
          },
          "metadata": {
            "tags": []
          }
        }
      ]
    },
    {
      "cell_type": "code",
      "metadata": {
        "id": "hMplVIcbMFLZ",
        "colab_type": "code",
        "colab": {}
      },
      "source": [
        ""
      ],
      "execution_count": null,
      "outputs": []
    }
  ]
}