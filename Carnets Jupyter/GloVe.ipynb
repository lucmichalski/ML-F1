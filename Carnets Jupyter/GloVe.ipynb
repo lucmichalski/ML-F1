{
  "nbformat": 4,
  "nbformat_minor": 0,
  "metadata": {
    "kernelspec": {
      "display_name": "Python 3",
      "language": "python",
      "name": "python3"
    },
    "language_info": {
      "codemirror_mode": {
        "name": "ipython",
        "version": 3
      },
      "file_extension": ".py",
      "mimetype": "text/x-python",
      "name": "python",
      "nbconvert_exporter": "python",
      "pygments_lexer": "ipython3",
      "version": "3.6.8"
    },
    "colab": {
      "name": "GloVe Sentiment.ipynb",
      "provenance": [],
      "collapsed_sections": [],
      "toc_visible": true
    },
    "accelerator": "GPU"
  },
  "cells": [
    {
      "cell_type": "markdown",
      "metadata": {
        "id": "ygBHZ2O-MFK1",
        "colab_type": "text"
      },
      "source": [
        "# Analyse des ressentis avec GloVe Vectors\n",
        "\n",
        "L'analyse des ressentis a pour objectif de classifier les opinions exprimées sous forme de texte dans un langage naturel. Différentes méthodes peuvent être utlisées pour réaliser cette analyse. Dans cet exemple, des commentaires recueillis surle site [allociné](http://www.allocine.fr/) vont être utlisés pour entrainer un modèle de classification supervisé. Le modèle utilise un réseau de neurones à convolution 1D.\n",
        "\n",
        "Les mots contenus dans les phrases doivent être encodés dans des vecteurs qui seront utilisés pour l'entrainement et les tests. Une manière simple serait d'assigner à chaque mot une valeur numérique. Le problème de cette méthode est que le contexte dans lequel les mots sont utilisés n'est pas pris en compte. Une méthode permettant de combler ce manque est d'utiliser un algorithme de prolongation lexicale (Word embedding). Parmi ce genre d'algorithme, on trouve [GloVe (Global Vectors for Word Representation)](https://nlp.stanford.edu/projects/glove/) qui se base sur les probabilités de co-occurence de mots. Une base de données pré-entrainée (mais en Anglais) est déjà disponnible sur leur site web.  \n",
        "\n",
        "Une base de donnée pré-entrainée en Français peut-être néanmoins téléchargée à cette [adresse](http://www.cs.cmu.edu/~afm/projects/multilingual_embeddings.html). C'est celle-ci que nous utiliserons."
      ]
    },
    {
      "cell_type": "code",
      "metadata": {
        "id": "CVAIpfO0MFK7",
        "colab_type": "code",
        "colab": {}
      },
      "source": [
        "import pandas as pd\n",
        "import numpy as np\n",
        "import random\n",
        "import json\n",
        "\n",
        "from tensorflow.keras.models import Sequential\n",
        "from tensorflow.keras.layers import Dense, Dropout, Flatten\n",
        "from tensorflow.keras.layers import Conv1D, GlobalMaxPooling1D, Embedding\n",
        "from tensorflow.keras.optimizers import Adam\n",
        "from tensorflow.keras.preprocessing.sequence import pad_sequences\n",
        "from tensorflow.keras.preprocessing.text import Tokenizer\n",
        "\n",
        "import matplotlib.pyplot as plt\n",
        "\n",
        "from sklearn.model_selection import train_test_split"
      ],
      "execution_count": 1,
      "outputs": []
    },
    {
      "cell_type": "markdown",
      "metadata": {
        "id": "WN_eQNboMFLA",
        "colab_type": "text"
      },
      "source": [
        "# Chargement des données d'entrainement\n",
        "\n",
        "Les données d'entrainement sont chargées dans une dataframe Panda depuis des fichiers textes. Ces données contiennent deux colonnes : Un commentaire et une valeur binaire définissant un sentiment négatif ou positif sur ce commentaire. \n",
        "\n",
        "Ces données sont disponnibles sur le github de [TheophileBlard](https://github.com/TheophileBlard/french-sentiment-analysis-with-bert/tree/master/allocine_dataset). Ces données sont issues de commentaires récupérés sur Allociné. Les utilisateurs votent avec des notes allant de 0.5 à 5.0 :    \n",
        "<img src=\"https://github.com/AlexandreBourrieau/ML-F1/blob/master/Carnets%20Jupyter/Images/rating_counts.png?raw=1\" width=\"600\"/>\n",
        "\n",
        "Afin de récupérer une note binaire (négative ou positive) à partir de cet intervalle de valeurs, les votes <= 2 sont classé comme négatifs et ceux >=4 sont classés comme positifs. Les autres sont classés comme neutres :    \n",
        "<img src=\"https://github.com/AlexandreBourrieau/ML-F1/blob/master/Carnets%20Jupyter/Images/polarity_frequency.png?raw=1\" width=\"600\"/>  \n",
        "  \n",
        "\n",
        "Enfin, pour construire les données, 100 000 avis négatifs et 100 000 avis positifs sont extraits aléatoirement, puis décomposés en deux catégories : Les données d'entrainement (80%), les données de test (10%) et les données de validation (10%) :  \n",
        "<img src=\"https://github.com/AlexandreBourrieau/ML-F1/blob/master/Carnets%20Jupyter/Images/splits_polarity.png?raw=1\" width=\"600\"/>  \n",
        "\n"
      ]
    },
    {
      "cell_type": "code",
      "metadata": {
        "id": "WFyrqXX4M5ek",
        "colab_type": "code",
        "colab": {
          "base_uri": "https://localhost:8080/",
          "height": 468
        },
        "outputId": "e1deb43b-ddd0-4afc-e6eb-87dafbba4687"
      },
      "source": [
        "# Téléchargement des données depuis le repot github \"https://github.com/AlexandreBourrieau/ML-F1/raw/master/Carnets%20Jupyter/Donn%C3%A9es/data.tar.bz2\"\n",
        "\n",
        "!wget \"https://github.com/AlexandreBourrieau/ML-F1/raw/master/Carnets%20Jupyter/Donn%C3%A9es/data.tar.bz2\"\n",
        "!tar -xjvf data.tar.bz2\n",
        "!ls -l data"
      ],
      "execution_count": 2,
      "outputs": [
        {
          "output_type": "stream",
          "text": [
            "--2020-09-12 12:16:04--  https://github.com/AlexandreBourrieau/ML-F1/raw/master/Carnets%20Jupyter/Donn%C3%A9es/data.tar.bz2\n",
            "Resolving github.com (github.com)... 140.82.121.3\n",
            "Connecting to github.com (github.com)|140.82.121.3|:443... connected.\n",
            "HTTP request sent, awaiting response... 302 Found\n",
            "Location: https://raw.githubusercontent.com/AlexandreBourrieau/ML-F1/master/Carnets%20Jupyter/Donn%C3%A9es/data.tar.bz2 [following]\n",
            "--2020-09-12 12:16:05--  https://raw.githubusercontent.com/AlexandreBourrieau/ML-F1/master/Carnets%20Jupyter/Donn%C3%A9es/data.tar.bz2\n",
            "Resolving raw.githubusercontent.com (raw.githubusercontent.com)... 151.101.0.133, 151.101.64.133, 151.101.128.133, ...\n",
            "Connecting to raw.githubusercontent.com (raw.githubusercontent.com)|151.101.0.133|:443... connected.\n",
            "HTTP request sent, awaiting response... 200 OK\n",
            "Length: 66625305 (64M) [application/octet-stream]\n",
            "Saving to: ‘data.tar.bz2’\n",
            "\n",
            "data.tar.bz2        100%[===================>]  63.54M   164MB/s    in 0.4s    \n",
            "\n",
            "2020-09-12 12:16:08 (164 MB/s) - ‘data.tar.bz2’ saved [66625305/66625305]\n",
            "\n",
            "data/\n",
            "data/allocine_dataset.pickle\n",
            "data/test.jsonl\n",
            "data/train.jsonl\n",
            "data/val.jsonl\n",
            "total 247580\n",
            "-rw-r--r-- 1 1000 1000 119034075 Feb  6  2020 allocine_dataset.pickle\n",
            "-rw-r--r-- 1 1000 1000  13554101 Feb  6  2020 test.jsonl\n",
            "-rw-r--r-- 1 1000 1000 107365432 Feb  6  2020 train.jsonl\n",
            "-rw-r--r-- 1 1000 1000  13550874 Feb  6  2020 val.jsonl\n"
          ],
          "name": "stdout"
        }
      ]
    },
    {
      "cell_type": "code",
      "metadata": {
        "id": "je5Lkv_aMFLA",
        "colab_type": "code",
        "colab": {
          "base_uri": "https://localhost:8080/",
          "height": 355
        },
        "outputId": "74e5cdd5-e8ee-4e41-a492-7af88f4f3225"
      },
      "source": [
        "DataEntrainement = pd.read_json(\"/content/data/test.jsonl\", lines=True)\n",
        "DataEntrainement.head(10)"
      ],
      "execution_count": 3,
      "outputs": [
        {
          "output_type": "execute_result",
          "data": {
            "text/html": [
              "<div>\n",
              "<style scoped>\n",
              "    .dataframe tbody tr th:only-of-type {\n",
              "        vertical-align: middle;\n",
              "    }\n",
              "\n",
              "    .dataframe tbody tr th {\n",
              "        vertical-align: top;\n",
              "    }\n",
              "\n",
              "    .dataframe thead th {\n",
              "        text-align: right;\n",
              "    }\n",
              "</style>\n",
              "<table border=\"1\" class=\"dataframe\">\n",
              "  <thead>\n",
              "    <tr style=\"text-align: right;\">\n",
              "      <th></th>\n",
              "      <th>film-url</th>\n",
              "      <th>review</th>\n",
              "      <th>polarity</th>\n",
              "    </tr>\n",
              "  </thead>\n",
              "  <tbody>\n",
              "    <tr>\n",
              "      <th>0</th>\n",
              "      <td>http://www.allocine.fr/film/fichefilm-25385/cr...</td>\n",
              "      <td>Magnifique épopée, une belle histoire, touchan...</td>\n",
              "      <td>1</td>\n",
              "    </tr>\n",
              "    <tr>\n",
              "      <th>1</th>\n",
              "      <td>http://www.allocine.fr/film/fichefilm-1954/cri...</td>\n",
              "      <td>Je n'ai pas aimé mais pourtant je lui mets 2 é...</td>\n",
              "      <td>0</td>\n",
              "    </tr>\n",
              "    <tr>\n",
              "      <th>2</th>\n",
              "      <td>http://www.allocine.fr/film/fichefilm-135523/c...</td>\n",
              "      <td>Un dessin animé qui brille par sa féerie et se...</td>\n",
              "      <td>1</td>\n",
              "    </tr>\n",
              "    <tr>\n",
              "      <th>3</th>\n",
              "      <td>http://www.allocine.fr/film/fichefilm-61514/cr...</td>\n",
              "      <td>Si c'est là le renouveau du cinéma français, c...</td>\n",
              "      <td>0</td>\n",
              "    </tr>\n",
              "    <tr>\n",
              "      <th>4</th>\n",
              "      <td>http://www.allocine.fr/film/fichefilm-260395/c...</td>\n",
              "      <td>Et pourtant on s’en Doutait !Second volet très...</td>\n",
              "      <td>0</td>\n",
              "    </tr>\n",
              "    <tr>\n",
              "      <th>5</th>\n",
              "      <td>http://www.allocine.fr/film/fichefilm-220641/c...</td>\n",
              "      <td>Vous reprendrez bien un peu d'été ? Ce film je...</td>\n",
              "      <td>1</td>\n",
              "    </tr>\n",
              "    <tr>\n",
              "      <th>6</th>\n",
              "      <td>http://www.allocine.fr/film/fichefilm-120103/c...</td>\n",
              "      <td>Bon c'est pas un grand film mais on passe un b...</td>\n",
              "      <td>1</td>\n",
              "    </tr>\n",
              "    <tr>\n",
              "      <th>7</th>\n",
              "      <td>http://www.allocine.fr/film/fichefilm-190956/c...</td>\n",
              "      <td>Terrible histoire que ces êtres sans amour, ce...</td>\n",
              "      <td>1</td>\n",
              "    </tr>\n",
              "    <tr>\n",
              "      <th>8</th>\n",
              "      <td>http://www.allocine.fr/film/fichefilm-186185/c...</td>\n",
              "      <td>Un très joli film, qui ressemble à un téléfilm...</td>\n",
              "      <td>1</td>\n",
              "    </tr>\n",
              "    <tr>\n",
              "      <th>9</th>\n",
              "      <td>http://www.allocine.fr/film/fichefilm-17327/cr...</td>\n",
              "      <td>Mais comment certaines personnes ont pus lui m...</td>\n",
              "      <td>0</td>\n",
              "    </tr>\n",
              "  </tbody>\n",
              "</table>\n",
              "</div>"
            ],
            "text/plain": [
              "                                            film-url  ... polarity\n",
              "0  http://www.allocine.fr/film/fichefilm-25385/cr...  ...        1\n",
              "1  http://www.allocine.fr/film/fichefilm-1954/cri...  ...        0\n",
              "2  http://www.allocine.fr/film/fichefilm-135523/c...  ...        1\n",
              "3  http://www.allocine.fr/film/fichefilm-61514/cr...  ...        0\n",
              "4  http://www.allocine.fr/film/fichefilm-260395/c...  ...        0\n",
              "5  http://www.allocine.fr/film/fichefilm-220641/c...  ...        1\n",
              "6  http://www.allocine.fr/film/fichefilm-120103/c...  ...        1\n",
              "7  http://www.allocine.fr/film/fichefilm-190956/c...  ...        1\n",
              "8  http://www.allocine.fr/film/fichefilm-186185/c...  ...        1\n",
              "9  http://www.allocine.fr/film/fichefilm-17327/cr...  ...        0\n",
              "\n",
              "[10 rows x 3 columns]"
            ]
          },
          "metadata": {
            "tags": []
          },
          "execution_count": 3
        }
      ]
    },
    {
      "cell_type": "markdown",
      "metadata": {
        "id": "Iq6cMhkEMFLG",
        "colab_type": "text"
      },
      "source": [
        "# Chargement des vecteurs GloVE et création des matrices\n",
        "\n",
        "Nous allons charger les vecteurs GloVE et créer des matrices à partir de ceux-ci.\n",
        "\n",
        "Les fichiers des vecteurs GloVe sont téléchargés à partir du site de [GloVe](https://nlp.stanford.edu/projects/glove/) mais ils sont en Anglais. Nous allons utiliser une [version française](http://www.cs.cmu.edu/~afm/projects/multilingual_embeddings.html) équivalente.  \n",
        "  \n",
        "Le fichier que nous utilisons contient plus de 40000 vecteurs de dimension 300. Cela signifie que pour chaque mot contenu dans ce fichier, un vecteur de 300 valeurs permet de définir les relations lexicales de ce mots avec les autres mots du fichier.  \n",
        "    \n",
        "<img src=\"https://github.com/AlexandreBourrieau/ML-F1/blob/master/Carnets%20Jupyter/Images/EmbeddedVectors.png?raw=1\" width=\"1200\"/>  "
      ]
    },
    {
      "cell_type": "code",
      "metadata": {
        "id": "ZGcwMGR-R3tR",
        "colab_type": "code",
        "colab": {}
      },
      "source": [
        "# Téléchargement des vecteurs\n",
        "!wget \"https://github.com/AlexandreBourrieau/ML-F1/raw/master/Carnets%20Jupyter/Donn%C3%A9es/multilingual_embeddings.rar\"\n",
        "!mv multilingual_embeddings.rar /content/data/multilingual_embeddings.rar\n",
        "!unrar x /content/data/multilingual_embeddings.rar /content/data\n"
      ],
      "execution_count": null,
      "outputs": []
    },
    {
      "cell_type": "markdown",
      "metadata": {
        "id": "qp7oQXgtVz8x",
        "colab_type": "text"
      },
      "source": [
        "On définit maintenant deux fonctions :  \n",
        "* La fonction Chargement_Vecteurs() va créer un tableau de type numpy, avec pour chaque mot son vecteur correspondant :  \n",
        "\n",
        "\n",
        "\n",
        "```\n",
        "  ...\n",
        "  'embêtant': array([-2.26152748e-01,  3.20324749e-01, -1.10406213e-01, -6.05279326e-01,\n",
        "        -4.68072683e-01,  1.29561171e-01,  5.62916815e-01, -1.16834176e+00,\n",
        "       ...\n",
        "        -7.50736117e-01, -2.48611599e-01, -2.42264550e-02, -9.54209745e-01],\n",
        "       dtype=float32),\n",
        " 'lockheed': array([ 3.6074609e-01, -8.0667698e-01,  8.7549436e-01,  6.2351477e-01,\n",
        "        -9.2155904e-01,  7.3180795e-01, -2.8121206e-01,  2.9078028e-01,\n",
        "        ...\n",
        "         1.5100185e+00,  8.1941241e-01, -1.6970781e+00,  1.9289741e-01],\n",
        "       dtype=float32),\n",
        " 'séparez': array([-0.5703459 , -0.8884122 , -0.4579496 ,  0.55588883, -0.8727098 ,\n",
        "         0.56783265, -0.10067926,  0.14027229, -0.89301944, -0.42706665,\n",
        "        ...\n",
        "        -0.36254016, -0.40695533,  1.087127  , -0.641696  ,  0.10919298,\n",
        "```\n",
        "\n"
      ]
    },
    {
      "cell_type": "code",
      "metadata": {
        "id": "zVeUb4AsMFLG",
        "colab_type": "code",
        "colab": {}
      },
      "source": [
        "MAX_NB_WORDS = 1000000\n",
        "MAX_NB_VECTORS = 5\n",
        "MAX_SEQUENCE_LENGTH = 1000\n",
        "EMBEDDING_DIM = 300\n",
        "\n",
        "num_classes = 2\n",
        "\n",
        "def Chargement_Vecteurs():\n",
        "    print('Chargement des vecteurs GloVe...')\n",
        "    glove_dict = {}\n",
        "    Max_Nb_Vect = 0\n",
        "    with open('/content/data/multilingual_embeddings.fr', encoding='utf8') as fichier:\n",
        "        for ligne in fichier:\n",
        "            Max_Nb_Vect = Max_Nb_Vect + 1\n",
        "            if Max_Nb_Vect > MAX_NB_VECTORS:\n",
        "              break\n",
        "            valeur = ligne.split()\n",
        "            mot = valeur[0]\n",
        "            glove_dict[mot] = np.asarray(valeur[1:], dtype='float32')\n",
        "    return glove_dict\n",
        "\n",
        "def creation_matrice(index_mot, nbr_mots):\n",
        "    glove_dict = Chargement_Vectors()\n",
        "    matrice = np.zeros((nbr_mots, EMBEDDING_DIM))\n",
        "    for mot, i in index_mot.items():\n",
        "        if i > nbr_mots:\n",
        "            continue\n",
        "        vector = glove_dict.get(mot)\n",
        "        if vector is not None:\n",
        "            matrice[i] = vector\n",
        "    return matrice"
      ],
      "execution_count": 54,
      "outputs": []
    },
    {
      "cell_type": "code",
      "metadata": {
        "id": "xm_kIQVEUsj3",
        "colab_type": "code",
        "colab": {
          "base_uri": "https://localhost:8080/",
          "height": 35
        },
        "outputId": "4f9c3aa3-5869-4b2e-9b4a-c940ff9470d8"
      },
      "source": [
        "data_glove = Chargement_Vecteurs()"
      ],
      "execution_count": 55,
      "outputs": [
        {
          "output_type": "stream",
          "text": [
            "Chargement des vecteurs GloVe...\n"
          ],
          "name": "stdout"
        }
      ]
    },
    {
      "cell_type": "code",
      "metadata": {
        "id": "AyySUA3nU1s6",
        "colab_type": "code",
        "colab": {
          "base_uri": "https://localhost:8080/",
          "height": 1000
        },
        "outputId": "6147bb4c-945d-4753-9568-7928ea07a2dc"
      },
      "source": [
        "data_glove"
      ],
      "execution_count": 56,
      "outputs": [
        {
          "output_type": "execute_result",
          "data": {
            "text/plain": [
              "{'bourrés': array([-0.8433598 , -0.10593044, -0.34571698, -1.1293168 ,  0.28852624,\n",
              "         0.6322153 ,  0.16338542,  0.8659194 ,  0.84873366,  1.1048244 ,\n",
              "         0.1532723 ,  0.43684915,  0.27500245,  0.23346229, -1.1731404 ,\n",
              "        -1.1109859 , -0.15025046,  1.0603158 , -1.3339813 ,  3.3396902 ,\n",
              "         0.8823968 ,  0.18630008, -1.1698588 ,  1.2097162 ,  0.24811314,\n",
              "        -0.3793616 , -0.4891553 ,  2.3405263 ,  1.6838933 ,  0.9294254 ,\n",
              "         2.1211586 ,  0.42782134,  1.4641168 ,  0.68279445,  0.5165373 ,\n",
              "        -0.09145662,  1.0467978 ,  2.4008772 ,  0.9608098 ,  2.2901895 ,\n",
              "        -0.49484292, -0.16240674,  0.98893553,  0.0633358 , -0.27702934,\n",
              "         0.24270007,  0.28713596, -0.06889176,  1.3822082 , -0.49942413,\n",
              "         1.0031114 , -0.2583637 , -2.7895212 ,  0.02822703, -1.0116721 ,\n",
              "        -1.9544768 ,  0.67724836, -0.11221939,  0.17958365,  0.03454317,\n",
              "         0.8045084 , -0.01086469, -0.29314598,  1.0164337 , -2.2324164 ,\n",
              "         0.52757394, -3.704143  ,  0.21360423, -0.7121904 , -1.2682829 ,\n",
              "         0.5727268 ,  0.07185292,  0.1846397 , -0.19627486, -0.385511  ,\n",
              "         0.12535676,  1.2759212 ,  2.971733  ,  2.7836318 ,  1.2136629 ,\n",
              "        -0.76908475,  1.2564442 ,  0.22007513,  0.9733574 , -1.0577239 ,\n",
              "        -0.57602584,  0.59882367, -1.3913112 , -1.0795398 ,  1.5944995 ,\n",
              "        -0.5207888 , -0.16478744,  0.22955768,  0.95924586,  1.8209765 ,\n",
              "        -0.7845135 ,  0.56151545,  0.52592695, -0.00762373,  1.7908942 ,\n",
              "         0.52267754, -0.8376133 , -1.5017347 ,  1.5216533 , -0.64700675,\n",
              "         0.38301006,  0.58407813, -2.2075129 , -0.75183815, -0.32559773,\n",
              "        -0.28134826, -1.4728231 ,  0.3677145 , -1.5411171 , -2.553404  ,\n",
              "         3.1378498 ,  0.8850472 , -0.4803595 , -2.2896008 , -0.00776986,\n",
              "         0.88782585,  1.0927703 ,  1.1775153 ,  2.2230227 ,  0.85754406,\n",
              "         0.11701109,  0.7871611 , -0.9196468 , -0.12150846, -4.3540964 ,\n",
              "         3.1556578 , -1.6179304 ,  0.64358586, -2.469366  , -0.6537571 ,\n",
              "         1.7436005 , -0.42605528,  0.7188249 ,  0.6837594 , -1.5038879 ,\n",
              "        -3.9079826 ,  0.6722981 ,  0.07045853,  0.0973948 ,  0.88287956,\n",
              "         0.8117917 , -0.08310212,  0.68873763, -2.7645068 , -0.02779614,\n",
              "        -1.7324859 , -0.8692615 ,  1.467219  ,  0.05749751, -0.14767553,\n",
              "         2.0945385 , -0.3319833 ,  0.1676654 , -1.4079655 ,  2.6790936 ,\n",
              "         0.76088005,  1.3657972 ,  0.7289796 , -0.711854  , -0.329969  ,\n",
              "        -0.43802556,  2.0426533 ,  0.67895997, -0.16585211,  0.7562693 ,\n",
              "        -3.4313095 ,  0.6909876 , -2.230737  ,  0.598339  , -2.6023645 ,\n",
              "        -0.23144047, -3.1271055 ,  2.2214217 , -0.7308245 ,  0.5017052 ,\n",
              "         1.9280373 , -0.3453064 ,  0.8374796 ,  0.18672095,  0.11411408,\n",
              "         0.4193938 ,  0.39556807, -0.03811342, -0.20842017, -0.7103591 ,\n",
              "         2.174768  , -0.23379043,  2.2762213 , -2.7970617 , -2.376168  ,\n",
              "         0.8206958 , -0.09429914, -0.19791317,  0.4053052 ,  2.0266304 ,\n",
              "        -0.3850796 ,  0.52531874,  0.6767486 ,  1.1363462 ,  1.1111925 ,\n",
              "        -3.047204  , -1.0912907 , -0.4634264 ,  0.84128004,  0.43373746,\n",
              "        -0.13398767, -1.5608454 , -0.14269748, -0.49831432,  1.8298866 ,\n",
              "         0.147107  ,  2.5253384 , -0.9105576 ,  0.41158575,  1.4444634 ,\n",
              "        -0.22037603,  0.94449514, -0.6373279 , -0.75069803,  0.68241084,\n",
              "         0.45400727, -1.0701504 ,  0.78738135,  1.4739783 , -0.58935285,\n",
              "        -0.7949135 ,  0.41563454, -0.689205  , -0.06520606, -0.99917644,\n",
              "        -0.75192195, -0.38257664, -1.0648892 , -0.72526574, -1.7062856 ,\n",
              "        -1.6254172 ,  0.86294913, -2.0128655 ,  0.6119714 , -0.29804063,\n",
              "         0.92945004, -0.8862355 , -0.80211115, -0.14149007, -0.5809079 ,\n",
              "        -1.1471784 , -0.5404577 ,  1.4993004 , -1.5749208 , -0.75563025,\n",
              "        -0.4337946 ,  1.1077707 ,  2.5359075 ,  0.65049505,  1.8172673 ,\n",
              "        -0.13938624, -0.00889065, -2.6327822 ,  1.1115264 , -3.846107  ,\n",
              "        -0.0837655 ,  0.29719734,  0.70180804,  0.70384675,  0.6919258 ,\n",
              "        -1.235386  ,  0.57767355, -0.69575065, -0.05734699,  2.4015145 ,\n",
              "         0.27830863, -0.9823826 ,  0.09333836, -0.85864556, -1.2543825 ,\n",
              "         1.3681178 , -0.93259174, -0.7935333 ,  0.49299634,  1.5568235 ,\n",
              "         0.89551985,  0.9776351 , -2.5752952 , -0.74212015, -1.5105398 ,\n",
              "        -0.32166836, -0.564898  , -3.1241071 , -0.63111824,  0.87144345,\n",
              "         2.3853488 ,  0.36025017,  0.26957846, -0.44222024, -1.5173544 ],\n",
              "       dtype=float32),\n",
              " 'embêtant': array([-2.26152748e-01,  3.20324749e-01, -1.10406213e-01, -6.05279326e-01,\n",
              "        -4.68072683e-01,  1.29561171e-01,  5.62916815e-01, -1.16834176e+00,\n",
              "        -1.89826691e+00,  5.05788624e-01,  3.04269224e-01,  3.30310464e-01,\n",
              "        -1.85087651e-01, -3.54958445e-01,  5.77068150e-01, -2.34613821e-01,\n",
              "         3.47212642e-01, -2.52509322e-02,  5.01169264e-01, -6.93067372e-01,\n",
              "         1.11601830e+00,  6.87622547e-01, -1.73781887e-01, -3.77606541e-01,\n",
              "         6.60013139e-01, -1.00606039e-01, -1.65355623e-01, -7.94160843e-01,\n",
              "        -7.65726089e-01, -4.34868522e-02, -7.25819707e-01,  9.10047442e-02,\n",
              "         3.71024162e-01, -2.59229690e-01, -9.19628203e-01, -1.64634481e-01,\n",
              "        -2.65316367e-01,  8.14349413e-01,  2.87735373e-01,  1.93513632e-01,\n",
              "         2.46160436e+00, -8.92713845e-01,  1.38139141e+00, -6.03385568e-01,\n",
              "         2.15848297e-01, -4.05481547e-01, -1.41010106e-01, -7.66220152e-01,\n",
              "         4.23667222e-01,  1.77469158e+00,  1.40650403e+00,  3.16899031e-01,\n",
              "        -2.95988142e-01,  1.18485653e+00, -5.20490646e-01, -1.14607584e+00,\n",
              "         7.60928929e-01, -4.45600837e-01,  5.68688273e-01, -1.13607552e-02,\n",
              "         2.91329592e-01, -6.03146672e-01,  1.73896027e+00,  5.39177299e-01,\n",
              "        -5.37515104e-01, -9.97862399e-01,  9.97227490e-01, -5.06120443e-01,\n",
              "        -7.28722692e-01, -6.60196722e-01,  4.01451170e-01, -2.38392100e-01,\n",
              "         1.26498982e-01, -1.39465660e-01, -1.72264427e-01,  7.52115786e-01,\n",
              "        -4.68102656e-03,  2.70562172e-01, -1.97649673e-01,  9.05793786e-01,\n",
              "        -7.37961113e-01,  1.93068072e-01,  2.17369631e-01,  8.74989927e-01,\n",
              "         2.28091180e-01, -1.60543233e-01,  1.83011365e+00, -4.63628799e-01,\n",
              "        -9.22161758e-01,  4.62282598e-01, -2.32663080e-01,  5.20693958e-02,\n",
              "        -4.77337539e-01, -8.04602206e-01,  4.47167844e-01,  4.76930588e-01,\n",
              "        -2.88641423e-01, -3.16670477e-01, -3.76159668e-01,  3.85576300e-02,\n",
              "         1.65118985e-02, -5.64402401e-01, -8.72060359e-01, -1.12587297e-02,\n",
              "         5.81087589e-01, -5.93593776e-01, -1.98088333e-01,  4.97880042e-01,\n",
              "        -7.08908081e-01, -5.70000112e-01, -6.32387772e-02,  5.00327572e-02,\n",
              "        -9.57739890e-01, -3.32571119e-01,  3.43795270e-01, -6.04478896e-01,\n",
              "        -3.32071409e-02, -5.93819976e-01, -1.11265051e+00, -1.06658295e-01,\n",
              "         3.96974422e-02,  8.24696541e-01,  6.44881576e-02,  7.23400831e-01,\n",
              "        -1.92011178e-01,  7.77436018e-01, -4.42615062e-01, -4.51667249e-01,\n",
              "        -4.48171437e-01, -1.54688573e+00, -1.11891782e+00,  1.28710017e-01,\n",
              "         8.27729821e-01, -1.03546018e-02, -5.65041542e-01,  1.09015799e+00,\n",
              "        -9.96943533e-01,  1.63813508e+00,  6.42277956e-01,  5.05810603e-02,\n",
              "        -1.17162108e+00,  4.65506852e-01,  1.45903230e-01,  6.41246378e-01,\n",
              "         1.75963894e-01,  2.98567176e-01, -4.66565043e-01, -3.19270700e-01,\n",
              "        -1.80046692e-01,  2.90725142e-01, -2.55520254e-01,  7.99443901e-01,\n",
              "         2.46567667e-01,  3.04588675e-01,  2.31360883e-01, -3.11645657e-01,\n",
              "        -4.93001193e-01,  2.38607749e-01,  3.63875538e-01,  4.59785089e-02,\n",
              "         1.17301695e-01, -4.88936007e-01,  3.10136110e-01, -9.23001289e-01,\n",
              "        -9.11723435e-01, -7.09414601e-01, -3.20611149e-01,  4.39778149e-01,\n",
              "        -3.28475684e-01,  8.05503249e-01,  1.00025582e+00, -3.33492368e-01,\n",
              "        -4.92193907e-01,  4.29562211e-01,  4.24834043e-02, -7.08155558e-02,\n",
              "         6.54285073e-01, -6.08030260e-01, -5.00398993e-01, -7.36875415e-01,\n",
              "         2.81320751e-01, -7.65706003e-01, -7.52314646e-03, -6.71004415e-01,\n",
              "        -9.12403524e-01, -1.09422386e-01,  3.96413922e-01, -2.31593922e-01,\n",
              "         9.29682970e-01, -8.52049649e-01,  8.23522031e-01, -7.02437088e-02,\n",
              "         4.40120362e-02,  4.31665301e-01,  6.40460312e-01,  3.09155315e-01,\n",
              "         8.28101635e-02, -1.62919238e-01,  2.20791593e-01,  8.37778077e-02,\n",
              "         5.57342231e-01,  1.52212471e-01, -1.55575201e-01, -4.67472076e-02,\n",
              "         5.16027845e-02,  1.72720477e-01,  1.54433906e-01, -9.64767396e-01,\n",
              "        -1.42628312e-01,  5.59988797e-01, -3.24567974e-01,  3.02611175e-03,\n",
              "         1.74870998e-01,  4.49685514e-01,  5.94245553e-01,  9.36091989e-02,\n",
              "        -8.00842941e-01,  3.32476258e-01,  1.08270749e-01, -4.82220441e-01,\n",
              "         1.00519907e+00, -3.18114221e-01, -1.32398948e-01, -7.06371367e-01,\n",
              "        -5.63331306e-01, -7.60033131e-02, -8.43604863e-01, -2.81515688e-01,\n",
              "        -4.62366194e-02,  3.59737962e-01,  1.63584486e-01,  4.67908680e-01,\n",
              "         1.06804645e+00, -2.69980371e-01, -5.70454538e-01,  2.08568871e-01,\n",
              "         2.41020370e+00,  5.37497222e-01, -8.05662572e-01, -4.47191089e-01,\n",
              "        -2.23496333e-01, -2.73701292e-03,  8.85208309e-01, -3.36142123e-01,\n",
              "         5.59196532e-01, -7.98561037e-01,  9.00155008e-02, -1.65676787e-01,\n",
              "         8.48992050e-01, -4.17760938e-01,  2.07776517e-01, -4.54702616e-01,\n",
              "         1.15333863e-01, -1.26878095e+00,  5.69714785e-01, -6.18861377e-01,\n",
              "         6.08415663e-01, -4.45755664e-03,  6.52271569e-01, -4.05950218e-01,\n",
              "         7.46347964e-01,  1.30096957e-01, -1.19079888e+00,  5.92534244e-02,\n",
              "         1.06147617e-01,  1.10130608e-01,  3.16331118e-01,  1.00717127e+00,\n",
              "         8.87227952e-01,  4.96063620e-01,  1.27064645e-01,  3.98040891e-01,\n",
              "        -5.55952862e-02, -7.51522422e-01, -1.73139423e-01, -5.25185645e-01,\n",
              "         5.72421193e-01, -9.72086042e-02, -1.01130128e+00,  1.98926449e-01,\n",
              "         7.47792244e-01,  7.06605732e-01,  4.89548892e-02, -4.64128643e-01,\n",
              "         4.78324920e-01,  5.80074787e-01, -3.83654594e-01,  9.68210846e-02,\n",
              "         4.55498323e-02,  2.83794910e-01,  4.76064086e-01, -7.31697977e-01,\n",
              "        -4.65831906e-01,  8.44871998e-02,  1.34489346e+00,  3.65999269e+00,\n",
              "        -7.50736117e-01, -2.48611599e-01, -2.42264550e-02, -9.54209745e-01],\n",
              "       dtype=float32),\n",
              " 'lockheed': array([ 3.6074609e-01, -8.0667698e-01,  8.7549436e-01,  6.2351477e-01,\n",
              "        -9.2155904e-01,  7.3180795e-01, -2.8121206e-01,  2.9078028e-01,\n",
              "         2.2967534e+00, -5.4132676e-01, -8.7421370e-01, -2.1018517e+00,\n",
              "        -3.1696257e-01,  6.7254776e-01,  3.7584463e-01,  1.7269307e-01,\n",
              "        -2.2942209e-01,  1.0301933e-01, -9.3177575e-01, -5.8207506e-01,\n",
              "         5.9962851e-01, -4.1104326e-01, -4.8343238e-01,  5.3393024e-01,\n",
              "         1.7644124e-01, -1.6351806e+00, -2.7169141e-01,  2.2513664e+00,\n",
              "        -3.8320854e-01,  7.0252633e-01, -3.6192143e-01,  5.2295840e-01,\n",
              "        -4.7893530e-01,  4.8923010e-01,  8.2576501e-01,  2.4418201e-01,\n",
              "        -9.2176473e-01, -1.3747742e+00,  9.5153458e-02, -8.0806792e-01,\n",
              "         1.3131113e+00,  7.5738752e-01,  2.3624134e-01, -5.2581483e-01,\n",
              "         4.5664132e-01, -1.6880898e+00, -8.1981796e-01,  9.4705112e-02,\n",
              "         3.3876941e-02,  8.3726294e-02,  6.0565919e-01, -1.2310129e+00,\n",
              "        -4.9829444e-01,  2.6551306e+00, -1.5972042e+00,  8.7155634e-01,\n",
              "         1.4402186e+00,  2.0465828e-01, -2.0540261e+00, -5.7292241e-01,\n",
              "         7.9174703e-01, -7.5046873e-01,  9.5541912e-01,  8.9690369e-01,\n",
              "        -1.0619112e-01,  7.5478151e-02, -3.2262680e-01, -1.1350543e-01,\n",
              "        -2.2530437e-01, -3.3715701e-01,  1.1670290e+00, -7.0446581e-01,\n",
              "        -1.0352659e-01,  1.8389597e+00, -5.1925808e-02,  3.2555756e-01,\n",
              "        -2.8630131e-01,  1.8663666e-01,  1.5398797e-01, -7.3553783e-01,\n",
              "        -9.4883102e-01,  8.3407320e-02,  5.4483896e-01,  1.4497344e-01,\n",
              "        -5.5202480e-02,  3.2962725e-01,  8.8255694e-03,  2.0253749e+00,\n",
              "        -3.5779342e-01, -2.1272202e-01, -6.5894848e-01, -4.6785313e-01,\n",
              "         4.0956354e-01, -7.4013966e-01,  4.9715117e-01, -7.4761659e-01,\n",
              "         2.0930674e+00,  2.2824701e-02,  2.4481845e+00,  1.9633577e+00,\n",
              "        -3.5222793e-01, -3.4409389e-01, -3.2117990e-01, -2.1798070e-01,\n",
              "        -8.5381150e-01,  7.6732822e-02,  1.0676739e+00,  5.3896916e-01,\n",
              "         4.5051277e-01, -9.2266709e-01, -3.2305157e-01,  1.4373045e+00,\n",
              "        -4.1285849e-01, -1.1405214e-01, -5.0227177e-01,  2.1936245e+00,\n",
              "         8.9770514e-01,  4.4498825e-01,  4.1504481e-01,  1.3114444e+00,\n",
              "         7.0348418e-01,  3.2645842e-01,  1.8724519e-01, -5.4024887e-01,\n",
              "        -1.8435478e+00,  1.4620773e-01,  2.9032254e-01,  1.7863612e+00,\n",
              "        -1.6971108e+00,  3.9110407e-01, -7.3612273e-01, -1.7248838e+00,\n",
              "        -7.0446050e-01, -2.3331246e+00, -6.4626426e-01,  1.3136131e+00,\n",
              "         3.1100371e-01,  5.7923287e-01, -8.9264798e-01, -1.3403149e+00,\n",
              "        -3.3573920e-03, -2.0775459e+00, -4.4686168e-01, -1.0798931e+00,\n",
              "        -3.4165597e-01,  2.9563189e-01,  1.3059849e+00,  9.4361144e-01,\n",
              "        -3.0917603e-01,  7.0521623e-02,  5.3568734e-03, -1.0023990e+00,\n",
              "         1.8222070e-01,  1.0623673e+00, -1.3519230e+00, -9.3888354e-01,\n",
              "         1.7235842e-01,  2.3611674e+00, -1.3162841e-01, -1.1402147e+00,\n",
              "         2.3339908e-03,  8.8278458e-02, -4.0200654e-01,  1.9331264e+00,\n",
              "         1.0543398e+00, -6.6818833e-01,  5.5674434e-01,  1.5010160e+00,\n",
              "         7.7082580e-01,  1.0969440e+00, -8.1785244e-01, -1.1648345e+00,\n",
              "        -1.5877913e-01,  6.9227166e-02,  7.3803946e-02, -4.0894863e-01,\n",
              "        -1.2354874e-01,  4.1223511e-01, -1.6296756e+00,  5.8138466e-01,\n",
              "        -1.1494616e+00, -6.1540723e-01, -5.4041564e-01, -7.8921920e-01,\n",
              "         3.4476277e-01,  2.0390837e+00, -6.3191253e-01,  1.7904899e-01,\n",
              "        -8.1604862e-01, -2.4690111e+00, -1.2446617e+00,  3.5807624e-01,\n",
              "        -2.0946321e-01,  6.8989938e-01, -4.3653718e-01,  7.5912677e-02,\n",
              "         2.8338792e+00, -1.8415463e-01, -4.0059379e-01,  7.4038607e-01,\n",
              "         1.7898777e-01,  2.7437362e-01,  3.8184127e-01,  1.3697023e+00,\n",
              "         4.6821758e-01, -3.4029037e-01, -1.1347537e-01,  2.4388018e-01,\n",
              "        -9.6656370e-01,  2.0676401e-01,  1.3681009e-01,  1.2846183e+00,\n",
              "         6.7919576e-01, -3.3719242e-01, -2.2364047e+00,  1.0784112e+00,\n",
              "        -4.8336235e-01, -3.0586231e-01, -6.3776743e-01,  9.1973089e-02,\n",
              "        -4.8537594e-01, -1.0601312e+00, -6.8374157e-01, -7.5047582e-01,\n",
              "        -2.5833621e+00, -1.7560371e+00,  8.4028500e-01,  1.1714725e+00,\n",
              "         1.0289322e+00,  1.1117682e+00,  8.4804595e-02, -1.7767799e+00,\n",
              "        -5.0406474e-01, -1.9571258e-01, -1.8927707e-01, -1.1941820e+00,\n",
              "        -2.5837290e-01, -1.4163883e+00,  2.9695213e-01,  2.3101951e-01,\n",
              "        -7.0864642e-01,  4.5936815e-02, -3.1745452e-01,  4.4315377e-01,\n",
              "        -2.9599214e-01, -9.5224971e-01,  2.5606850e-01,  4.6739879e-01,\n",
              "        -4.5636621e-01, -1.7584990e+00,  5.7901269e-01,  3.7936333e-01,\n",
              "         8.5725009e-01, -8.2170993e-01,  5.7950997e-01, -1.1529063e-01,\n",
              "        -1.0348700e-01,  1.6554885e+00, -7.8693324e-01, -7.0087051e-01,\n",
              "        -5.3457183e-01,  1.7470819e-01, -1.1181783e-01, -4.5254230e-01,\n",
              "        -1.4222270e-01, -4.1070420e-01, -1.7418000e-01, -4.9141625e-01,\n",
              "         2.2039154e-01, -1.0797162e+00,  1.7217946e-01,  6.1769843e-02,\n",
              "         2.6501924e-01, -1.1326135e-01,  1.2176627e+00, -1.2476985e-01,\n",
              "        -2.2264342e+00,  3.5512066e-01,  9.7861993e-01, -1.6611664e-01,\n",
              "        -1.3466091e-01,  1.1607931e+00, -7.2449851e-01,  7.1337181e-01,\n",
              "         2.7749842e-01, -7.2145587e-01, -6.6056174e-01,  9.7263747e-01,\n",
              "         4.0519542e-01, -1.0187964e+00,  1.5298323e-01, -4.9819559e-01,\n",
              "        -9.1173194e-02,  1.2607728e-01, -5.0475460e-01,  9.1675699e-02,\n",
              "         1.5100185e+00,  8.1941241e-01, -1.6970781e+00,  1.9289741e-01],\n",
              "       dtype=float32),\n",
              " 'séparez': array([-0.5703459 , -0.8884122 , -0.4579496 ,  0.55588883, -0.8727098 ,\n",
              "         0.56783265, -0.10067926,  0.14027229, -0.89301944, -0.42706665,\n",
              "         0.11688774, -0.51829284,  0.08239694,  0.6210945 , -0.27569067,\n",
              "        -0.36254016, -0.40695533,  1.087127  , -0.641696  ,  0.10919298,\n",
              "        -1.637117  ,  0.20227012, -0.11888245, -0.10148674, -0.4643261 ,\n",
              "        -0.53547716,  0.251816  ,  0.10132608, -0.309761  ,  0.0376405 ,\n",
              "         2.1447127 ,  0.40920824, -0.4610941 ,  0.16613483,  0.41416106,\n",
              "         0.07527369, -0.51936626,  0.31919724,  0.39873558,  0.6043675 ,\n",
              "        -0.87290347, -0.04262468, -1.8828796 ,  0.17620394, -0.14579095,\n",
              "        -0.481242  ,  0.4407623 ,  0.23760597,  0.0564117 , -0.06513928,\n",
              "         0.38846534,  0.06225147,  0.07862151,  0.69585156, -0.75519854,\n",
              "         0.6995353 ,  0.03612133,  0.55843705, -2.2393548 ,  0.4712414 ,\n",
              "         0.11722149,  0.7054205 ,  0.20446213,  0.95319927,  0.27092978,\n",
              "         0.8557084 ,  0.57176363, -0.01643326,  0.52270985,  0.16205947,\n",
              "         0.2342818 , -0.5478534 ,  0.02828523,  0.4133102 ,  0.849205  ,\n",
              "         1.0876293 ,  0.05472167, -0.19752206,  0.6619659 , -0.88297427,\n",
              "        -0.27300626,  0.21438368, -0.6104399 , -0.20598616,  0.4796613 ,\n",
              "        -0.65553373,  0.5936962 ,  1.5577345 , -0.07317888,  0.08065673,\n",
              "         0.20727043, -0.4523484 ,  1.2200102 ,  0.2652229 ,  0.591263  ,\n",
              "        -0.5619069 ,  0.74202424, -0.11984555,  0.02688074, -0.06892814,\n",
              "         1.3310726 ,  0.50050277,  0.69121414,  0.3584517 , -0.2751602 ,\n",
              "        -0.15247706, -0.56202507, -0.83775246,  0.0805773 ,  1.2971742 ,\n",
              "        -0.45626765, -0.00897784,  0.38147676, -0.02234971, -1.145468  ,\n",
              "        -0.54065657, -0.4002713 , -0.7471493 , -0.5569505 ,  1.4455706 ,\n",
              "         0.6506578 , -0.05368831, -0.18405682,  1.1225247 , -1.032783  ,\n",
              "         0.04994825,  0.05752837,  0.36396733, -1.143942  ,  0.4557011 ,\n",
              "         0.80620086, -0.6773331 ,  0.51547664, -0.7196948 , -0.39356953,\n",
              "         1.243996  , -0.06887315,  0.83579427,  0.08997566, -0.01760666,\n",
              "        -0.14159946,  0.3192739 , -0.27365085, -0.7045488 ,  0.16160923,\n",
              "         0.07873645,  1.2583649 , -0.5154205 , -0.0181889 , -0.33506656,\n",
              "         1.4450606 , -0.1476966 , -0.7347383 , -0.5131454 , -0.5834017 ,\n",
              "        -0.12557407,  0.6463089 , -0.02492919, -0.6375988 ,  0.787366  ,\n",
              "        -0.03015668, -0.19649294, -0.8316037 ,  1.2897393 ,  0.4538294 ,\n",
              "        -0.24843007,  0.6067966 ,  0.503099  ,  0.01078012,  0.50752974,\n",
              "        -0.2698473 , -1.1957161 , -0.06272586,  0.20557095,  0.30120513,\n",
              "         0.07024101, -0.28179035,  1.7437325 ,  0.15347019,  0.43370873,\n",
              "         0.09709878,  1.0902879 ,  0.679728  ,  0.5926508 ,  0.3538387 ,\n",
              "        -0.15912886,  0.53446776, -0.19561711,  0.27759585, -0.29570663,\n",
              "        -0.591467  , -0.39327872,  0.5825886 , -0.22530136, -0.8415222 ,\n",
              "         0.20994933, -0.23142748,  0.5472677 , -1.2064161 ,  0.30859903,\n",
              "        -0.5122725 ,  0.04678478,  0.37728623, -0.6564257 ,  0.34602547,\n",
              "        -0.27989122,  0.32593697,  0.11379489, -0.15192646,  0.19521828,\n",
              "         1.0189514 ,  0.49083117, -0.43990058, -0.38497597, -0.37284532,\n",
              "         0.6416762 ,  0.9593252 ,  0.7067455 , -0.24651031,  0.39815223,\n",
              "        -0.0173389 ,  0.37660253,  0.4312096 ,  0.4066014 , -0.25351968,\n",
              "         0.56231004, -0.7858122 ,  0.35403273, -0.21839412,  1.2313172 ,\n",
              "         0.13740021, -1.6354827 , -0.6338178 ,  1.1604515 ,  0.19461487,\n",
              "        -0.13308313, -0.20261937,  0.07229511,  0.800814  ,  0.53478926,\n",
              "         0.2186957 ,  0.4693873 ,  0.14729078, -0.73910207,  0.27686155,\n",
              "         0.08290193, -0.27468494, -0.72081673, -0.16913453,  0.21212521,\n",
              "        -0.20445646,  0.22201225, -0.929236  , -0.59209543,  0.6387648 ,\n",
              "         0.5014153 ,  0.15004477, -0.15446779, -0.32335985,  0.33231932,\n",
              "        -0.15888609, -0.3530133 ,  0.1869631 ,  0.03561794, -0.4131715 ,\n",
              "         0.15636541,  0.8065498 ,  0.7988499 , -0.10595165, -0.14103478,\n",
              "        -0.36371514,  0.61432815,  0.61782706, -0.21785663,  0.3311875 ,\n",
              "        -0.05617454, -0.42368197,  1.2326468 , -0.6497982 , -0.06478572,\n",
              "         0.10427435,  0.0320027 ,  0.38123968, -0.2830401 ,  0.48860365,\n",
              "         0.7583389 ,  0.27939227, -0.48271337,  0.3669076 , -0.05345654,\n",
              "        -0.20554416, -0.09368467, -0.44057122,  0.45622233, -0.76874435,\n",
              "        -0.49677306,  0.5319733 ,  0.06721968,  0.36746746, -0.37228426],\n",
              "       dtype=float32),\n",
              " 'vinicole': array([-3.99963200e-01, -6.96740150e-01,  8.17921877e-01, -1.16614795e+00,\n",
              "         1.95920244e-01,  5.64737618e-01,  6.20278835e-01,  8.51382613e-01,\n",
              "         8.66824806e-01,  2.00469232e+00, -5.17568350e-01,  2.02728093e-01,\n",
              "        -3.24454367e-01,  6.49191618e-01,  1.46625078e+00, -4.94018108e-01,\n",
              "        -9.84753609e-01,  6.12862110e-01,  3.31721842e-01, -1.60117352e+00,\n",
              "         5.07835209e-01, -7.06605732e-01, -1.91731930e-01,  1.06676328e+00,\n",
              "         1.23577051e-01, -5.03556095e-02,  3.84932041e-01,  3.50284517e-01,\n",
              "        -3.86905313e-01,  1.50673822e-01,  8.98166835e-01,  1.18929636e+00,\n",
              "         3.69441241e-01,  8.07535350e-01, -5.61250269e-01,  7.77242661e-01,\n",
              "         4.31236401e-02, -1.31118968e-01, -8.00026804e-02,  2.63591796e-01,\n",
              "         3.17388207e-01,  8.22654128e-01, -8.75844717e-01, -6.05537407e-02,\n",
              "         1.13713539e+00, -4.11482960e-01,  1.80522636e-01, -6.76641941e-01,\n",
              "         5.50167374e-02, -4.17000391e-02,  1.23363769e+00, -1.06024408e+00,\n",
              "        -3.83652449e-01,  9.86942887e-01,  6.22576214e-02, -4.14578617e-01,\n",
              "         6.34300292e-01, -1.96642971e+00, -3.64327312e-01,  1.90894485e-01,\n",
              "        -8.17085147e-01, -3.84967476e-01,  4.02780920e-01,  3.37808400e-01,\n",
              "        -2.60458827e+00,  4.95817006e-01, -1.72196448e-01, -3.99817765e-01,\n",
              "        -2.24189356e-01,  1.10079765e+00, -2.79578894e-01, -2.88878942e+00,\n",
              "         6.98561132e-01, -3.32184076e-01,  6.22110069e-02,  1.09369171e+00,\n",
              "        -1.36886656e+00,  1.62637889e-01, -2.78346807e-01,  9.14291739e-01,\n",
              "         1.07182912e-03,  1.68488845e-01,  6.52532041e-01, -4.87814695e-01,\n",
              "        -1.00487567e-01, -4.26663429e-01, -1.08159792e+00,  3.07639980e+00,\n",
              "        -1.22848713e+00, -2.38595068e-01, -5.67139208e-01,  2.18251407e-01,\n",
              "        -8.84581625e-01, -4.97397333e-01,  9.20805812e-01,  1.10812441e-01,\n",
              "         1.51431426e-01, -1.78070188e-01, -2.37145886e-01, -2.32931487e-02,\n",
              "         9.49314952e-01, -8.55834484e-01, -2.48066008e-01,  5.75265169e-01,\n",
              "         1.08209169e+00, -2.04921913e+00, -5.87823331e-01,  4.39001232e-01,\n",
              "        -3.18538286e-02, -2.25337172e+00, -1.23147629e-01,  2.35815290e-02,\n",
              "        -1.52753127e+00, -7.43009031e-01, -1.77261150e+00,  2.51586485e+00,\n",
              "        -1.00321293e+00,  6.70366824e-01, -2.45473549e-01,  2.21765548e-01,\n",
              "        -3.66560221e-02, -1.46578737e-02, -3.12121570e-01,  4.04931188e-01,\n",
              "        -2.75987834e-02, -4.73339170e-01,  1.45244002e-01, -7.83847570e-01,\n",
              "         1.68270469e-01, -8.60564053e-01, -3.42446774e-01, -8.47600680e-03,\n",
              "         1.11293972e+00, -2.32018518e+00, -1.61142147e+00,  1.04957744e-01,\n",
              "         7.75498524e-02, -3.55056673e-01,  8.82162094e-01,  1.17494777e-01,\n",
              "        -1.29828382e+00, -7.14491129e-01,  1.97945133e-01,  8.24465275e-01,\n",
              "        -2.98699200e-01,  1.28867194e-01,  1.11352324e+00, -5.74360251e-01,\n",
              "         1.61382422e-01,  2.68806052e+00,  9.71301198e-01, -2.32928538e+00,\n",
              "         5.30658066e-01, -3.60620677e-01,  3.15433979e-01, -1.33729780e+00,\n",
              "        -3.63556027e-01,  1.69167686e+00, -1.56177127e+00,  3.22602123e-01,\n",
              "         1.63181536e-02,  8.93497765e-01,  2.07296684e-01,  1.81556833e+00,\n",
              "        -2.77576059e-01, -3.53132606e-01, -1.69201754e-04,  2.05653623e-01,\n",
              "         1.58343598e-01, -1.30880088e-01,  4.85438883e-01,  7.64820650e-02,\n",
              "         1.30481601e-01,  9.30196047e-02,  2.35577434e-01,  1.51656777e-01,\n",
              "        -4.42398161e-01,  1.64647326e-01, -4.76729453e-01, -7.43025780e-01,\n",
              "         5.62700868e-01, -5.43890476e-01,  6.56965792e-01, -4.57936227e-01,\n",
              "        -3.68393421e-01,  7.17324555e-01,  2.08623946e-01, -9.09851849e-01,\n",
              "         8.88017237e-01,  1.98513284e-01, -4.54828084e-01,  2.49585584e-01,\n",
              "        -4.96374145e-02, -3.15300137e-01,  3.71223509e-01,  2.00207368e-01,\n",
              "        -7.83382449e-03,  2.47665927e-01,  9.30744261e-02, -2.85846382e-01,\n",
              "        -8.08474496e-02,  4.83117849e-01, -1.24216330e+00,  1.37395278e-01,\n",
              "        -4.46152657e-01,  2.25985870e-01,  3.30101222e-01,  7.45630741e-01,\n",
              "        -2.07519889e+00,  4.20889735e-01, -8.74363244e-01,  7.72485256e-01,\n",
              "         7.45095968e-01, -8.74763370e-01, -3.00516397e-01, -3.58492732e-01,\n",
              "        -7.98130870e-01, -1.03721067e-01,  1.49879619e-01, -1.79189169e+00,\n",
              "         4.41065699e-01,  5.54124154e-02, -5.87739199e-02, -2.08388734e+00,\n",
              "        -8.68408799e-01,  7.11091638e-01,  1.43251145e+00,  4.54323620e-01,\n",
              "         7.60823637e-02,  3.72103214e-01, -1.66374013e-01, -4.18244481e-01,\n",
              "        -3.61553967e-01, -3.74243945e-01, -1.24077260e+00, -2.45160177e-01,\n",
              "        -1.63642704e+00,  5.34955621e-01, -9.18203592e-01,  3.92963678e-01,\n",
              "        -1.37099251e-01,  9.40265357e-01,  1.22763276e+00, -3.52735281e-01,\n",
              "         1.93332676e-02,  8.16654265e-01,  2.08368495e-01,  5.47837496e-01,\n",
              "         4.26517010e-01, -2.79639006e+00,  1.23608947e+00, -1.00408709e+00,\n",
              "         1.19982541e+00, -2.94382870e-01, -6.67840004e-01, -7.00526476e-01,\n",
              "         5.19718468e-01,  5.92155397e-01,  1.57158649e+00, -2.52920389e-01,\n",
              "         1.05557001e+00,  7.50328302e-01, -1.32705897e-01,  1.04163840e-01,\n",
              "         2.93577611e-01, -3.98380399e-01, -1.15908422e-01, -1.44517052e+00,\n",
              "        -1.01568490e-01, -5.20792663e-01, -6.57568336e-01, -2.90893823e-01,\n",
              "         1.81516588e-01, -8.07045519e-01,  6.22250259e-01, -3.95310856e-02,\n",
              "        -1.13800490e+00,  3.99304219e-02,  1.65889829e-01, -7.65740216e-01,\n",
              "         2.74509251e-01,  2.49983206e-01,  2.53851414e-01, -8.09128582e-01,\n",
              "        -6.72458187e-02, -2.06244707e-01,  6.47683680e-01,  8.94467294e-01,\n",
              "        -4.23169941e-01, -1.06734157e+00,  2.02655569e-01,  1.14564836e-01,\n",
              "         4.65533614e-01, -5.06868601e-01, -8.46281886e-01, -7.31515348e-01,\n",
              "         1.01378299e-01,  6.29684150e-01,  4.60847616e-02,  3.90518159e-01],\n",
              "       dtype=float32)}"
            ]
          },
          "metadata": {
            "tags": []
          },
          "execution_count": 56
        }
      ]
    },
    {
      "cell_type": "code",
      "metadata": {
        "id": "ocbWFigsU7I5",
        "colab_type": "code",
        "colab": {}
      },
      "source": [
        "matrice = creation_matrice(word_index, num_words)"
      ],
      "execution_count": null,
      "outputs": []
    },
    {
      "cell_type": "markdown",
      "metadata": {
        "id": "grxQxZ2NMFLI",
        "colab_type": "text"
      },
      "source": [
        "# Encodage du Texte"
      ]
    },
    {
      "cell_type": "code",
      "metadata": {
        "id": "-7DV0_1XMFLJ",
        "colab_type": "code",
        "colab": {}
      },
      "source": [
        "comments = trainingData.comment.astype(str).tolist()\n",
        "sentiments = trainingData.sentiment.tolist()\n",
        "labels = np.asarray(sentiments)\n",
        "\n",
        "tokenizer = Tokenizer(num_words=MAX_NB_WORDS)\n",
        "tokenizer.fit_on_texts(comments)\n",
        "sequences = tokenizer.texts_to_sequences(comments)\n",
        "padded_sequences = pad_sequences(sequences, maxlen=MAX_SEQUENCE_LENGTH)\n",
        "\n",
        "word_index = tokenizer.word_index\n",
        "\n",
        "num_words = min(MAX_NB_WORDS, len(word_index)) + 1\n",
        "\n",
        "x_train, x_test, y_train, y_test = train_test_split(padded_sequences, labels, test_size=0.2)"
      ],
      "execution_count": null,
      "outputs": []
    },
    {
      "cell_type": "code",
      "metadata": {
        "id": "EZlja3d1MFLL",
        "colab_type": "code",
        "colab": {
          "base_uri": "https://localhost:8080/",
          "height": 35
        },
        "outputId": "98876396-3cb0-4939-9273-006d71fcefc6"
      },
      "source": [
        "embedding_matrix = create_embedding_matrix(word_index, num_words)"
      ],
      "execution_count": null,
      "outputs": [
        {
          "output_type": "stream",
          "text": [
            "Loading glove vectors...\n"
          ],
          "name": "stdout"
        }
      ]
    },
    {
      "cell_type": "markdown",
      "metadata": {
        "id": "OSCKoWPYMFLN",
        "colab_type": "text"
      },
      "source": [
        "# Définition du Modèle\n",
        "\n",
        "This is a 1D CNN model with a Keras embedding layer using the embedding matrix created above. The embedding layer is pre-trained, so it will not be trained here."
      ]
    },
    {
      "cell_type": "code",
      "metadata": {
        "id": "b0IUw1VDMFLO",
        "colab_type": "code",
        "colab": {
          "base_uri": "https://localhost:8080/",
          "height": 439
        },
        "outputId": "c0cc3b97-16e0-47e8-c0e0-7a97774875bc"
      },
      "source": [
        "dropout = 0.4\n",
        "\n",
        "model = Sequential()\n",
        "model.add(Embedding(num_words, EMBEDDING_DIM, weights=[embedding_matrix],\n",
        "                    input_length=MAX_SEQUENCE_LENGTH, trainable=False))\n",
        "model.add(Dropout(dropout))\n",
        "\n",
        "model.add(Conv1D(128, 5, activation='relu', padding='same', strides=2))\n",
        "model.add(GlobalMaxPooling1D())\n",
        "model.add(Dropout(dropout))\n",
        "\n",
        "model.add(Dense(128, activation='relu'))\n",
        "model.add(Dropout(dropout))\n",
        "model.add(Dense(num_classes, activation='softmax'))\n",
        "model.summary()"
      ],
      "execution_count": null,
      "outputs": [
        {
          "output_type": "stream",
          "text": [
            "Model: \"sequential\"\n",
            "_________________________________________________________________\n",
            "Layer (type)                 Output Shape              Param #   \n",
            "=================================================================\n",
            "embedding (Embedding)        (None, 1000, 50)          263600    \n",
            "_________________________________________________________________\n",
            "dropout (Dropout)            (None, 1000, 50)          0         \n",
            "_________________________________________________________________\n",
            "conv1d (Conv1D)              (None, 500, 128)          32128     \n",
            "_________________________________________________________________\n",
            "global_max_pooling1d (Global (None, 128)               0         \n",
            "_________________________________________________________________\n",
            "dropout_1 (Dropout)          (None, 128)               0         \n",
            "_________________________________________________________________\n",
            "dense (Dense)                (None, 128)               16512     \n",
            "_________________________________________________________________\n",
            "dropout_2 (Dropout)          (None, 128)               0         \n",
            "_________________________________________________________________\n",
            "dense_1 (Dense)              (None, 2)                 258       \n",
            "=================================================================\n",
            "Total params: 312,498\n",
            "Trainable params: 48,898\n",
            "Non-trainable params: 263,600\n",
            "_________________________________________________________________\n"
          ],
          "name": "stdout"
        }
      ]
    },
    {
      "cell_type": "code",
      "metadata": {
        "id": "BUMaXNjMMFLQ",
        "colab_type": "code",
        "colab": {
          "base_uri": "https://localhost:8080/",
          "height": 1000
        },
        "outputId": "12aae5cc-9b2b-4002-e600-d6c02654174f"
      },
      "source": [
        "model.compile(loss='sparse_categorical_crossentropy', optimizer=Adam(), metrics=['acc'])\n",
        "\n",
        "# Train model for a given number of epochs\n",
        "history = model.fit(x_train, y_train, batch_size=128, epochs=40, verbose=1, validation_data=(x_test, y_test))\n",
        "\n",
        "# Evaluate model against test data\n",
        "score = model.evaluate(x_test, y_test, verbose=0)\n",
        "print('Test loss:', score[0])\n",
        "print('Test accuracy:', score[1])\n",
        "\n",
        "# summarize history for accuracy\n",
        "plt.plot(history.history['acc'])\n",
        "plt.plot(history.history['val_acc'])\n",
        "plt.title('Model accuracy')\n",
        "plt.ylabel('Accuracy')\n",
        "plt.xlabel('Epoch')\n",
        "plt.legend(['Train', 'Test'], loc='upper left')\n",
        "plt.show()"
      ],
      "execution_count": null,
      "outputs": [
        {
          "output_type": "stream",
          "text": [
            "Epoch 1/40\n",
            "18/18 [==============================] - 5s 294ms/step - loss: 0.8190 - acc: 0.5182 - val_loss: 0.6636 - val_acc: 0.6200\n",
            "Epoch 2/40\n",
            "18/18 [==============================] - 5s 280ms/step - loss: 0.7283 - acc: 0.5214 - val_loss: 0.6692 - val_acc: 0.5945\n",
            "Epoch 3/40\n",
            "18/18 [==============================] - 5s 279ms/step - loss: 0.6887 - acc: 0.5710 - val_loss: 0.6656 - val_acc: 0.6436\n",
            "Epoch 4/40\n",
            "18/18 [==============================] - 5s 277ms/step - loss: 0.6721 - acc: 0.5892 - val_loss: 0.6436 - val_acc: 0.6618\n",
            "Epoch 5/40\n",
            "18/18 [==============================] - 5s 279ms/step - loss: 0.6505 - acc: 0.6228 - val_loss: 0.6472 - val_acc: 0.6527\n",
            "Epoch 6/40\n",
            "18/18 [==============================] - 5s 279ms/step - loss: 0.6450 - acc: 0.6397 - val_loss: 0.6175 - val_acc: 0.7145\n",
            "Epoch 7/40\n",
            "18/18 [==============================] - 5s 278ms/step - loss: 0.6255 - acc: 0.6451 - val_loss: 0.6004 - val_acc: 0.7145\n",
            "Epoch 8/40\n",
            "18/18 [==============================] - 5s 278ms/step - loss: 0.6120 - acc: 0.6756 - val_loss: 0.5815 - val_acc: 0.7164\n",
            "Epoch 9/40\n",
            "18/18 [==============================] - 5s 280ms/step - loss: 0.5849 - acc: 0.6806 - val_loss: 0.5559 - val_acc: 0.7309\n",
            "Epoch 10/40\n",
            "18/18 [==============================] - 5s 277ms/step - loss: 0.5944 - acc: 0.6920 - val_loss: 0.5431 - val_acc: 0.7545\n",
            "Epoch 11/40\n",
            "18/18 [==============================] - 5s 277ms/step - loss: 0.5736 - acc: 0.6929 - val_loss: 0.5513 - val_acc: 0.7309\n",
            "Epoch 12/40\n",
            "18/18 [==============================] - 5s 278ms/step - loss: 0.5623 - acc: 0.7029 - val_loss: 0.5213 - val_acc: 0.7600\n",
            "Epoch 13/40\n",
            "18/18 [==============================] - 5s 275ms/step - loss: 0.5414 - acc: 0.7157 - val_loss: 0.5124 - val_acc: 0.7600\n",
            "Epoch 14/40\n",
            "18/18 [==============================] - 5s 275ms/step - loss: 0.5236 - acc: 0.7393 - val_loss: 0.4984 - val_acc: 0.7636\n",
            "Epoch 15/40\n",
            "18/18 [==============================] - 5s 276ms/step - loss: 0.5172 - acc: 0.7434 - val_loss: 0.4923 - val_acc: 0.7509\n",
            "Epoch 16/40\n",
            "18/18 [==============================] - 5s 277ms/step - loss: 0.5188 - acc: 0.7443 - val_loss: 0.4908 - val_acc: 0.7655\n",
            "Epoch 17/40\n",
            "18/18 [==============================] - 5s 278ms/step - loss: 0.5206 - acc: 0.7343 - val_loss: 0.4871 - val_acc: 0.7709\n",
            "Epoch 18/40\n",
            "18/18 [==============================] - 5s 303ms/step - loss: 0.5324 - acc: 0.7370 - val_loss: 0.4875 - val_acc: 0.7655\n",
            "Epoch 19/40\n",
            "18/18 [==============================] - 5s 280ms/step - loss: 0.4951 - acc: 0.7575 - val_loss: 0.4776 - val_acc: 0.7673\n",
            "Epoch 20/40\n",
            "18/18 [==============================] - 5s 279ms/step - loss: 0.5051 - acc: 0.7475 - val_loss: 0.4763 - val_acc: 0.7691\n",
            "Epoch 21/40\n",
            "18/18 [==============================] - 5s 276ms/step - loss: 0.4956 - acc: 0.7639 - val_loss: 0.4762 - val_acc: 0.7745\n",
            "Epoch 22/40\n",
            "18/18 [==============================] - 5s 280ms/step - loss: 0.4937 - acc: 0.7602 - val_loss: 0.4712 - val_acc: 0.7691\n",
            "Epoch 23/40\n",
            "18/18 [==============================] - 5s 280ms/step - loss: 0.4879 - acc: 0.7607 - val_loss: 0.4666 - val_acc: 0.7745\n",
            "Epoch 24/40\n",
            "18/18 [==============================] - 5s 282ms/step - loss: 0.4781 - acc: 0.7561 - val_loss: 0.4662 - val_acc: 0.7709\n",
            "Epoch 25/40\n",
            "18/18 [==============================] - 5s 281ms/step - loss: 0.4885 - acc: 0.7666 - val_loss: 0.4720 - val_acc: 0.7818\n",
            "Epoch 26/40\n",
            "18/18 [==============================] - 5s 285ms/step - loss: 0.4864 - acc: 0.7630 - val_loss: 0.4754 - val_acc: 0.7836\n",
            "Epoch 27/40\n",
            "18/18 [==============================] - 5s 282ms/step - loss: 0.4632 - acc: 0.7693 - val_loss: 0.4676 - val_acc: 0.7800\n",
            "Epoch 28/40\n",
            "18/18 [==============================] - 5s 277ms/step - loss: 0.4752 - acc: 0.7843 - val_loss: 0.4647 - val_acc: 0.7782\n",
            "Epoch 29/40\n",
            "18/18 [==============================] - 5s 275ms/step - loss: 0.4841 - acc: 0.7739 - val_loss: 0.4623 - val_acc: 0.7891\n",
            "Epoch 30/40\n",
            "18/18 [==============================] - 5s 284ms/step - loss: 0.4463 - acc: 0.7812 - val_loss: 0.4638 - val_acc: 0.7636\n",
            "Epoch 31/40\n",
            "18/18 [==============================] - 5s 279ms/step - loss: 0.4512 - acc: 0.7798 - val_loss: 0.4608 - val_acc: 0.7855\n",
            "Epoch 32/40\n",
            "18/18 [==============================] - 5s 283ms/step - loss: 0.4553 - acc: 0.7866 - val_loss: 0.4582 - val_acc: 0.7891\n",
            "Epoch 33/40\n",
            "18/18 [==============================] - 5s 280ms/step - loss: 0.4618 - acc: 0.7757 - val_loss: 0.4579 - val_acc: 0.7836\n",
            "Epoch 34/40\n",
            "18/18 [==============================] - 5s 278ms/step - loss: 0.4442 - acc: 0.7912 - val_loss: 0.4630 - val_acc: 0.7873\n",
            "Epoch 35/40\n",
            "18/18 [==============================] - 5s 279ms/step - loss: 0.4401 - acc: 0.7925 - val_loss: 0.4595 - val_acc: 0.7709\n",
            "Epoch 36/40\n",
            "18/18 [==============================] - 5s 280ms/step - loss: 0.4471 - acc: 0.7857 - val_loss: 0.4574 - val_acc: 0.7764\n",
            "Epoch 37/40\n",
            "18/18 [==============================] - 5s 282ms/step - loss: 0.4292 - acc: 0.7907 - val_loss: 0.4540 - val_acc: 0.7691\n",
            "Epoch 38/40\n",
            "18/18 [==============================] - 5s 280ms/step - loss: 0.4379 - acc: 0.7953 - val_loss: 0.4531 - val_acc: 0.7636\n",
            "Epoch 39/40\n",
            "18/18 [==============================] - 5s 280ms/step - loss: 0.4181 - acc: 0.8071 - val_loss: 0.4544 - val_acc: 0.7818\n",
            "Epoch 40/40\n",
            "18/18 [==============================] - 5s 282ms/step - loss: 0.4270 - acc: 0.7944 - val_loss: 0.4549 - val_acc: 0.7909\n",
            "Test loss: 0.4803680181503296\n",
            "Test accuracy: 0.7909091114997864\n"
          ],
          "name": "stdout"
        },
        {
          "output_type": "display_data",
          "data": {
            "image/png": "[encoded data removed]",
            "text/plain": [
              "<Figure size 432x288 with 1 Axes>"
            ]
          },
          "metadata": {
            "tags": []
          }
        }
      ]
    },
    {
      "cell_type": "markdown",
      "metadata": {
        "id": "3LVwi0vLMFLS",
        "colab_type": "text"
      },
      "source": [
        "# Prediction"
      ]
    },
    {
      "cell_type": "code",
      "metadata": {
        "id": "_i423WNQMFLS",
        "colab_type": "code",
        "colab": {}
      },
      "source": [
        "predictions = model.predict(padded_sequences)\n",
        "most_likely = predictions.argmax(1)"
      ],
      "execution_count": null,
      "outputs": []
    },
    {
      "cell_type": "code",
      "metadata": {
        "id": "2Ve2a-roMFLV",
        "colab_type": "code",
        "colab": {
          "base_uri": "https://localhost:8080/",
          "height": 52
        },
        "outputId": "1c987c57-94f2-4138-9838-47e9d6b096ea"
      },
      "source": [
        "index = random.randrange(len(predictions))\n",
        "print(comments[index])\n",
        "print('Prediction: %d, label: %d' % (most_likely[index], sentiments[index]))"
      ],
      "execution_count": null,
      "outputs": [
        {
          "output_type": "stream",
          "text": [
            "The script is bad, very bad  it contains both cheesiness and unethical joke that you normally see in rated R or NC-17 movie.  \n",
            "Prediction: 0, label: 0\n"
          ],
          "name": "stdout"
        }
      ]
    },
    {
      "cell_type": "markdown",
      "metadata": {
        "id": "FcR3Qu6FMFLX",
        "colab_type": "text"
      },
      "source": [
        "# Error Analysis"
      ]
    },
    {
      "cell_type": "code",
      "metadata": {
        "id": "T7aMVD5lMFLX",
        "colab_type": "code",
        "colab": {
          "base_uri": "https://localhost:8080/",
          "height": 316
        },
        "outputId": "fb06e115-3f3d-4491-837a-673e648f3750"
      },
      "source": [
        "for i in range(10000):\n",
        "    index = random.randrange(len(predictions))\n",
        "    if most_likely[index] != sentiments[index]:\n",
        "        break\n",
        "\n",
        "print(comments[index])\n",
        "print('Prediction: %d, label: %d' % (most_likely[index], sentiments[index]))\n",
        "\n",
        "plt.bar(range(num_classes), predictions[index], tick_label=range(num_classes))\n",
        "plt.title('Prediction values')\n",
        "plt.show()"
      ],
      "execution_count": null,
      "outputs": [
        {
          "output_type": "stream",
          "text": [
            "You get extra minutes so that you can carry out the call and not get cut off.\"\n",
            "Prediction: 0, label: 1\n"
          ],
          "name": "stdout"
        },
        {
          "output_type": "display_data",
          "data": {
            "image/png": "[encoded data removed]",
            "text/plain": [
              "<Figure size 432x288 with 1 Axes>"
            ]
          },
          "metadata": {
            "tags": []
          }
        }
      ]
    },
    {
      "cell_type": "code",
      "metadata": {
        "id": "hMplVIcbMFLZ",
        "colab_type": "code",
        "colab": {}
      },
      "source": [
        ""
      ],
      "execution_count": null,
      "outputs": []
    }
  ]
}