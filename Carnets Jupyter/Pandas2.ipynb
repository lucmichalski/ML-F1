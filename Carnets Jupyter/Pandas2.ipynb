{
  "nbformat": 4,
  "nbformat_minor": 0,
  "metadata": {
    "kernelspec": {
      "display_name": "Python 3",
      "language": "python",
      "name": "python3"
    },
    "language_info": {
      "codemirror_mode": {
        "name": "ipython",
        "version": 3
      },
      "file_extension": ".py",
      "mimetype": "text/x-python",
      "name": "python",
      "nbconvert_exporter": "python",
      "pygments_lexer": "ipython3",
      "version": "3.6.8"
    },
    "colab": {
      "name": "Pandas.ipynb",
      "provenance": []
    }
  },
  "cells": [
    {
      "cell_type": "markdown",
      "metadata": {
        "id": "jd-m28CDlXUU",
        "colab_type": "text"
      },
      "source": [
        "# Exemple d'utilisation de Pandas\n",
        "\n",
        "Voici un carnet qui décrit les bases de Pandas, une librairie Python permettant d'analyser et de manipuler des données. Vous pouvez trouver davantages de détails sur le [site internet de Pandas](https://pandas.pydata.org/).\n",
        "\n",
        "Cet exemple utlise une base de données contenant une description des missions spatiales depuis effectuées depuis 1957. Elle provient du site [Kaggle](https://www.kaggle.com/agirlcoding/all-space-missions-from-1957)  \n",
        "\n",
        "Les détails des données se trouvent [ici](https://www.kaggle.com/agirlcoding/all-space-missions-from-1957)"
      ]
    },
    {
      "cell_type": "code",
      "metadata": {
        "id": "dBT1YCWXlXUW",
        "colab_type": "code",
        "colab": {}
      },
      "source": [
        "import pandas as pd\n",
        "import matplotlib.pyplot as plt"
      ],
      "execution_count": 1,
      "outputs": []
    },
    {
      "cell_type": "markdown",
      "metadata": {
        "id": "IW-fYZlilXUc",
        "colab_type": "text"
      },
      "source": [
        "## Chargement des données\n",
        "\n",
        "Les données sont au format CSV. Elles sont séparées par des virgules. Pandas assume que la première ligne contient le nom des colonnes mais si le nom des colonnnes n'est pas donné dans le fichier, il est possible de l'indiquer \"à la main\" à Pandas.  \n",
        "La fonction `read_csv` retourne une [classe Dataframe](https://pandas.pydata.org/pandas-docs/stable/reference/api/pandas.DataFrame.html) qui supporte de nombreuses fonctions.\n",
        "  \n",
        "Pandas peut lire de nombreux types de fichiers, comme le CSV, Excel, et bien d'autres. Pandas peut lire des données depuis un fichier, depuis un lien HTTP, FTP ou encore depuis un serveur S3. Vous trouverez davantage d'informations dans [la documentation de Pandas](https://pandas.pydata.org/pandas-docs/stable/user_guide/io.html)"
      ]
    },
    {
      "cell_type": "markdown",
      "metadata": {
        "id": "oOLAQM0wlXUd",
        "colab_type": "text"
      },
      "source": [
        "### Télchargement des données depuis un dépôt Github\n",
        "\n",
        "Pour télécharger les données stockées dans un fichier sauvegardé sur un dépôt github, on peut procéder comme suit :\n",
        "\n",
        "```\n",
        "!mkdir data\n",
        "!wget https://raw.githubusercontent.com/AlexandreBourrieau/ML-F1/master/Carnets%20Jupyter/Donn%C3%A9es/All%20Space%20Missions%20from%201957.csv -P data\n",
        "```"
      ]
    },
    {
      "cell_type": "code",
      "metadata": {
        "id": "LzmqfqBzq-Je",
        "colab_type": "code",
        "colab": {
          "base_uri": "https://localhost:8080/",
          "height": 208
        },
        "outputId": "3e33fa0f-834a-417a-ab9a-eadff4b5c6bd"
      },
      "source": [
        "!mkdir data\n",
        "!wget https://raw.githubusercontent.com/AlexandreBourrieau/ML-F1/master/Carnets%20Jupyter/Donn%C3%A9es/All%20Space%20Missions%20from%201957.csv -P data"
      ],
      "execution_count": 2,
      "outputs": [
        {
          "output_type": "stream",
          "text": [
            "--2020-09-08 14:19:21--  https://raw.githubusercontent.com/AlexandreBourrieau/ML-F1/master/Carnets%20Jupyter/Donn%C3%A9es/All%20Space%20Missions%20from%201957.csv\n",
            "Resolving raw.githubusercontent.com (raw.githubusercontent.com)... 151.101.0.133, 151.101.64.133, 151.101.128.133, ...\n",
            "Connecting to raw.githubusercontent.com (raw.githubusercontent.com)|151.101.0.133|:443... connected.\n",
            "HTTP request sent, awaiting response... 200 OK\n",
            "Length: 628652 (614K) [text/plain]\n",
            "Saving to: ‘data/All Space Missions from 1957.csv’\n",
            "\n",
            "All Space Missions  100%[===================>] 613.92K  --.-KB/s    in 0.09s   \n",
            "\n",
            "2020-09-08 14:19:21 (6.50 MB/s) - ‘data/All Space Missions from 1957.csv’ saved [628652/628652]\n",
            "\n"
          ],
          "name": "stdout"
        }
      ]
    },
    {
      "cell_type": "code",
      "metadata": {
        "id": "q8yfdNNLlXUe",
        "colab_type": "code",
        "colab": {
          "base_uri": "https://localhost:8080/",
          "height": 35
        },
        "outputId": "f4a99e66-afd7-4428-af64-39f75a8a9746"
      },
      "source": [
        "#Noms_colonnes = ['Nnum','Unnamed','Company Name','Location','Datum','Detail','Status Rocket','Rocket','Status Mission']\n",
        "\n",
        "# La première ligne contient le nom des colonnes, dans le cas contraire il faut les spécifier\n",
        "#missions = pd.read_csv('data/All Space Missions from 1957.csv', sep=',', names = Noms_colonnes)\n",
        "missions = pd.read_csv('data/All Space Missions from 1957.csv', sep=',')\n",
        "\n",
        "\n",
        "print('Nombre total de missions : %d' % len(missions))"
      ],
      "execution_count": 3,
      "outputs": [
        {
          "output_type": "stream",
          "text": [
            "Nombre total de missions : 4324\n"
          ],
          "name": "stdout"
        }
      ]
    },
    {
      "cell_type": "markdown",
      "metadata": {
        "id": "IdzCg3j1lXUj",
        "colab_type": "text"
      },
      "source": [
        "Affiche les premières lignes des données avec la fonction `head`. La fonction `tail` affiche les dernières lignes. Les deux fonctions retournent un objet Dataframe contenant une liste de lignes."
      ]
    },
    {
      "cell_type": "code",
      "metadata": {
        "id": "svkrlrRNlXUk",
        "colab_type": "code",
        "colab": {
          "base_uri": "https://localhost:8080/",
          "height": 202
        },
        "outputId": "5e10e1a1-4394-482a-f5f9-cdb02bb42b6d"
      },
      "source": [
        "missions.head(5)"
      ],
      "execution_count": null,
      "outputs": [
        {
          "output_type": "execute_result",
          "data": {
            "text/html": [
              "<div>\n",
              "<style scoped>\n",
              "    .dataframe tbody tr th:only-of-type {\n",
              "        vertical-align: middle;\n",
              "    }\n",
              "\n",
              "    .dataframe tbody tr th {\n",
              "        vertical-align: top;\n",
              "    }\n",
              "\n",
              "    .dataframe thead th {\n",
              "        text-align: right;\n",
              "    }\n",
              "</style>\n",
              "<table border=\"1\" class=\"dataframe\">\n",
              "  <thead>\n",
              "    <tr style=\"text-align: right;\">\n",
              "      <th></th>\n",
              "      <th>Unnamed: 0</th>\n",
              "      <th>Unnamed: 0.1</th>\n",
              "      <th>Company Name</th>\n",
              "      <th>Location</th>\n",
              "      <th>Datum</th>\n",
              "      <th>Detail</th>\n",
              "      <th>Status Rocket</th>\n",
              "      <th>Rocket</th>\n",
              "      <th>Status Mission</th>\n",
              "    </tr>\n",
              "  </thead>\n",
              "  <tbody>\n",
              "    <tr>\n",
              "      <th>0</th>\n",
              "      <td>0</td>\n",
              "      <td>0</td>\n",
              "      <td>SpaceX</td>\n",
              "      <td>LC-39A, Kennedy Space Center, Florida, USA</td>\n",
              "      <td>Fri Aug 07, 2020 05:12 UTC</td>\n",
              "      <td>Falcon 9 Block 5 | Starlink V1 L9 &amp; BlackSky</td>\n",
              "      <td>StatusActive</td>\n",
              "      <td>50.0</td>\n",
              "      <td>Success</td>\n",
              "    </tr>\n",
              "    <tr>\n",
              "      <th>1</th>\n",
              "      <td>1</td>\n",
              "      <td>1</td>\n",
              "      <td>CASC</td>\n",
              "      <td>Site 9401 (SLS-2), Jiuquan Satellite Launch Ce...</td>\n",
              "      <td>Thu Aug 06, 2020 04:01 UTC</td>\n",
              "      <td>Long March 2D | Gaofen-9 04 &amp; Q-SAT</td>\n",
              "      <td>StatusActive</td>\n",
              "      <td>29.75</td>\n",
              "      <td>Success</td>\n",
              "    </tr>\n",
              "    <tr>\n",
              "      <th>2</th>\n",
              "      <td>2</td>\n",
              "      <td>2</td>\n",
              "      <td>SpaceX</td>\n",
              "      <td>Pad A, Boca Chica, Texas, USA</td>\n",
              "      <td>Tue Aug 04, 2020 23:57 UTC</td>\n",
              "      <td>Starship Prototype | 150 Meter Hop</td>\n",
              "      <td>StatusActive</td>\n",
              "      <td>NaN</td>\n",
              "      <td>Success</td>\n",
              "    </tr>\n",
              "    <tr>\n",
              "      <th>3</th>\n",
              "      <td>3</td>\n",
              "      <td>3</td>\n",
              "      <td>Roscosmos</td>\n",
              "      <td>Site 200/39, Baikonur Cosmodrome, Kazakhstan</td>\n",
              "      <td>Thu Jul 30, 2020 21:25 UTC</td>\n",
              "      <td>Proton-M/Briz-M | Ekspress-80 &amp; Ekspress-103</td>\n",
              "      <td>StatusActive</td>\n",
              "      <td>65.0</td>\n",
              "      <td>Success</td>\n",
              "    </tr>\n",
              "    <tr>\n",
              "      <th>4</th>\n",
              "      <td>4</td>\n",
              "      <td>4</td>\n",
              "      <td>ULA</td>\n",
              "      <td>SLC-41, Cape Canaveral AFS, Florida, USA</td>\n",
              "      <td>Thu Jul 30, 2020 11:50 UTC</td>\n",
              "      <td>Atlas V 541 | Perseverance</td>\n",
              "      <td>StatusActive</td>\n",
              "      <td>145.0</td>\n",
              "      <td>Success</td>\n",
              "    </tr>\n",
              "  </tbody>\n",
              "</table>\n",
              "</div>"
            ],
            "text/plain": [
              "   Unnamed: 0  Unnamed: 0.1 Company Name  ... Status Rocket  Rocket Status Mission\n",
              "0           0             0       SpaceX  ...  StatusActive   50.0         Success\n",
              "1           1             1         CASC  ...  StatusActive  29.75         Success\n",
              "2           2             2       SpaceX  ...  StatusActive     NaN        Success\n",
              "3           3             3    Roscosmos  ...  StatusActive   65.0         Success\n",
              "4           4             4          ULA  ...  StatusActive  145.0         Success\n",
              "\n",
              "[5 rows x 9 columns]"
            ]
          },
          "metadata": {
            "tags": []
          },
          "execution_count": 14
        }
      ]
    },
    {
      "cell_type": "markdown",
      "metadata": {
        "id": "s1b5H-dOlXUp",
        "colab_type": "text"
      },
      "source": [
        "## Sélection de lignes et de colonnes\n",
        "\n",
        "Une ou plusieurs lignes peuvent être sélectionnées depuis l'objet Dataframe de manière simple. L'objet retourné est encore un  objet de type Dataframe."
      ]
    },
    {
      "cell_type": "code",
      "metadata": {
        "id": "HWDboTzzlXUp",
        "colab_type": "code",
        "colab": {
          "base_uri": "https://localhost:8080/",
          "height": 171
        },
        "outputId": "53fe98a6-2978-42af-dfcd-bec96e4cc42e"
      },
      "source": [
        "missions[1:5]"
      ],
      "execution_count": null,
      "outputs": [
        {
          "output_type": "execute_result",
          "data": {
            "text/html": [
              "<div>\n",
              "<style scoped>\n",
              "    .dataframe tbody tr th:only-of-type {\n",
              "        vertical-align: middle;\n",
              "    }\n",
              "\n",
              "    .dataframe tbody tr th {\n",
              "        vertical-align: top;\n",
              "    }\n",
              "\n",
              "    .dataframe thead th {\n",
              "        text-align: right;\n",
              "    }\n",
              "</style>\n",
              "<table border=\"1\" class=\"dataframe\">\n",
              "  <thead>\n",
              "    <tr style=\"text-align: right;\">\n",
              "      <th></th>\n",
              "      <th>Unnamed: 0</th>\n",
              "      <th>Unnamed: 0.1</th>\n",
              "      <th>Company Name</th>\n",
              "      <th>Location</th>\n",
              "      <th>Datum</th>\n",
              "      <th>Detail</th>\n",
              "      <th>Status Rocket</th>\n",
              "      <th>Rocket</th>\n",
              "      <th>Status Mission</th>\n",
              "    </tr>\n",
              "  </thead>\n",
              "  <tbody>\n",
              "    <tr>\n",
              "      <th>1</th>\n",
              "      <td>1</td>\n",
              "      <td>1</td>\n",
              "      <td>CASC</td>\n",
              "      <td>Site 9401 (SLS-2), Jiuquan Satellite Launch Ce...</td>\n",
              "      <td>Thu Aug 06, 2020 04:01 UTC</td>\n",
              "      <td>Long March 2D | Gaofen-9 04 &amp; Q-SAT</td>\n",
              "      <td>StatusActive</td>\n",
              "      <td>29.75</td>\n",
              "      <td>Success</td>\n",
              "    </tr>\n",
              "    <tr>\n",
              "      <th>2</th>\n",
              "      <td>2</td>\n",
              "      <td>2</td>\n",
              "      <td>SpaceX</td>\n",
              "      <td>Pad A, Boca Chica, Texas, USA</td>\n",
              "      <td>Tue Aug 04, 2020 23:57 UTC</td>\n",
              "      <td>Starship Prototype | 150 Meter Hop</td>\n",
              "      <td>StatusActive</td>\n",
              "      <td>NaN</td>\n",
              "      <td>Success</td>\n",
              "    </tr>\n",
              "    <tr>\n",
              "      <th>3</th>\n",
              "      <td>3</td>\n",
              "      <td>3</td>\n",
              "      <td>Roscosmos</td>\n",
              "      <td>Site 200/39, Baikonur Cosmodrome, Kazakhstan</td>\n",
              "      <td>Thu Jul 30, 2020 21:25 UTC</td>\n",
              "      <td>Proton-M/Briz-M | Ekspress-80 &amp; Ekspress-103</td>\n",
              "      <td>StatusActive</td>\n",
              "      <td>65.0</td>\n",
              "      <td>Success</td>\n",
              "    </tr>\n",
              "    <tr>\n",
              "      <th>4</th>\n",
              "      <td>4</td>\n",
              "      <td>4</td>\n",
              "      <td>ULA</td>\n",
              "      <td>SLC-41, Cape Canaveral AFS, Florida, USA</td>\n",
              "      <td>Thu Jul 30, 2020 11:50 UTC</td>\n",
              "      <td>Atlas V 541 | Perseverance</td>\n",
              "      <td>StatusActive</td>\n",
              "      <td>145.0</td>\n",
              "      <td>Success</td>\n",
              "    </tr>\n",
              "  </tbody>\n",
              "</table>\n",
              "</div>"
            ],
            "text/plain": [
              "   Unnamed: 0  Unnamed: 0.1 Company Name  ... Status Rocket  Rocket Status Mission\n",
              "1           1             1         CASC  ...  StatusActive  29.75         Success\n",
              "2           2             2       SpaceX  ...  StatusActive     NaN        Success\n",
              "3           3             3    Roscosmos  ...  StatusActive   65.0         Success\n",
              "4           4             4          ULA  ...  StatusActive  145.0         Success\n",
              "\n",
              "[4 rows x 9 columns]"
            ]
          },
          "metadata": {
            "tags": []
          },
          "execution_count": 30
        }
      ]
    },
    {
      "cell_type": "markdown",
      "metadata": {
        "id": "HVevoqV6lXUu",
        "colab_type": "text"
      },
      "source": [
        "Les colonnes peuvent être sélectionnées en utlisant la syntaxe suivante. Dans cet exemple, deux colonnes et 5 lignes sont sélectionnées."
      ]
    },
    {
      "cell_type": "code",
      "metadata": {
        "id": "z5Em_NEtlXUv",
        "colab_type": "code",
        "colab": {
          "base_uri": "https://localhost:8080/",
          "height": 202
        },
        "outputId": "ca4c929f-42ea-4628-b691-3222cd26d1e7"
      },
      "source": [
        "missions[['Location', 'Detail']].head(5)"
      ],
      "execution_count": null,
      "outputs": [
        {
          "output_type": "execute_result",
          "data": {
            "text/html": [
              "<div>\n",
              "<style scoped>\n",
              "    .dataframe tbody tr th:only-of-type {\n",
              "        vertical-align: middle;\n",
              "    }\n",
              "\n",
              "    .dataframe tbody tr th {\n",
              "        vertical-align: top;\n",
              "    }\n",
              "\n",
              "    .dataframe thead th {\n",
              "        text-align: right;\n",
              "    }\n",
              "</style>\n",
              "<table border=\"1\" class=\"dataframe\">\n",
              "  <thead>\n",
              "    <tr style=\"text-align: right;\">\n",
              "      <th></th>\n",
              "      <th>Location</th>\n",
              "      <th>Detail</th>\n",
              "    </tr>\n",
              "  </thead>\n",
              "  <tbody>\n",
              "    <tr>\n",
              "      <th>0</th>\n",
              "      <td>LC-39A, Kennedy Space Center, Florida, USA</td>\n",
              "      <td>Falcon 9 Block 5 | Starlink V1 L9 &amp; BlackSky</td>\n",
              "    </tr>\n",
              "    <tr>\n",
              "      <th>1</th>\n",
              "      <td>Site 9401 (SLS-2), Jiuquan Satellite Launch Ce...</td>\n",
              "      <td>Long March 2D | Gaofen-9 04 &amp; Q-SAT</td>\n",
              "    </tr>\n",
              "    <tr>\n",
              "      <th>2</th>\n",
              "      <td>Pad A, Boca Chica, Texas, USA</td>\n",
              "      <td>Starship Prototype | 150 Meter Hop</td>\n",
              "    </tr>\n",
              "    <tr>\n",
              "      <th>3</th>\n",
              "      <td>Site 200/39, Baikonur Cosmodrome, Kazakhstan</td>\n",
              "      <td>Proton-M/Briz-M | Ekspress-80 &amp; Ekspress-103</td>\n",
              "    </tr>\n",
              "    <tr>\n",
              "      <th>4</th>\n",
              "      <td>SLC-41, Cape Canaveral AFS, Florida, USA</td>\n",
              "      <td>Atlas V 541 | Perseverance</td>\n",
              "    </tr>\n",
              "  </tbody>\n",
              "</table>\n",
              "</div>"
            ],
            "text/plain": [
              "                                            Location                                        Detail\n",
              "0         LC-39A, Kennedy Space Center, Florida, USA  Falcon 9 Block 5 | Starlink V1 L9 & BlackSky\n",
              "1  Site 9401 (SLS-2), Jiuquan Satellite Launch Ce...           Long March 2D | Gaofen-9 04 & Q-SAT\n",
              "2                      Pad A, Boca Chica, Texas, USA            Starship Prototype | 150 Meter Hop\n",
              "3       Site 200/39, Baikonur Cosmodrome, Kazakhstan  Proton-M/Briz-M | Ekspress-80 & Ekspress-103\n",
              "4           SLC-41, Cape Canaveral AFS, Florida, USA                    Atlas V 541 | Perseverance"
            ]
          },
          "metadata": {
            "tags": []
          },
          "execution_count": 31
        }
      ]
    },
    {
      "cell_type": "markdown",
      "metadata": {
        "id": "vpDWM42zlXUz",
        "colab_type": "text"
      },
      "source": [
        "Les lignes peuvent être sélectionnées avec des filtres. La syntaxe SQL est aussi supportée. Les détails se trouvent [ici](https://pandas.pydata.org/pandas-docs/stable/getting_started/comparison/comparison_with_sql.html)."
      ]
    },
    {
      "cell_type": "code",
      "metadata": {
        "id": "AYU_NIYFlXU0",
        "colab_type": "code",
        "colab": {
          "base_uri": "https://localhost:8080/",
          "height": 202
        },
        "outputId": "ec929e08-7a2e-4969-b4d2-430c880b9895"
      },
      "source": [
        "missions[(missions['Location'].str.contains('Florida')) & (missions['Detail'].str.contains('V 541'))]"
      ],
      "execution_count": null,
      "outputs": [
        {
          "output_type": "execute_result",
          "data": {
            "text/html": [
              "<div>\n",
              "<style scoped>\n",
              "    .dataframe tbody tr th:only-of-type {\n",
              "        vertical-align: middle;\n",
              "    }\n",
              "\n",
              "    .dataframe tbody tr th {\n",
              "        vertical-align: top;\n",
              "    }\n",
              "\n",
              "    .dataframe thead th {\n",
              "        text-align: right;\n",
              "    }\n",
              "</style>\n",
              "<table border=\"1\" class=\"dataframe\">\n",
              "  <thead>\n",
              "    <tr style=\"text-align: right;\">\n",
              "      <th></th>\n",
              "      <th>Unnamed: 0</th>\n",
              "      <th>Unnamed: 0.1</th>\n",
              "      <th>Company Name</th>\n",
              "      <th>Location</th>\n",
              "      <th>Datum</th>\n",
              "      <th>Detail</th>\n",
              "      <th>Status Rocket</th>\n",
              "      <th>Rocket</th>\n",
              "      <th>Status Mission</th>\n",
              "    </tr>\n",
              "  </thead>\n",
              "  <tbody>\n",
              "    <tr>\n",
              "      <th>4</th>\n",
              "      <td>4</td>\n",
              "      <td>4</td>\n",
              "      <td>ULA</td>\n",
              "      <td>SLC-41, Cape Canaveral AFS, Florida, USA</td>\n",
              "      <td>Thu Jul 30, 2020 11:50 UTC</td>\n",
              "      <td>Atlas V 541 | Perseverance</td>\n",
              "      <td>StatusActive</td>\n",
              "      <td>145.0</td>\n",
              "      <td>Success</td>\n",
              "    </tr>\n",
              "    <tr>\n",
              "      <th>267</th>\n",
              "      <td>267</td>\n",
              "      <td>267</td>\n",
              "      <td>ULA</td>\n",
              "      <td>SLC-41, Cape Canaveral AFS, Florida, USA</td>\n",
              "      <td>Thu Mar 01, 2018 22:02 UTC</td>\n",
              "      <td>Atlas V 541 | GOES-S (GOES-17)</td>\n",
              "      <td>StatusActive</td>\n",
              "      <td>145.0</td>\n",
              "      <td>Success</td>\n",
              "    </tr>\n",
              "    <tr>\n",
              "      <th>394</th>\n",
              "      <td>394</td>\n",
              "      <td>394</td>\n",
              "      <td>ULA</td>\n",
              "      <td>SLC-41, Cape Canaveral AFS, Florida, USA</td>\n",
              "      <td>Sat Nov 19, 2016 23:42 UTC</td>\n",
              "      <td>Atlas V 541 | GOES-R (GOES-16)</td>\n",
              "      <td>StatusActive</td>\n",
              "      <td>145.0</td>\n",
              "      <td>Success</td>\n",
              "    </tr>\n",
              "    <tr>\n",
              "      <th>563</th>\n",
              "      <td>563</td>\n",
              "      <td>563</td>\n",
              "      <td>ULA</td>\n",
              "      <td>SLC-41, Cape Canaveral AFS, Florida, USA</td>\n",
              "      <td>Thu Apr 10, 2014 17:45 UTC</td>\n",
              "      <td>Atlas V 541 | NROL-67</td>\n",
              "      <td>StatusActive</td>\n",
              "      <td>145.0</td>\n",
              "      <td>Success</td>\n",
              "    </tr>\n",
              "    <tr>\n",
              "      <th>662</th>\n",
              "      <td>662</td>\n",
              "      <td>662</td>\n",
              "      <td>ULA</td>\n",
              "      <td>SLC-41, Cape Canaveral AFS, Florida, USA</td>\n",
              "      <td>Sat Nov 26, 2011 15:02 UTC</td>\n",
              "      <td>Atlas V 541 | Mars Science Laboratory</td>\n",
              "      <td>StatusActive</td>\n",
              "      <td>145.0</td>\n",
              "      <td>Success</td>\n",
              "    </tr>\n",
              "  </tbody>\n",
              "</table>\n",
              "</div>"
            ],
            "text/plain": [
              "     Unnamed: 0  Unnamed: 0.1 Company Name  ... Status Rocket  Rocket Status Mission\n",
              "4             4             4          ULA  ...  StatusActive  145.0         Success\n",
              "267         267           267          ULA  ...  StatusActive  145.0         Success\n",
              "394         394           394          ULA  ...  StatusActive  145.0         Success\n",
              "563         563           563          ULA  ...  StatusActive  145.0         Success\n",
              "662         662           662          ULA  ...  StatusActive  145.0         Success\n",
              "\n",
              "[5 rows x 9 columns]"
            ]
          },
          "metadata": {
            "tags": []
          },
          "execution_count": 32
        }
      ]
    },
    {
      "cell_type": "markdown",
      "metadata": {
        "id": "TnM7V4XIlXU7",
        "colab_type": "text"
      },
      "source": [
        "Les lignes peuvent être sélectionnées par des index, soit numériques ou avec les labels. Les détails sont [ici](https://pandas.pydata.org/pandas-docs/stable/user_guide/indexing.html). La sélection numérique est réalisée avec la fonction ```iloc()```."
      ]
    },
    {
      "cell_type": "code",
      "metadata": {
        "id": "q3SNScMZlXU8",
        "colab_type": "code",
        "colab": {
          "base_uri": "https://localhost:8080/",
          "height": 35
        },
        "outputId": "764349e5-db21-4486-f464-a1051ed120b9"
      },
      "source": [
        "# Sélection d'une seule valeur en se basant sur les index\n",
        "\n",
        "missions.iloc[4]['Company Name']"
      ],
      "execution_count": null,
      "outputs": [
        {
          "output_type": "execute_result",
          "data": {
            "application/vnd.google.colaboratory.intrinsic+json": {
              "type": "string"
            },
            "text/plain": [
              "'ULA'"
            ]
          },
          "metadata": {
            "tags": []
          },
          "execution_count": 5
        }
      ]
    },
    {
      "cell_type": "code",
      "metadata": {
        "id": "OCPqHzTClXVA",
        "colab_type": "code",
        "colab": {
          "base_uri": "https://localhost:8080/",
          "height": 104
        },
        "outputId": "beb97937-7c97-43b3-fc18-2884623674e7"
      },
      "source": [
        "# Sélection de quelques lignes en utilisant un intervalle\n",
        "\n",
        "missions.iloc[1:5]"
      ],
      "execution_count": null,
      "outputs": [
        {
          "output_type": "execute_result",
          "data": {
            "text/plain": [
              "1         CASC\n",
              "2       SpaceX\n",
              "3    Roscosmos\n",
              "4          ULA\n",
              "Name: Company Name, dtype: object"
            ]
          },
          "metadata": {
            "tags": []
          },
          "execution_count": 36
        }
      ]
    },
    {
      "cell_type": "markdown",
      "metadata": {
        "id": "aN_NVRa1lXVJ",
        "colab_type": "text"
      },
      "source": [
        "## Inspection des données\n",
        "\n",
        "Les cellules suivantes permettent dobtenir des informations sur les objets Dataframe, ce qui peut être très utile pendant la phase préliminaire d'analyse."
      ]
    },
    {
      "cell_type": "code",
      "metadata": {
        "id": "YqrSqZSalXVK",
        "colab_type": "code",
        "colab": {
          "base_uri": "https://localhost:8080/",
          "height": 69
        },
        "outputId": "bae34353-9d1a-4aae-bb65-df8480b20f61"
      },
      "source": [
        "missions.columns"
      ],
      "execution_count": 82,
      "outputs": [
        {
          "output_type": "execute_result",
          "data": {
            "text/plain": [
              "Index(['Unnamed: 0', 'Unnamed: 0.1', 'Company Name', 'Location', 'Datum',\n",
              "       'Detail', 'Status Rocket', 'Rocket', 'Status Mission'],\n",
              "      dtype='object')"
            ]
          },
          "metadata": {
            "tags": []
          },
          "execution_count": 82
        }
      ]
    },
    {
      "cell_type": "markdown",
      "metadata": {
        "id": "YgAPTRddlXVO",
        "colab_type": "text"
      },
      "source": [
        "La fonction `describe` donne des informations statistiques sur les colonnes à valeurs numériques."
      ]
    },
    {
      "cell_type": "code",
      "metadata": {
        "id": "7cLYpFRolXVP",
        "colab_type": "code",
        "colab": {
          "base_uri": "https://localhost:8080/",
          "height": 294
        },
        "outputId": "d93d370a-5b95-4ac1-cdde-e261e5fea5e5"
      },
      "source": [
        "missions.describe()"
      ],
      "execution_count": null,
      "outputs": [
        {
          "output_type": "execute_result",
          "data": {
            "text/html": [
              "<div>\n",
              "<style scoped>\n",
              "    .dataframe tbody tr th:only-of-type {\n",
              "        vertical-align: middle;\n",
              "    }\n",
              "\n",
              "    .dataframe tbody tr th {\n",
              "        vertical-align: top;\n",
              "    }\n",
              "\n",
              "    .dataframe thead th {\n",
              "        text-align: right;\n",
              "    }\n",
              "</style>\n",
              "<table border=\"1\" class=\"dataframe\">\n",
              "  <thead>\n",
              "    <tr style=\"text-align: right;\">\n",
              "      <th></th>\n",
              "      <th>Unnamed: 0</th>\n",
              "      <th>Unnamed: 0.1</th>\n",
              "    </tr>\n",
              "  </thead>\n",
              "  <tbody>\n",
              "    <tr>\n",
              "      <th>count</th>\n",
              "      <td>4324.000000</td>\n",
              "      <td>4324.000000</td>\n",
              "    </tr>\n",
              "    <tr>\n",
              "      <th>mean</th>\n",
              "      <td>2161.500000</td>\n",
              "      <td>2161.500000</td>\n",
              "    </tr>\n",
              "    <tr>\n",
              "      <th>std</th>\n",
              "      <td>1248.375611</td>\n",
              "      <td>1248.375611</td>\n",
              "    </tr>\n",
              "    <tr>\n",
              "      <th>min</th>\n",
              "      <td>0.000000</td>\n",
              "      <td>0.000000</td>\n",
              "    </tr>\n",
              "    <tr>\n",
              "      <th>25%</th>\n",
              "      <td>1080.750000</td>\n",
              "      <td>1080.750000</td>\n",
              "    </tr>\n",
              "    <tr>\n",
              "      <th>50%</th>\n",
              "      <td>2161.500000</td>\n",
              "      <td>2161.500000</td>\n",
              "    </tr>\n",
              "    <tr>\n",
              "      <th>75%</th>\n",
              "      <td>3242.250000</td>\n",
              "      <td>3242.250000</td>\n",
              "    </tr>\n",
              "    <tr>\n",
              "      <th>max</th>\n",
              "      <td>4323.000000</td>\n",
              "      <td>4323.000000</td>\n",
              "    </tr>\n",
              "  </tbody>\n",
              "</table>\n",
              "</div>"
            ],
            "text/plain": [
              "        Unnamed: 0  Unnamed: 0.1\n",
              "count  4324.000000   4324.000000\n",
              "mean   2161.500000   2161.500000\n",
              "std    1248.375611   1248.375611\n",
              "min       0.000000      0.000000\n",
              "25%    1080.750000   1080.750000\n",
              "50%    2161.500000   2161.500000\n",
              "75%    3242.250000   3242.250000\n",
              "max    4323.000000   4323.000000"
            ]
          },
          "metadata": {
            "tags": []
          },
          "execution_count": 39
        }
      ]
    },
    {
      "cell_type": "markdown",
      "metadata": {
        "id": "kiGZ6KfjlXVT",
        "colab_type": "text"
      },
      "source": [
        "Pandas essaye de déteriner le type de données de chaque colonne.  Si une colonne contient différents types de données, ce type est assumé comme \"objet\".  \n",
        "Les types gérés par Pandas se trouvent [ici](https://pandas.pydata.org/pandas-docs/stable/reference/api/pandas.DataFrame.dtypes.html). "
      ]
    },
    {
      "cell_type": "code",
      "metadata": {
        "id": "rXEG7kDMlXVU",
        "colab_type": "code",
        "colab": {
          "base_uri": "https://localhost:8080/",
          "height": 191
        },
        "outputId": "6c63b98a-0bab-40e3-e02c-363776ef1e04"
      },
      "source": [
        "missions.dtypes"
      ],
      "execution_count": null,
      "outputs": [
        {
          "output_type": "execute_result",
          "data": {
            "text/plain": [
              "Unnamed: 0         int64\n",
              "Unnamed: 0.1       int64\n",
              "Company Name      object\n",
              "Location          object\n",
              "Datum             object\n",
              "Detail            object\n",
              "Status Rocket     object\n",
              "Rocket            object\n",
              "Status Mission    object\n",
              "dtype: object"
            ]
          },
          "metadata": {
            "tags": []
          },
          "execution_count": 15
        }
      ]
    },
    {
      "cell_type": "markdown",
      "metadata": {
        "id": "qUR1T5SolXVX",
        "colab_type": "text"
      },
      "source": [
        "## Les objects de type \"Series\"\n",
        "\n",
        "Les colonnes dans le Dataframe Pandas sont des instances de la classe [Series](https://pandas.pydata.org/pandas-docs/stable/reference/series.html). La classe \"Series\" contient de nombreuses fonctions. Voici un exemple : \n"
      ]
    },
    {
      "cell_type": "code",
      "metadata": {
        "id": "Op64UynzlXVY",
        "colab_type": "code",
        "colab": {
          "base_uri": "https://localhost:8080/",
          "height": 191
        },
        "outputId": "26d77fe5-4297-4a85-a727-2df239f7f2a0"
      },
      "source": [
        "missions['Company Name'].unique()"
      ],
      "execution_count": null,
      "outputs": [
        {
          "output_type": "execute_result",
          "data": {
            "text/plain": [
              "array(['SpaceX', 'CASC', 'Roscosmos', 'ULA', 'JAXA', 'Northrop', 'ExPace',\n",
              "       'IAI', 'Rocket Lab', 'Virgin Orbit', 'VKS RF', 'MHI', 'IRGC',\n",
              "       'Arianespace', 'ISA', 'Blue Origin', 'ISRO', 'Exos', 'ILS',\n",
              "       'i-Space', 'OneSpace', 'Landspace', 'Eurockot', 'Land Launch',\n",
              "       'CASIC', 'KCST', 'Sandia', 'Kosmotras', 'Khrunichev', 'Sea Launch',\n",
              "       'KARI', 'ESA', 'NASA', 'Boeing', 'ISAS', 'SRC', 'MITT', 'Lockheed',\n",
              "       'AEB', 'Starsem', 'RVSN USSR', 'EER', 'General Dynamics',\n",
              "       'Martin Marietta', 'Yuzhmash', 'Douglas', 'ASI', 'US Air Force',\n",
              "       'CNES', 'CECLES', 'RAE', 'UT', 'OKB-586', 'AMBA',\n",
              "       \"Arm??e de l'Air\", 'US Navy'], dtype=object)"
            ]
          },
          "metadata": {
            "tags": []
          },
          "execution_count": 16
        }
      ]
    },
    {
      "cell_type": "markdown",
      "metadata": {
        "id": "bzfprgHjlXVc",
        "colab_type": "text"
      },
      "source": [
        "La propriétée ```values``` retourne un tableau NumPy."
      ]
    },
    {
      "cell_type": "code",
      "metadata": {
        "id": "a1EBEda3lXVd",
        "colab_type": "code",
        "colab": {
          "base_uri": "https://localhost:8080/",
          "height": 35
        },
        "outputId": "fdd95949-9b91-4809-8763-a5b19fbd9583"
      },
      "source": [
        "missions[1:5].Rocket.values"
      ],
      "execution_count": null,
      "outputs": [
        {
          "output_type": "execute_result",
          "data": {
            "text/plain": [
              "array(['29.75 ', nan, '65.0 ', '145.0 '], dtype=object)"
            ]
          },
          "metadata": {
            "tags": []
          },
          "execution_count": 17
        }
      ]
    },
    {
      "cell_type": "markdown",
      "metadata": {
        "id": "1jC9zczwlXVg",
        "colab_type": "text"
      },
      "source": [
        "## Tri\n",
        "\n",
        "Les objets Dataframe et Series peuvent être triés par une ou plusieurs colonnes."
      ]
    },
    {
      "cell_type": "markdown",
      "metadata": {
        "id": "0EvgJIn7-n3Q",
        "colab_type": "text"
      },
      "source": [
        ""
      ]
    },
    {
      "cell_type": "markdown",
      "metadata": {
        "id": "MspOXDdW-mcH",
        "colab_type": "text"
      },
      "source": [
        "Dans l'exemple suivant, la colonne \"Datum\" est de type objet et non de type \"datetime\". Le tri n'est donc pas possible :"
      ]
    },
    {
      "cell_type": "code",
      "metadata": {
        "id": "Pl5T3Sj8lXVh",
        "colab_type": "code",
        "colab": {
          "base_uri": "https://localhost:8080/",
          "height": 1000
        },
        "outputId": "fa95cc98-ab86-40df-d745-2fd7b02ab130"
      },
      "source": [
        "missions.sort_values(by='Rocket', ascending=True).head(50)"
      ],
      "execution_count": 85,
      "outputs": [
        {
          "output_type": "execute_result",
          "data": {
            "text/html": [
              "<div>\n",
              "<style scoped>\n",
              "    .dataframe tbody tr th:only-of-type {\n",
              "        vertical-align: middle;\n",
              "    }\n",
              "\n",
              "    .dataframe tbody tr th {\n",
              "        vertical-align: top;\n",
              "    }\n",
              "\n",
              "    .dataframe thead th {\n",
              "        text-align: right;\n",
              "    }\n",
              "</style>\n",
              "<table border=\"1\" class=\"dataframe\">\n",
              "  <thead>\n",
              "    <tr style=\"text-align: right;\">\n",
              "      <th></th>\n",
              "      <th>Unnamed: 0</th>\n",
              "      <th>Unnamed: 0.1</th>\n",
              "      <th>Company Name</th>\n",
              "      <th>Location</th>\n",
              "      <th>Datum</th>\n",
              "      <th>Detail</th>\n",
              "      <th>Status Rocket</th>\n",
              "      <th>Rocket</th>\n",
              "      <th>Status Mission</th>\n",
              "    </tr>\n",
              "  </thead>\n",
              "  <tbody>\n",
              "    <tr>\n",
              "      <th>3683</th>\n",
              "      <td>3683</td>\n",
              "      <td>3683</td>\n",
              "      <td>NASA</td>\n",
              "      <td>LC-39A, Kennedy Space Center, Florida, USA</td>\n",
              "      <td>Thu Apr 04, 1968 12:00 UTC</td>\n",
              "      <td>Saturn V | Apollo 6</td>\n",
              "      <td>StatusRetired</td>\n",
              "      <td>1,160.0</td>\n",
              "      <td>Partial Failure</td>\n",
              "    </tr>\n",
              "    <tr>\n",
              "      <th>3149</th>\n",
              "      <td>3149</td>\n",
              "      <td>3149</td>\n",
              "      <td>NASA</td>\n",
              "      <td>LC-39A, Kennedy Space Center, Florida, USA</td>\n",
              "      <td>Mon May 14, 1973 17:30 UTC</td>\n",
              "      <td>Saturn V | Skylab 1</td>\n",
              "      <td>StatusRetired</td>\n",
              "      <td>1,160.0</td>\n",
              "      <td>Success</td>\n",
              "    </tr>\n",
              "    <tr>\n",
              "      <th>3180</th>\n",
              "      <td>3180</td>\n",
              "      <td>3180</td>\n",
              "      <td>NASA</td>\n",
              "      <td>LC-39A, Kennedy Space Center, Florida, USA</td>\n",
              "      <td>Tue Dec 19, 1972 19:24 UTC</td>\n",
              "      <td>Saturn V | Apollo 17</td>\n",
              "      <td>StatusRetired</td>\n",
              "      <td>1,160.0</td>\n",
              "      <td>Success</td>\n",
              "    </tr>\n",
              "    <tr>\n",
              "      <th>3243</th>\n",
              "      <td>3243</td>\n",
              "      <td>3243</td>\n",
              "      <td>NASA</td>\n",
              "      <td>LC-39A, Kennedy Space Center, Florida, USA</td>\n",
              "      <td>Sun Apr 16, 1972 17:54 UTC</td>\n",
              "      <td>Saturn V | Apollo 16</td>\n",
              "      <td>StatusRetired</td>\n",
              "      <td>1,160.0</td>\n",
              "      <td>Success</td>\n",
              "    </tr>\n",
              "    <tr>\n",
              "      <th>3384</th>\n",
              "      <td>3384</td>\n",
              "      <td>3384</td>\n",
              "      <td>NASA</td>\n",
              "      <td>LC-39A, Kennedy Space Center, Florida, USA</td>\n",
              "      <td>Sun Jan 31, 1971 21:03 UTC</td>\n",
              "      <td>Saturn V | Apollo 14</td>\n",
              "      <td>StatusRetired</td>\n",
              "      <td>1,160.0</td>\n",
              "      <td>Success</td>\n",
              "    </tr>\n",
              "    <tr>\n",
              "      <th>3475</th>\n",
              "      <td>3475</td>\n",
              "      <td>3475</td>\n",
              "      <td>NASA</td>\n",
              "      <td>LC-39A, Kennedy Space Center, Florida, USA</td>\n",
              "      <td>Sat Apr 11, 1970 19:13 UTC</td>\n",
              "      <td>Saturn V | Apollo 13</td>\n",
              "      <td>StatusRetired</td>\n",
              "      <td>1,160.0</td>\n",
              "      <td>Success</td>\n",
              "    </tr>\n",
              "    <tr>\n",
              "      <th>3328</th>\n",
              "      <td>3328</td>\n",
              "      <td>3328</td>\n",
              "      <td>NASA</td>\n",
              "      <td>LC-39A, Kennedy Space Center, Florida, USA</td>\n",
              "      <td>Mon Jul 26, 1971 13:34 UTC</td>\n",
              "      <td>Saturn V | Apollo 15</td>\n",
              "      <td>StatusRetired</td>\n",
              "      <td>1,160.0</td>\n",
              "      <td>Success</td>\n",
              "    </tr>\n",
              "    <tr>\n",
              "      <th>3545</th>\n",
              "      <td>3545</td>\n",
              "      <td>3545</td>\n",
              "      <td>NASA</td>\n",
              "      <td>LC-39A, Kennedy Space Center, Florida, USA</td>\n",
              "      <td>Wed Jul 16, 1969 13:32 UTC</td>\n",
              "      <td>Saturn V | Apollo 11</td>\n",
              "      <td>StatusRetired</td>\n",
              "      <td>1,160.0</td>\n",
              "      <td>Success</td>\n",
              "    </tr>\n",
              "    <tr>\n",
              "      <th>3560</th>\n",
              "      <td>3560</td>\n",
              "      <td>3560</td>\n",
              "      <td>NASA</td>\n",
              "      <td>LC-39B, Kennedy Space Center, Florida, USA</td>\n",
              "      <td>Sun May 18, 1969 16:49 UTC</td>\n",
              "      <td>Saturn V | Apollo 10</td>\n",
              "      <td>StatusRetired</td>\n",
              "      <td>1,160.0</td>\n",
              "      <td>Success</td>\n",
              "    </tr>\n",
              "    <tr>\n",
              "      <th>3584</th>\n",
              "      <td>3584</td>\n",
              "      <td>3584</td>\n",
              "      <td>NASA</td>\n",
              "      <td>LC-39A, Kennedy Space Center, Florida, USA</td>\n",
              "      <td>Mon Mar 03, 1969 16:00 UTC</td>\n",
              "      <td>Saturn V | Apollo 9</td>\n",
              "      <td>StatusRetired</td>\n",
              "      <td>1,160.0</td>\n",
              "      <td>Success</td>\n",
              "    </tr>\n",
              "    <tr>\n",
              "      <th>3716</th>\n",
              "      <td>3716</td>\n",
              "      <td>3716</td>\n",
              "      <td>NASA</td>\n",
              "      <td>LC-39A, Kennedy Space Center, Florida, USA</td>\n",
              "      <td>Thu Nov 09, 1967 12:00 UTC</td>\n",
              "      <td>Saturn V | Apollo 4</td>\n",
              "      <td>StatusRetired</td>\n",
              "      <td>1,160.0</td>\n",
              "      <td>Success</td>\n",
              "    </tr>\n",
              "    <tr>\n",
              "      <th>3603</th>\n",
              "      <td>3603</td>\n",
              "      <td>3603</td>\n",
              "      <td>NASA</td>\n",
              "      <td>LC-39A, Kennedy Space Center, Florida, USA</td>\n",
              "      <td>Sat Dec 21, 1968 12:51 UTC</td>\n",
              "      <td>Saturn V | Apollo 8</td>\n",
              "      <td>StatusRetired</td>\n",
              "      <td>1,160.0</td>\n",
              "      <td>Success</td>\n",
              "    </tr>\n",
              "    <tr>\n",
              "      <th>3511</th>\n",
              "      <td>3511</td>\n",
              "      <td>3511</td>\n",
              "      <td>NASA</td>\n",
              "      <td>LC-39A, Kennedy Space Center, Florida, USA</td>\n",
              "      <td>Fri Nov 14, 1969 16:22 UTC</td>\n",
              "      <td>Saturn V | Apollo 12</td>\n",
              "      <td>StatusRetired</td>\n",
              "      <td>1,160.0</td>\n",
              "      <td>Success</td>\n",
              "    </tr>\n",
              "    <tr>\n",
              "      <th>398</th>\n",
              "      <td>398</td>\n",
              "      <td>398</td>\n",
              "      <td>ULA</td>\n",
              "      <td>SLC-3E, Vandenberg AFB, California, USA</td>\n",
              "      <td>Fri Nov 11, 2016 18:30 UTC</td>\n",
              "      <td>Atlas V 401 | WorldView-4</td>\n",
              "      <td>StatusActive</td>\n",
              "      <td>109.0</td>\n",
              "      <td>Success</td>\n",
              "    </tr>\n",
              "    <tr>\n",
              "      <th>475</th>\n",
              "      <td>475</td>\n",
              "      <td>475</td>\n",
              "      <td>ULA</td>\n",
              "      <td>SLC-41, Cape Canaveral AFS, Florida, USA</td>\n",
              "      <td>Sun Dec 06, 2015 21:44 UTC</td>\n",
              "      <td>Atlas V 401 | CRS OA-4</td>\n",
              "      <td>StatusActive</td>\n",
              "      <td>109.0</td>\n",
              "      <td>Success</td>\n",
              "    </tr>\n",
              "    <tr>\n",
              "      <th>950</th>\n",
              "      <td>950</td>\n",
              "      <td>950</td>\n",
              "      <td>ILS</td>\n",
              "      <td>SLC-41, Cape Canaveral AFS, Florida, USA</td>\n",
              "      <td>Fri Aug 12, 2005 11:43 UTC</td>\n",
              "      <td>Atlas V 401 | Mars Reconnaissance Orbiter</td>\n",
              "      <td>StatusActive</td>\n",
              "      <td>109.0</td>\n",
              "      <td>Success</td>\n",
              "    </tr>\n",
              "    <tr>\n",
              "      <th>463</th>\n",
              "      <td>463</td>\n",
              "      <td>463</td>\n",
              "      <td>ULA</td>\n",
              "      <td>SLC-41, Cape Canaveral AFS, Florida, USA</td>\n",
              "      <td>Fri Feb 05, 2016 13:38 UTC</td>\n",
              "      <td>Atlas V 401 | GPS IIF-12</td>\n",
              "      <td>StatusActive</td>\n",
              "      <td>109.0</td>\n",
              "      <td>Success</td>\n",
              "    </tr>\n",
              "    <tr>\n",
              "      <th>451</th>\n",
              "      <td>451</td>\n",
              "      <td>451</td>\n",
              "      <td>ULA</td>\n",
              "      <td>SLC-41, Cape Canaveral AFS, Florida, USA</td>\n",
              "      <td>Wed Mar 23, 2016 03:05 UTC</td>\n",
              "      <td>Atlas V 401 | CRS OA-6</td>\n",
              "      <td>StatusActive</td>\n",
              "      <td>109.0</td>\n",
              "      <td>Success</td>\n",
              "    </tr>\n",
              "    <tr>\n",
              "      <th>376</th>\n",
              "      <td>376</td>\n",
              "      <td>376</td>\n",
              "      <td>ULA</td>\n",
              "      <td>SLC-41, Cape Canaveral AFS, Florida, USA</td>\n",
              "      <td>Sat Jan 21, 2017 00:42 UTC</td>\n",
              "      <td>Atlas V 401 | SBIRS GEO-3</td>\n",
              "      <td>StatusActive</td>\n",
              "      <td>109.0</td>\n",
              "      <td>Success</td>\n",
              "    </tr>\n",
              "    <tr>\n",
              "      <th>246</th>\n",
              "      <td>246</td>\n",
              "      <td>246</td>\n",
              "      <td>ULA</td>\n",
              "      <td>SLC-3E, Vandenberg AFB, California, USA</td>\n",
              "      <td>Sat May 05, 2018 11:05 UTC</td>\n",
              "      <td>Atlas V 401 | InSight</td>\n",
              "      <td>StatusActive</td>\n",
              "      <td>109.0</td>\n",
              "      <td>Success</td>\n",
              "    </tr>\n",
              "    <tr>\n",
              "      <th>361</th>\n",
              "      <td>361</td>\n",
              "      <td>361</td>\n",
              "      <td>ULA</td>\n",
              "      <td>SLC-41, Cape Canaveral AFS, Florida, USA</td>\n",
              "      <td>Tue Apr 18, 2017 15:11 UTC</td>\n",
              "      <td>Atlas V 401 | CRS OA-7</td>\n",
              "      <td>StatusActive</td>\n",
              "      <td>109.0</td>\n",
              "      <td>Success</td>\n",
              "    </tr>\n",
              "    <tr>\n",
              "      <th>1048</th>\n",
              "      <td>1048</td>\n",
              "      <td>1048</td>\n",
              "      <td>ILS</td>\n",
              "      <td>SLC-41, Cape Canaveral AFS, Florida, USA</td>\n",
              "      <td>Tue May 13, 2003 22:10 UTC</td>\n",
              "      <td>Atlas V 401 | HellasSat-2</td>\n",
              "      <td>StatusActive</td>\n",
              "      <td>109.0</td>\n",
              "      <td>Success</td>\n",
              "    </tr>\n",
              "    <tr>\n",
              "      <th>329</th>\n",
              "      <td>329</td>\n",
              "      <td>329</td>\n",
              "      <td>ULA</td>\n",
              "      <td>SLC-41, Cape Canaveral AFS, Florida, USA</td>\n",
              "      <td>Fri Aug 18, 2017 12:29 UTC</td>\n",
              "      <td>Atlas V 401 | TDRS-M (TDRS-13)</td>\n",
              "      <td>StatusActive</td>\n",
              "      <td>109.0</td>\n",
              "      <td>Success</td>\n",
              "    </tr>\n",
              "    <tr>\n",
              "      <th>1084</th>\n",
              "      <td>1084</td>\n",
              "      <td>1084</td>\n",
              "      <td>ILS</td>\n",
              "      <td>SLC-41, Cape Canaveral AFS, Florida, USA</td>\n",
              "      <td>Wed Aug 21, 2002 22:05 UTC</td>\n",
              "      <td>Atlas V 401 | Hot Bird 6</td>\n",
              "      <td>StatusActive</td>\n",
              "      <td>109.0</td>\n",
              "      <td>Success</td>\n",
              "    </tr>\n",
              "    <tr>\n",
              "      <th>482</th>\n",
              "      <td>482</td>\n",
              "      <td>482</td>\n",
              "      <td>ULA</td>\n",
              "      <td>SLC-41, Cape Canaveral AFS, Florida, USA</td>\n",
              "      <td>Sat Oct 31, 2015 16:13 UTC</td>\n",
              "      <td>Atlas V 401 | GPS IIF-11</td>\n",
              "      <td>StatusActive</td>\n",
              "      <td>109.0</td>\n",
              "      <td>Success</td>\n",
              "    </tr>\n",
              "    <tr>\n",
              "      <th>369</th>\n",
              "      <td>369</td>\n",
              "      <td>369</td>\n",
              "      <td>ULA</td>\n",
              "      <td>SLC-3E, Vandenberg AFB, California, USA</td>\n",
              "      <td>Wed Mar 01, 2017 17:49 UTC</td>\n",
              "      <td>Atlas V 401 | NROL-79</td>\n",
              "      <td>StatusActive</td>\n",
              "      <td>109.0</td>\n",
              "      <td>Success</td>\n",
              "    </tr>\n",
              "    <tr>\n",
              "      <th>497</th>\n",
              "      <td>497</td>\n",
              "      <td>497</td>\n",
              "      <td>ULA</td>\n",
              "      <td>SLC-41, Cape Canaveral AFS, Florida, USA</td>\n",
              "      <td>Wed Jul 15, 2015 15:36 UTC</td>\n",
              "      <td>Atlas V 401 | GPS IIF-10</td>\n",
              "      <td>StatusActive</td>\n",
              "      <td>109.0</td>\n",
              "      <td>Success</td>\n",
              "    </tr>\n",
              "    <tr>\n",
              "      <th>567</th>\n",
              "      <td>567</td>\n",
              "      <td>567</td>\n",
              "      <td>ULA</td>\n",
              "      <td>SLC-3E, Vandenberg AFB, California, USA</td>\n",
              "      <td>Thu Apr 03, 2014 14:46 UTC</td>\n",
              "      <td>Atlas V 401 | DMSP-5D3 F19</td>\n",
              "      <td>StatusActive</td>\n",
              "      <td>109.0</td>\n",
              "      <td>Success</td>\n",
              "    </tr>\n",
              "    <tr>\n",
              "      <th>633</th>\n",
              "      <td>633</td>\n",
              "      <td>633</td>\n",
              "      <td>ULA</td>\n",
              "      <td>SLC-3E, Vandenberg AFB, California, USA</td>\n",
              "      <td>Thu Sep 13, 2012 21:39 UTC</td>\n",
              "      <td>Atlas V 401 | NROL-36</td>\n",
              "      <td>StatusActive</td>\n",
              "      <td>109.0</td>\n",
              "      <td>Success</td>\n",
              "    </tr>\n",
              "    <tr>\n",
              "      <th>839</th>\n",
              "      <td>839</td>\n",
              "      <td>839</td>\n",
              "      <td>ULA</td>\n",
              "      <td>SLC-41, Cape Canaveral AFS, Florida, USA</td>\n",
              "      <td>Mon Dec 10, 2007 22:05 UTC</td>\n",
              "      <td>Atlas V 401 | NROL-24</td>\n",
              "      <td>StatusActive</td>\n",
              "      <td>109.0</td>\n",
              "      <td>Success</td>\n",
              "    </tr>\n",
              "    <tr>\n",
              "      <th>755</th>\n",
              "      <td>755</td>\n",
              "      <td>755</td>\n",
              "      <td>ULA</td>\n",
              "      <td>SLC-41, Cape Canaveral AFS, Florida, USA</td>\n",
              "      <td>Tue Sep 08, 2009 21:35 UTC</td>\n",
              "      <td>Atlas V 401 | PAN</td>\n",
              "      <td>StatusActive</td>\n",
              "      <td>109.0</td>\n",
              "      <td>Success</td>\n",
              "    </tr>\n",
              "    <tr>\n",
              "      <th>749</th>\n",
              "      <td>749</td>\n",
              "      <td>749</td>\n",
              "      <td>ULA</td>\n",
              "      <td>SLC-3E, Vandenberg AFB, California, USA</td>\n",
              "      <td>Sun Oct 18, 2009 16:12 UTC</td>\n",
              "      <td>Atlas V 401 | DMSP-5D3-F18</td>\n",
              "      <td>StatusActive</td>\n",
              "      <td>109.0</td>\n",
              "      <td>Success</td>\n",
              "    </tr>\n",
              "    <tr>\n",
              "      <th>864</th>\n",
              "      <td>864</td>\n",
              "      <td>864</td>\n",
              "      <td>ULA</td>\n",
              "      <td>SLC-41, Cape Canaveral AFS, Florida, USA</td>\n",
              "      <td>Fri Jun 15, 2007 15:11 UTC</td>\n",
              "      <td>Atlas V 401 | NROL-30 &amp; NOSS-3</td>\n",
              "      <td>StatusActive</td>\n",
              "      <td>109.0</td>\n",
              "      <td>Partial Failure</td>\n",
              "    </tr>\n",
              "    <tr>\n",
              "      <th>736</th>\n",
              "      <td>736</td>\n",
              "      <td>736</td>\n",
              "      <td>ULA</td>\n",
              "      <td>SLC-41, Cape Canaveral AFS, Florida, USA</td>\n",
              "      <td>Thu Feb 11, 2010 15:23 UTC</td>\n",
              "      <td>Atlas V 401 | SDO</td>\n",
              "      <td>StatusActive</td>\n",
              "      <td>109.0</td>\n",
              "      <td>Success</td>\n",
              "    </tr>\n",
              "    <tr>\n",
              "      <th>688</th>\n",
              "      <td>688</td>\n",
              "      <td>688</td>\n",
              "      <td>ULA</td>\n",
              "      <td>SLC-41, Cape Canaveral AFS, Florida, USA</td>\n",
              "      <td>Sat May 07, 2011 18:10 UTC</td>\n",
              "      <td>Atlas V 401 | SBIRS GEO-1</td>\n",
              "      <td>StatusActive</td>\n",
              "      <td>109.0</td>\n",
              "      <td>Success</td>\n",
              "    </tr>\n",
              "    <tr>\n",
              "      <th>881</th>\n",
              "      <td>881</td>\n",
              "      <td>881</td>\n",
              "      <td>ULA</td>\n",
              "      <td>SLC-41, Cape Canaveral AFS, Florida, USA</td>\n",
              "      <td>Fri Mar 09, 2007 03:10 UTC</td>\n",
              "      <td>Atlas V 401 | STP-1, FalconSat-3</td>\n",
              "      <td>StatusActive</td>\n",
              "      <td>109.0</td>\n",
              "      <td>Success</td>\n",
              "    </tr>\n",
              "    <tr>\n",
              "      <th>642</th>\n",
              "      <td>642</td>\n",
              "      <td>642</td>\n",
              "      <td>ULA</td>\n",
              "      <td>SLC-41, Cape Canaveral AFS, Florida, USA</td>\n",
              "      <td>Wed Jun 20, 2012 12:28 UTC</td>\n",
              "      <td>Atlas V 401 | NROL-38</td>\n",
              "      <td>StatusActive</td>\n",
              "      <td>109.0</td>\n",
              "      <td>Success</td>\n",
              "    </tr>\n",
              "    <tr>\n",
              "      <th>635</th>\n",
              "      <td>635</td>\n",
              "      <td>635</td>\n",
              "      <td>ULA</td>\n",
              "      <td>SLC-41, Cape Canaveral AFS, Florida, USA</td>\n",
              "      <td>Thu Aug 30, 2012 08:05 UTC</td>\n",
              "      <td>Atlas V 401 | Van Allen Probes (RBSP)</td>\n",
              "      <td>StatusActive</td>\n",
              "      <td>109.0</td>\n",
              "      <td>Success</td>\n",
              "    </tr>\n",
              "    <tr>\n",
              "      <th>533</th>\n",
              "      <td>533</td>\n",
              "      <td>533</td>\n",
              "      <td>ULA</td>\n",
              "      <td>SLC-41, Cape Canaveral AFS, Florida, USA</td>\n",
              "      <td>Wed Oct 29, 2014 17:21 UTC</td>\n",
              "      <td>Atlas V 401 | GPS IIF-8</td>\n",
              "      <td>StatusActive</td>\n",
              "      <td>109.0</td>\n",
              "      <td>Success</td>\n",
              "    </tr>\n",
              "    <tr>\n",
              "      <th>618</th>\n",
              "      <td>618</td>\n",
              "      <td>618</td>\n",
              "      <td>ULA</td>\n",
              "      <td>SLC-41, Cape Canaveral AFS, Florida, USA</td>\n",
              "      <td>Thu Jan 31, 2013 01:48 UTC</td>\n",
              "      <td>Atlas V 401 | TDRS-K</td>\n",
              "      <td>StatusActive</td>\n",
              "      <td>109.0</td>\n",
              "      <td>Success</td>\n",
              "    </tr>\n",
              "    <tr>\n",
              "      <th>615</th>\n",
              "      <td>615</td>\n",
              "      <td>615</td>\n",
              "      <td>ULA</td>\n",
              "      <td>SLC-3E, Vandenberg AFB, California, USA</td>\n",
              "      <td>Mon Feb 11, 2013 18:02 UTC</td>\n",
              "      <td>Atlas V 401 | Landsat 8</td>\n",
              "      <td>StatusActive</td>\n",
              "      <td>109.0</td>\n",
              "      <td>Success</td>\n",
              "    </tr>\n",
              "    <tr>\n",
              "      <th>612</th>\n",
              "      <td>612</td>\n",
              "      <td>612</td>\n",
              "      <td>ULA</td>\n",
              "      <td>SLC-41, Cape Canaveral AFS, Florida, USA</td>\n",
              "      <td>Tue Mar 19, 2013 21:21 UTC</td>\n",
              "      <td>Atlas V 401 | SBIRS GEO-2</td>\n",
              "      <td>StatusActive</td>\n",
              "      <td>109.0</td>\n",
              "      <td>Success</td>\n",
              "    </tr>\n",
              "    <tr>\n",
              "      <th>483</th>\n",
              "      <td>483</td>\n",
              "      <td>483</td>\n",
              "      <td>ULA</td>\n",
              "      <td>SLC-3E, Vandenberg AFB, California, USA</td>\n",
              "      <td>Thu Oct 08, 2015 12:49 UTC</td>\n",
              "      <td>Atlas V 401 | NROL-55</td>\n",
              "      <td>StatusActive</td>\n",
              "      <td>109.0</td>\n",
              "      <td>Success</td>\n",
              "    </tr>\n",
              "    <tr>\n",
              "      <th>545</th>\n",
              "      <td>545</td>\n",
              "      <td>545</td>\n",
              "      <td>ULA</td>\n",
              "      <td>SLC-41, Cape Canaveral AFS, Florida, USA</td>\n",
              "      <td>Sat Aug 02, 2014 03:23 UTC</td>\n",
              "      <td>Atlas V 401 | GPS IIF-7</td>\n",
              "      <td>StatusActive</td>\n",
              "      <td>109.0</td>\n",
              "      <td>Success</td>\n",
              "    </tr>\n",
              "    <tr>\n",
              "      <th>539</th>\n",
              "      <td>539</td>\n",
              "      <td>539</td>\n",
              "      <td>ULA</td>\n",
              "      <td>SLC-41, Cape Canaveral AFS, Florida, USA</td>\n",
              "      <td>Wed Sep 17, 2014 00:10 UTC</td>\n",
              "      <td>Atlas V 401 | CLIO</td>\n",
              "      <td>StatusActive</td>\n",
              "      <td>109.0</td>\n",
              "      <td>Success</td>\n",
              "    </tr>\n",
              "    <tr>\n",
              "      <th>584</th>\n",
              "      <td>584</td>\n",
              "      <td>584</td>\n",
              "      <td>ULA</td>\n",
              "      <td>SLC-41, Cape Canaveral AFS, Florida, USA</td>\n",
              "      <td>Mon Nov 18, 2013 18:28 UTC</td>\n",
              "      <td>Atlas V 401 | MAVEN</td>\n",
              "      <td>StatusActive</td>\n",
              "      <td>109.0</td>\n",
              "      <td>Success</td>\n",
              "    </tr>\n",
              "    <tr>\n",
              "      <th>572</th>\n",
              "      <td>572</td>\n",
              "      <td>572</td>\n",
              "      <td>ULA</td>\n",
              "      <td>SLC-41, Cape Canaveral AFS, Florida, USA</td>\n",
              "      <td>Fri Jan 24, 2014 02:33 UTC</td>\n",
              "      <td>Atlas V 401 | TDRS-L</td>\n",
              "      <td>StatusActive</td>\n",
              "      <td>109.0</td>\n",
              "      <td>Success</td>\n",
              "    </tr>\n",
              "    <tr>\n",
              "      <th>559</th>\n",
              "      <td>559</td>\n",
              "      <td>559</td>\n",
              "      <td>ULA</td>\n",
              "      <td>SLC-41, Cape Canaveral AFS, Florida, USA</td>\n",
              "      <td>Thu May 22, 2014 13:09 UTC</td>\n",
              "      <td>Atlas V 401 | NROL-33</td>\n",
              "      <td>StatusActive</td>\n",
              "      <td>109.0</td>\n",
              "      <td>Success</td>\n",
              "    </tr>\n",
              "    <tr>\n",
              "      <th>609</th>\n",
              "      <td>609</td>\n",
              "      <td>609</td>\n",
              "      <td>ULA</td>\n",
              "      <td>SLC-41, Cape Canaveral AFS, Florida, USA</td>\n",
              "      <td>Wed May 15, 2013 21:38 UTC</td>\n",
              "      <td>Atlas V 401 | GPS IIF-4</td>\n",
              "      <td>StatusActive</td>\n",
              "      <td>109.0</td>\n",
              "      <td>Success</td>\n",
              "    </tr>\n",
              "    <tr>\n",
              "      <th>543</th>\n",
              "      <td>543</td>\n",
              "      <td>543</td>\n",
              "      <td>ULA</td>\n",
              "      <td>SLC-3E, Vandenberg AFB, California, USA</td>\n",
              "      <td>Wed Aug 13, 2014 18:30 UTC</td>\n",
              "      <td>Atlas V 401 | WorldView 3</td>\n",
              "      <td>StatusActive</td>\n",
              "      <td>109.0</td>\n",
              "      <td>Success</td>\n",
              "    </tr>\n",
              "  </tbody>\n",
              "</table>\n",
              "</div>"
            ],
            "text/plain": [
              "      Unnamed: 0  Unnamed: 0.1  ...    Rocket   Status Mission\n",
              "3683        3683          3683  ...  1,160.0   Partial Failure\n",
              "3149        3149          3149  ...  1,160.0           Success\n",
              "3180        3180          3180  ...  1,160.0           Success\n",
              "3243        3243          3243  ...  1,160.0           Success\n",
              "3384        3384          3384  ...  1,160.0           Success\n",
              "3475        3475          3475  ...  1,160.0           Success\n",
              "3328        3328          3328  ...  1,160.0           Success\n",
              "3545        3545          3545  ...  1,160.0           Success\n",
              "3560        3560          3560  ...  1,160.0           Success\n",
              "3584        3584          3584  ...  1,160.0           Success\n",
              "3716        3716          3716  ...  1,160.0           Success\n",
              "3603        3603          3603  ...  1,160.0           Success\n",
              "3511        3511          3511  ...  1,160.0           Success\n",
              "398          398           398  ...    109.0           Success\n",
              "475          475           475  ...    109.0           Success\n",
              "950          950           950  ...    109.0           Success\n",
              "463          463           463  ...    109.0           Success\n",
              "451          451           451  ...    109.0           Success\n",
              "376          376           376  ...    109.0           Success\n",
              "246          246           246  ...    109.0           Success\n",
              "361          361           361  ...    109.0           Success\n",
              "1048        1048          1048  ...    109.0           Success\n",
              "329          329           329  ...    109.0           Success\n",
              "1084        1084          1084  ...    109.0           Success\n",
              "482          482           482  ...    109.0           Success\n",
              "369          369           369  ...    109.0           Success\n",
              "497          497           497  ...    109.0           Success\n",
              "567          567           567  ...    109.0           Success\n",
              "633          633           633  ...    109.0           Success\n",
              "839          839           839  ...    109.0           Success\n",
              "755          755           755  ...    109.0           Success\n",
              "749          749           749  ...    109.0           Success\n",
              "864          864           864  ...    109.0   Partial Failure\n",
              "736          736           736  ...    109.0           Success\n",
              "688          688           688  ...    109.0           Success\n",
              "881          881           881  ...    109.0           Success\n",
              "642          642           642  ...    109.0           Success\n",
              "635          635           635  ...    109.0           Success\n",
              "533          533           533  ...    109.0           Success\n",
              "618          618           618  ...    109.0           Success\n",
              "615          615           615  ...    109.0           Success\n",
              "612          612           612  ...    109.0           Success\n",
              "483          483           483  ...    109.0           Success\n",
              "545          545           545  ...    109.0           Success\n",
              "539          539           539  ...    109.0           Success\n",
              "584          584           584  ...    109.0           Success\n",
              "572          572           572  ...    109.0           Success\n",
              "559          559           559  ...    109.0           Success\n",
              "609          609           609  ...    109.0           Success\n",
              "543          543           543  ...    109.0           Success\n",
              "\n",
              "[50 rows x 9 columns]"
            ]
          },
          "metadata": {
            "tags": []
          },
          "execution_count": 85
        }
      ]
    },
    {
      "cell_type": "markdown",
      "metadata": {
        "id": "B_C6y1EdlXVl",
        "colab_type": "text"
      },
      "source": [
        "## Conversion de types\n",
        "\n",
        "Pour convertir le type d'une colonne, il faut tout d'abord copier la variable Dataframe puis effectuer les conversions sur cette variable.  \n",
        "Dans l'exemple suivant, l'objet \"Rocket\" (prix de la mission en million de $) est de type chaine de caractère. Pour le convertir en flottant, nous sommes obligé de supprimer les virgules sinon nous obtenons une erreur.  "
      ]
    },
    {
      "cell_type": "code",
      "metadata": {
        "id": "hWDsTBzNlXVl",
        "colab_type": "code",
        "colab": {
          "base_uri": "https://localhost:8080/",
          "height": 191
        },
        "outputId": "9c2b0128-197b-4b1a-e5da-12bde287c2f1"
      },
      "source": [
        "# Cette méthode ne fonctionne pas\n",
        "#issions2 = missions.copy()\n",
        "#missions2['Rocket'] = missions2['Rocket'].astype(float)\n",
        "\n",
        "# Cette méthode fonctionne, il faut d'abord supprimer les virgules\n",
        "\n",
        "missions2 = missions.copy()\n",
        "missions2['Rocket'] = missions2['Rocket'].str.replace(\",\",\"\").astype(float)\n",
        "missions2.sort_values(by='Rocket', ascending=True).head(50)\n",
        "missions2.dtypes"
      ],
      "execution_count": 4,
      "outputs": [
        {
          "output_type": "execute_result",
          "data": {
            "text/plain": [
              "Unnamed: 0          int64\n",
              "Unnamed: 0.1        int64\n",
              "Company Name       object\n",
              "Location           object\n",
              "Datum              object\n",
              "Detail             object\n",
              "Status Rocket      object\n",
              "Rocket            float64\n",
              "Status Mission     object\n",
              "dtype: object"
            ]
          },
          "metadata": {
            "tags": []
          },
          "execution_count": 4
        }
      ]
    },
    {
      "cell_type": "code",
      "metadata": {
        "id": "_osdBIM1lXVq",
        "colab_type": "code",
        "colab": {}
      },
      "source": [
        "missions2.dtypes"
      ],
      "execution_count": null,
      "outputs": []
    },
    {
      "cell_type": "code",
      "metadata": {
        "id": "Bf8klWU3lXVt",
        "colab_type": "code",
        "colab": {}
      },
      "source": [
        "missions2.describe()"
      ],
      "execution_count": null,
      "outputs": []
    },
    {
      "cell_type": "markdown",
      "metadata": {
        "id": "GQEqyUsNMV_k",
        "colab_type": "text"
      },
      "source": [
        "On peut également vouloir copier uniquement les données qui sont exploitables, c'est-à-dire par exemple celles dont la valeur n'est pas égale à \"Nan\". "
      ]
    },
    {
      "cell_type": "code",
      "metadata": {
        "id": "ethfK7uFMl4N",
        "colab_type": "code",
        "colab": {}
      },
      "source": [
        "missions2 = missions[missions.Rocket.str.find(\"nan\")<0].copy()\n",
        "missions2['Rocket'] = missions2['Rocket'].str.replace(\",\",\"\").astype(float)\n",
        "missions2.sort_values(by='Rocket', ascending=True).head(50)"
      ],
      "execution_count": null,
      "outputs": []
    },
    {
      "cell_type": "markdown",
      "metadata": {
        "id": "COCuQVTVlXVx",
        "colab_type": "text"
      },
      "source": [
        "## Agrégation\n",
        "\n",
        "La fonction groupby permet de regrouper des données par colonnes ou pas ensemble de colonnes et d'y appliquer des fonctions spécifiques, comme mean, min, max, etc ..."
      ]
    },
    {
      "cell_type": "code",
      "metadata": {
        "id": "zAgLDwavlXVy",
        "colab_type": "code",
        "colab": {}
      },
      "source": [
        "missions2.groupby(['Company Name']).max()"
      ],
      "execution_count": null,
      "outputs": []
    },
    {
      "cell_type": "code",
      "metadata": {
        "id": "qP3DCyvNlXV1",
        "colab_type": "code",
        "colab": {}
      },
      "source": [
        "missions2.groupby(['Company Name', 'Status Mission']).max()"
      ],
      "execution_count": null,
      "outputs": []
    },
    {
      "cell_type": "markdown",
      "metadata": {
        "id": "Xsup5B8ilXV9",
        "colab_type": "text"
      },
      "source": [
        "## Visualisation\n",
        "\n",
        "Les objets Dataframe de Pandas contiennent des fonctions pour créer un très grand nombre de courbes en utilisant [Matplotlib](https://matplotlib.org). Les fonctions d'affichage de Pandas sont documentées dans [la documentation](https://pandas.pydata.org/pandas-docs/stable/user_guide/visualization.html)."
      ]
    },
    {
      "cell_type": "code",
      "metadata": {
        "id": "wqvzyhfGlXV9",
        "colab_type": "code",
        "colab": {}
      },
      "source": [
        "missions2.hist('Rocket', bins=100)"
      ],
      "execution_count": null,
      "outputs": []
    },
    {
      "cell_type": "code",
      "metadata": {
        "id": "vTFvHAiWlXWB",
        "colab_type": "code",
        "colab": {}
      },
      "source": [
        "missions2.hist('Rocket', bins=50, cumulative=-1)"
      ],
      "execution_count": null,
      "outputs": []
    },
    {
      "cell_type": "markdown",
      "metadata": {
        "id": "qdpgT_qzTIHq",
        "colab_type": "text"
      },
      "source": [
        "Essayons maintenant d'afficher la distribution de l'endroit des lancements en fonction du nom des companies."
      ]
    },
    {
      "cell_type": "code",
      "metadata": {
        "id": "Aelq-C4NRwss",
        "colab_type": "code",
        "colab": {}
      },
      "source": [
        "missions2.plot.scatter(x='Location', y='Company Name', color='red',figsize=[10, 10])"
      ],
      "execution_count": null,
      "outputs": []
    },
    {
      "cell_type": "markdown",
      "metadata": {
        "id": "UNQHcpaWK_nv",
        "colab_type": "text"
      },
      "source": [
        "Affichons maintenant des statistiques sur le prix des missions en fonction des companies."
      ]
    },
    {
      "cell_type": "code",
      "metadata": {
        "id": "PqBWy_ThlXWR",
        "colab_type": "code",
        "colab": {}
      },
      "source": [
        "PrixCompany = missions2.groupby(['Company Name'])['Rocket']\n",
        "moyenne = PrixCompany.mean()\n",
        "et = PrixCompany.std()"
      ],
      "execution_count": 115,
      "outputs": []
    },
    {
      "cell_type": "code",
      "metadata": {
        "id": "znFWbCcrlXWV",
        "colab_type": "code",
        "colab": {}
      },
      "source": [
        "fig, ax = plt.subplots()\n",
        "means.plot.bar(ax=ax, yerr=std, color='lightgreen', figsize=[15, 5])"
      ],
      "execution_count": null,
      "outputs": []
    }
  ]
}