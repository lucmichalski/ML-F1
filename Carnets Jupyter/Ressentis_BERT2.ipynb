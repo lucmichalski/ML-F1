{
  "nbformat": 4,
  "nbformat_minor": 0,
  "metadata": {
    "colab": {
      "name": "Untitled1.ipynb",
      "provenance": [],
      "authorship_tag": "ABX9TyMUWZZg6WDOmRMinRIuhvje",
      "include_colab_link": true
    },
    "kernelspec": {
      "name": "python3",
      "display_name": "Python 3"
    },
    "accelerator": "GPU",
    "widgets": {
      "application/vnd.jupyter.widget-state+json": {
        "b8572d5b095a4ea0b6c1c68d33e6db34": {
          "model_module": "@jupyter-widgets/controls",
          "model_name": "HBoxModel",
          "state": {
            "_view_name": "HBoxView",
            "_dom_classes": [],
            "_model_name": "HBoxModel",
            "_view_module": "@jupyter-widgets/controls",
            "_model_module_version": "1.5.0",
            "_view_count": null,
            "_view_module_version": "1.5.0",
            "box_style": "",
            "layout": "IPY_MODEL_a79187dea63a42e695089ac90437ff17",
            "_model_module": "@jupyter-widgets/controls",
            "children": [
              "IPY_MODEL_36f1cc196b384604b48bce2ebc1c6f8a",
              "IPY_MODEL_cefc8ef4bfeb4ca1aeb55891680b2688"
            ]
          }
        },
        "a79187dea63a42e695089ac90437ff17": {
          "model_module": "@jupyter-widgets/base",
          "model_name": "LayoutModel",
          "state": {
            "_view_name": "LayoutView",
            "grid_template_rows": null,
            "right": null,
            "justify_content": null,
            "_view_module": "@jupyter-widgets/base",
            "overflow": null,
            "_model_module_version": "1.2.0",
            "_view_count": null,
            "flex_flow": null,
            "width": null,
            "min_width": null,
            "border": null,
            "align_items": null,
            "bottom": null,
            "_model_module": "@jupyter-widgets/base",
            "top": null,
            "grid_column": null,
            "overflow_y": null,
            "overflow_x": null,
            "grid_auto_flow": null,
            "grid_area": null,
            "grid_template_columns": null,
            "flex": null,
            "_model_name": "LayoutModel",
            "justify_items": null,
            "grid_row": null,
            "max_height": null,
            "align_content": null,
            "visibility": null,
            "align_self": null,
            "height": null,
            "min_height": null,
            "padding": null,
            "grid_auto_rows": null,
            "grid_gap": null,
            "max_width": null,
            "order": null,
            "_view_module_version": "1.2.0",
            "grid_template_areas": null,
            "object_position": null,
            "object_fit": null,
            "grid_auto_columns": null,
            "margin": null,
            "display": null,
            "left": null
          }
        },
        "36f1cc196b384604b48bce2ebc1c6f8a": {
          "model_module": "@jupyter-widgets/controls",
          "model_name": "FloatProgressModel",
          "state": {
            "_view_name": "ProgressView",
            "style": "IPY_MODEL_36ac2f9ae9c4404e83c8d7f2185e78cd",
            "_dom_classes": [],
            "description": "Downloading: 100%",
            "_model_name": "FloatProgressModel",
            "bar_style": "success",
            "max": 433,
            "_view_module": "@jupyter-widgets/controls",
            "_model_module_version": "1.5.0",
            "value": 433,
            "_view_count": null,
            "_view_module_version": "1.5.0",
            "orientation": "horizontal",
            "min": 0,
            "description_tooltip": null,
            "_model_module": "@jupyter-widgets/controls",
            "layout": "IPY_MODEL_d07f4470ed8c430183040c3f9d820f3b"
          }
        },
        "cefc8ef4bfeb4ca1aeb55891680b2688": {
          "model_module": "@jupyter-widgets/controls",
          "model_name": "HTMLModel",
          "state": {
            "_view_name": "HTMLView",
            "style": "IPY_MODEL_34ccf1ae02114dd7ae61933fad3380fb",
            "_dom_classes": [],
            "description": "",
            "_model_name": "HTMLModel",
            "placeholder": "​",
            "_view_module": "@jupyter-widgets/controls",
            "_model_module_version": "1.5.0",
            "value": " 433/433 [00:00&lt;00:00, 849B/s]",
            "_view_count": null,
            "_view_module_version": "1.5.0",
            "description_tooltip": null,
            "_model_module": "@jupyter-widgets/controls",
            "layout": "IPY_MODEL_82387f9037b24cf88d52b89ce30aaa7e"
          }
        },
        "36ac2f9ae9c4404e83c8d7f2185e78cd": {
          "model_module": "@jupyter-widgets/controls",
          "model_name": "ProgressStyleModel",
          "state": {
            "_view_name": "StyleView",
            "_model_name": "ProgressStyleModel",
            "description_width": "initial",
            "_view_module": "@jupyter-widgets/base",
            "_model_module_version": "1.5.0",
            "_view_count": null,
            "_view_module_version": "1.2.0",
            "bar_color": null,
            "_model_module": "@jupyter-widgets/controls"
          }
        },
        "d07f4470ed8c430183040c3f9d820f3b": {
          "model_module": "@jupyter-widgets/base",
          "model_name": "LayoutModel",
          "state": {
            "_view_name": "LayoutView",
            "grid_template_rows": null,
            "right": null,
            "justify_content": null,
            "_view_module": "@jupyter-widgets/base",
            "overflow": null,
            "_model_module_version": "1.2.0",
            "_view_count": null,
            "flex_flow": null,
            "width": null,
            "min_width": null,
            "border": null,
            "align_items": null,
            "bottom": null,
            "_model_module": "@jupyter-widgets/base",
            "top": null,
            "grid_column": null,
            "overflow_y": null,
            "overflow_x": null,
            "grid_auto_flow": null,
            "grid_area": null,
            "grid_template_columns": null,
            "flex": null,
            "_model_name": "LayoutModel",
            "justify_items": null,
            "grid_row": null,
            "max_height": null,
            "align_content": null,
            "visibility": null,
            "align_self": null,
            "height": null,
            "min_height": null,
            "padding": null,
            "grid_auto_rows": null,
            "grid_gap": null,
            "max_width": null,
            "order": null,
            "_view_module_version": "1.2.0",
            "grid_template_areas": null,
            "object_position": null,
            "object_fit": null,
            "grid_auto_columns": null,
            "margin": null,
            "display": null,
            "left": null
          }
        },
        "34ccf1ae02114dd7ae61933fad3380fb": {
          "model_module": "@jupyter-widgets/controls",
          "model_name": "DescriptionStyleModel",
          "state": {
            "_view_name": "StyleView",
            "_model_name": "DescriptionStyleModel",
            "description_width": "",
            "_view_module": "@jupyter-widgets/base",
            "_model_module_version": "1.5.0",
            "_view_count": null,
            "_view_module_version": "1.2.0",
            "_model_module": "@jupyter-widgets/controls"
          }
        },
        "82387f9037b24cf88d52b89ce30aaa7e": {
          "model_module": "@jupyter-widgets/base",
          "model_name": "LayoutModel",
          "state": {
            "_view_name": "LayoutView",
            "grid_template_rows": null,
            "right": null,
            "justify_content": null,
            "_view_module": "@jupyter-widgets/base",
            "overflow": null,
            "_model_module_version": "1.2.0",
            "_view_count": null,
            "flex_flow": null,
            "width": null,
            "min_width": null,
            "border": null,
            "align_items": null,
            "bottom": null,
            "_model_module": "@jupyter-widgets/base",
            "top": null,
            "grid_column": null,
            "overflow_y": null,
            "overflow_x": null,
            "grid_auto_flow": null,
            "grid_area": null,
            "grid_template_columns": null,
            "flex": null,
            "_model_name": "LayoutModel",
            "justify_items": null,
            "grid_row": null,
            "max_height": null,
            "align_content": null,
            "visibility": null,
            "align_self": null,
            "height": null,
            "min_height": null,
            "padding": null,
            "grid_auto_rows": null,
            "grid_gap": null,
            "max_width": null,
            "order": null,
            "_view_module_version": "1.2.0",
            "grid_template_areas": null,
            "object_position": null,
            "object_fit": null,
            "grid_auto_columns": null,
            "margin": null,
            "display": null,
            "left": null
          }
        },
        "7e02b13b248143339925c7c710c0922b": {
          "model_module": "@jupyter-widgets/controls",
          "model_name": "HBoxModel",
          "state": {
            "_view_name": "HBoxView",
            "_dom_classes": [],
            "_model_name": "HBoxModel",
            "_view_module": "@jupyter-widgets/controls",
            "_model_module_version": "1.5.0",
            "_view_count": null,
            "_view_module_version": "1.5.0",
            "box_style": "",
            "layout": "IPY_MODEL_30ce801a54c34f4abfd668c6fc2553cb",
            "_model_module": "@jupyter-widgets/controls",
            "children": [
              "IPY_MODEL_27125278590d4054ade06807eef9f206",
              "IPY_MODEL_82ecd9a299af41b1aeb89d9eb1c171ab"
            ]
          }
        },
        "30ce801a54c34f4abfd668c6fc2553cb": {
          "model_module": "@jupyter-widgets/base",
          "model_name": "LayoutModel",
          "state": {
            "_view_name": "LayoutView",
            "grid_template_rows": null,
            "right": null,
            "justify_content": null,
            "_view_module": "@jupyter-widgets/base",
            "overflow": null,
            "_model_module_version": "1.2.0",
            "_view_count": null,
            "flex_flow": null,
            "width": null,
            "min_width": null,
            "border": null,
            "align_items": null,
            "bottom": null,
            "_model_module": "@jupyter-widgets/base",
            "top": null,
            "grid_column": null,
            "overflow_y": null,
            "overflow_x": null,
            "grid_auto_flow": null,
            "grid_area": null,
            "grid_template_columns": null,
            "flex": null,
            "_model_name": "LayoutModel",
            "justify_items": null,
            "grid_row": null,
            "max_height": null,
            "align_content": null,
            "visibility": null,
            "align_self": null,
            "height": null,
            "min_height": null,
            "padding": null,
            "grid_auto_rows": null,
            "grid_gap": null,
            "max_width": null,
            "order": null,
            "_view_module_version": "1.2.0",
            "grid_template_areas": null,
            "object_position": null,
            "object_fit": null,
            "grid_auto_columns": null,
            "margin": null,
            "display": null,
            "left": null
          }
        },
        "27125278590d4054ade06807eef9f206": {
          "model_module": "@jupyter-widgets/controls",
          "model_name": "FloatProgressModel",
          "state": {
            "_view_name": "ProgressView",
            "style": "IPY_MODEL_6c2808fc71ce4409932d8ea3023191da",
            "_dom_classes": [],
            "description": "Downloading: 100%",
            "_model_name": "FloatProgressModel",
            "bar_style": "success",
            "max": 231508,
            "_view_module": "@jupyter-widgets/controls",
            "_model_module_version": "1.5.0",
            "value": 231508,
            "_view_count": null,
            "_view_module_version": "1.5.0",
            "orientation": "horizontal",
            "min": 0,
            "description_tooltip": null,
            "_model_module": "@jupyter-widgets/controls",
            "layout": "IPY_MODEL_83243f675d25459aa9c7afb15ab65058"
          }
        },
        "82ecd9a299af41b1aeb89d9eb1c171ab": {
          "model_module": "@jupyter-widgets/controls",
          "model_name": "HTMLModel",
          "state": {
            "_view_name": "HTMLView",
            "style": "IPY_MODEL_1fcbacd9f2724667a42541c08861caee",
            "_dom_classes": [],
            "description": "",
            "_model_name": "HTMLModel",
            "placeholder": "​",
            "_view_module": "@jupyter-widgets/controls",
            "_model_module_version": "1.5.0",
            "value": " 232k/232k [00:00&lt;00:00, 1.40MB/s]",
            "_view_count": null,
            "_view_module_version": "1.5.0",
            "description_tooltip": null,
            "_model_module": "@jupyter-widgets/controls",
            "layout": "IPY_MODEL_7ea60b96be5840dda36b3bca32aa8f7e"
          }
        },
        "6c2808fc71ce4409932d8ea3023191da": {
          "model_module": "@jupyter-widgets/controls",
          "model_name": "ProgressStyleModel",
          "state": {
            "_view_name": "StyleView",
            "_model_name": "ProgressStyleModel",
            "description_width": "initial",
            "_view_module": "@jupyter-widgets/base",
            "_model_module_version": "1.5.0",
            "_view_count": null,
            "_view_module_version": "1.2.0",
            "bar_color": null,
            "_model_module": "@jupyter-widgets/controls"
          }
        },
        "83243f675d25459aa9c7afb15ab65058": {
          "model_module": "@jupyter-widgets/base",
          "model_name": "LayoutModel",
          "state": {
            "_view_name": "LayoutView",
            "grid_template_rows": null,
            "right": null,
            "justify_content": null,
            "_view_module": "@jupyter-widgets/base",
            "overflow": null,
            "_model_module_version": "1.2.0",
            "_view_count": null,
            "flex_flow": null,
            "width": null,
            "min_width": null,
            "border": null,
            "align_items": null,
            "bottom": null,
            "_model_module": "@jupyter-widgets/base",
            "top": null,
            "grid_column": null,
            "overflow_y": null,
            "overflow_x": null,
            "grid_auto_flow": null,
            "grid_area": null,
            "grid_template_columns": null,
            "flex": null,
            "_model_name": "LayoutModel",
            "justify_items": null,
            "grid_row": null,
            "max_height": null,
            "align_content": null,
            "visibility": null,
            "align_self": null,
            "height": null,
            "min_height": null,
            "padding": null,
            "grid_auto_rows": null,
            "grid_gap": null,
            "max_width": null,
            "order": null,
            "_view_module_version": "1.2.0",
            "grid_template_areas": null,
            "object_position": null,
            "object_fit": null,
            "grid_auto_columns": null,
            "margin": null,
            "display": null,
            "left": null
          }
        },
        "1fcbacd9f2724667a42541c08861caee": {
          "model_module": "@jupyter-widgets/controls",
          "model_name": "DescriptionStyleModel",
          "state": {
            "_view_name": "StyleView",
            "_model_name": "DescriptionStyleModel",
            "description_width": "",
            "_view_module": "@jupyter-widgets/base",
            "_model_module_version": "1.5.0",
            "_view_count": null,
            "_view_module_version": "1.2.0",
            "_model_module": "@jupyter-widgets/controls"
          }
        },
        "7ea60b96be5840dda36b3bca32aa8f7e": {
          "model_module": "@jupyter-widgets/base",
          "model_name": "LayoutModel",
          "state": {
            "_view_name": "LayoutView",
            "grid_template_rows": null,
            "right": null,
            "justify_content": null,
            "_view_module": "@jupyter-widgets/base",
            "overflow": null,
            "_model_module_version": "1.2.0",
            "_view_count": null,
            "flex_flow": null,
            "width": null,
            "min_width": null,
            "border": null,
            "align_items": null,
            "bottom": null,
            "_model_module": "@jupyter-widgets/base",
            "top": null,
            "grid_column": null,
            "overflow_y": null,
            "overflow_x": null,
            "grid_auto_flow": null,
            "grid_area": null,
            "grid_template_columns": null,
            "flex": null,
            "_model_name": "LayoutModel",
            "justify_items": null,
            "grid_row": null,
            "max_height": null,
            "align_content": null,
            "visibility": null,
            "align_self": null,
            "height": null,
            "min_height": null,
            "padding": null,
            "grid_auto_rows": null,
            "grid_gap": null,
            "max_width": null,
            "order": null,
            "_view_module_version": "1.2.0",
            "grid_template_areas": null,
            "object_position": null,
            "object_fit": null,
            "grid_auto_columns": null,
            "margin": null,
            "display": null,
            "left": null
          }
        },
        "a1290365ad9e44cda1b4cf4256e0638a": {
          "model_module": "@jupyter-widgets/controls",
          "model_name": "HBoxModel",
          "state": {
            "_view_name": "HBoxView",
            "_dom_classes": [],
            "_model_name": "HBoxModel",
            "_view_module": "@jupyter-widgets/controls",
            "_model_module_version": "1.5.0",
            "_view_count": null,
            "_view_module_version": "1.5.0",
            "box_style": "",
            "layout": "IPY_MODEL_d5c13b809e954ea0ae5f0a5417a33c72",
            "_model_module": "@jupyter-widgets/controls",
            "children": [
              "IPY_MODEL_21a83e6213d24b4ab2347152443cdbe9",
              "IPY_MODEL_0d37aa2de7184dc6b3eda1028daa936c"
            ]
          }
        },
        "d5c13b809e954ea0ae5f0a5417a33c72": {
          "model_module": "@jupyter-widgets/base",
          "model_name": "LayoutModel",
          "state": {
            "_view_name": "LayoutView",
            "grid_template_rows": null,
            "right": null,
            "justify_content": null,
            "_view_module": "@jupyter-widgets/base",
            "overflow": null,
            "_model_module_version": "1.2.0",
            "_view_count": null,
            "flex_flow": null,
            "width": null,
            "min_width": null,
            "border": null,
            "align_items": null,
            "bottom": null,
            "_model_module": "@jupyter-widgets/base",
            "top": null,
            "grid_column": null,
            "overflow_y": null,
            "overflow_x": null,
            "grid_auto_flow": null,
            "grid_area": null,
            "grid_template_columns": null,
            "flex": null,
            "_model_name": "LayoutModel",
            "justify_items": null,
            "grid_row": null,
            "max_height": null,
            "align_content": null,
            "visibility": null,
            "align_self": null,
            "height": null,
            "min_height": null,
            "padding": null,
            "grid_auto_rows": null,
            "grid_gap": null,
            "max_width": null,
            "order": null,
            "_view_module_version": "1.2.0",
            "grid_template_areas": null,
            "object_position": null,
            "object_fit": null,
            "grid_auto_columns": null,
            "margin": null,
            "display": null,
            "left": null
          }
        },
        "21a83e6213d24b4ab2347152443cdbe9": {
          "model_module": "@jupyter-widgets/controls",
          "model_name": "FloatProgressModel",
          "state": {
            "_view_name": "ProgressView",
            "style": "IPY_MODEL_87a0e464ba254e1cb3fe6a7ed09fa687",
            "_dom_classes": [],
            "description": "Downloading: 100%",
            "_model_name": "FloatProgressModel",
            "bar_style": "success",
            "max": 536063208,
            "_view_module": "@jupyter-widgets/controls",
            "_model_module_version": "1.5.0",
            "value": 536063208,
            "_view_count": null,
            "_view_module_version": "1.5.0",
            "orientation": "horizontal",
            "min": 0,
            "description_tooltip": null,
            "_model_module": "@jupyter-widgets/controls",
            "layout": "IPY_MODEL_dc9b8cb5e8d144c0b895d050325e05d0"
          }
        },
        "0d37aa2de7184dc6b3eda1028daa936c": {
          "model_module": "@jupyter-widgets/controls",
          "model_name": "HTMLModel",
          "state": {
            "_view_name": "HTMLView",
            "style": "IPY_MODEL_6612c7d825474ff59cc6a44e603e30a3",
            "_dom_classes": [],
            "description": "",
            "_model_name": "HTMLModel",
            "placeholder": "​",
            "_view_module": "@jupyter-widgets/controls",
            "_model_module_version": "1.5.0",
            "value": " 536M/536M [00:16&lt;00:00, 32.1MB/s]",
            "_view_count": null,
            "_view_module_version": "1.5.0",
            "description_tooltip": null,
            "_model_module": "@jupyter-widgets/controls",
            "layout": "IPY_MODEL_9fb718d9f8b649c1971ffe07549b2045"
          }
        },
        "87a0e464ba254e1cb3fe6a7ed09fa687": {
          "model_module": "@jupyter-widgets/controls",
          "model_name": "ProgressStyleModel",
          "state": {
            "_view_name": "StyleView",
            "_model_name": "ProgressStyleModel",
            "description_width": "initial",
            "_view_module": "@jupyter-widgets/base",
            "_model_module_version": "1.5.0",
            "_view_count": null,
            "_view_module_version": "1.2.0",
            "bar_color": null,
            "_model_module": "@jupyter-widgets/controls"
          }
        },
        "dc9b8cb5e8d144c0b895d050325e05d0": {
          "model_module": "@jupyter-widgets/base",
          "model_name": "LayoutModel",
          "state": {
            "_view_name": "LayoutView",
            "grid_template_rows": null,
            "right": null,
            "justify_content": null,
            "_view_module": "@jupyter-widgets/base",
            "overflow": null,
            "_model_module_version": "1.2.0",
            "_view_count": null,
            "flex_flow": null,
            "width": null,
            "min_width": null,
            "border": null,
            "align_items": null,
            "bottom": null,
            "_model_module": "@jupyter-widgets/base",
            "top": null,
            "grid_column": null,
            "overflow_y": null,
            "overflow_x": null,
            "grid_auto_flow": null,
            "grid_area": null,
            "grid_template_columns": null,
            "flex": null,
            "_model_name": "LayoutModel",
            "justify_items": null,
            "grid_row": null,
            "max_height": null,
            "align_content": null,
            "visibility": null,
            "align_self": null,
            "height": null,
            "min_height": null,
            "padding": null,
            "grid_auto_rows": null,
            "grid_gap": null,
            "max_width": null,
            "order": null,
            "_view_module_version": "1.2.0",
            "grid_template_areas": null,
            "object_position": null,
            "object_fit": null,
            "grid_auto_columns": null,
            "margin": null,
            "display": null,
            "left": null
          }
        },
        "6612c7d825474ff59cc6a44e603e30a3": {
          "model_module": "@jupyter-widgets/controls",
          "model_name": "DescriptionStyleModel",
          "state": {
            "_view_name": "StyleView",
            "_model_name": "DescriptionStyleModel",
            "description_width": "",
            "_view_module": "@jupyter-widgets/base",
            "_model_module_version": "1.5.0",
            "_view_count": null,
            "_view_module_version": "1.2.0",
            "_model_module": "@jupyter-widgets/controls"
          }
        },
        "9fb718d9f8b649c1971ffe07549b2045": {
          "model_module": "@jupyter-widgets/base",
          "model_name": "LayoutModel",
          "state": {
            "_view_name": "LayoutView",
            "grid_template_rows": null,
            "right": null,
            "justify_content": null,
            "_view_module": "@jupyter-widgets/base",
            "overflow": null,
            "_model_module_version": "1.2.0",
            "_view_count": null,
            "flex_flow": null,
            "width": null,
            "min_width": null,
            "border": null,
            "align_items": null,
            "bottom": null,
            "_model_module": "@jupyter-widgets/base",
            "top": null,
            "grid_column": null,
            "overflow_y": null,
            "overflow_x": null,
            "grid_auto_flow": null,
            "grid_area": null,
            "grid_template_columns": null,
            "flex": null,
            "_model_name": "LayoutModel",
            "justify_items": null,
            "grid_row": null,
            "max_height": null,
            "align_content": null,
            "visibility": null,
            "align_self": null,
            "height": null,
            "min_height": null,
            "padding": null,
            "grid_auto_rows": null,
            "grid_gap": null,
            "max_width": null,
            "order": null,
            "_view_module_version": "1.2.0",
            "grid_template_areas": null,
            "object_position": null,
            "object_fit": null,
            "grid_auto_columns": null,
            "margin": null,
            "display": null,
            "left": null
          }
        }
      }
    }
  },
  "cells": [
    {
      "cell_type": "markdown",
      "metadata": {
        "id": "view-in-github",
        "colab_type": "text"
      },
      "source": [
        "<a href=\"https://colab.research.google.com/github/AlexandreBourrieau/ML-F1/blob/master/Carnets%20Jupyter/Ressentis_BERT2.ipynb\" target=\"_parent\"><img src=\"https://colab.research.google.com/assets/colab-badge.svg\" alt=\"Open In Colab\"/></a>"
      ]
    },
    {
      "cell_type": "markdown",
      "metadata": {
        "id": "LJih03NWtfi0"
      },
      "source": [
        "# **Classification de ressentis avec BERT**"
      ]
    },
    {
      "cell_type": "markdown",
      "metadata": {
        "id": "x6Xo1x4rtto8"
      },
      "source": [
        "L'objectif est de créer un modèle qui prend en entrée des commentaires (en Anglais) et attribue à chacun un ressenti positif ou négatif.  \n",
        "Le modèle est composé de deux parties :  \n",
        "* DistilBERT va encoder le commentaire et en extraire des informations qui seront passées ensuite au réseau de neurones.  \n",
        "* Le modèle suivant est un réseau de neurones qui sera créé avec Keras.  \n",
        "\n",
        "<img src=\"https://raw.githubusercontent.com/AlexandreBourrieau/ML-F1/master/Carnets%20Jupyter/Images/StructureBERT.png\" />  \n",
        "  \n",
        "  Les données qui s'échangent entre les deux modèles sont des vecteurs de dimension 768. Ces vecteurs sont l'équivalent de l'application d'un algorithme de prolongation lexicale sur les mots qui composent le commentaire."
      ]
    },
    {
      "cell_type": "markdown",
      "metadata": {
        "id": "gePh7FotwPTH"
      },
      "source": [
        "# **Installation et importation des librairies**\n"
      ]
    },
    {
      "cell_type": "code",
      "metadata": {
        "id": "g5WrrT_pzIHu",
        "outputId": "881dc1d4-60b4-4170-ee63-6072595c3d49",
        "colab": {
          "base_uri": "https://localhost:8080/",
          "height": 102
        }
      },
      "source": [
        "!pip install transformers --quiet"
      ],
      "execution_count": 1,
      "outputs": [
        {
          "output_type": "stream",
          "text": [
            "\u001b[K     |████████████████████████████████| 1.1MB 3.5MB/s \n",
            "\u001b[K     |████████████████████████████████| 1.1MB 17.2MB/s \n",
            "\u001b[K     |████████████████████████████████| 3.0MB 33.5MB/s \n",
            "\u001b[K     |████████████████████████████████| 890kB 42.3MB/s \n",
            "\u001b[?25h  Building wheel for sacremoses (setup.py) ... \u001b[?25l\u001b[?25hdone\n"
          ],
          "name": "stdout"
        }
      ]
    },
    {
      "cell_type": "code",
      "metadata": {
        "id": "L5n4uHtutPlJ"
      },
      "source": [
        "import pandas as pd\n",
        "import numpy as np\n",
        "import tensorflow as tf\n",
        "\n",
        "from tensorflow.keras.layers import Dense, Dropout, Input, Dropout, Lambda\n",
        "from tensorflow.keras import Sequential\n",
        "from tensorflow.keras.models import Model\n",
        "from tensorflow.keras.optimizers import Adam\n",
        "\n",
        "from sklearn.model_selection import train_test_split\n",
        "\n",
        "from transformers import BertConfig\n",
        "from transformers import TFBertModel\n",
        "from transformers import AutoTokenizer\n",
        "\n",
        "import matplotlib.pyplot as plt\n",
        "\n",
        "import random"
      ],
      "execution_count": 2,
      "outputs": []
    },
    {
      "cell_type": "markdown",
      "metadata": {
        "id": "uWZEaivhxTd2"
      },
      "source": [
        "# **Importation des données**\n",
        "\n",
        "On utilise la librairie pandas pour lire les données depuis le fichier csv disponible sur le site de [standford](https://nlp.stanford.edu/sentiment/index.html) qui contient des commentaires sur des films, chacun d'eux avec une note positive (1) ou négative (0)."
      ]
    },
    {
      "cell_type": "code",
      "metadata": {
        "id": "hOrjCZGyyH4P",
        "outputId": "ebe08e4c-9ff6-429a-d303-5991d1ddfabb",
        "colab": {
          "base_uri": "https://localhost:8080/",
          "height": 102
        }
      },
      "source": [
        "# Download data from https://archive.ics.uci.edu/ml/datasets/Sentiment+Labelled+Sentences\n",
        "\n",
        "!wget --quiet \"https://archive.ics.uci.edu/ml/machine-learning-databases/00331/sentiment%20labelled%20sentences.zip\"\n",
        "!unzip -q \"sentiment labelled sentences\"\n",
        "!mv \"sentiment labelled sentences\" data\n",
        "!ls -l data"
      ],
      "execution_count": 3,
      "outputs": [
        {
          "output_type": "stream",
          "text": [
            "total 208\n",
            "-rw-r--r-- 1 root root 58226 Jul  5  2016 amazon_cells_labelled.txt\n",
            "-rw-r--r-- 1 root root 85285 Feb 15  2015 imdb_labelled.txt\n",
            "-rw-r--r-- 1 root root  1070 May 31  2015 readme.txt\n",
            "-rw-r--r-- 1 root root 61320 Jul  5  2016 yelp_labelled.txt\n"
          ],
          "name": "stdout"
        }
      ]
    },
    {
      "cell_type": "code",
      "metadata": {
        "id": "srymcCQw473x",
        "outputId": "9dd1706c-8816-4bbd-d5af-a45d85170325",
        "colab": {
          "base_uri": "https://localhost:8080/",
          "height": 221
        }
      },
      "source": [
        "files = ['data/yelp_labelled.txt', 'data/amazon_cells_labelled.txt', 'data/imdb_labelled.txt']\n",
        "\n",
        "df_list = []\n",
        "for file in files:\n",
        "    df = pd.read_csv(file, names=['comment', 'sentiment'], sep='\\t')\n",
        "    df_list.append(df)\n",
        "\n",
        "data = pd.concat(df_list)\n",
        "data['length'] = data.comment.str.split(' ').str.len()\n",
        "\n",
        "max_seq_length = 200\n",
        "\n",
        "# Keep only short comments\n",
        "shortComments = data[data.length < max_seq_length-5]\n",
        "print('Number of rows: %d' % len(shortComments))\n",
        "\n",
        "shortComments.head()"
      ],
      "execution_count": 4,
      "outputs": [
        {
          "output_type": "stream",
          "text": [
            "Number of rows: 2743\n"
          ],
          "name": "stdout"
        },
        {
          "output_type": "execute_result",
          "data": {
            "text/html": [
              "<div>\n",
              "<style scoped>\n",
              "    .dataframe tbody tr th:only-of-type {\n",
              "        vertical-align: middle;\n",
              "    }\n",
              "\n",
              "    .dataframe tbody tr th {\n",
              "        vertical-align: top;\n",
              "    }\n",
              "\n",
              "    .dataframe thead th {\n",
              "        text-align: right;\n",
              "    }\n",
              "</style>\n",
              "<table border=\"1\" class=\"dataframe\">\n",
              "  <thead>\n",
              "    <tr style=\"text-align: right;\">\n",
              "      <th></th>\n",
              "      <th>comment</th>\n",
              "      <th>sentiment</th>\n",
              "      <th>length</th>\n",
              "    </tr>\n",
              "  </thead>\n",
              "  <tbody>\n",
              "    <tr>\n",
              "      <th>0</th>\n",
              "      <td>Wow... Loved this place.</td>\n",
              "      <td>1</td>\n",
              "      <td>4</td>\n",
              "    </tr>\n",
              "    <tr>\n",
              "      <th>1</th>\n",
              "      <td>Crust is not good.</td>\n",
              "      <td>0</td>\n",
              "      <td>4</td>\n",
              "    </tr>\n",
              "    <tr>\n",
              "      <th>2</th>\n",
              "      <td>Not tasty and the texture was just nasty.</td>\n",
              "      <td>0</td>\n",
              "      <td>8</td>\n",
              "    </tr>\n",
              "    <tr>\n",
              "      <th>3</th>\n",
              "      <td>Stopped by during the late May bank holiday of...</td>\n",
              "      <td>1</td>\n",
              "      <td>15</td>\n",
              "    </tr>\n",
              "    <tr>\n",
              "      <th>4</th>\n",
              "      <td>The selection on the menu was great and so wer...</td>\n",
              "      <td>1</td>\n",
              "      <td>12</td>\n",
              "    </tr>\n",
              "  </tbody>\n",
              "</table>\n",
              "</div>"
            ],
            "text/plain": [
              "                                             comment  sentiment  length\n",
              "0                           Wow... Loved this place.          1       4\n",
              "1                                 Crust is not good.          0       4\n",
              "2          Not tasty and the texture was just nasty.          0       8\n",
              "3  Stopped by during the late May bank holiday of...          1      15\n",
              "4  The selection on the menu was great and so wer...          1      12"
            ]
          },
          "metadata": {
            "tags": []
          },
          "execution_count": 4
        }
      ]
    },
    {
      "cell_type": "code",
      "metadata": {
        "id": "i5H-JyId5P0C"
      },
      "source": [
        "df = shortComments"
      ],
      "execution_count": 5,
      "outputs": []
    },
    {
      "cell_type": "markdown",
      "metadata": {
        "id": "xiO-lNQ6zYpU"
      },
      "source": [
        "Affiche quelques informations :"
      ]
    },
    {
      "cell_type": "code",
      "metadata": {
        "id": "FQT1SwyBzPvP",
        "outputId": "5e0c7e8c-b632-4d76-c9a1-f6629d8bdc5f",
        "colab": {
          "base_uri": "https://localhost:8080/",
          "height": 272
        }
      },
      "source": [
        "print(df[0:10])\n",
        "print(\"Total des données : \", str(len(df)))\n",
        "print(\"Nombre d'avis positifs et négatifs : \",df['sentiment'].value_counts())"
      ],
      "execution_count": 6,
      "outputs": [
        {
          "output_type": "stream",
          "text": [
            "                                             comment  sentiment  length\n",
            "0                           Wow... Loved this place.          1       4\n",
            "1                                 Crust is not good.          0       4\n",
            "2          Not tasty and the texture was just nasty.          0       8\n",
            "3  Stopped by during the late May bank holiday of...          1      15\n",
            "4  The selection on the menu was great and so wer...          1      12\n",
            "5     Now I am getting angry and I want my damn pho.          0      11\n",
            "6              Honeslty it didn't taste THAT fresh.)          0       6\n",
            "7  The potatoes were like rubber and you could te...          0      22\n",
            "8                          The fries were great too.          1       5\n",
            "9                                     A great touch.          1       3\n",
            "Total des données :  2743\n",
            "Nombre d'avis positifs et négatifs :  1    1384\n",
            "0    1359\n",
            "Name: sentiment, dtype: int64\n"
          ],
          "name": "stdout"
        }
      ]
    },
    {
      "cell_type": "markdown",
      "metadata": {
        "id": "n4Vcm5K3Dej4"
      },
      "source": [
        "# **Préparation des données**\n",
        "\n",
        "# Séparation des données d'entrainement et de test \n",
        "On commence par récupérer 75% des données pour l'entrainement, et le reste pour les tests :\n",
        "\n",
        "<img src=\"https://github.com/AlexandreBourrieau/ML-F1/blob/master/Carnets%20Jupyter/Images/SeparationData.png?raw=true\"/>"
      ]
    },
    {
      "cell_type": "code",
      "metadata": {
        "id": "hO4tChea7lRm"
      },
      "source": [
        "TRAIN = 2330 \n",
        "TEST = 2743\n",
        "commentaires = shortComments.comment.astype(str).tolist()\n",
        "ressentis = shortComments.sentiment.tolist()\n",
        "labels = np.asarray(ressentis)\n",
        "\n",
        "x_entrainement = commentaires[0:TRAIN]\n",
        "y_entrainement = labels[0:TRAIN]\n",
        "x_test = commentaires[TRAIN:TEST]\n",
        "y_test = labels[TRAIN:TEST]"
      ],
      "execution_count": 80,
      "outputs": []
    },
    {
      "cell_type": "code",
      "metadata": {
        "id": "wQvjMUfz8FUC",
        "outputId": "5eb78adf-5ae3-4723-da3a-5b99ebbba05a",
        "colab": {
          "base_uri": "https://localhost:8080/",
          "height": 51
        }
      },
      "source": [
        "print(x_entrainement[0])\n",
        "print(x_test[0])"
      ],
      "execution_count": 8,
      "outputs": [
        {
          "output_type": "stream",
          "text": [
            "Wow... Loved this place.\n",
            "steve martin delivers a really funny performance of a middle-aged, upper class, uptight white guy.  \n"
          ],
          "name": "stdout"
        }
      ]
    },
    {
      "cell_type": "markdown",
      "metadata": {
        "id": "QDDdUWj83wuz"
      },
      "source": [
        "# Tokénisation  \n",
        "La première étape est de tokéniser les commentaires : les mots sont décomposés en index numériques au format BERT.  \n",
        "\n",
        "<img src=\"https://github.com/AlexandreBourrieau/ML-F1/blob/master/Carnets%20Jupyter/Images/TokenizeBERT.png?raw=true\"/>\n",
        "\n",
        "Après tokénisation, on obtient une liste de séquences et chaque séquence représente une liste d'index. On souhaite que BERT analyse toutes les séquences en une seule fois (ce qui est plus rapide). Il faut donc que toutes les séquences aient la même taille. On va donc ajouter du bourrage pour égaliser la longueur des séquences. Cela est indiqué avec le paramètre `padding='True'`.  \n",
        "Lorsque un bourrage est ajouté, il faut que BERT ne prenne pas en compte les mots à cette position (car il n'y en a pas !). Cette restriction est réalisé grace à l'`attention_mask`"
      ]
    },
    {
      "cell_type": "code",
      "metadata": {
        "id": "yHhqUPeiqzam",
        "outputId": "fe95c61d-85d6-4534-dd59-f42661f64beb",
        "colab": {
          "base_uri": "https://localhost:8080/",
          "height": 115,
          "referenced_widgets": [
            "b8572d5b095a4ea0b6c1c68d33e6db34",
            "a79187dea63a42e695089ac90437ff17",
            "36f1cc196b384604b48bce2ebc1c6f8a",
            "cefc8ef4bfeb4ca1aeb55891680b2688",
            "36ac2f9ae9c4404e83c8d7f2185e78cd",
            "d07f4470ed8c430183040c3f9d820f3b",
            "34ccf1ae02114dd7ae61933fad3380fb",
            "82387f9037b24cf88d52b89ce30aaa7e",
            "7e02b13b248143339925c7c710c0922b",
            "30ce801a54c34f4abfd668c6fc2553cb",
            "27125278590d4054ade06807eef9f206",
            "82ecd9a299af41b1aeb89d9eb1c171ab",
            "6c2808fc71ce4409932d8ea3023191da",
            "83243f675d25459aa9c7afb15ab65058",
            "1fcbacd9f2724667a42541c08861caee",
            "7ea60b96be5840dda36b3bca32aa8f7e"
          ]
        }
      },
      "source": [
        "LONGUEUR_MAX_COMMENTAIRE = 200\n",
        "\n",
        "# Instanciation du tokeniseur\n",
        "tokenizer = AutoTokenizer.from_pretrained('bert-base-uncased')\n",
        "\n",
        "# Préparation des données d'entrainement\n",
        "output_tokenizer_entrainement = tokenizer(x_entrainement,max_length=LONGUEUR_MAX_COMMENTAIRE, padding='max_length', truncation=True, return_tensors='tf',add_special_tokens=True)\n",
        "\n",
        "# Préparation des données de tests\n",
        "output_tokenizer_tests = tokenizer(x_test,max_length=LONGUEUR_MAX_COMMENTAIRE, padding='max_length', truncation=True, return_tensors='tf',add_special_tokens=True)"
      ],
      "execution_count": 9,
      "outputs": [
        {
          "output_type": "display_data",
          "data": {
            "application/vnd.jupyter.widget-view+json": {
              "model_id": "b8572d5b095a4ea0b6c1c68d33e6db34",
              "version_minor": 0,
              "version_major": 2
            },
            "text/plain": [
              "HBox(children=(FloatProgress(value=0.0, description='Downloading', max=433.0, style=ProgressStyle(description_…"
            ]
          },
          "metadata": {
            "tags": []
          }
        },
        {
          "output_type": "stream",
          "text": [
            "\n"
          ],
          "name": "stdout"
        },
        {
          "output_type": "display_data",
          "data": {
            "application/vnd.jupyter.widget-view+json": {
              "model_id": "7e02b13b248143339925c7c710c0922b",
              "version_minor": 0,
              "version_major": 2
            },
            "text/plain": [
              "HBox(children=(FloatProgress(value=0.0, description='Downloading', max=231508.0, style=ProgressStyle(descripti…"
            ]
          },
          "metadata": {
            "tags": []
          }
        },
        {
          "output_type": "stream",
          "text": [
            "\n"
          ],
          "name": "stdout"
        }
      ]
    },
    {
      "cell_type": "markdown",
      "metadata": {
        "id": "kzboG3fX5LkP"
      },
      "source": [
        "Regardons un peu comment sont formatées les données en sortie du tokéniseur :"
      ]
    },
    {
      "cell_type": "code",
      "metadata": {
        "id": "CPKJQ1ny-k3S",
        "outputId": "96e35663-0946-48ad-af57-46ee3908ac17",
        "colab": {
          "base_uri": "https://localhost:8080/",
          "height": 391
        }
      },
      "source": [
        "output_tokenizer_entrainement"
      ],
      "execution_count": 10,
      "outputs": [
        {
          "output_type": "execute_result",
          "data": {
            "text/plain": [
              "{'input_ids': <tf.Tensor: shape=(2330, 200), dtype=int32, numpy=\n",
              "array([[  101, 10166,  1012, ...,     0,     0,     0],\n",
              "       [  101, 19116,  2003, ...,     0,     0,     0],\n",
              "       [  101,  2025, 11937, ...,     0,     0,     0],\n",
              "       ...,\n",
              "       [  101,  1006,  2200, ...,     0,     0,     0],\n",
              "       [  101,  2045,  2024, ...,     0,     0,     0],\n",
              "       [  101,  1996,  3459, ...,     0,     0,     0]], dtype=int32)>, 'token_type_ids': <tf.Tensor: shape=(2330, 200), dtype=int32, numpy=\n",
              "array([[0, 0, 0, ..., 0, 0, 0],\n",
              "       [0, 0, 0, ..., 0, 0, 0],\n",
              "       [0, 0, 0, ..., 0, 0, 0],\n",
              "       ...,\n",
              "       [0, 0, 0, ..., 0, 0, 0],\n",
              "       [0, 0, 0, ..., 0, 0, 0],\n",
              "       [0, 0, 0, ..., 0, 0, 0]], dtype=int32)>, 'attention_mask': <tf.Tensor: shape=(2330, 200), dtype=int32, numpy=\n",
              "array([[1, 1, 1, ..., 0, 0, 0],\n",
              "       [1, 1, 1, ..., 0, 0, 0],\n",
              "       [1, 1, 1, ..., 0, 0, 0],\n",
              "       ...,\n",
              "       [1, 1, 1, ..., 0, 0, 0],\n",
              "       [1, 1, 1, ..., 0, 0, 0],\n",
              "       [1, 1, 1, ..., 0, 0, 0]], dtype=int32)>}"
            ]
          },
          "metadata": {
            "tags": []
          },
          "execution_count": 10
        }
      ]
    },
    {
      "cell_type": "code",
      "metadata": {
        "id": "_0BL0iiKzVS7",
        "outputId": "fe7aa1a7-fe4c-42a7-83d3-e58f15f72407",
        "colab": {
          "base_uri": "https://localhost:8080/",
          "height": 561
        }
      },
      "source": [
        "print(output_tokenizer_entrainement['input_ids'][0,:])\n",
        "print(output_tokenizer_entrainement['attention_mask'][0,:])\n",
        "print(output_tokenizer_entrainement['token_type_ids'][0,:])"
      ],
      "execution_count": 11,
      "outputs": [
        {
          "output_type": "stream",
          "text": [
            "tf.Tensor(\n",
            "[  101 10166  1012  1012  1012  3866  2023  2173  1012   102     0     0\n",
            "     0     0     0     0     0     0     0     0     0     0     0     0\n",
            "     0     0     0     0     0     0     0     0     0     0     0     0\n",
            "     0     0     0     0     0     0     0     0     0     0     0     0\n",
            "     0     0     0     0     0     0     0     0     0     0     0     0\n",
            "     0     0     0     0     0     0     0     0     0     0     0     0\n",
            "     0     0     0     0     0     0     0     0     0     0     0     0\n",
            "     0     0     0     0     0     0     0     0     0     0     0     0\n",
            "     0     0     0     0     0     0     0     0     0     0     0     0\n",
            "     0     0     0     0     0     0     0     0     0     0     0     0\n",
            "     0     0     0     0     0     0     0     0     0     0     0     0\n",
            "     0     0     0     0     0     0     0     0     0     0     0     0\n",
            "     0     0     0     0     0     0     0     0     0     0     0     0\n",
            "     0     0     0     0     0     0     0     0     0     0     0     0\n",
            "     0     0     0     0     0     0     0     0     0     0     0     0\n",
            "     0     0     0     0     0     0     0     0     0     0     0     0\n",
            "     0     0     0     0     0     0     0     0], shape=(200,), dtype=int32)\n",
            "tf.Tensor(\n",
            "[1 1 1 1 1 1 1 1 1 1 0 0 0 0 0 0 0 0 0 0 0 0 0 0 0 0 0 0 0 0 0 0 0 0 0 0 0\n",
            " 0 0 0 0 0 0 0 0 0 0 0 0 0 0 0 0 0 0 0 0 0 0 0 0 0 0 0 0 0 0 0 0 0 0 0 0 0\n",
            " 0 0 0 0 0 0 0 0 0 0 0 0 0 0 0 0 0 0 0 0 0 0 0 0 0 0 0 0 0 0 0 0 0 0 0 0 0\n",
            " 0 0 0 0 0 0 0 0 0 0 0 0 0 0 0 0 0 0 0 0 0 0 0 0 0 0 0 0 0 0 0 0 0 0 0 0 0\n",
            " 0 0 0 0 0 0 0 0 0 0 0 0 0 0 0 0 0 0 0 0 0 0 0 0 0 0 0 0 0 0 0 0 0 0 0 0 0\n",
            " 0 0 0 0 0 0 0 0 0 0 0 0 0 0 0], shape=(200,), dtype=int32)\n",
            "tf.Tensor(\n",
            "[0 0 0 0 0 0 0 0 0 0 0 0 0 0 0 0 0 0 0 0 0 0 0 0 0 0 0 0 0 0 0 0 0 0 0 0 0\n",
            " 0 0 0 0 0 0 0 0 0 0 0 0 0 0 0 0 0 0 0 0 0 0 0 0 0 0 0 0 0 0 0 0 0 0 0 0 0\n",
            " 0 0 0 0 0 0 0 0 0 0 0 0 0 0 0 0 0 0 0 0 0 0 0 0 0 0 0 0 0 0 0 0 0 0 0 0 0\n",
            " 0 0 0 0 0 0 0 0 0 0 0 0 0 0 0 0 0 0 0 0 0 0 0 0 0 0 0 0 0 0 0 0 0 0 0 0 0\n",
            " 0 0 0 0 0 0 0 0 0 0 0 0 0 0 0 0 0 0 0 0 0 0 0 0 0 0 0 0 0 0 0 0 0 0 0 0 0\n",
            " 0 0 0 0 0 0 0 0 0 0 0 0 0 0 0], shape=(200,), dtype=int32)\n"
          ],
          "name": "stdout"
        }
      ]
    },
    {
      "cell_type": "code",
      "metadata": {
        "id": "Upopsuvz-v_R",
        "outputId": "844e1c72-50b7-417c-f66e-4aec06e4d76d",
        "colab": {
          "base_uri": "https://localhost:8080/",
          "height": 554
        }
      },
      "source": [
        "print(output_tokenizer_tests['input_ids'][0,:])\n",
        "print(output_tokenizer_tests['attention_mask'][0,:])\n",
        "print(output_tokenizer_tests['token_type_ids'][0,:])"
      ],
      "execution_count": null,
      "outputs": [
        {
          "output_type": "stream",
          "text": [
            "tf.Tensor(\n",
            "[  101  3889  3235 18058  1037  2428  6057  2836  1997  1037  2690  1011\n",
            "  4793  1010  3356  2465  1010  2039 26143  2317  3124  1012   102     0\n",
            "     0     0     0     0     0     0     0     0     0     0     0     0\n",
            "     0     0     0     0     0     0     0     0     0     0     0     0\n",
            "     0     0     0     0     0     0     0     0     0     0     0     0\n",
            "     0     0     0     0     0     0     0     0     0     0     0     0\n",
            "     0     0     0     0     0     0     0     0     0     0     0     0\n",
            "     0     0     0     0     0     0     0     0     0     0     0     0\n",
            "     0     0     0     0     0     0     0     0     0     0     0     0\n",
            "     0     0     0     0     0     0     0     0     0     0     0     0\n",
            "     0     0     0     0     0     0     0     0     0     0     0     0\n",
            "     0     0     0     0     0     0     0     0     0     0     0     0\n",
            "     0     0     0     0     0     0     0     0     0     0     0     0\n",
            "     0     0     0     0     0     0     0     0     0     0     0     0\n",
            "     0     0     0     0     0     0     0     0     0     0     0     0\n",
            "     0     0     0     0     0     0     0     0     0     0     0     0\n",
            "     0     0     0     0     0     0     0     0], shape=(200,), dtype=int32)\n",
            "tf.Tensor(\n",
            "[1 1 1 1 1 1 1 1 1 1 1 1 1 1 1 1 1 1 1 1 1 1 1 0 0 0 0 0 0 0 0 0 0 0 0 0 0\n",
            " 0 0 0 0 0 0 0 0 0 0 0 0 0 0 0 0 0 0 0 0 0 0 0 0 0 0 0 0 0 0 0 0 0 0 0 0 0\n",
            " 0 0 0 0 0 0 0 0 0 0 0 0 0 0 0 0 0 0 0 0 0 0 0 0 0 0 0 0 0 0 0 0 0 0 0 0 0\n",
            " 0 0 0 0 0 0 0 0 0 0 0 0 0 0 0 0 0 0 0 0 0 0 0 0 0 0 0 0 0 0 0 0 0 0 0 0 0\n",
            " 0 0 0 0 0 0 0 0 0 0 0 0 0 0 0 0 0 0 0 0 0 0 0 0 0 0 0 0 0 0 0 0 0 0 0 0 0\n",
            " 0 0 0 0 0 0 0 0 0 0 0 0 0 0 0], shape=(200,), dtype=int32)\n",
            "tf.Tensor(\n",
            "[0 0 0 0 0 0 0 0 0 0 0 0 0 0 0 0 0 0 0 0 0 0 0 0 0 0 0 0 0 0 0 0 0 0 0 0 0\n",
            " 0 0 0 0 0 0 0 0 0 0 0 0 0 0 0 0 0 0 0 0 0 0 0 0 0 0 0 0 0 0 0 0 0 0 0 0 0\n",
            " 0 0 0 0 0 0 0 0 0 0 0 0 0 0 0 0 0 0 0 0 0 0 0 0 0 0 0 0 0 0 0 0 0 0 0 0 0\n",
            " 0 0 0 0 0 0 0 0 0 0 0 0 0 0 0 0 0 0 0 0 0 0 0 0 0 0 0 0 0 0 0 0 0 0 0 0 0\n",
            " 0 0 0 0 0 0 0 0 0 0 0 0 0 0 0 0 0 0 0 0 0 0 0 0 0 0 0 0 0 0 0 0 0 0 0 0 0\n",
            " 0 0 0 0 0 0 0 0 0 0 0 0 0 0 0], shape=(200,), dtype=int32)\n"
          ],
          "name": "stdout"
        }
      ]
    },
    {
      "cell_type": "markdown",
      "metadata": {
        "id": "fejN7ZrzzaOu"
      },
      "source": [
        "Regardons comment le premier commentaire a été encodé :"
      ]
    },
    {
      "cell_type": "code",
      "metadata": {
        "id": "Q-E6oJcG5Qlj",
        "outputId": "07693fe8-a2b9-49ca-d3fc-2c59905ff55a",
        "colab": {
          "base_uri": "https://localhost:8080/",
          "height": 454
        }
      },
      "source": [
        "print(\"Commentaire original :\", x_entrainement[0])\n",
        "print(\"input_ids: \", output_tokenizer_entrainement['input_ids'][0,:])\n",
        "print(\"attention_mask: \", output_tokenizer_entrainement['attention_mask'][0,:])\n",
        "print(\"input_ids: \", output_tokenizer_entrainement['attention_mask'][0,:])\n"
      ],
      "execution_count": null,
      "outputs": [
        {
          "output_type": "stream",
          "text": [
            "Commentaire original : Wow... Loved this place.\n",
            "input_ids:  tf.Tensor(\n",
            "[  101 10166  1012  1012  1012  3866  2023  2173  1012   102     0     0\n",
            "     0     0     0     0     0     0     0     0     0     0     0     0\n",
            "     0     0     0     0     0     0     0     0     0     0     0     0\n",
            "     0     0     0     0     0     0     0     0     0     0     0     0\n",
            "     0     0     0     0     0     0     0     0     0     0     0     0\n",
            "     0     0     0     0     0     0     0     0     0     0     0     0\n",
            "     0     0     0     0     0     0     0     0     0     0     0     0\n",
            "     0     0     0     0     0     0     0     0     0     0     0     0\n",
            "     0     0     0     0     0     0     0     0     0     0     0     0\n",
            "     0     0     0     0     0     0     0     0     0     0     0     0\n",
            "     0     0     0     0     0     0     0     0     0     0     0     0\n",
            "     0     0     0     0     0     0     0     0     0     0     0     0\n",
            "     0     0     0     0     0     0     0     0     0     0     0     0\n",
            "     0     0     0     0     0     0     0     0     0     0     0     0\n",
            "     0     0     0     0     0     0     0     0     0     0     0     0\n",
            "     0     0     0     0     0     0     0     0     0     0     0     0\n",
            "     0     0     0     0     0     0     0     0], shape=(200,), dtype=int32)\n",
            "attention_mask:  tf.Tensor(\n",
            "[1 1 1 1 1 1 1 1 1 1 0 0 0 0 0 0 0 0 0 0 0 0 0 0 0 0 0 0 0 0 0 0 0 0 0 0 0\n",
            " 0 0 0 0 0 0 0 0 0 0 0 0 0 0 0 0 0 0 0 0 0 0 0 0 0 0 0 0 0 0 0 0 0 0 0 0 0\n",
            " 0 0 0 0 0 0 0 0 0 0 0 0 0 0 0 0 0 0 0 0 0 0 0 0 0 0 0 0 0 0 0 0 0 0 0 0 0\n",
            " 0 0 0 0 0 0 0 0 0 0 0 0 0 0 0 0 0 0 0 0 0 0 0 0 0 0 0 0 0 0 0 0 0 0 0 0 0\n",
            " 0 0 0 0 0 0 0 0 0 0 0 0 0 0 0 0 0 0 0 0 0 0 0 0 0 0 0 0 0 0 0 0 0 0 0 0 0\n",
            " 0 0 0 0 0 0 0 0 0 0 0 0 0 0 0], shape=(200,), dtype=int32)\n"
          ],
          "name": "stdout"
        }
      ]
    },
    {
      "cell_type": "markdown",
      "metadata": {
        "id": "xAmGZYP86Hx7"
      },
      "source": [
        "print(\"attention_mask: \", output_tokenizer_entrainement['attention_mask'][0,:])\n",
        "Regardons les 5 premiers résultats de la tokénisation : On peut identifier les mot-clés **[CLS]** (valeur : 101) et **[SEP]** (valeur : 102)"
      ]
    },
    {
      "cell_type": "code",
      "metadata": {
        "id": "WWVaSBqo59qW",
        "outputId": "9cf06f11-c37a-484f-c414-787667430d88",
        "colab": {
          "base_uri": "https://localhost:8080/",
          "height": 867
        }
      },
      "source": [
        "for i in range (0,5):\n",
        "  print(output_tokenizer_entrainement['input_ids'][i])"
      ],
      "execution_count": null,
      "outputs": [
        {
          "output_type": "stream",
          "text": [
            "tf.Tensor(\n",
            "[  101  2062  1997  1996  2168  2214 13044  5365  2038  2042  2667  2000\n",
            "  3413  2125  2004 11701  9458  4024  2005  2070  2051  2085   102     0\n",
            "     0     0     0     0     0     0     0     0     0     0     0     0\n",
            "     0     0     0     0     0     0     0     0     0     0     0     0\n",
            "     0     0     0     0     0     0     0     0     0     0     0     0\n",
            "     0     0     0     0     0     0     0     0     0     0     0     0\n",
            "     0     0     0     0     0     0     0     0     0     0     0     0\n",
            "     0     0     0     0     0     0     0     0     0     0     0     0\n",
            "     0     0     0     0], shape=(100,), dtype=int32)\n",
            "tf.Tensor(\n",
            "[ 101 4299 2100 9378 2100  102    0    0    0    0    0    0    0    0\n",
            "    0    0    0    0    0    0    0    0    0    0    0    0    0    0\n",
            "    0    0    0    0    0    0    0    0    0    0    0    0    0    0\n",
            "    0    0    0    0    0    0    0    0    0    0    0    0    0    0\n",
            "    0    0    0    0    0    0    0    0    0    0    0    0    0    0\n",
            "    0    0    0    0    0    0    0    0    0    0    0    0    0    0\n",
            "    0    0    0    0    0    0    0    0    0    0    0    0    0    0\n",
            "    0    0], shape=(100,), dtype=int32)\n",
            "tf.Tensor(\n",
            "[  101  2000  2488  3305  2339  2023  2106  1050  1005  1056  7532  2007\n",
            "  2033  2052  5478  2178 10523  1010  1998  1045 24185  1050  1005  1056\n",
            "  2022  3564  2083  2023  2028  2153  2008  1999  2993  2003  8570  2438\n",
            "   102     0     0     0     0     0     0     0     0     0     0     0\n",
            "     0     0     0     0     0     0     0     0     0     0     0     0\n",
            "     0     0     0     0     0     0     0     0     0     0     0     0\n",
            "     0     0     0     0     0     0     0     0     0     0     0     0\n",
            "     0     0     0     0     0     0     0     0     0     0     0     0\n",
            "     0     0     0     0], shape=(100,), dtype=int32)\n",
            "tf.Tensor(\n",
            "[  101  2009  3957  3532 11271  2482 12417  2498  2000  2079  2008  2003\n",
            "  2428  6057  1010  1998  2059 24273  2149  2000  4756  2138  2002  4490\n",
            "  2061 27243  2035  1996  2051   102     0     0     0     0     0     0\n",
            "     0     0     0     0     0     0     0     0     0     0     0     0\n",
            "     0     0     0     0     0     0     0     0     0     0     0     0\n",
            "     0     0     0     0     0     0     0     0     0     0     0     0\n",
            "     0     0     0     0     0     0     0     0     0     0     0     0\n",
            "     0     0     0     0     0     0     0     0     0     0     0     0\n",
            "     0     0     0     0], shape=(100,), dtype=int32)\n",
            "tf.Tensor(\n",
            "[  101  2066  1037 11478  2990  1051  1005 12856  1010  2049  6835 18874\n",
            "  2003  5173  2013  1037  8840 18384 16940  1010  2383  2018  2035  2049\n",
            "  8995 11305 20804  2041  1998 15105   102     0     0     0     0     0\n",
            "     0     0     0     0     0     0     0     0     0     0     0     0\n",
            "     0     0     0     0     0     0     0     0     0     0     0     0\n",
            "     0     0     0     0     0     0     0     0     0     0     0     0\n",
            "     0     0     0     0     0     0     0     0     0     0     0     0\n",
            "     0     0     0     0     0     0     0     0     0     0     0     0\n",
            "     0     0     0     0], shape=(100,), dtype=int32)\n"
          ],
          "name": "stdout"
        }
      ]
    },
    {
      "cell_type": "markdown",
      "metadata": {
        "id": "Vakqzatl3le0"
      },
      "source": [
        "# **Définition et utilisation du modèle distilBERT avec Keras**"
      ]
    },
    {
      "cell_type": "markdown",
      "metadata": {
        "id": "uE_TEftF1OCf"
      },
      "source": [
        "Les données d'entrées étant maintenant correctement préparées, commençons par définir le modèle distilBERT pour ensuite l'appliquer aux données afin de réaliser l'opération de prolongation lexicale.  \n",
        "\n",
        "<img src=\"https://github.com/AlexandreBourrieau/ML-F1/blob/master/Carnets%20Jupyter/Images/DistilBERT_process.png?raw=true\"/>  \n",
        "La fonction `model()` permet d'exécuter le modèle sur les séquences d'entrées."
      ]
    },
    {
      "cell_type": "code",
      "metadata": {
        "id": "38a0wigo18Zg",
        "outputId": "3c5dd9b3-af5e-452c-d2ae-bb4694542a90",
        "colab": {
          "base_uri": "https://localhost:8080/",
          "height": 171,
          "referenced_widgets": [
            "a1290365ad9e44cda1b4cf4256e0638a",
            "d5c13b809e954ea0ae5f0a5417a33c72",
            "21a83e6213d24b4ab2347152443cdbe9",
            "0d37aa2de7184dc6b3eda1028daa936c",
            "87a0e464ba254e1cb3fe6a7ed09fa687",
            "dc9b8cb5e8d144c0b895d050325e05d0",
            "6612c7d825474ff59cc6a44e603e30a3",
            "9fb718d9f8b649c1971ffe07549b2045"
          ]
        }
      },
      "source": [
        "# Configuration du modèle distilBERT\n",
        "config = BertConfig(num_labels=1)           # 1 label\n",
        "config.output_hidden_states = False               # Ne récupère pas la totalité des couches mais uniquement la dernière\n",
        "config.output_attentions = False\n",
        "\n",
        "# Instanciation du modèle distilBERT\n",
        "transformer_model = TFBertModel.from_pretrained('bert-base-uncased', config = config)\n",
        "\n",
        "# Défintion du format des entrées du modèle\n",
        "entrees_ids = tf.keras.layers.Input(shape=(LONGUEUR_MAX_COMMENTAIRE,), name='input_token', dtype='int32')\n",
        "entrees_masks = tf.keras.layers.Input(shape=(LONGUEUR_MAX_COMMENTAIRE,), name='masked_token', dtype='int32') \n",
        "entrees_type_ids = tf.keras.layers.Input(shape=(LONGUEUR_MAX_COMMENTAIRE,), name='segment_ids', dtype='int32') \n",
        "\n",
        "\n",
        "# Création de la sortie du modèle\n",
        "sequence_output, pooled_output  = transformer_model(entrees_ids, attention_mask=entrees_masks, token_type_ids=entrees_type_ids)"
      ],
      "execution_count": 12,
      "outputs": [
        {
          "output_type": "display_data",
          "data": {
            "application/vnd.jupyter.widget-view+json": {
              "model_id": "a1290365ad9e44cda1b4cf4256e0638a",
              "version_minor": 0,
              "version_major": 2
            },
            "text/plain": [
              "HBox(children=(FloatProgress(value=0.0, description='Downloading', max=536063208.0, style=ProgressStyle(descri…"
            ]
          },
          "metadata": {
            "tags": []
          }
        },
        {
          "output_type": "stream",
          "text": [
            "\n"
          ],
          "name": "stdout"
        },
        {
          "output_type": "stream",
          "text": [
            "Some weights of the model checkpoint at bert-base-uncased were not used when initializing TFBertModel: ['mlm___cls', 'nsp___cls']\n",
            "- This IS expected if you are initializing TFBertModel from the checkpoint of a model trained on another task or with another architecture (e.g. initializing a BertForSequenceClassification model from a BertForPretraining model).\n",
            "- This IS NOT expected if you are initializing TFBertModel from the checkpoint of a model that you expect to be exactly identical (initializing a BertForSequenceClassification model from a BertForSequenceClassification model).\n",
            "All the weights of TFBertModel were initialized from the model checkpoint at bert-base-uncased.\n",
            "If your task is similar to the task the model of the checkpoint was trained on, you can already use TFBertModel for predictions without further training.\n"
          ],
          "name": "stderr"
        }
      ]
    },
    {
      "cell_type": "code",
      "metadata": {
        "id": "Zv9Yata4FYPR",
        "outputId": "2d4050be-35a8-43c7-92b7-09320612ab14",
        "colab": {
          "base_uri": "https://localhost:8080/",
          "height": 323
        }
      },
      "source": [
        "model_BERT = tf.keras.Model(inputs=[entrees_ids, entrees_masks,entrees_type_ids], outputs = sequence_output,trainable=False)\n",
        "model_BERT.summary()"
      ],
      "execution_count": 13,
      "outputs": [
        {
          "output_type": "stream",
          "text": [
            "Model: \"functional_1\"\n",
            "__________________________________________________________________________________________________\n",
            "Layer (type)                    Output Shape         Param #     Connected to                     \n",
            "==================================================================================================\n",
            "input_token (InputLayer)        [(None, 200)]        0                                            \n",
            "__________________________________________________________________________________________________\n",
            "masked_token (InputLayer)       [(None, 200)]        0                                            \n",
            "__________________________________________________________________________________________________\n",
            "segment_ids (InputLayer)        [(None, 200)]        0                                            \n",
            "__________________________________________________________________________________________________\n",
            "tf_bert_model (TFBertModel)     ((None, 200, 768), ( 109482240   input_token[0][0]                \n",
            "                                                                 masked_token[0][0]               \n",
            "                                                                 segment_ids[0][0]                \n",
            "==================================================================================================\n",
            "Total params: 109,482,240\n",
            "Trainable params: 0\n",
            "Non-trainable params: 109,482,240\n",
            "__________________________________________________________________________________________________\n"
          ],
          "name": "stdout"
        }
      ]
    },
    {
      "cell_type": "code",
      "metadata": {
        "id": "R6HVLZ5DIl6D",
        "outputId": "bf70b22a-a947-4311-e80f-eed39415cad9",
        "colab": {
          "base_uri": "https://localhost:8080/",
          "height": 1000
        }
      },
      "source": [
        "output_tokenizer_entrainement['input_ids'][0:MAX,:]"
      ],
      "execution_count": 100,
      "outputs": [
        {
          "output_type": "execute_result",
          "data": {
            "text/plain": [
              "<tf.Tensor: shape=(5, 200), dtype=int32, numpy=\n",
              "array([[  101, 10166,  1012,  1012,  1012,  3866,  2023,  2173,  1012,\n",
              "          102,     0,     0,     0,     0,     0,     0,     0,     0,\n",
              "            0,     0,     0,     0,     0,     0,     0,     0,     0,\n",
              "            0,     0,     0,     0,     0,     0,     0,     0,     0,\n",
              "            0,     0,     0,     0,     0,     0,     0,     0,     0,\n",
              "            0,     0,     0,     0,     0,     0,     0,     0,     0,\n",
              "            0,     0,     0,     0,     0,     0,     0,     0,     0,\n",
              "            0,     0,     0,     0,     0,     0,     0,     0,     0,\n",
              "            0,     0,     0,     0,     0,     0,     0,     0,     0,\n",
              "            0,     0,     0,     0,     0,     0,     0,     0,     0,\n",
              "            0,     0,     0,     0,     0,     0,     0,     0,     0,\n",
              "            0,     0,     0,     0,     0,     0,     0,     0,     0,\n",
              "            0,     0,     0,     0,     0,     0,     0,     0,     0,\n",
              "            0,     0,     0,     0,     0,     0,     0,     0,     0,\n",
              "            0,     0,     0,     0,     0,     0,     0,     0,     0,\n",
              "            0,     0,     0,     0,     0,     0,     0,     0,     0,\n",
              "            0,     0,     0,     0,     0,     0,     0,     0,     0,\n",
              "            0,     0,     0,     0,     0,     0,     0,     0,     0,\n",
              "            0,     0,     0,     0,     0,     0,     0,     0,     0,\n",
              "            0,     0,     0,     0,     0,     0,     0,     0,     0,\n",
              "            0,     0,     0,     0,     0,     0,     0,     0,     0,\n",
              "            0,     0,     0,     0,     0,     0,     0,     0,     0,\n",
              "            0,     0],\n",
              "       [  101, 19116,  2003,  2025,  2204,  1012,   102,     0,     0,\n",
              "            0,     0,     0,     0,     0,     0,     0,     0,     0,\n",
              "            0,     0,     0,     0,     0,     0,     0,     0,     0,\n",
              "            0,     0,     0,     0,     0,     0,     0,     0,     0,\n",
              "            0,     0,     0,     0,     0,     0,     0,     0,     0,\n",
              "            0,     0,     0,     0,     0,     0,     0,     0,     0,\n",
              "            0,     0,     0,     0,     0,     0,     0,     0,     0,\n",
              "            0,     0,     0,     0,     0,     0,     0,     0,     0,\n",
              "            0,     0,     0,     0,     0,     0,     0,     0,     0,\n",
              "            0,     0,     0,     0,     0,     0,     0,     0,     0,\n",
              "            0,     0,     0,     0,     0,     0,     0,     0,     0,\n",
              "            0,     0,     0,     0,     0,     0,     0,     0,     0,\n",
              "            0,     0,     0,     0,     0,     0,     0,     0,     0,\n",
              "            0,     0,     0,     0,     0,     0,     0,     0,     0,\n",
              "            0,     0,     0,     0,     0,     0,     0,     0,     0,\n",
              "            0,     0,     0,     0,     0,     0,     0,     0,     0,\n",
              "            0,     0,     0,     0,     0,     0,     0,     0,     0,\n",
              "            0,     0,     0,     0,     0,     0,     0,     0,     0,\n",
              "            0,     0,     0,     0,     0,     0,     0,     0,     0,\n",
              "            0,     0,     0,     0,     0,     0,     0,     0,     0,\n",
              "            0,     0,     0,     0,     0,     0,     0,     0,     0,\n",
              "            0,     0,     0,     0,     0,     0,     0,     0,     0,\n",
              "            0,     0],\n",
              "       [  101,  2025, 11937, 21756,  1998,  1996, 14902,  2001,  2074,\n",
              "        11808,  1012,   102,     0,     0,     0,     0,     0,     0,\n",
              "            0,     0,     0,     0,     0,     0,     0,     0,     0,\n",
              "            0,     0,     0,     0,     0,     0,     0,     0,     0,\n",
              "            0,     0,     0,     0,     0,     0,     0,     0,     0,\n",
              "            0,     0,     0,     0,     0,     0,     0,     0,     0,\n",
              "            0,     0,     0,     0,     0,     0,     0,     0,     0,\n",
              "            0,     0,     0,     0,     0,     0,     0,     0,     0,\n",
              "            0,     0,     0,     0,     0,     0,     0,     0,     0,\n",
              "            0,     0,     0,     0,     0,     0,     0,     0,     0,\n",
              "            0,     0,     0,     0,     0,     0,     0,     0,     0,\n",
              "            0,     0,     0,     0,     0,     0,     0,     0,     0,\n",
              "            0,     0,     0,     0,     0,     0,     0,     0,     0,\n",
              "            0,     0,     0,     0,     0,     0,     0,     0,     0,\n",
              "            0,     0,     0,     0,     0,     0,     0,     0,     0,\n",
              "            0,     0,     0,     0,     0,     0,     0,     0,     0,\n",
              "            0,     0,     0,     0,     0,     0,     0,     0,     0,\n",
              "            0,     0,     0,     0,     0,     0,     0,     0,     0,\n",
              "            0,     0,     0,     0,     0,     0,     0,     0,     0,\n",
              "            0,     0,     0,     0,     0,     0,     0,     0,     0,\n",
              "            0,     0,     0,     0,     0,     0,     0,     0,     0,\n",
              "            0,     0,     0,     0,     0,     0,     0,     0,     0,\n",
              "            0,     0],\n",
              "       [  101,  3030,  2011,  2076,  1996,  2397,  2089,  2924,  6209,\n",
              "         2125,  6174,  3889, 12832,  1998,  3866,  2009,  1012,   102,\n",
              "            0,     0,     0,     0,     0,     0,     0,     0,     0,\n",
              "            0,     0,     0,     0,     0,     0,     0,     0,     0,\n",
              "            0,     0,     0,     0,     0,     0,     0,     0,     0,\n",
              "            0,     0,     0,     0,     0,     0,     0,     0,     0,\n",
              "            0,     0,     0,     0,     0,     0,     0,     0,     0,\n",
              "            0,     0,     0,     0,     0,     0,     0,     0,     0,\n",
              "            0,     0,     0,     0,     0,     0,     0,     0,     0,\n",
              "            0,     0,     0,     0,     0,     0,     0,     0,     0,\n",
              "            0,     0,     0,     0,     0,     0,     0,     0,     0,\n",
              "            0,     0,     0,     0,     0,     0,     0,     0,     0,\n",
              "            0,     0,     0,     0,     0,     0,     0,     0,     0,\n",
              "            0,     0,     0,     0,     0,     0,     0,     0,     0,\n",
              "            0,     0,     0,     0,     0,     0,     0,     0,     0,\n",
              "            0,     0,     0,     0,     0,     0,     0,     0,     0,\n",
              "            0,     0,     0,     0,     0,     0,     0,     0,     0,\n",
              "            0,     0,     0,     0,     0,     0,     0,     0,     0,\n",
              "            0,     0,     0,     0,     0,     0,     0,     0,     0,\n",
              "            0,     0,     0,     0,     0,     0,     0,     0,     0,\n",
              "            0,     0,     0,     0,     0,     0,     0,     0,     0,\n",
              "            0,     0,     0,     0,     0,     0,     0,     0,     0,\n",
              "            0,     0],\n",
              "       [  101,  1996,  4989,  2006,  1996, 12183,  2001,  2307,  1998,\n",
              "         2061,  2020,  1996,  7597,  1012,   102,     0,     0,     0,\n",
              "            0,     0,     0,     0,     0,     0,     0,     0,     0,\n",
              "            0,     0,     0,     0,     0,     0,     0,     0,     0,\n",
              "            0,     0,     0,     0,     0,     0,     0,     0,     0,\n",
              "            0,     0,     0,     0,     0,     0,     0,     0,     0,\n",
              "            0,     0,     0,     0,     0,     0,     0,     0,     0,\n",
              "            0,     0,     0,     0,     0,     0,     0,     0,     0,\n",
              "            0,     0,     0,     0,     0,     0,     0,     0,     0,\n",
              "            0,     0,     0,     0,     0,     0,     0,     0,     0,\n",
              "            0,     0,     0,     0,     0,     0,     0,     0,     0,\n",
              "            0,     0,     0,     0,     0,     0,     0,     0,     0,\n",
              "            0,     0,     0,     0,     0,     0,     0,     0,     0,\n",
              "            0,     0,     0,     0,     0,     0,     0,     0,     0,\n",
              "            0,     0,     0,     0,     0,     0,     0,     0,     0,\n",
              "            0,     0,     0,     0,     0,     0,     0,     0,     0,\n",
              "            0,     0,     0,     0,     0,     0,     0,     0,     0,\n",
              "            0,     0,     0,     0,     0,     0,     0,     0,     0,\n",
              "            0,     0,     0,     0,     0,     0,     0,     0,     0,\n",
              "            0,     0,     0,     0,     0,     0,     0,     0,     0,\n",
              "            0,     0,     0,     0,     0,     0,     0,     0,     0,\n",
              "            0,     0,     0,     0,     0,     0,     0,     0,     0,\n",
              "            0,     0]], dtype=int32)>"
            ]
          },
          "metadata": {
            "tags": []
          },
          "execution_count": 100
        }
      ]
    },
    {
      "cell_type": "code",
      "metadata": {
        "id": "yazLY97pLAnU",
        "outputId": "dc412c9c-7e46-44a1-b3df-9656f8ad7d94",
        "colab": {
          "base_uri": "https://localhost:8080/",
          "height": 1000
        }
      },
      "source": [
        "MAX=5\n",
        "tf.reshape(output_tokenizer_entrainement['input_ids'][0:MAX,:],[MAX,200])"
      ],
      "execution_count": 97,
      "outputs": [
        {
          "output_type": "execute_result",
          "data": {
            "text/plain": [
              "<tf.Tensor: shape=(5, 200), dtype=int32, numpy=\n",
              "array([[  101, 10166,  1012,  1012,  1012,  3866,  2023,  2173,  1012,\n",
              "          102,     0,     0,     0,     0,     0,     0,     0,     0,\n",
              "            0,     0,     0,     0,     0,     0,     0,     0,     0,\n",
              "            0,     0,     0,     0,     0,     0,     0,     0,     0,\n",
              "            0,     0,     0,     0,     0,     0,     0,     0,     0,\n",
              "            0,     0,     0,     0,     0,     0,     0,     0,     0,\n",
              "            0,     0,     0,     0,     0,     0,     0,     0,     0,\n",
              "            0,     0,     0,     0,     0,     0,     0,     0,     0,\n",
              "            0,     0,     0,     0,     0,     0,     0,     0,     0,\n",
              "            0,     0,     0,     0,     0,     0,     0,     0,     0,\n",
              "            0,     0,     0,     0,     0,     0,     0,     0,     0,\n",
              "            0,     0,     0,     0,     0,     0,     0,     0,     0,\n",
              "            0,     0,     0,     0,     0,     0,     0,     0,     0,\n",
              "            0,     0,     0,     0,     0,     0,     0,     0,     0,\n",
              "            0,     0,     0,     0,     0,     0,     0,     0,     0,\n",
              "            0,     0,     0,     0,     0,     0,     0,     0,     0,\n",
              "            0,     0,     0,     0,     0,     0,     0,     0,     0,\n",
              "            0,     0,     0,     0,     0,     0,     0,     0,     0,\n",
              "            0,     0,     0,     0,     0,     0,     0,     0,     0,\n",
              "            0,     0,     0,     0,     0,     0,     0,     0,     0,\n",
              "            0,     0,     0,     0,     0,     0,     0,     0,     0,\n",
              "            0,     0,     0,     0,     0,     0,     0,     0,     0,\n",
              "            0,     0],\n",
              "       [  101, 19116,  2003,  2025,  2204,  1012,   102,     0,     0,\n",
              "            0,     0,     0,     0,     0,     0,     0,     0,     0,\n",
              "            0,     0,     0,     0,     0,     0,     0,     0,     0,\n",
              "            0,     0,     0,     0,     0,     0,     0,     0,     0,\n",
              "            0,     0,     0,     0,     0,     0,     0,     0,     0,\n",
              "            0,     0,     0,     0,     0,     0,     0,     0,     0,\n",
              "            0,     0,     0,     0,     0,     0,     0,     0,     0,\n",
              "            0,     0,     0,     0,     0,     0,     0,     0,     0,\n",
              "            0,     0,     0,     0,     0,     0,     0,     0,     0,\n",
              "            0,     0,     0,     0,     0,     0,     0,     0,     0,\n",
              "            0,     0,     0,     0,     0,     0,     0,     0,     0,\n",
              "            0,     0,     0,     0,     0,     0,     0,     0,     0,\n",
              "            0,     0,     0,     0,     0,     0,     0,     0,     0,\n",
              "            0,     0,     0,     0,     0,     0,     0,     0,     0,\n",
              "            0,     0,     0,     0,     0,     0,     0,     0,     0,\n",
              "            0,     0,     0,     0,     0,     0,     0,     0,     0,\n",
              "            0,     0,     0,     0,     0,     0,     0,     0,     0,\n",
              "            0,     0,     0,     0,     0,     0,     0,     0,     0,\n",
              "            0,     0,     0,     0,     0,     0,     0,     0,     0,\n",
              "            0,     0,     0,     0,     0,     0,     0,     0,     0,\n",
              "            0,     0,     0,     0,     0,     0,     0,     0,     0,\n",
              "            0,     0,     0,     0,     0,     0,     0,     0,     0,\n",
              "            0,     0],\n",
              "       [  101,  2025, 11937, 21756,  1998,  1996, 14902,  2001,  2074,\n",
              "        11808,  1012,   102,     0,     0,     0,     0,     0,     0,\n",
              "            0,     0,     0,     0,     0,     0,     0,     0,     0,\n",
              "            0,     0,     0,     0,     0,     0,     0,     0,     0,\n",
              "            0,     0,     0,     0,     0,     0,     0,     0,     0,\n",
              "            0,     0,     0,     0,     0,     0,     0,     0,     0,\n",
              "            0,     0,     0,     0,     0,     0,     0,     0,     0,\n",
              "            0,     0,     0,     0,     0,     0,     0,     0,     0,\n",
              "            0,     0,     0,     0,     0,     0,     0,     0,     0,\n",
              "            0,     0,     0,     0,     0,     0,     0,     0,     0,\n",
              "            0,     0,     0,     0,     0,     0,     0,     0,     0,\n",
              "            0,     0,     0,     0,     0,     0,     0,     0,     0,\n",
              "            0,     0,     0,     0,     0,     0,     0,     0,     0,\n",
              "            0,     0,     0,     0,     0,     0,     0,     0,     0,\n",
              "            0,     0,     0,     0,     0,     0,     0,     0,     0,\n",
              "            0,     0,     0,     0,     0,     0,     0,     0,     0,\n",
              "            0,     0,     0,     0,     0,     0,     0,     0,     0,\n",
              "            0,     0,     0,     0,     0,     0,     0,     0,     0,\n",
              "            0,     0,     0,     0,     0,     0,     0,     0,     0,\n",
              "            0,     0,     0,     0,     0,     0,     0,     0,     0,\n",
              "            0,     0,     0,     0,     0,     0,     0,     0,     0,\n",
              "            0,     0,     0,     0,     0,     0,     0,     0,     0,\n",
              "            0,     0],\n",
              "       [  101,  3030,  2011,  2076,  1996,  2397,  2089,  2924,  6209,\n",
              "         2125,  6174,  3889, 12832,  1998,  3866,  2009,  1012,   102,\n",
              "            0,     0,     0,     0,     0,     0,     0,     0,     0,\n",
              "            0,     0,     0,     0,     0,     0,     0,     0,     0,\n",
              "            0,     0,     0,     0,     0,     0,     0,     0,     0,\n",
              "            0,     0,     0,     0,     0,     0,     0,     0,     0,\n",
              "            0,     0,     0,     0,     0,     0,     0,     0,     0,\n",
              "            0,     0,     0,     0,     0,     0,     0,     0,     0,\n",
              "            0,     0,     0,     0,     0,     0,     0,     0,     0,\n",
              "            0,     0,     0,     0,     0,     0,     0,     0,     0,\n",
              "            0,     0,     0,     0,     0,     0,     0,     0,     0,\n",
              "            0,     0,     0,     0,     0,     0,     0,     0,     0,\n",
              "            0,     0,     0,     0,     0,     0,     0,     0,     0,\n",
              "            0,     0,     0,     0,     0,     0,     0,     0,     0,\n",
              "            0,     0,     0,     0,     0,     0,     0,     0,     0,\n",
              "            0,     0,     0,     0,     0,     0,     0,     0,     0,\n",
              "            0,     0,     0,     0,     0,     0,     0,     0,     0,\n",
              "            0,     0,     0,     0,     0,     0,     0,     0,     0,\n",
              "            0,     0,     0,     0,     0,     0,     0,     0,     0,\n",
              "            0,     0,     0,     0,     0,     0,     0,     0,     0,\n",
              "            0,     0,     0,     0,     0,     0,     0,     0,     0,\n",
              "            0,     0,     0,     0,     0,     0,     0,     0,     0,\n",
              "            0,     0],\n",
              "       [  101,  1996,  4989,  2006,  1996, 12183,  2001,  2307,  1998,\n",
              "         2061,  2020,  1996,  7597,  1012,   102,     0,     0,     0,\n",
              "            0,     0,     0,     0,     0,     0,     0,     0,     0,\n",
              "            0,     0,     0,     0,     0,     0,     0,     0,     0,\n",
              "            0,     0,     0,     0,     0,     0,     0,     0,     0,\n",
              "            0,     0,     0,     0,     0,     0,     0,     0,     0,\n",
              "            0,     0,     0,     0,     0,     0,     0,     0,     0,\n",
              "            0,     0,     0,     0,     0,     0,     0,     0,     0,\n",
              "            0,     0,     0,     0,     0,     0,     0,     0,     0,\n",
              "            0,     0,     0,     0,     0,     0,     0,     0,     0,\n",
              "            0,     0,     0,     0,     0,     0,     0,     0,     0,\n",
              "            0,     0,     0,     0,     0,     0,     0,     0,     0,\n",
              "            0,     0,     0,     0,     0,     0,     0,     0,     0,\n",
              "            0,     0,     0,     0,     0,     0,     0,     0,     0,\n",
              "            0,     0,     0,     0,     0,     0,     0,     0,     0,\n",
              "            0,     0,     0,     0,     0,     0,     0,     0,     0,\n",
              "            0,     0,     0,     0,     0,     0,     0,     0,     0,\n",
              "            0,     0,     0,     0,     0,     0,     0,     0,     0,\n",
              "            0,     0,     0,     0,     0,     0,     0,     0,     0,\n",
              "            0,     0,     0,     0,     0,     0,     0,     0,     0,\n",
              "            0,     0,     0,     0,     0,     0,     0,     0,     0,\n",
              "            0,     0,     0,     0,     0,     0,     0,     0,     0,\n",
              "            0,     0]], dtype=int32)>"
            ]
          },
          "metadata": {
            "tags": []
          },
          "execution_count": 97
        }
      ]
    },
    {
      "cell_type": "code",
      "metadata": {
        "id": "qV8_wAWxGcBQ",
        "outputId": "bd217e7d-1d22-4b31-b9b3-2e3966145010",
        "colab": {
          "base_uri": "https://localhost:8080/",
          "height": 34
        }
      },
      "source": [
        "sortie_prolongation_lexicale = model_BERT.predict(\n",
        "    [output_tokenizer_entrainement['input_ids'][0:MAX],\n",
        "     output_tokenizer_entrainement['attention_mask'][0:MAX],\n",
        "     output_tokenizer_entrainement['token_type_ids'][0:MAX]],\n",
        "     verbose=1)"
      ],
      "execution_count": 102,
      "outputs": [
        {
          "output_type": "stream",
          "text": [
            "1/1 [==============================] - 0s 8ms/step\n"
          ],
          "name": "stdout"
        }
      ]
    },
    {
      "cell_type": "code",
      "metadata": {
        "id": "c2Np5EzJJRhX",
        "outputId": "ee3982dd-c29f-4454-fc25-83a29253de79",
        "colab": {
          "base_uri": "https://localhost:8080/",
          "height": 34
        }
      },
      "source": [
        "sortie_prolongation_lexicale.shape"
      ],
      "execution_count": 103,
      "outputs": [
        {
          "output_type": "execute_result",
          "data": {
            "text/plain": [
              "(5, 200, 768)"
            ]
          },
          "metadata": {
            "tags": []
          },
          "execution_count": 103
        }
      ]
    },
    {
      "cell_type": "code",
      "metadata": {
        "id": "uyzSgy902MMY",
        "outputId": "0c4750e5-c20c-45f3-8a56-c4d70cb2a191",
        "colab": {
          "base_uri": "https://localhost:8080/",
          "height": 1000
        }
      },
      "source": [
        "sortie_prolongation_lexicale"
      ],
      "execution_count": 104,
      "outputs": [
        {
          "output_type": "execute_result",
          "data": {
            "text/plain": [
              "array([[[ 0.3339321 ,  0.14335334,  0.15907098, ..., -0.31104362,\n",
              "          0.37322184, -0.01549082],\n",
              "        [ 1.1796609 ,  0.33355698,  0.13666818, ..., -0.06487628,\n",
              "          1.2360895 , -0.7013844 ],\n",
              "        [ 0.277071  , -0.91165733,  0.7017319 , ...,  0.45878103,\n",
              "          1.2516522 , -0.8001778 ],\n",
              "        ...,\n",
              "        [ 0.16839725,  0.04809041,  0.5944786 , ..., -0.2388604 ,\n",
              "          0.3385867 , -0.2529236 ],\n",
              "        [ 0.12073311,  0.0226392 ,  0.4384123 , ..., -0.33716527,\n",
              "          0.19297692, -0.10771486],\n",
              "        [ 0.23280224, -0.15964961,  0.5057515 , ..., -0.15771836,\n",
              "          0.23470339, -0.4831752 ]],\n",
              "\n",
              "       [[-0.46790284,  0.34181276, -0.18857265, ..., -0.53555346,\n",
              "          0.6501617 ,  0.39027536],\n",
              "        [-0.32294765, -0.0428409 , -0.29795253, ..., -0.9260453 ,\n",
              "          0.10684069,  0.09710741],\n",
              "        [-0.6426166 , -0.32163262, -0.25697824, ..., -0.6059784 ,\n",
              "         -0.01422973,  0.05940531],\n",
              "        ...,\n",
              "        [-0.34389335, -0.6189769 , -0.11844221, ...,  0.38998786,\n",
              "          0.38445947, -0.09416552],\n",
              "        [-0.17297886, -0.11686872, -0.05824405, ...,  0.02136993,\n",
              "          0.11220585,  0.27601668],\n",
              "        [-0.08002678, -0.19418636, -0.21837302, ...,  0.16161862,\n",
              "          0.33464235,  0.07903665]],\n",
              "\n",
              "       [[-0.06970058, -0.13683338, -0.19622362, ..., -0.21042046,\n",
              "         -0.03809667,  0.4723297 ],\n",
              "        [-0.12019273, -0.04066345, -0.5175977 , ..., -0.31159362,\n",
              "          0.72194016,  0.6004476 ],\n",
              "        [-0.03662946,  0.20114338,  0.01364241, ..., -0.75150853,\n",
              "         -0.23383051,  0.33076912],\n",
              "        ...,\n",
              "        [ 0.161609  ,  0.23859487,  0.33581522, ..., -0.09367801,\n",
              "         -0.10123397,  0.18127127],\n",
              "        [ 0.1327993 ,  0.2712534 ,  0.27218792, ..., -0.16370726,\n",
              "         -0.21895522,  0.19465695],\n",
              "        [ 0.21653   ,  0.23694567,  0.33404627, ..., -0.14224184,\n",
              "         -0.01565474,  0.07818418]],\n",
              "\n",
              "       [[-0.07884226, -0.12816367, -0.00949683, ..., -0.40335274,\n",
              "          0.26265895, -0.08544794],\n",
              "        [ 0.5348192 , -0.5043018 ,  0.8484487 , ..., -0.03287632,\n",
              "          0.9789688 , -0.50699776],\n",
              "        [ 0.62186515, -0.6257453 ,  0.78749424, ..., -0.570526  ,\n",
              "          0.21243098,  0.03669707],\n",
              "        ...,\n",
              "        [ 0.26066813, -0.6325256 ,  0.1857172 , ...,  0.70655537,\n",
              "          0.4356845 , -0.7653384 ],\n",
              "        [ 0.22690266, -0.6346357 ,  0.38820705, ...,  0.1875497 ,\n",
              "          0.3867446 , -0.7957136 ],\n",
              "        [ 0.2550559 , -0.5861099 ,  0.3692686 , ...,  0.18136692,\n",
              "          0.4092002 , -0.8149657 ]],\n",
              "\n",
              "       [[-0.08713885, -0.03537833, -0.18139358, ..., -0.3208755 ,\n",
              "          0.10536494,  0.05076863],\n",
              "        [ 0.14215186, -0.32577482, -0.6615291 , ..., -0.12809023,\n",
              "          0.65702045,  0.08509438],\n",
              "        [ 0.19700621, -0.11736131,  0.38943702, ..., -0.36475524,\n",
              "          0.2084295 ,  0.07297308],\n",
              "        ...,\n",
              "        [ 0.3906595 ,  0.06221954,  0.4873419 , ...,  0.04762357,\n",
              "         -0.0245714 , -0.32201537],\n",
              "        [ 0.4114441 ,  0.06998471,  0.4866309 , ..., -0.00138212,\n",
              "         -0.02925588, -0.21710351],\n",
              "        [ 0.5046403 ,  0.06418132,  0.4372672 , ..., -0.079866  ,\n",
              "          0.09786661, -0.3192075 ]]], dtype=float32)"
            ]
          },
          "metadata": {
            "tags": []
          },
          "execution_count": 104
        }
      ]
    },
    {
      "cell_type": "code",
      "metadata": {
        "id": "GYaXWYWH17oy"
      },
      "source": [
        "sortie_prolongation_lexicale[0,0,:]"
      ],
      "execution_count": null,
      "outputs": []
    },
    {
      "cell_type": "code",
      "metadata": {
        "id": "p6xg2Yg34FAS",
        "outputId": "0657baac-77ab-4214-d51f-3525c9ce8b13",
        "colab": {
          "base_uri": "https://localhost:8080/",
          "height": 391
        }
      },
      "source": [
        "sequence_output, pooled_output  = transformer_model(entrees_ids, attention_mask=entrees_masks, token_type_ids=entrees_type_ids)\n",
        "\n",
        "l1 = Lambda(lambda seq: seq[:, 0, :])(sequence_output)\n",
        "output = Dense(2, activation='softmax')(l1)\n",
        "\n",
        "\n",
        "model = tf.keras.Model(inputs=[entrees_ids, entrees_masks,entrees_type_ids], outputs = output)\n",
        "model.compile(loss='sparse_categorical_crossentropy', optimizer=Adam(), metrics=['accuracy'])\n",
        "model.layers[3].trainable = False\n",
        "model.summary()"
      ],
      "execution_count": 70,
      "outputs": [
        {
          "output_type": "stream",
          "text": [
            "Model: \"functional_19\"\n",
            "__________________________________________________________________________________________________\n",
            "Layer (type)                    Output Shape         Param #     Connected to                     \n",
            "==================================================================================================\n",
            "input_token (InputLayer)        [(None, 200)]        0                                            \n",
            "__________________________________________________________________________________________________\n",
            "masked_token (InputLayer)       [(None, 200)]        0                                            \n",
            "__________________________________________________________________________________________________\n",
            "segment_ids (InputLayer)        [(None, 200)]        0                                            \n",
            "__________________________________________________________________________________________________\n",
            "tf_bert_model (TFBertModel)     ((None, 200, 768), ( 109482240   input_token[0][0]                \n",
            "                                                                 masked_token[0][0]               \n",
            "                                                                 segment_ids[0][0]                \n",
            "__________________________________________________________________________________________________\n",
            "lambda (Lambda)                 (None, 768)          0           tf_bert_model[7][0]              \n",
            "__________________________________________________________________________________________________\n",
            "dense_8 (Dense)                 (None, 2)            1538        lambda[0][0]                     \n",
            "==================================================================================================\n",
            "Total params: 109,483,778\n",
            "Trainable params: 1,538\n",
            "Non-trainable params: 109,482,240\n",
            "__________________________________________________________________________________________________\n"
          ],
          "name": "stdout"
        }
      ]
    },
    {
      "cell_type": "code",
      "metadata": {
        "id": "PEX943Te7QbZ",
        "outputId": "c2998591-2e3f-439b-edaa-af0cf227c491",
        "colab": {
          "base_uri": "https://localhost:8080/",
          "height": 153
        }
      },
      "source": [
        "MAX_SIZE=500\n",
        "tf.reshape(output_tokenizer_entrainement['input_ids'][0:MAX_SIZE],[MAX_SIZE,LONGUEUR_MAX_COMMENTAIRE])\n"
      ],
      "execution_count": 54,
      "outputs": [
        {
          "output_type": "execute_result",
          "data": {
            "text/plain": [
              "<tf.Tensor: shape=(500, 200), dtype=int32, numpy=\n",
              "array([[  101, 10166,  1012, ...,     0,     0,     0],\n",
              "       [  101, 19116,  2003, ...,     0,     0,     0],\n",
              "       [  101,  2025, 11937, ...,     0,     0,     0],\n",
              "       ...,\n",
              "       [  101,  2023,  2001, ...,     0,     0,     0],\n",
              "       [  101,  2037,  6071, ...,     0,     0,     0],\n",
              "       [  101, 13877,  2001, ...,     0,     0,     0]], dtype=int32)>"
            ]
          },
          "metadata": {
            "tags": []
          },
          "execution_count": 54
        }
      ]
    },
    {
      "cell_type": "code",
      "metadata": {
        "id": "yaSJTsnX9rHp",
        "outputId": "914d3f42-fa24-4b5c-91e6-2d1f374ff526",
        "colab": {
          "base_uri": "https://localhost:8080/",
          "height": 153
        }
      },
      "source": [
        "tf.reshape(output_tokenizer_entrainement['input_ids'][0:MAX_SIZE],[MAX_SIZE,LONGUEUR_MAX_COMMENTAIRE])"
      ],
      "execution_count": 60,
      "outputs": [
        {
          "output_type": "execute_result",
          "data": {
            "text/plain": [
              "<tf.Tensor: shape=(500, 200), dtype=int32, numpy=\n",
              "array([[  101, 10166,  1012, ...,     0,     0,     0],\n",
              "       [  101, 19116,  2003, ...,     0,     0,     0],\n",
              "       [  101,  2025, 11937, ...,     0,     0,     0],\n",
              "       ...,\n",
              "       [  101,  2023,  2001, ...,     0,     0,     0],\n",
              "       [  101,  2037,  6071, ...,     0,     0,     0],\n",
              "       [  101, 13877,  2001, ...,     0,     0,     0]], dtype=int32)>"
            ]
          },
          "metadata": {
            "tags": []
          },
          "execution_count": 60
        }
      ]
    },
    {
      "cell_type": "code",
      "metadata": {
        "id": "LAtRqpzK9xR5",
        "outputId": "216d1d6a-2a9f-47dd-f248-c3f952a34157",
        "colab": {
          "base_uri": "https://localhost:8080/",
          "height": 425
        }
      },
      "source": [
        "tf.reshape(y_entrainement[0:MAX_SIZE],[1,MAX_SIZE])"
      ],
      "execution_count": 66,
      "outputs": [
        {
          "output_type": "execute_result",
          "data": {
            "text/plain": [
              "<tf.Tensor: shape=(1, 500), dtype=int64, numpy=\n",
              "array([[1, 0, 0, 1, 1, 0, 0, 0, 1, 1, 1, 0, 0, 1, 0, 0, 1, 0, 0, 0, 0, 1,\n",
              "        1, 1, 1, 1, 0, 1, 0, 0, 1, 0, 1, 0, 1, 1, 1, 0, 1, 0, 1, 0, 0, 1,\n",
              "        0, 1, 0, 1, 1, 1, 1, 1, 1, 0, 1, 1, 0, 0, 1, 0, 0, 1, 1, 1, 1, 1,\n",
              "        1, 1, 0, 1, 1, 1, 0, 0, 0, 0, 0, 1, 1, 0, 0, 0, 0, 1, 0, 1, 0, 1,\n",
              "        1, 1, 0, 1, 0, 1, 0, 0, 1, 1, 0, 1, 1, 1, 1, 1, 1, 1, 1, 1, 1, 1,\n",
              "        0, 0, 1, 1, 1, 1, 0, 0, 0, 0, 0, 0, 1, 1, 1, 0, 0, 1, 0, 1, 0, 1,\n",
              "        1, 0, 1, 1, 1, 1, 0, 1, 0, 0, 0, 0, 1, 1, 0, 0, 0, 0, 1, 1, 0, 0,\n",
              "        1, 1, 1, 1, 1, 0, 0, 1, 1, 0, 1, 1, 1, 0, 0, 1, 0, 1, 1, 1, 1, 0,\n",
              "        0, 1, 1, 0, 0, 0, 0, 0, 1, 1, 0, 1, 1, 1, 1, 1, 0, 1, 0, 1, 0, 0,\n",
              "        1, 1, 1, 1, 0, 1, 1, 1, 0, 0, 0, 1, 0, 0, 1, 0, 1, 1, 0, 1, 0, 1,\n",
              "        0, 0, 0, 0, 0, 1, 1, 1, 0, 1, 1, 0, 1, 0, 1, 0, 0, 1, 0, 1, 0, 1,\n",
              "        0, 0, 0, 0, 1, 1, 1, 0, 1, 0, 1, 0, 1, 1, 1, 0, 1, 0, 1, 0, 1, 1,\n",
              "        1, 1, 0, 1, 1, 0, 1, 1, 1, 1, 1, 0, 1, 1, 0, 0, 1, 0, 0, 0, 1, 1,\n",
              "        0, 0, 1, 0, 0, 0, 1, 0, 1, 1, 0, 1, 0, 1, 1, 0, 0, 0, 1, 0, 0, 0,\n",
              "        1, 1, 1, 0, 1, 0, 1, 0, 0, 1, 1, 1, 0, 0, 1, 1, 1, 1, 1, 1, 0, 0,\n",
              "        0, 1, 1, 0, 1, 1, 0, 0, 1, 0, 0, 1, 1, 1, 0, 1, 1, 1, 1, 1, 0, 0,\n",
              "        1, 0, 1, 1, 0, 1, 1, 1, 0, 1, 1, 0, 1, 0, 0, 1, 1, 1, 0, 0, 1, 1,\n",
              "        0, 1, 0, 1, 0, 0, 0, 1, 1, 0, 0, 0, 1, 0, 0, 1, 1, 1, 1, 1, 1, 1,\n",
              "        0, 1, 1, 1, 0, 0, 0, 1, 1, 0, 1, 1, 1, 0, 1, 1, 0, 1, 0, 0, 0, 1,\n",
              "        1, 1, 1, 0, 0, 0, 0, 1, 1, 0, 0, 1, 0, 1, 1, 0, 1, 0, 1, 1, 1, 1,\n",
              "        0, 1, 1, 0, 1, 1, 0, 0, 1, 1, 0, 1, 0, 0, 0, 0, 1, 1, 1, 1, 0, 1,\n",
              "        1, 0, 1, 1, 0, 0, 1, 1, 1, 0, 1, 0, 0, 0, 1, 1, 1, 1, 0, 1, 0, 0,\n",
              "        1, 1, 1, 0, 0, 1, 1, 1, 0, 1, 1, 0, 1, 1, 1, 1]])>"
            ]
          },
          "metadata": {
            "tags": []
          },
          "execution_count": 66
        }
      ]
    },
    {
      "cell_type": "code",
      "metadata": {
        "id": "0Cspw9TVC1-R",
        "outputId": "0a96f0e5-e360-4891-d607-f2c97158a40b",
        "colab": {
          "base_uri": "https://localhost:8080/",
          "height": 153
        }
      },
      "source": [
        "output_tokenizer_tests['input_ids']"
      ],
      "execution_count": 91,
      "outputs": [
        {
          "output_type": "execute_result",
          "data": {
            "text/plain": [
              "<tf.Tensor: shape=(413, 200), dtype=int32, numpy=\n",
              "array([[  101,  3889,  3235, ...,     0,     0,     0],\n",
              "       [  101,  5587,  9306, ...,     0,     0,     0],\n",
              "       [  101,  2021,  1996, ...,     0,     0,     0],\n",
              "       ...,\n",
              "       [  101,  1999,  1037, ...,     0,     0,     0],\n",
              "       [  101, 17077,  2919, ...,     0,     0,     0],\n",
              "       [  101,  2035,  1999, ...,     0,     0,     0]], dtype=int32)>"
            ]
          },
          "metadata": {
            "tags": []
          },
          "execution_count": 91
        }
      ]
    },
    {
      "cell_type": "code",
      "metadata": {
        "id": "aqEKUMlkDHp4",
        "outputId": "434f7148-e653-421d-8f71-67d00d2454d3",
        "colab": {
          "base_uri": "https://localhost:8080/",
          "height": 153
        }
      },
      "source": [
        "output_tokenizer_entrainement['input_ids'][0:MAX_SIZE]"
      ],
      "execution_count": 95,
      "outputs": [
        {
          "output_type": "execute_result",
          "data": {
            "text/plain": [
              "<tf.Tensor: shape=(2000, 200), dtype=int32, numpy=\n",
              "array([[  101, 10166,  1012, ...,     0,     0,     0],\n",
              "       [  101, 19116,  2003, ...,     0,     0,     0],\n",
              "       [  101,  2025, 11937, ...,     0,     0,     0],\n",
              "       ...,\n",
              "       [  101,  8875,  2515, ...,     0,     0,     0],\n",
              "       [  101,  1996,  2069, ...,     0,     0,     0],\n",
              "       [  101,  2017,  2064, ...,     0,     0,     0]], dtype=int32)>"
            ]
          },
          "metadata": {
            "tags": []
          },
          "execution_count": 95
        }
      ]
    },
    {
      "cell_type": "code",
      "metadata": {
        "id": "lIp_P5J1FnVh",
        "outputId": "9e192bf1-5c2c-45a0-8e35-a249f3f5c8ad",
        "colab": {
          "base_uri": "https://localhost:8080/",
          "height": 153
        }
      },
      "source": [
        "tf.reshape(output_tokenizer_entrainement['input_ids'][0:MAX_SIZE],[MAX_SIZE,LONGUEUR_MAX_COMMENTAIRE])"
      ],
      "execution_count": 96,
      "outputs": [
        {
          "output_type": "execute_result",
          "data": {
            "text/plain": [
              "<tf.Tensor: shape=(2000, 200), dtype=int32, numpy=\n",
              "array([[  101, 10166,  1012, ...,     0,     0,     0],\n",
              "       [  101, 19116,  2003, ...,     0,     0,     0],\n",
              "       [  101,  2025, 11937, ...,     0,     0,     0],\n",
              "       ...,\n",
              "       [  101,  8875,  2515, ...,     0,     0,     0],\n",
              "       [  101,  1996,  2069, ...,     0,     0,     0],\n",
              "       [  101,  2017,  2064, ...,     0,     0,     0]], dtype=int32)>"
            ]
          },
          "metadata": {
            "tags": []
          },
          "execution_count": 96
        }
      ]
    },
    {
      "cell_type": "code",
      "metadata": {
        "id": "VaHxWgxj7ITa",
        "outputId": "c013fcce-b523-4439-f257-efb96083ae4f",
        "colab": {
          "base_uri": "https://localhost:8080/",
          "height": 408
        }
      },
      "source": [
        "MAX_SIZE = 500\n",
        "\n",
        "history = model.fit([tf.reshape(output_tokenizer_entrainement['input_ids'][0:MAX_SIZE],[MAX_SIZE,LONGUEUR_MAX_COMMENTAIRE]),\n",
        "                    tf.reshape(output_tokenizer_entrainement['attention_mask'][0:MAX_SIZE],[MAX_SIZE,LONGUEUR_MAX_COMMENTAIRE]),\n",
        "                    tf.reshape(output_tokenizer_entrainement['token_type_ids'][0:MAX_SIZE],[MAX_SIZE,LONGUEUR_MAX_COMMENTAIRE])],\n",
        "                    y_entrainement[0:MAX_SIZE],\n",
        "                    epochs=5, verbose=1, batch_size = 3,\n",
        "                    validation_data=([(output_tokenizer_tests['input_ids']),\n",
        "                                     (output_tokenizer_tests['attention_mask']),\n",
        "                                      (output_tokenizer_tests['token_type_ids'])],y_test))"
      ],
      "execution_count": 94,
      "outputs": [
        {
          "output_type": "stream",
          "text": [
            "Epoch 1/5\n",
            "667/667 [==============================] - 94s 141ms/step - loss: 0.2641 - accuracy: 0.9060 - val_loss: 0.5620 - val_accuracy: 0.7676\n",
            "Epoch 2/5\n",
            "606/667 [==========================>...] - ETA: 7s - loss: 0.2620 - accuracy: 0.8988"
          ],
          "name": "stdout"
        },
        {
          "output_type": "error",
          "ename": "KeyboardInterrupt",
          "evalue": "ignored",
          "traceback": [
            "\u001b[0;31m---------------------------------------------------------------------------\u001b[0m",
            "\u001b[0;31mKeyboardInterrupt\u001b[0m                         Traceback (most recent call last)",
            "\u001b[0;32m<ipython-input-94-c1272a803443>\u001b[0m in \u001b[0;36m<module>\u001b[0;34m()\u001b[0m\n\u001b[1;32m      7\u001b[0m                     validation_data=([(output_tokenizer_tests['input_ids']),\n\u001b[1;32m      8\u001b[0m                                      \u001b[0;34m(\u001b[0m\u001b[0moutput_tokenizer_tests\u001b[0m\u001b[0;34m[\u001b[0m\u001b[0;34m'attention_mask'\u001b[0m\u001b[0;34m]\u001b[0m\u001b[0;34m)\u001b[0m\u001b[0;34m,\u001b[0m\u001b[0;34m\u001b[0m\u001b[0;34m\u001b[0m\u001b[0m\n\u001b[0;32m----> 9\u001b[0;31m                                       (output_tokenizer_tests['token_type_ids'])],y_test))\n\u001b[0m",
            "\u001b[0;32m/usr/local/lib/python3.6/dist-packages/tensorflow/python/keras/engine/training.py\u001b[0m in \u001b[0;36m_method_wrapper\u001b[0;34m(self, *args, **kwargs)\u001b[0m\n\u001b[1;32m    106\u001b[0m   \u001b[0;32mdef\u001b[0m \u001b[0m_method_wrapper\u001b[0m\u001b[0;34m(\u001b[0m\u001b[0mself\u001b[0m\u001b[0;34m,\u001b[0m \u001b[0;34m*\u001b[0m\u001b[0margs\u001b[0m\u001b[0;34m,\u001b[0m \u001b[0;34m**\u001b[0m\u001b[0mkwargs\u001b[0m\u001b[0;34m)\u001b[0m\u001b[0;34m:\u001b[0m\u001b[0;34m\u001b[0m\u001b[0;34m\u001b[0m\u001b[0m\n\u001b[1;32m    107\u001b[0m     \u001b[0;32mif\u001b[0m \u001b[0;32mnot\u001b[0m \u001b[0mself\u001b[0m\u001b[0;34m.\u001b[0m\u001b[0m_in_multi_worker_mode\u001b[0m\u001b[0;34m(\u001b[0m\u001b[0;34m)\u001b[0m\u001b[0;34m:\u001b[0m  \u001b[0;31m# pylint: disable=protected-access\u001b[0m\u001b[0;34m\u001b[0m\u001b[0;34m\u001b[0m\u001b[0m\n\u001b[0;32m--> 108\u001b[0;31m       \u001b[0;32mreturn\u001b[0m \u001b[0mmethod\u001b[0m\u001b[0;34m(\u001b[0m\u001b[0mself\u001b[0m\u001b[0;34m,\u001b[0m \u001b[0;34m*\u001b[0m\u001b[0margs\u001b[0m\u001b[0;34m,\u001b[0m \u001b[0;34m**\u001b[0m\u001b[0mkwargs\u001b[0m\u001b[0;34m)\u001b[0m\u001b[0;34m\u001b[0m\u001b[0;34m\u001b[0m\u001b[0m\n\u001b[0m\u001b[1;32m    109\u001b[0m \u001b[0;34m\u001b[0m\u001b[0m\n\u001b[1;32m    110\u001b[0m     \u001b[0;31m# Running inside `run_distribute_coordinator` already.\u001b[0m\u001b[0;34m\u001b[0m\u001b[0;34m\u001b[0m\u001b[0;34m\u001b[0m\u001b[0m\n",
            "\u001b[0;32m/usr/local/lib/python3.6/dist-packages/tensorflow/python/keras/engine/training.py\u001b[0m in \u001b[0;36mfit\u001b[0;34m(self, x, y, batch_size, epochs, verbose, callbacks, validation_split, validation_data, shuffle, class_weight, sample_weight, initial_epoch, steps_per_epoch, validation_steps, validation_batch_size, validation_freq, max_queue_size, workers, use_multiprocessing)\u001b[0m\n\u001b[1;32m   1096\u001b[0m                 batch_size=batch_size):\n\u001b[1;32m   1097\u001b[0m               \u001b[0mcallbacks\u001b[0m\u001b[0;34m.\u001b[0m\u001b[0mon_train_batch_begin\u001b[0m\u001b[0;34m(\u001b[0m\u001b[0mstep\u001b[0m\u001b[0;34m)\u001b[0m\u001b[0;34m\u001b[0m\u001b[0;34m\u001b[0m\u001b[0m\n\u001b[0;32m-> 1098\u001b[0;31m               \u001b[0mtmp_logs\u001b[0m \u001b[0;34m=\u001b[0m \u001b[0mtrain_function\u001b[0m\u001b[0;34m(\u001b[0m\u001b[0miterator\u001b[0m\u001b[0;34m)\u001b[0m\u001b[0;34m\u001b[0m\u001b[0;34m\u001b[0m\u001b[0m\n\u001b[0m\u001b[1;32m   1099\u001b[0m               \u001b[0;32mif\u001b[0m \u001b[0mdata_handler\u001b[0m\u001b[0;34m.\u001b[0m\u001b[0mshould_sync\u001b[0m\u001b[0;34m:\u001b[0m\u001b[0;34m\u001b[0m\u001b[0;34m\u001b[0m\u001b[0m\n\u001b[1;32m   1100\u001b[0m                 \u001b[0mcontext\u001b[0m\u001b[0;34m.\u001b[0m\u001b[0masync_wait\u001b[0m\u001b[0;34m(\u001b[0m\u001b[0;34m)\u001b[0m\u001b[0;34m\u001b[0m\u001b[0;34m\u001b[0m\u001b[0m\n",
            "\u001b[0;32m/usr/local/lib/python3.6/dist-packages/tensorflow/python/eager/def_function.py\u001b[0m in \u001b[0;36m__call__\u001b[0;34m(self, *args, **kwds)\u001b[0m\n\u001b[1;32m    778\u001b[0m       \u001b[0;32melse\u001b[0m\u001b[0;34m:\u001b[0m\u001b[0;34m\u001b[0m\u001b[0;34m\u001b[0m\u001b[0m\n\u001b[1;32m    779\u001b[0m         \u001b[0mcompiler\u001b[0m \u001b[0;34m=\u001b[0m \u001b[0;34m\"nonXla\"\u001b[0m\u001b[0;34m\u001b[0m\u001b[0;34m\u001b[0m\u001b[0m\n\u001b[0;32m--> 780\u001b[0;31m         \u001b[0mresult\u001b[0m \u001b[0;34m=\u001b[0m \u001b[0mself\u001b[0m\u001b[0;34m.\u001b[0m\u001b[0m_call\u001b[0m\u001b[0;34m(\u001b[0m\u001b[0;34m*\u001b[0m\u001b[0margs\u001b[0m\u001b[0;34m,\u001b[0m \u001b[0;34m**\u001b[0m\u001b[0mkwds\u001b[0m\u001b[0;34m)\u001b[0m\u001b[0;34m\u001b[0m\u001b[0;34m\u001b[0m\u001b[0m\n\u001b[0m\u001b[1;32m    781\u001b[0m \u001b[0;34m\u001b[0m\u001b[0m\n\u001b[1;32m    782\u001b[0m       \u001b[0mnew_tracing_count\u001b[0m \u001b[0;34m=\u001b[0m \u001b[0mself\u001b[0m\u001b[0;34m.\u001b[0m\u001b[0m_get_tracing_count\u001b[0m\u001b[0;34m(\u001b[0m\u001b[0;34m)\u001b[0m\u001b[0;34m\u001b[0m\u001b[0;34m\u001b[0m\u001b[0m\n",
            "\u001b[0;32m/usr/local/lib/python3.6/dist-packages/tensorflow/python/eager/def_function.py\u001b[0m in \u001b[0;36m_call\u001b[0;34m(self, *args, **kwds)\u001b[0m\n\u001b[1;32m    805\u001b[0m       \u001b[0;31m# In this case we have created variables on the first call, so we run the\u001b[0m\u001b[0;34m\u001b[0m\u001b[0;34m\u001b[0m\u001b[0;34m\u001b[0m\u001b[0m\n\u001b[1;32m    806\u001b[0m       \u001b[0;31m# defunned version which is guaranteed to never create variables.\u001b[0m\u001b[0;34m\u001b[0m\u001b[0;34m\u001b[0m\u001b[0;34m\u001b[0m\u001b[0m\n\u001b[0;32m--> 807\u001b[0;31m       \u001b[0;32mreturn\u001b[0m \u001b[0mself\u001b[0m\u001b[0;34m.\u001b[0m\u001b[0m_stateless_fn\u001b[0m\u001b[0;34m(\u001b[0m\u001b[0;34m*\u001b[0m\u001b[0margs\u001b[0m\u001b[0;34m,\u001b[0m \u001b[0;34m**\u001b[0m\u001b[0mkwds\u001b[0m\u001b[0;34m)\u001b[0m  \u001b[0;31m# pylint: disable=not-callable\u001b[0m\u001b[0;34m\u001b[0m\u001b[0;34m\u001b[0m\u001b[0m\n\u001b[0m\u001b[1;32m    808\u001b[0m     \u001b[0;32melif\u001b[0m \u001b[0mself\u001b[0m\u001b[0;34m.\u001b[0m\u001b[0m_stateful_fn\u001b[0m \u001b[0;32mis\u001b[0m \u001b[0;32mnot\u001b[0m \u001b[0;32mNone\u001b[0m\u001b[0;34m:\u001b[0m\u001b[0;34m\u001b[0m\u001b[0;34m\u001b[0m\u001b[0m\n\u001b[1;32m    809\u001b[0m       \u001b[0;31m# Release the lock early so that multiple threads can perform the call\u001b[0m\u001b[0;34m\u001b[0m\u001b[0;34m\u001b[0m\u001b[0;34m\u001b[0m\u001b[0m\n",
            "\u001b[0;32m/usr/local/lib/python3.6/dist-packages/tensorflow/python/eager/function.py\u001b[0m in \u001b[0;36m__call__\u001b[0;34m(self, *args, **kwargs)\u001b[0m\n\u001b[1;32m   2827\u001b[0m     \u001b[0;32mwith\u001b[0m \u001b[0mself\u001b[0m\u001b[0;34m.\u001b[0m\u001b[0m_lock\u001b[0m\u001b[0;34m:\u001b[0m\u001b[0;34m\u001b[0m\u001b[0;34m\u001b[0m\u001b[0m\n\u001b[1;32m   2828\u001b[0m       \u001b[0mgraph_function\u001b[0m\u001b[0;34m,\u001b[0m \u001b[0margs\u001b[0m\u001b[0;34m,\u001b[0m \u001b[0mkwargs\u001b[0m \u001b[0;34m=\u001b[0m \u001b[0mself\u001b[0m\u001b[0;34m.\u001b[0m\u001b[0m_maybe_define_function\u001b[0m\u001b[0;34m(\u001b[0m\u001b[0margs\u001b[0m\u001b[0;34m,\u001b[0m \u001b[0mkwargs\u001b[0m\u001b[0;34m)\u001b[0m\u001b[0;34m\u001b[0m\u001b[0;34m\u001b[0m\u001b[0m\n\u001b[0;32m-> 2829\u001b[0;31m     \u001b[0;32mreturn\u001b[0m \u001b[0mgraph_function\u001b[0m\u001b[0;34m.\u001b[0m\u001b[0m_filtered_call\u001b[0m\u001b[0;34m(\u001b[0m\u001b[0margs\u001b[0m\u001b[0;34m,\u001b[0m \u001b[0mkwargs\u001b[0m\u001b[0;34m)\u001b[0m  \u001b[0;31m# pylint: disable=protected-access\u001b[0m\u001b[0;34m\u001b[0m\u001b[0;34m\u001b[0m\u001b[0m\n\u001b[0m\u001b[1;32m   2830\u001b[0m \u001b[0;34m\u001b[0m\u001b[0m\n\u001b[1;32m   2831\u001b[0m   \u001b[0;34m@\u001b[0m\u001b[0mproperty\u001b[0m\u001b[0;34m\u001b[0m\u001b[0;34m\u001b[0m\u001b[0m\n",
            "\u001b[0;32m/usr/local/lib/python3.6/dist-packages/tensorflow/python/eager/function.py\u001b[0m in \u001b[0;36m_filtered_call\u001b[0;34m(self, args, kwargs, cancellation_manager)\u001b[0m\n\u001b[1;32m   1846\u001b[0m                            resource_variable_ops.BaseResourceVariable))],\n\u001b[1;32m   1847\u001b[0m         \u001b[0mcaptured_inputs\u001b[0m\u001b[0;34m=\u001b[0m\u001b[0mself\u001b[0m\u001b[0;34m.\u001b[0m\u001b[0mcaptured_inputs\u001b[0m\u001b[0;34m,\u001b[0m\u001b[0;34m\u001b[0m\u001b[0;34m\u001b[0m\u001b[0m\n\u001b[0;32m-> 1848\u001b[0;31m         cancellation_manager=cancellation_manager)\n\u001b[0m\u001b[1;32m   1849\u001b[0m \u001b[0;34m\u001b[0m\u001b[0m\n\u001b[1;32m   1850\u001b[0m   \u001b[0;32mdef\u001b[0m \u001b[0m_call_flat\u001b[0m\u001b[0;34m(\u001b[0m\u001b[0mself\u001b[0m\u001b[0;34m,\u001b[0m \u001b[0margs\u001b[0m\u001b[0;34m,\u001b[0m \u001b[0mcaptured_inputs\u001b[0m\u001b[0;34m,\u001b[0m \u001b[0mcancellation_manager\u001b[0m\u001b[0;34m=\u001b[0m\u001b[0;32mNone\u001b[0m\u001b[0;34m)\u001b[0m\u001b[0;34m:\u001b[0m\u001b[0;34m\u001b[0m\u001b[0;34m\u001b[0m\u001b[0m\n",
            "\u001b[0;32m/usr/local/lib/python3.6/dist-packages/tensorflow/python/eager/function.py\u001b[0m in \u001b[0;36m_call_flat\u001b[0;34m(self, args, captured_inputs, cancellation_manager)\u001b[0m\n\u001b[1;32m   1922\u001b[0m       \u001b[0;31m# No tape is watching; skip to running the function.\u001b[0m\u001b[0;34m\u001b[0m\u001b[0;34m\u001b[0m\u001b[0;34m\u001b[0m\u001b[0m\n\u001b[1;32m   1923\u001b[0m       return self._build_call_outputs(self._inference_function.call(\n\u001b[0;32m-> 1924\u001b[0;31m           ctx, args, cancellation_manager=cancellation_manager))\n\u001b[0m\u001b[1;32m   1925\u001b[0m     forward_backward = self._select_forward_and_backward_functions(\n\u001b[1;32m   1926\u001b[0m         \u001b[0margs\u001b[0m\u001b[0;34m,\u001b[0m\u001b[0;34m\u001b[0m\u001b[0;34m\u001b[0m\u001b[0m\n",
            "\u001b[0;32m/usr/local/lib/python3.6/dist-packages/tensorflow/python/eager/function.py\u001b[0m in \u001b[0;36mcall\u001b[0;34m(self, ctx, args, cancellation_manager)\u001b[0m\n\u001b[1;32m    548\u001b[0m               \u001b[0minputs\u001b[0m\u001b[0;34m=\u001b[0m\u001b[0margs\u001b[0m\u001b[0;34m,\u001b[0m\u001b[0;34m\u001b[0m\u001b[0;34m\u001b[0m\u001b[0m\n\u001b[1;32m    549\u001b[0m               \u001b[0mattrs\u001b[0m\u001b[0;34m=\u001b[0m\u001b[0mattrs\u001b[0m\u001b[0;34m,\u001b[0m\u001b[0;34m\u001b[0m\u001b[0;34m\u001b[0m\u001b[0m\n\u001b[0;32m--> 550\u001b[0;31m               ctx=ctx)\n\u001b[0m\u001b[1;32m    551\u001b[0m         \u001b[0;32melse\u001b[0m\u001b[0;34m:\u001b[0m\u001b[0;34m\u001b[0m\u001b[0;34m\u001b[0m\u001b[0m\n\u001b[1;32m    552\u001b[0m           outputs = execute.execute_with_cancellation(\n",
            "\u001b[0;32m/usr/local/lib/python3.6/dist-packages/tensorflow/python/eager/execute.py\u001b[0m in \u001b[0;36mquick_execute\u001b[0;34m(op_name, num_outputs, inputs, attrs, ctx, name)\u001b[0m\n\u001b[1;32m     58\u001b[0m     \u001b[0mctx\u001b[0m\u001b[0;34m.\u001b[0m\u001b[0mensure_initialized\u001b[0m\u001b[0;34m(\u001b[0m\u001b[0;34m)\u001b[0m\u001b[0;34m\u001b[0m\u001b[0;34m\u001b[0m\u001b[0m\n\u001b[1;32m     59\u001b[0m     tensors = pywrap_tfe.TFE_Py_Execute(ctx._handle, device_name, op_name,\n\u001b[0;32m---> 60\u001b[0;31m                                         inputs, attrs, num_outputs)\n\u001b[0m\u001b[1;32m     61\u001b[0m   \u001b[0;32mexcept\u001b[0m \u001b[0mcore\u001b[0m\u001b[0;34m.\u001b[0m\u001b[0m_NotOkStatusException\u001b[0m \u001b[0;32mas\u001b[0m \u001b[0me\u001b[0m\u001b[0;34m:\u001b[0m\u001b[0;34m\u001b[0m\u001b[0;34m\u001b[0m\u001b[0m\n\u001b[1;32m     62\u001b[0m     \u001b[0;32mif\u001b[0m \u001b[0mname\u001b[0m \u001b[0;32mis\u001b[0m \u001b[0;32mnot\u001b[0m \u001b[0;32mNone\u001b[0m\u001b[0;34m:\u001b[0m\u001b[0;34m\u001b[0m\u001b[0;34m\u001b[0m\u001b[0m\n",
            "\u001b[0;31mKeyboardInterrupt\u001b[0m: "
          ]
        }
      ]
    },
    {
      "cell_type": "markdown",
      "metadata": {
        "id": "z9vwylPK8B2d"
      },
      "source": [
        "Pour chaque commentaire en entrée, la sortie du modèle distilBERT est un vecteur de dimension MAX_SEQUENCE_LENGTHx768 :\n",
        "* Il y a au maximum MAX_SEQUENCE_LENGTH mots dans chaque commentaire\n",
        "* Il y a un vecteur en sortie du modèle par mot dans chaque commentaire\n",
        "* Le vecteur qui code chaque mot est de dimension 768"
      ]
    },
    {
      "cell_type": "markdown",
      "metadata": {
        "id": "84jTmbNS9och"
      },
      "source": [
        "Vérifions cela en regardant le format de la sortie du modèle :"
      ]
    },
    {
      "cell_type": "code",
      "metadata": {
        "id": "SRyx0t5z5_zY",
        "outputId": "bf5d93b3-5009-42fd-e3a9-11ece2527517",
        "colab": {
          "base_uri": "https://localhost:8080/",
          "height": 52
        }
      },
      "source": [
        "sortie_BERT"
      ],
      "execution_count": null,
      "outputs": [
        {
          "output_type": "execute_result",
          "data": {
            "text/plain": [
              "(<tf.Tensor 'tf_bert_model/bert/encoder/layer_._11/output/LayerNorm/batchnorm/add_1:0' shape=(None, 100, 768) dtype=float32>,\n",
              " <tf.Tensor 'tf_bert_model/bert/pooler/dense/Tanh:0' shape=(None, 768) dtype=float32>)"
            ]
          },
          "metadata": {
            "tags": []
          },
          "execution_count": 7
        }
      ]
    },
    {
      "cell_type": "markdown",
      "metadata": {
        "id": "puRHTFsg9x0d"
      },
      "source": [
        "Parmi les MAX_SEQUENCE_LENGTH vecteurs en sortie, il ne nous faut que le premier (celui qui correspond au mot clé [CLS]). On doit donc récupérer, pour chaque commentaire, le premier vecteur de dimension 768 parmi les MAX_SEQUENCE_LENGTH en sortie :  \n",
        "  \n",
        "  \n",
        "<img src=\"https://github.com/AlexandreBourrieau/ML-F1/blob/master/Carnets%20Jupyter/Images/Slice_SortieBERT.png?raw=true\"/>  "
      ]
    },
    {
      "cell_type": "code",
      "metadata": {
        "id": "-7R2nn5n7sww"
      },
      "source": [
        "sortie_CLS = sortie_BERT[0][:,0,:]"
      ],
      "execution_count": null,
      "outputs": []
    },
    {
      "cell_type": "code",
      "metadata": {
        "id": "ZMtLGYG44Kxh",
        "outputId": "00b5fa5d-66ae-4838-86ff-da0d7f512dc7",
        "colab": {
          "base_uri": "https://localhost:8080/",
          "height": 312
        }
      },
      "source": [
        "model_BERT = tf.keras.Model(inputs=[entrees_ids, entrees_masks], outputs = sortie_CLS,trainable=False)\n",
        "model_BERT.summary()"
      ],
      "execution_count": null,
      "outputs": [
        {
          "output_type": "stream",
          "text": [
            "Model: \"functional_1\"\n",
            "__________________________________________________________________________________________________\n",
            "Layer (type)                    Output Shape         Param #     Connected to                     \n",
            "==================================================================================================\n",
            "input_token (InputLayer)        [(None, 100)]        0                                            \n",
            "__________________________________________________________________________________________________\n",
            "masked_token (InputLayer)       [(None, 100)]        0                                            \n",
            "__________________________________________________________________________________________________\n",
            "tf_bert_model (TFBertModel)     ((None, 100, 768), ( 109482240   input_token[0][0]                \n",
            "                                                                 masked_token[0][0]               \n",
            "__________________________________________________________________________________________________\n",
            "tf_op_layer_strided_slice (Tens [(None, 768)]        0           tf_bert_model[0][0]              \n",
            "==================================================================================================\n",
            "Total params: 109,482,240\n",
            "Trainable params: 0\n",
            "Non-trainable params: 109,482,240\n",
            "__________________________________________________________________________________________________\n"
          ],
          "name": "stdout"
        }
      ]
    },
    {
      "cell_type": "markdown",
      "metadata": {
        "id": "PEMRlzgpHlV2"
      },
      "source": [
        "Exécutons maintenant distilBERT sur les 10 premiers commentaires afin de regarder le format des sorties obtenues :"
      ]
    },
    {
      "cell_type": "code",
      "metadata": {
        "id": "sYJ7h-RC43o4",
        "outputId": "a547d543-c4d0-449d-d129-303c1a095cd0",
        "colab": {
          "base_uri": "https://localhost:8080/",
          "height": 1000
        }
      },
      "source": [
        "sortie_prolongation_lexicale = model_BERT.predict([output_tokenizer_entrainement['input_ids'][1:10],output_tokenizer_entrainement['attention_mask'][1:10]],verbose=1)\n",
        "print(\"Commentaire :\", commentaires[0])\n",
        "print(\"input_ids\", output_tokenizer_entrainement['input_ids'][0])\n",
        "print(\"Sortie BERT\", sortie_prolongation_lexicale[0])"
      ],
      "execution_count": null,
      "outputs": [
        {
          "output_type": "stream",
          "text": [
            "1/1 [==============================] - 0s 1ms/step\n",
            "Commentaire : a stirring , funny and finally transporting re imagining of beauty and the beast and 1930s horror films\n",
            "input_ids tf.Tensor(\n",
            "[  101  2009  1005  1055  2074  2205  2919  1996 11167  2015  2776  5607\n",
            "  3209  1999  1996  2519  2007  8872 17312 18856 17322  2015  2066  2019\n",
            "  3514  2100  2608 11033  1010  4686  2482  8632 11139  1998  1996  2128\n",
            " 24871  7491  2952   102     0     0     0     0     0     0     0     0\n",
            "     0     0     0     0     0     0     0     0     0     0     0     0\n",
            "     0     0     0     0     0     0     0     0     0     0     0     0\n",
            "     0     0     0     0     0     0     0     0     0     0     0     0\n",
            "     0     0     0     0     0     0     0     0     0     0     0     0\n",
            "     0     0     0     0], shape=(100,), dtype=int32)\n",
            "Sortie BERT [ 1.25438720e-01  3.04992706e-01 -4.04092669e-02 -3.53617221e-01\n",
            " -1.35262787e-01 -5.36565661e-01  1.66037887e-01  4.17941540e-01\n",
            " -7.69606382e-02 -5.29784203e-01 -1.55198470e-01  1.78011581e-01\n",
            " -2.67961845e-02  3.02552998e-01  2.78198481e-01  2.51336932e-01\n",
            " -9.28013772e-02  1.24307744e-01 -1.62236184e-01 -2.84903735e-01\n",
            "  6.13201819e-02 -6.27298653e-03  1.99205548e-01 -1.65071003e-02\n",
            " -2.94478834e-01 -3.27428162e-01 -1.90990567e-02 -3.20853055e-01\n",
            "  5.98728657e-05  1.70125619e-01  1.79434344e-01  3.90179977e-02\n",
            " -3.67910385e-01  4.53589439e-01 -1.90113828e-01 -1.94573533e-02\n",
            "  1.66733563e-01  1.43095106e-03  2.95166522e-02 -7.53613003e-03\n",
            " -1.55085996e-02  3.10579628e-01  2.18992561e-01 -3.27159204e-02\n",
            "  4.54903916e-02 -3.73449385e-01 -3.00655770e+00 -3.21063340e-01\n",
            " -1.21120185e-01 -4.34197009e-01  3.27710181e-01 -4.21552062e-02\n",
            "  2.53873646e-01  3.44084837e-02 -1.39655992e-02  4.26414371e-01\n",
            " -5.43834031e-01  5.07382870e-01  2.33003169e-01 -3.70757103e-01\n",
            "  6.53514624e-01 -7.94675201e-03 -2.58736521e-01  2.60706842e-01\n",
            " -1.09160200e-01  1.73925668e-01 -1.01617038e-01 -2.21997984e-02\n",
            " -6.55505583e-02  7.11195529e-01 -2.67904609e-01 -5.92120625e-02\n",
            " -4.94350679e-03 -1.10373594e-01  4.49345633e-02  1.47691622e-01\n",
            "  6.86630607e-04 -1.64884403e-02 -1.82993233e-01 -1.85792297e-02\n",
            " -9.20781940e-02  1.93685934e-01  2.90231109e-01 -1.47794068e-01\n",
            " -2.80478209e-01  6.94536716e-02 -6.57511279e-02 -5.87503910e-02\n",
            "  5.02577901e-01  6.91121161e-01 -4.92387041e-02 -1.79884255e-01\n",
            " -1.24031380e-01 -2.15627328e-01  3.05358231e-01 -1.62277073e-01\n",
            " -1.70366820e-02  1.27126470e-01  8.95109624e-02  2.94510841e-01\n",
            "  3.56908478e-02  2.22147584e-01 -1.78360045e-01 -2.42445320e-01\n",
            " -4.60436583e-01  1.12560160e-01  1.13963462e-01  2.36461788e-01\n",
            "  1.33399129e-01 -2.39989233e+00  3.53438318e-01  1.84329271e-01\n",
            " -1.59116298e-01 -5.25098920e-01 -1.19689167e-01  4.94889170e-02\n",
            "  2.33381793e-01 -2.83690870e-01 -1.42767519e-01  1.37843579e-01\n",
            " -4.86208618e-01  8.49869251e-01  1.19036518e-01 -4.03234571e-01\n",
            "  1.06365994e-01  2.08523139e-01  3.58721077e-01 -2.13693589e-01\n",
            "  6.65322468e-02  3.24549496e-01  2.37938777e-01  1.97618067e-01\n",
            " -7.45461881e-02  3.06644201e-01 -2.41778418e-01  3.20310175e-01\n",
            " -4.81018946e-02 -1.32616103e-01 -3.26938570e-01  9.68366340e-02\n",
            "  1.54130887e-02 -1.54852167e-01 -3.27336431e+00  2.28447646e-01\n",
            "  1.95401907e-01  2.78128177e-01 -1.01296529e-01  2.13451371e-01\n",
            " -1.78441793e-01 -4.07924727e-02  7.90408924e-02 -2.09838927e-01\n",
            "  8.00820291e-02  1.40274614e-01  3.14047396e-01 -2.88727641e-01\n",
            "  3.13647054e-02  8.74448046e-02  1.18339315e-01  1.14995264e-01\n",
            " -3.00579131e-01 -5.24042547e-02  1.85935482e-01 -1.51580483e-01\n",
            "  1.14913762e-01  8.96099135e-02  4.44001824e-01  5.47024012e-01\n",
            "  3.03727180e-01 -3.46365303e-01 -6.55955076e-03  5.20771623e-01\n",
            "  3.92717153e-01 -1.63021550e-01 -2.89323300e-01  2.17396244e-02\n",
            " -3.31908017e-02  3.75568420e-01  1.95069656e-01 -3.19359988e-01\n",
            " -2.43353292e-01  1.51914924e-01 -2.82115210e-02  1.84751302e-01\n",
            "  8.09807777e-01  1.79201156e-01  3.30863625e-01  2.60554612e-01\n",
            "  8.16632733e-02  4.02976386e-02 -6.20923601e-02 -3.45774800e-01\n",
            " -3.05796534e-01 -8.60401616e-03  5.09660244e-01  2.23629430e-01\n",
            "  3.35994154e-01 -2.01503932e-03  1.86405722e-02  6.35391921e-02\n",
            "  2.16565520e-01  1.49059176e-01 -9.53312293e-02 -2.48249233e-01\n",
            " -1.95135862e-01  3.68454409e+00  1.35854259e-02 -6.14082143e-02\n",
            "  1.36696041e-01  1.59570023e-01 -2.81936020e-01 -3.21394168e-02\n",
            " -3.95294249e-01  1.80880532e-01 -5.00521399e-02  1.24634385e-01\n",
            "  4.13401604e-01  2.63290443e-02 -2.56264985e-01 -1.54719353e-01\n",
            " -1.39783934e-01  1.58631235e-01 -4.93973643e-02  3.08086008e-01\n",
            " -1.74218506e-01  6.40523583e-02 -1.84381008e-03  2.91120738e-01\n",
            " -1.41633779e-01 -1.51074028e+00 -9.66611728e-02 -6.77726045e-02\n",
            "  1.83084890e-01  3.38779747e-01 -1.96781427e-01 -5.75205162e-02\n",
            " -2.26031959e-01 -1.75180897e-01  4.15630266e-02  2.19834566e-01\n",
            "  5.35425127e-01 -3.13040257e-01  1.67319447e-01  6.23162389e-01\n",
            " -7.01334476e-02  3.81430805e-01  2.36811414e-01 -3.79351437e-01\n",
            "  2.72722691e-01 -1.58876017e-01  3.60770673e-01  2.48632833e-01\n",
            "  1.02591932e-01 -2.44220465e-01  8.62260088e-02 -1.30417690e-01\n",
            " -6.75509647e-02 -1.14361353e-01 -1.49510652e-02 -2.06985712e-01\n",
            " -1.80980831e-01 -4.25038487e-02 -2.27093980e-01  1.21105105e-01\n",
            " -1.00978881e-01 -4.28204983e-01  1.37070328e-01 -4.61718768e-01\n",
            "  7.19109178e-03  2.56843753e-02 -3.77316177e-02 -2.49095604e-01\n",
            " -5.25344014e-01 -3.62339759e+00 -4.47337236e-03  3.79502654e-01\n",
            " -8.27790350e-02  1.72253072e-01  1.55995995e-01  1.62940890e-01\n",
            "  1.26024619e-01 -1.90307975e-01 -2.56392360e-01  7.42233217e-01\n",
            " -3.25126380e-01 -6.28325045e-02  2.06220955e-01 -6.20736301e-01\n",
            "  3.39758337e-01 -1.01498365e-01 -1.09956585e-01 -3.30082834e-01\n",
            " -1.29069090e-01  3.67466956e-01  7.21167028e-02 -9.19815153e-02\n",
            "  6.54034838e-02 -5.57131469e-02 -2.20360935e-01 -6.52994663e-02\n",
            " -3.35091621e-01  3.66980374e-01  1.31473728e-02 -4.29767482e-02\n",
            " -2.99369544e-01 -2.37197176e-01 -1.66694358e-01  2.11117089e-01\n",
            " -3.91113281e+00  5.97698651e-02  7.94600099e-02 -3.57792169e-01\n",
            "  1.92211524e-01  1.01635247e-01  3.74912024e-01 -1.11620918e-01\n",
            " -9.02181715e-02 -5.98670542e-03  3.45574528e-01  3.33808780e-01\n",
            " -3.30430046e-02  4.51358855e-01  4.16560769e-01 -2.08803132e-01\n",
            "  3.63764137e-01 -8.53619203e-02 -1.77375153e-02  9.24892798e-02\n",
            "  1.28608748e-01  2.45670117e-02  3.98989432e-02 -2.12453842e-01\n",
            "  1.40063047e-01  8.58048052e-02 -4.22102094e-01 -3.04939836e-01\n",
            " -3.30581009e-01 -6.75816685e-02 -9.29630399e-02 -2.28292122e-02\n",
            " -1.13728028e-02  1.02755666e-01 -2.35084325e-01 -2.55957961e-01\n",
            "  9.08331424e-02  3.51518810e-01  6.33789301e-01 -2.33798362e-02\n",
            "  1.20298602e-01  3.23741108e-01  1.30069003e-01  7.22379535e-02\n",
            "  3.60257030e-02  2.55957574e-01 -2.25646049e-01 -5.19687235e-01\n",
            "  1.44592822e-01  3.03238213e-01 -3.37411910e-01 -1.23911306e-01\n",
            "  6.82713628e-01 -2.62497187e-01 -5.60925864e-02 -5.43722324e-02\n",
            "  1.50989115e-01  5.16158789e-02  3.84167254e-01  1.61530405e-01\n",
            "  3.01485300e-01 -1.41411453e-01  2.53722332e-02 -3.39091301e-01\n",
            " -3.56685929e-02  2.10211843e-01  2.22978845e-01 -4.06075627e-01\n",
            "  9.42938924e-02  4.09363300e-01 -4.63686973e-01  5.05783856e-01\n",
            " -1.14048362e-01 -9.24833119e-01 -2.24778250e-01  3.17279249e-02\n",
            " -2.96738148e-01 -9.55296308e-02  1.36026740e-01  1.50072202e-02\n",
            "  1.59615263e-01 -4.08558547e-02  2.81396806e-01  4.41635907e-01\n",
            " -1.81734160e-01  7.65754655e-02  1.60617441e-01  5.65392561e-02\n",
            " -1.92883968e-01 -6.56109750e-02 -2.02338830e-01  2.07399815e-01\n",
            " -6.38484359e-02  6.90608323e-02  2.32745767e-01  3.10704768e-01\n",
            "  4.60282534e-01 -6.05364323e-01  3.66560698e-01  8.88908654e-02\n",
            "  4.92342263e-02 -6.19582534e-01 -1.08616441e-01  1.68992087e-01\n",
            "  3.52882817e-02 -9.97093096e-02 -1.87115267e-01  3.48674238e-01\n",
            " -1.34905085e-01  3.79861742e-01  2.19463333e-01  8.09228420e-02\n",
            "  1.02871343e-01  1.81077823e-01  9.68283892e-01 -2.18128860e-01\n",
            "  3.02654833e-01  1.29183441e-01  1.93663955e-01 -1.08412519e-01\n",
            "  2.35052243e-01 -2.31732890e-01  1.40196741e-01  1.50091201e-01\n",
            " -3.58038157e-01 -1.57206267e-01 -6.64198846e-02 -2.85051644e-01\n",
            " -4.92263138e-01  7.20204264e-02 -5.86007051e-02  1.57782331e-01\n",
            " -2.81385452e-01 -6.07170820e-01 -4.67149168e-03  1.63419973e-02\n",
            "  3.69474925e-02 -9.88978595e-02 -1.58272579e-01  3.89414355e-02\n",
            "  1.52655602e-01  2.60407984e-01 -1.95995659e-01  3.45577210e-01\n",
            "  1.35713205e-01  2.83941329e-01  7.43273646e-03 -1.52903169e-01\n",
            " -8.92873183e-02  5.57577252e-01  3.93265724e-01 -2.54590929e-01\n",
            " -1.10175446e-01  2.72173822e-01  2.74663031e-01 -5.75832166e-02\n",
            "  1.73535660e-01  5.54621406e-03  1.08890891e-01  2.16211900e-02\n",
            "  2.13176981e-01  1.60906136e-01 -1.29666018e+00  3.52409303e-01\n",
            "  1.16679974e-01  1.64027289e-01  1.46521509e-01 -1.29652053e-01\n",
            " -3.23683858e-01  4.65588540e-01 -9.66967195e-02  2.66242743e-01\n",
            " -2.77063668e-01  1.67649761e-01  4.26280528e-01  1.19525827e-02\n",
            " -2.91149765e-01  2.72236705e-01 -4.30547595e-02 -4.43924934e-01\n",
            "  1.20741874e-02 -7.40876496e-02 -4.09861714e-01  2.80711025e-01\n",
            "  1.44106708e-02 -5.62911257e-02 -4.75894362e-01 -4.83179390e-01\n",
            " -2.04606175e-01  5.92849970e-01  1.91056788e-01  2.94398874e-01\n",
            " -2.63929307e-01  1.72915727e-01  1.10616148e-01 -6.51548728e-02\n",
            "  2.06063509e-01 -1.00035250e-01  1.24546468e-01  2.25003526e-01\n",
            "  2.01469675e-01  4.12052631e-01 -2.16758817e-01  4.31937784e-01\n",
            " -5.31950593e-02  5.26174568e-02  3.34037036e-01  1.37993693e-01\n",
            " -5.30691862e-01  2.49736518e-01 -2.57134855e-01 -3.32368433e-01\n",
            " -3.29956234e-01 -6.52687028e-02 -2.85341814e-02 -2.52977580e-01\n",
            " -2.64394552e-01 -2.87612900e-02  1.46501660e-01  1.47818446e-01\n",
            "  5.51861301e-02  1.27174035e-02  3.88268292e-01 -1.26036003e-01\n",
            " -1.79074556e-02 -4.51879725e-02 -3.75417829e-01 -4.71367002e-01\n",
            "  3.48215178e-02 -1.97096199e-01 -4.49584007e-01  1.48468584e-01\n",
            "  3.00500870e-01 -6.84902072e-02 -2.15087652e-01 -3.31120826e-02\n",
            " -5.55935681e-01 -5.65264598e-02 -1.38120472e-01 -1.05330244e-01\n",
            "  4.17981803e-01 -1.24389350e-01  1.02122538e-02  8.19028020e-02\n",
            " -3.08322251e-01  2.39195451e-01 -2.00597584e-01  1.97171103e-02\n",
            "  6.12645186e-02  1.17154710e-01  1.46669582e-01 -1.36062831e-01\n",
            "  5.23073599e-03 -2.88243681e-01  1.34244084e-01  1.39508218e-01\n",
            "  5.32758176e-01  2.11620077e-01  1.49222791e-01 -7.35829622e-02\n",
            "  1.13510080e-01 -4.93494213e-01 -1.98179349e-01  1.80657640e-01\n",
            "  1.05302669e-01  4.61813867e-01 -9.23632979e-02  1.78495511e-01\n",
            "  5.03406942e-01  6.32394627e-02 -5.77772081e-01 -5.67347556e-02\n",
            " -4.94262993e-01  1.96310192e-01 -1.49916336e-02 -6.09498508e-02\n",
            " -9.84045491e-02 -4.55009490e-02  1.65756047e-01 -3.50179464e-01\n",
            "  2.03688002e+00  2.70365551e-03  1.16376936e-01 -2.13975072e-01\n",
            " -2.36753970e-01  1.46535859e-01 -1.18048161e-01  2.19436213e-01\n",
            "  5.51592298e-02  9.42493826e-02 -2.83220083e-01  4.47421670e-01\n",
            " -1.21219352e-01  3.69150072e-01  2.86785483e-01  3.28687727e-01\n",
            " -7.97981769e-02 -2.93552399e-01 -7.11848199e-01 -1.79628864e-01\n",
            " -2.33034551e-01 -3.30806434e-01 -7.75725693e-02 -3.73284042e-01\n",
            " -4.50107642e-02  2.70817339e-01 -7.70969316e-03  3.36553156e-01\n",
            " -1.55387238e-01 -5.13182208e-02  2.55585790e-01  6.80567771e-02\n",
            "  4.44345176e-02  2.80457526e-01 -2.37684518e-01 -1.11579418e-01\n",
            " -2.21840441e-02 -1.90957822e-03  5.93526810e-02 -5.72124273e-02\n",
            "  4.86181438e-01  4.77957763e-02  3.01601738e-01  9.97592881e-02\n",
            " -1.76949292e-01  2.85945833e-02  2.03193098e-01 -1.58364549e-01\n",
            " -1.57032102e-01  2.31089834e-02  1.92013696e-01 -2.02146411e-01\n",
            "  4.59413826e-02 -1.76435158e-01  8.35444927e-02  1.09371617e-02\n",
            " -1.31311387e-01 -1.04697406e-01 -4.00794111e-02 -8.21678787e-02\n",
            "  2.55347528e-02 -2.54869342e-01  6.26953781e-01 -2.38732696e-01\n",
            " -9.15851146e-02 -1.10719770e-01 -1.68602467e-01 -2.69882619e-01\n",
            "  1.41679555e-01 -1.13467351e-02 -8.17745924e-02  4.24456060e-01\n",
            "  1.48895085e-01  1.27507150e-01  3.56363475e-01 -1.70601070e-01\n",
            "  3.27587575e-01 -1.78114891e-01 -1.08297005e-01 -2.78006840e+00\n",
            "  4.08149630e-01  3.60372186e-01  2.44651422e-01 -9.37709510e-02\n",
            "  3.43943268e-01  3.60743254e-01  2.89857864e-01 -6.65218085e-02\n",
            "  1.63481720e-02  7.29940087e-03  6.79186940e-01  3.27077694e-02\n",
            "  3.48391294e-01 -1.26559287e-02  2.94813335e-01 -1.62532926e-01\n",
            " -1.84664473e-01 -1.55910537e-01  1.56944841e-01 -1.98448420e-01\n",
            "  9.02370661e-02 -3.21811326e-02  1.10618427e-01 -4.04208571e-01\n",
            "  3.29638779e-01  3.54208983e-02 -1.71947122e-01  3.11307192e-01\n",
            "  1.05578899e-01  3.85620818e-02  7.97553062e-02  2.90807262e-02\n",
            " -1.61390334e-01  3.06488782e-01  1.00744218e-02  1.11006543e-01\n",
            " -4.06752527e-03  3.70442837e-01  1.86634809e-03 -5.45597486e-02\n",
            "  5.89906096e-01 -5.01787126e-01  5.69272578e-01  2.05188870e-01\n",
            "  1.11623064e-01  2.13014141e-01 -1.47530586e-01  1.39748201e-01\n",
            " -5.16887426e-01 -6.00162596e-02  8.79847631e-02 -1.00277364e-04\n",
            " -2.52403468e-01  5.09805620e-01 -2.87013575e-02 -2.26631671e-01\n",
            " -2.20835984e-01  1.97839320e-01 -1.37978867e-02 -3.61665666e-01\n",
            " -1.52926669e-01  4.17143703e-02  1.59011364e-01  5.88999569e-01\n",
            "  5.41151688e-02 -1.82581156e-01  8.73429328e-02  3.18534300e-03\n",
            " -1.51881814e-01  8.64101201e-02  1.03189573e-01  9.22885239e-02\n",
            "  1.04291432e-01 -8.99188519e-02  2.52007395e-02  2.55742759e-01\n",
            "  3.01411152e-01  8.41317177e-02  1.52317524e-01 -2.91553229e-01\n",
            " -4.48658586e-01  2.52356976e-02  5.52118011e-02 -6.31822944e-02\n",
            " -7.16746569e+00 -3.14369231e-01 -2.42070034e-01  1.15399342e-02\n",
            " -2.27931254e-02  4.74258326e-02  1.31484568e-02  1.97159737e-01\n",
            "  6.81532696e-02  3.33961844e-02 -7.59087205e-02  1.27783880e-01\n",
            " -6.17485344e-02  1.24238551e-01  3.64700884e-01  4.74147320e-01]\n"
          ],
          "name": "stdout"
        }
      ]
    },
    {
      "cell_type": "markdown",
      "metadata": {
        "id": "0bjWNVb4KdZG"
      },
      "source": [
        "# **Ajout du réseau de neurones en sortie du modèle distilBERT**"
      ]
    },
    {
      "cell_type": "code",
      "metadata": {
        "id": "SEQc1zx5P25h",
        "outputId": "1323fa56-c58b-434f-be17-ac2060a7c358",
        "colab": {
          "base_uri": "https://localhost:8080/",
          "height": 347
        }
      },
      "source": [
        "output = Dense(2, activation='softmax')(sortie_CLS)\n",
        "model = tf.keras.Model(inputs=[entrees_ids, entrees_masks], outputs = output)\n",
        "model.compile(loss='sparse_categorical_crossentropy', optimizer=Adam(), metrics=['accuracy'])\n",
        "model.layers[2].trainable = False\n",
        "model.summary()"
      ],
      "execution_count": null,
      "outputs": [
        {
          "output_type": "stream",
          "text": [
            "Model: \"functional_3\"\n",
            "__________________________________________________________________________________________________\n",
            "Layer (type)                    Output Shape         Param #     Connected to                     \n",
            "==================================================================================================\n",
            "input_token (InputLayer)        [(None, 100)]        0                                            \n",
            "__________________________________________________________________________________________________\n",
            "masked_token (InputLayer)       [(None, 100)]        0                                            \n",
            "__________________________________________________________________________________________________\n",
            "tf_bert_model (TFBertModel)     ((None, 100, 768), ( 109482240   input_token[0][0]                \n",
            "                                                                 masked_token[0][0]               \n",
            "__________________________________________________________________________________________________\n",
            "tf_op_layer_strided_slice (Tens [(None, 768)]        0           tf_bert_model[0][0]              \n",
            "__________________________________________________________________________________________________\n",
            "dense (Dense)                   (None, 2)            1538        tf_op_layer_strided_slice[0][0]  \n",
            "==================================================================================================\n",
            "Total params: 109,483,778\n",
            "Trainable params: 1,538\n",
            "Non-trainable params: 109,482,240\n",
            "__________________________________________________________________________________________________\n"
          ],
          "name": "stdout"
        }
      ]
    },
    {
      "cell_type": "code",
      "metadata": {
        "id": "kar0AbDIK61t",
        "outputId": "997ad72e-d51d-4554-d9d7-97b6ea6d19e5",
        "colab": {
          "base_uri": "https://localhost:8080/",
          "height": 260
        }
      },
      "source": [
        "MAX_SIZE = 500\n",
        "history = model.fit([output_tokenizer_entrainement['input_ids'][1:MAX_SIZE],output_tokenizer_entrainement['attention_mask'][1:MAX_SIZE]], y_entrainement[1:MAX_SIZE], epochs=5, verbose=1, batch_size = 3, validation_data=([output_tokenizer_tests['input_ids'][1:MAX_SIZE],output_tokenizer_tests['attention_mask'][1:MAX_SIZE]],y_test[1:MAX_SIZE]))"
      ],
      "execution_count": null,
      "outputs": [
        {
          "output_type": "stream",
          "text": [
            "Epoch 1/5\n",
            "WARNING:tensorflow:Gradients do not exist for variables ['tf_bert_model/bert/pooler/dense/kernel:0', 'tf_bert_model/bert/pooler/dense/bias:0'] when minimizing the loss.\n",
            "WARNING:tensorflow:Gradients do not exist for variables ['tf_bert_model/bert/pooler/dense/kernel:0', 'tf_bert_model/bert/pooler/dense/bias:0'] when minimizing the loss.\n",
            "WARNING:tensorflow:Gradients do not exist for variables ['tf_bert_model/bert/pooler/dense/kernel:0', 'tf_bert_model/bert/pooler/dense/bias:0'] when minimizing the loss.\n",
            "WARNING:tensorflow:Gradients do not exist for variables ['tf_bert_model/bert/pooler/dense/kernel:0', 'tf_bert_model/bert/pooler/dense/bias:0'] when minimizing the loss.\n",
            "167/167 [==============================] - 24s 142ms/step - loss: 1.0656 - accuracy: 0.4749 - val_loss: 0.6971 - val_accuracy: 0.4930\n",
            "Epoch 2/5\n",
            "167/167 [==============================] - 21s 123ms/step - loss: 0.7297 - accuracy: 0.4870 - val_loss: 0.7510 - val_accuracy: 0.4930\n",
            "Epoch 3/5\n",
            "167/167 [==============================] - 21s 123ms/step - loss: 0.7242 - accuracy: 0.5130 - val_loss: 0.7006 - val_accuracy: 0.5070\n",
            "Epoch 4/5\n",
            "167/167 [==============================] - 21s 123ms/step - loss: 0.7087 - accuracy: 0.4930 - val_loss: 0.6933 - val_accuracy: 0.5070\n",
            "Epoch 5/5\n",
            "167/167 [==============================] - 20s 123ms/step - loss: 0.6968 - accuracy: 0.5471 - val_loss: 0.7094 - val_accuracy: 0.5070\n"
          ],
          "name": "stdout"
        }
      ]
    },
    {
      "cell_type": "code",
      "metadata": {
        "id": "4ZhKM9mfQ0qi",
        "outputId": "4ac46a09-2e1b-439a-c36b-5b0296e3bef6",
        "colab": {
          "base_uri": "https://localhost:8080/",
          "height": 295
        }
      },
      "source": [
        "plt.plot(history.history['accuracy'])\n",
        "plt.plot(history.history['val_accuracy'])\n",
        "plt.title('Model accuracy')\n",
        "plt.ylabel('Accuracy')\n",
        "plt.xlabel('Epoch')\n",
        "plt.legend(['Train', 'Test'], loc='upper left')\n",
        "plt.show()"
      ],
      "execution_count": 93,
      "outputs": [
        {
          "output_type": "display_data",
          "data": {
            "image/png": "[encoded data removed]",
            "text/plain": [
              "<Figure size 432x288 with 1 Axes>"
            ]
          },
          "metadata": {
            "tags": [],
            "needs_background": "light"
          }
        }
      ]
    },
    {
      "cell_type": "markdown",
      "metadata": {
        "id": "T5ThHOoGRGIa"
      },
      "source": [
        "# **Fine Tuning**"
      ]
    },
    {
      "cell_type": "code",
      "metadata": {
        "id": "5eui3V0PRI6U",
        "outputId": "7ecb6410-5899-459d-9fcf-989a97ad6992",
        "colab": {
          "base_uri": "https://localhost:8080/",
          "height": 347
        }
      },
      "source": [
        "model.layers[2].trainable = True\n",
        "output = Dense(2, activation='softmax')(sortie_CLS)\n",
        "model = tf.keras.Model(inputs=[entrees_ids, entrees_masks], outputs = output)\n",
        "model.compile(loss='sparse_categorical_crossentropy', optimizer=Adam(1e-6), metrics=['accuracy'])\n",
        "model.summary()"
      ],
      "execution_count": null,
      "outputs": [
        {
          "output_type": "stream",
          "text": [
            "Model: \"functional_55\"\n",
            "__________________________________________________________________________________________________\n",
            "Layer (type)                    Output Shape         Param #     Connected to                     \n",
            "==================================================================================================\n",
            "input_token (InputLayer)        [(None, 100)]        0                                            \n",
            "__________________________________________________________________________________________________\n",
            "masked_token (InputLayer)       [(None, 100)]        0                                            \n",
            "__________________________________________________________________________________________________\n",
            "tf_distil_bert_model_4 (TFDisti ((None, 100, 768),)  66362880    input_token[0][0]                \n",
            "                                                                 masked_token[0][0]               \n",
            "__________________________________________________________________________________________________\n",
            "tf_op_layer_strided_slice_1 (Te [(None, 768)]        0           tf_distil_bert_model_4[0][0]     \n",
            "__________________________________________________________________________________________________\n",
            "dense_18 (Dense)                (None, 2)            1538        tf_op_layer_strided_slice_1[0][0]\n",
            "==================================================================================================\n",
            "Total params: 66,364,418\n",
            "Trainable params: 66,364,418\n",
            "Non-trainable params: 0\n",
            "__________________________________________________________________________________________________\n"
          ],
          "name": "stdout"
        }
      ]
    },
    {
      "cell_type": "code",
      "metadata": {
        "id": "eO3HSM6dRYl_",
        "outputId": "ee79a55e-5df8-46fe-960b-c7a4d4fb2662",
        "colab": {
          "base_uri": "https://localhost:8080/",
          "height": 191
        }
      },
      "source": [
        "MAX_SIZE = 200\n",
        "history2 = model.fit([output_tokenizer_entrainement['input_ids'][1:MAX_SIZE],output_tokenizer_entrainement['attention_mask'][1:MAX_SIZE]], y_entrainement[1:MAX_SIZE], epochs=5, verbose=1, batch_size = 3, validation_data=([output_tokenizer_tests['input_ids'][1:MAX_SIZE],output_tokenizer_tests['attention_mask'][1:MAX_SIZE]],y_test[1:MAX_SIZE]))"
      ],
      "execution_count": null,
      "outputs": [
        {
          "output_type": "stream",
          "text": [
            "Epoch 1/5\n",
            "67/67 [==============================] - 6s 95ms/step - loss: 0.4969 - accuracy: 0.8643 - val_loss: 0.5366 - val_accuracy: 0.7487\n",
            "Epoch 2/5\n",
            "67/67 [==============================] - 5s 74ms/step - loss: 0.3665 - accuracy: 0.9296 - val_loss: 0.4823 - val_accuracy: 0.7889\n",
            "Epoch 3/5\n",
            "67/67 [==============================] - 5s 74ms/step - loss: 0.2745 - accuracy: 0.9648 - val_loss: 0.4590 - val_accuracy: 0.8040\n",
            "Epoch 4/5\n",
            "67/67 [==============================] - 5s 76ms/step - loss: 0.2349 - accuracy: 0.9799 - val_loss: 0.4536 - val_accuracy: 0.7940\n",
            "Epoch 5/5\n",
            "67/67 [==============================] - 5s 75ms/step - loss: 0.1915 - accuracy: 0.9849 - val_loss: 0.4562 - val_accuracy: 0.7940\n"
          ],
          "name": "stdout"
        }
      ]
    },
    {
      "cell_type": "code",
      "metadata": {
        "id": "TGsA4TSdRvnu",
        "outputId": "99939d29-4f5b-4c52-f39d-fd0e30888500",
        "colab": {
          "base_uri": "https://localhost:8080/",
          "height": 295
        }
      },
      "source": [
        "plt.plot(history2.history['accuracy'])\n",
        "plt.plot(history2.history['val_accuracy'])\n",
        "plt.title('Model accuracy')\n",
        "plt.ylabel('Accuracy')\n",
        "plt.xlabel('Epoch')\n",
        "plt.legend(['Train', 'Test'], loc='upper left')\n",
        "plt.show()"
      ],
      "execution_count": null,
      "outputs": [
        {
          "output_type": "display_data",
          "data": {
            "image/png": "[encoded data removed]",
            "text/plain": [
              "<Figure size 432x288 with 1 Axes>"
            ]
          },
          "metadata": {
            "tags": [],
            "needs_background": "light"
          }
        }
      ]
    }
  ]
}