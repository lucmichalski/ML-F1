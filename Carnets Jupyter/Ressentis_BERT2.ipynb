{
  "nbformat": 4,
  "nbformat_minor": 0,
  "metadata": {
    "colab": {
      "name": "Untitled1.ipynb",
      "provenance": [],
      "authorship_tag": "ABX9TyM0IPzmH4zCaxAMqwsdBtbu",
      "include_colab_link": true
    },
    "kernelspec": {
      "name": "python3",
      "display_name": "Python 3"
    },
    "accelerator": "GPU",
    "widgets": {
      "application/vnd.jupyter.widget-state+json": {
        "9c5918d04a274762996cf20f29af53f4": {
          "model_module": "@jupyter-widgets/controls",
          "model_name": "HBoxModel",
          "state": {
            "_view_name": "HBoxView",
            "_dom_classes": [],
            "_model_name": "HBoxModel",
            "_view_module": "@jupyter-widgets/controls",
            "_model_module_version": "1.5.0",
            "_view_count": null,
            "_view_module_version": "1.5.0",
            "box_style": "",
            "layout": "IPY_MODEL_d89b84e1dff44230988222ec41e03475",
            "_model_module": "@jupyter-widgets/controls",
            "children": [
              "IPY_MODEL_e8c8454580c6492d8cb32ee589a76935",
              "IPY_MODEL_332d075d7ed64906a48ae7e549c48db6"
            ]
          }
        },
        "d89b84e1dff44230988222ec41e03475": {
          "model_module": "@jupyter-widgets/base",
          "model_name": "LayoutModel",
          "state": {
            "_view_name": "LayoutView",
            "grid_template_rows": null,
            "right": null,
            "justify_content": null,
            "_view_module": "@jupyter-widgets/base",
            "overflow": null,
            "_model_module_version": "1.2.0",
            "_view_count": null,
            "flex_flow": null,
            "width": null,
            "min_width": null,
            "border": null,
            "align_items": null,
            "bottom": null,
            "_model_module": "@jupyter-widgets/base",
            "top": null,
            "grid_column": null,
            "overflow_y": null,
            "overflow_x": null,
            "grid_auto_flow": null,
            "grid_area": null,
            "grid_template_columns": null,
            "flex": null,
            "_model_name": "LayoutModel",
            "justify_items": null,
            "grid_row": null,
            "max_height": null,
            "align_content": null,
            "visibility": null,
            "align_self": null,
            "height": null,
            "min_height": null,
            "padding": null,
            "grid_auto_rows": null,
            "grid_gap": null,
            "max_width": null,
            "order": null,
            "_view_module_version": "1.2.0",
            "grid_template_areas": null,
            "object_position": null,
            "object_fit": null,
            "grid_auto_columns": null,
            "margin": null,
            "display": null,
            "left": null
          }
        },
        "e8c8454580c6492d8cb32ee589a76935": {
          "model_module": "@jupyter-widgets/controls",
          "model_name": "FloatProgressModel",
          "state": {
            "_view_name": "ProgressView",
            "style": "IPY_MODEL_373e454a6af14d9db92dc28f87dae7b0",
            "_dom_classes": [],
            "description": "Downloading: 100%",
            "_model_name": "FloatProgressModel",
            "bar_style": "success",
            "max": 433,
            "_view_module": "@jupyter-widgets/controls",
            "_model_module_version": "1.5.0",
            "value": 433,
            "_view_count": null,
            "_view_module_version": "1.5.0",
            "orientation": "horizontal",
            "min": 0,
            "description_tooltip": null,
            "_model_module": "@jupyter-widgets/controls",
            "layout": "IPY_MODEL_b289613bf6954ef79ea2ab1671659994"
          }
        },
        "332d075d7ed64906a48ae7e549c48db6": {
          "model_module": "@jupyter-widgets/controls",
          "model_name": "HTMLModel",
          "state": {
            "_view_name": "HTMLView",
            "style": "IPY_MODEL_c61681fc20f64e7c9a343bcd18fe9591",
            "_dom_classes": [],
            "description": "",
            "_model_name": "HTMLModel",
            "placeholder": "​",
            "_view_module": "@jupyter-widgets/controls",
            "_model_module_version": "1.5.0",
            "value": " 433/433 [00:00&lt;00:00, 474B/s]",
            "_view_count": null,
            "_view_module_version": "1.5.0",
            "description_tooltip": null,
            "_model_module": "@jupyter-widgets/controls",
            "layout": "IPY_MODEL_5c99491ea2504af4bb0c74d6d87bca52"
          }
        },
        "373e454a6af14d9db92dc28f87dae7b0": {
          "model_module": "@jupyter-widgets/controls",
          "model_name": "ProgressStyleModel",
          "state": {
            "_view_name": "StyleView",
            "_model_name": "ProgressStyleModel",
            "description_width": "initial",
            "_view_module": "@jupyter-widgets/base",
            "_model_module_version": "1.5.0",
            "_view_count": null,
            "_view_module_version": "1.2.0",
            "bar_color": null,
            "_model_module": "@jupyter-widgets/controls"
          }
        },
        "b289613bf6954ef79ea2ab1671659994": {
          "model_module": "@jupyter-widgets/base",
          "model_name": "LayoutModel",
          "state": {
            "_view_name": "LayoutView",
            "grid_template_rows": null,
            "right": null,
            "justify_content": null,
            "_view_module": "@jupyter-widgets/base",
            "overflow": null,
            "_model_module_version": "1.2.0",
            "_view_count": null,
            "flex_flow": null,
            "width": null,
            "min_width": null,
            "border": null,
            "align_items": null,
            "bottom": null,
            "_model_module": "@jupyter-widgets/base",
            "top": null,
            "grid_column": null,
            "overflow_y": null,
            "overflow_x": null,
            "grid_auto_flow": null,
            "grid_area": null,
            "grid_template_columns": null,
            "flex": null,
            "_model_name": "LayoutModel",
            "justify_items": null,
            "grid_row": null,
            "max_height": null,
            "align_content": null,
            "visibility": null,
            "align_self": null,
            "height": null,
            "min_height": null,
            "padding": null,
            "grid_auto_rows": null,
            "grid_gap": null,
            "max_width": null,
            "order": null,
            "_view_module_version": "1.2.0",
            "grid_template_areas": null,
            "object_position": null,
            "object_fit": null,
            "grid_auto_columns": null,
            "margin": null,
            "display": null,
            "left": null
          }
        },
        "c61681fc20f64e7c9a343bcd18fe9591": {
          "model_module": "@jupyter-widgets/controls",
          "model_name": "DescriptionStyleModel",
          "state": {
            "_view_name": "StyleView",
            "_model_name": "DescriptionStyleModel",
            "description_width": "",
            "_view_module": "@jupyter-widgets/base",
            "_model_module_version": "1.5.0",
            "_view_count": null,
            "_view_module_version": "1.2.0",
            "_model_module": "@jupyter-widgets/controls"
          }
        },
        "5c99491ea2504af4bb0c74d6d87bca52": {
          "model_module": "@jupyter-widgets/base",
          "model_name": "LayoutModel",
          "state": {
            "_view_name": "LayoutView",
            "grid_template_rows": null,
            "right": null,
            "justify_content": null,
            "_view_module": "@jupyter-widgets/base",
            "overflow": null,
            "_model_module_version": "1.2.0",
            "_view_count": null,
            "flex_flow": null,
            "width": null,
            "min_width": null,
            "border": null,
            "align_items": null,
            "bottom": null,
            "_model_module": "@jupyter-widgets/base",
            "top": null,
            "grid_column": null,
            "overflow_y": null,
            "overflow_x": null,
            "grid_auto_flow": null,
            "grid_area": null,
            "grid_template_columns": null,
            "flex": null,
            "_model_name": "LayoutModel",
            "justify_items": null,
            "grid_row": null,
            "max_height": null,
            "align_content": null,
            "visibility": null,
            "align_self": null,
            "height": null,
            "min_height": null,
            "padding": null,
            "grid_auto_rows": null,
            "grid_gap": null,
            "max_width": null,
            "order": null,
            "_view_module_version": "1.2.0",
            "grid_template_areas": null,
            "object_position": null,
            "object_fit": null,
            "grid_auto_columns": null,
            "margin": null,
            "display": null,
            "left": null
          }
        },
        "f8f84b69e7d44a998443a3cfd111a71f": {
          "model_module": "@jupyter-widgets/controls",
          "model_name": "HBoxModel",
          "state": {
            "_view_name": "HBoxView",
            "_dom_classes": [],
            "_model_name": "HBoxModel",
            "_view_module": "@jupyter-widgets/controls",
            "_model_module_version": "1.5.0",
            "_view_count": null,
            "_view_module_version": "1.5.0",
            "box_style": "",
            "layout": "IPY_MODEL_190d432c238c4e419c3694210cab31c8",
            "_model_module": "@jupyter-widgets/controls",
            "children": [
              "IPY_MODEL_fa6a36b0eb724530b510e8cbc5ab1d0e",
              "IPY_MODEL_6f66f7f5165549bb94674b69dc0dceb3"
            ]
          }
        },
        "190d432c238c4e419c3694210cab31c8": {
          "model_module": "@jupyter-widgets/base",
          "model_name": "LayoutModel",
          "state": {
            "_view_name": "LayoutView",
            "grid_template_rows": null,
            "right": null,
            "justify_content": null,
            "_view_module": "@jupyter-widgets/base",
            "overflow": null,
            "_model_module_version": "1.2.0",
            "_view_count": null,
            "flex_flow": null,
            "width": null,
            "min_width": null,
            "border": null,
            "align_items": null,
            "bottom": null,
            "_model_module": "@jupyter-widgets/base",
            "top": null,
            "grid_column": null,
            "overflow_y": null,
            "overflow_x": null,
            "grid_auto_flow": null,
            "grid_area": null,
            "grid_template_columns": null,
            "flex": null,
            "_model_name": "LayoutModel",
            "justify_items": null,
            "grid_row": null,
            "max_height": null,
            "align_content": null,
            "visibility": null,
            "align_self": null,
            "height": null,
            "min_height": null,
            "padding": null,
            "grid_auto_rows": null,
            "grid_gap": null,
            "max_width": null,
            "order": null,
            "_view_module_version": "1.2.0",
            "grid_template_areas": null,
            "object_position": null,
            "object_fit": null,
            "grid_auto_columns": null,
            "margin": null,
            "display": null,
            "left": null
          }
        },
        "fa6a36b0eb724530b510e8cbc5ab1d0e": {
          "model_module": "@jupyter-widgets/controls",
          "model_name": "FloatProgressModel",
          "state": {
            "_view_name": "ProgressView",
            "style": "IPY_MODEL_958260f41d8441eea2cc19a60c829a7a",
            "_dom_classes": [],
            "description": "Downloading: 100%",
            "_model_name": "FloatProgressModel",
            "bar_style": "success",
            "max": 231508,
            "_view_module": "@jupyter-widgets/controls",
            "_model_module_version": "1.5.0",
            "value": 231508,
            "_view_count": null,
            "_view_module_version": "1.5.0",
            "orientation": "horizontal",
            "min": 0,
            "description_tooltip": null,
            "_model_module": "@jupyter-widgets/controls",
            "layout": "IPY_MODEL_b6d2f630c2734565abc2f1b0714bac1a"
          }
        },
        "6f66f7f5165549bb94674b69dc0dceb3": {
          "model_module": "@jupyter-widgets/controls",
          "model_name": "HTMLModel",
          "state": {
            "_view_name": "HTMLView",
            "style": "IPY_MODEL_e433c31c305f4bae90ddd435ed6c7198",
            "_dom_classes": [],
            "description": "",
            "_model_name": "HTMLModel",
            "placeholder": "​",
            "_view_module": "@jupyter-widgets/controls",
            "_model_module_version": "1.5.0",
            "value": " 232k/232k [00:00&lt;00:00, 794kB/s]",
            "_view_count": null,
            "_view_module_version": "1.5.0",
            "description_tooltip": null,
            "_model_module": "@jupyter-widgets/controls",
            "layout": "IPY_MODEL_f53861f6de264f7eb272b6de3e0a2010"
          }
        },
        "958260f41d8441eea2cc19a60c829a7a": {
          "model_module": "@jupyter-widgets/controls",
          "model_name": "ProgressStyleModel",
          "state": {
            "_view_name": "StyleView",
            "_model_name": "ProgressStyleModel",
            "description_width": "initial",
            "_view_module": "@jupyter-widgets/base",
            "_model_module_version": "1.5.0",
            "_view_count": null,
            "_view_module_version": "1.2.0",
            "bar_color": null,
            "_model_module": "@jupyter-widgets/controls"
          }
        },
        "b6d2f630c2734565abc2f1b0714bac1a": {
          "model_module": "@jupyter-widgets/base",
          "model_name": "LayoutModel",
          "state": {
            "_view_name": "LayoutView",
            "grid_template_rows": null,
            "right": null,
            "justify_content": null,
            "_view_module": "@jupyter-widgets/base",
            "overflow": null,
            "_model_module_version": "1.2.0",
            "_view_count": null,
            "flex_flow": null,
            "width": null,
            "min_width": null,
            "border": null,
            "align_items": null,
            "bottom": null,
            "_model_module": "@jupyter-widgets/base",
            "top": null,
            "grid_column": null,
            "overflow_y": null,
            "overflow_x": null,
            "grid_auto_flow": null,
            "grid_area": null,
            "grid_template_columns": null,
            "flex": null,
            "_model_name": "LayoutModel",
            "justify_items": null,
            "grid_row": null,
            "max_height": null,
            "align_content": null,
            "visibility": null,
            "align_self": null,
            "height": null,
            "min_height": null,
            "padding": null,
            "grid_auto_rows": null,
            "grid_gap": null,
            "max_width": null,
            "order": null,
            "_view_module_version": "1.2.0",
            "grid_template_areas": null,
            "object_position": null,
            "object_fit": null,
            "grid_auto_columns": null,
            "margin": null,
            "display": null,
            "left": null
          }
        },
        "e433c31c305f4bae90ddd435ed6c7198": {
          "model_module": "@jupyter-widgets/controls",
          "model_name": "DescriptionStyleModel",
          "state": {
            "_view_name": "StyleView",
            "_model_name": "DescriptionStyleModel",
            "description_width": "",
            "_view_module": "@jupyter-widgets/base",
            "_model_module_version": "1.5.0",
            "_view_count": null,
            "_view_module_version": "1.2.0",
            "_model_module": "@jupyter-widgets/controls"
          }
        },
        "f53861f6de264f7eb272b6de3e0a2010": {
          "model_module": "@jupyter-widgets/base",
          "model_name": "LayoutModel",
          "state": {
            "_view_name": "LayoutView",
            "grid_template_rows": null,
            "right": null,
            "justify_content": null,
            "_view_module": "@jupyter-widgets/base",
            "overflow": null,
            "_model_module_version": "1.2.0",
            "_view_count": null,
            "flex_flow": null,
            "width": null,
            "min_width": null,
            "border": null,
            "align_items": null,
            "bottom": null,
            "_model_module": "@jupyter-widgets/base",
            "top": null,
            "grid_column": null,
            "overflow_y": null,
            "overflow_x": null,
            "grid_auto_flow": null,
            "grid_area": null,
            "grid_template_columns": null,
            "flex": null,
            "_model_name": "LayoutModel",
            "justify_items": null,
            "grid_row": null,
            "max_height": null,
            "align_content": null,
            "visibility": null,
            "align_self": null,
            "height": null,
            "min_height": null,
            "padding": null,
            "grid_auto_rows": null,
            "grid_gap": null,
            "max_width": null,
            "order": null,
            "_view_module_version": "1.2.0",
            "grid_template_areas": null,
            "object_position": null,
            "object_fit": null,
            "grid_auto_columns": null,
            "margin": null,
            "display": null,
            "left": null
          }
        }
      }
    }
  },
  "cells": [
    {
      "cell_type": "markdown",
      "metadata": {
        "id": "view-in-github",
        "colab_type": "text"
      },
      "source": [
        "<a href=\"https://colab.research.google.com/github/AlexandreBourrieau/ML-F1/blob/master/Carnets%20Jupyter/Ressentis_BERT2.ipynb\" target=\"_parent\"><img src=\"https://colab.research.google.com/assets/colab-badge.svg\" alt=\"Open In Colab\"/></a>"
      ]
    },
    {
      "cell_type": "markdown",
      "metadata": {
        "id": "LJih03NWtfi0"
      },
      "source": [
        "# **Classification de ressentis avec BERT**"
      ]
    },
    {
      "cell_type": "markdown",
      "metadata": {
        "id": "x6Xo1x4rtto8"
      },
      "source": [
        "L'objectif est de créer un modèle qui prend en entrée des commentaires (en Anglais) et attribue à chacun un ressenti positif ou négatif.  \n",
        "Le modèle est composé de deux parties :  \n",
        "* DistilBERT va encoder le commentaire et en extraire des informations qui seront passées ensuite au réseau de neurones.  \n",
        "* Le modèle suivant est un réseau de neurones qui sera créé avec Keras.  \n",
        "\n",
        "<img src=\"https://raw.githubusercontent.com/AlexandreBourrieau/ML-F1/master/Carnets%20Jupyter/Images/StructureBERT.png\" />  \n",
        "  \n",
        "  Les données qui s'échangent entre les deux modèles sont des vecteurs de dimension 768. Ces vecteurs sont l'équivalent de l'application d'un algorithme de prolongation lexicale sur les mots qui composent le commentaire."
      ]
    },
    {
      "cell_type": "markdown",
      "metadata": {
        "id": "gePh7FotwPTH"
      },
      "source": [
        "# **Installation et importation des librairies**\n"
      ]
    },
    {
      "cell_type": "code",
      "metadata": {
        "id": "g5WrrT_pzIHu",
        "outputId": "aed657ea-e094-4ed5-900e-950a25cfd80f",
        "colab": {
          "base_uri": "https://localhost:8080/",
          "height": 101
        }
      },
      "source": [
        "!pip install transformers --quiet"
      ],
      "execution_count": 1,
      "outputs": [
        {
          "output_type": "stream",
          "text": [
            "\u001b[K     |████████████████████████████████| 1.1MB 4.7MB/s \n",
            "\u001b[K     |████████████████████████████████| 3.0MB 15.1MB/s \n",
            "\u001b[K     |████████████████████████████████| 1.1MB 43.0MB/s \n",
            "\u001b[K     |████████████████████████████████| 890kB 52.7MB/s \n",
            "\u001b[?25h  Building wheel for sacremoses (setup.py) ... \u001b[?25l\u001b[?25hdone\n"
          ],
          "name": "stdout"
        }
      ]
    },
    {
      "cell_type": "code",
      "metadata": {
        "id": "L5n4uHtutPlJ"
      },
      "source": [
        "import pandas as pd\n",
        "import numpy as np\n",
        "import tensorflow as tf\n",
        "\n",
        "from tensorflow.keras.layers import Dense, Dropout, Input, Dropout, Lambda\n",
        "from tensorflow.keras import Sequential\n",
        "from tensorflow.keras.models import Model\n",
        "from tensorflow.keras.optimizers import Adam\n",
        "\n",
        "from sklearn.model_selection import train_test_split\n",
        "\n",
        "from transformers import BertConfig\n",
        "from transformers import TFBertModel\n",
        "from transformers import AutoTokenizer\n",
        "\n",
        "import matplotlib.pyplot as plt\n",
        "\n",
        "import random"
      ],
      "execution_count": 2,
      "outputs": []
    },
    {
      "cell_type": "markdown",
      "metadata": {
        "id": "uWZEaivhxTd2"
      },
      "source": [
        "# **Importation des données**\n",
        "\n",
        "On utilise la librairie pandas pour lire les données depuis le fichier csv disponible sur le site de [standford](https://nlp.stanford.edu/sentiment/index.html) qui contient des commentaires sur des films, chacun d'eux avec une note positive (1) ou négative (0)."
      ]
    },
    {
      "cell_type": "code",
      "metadata": {
        "id": "hOrjCZGyyH4P",
        "outputId": "bc9cfa40-a8dc-4759-fc0d-c22e68102b0c",
        "colab": {
          "base_uri": "https://localhost:8080/",
          "height": 101
        }
      },
      "source": [
        "# Download data from https://archive.ics.uci.edu/ml/datasets/Sentiment+Labelled+Sentences\n",
        "\n",
        "!wget --quiet \"https://archive.ics.uci.edu/ml/machine-learning-databases/00331/sentiment%20labelled%20sentences.zip\"\n",
        "!unzip -q \"sentiment labelled sentences\"\n",
        "!mv \"sentiment labelled sentences\" data\n",
        "!ls -l data"
      ],
      "execution_count": 3,
      "outputs": [
        {
          "output_type": "stream",
          "text": [
            "total 208\n",
            "-rw-r--r-- 1 root root 58226 Jul  5  2016 amazon_cells_labelled.txt\n",
            "-rw-r--r-- 1 root root 85285 Feb 15  2015 imdb_labelled.txt\n",
            "-rw-r--r-- 1 root root  1070 May 31  2015 readme.txt\n",
            "-rw-r--r-- 1 root root 61320 Jul  5  2016 yelp_labelled.txt\n"
          ],
          "name": "stdout"
        }
      ]
    },
    {
      "cell_type": "code",
      "metadata": {
        "id": "srymcCQw473x",
        "outputId": "ef5d0706-c31b-4616-cf43-dac830a21f7d",
        "colab": {
          "base_uri": "https://localhost:8080/",
          "height": 212
        }
      },
      "source": [
        "files = ['data/yelp_labelled.txt', 'data/amazon_cells_labelled.txt', 'data/imdb_labelled.txt']\n",
        "\n",
        "df_list = []\n",
        "for file in files:\n",
        "    df = pd.read_csv(file, names=['comment', 'sentiment'], sep='\\t')\n",
        "    df_list.append(df)\n",
        "\n",
        "data = pd.concat(df_list)\n",
        "data['length'] = data.comment.str.split(' ').str.len()\n",
        "\n",
        "max_seq_length = 200\n",
        "\n",
        "# Keep only short comments\n",
        "shortComments = data[data.length < max_seq_length-5]\n",
        "print('Number of rows: %d' % len(shortComments))\n",
        "\n",
        "shortComments.head()"
      ],
      "execution_count": 4,
      "outputs": [
        {
          "output_type": "stream",
          "text": [
            "Number of rows: 2743\n"
          ],
          "name": "stdout"
        },
        {
          "output_type": "execute_result",
          "data": {
            "text/html": [
              "<div>\n",
              "<style scoped>\n",
              "    .dataframe tbody tr th:only-of-type {\n",
              "        vertical-align: middle;\n",
              "    }\n",
              "\n",
              "    .dataframe tbody tr th {\n",
              "        vertical-align: top;\n",
              "    }\n",
              "\n",
              "    .dataframe thead th {\n",
              "        text-align: right;\n",
              "    }\n",
              "</style>\n",
              "<table border=\"1\" class=\"dataframe\">\n",
              "  <thead>\n",
              "    <tr style=\"text-align: right;\">\n",
              "      <th></th>\n",
              "      <th>comment</th>\n",
              "      <th>sentiment</th>\n",
              "      <th>length</th>\n",
              "    </tr>\n",
              "  </thead>\n",
              "  <tbody>\n",
              "    <tr>\n",
              "      <th>0</th>\n",
              "      <td>Wow... Loved this place.</td>\n",
              "      <td>1</td>\n",
              "      <td>4</td>\n",
              "    </tr>\n",
              "    <tr>\n",
              "      <th>1</th>\n",
              "      <td>Crust is not good.</td>\n",
              "      <td>0</td>\n",
              "      <td>4</td>\n",
              "    </tr>\n",
              "    <tr>\n",
              "      <th>2</th>\n",
              "      <td>Not tasty and the texture was just nasty.</td>\n",
              "      <td>0</td>\n",
              "      <td>8</td>\n",
              "    </tr>\n",
              "    <tr>\n",
              "      <th>3</th>\n",
              "      <td>Stopped by during the late May bank holiday of...</td>\n",
              "      <td>1</td>\n",
              "      <td>15</td>\n",
              "    </tr>\n",
              "    <tr>\n",
              "      <th>4</th>\n",
              "      <td>The selection on the menu was great and so wer...</td>\n",
              "      <td>1</td>\n",
              "      <td>12</td>\n",
              "    </tr>\n",
              "  </tbody>\n",
              "</table>\n",
              "</div>"
            ],
            "text/plain": [
              "                                             comment  sentiment  length\n",
              "0                           Wow... Loved this place.          1       4\n",
              "1                                 Crust is not good.          0       4\n",
              "2          Not tasty and the texture was just nasty.          0       8\n",
              "3  Stopped by during the late May bank holiday of...          1      15\n",
              "4  The selection on the menu was great and so wer...          1      12"
            ]
          },
          "metadata": {
            "tags": []
          },
          "execution_count": 4
        }
      ]
    },
    {
      "cell_type": "code",
      "metadata": {
        "id": "i5H-JyId5P0C"
      },
      "source": [
        "df = shortComments"
      ],
      "execution_count": 5,
      "outputs": []
    },
    {
      "cell_type": "markdown",
      "metadata": {
        "id": "xiO-lNQ6zYpU"
      },
      "source": [
        "Affiche quelques informations :"
      ]
    },
    {
      "cell_type": "code",
      "metadata": {
        "id": "FQT1SwyBzPvP",
        "outputId": "8459cfab-108d-48c0-f8e1-bc960583697d",
        "colab": {
          "base_uri": "https://localhost:8080/",
          "height": 269
        }
      },
      "source": [
        "print(df[0:10])\n",
        "print(\"Total des données : \", str(len(df)))\n",
        "print(\"Nombre d'avis positifs et négatifs : \",df['sentiment'].value_counts())"
      ],
      "execution_count": 6,
      "outputs": [
        {
          "output_type": "stream",
          "text": [
            "                                             comment  sentiment  length\n",
            "0                           Wow... Loved this place.          1       4\n",
            "1                                 Crust is not good.          0       4\n",
            "2          Not tasty and the texture was just nasty.          0       8\n",
            "3  Stopped by during the late May bank holiday of...          1      15\n",
            "4  The selection on the menu was great and so wer...          1      12\n",
            "5     Now I am getting angry and I want my damn pho.          0      11\n",
            "6              Honeslty it didn't taste THAT fresh.)          0       6\n",
            "7  The potatoes were like rubber and you could te...          0      22\n",
            "8                          The fries were great too.          1       5\n",
            "9                                     A great touch.          1       3\n",
            "Total des données :  2743\n",
            "Nombre d'avis positifs et négatifs :  1    1384\n",
            "0    1359\n",
            "Name: sentiment, dtype: int64\n"
          ],
          "name": "stdout"
        }
      ]
    },
    {
      "cell_type": "markdown",
      "metadata": {
        "id": "n4Vcm5K3Dej4"
      },
      "source": [
        "# **Préparation des données**\n",
        "\n",
        "# Séparation des données d'entrainement et de test \n",
        "On commence par récupérer 75% des données pour l'entrainement, et le reste pour les tests :\n",
        "\n",
        "<img src=\"https://github.com/AlexandreBourrieau/ML-F1/blob/master/Carnets%20Jupyter/Images/SeparationData.png?raw=true\"/>"
      ]
    },
    {
      "cell_type": "code",
      "metadata": {
        "id": "hO4tChea7lRm"
      },
      "source": [
        "TRAIN = 2330 \n",
        "TEST = 2743\n",
        "commentaires = shortComments.comment.astype(str).tolist()\n",
        "ressentis = shortComments.sentiment.tolist()\n",
        "labels = np.asarray(ressentis)\n",
        "\n",
        "x_entrainement = commentaires[0:TRAIN]\n",
        "y_entrainement = labels[0:TRAIN]\n",
        "x_test = commentaires[TRAIN:TEST]\n",
        "y_test = labels[TRAIN:TEST]"
      ],
      "execution_count": 7,
      "outputs": []
    },
    {
      "cell_type": "code",
      "metadata": {
        "id": "wQvjMUfz8FUC",
        "outputId": "8c863a91-0f42-47de-f8d1-9a8e109a32f3",
        "colab": {
          "base_uri": "https://localhost:8080/",
          "height": 50
        }
      },
      "source": [
        "print(x_entrainement[0])\n",
        "print(x_test[0])"
      ],
      "execution_count": 8,
      "outputs": [
        {
          "output_type": "stream",
          "text": [
            "Wow... Loved this place.\n",
            "steve martin delivers a really funny performance of a middle-aged, upper class, uptight white guy.  \n"
          ],
          "name": "stdout"
        }
      ]
    },
    {
      "cell_type": "markdown",
      "metadata": {
        "id": "QDDdUWj83wuz"
      },
      "source": [
        "# Tokénisation  \n",
        "La première étape est de tokéniser les commentaires : les mots sont décomposés en index numériques au format BERT.  \n",
        "\n",
        "<img src=\"https://github.com/AlexandreBourrieau/ML-F1/blob/master/Carnets%20Jupyter/Images/TokenizeBERT.png?raw=true\"/>\n",
        "\n",
        "Après tokénisation, on obtient une liste de séquences et chaque séquence représente une liste d'index. On souhaite que BERT analyse toutes les séquences en une seule fois (ce qui est plus rapide). Il faut donc que toutes les séquences aient la même taille. On va donc ajouter du bourrage pour égaliser la longueur des séquences. Cela est indiqué avec le paramètre `padding='True'`.  \n",
        "Lorsque un bourrage est ajouté, il faut que BERT ne prenne pas en compte les mots à cette position (car il n'y en a pas !). Cette restriction est réalisé grace à l'`attention_mask`"
      ]
    },
    {
      "cell_type": "code",
      "metadata": {
        "id": "yHhqUPeiqzam",
        "outputId": "c7c74069-e9ed-4c36-8c5c-fa689f15cc6d",
        "colab": {
          "base_uri": "https://localhost:8080/",
          "height": 114,
          "referenced_widgets": [
            "9c5918d04a274762996cf20f29af53f4",
            "d89b84e1dff44230988222ec41e03475",
            "e8c8454580c6492d8cb32ee589a76935",
            "332d075d7ed64906a48ae7e549c48db6",
            "373e454a6af14d9db92dc28f87dae7b0",
            "b289613bf6954ef79ea2ab1671659994",
            "c61681fc20f64e7c9a343bcd18fe9591",
            "5c99491ea2504af4bb0c74d6d87bca52",
            "f8f84b69e7d44a998443a3cfd111a71f",
            "190d432c238c4e419c3694210cab31c8",
            "fa6a36b0eb724530b510e8cbc5ab1d0e",
            "6f66f7f5165549bb94674b69dc0dceb3",
            "958260f41d8441eea2cc19a60c829a7a",
            "b6d2f630c2734565abc2f1b0714bac1a",
            "e433c31c305f4bae90ddd435ed6c7198",
            "f53861f6de264f7eb272b6de3e0a2010"
          ]
        }
      },
      "source": [
        "LONGUEUR_MAX_COMMENTAIRE = 200\n",
        "\n",
        "# Instanciation du tokeniseur\n",
        "tokenizer = AutoTokenizer.from_pretrained('bert-base-uncased')\n",
        "\n",
        "# Préparation des données d'entrainement\n",
        "output_tokenizer_entrainement = tokenizer(x_entrainement,max_length=LONGUEUR_MAX_COMMENTAIRE, padding='max_length', truncation=True, return_tensors='tf',add_special_tokens=True)\n",
        "\n",
        "# Préparation des données de tests\n",
        "output_tokenizer_tests = tokenizer(x_test,max_length=LONGUEUR_MAX_COMMENTAIRE, padding='max_length', truncation=True, return_tensors='tf',add_special_tokens=True)"
      ],
      "execution_count": 9,
      "outputs": [
        {
          "output_type": "display_data",
          "data": {
            "application/vnd.jupyter.widget-view+json": {
              "model_id": "9c5918d04a274762996cf20f29af53f4",
              "version_minor": 0,
              "version_major": 2
            },
            "text/plain": [
              "HBox(children=(FloatProgress(value=0.0, description='Downloading', max=433.0, style=ProgressStyle(description_…"
            ]
          },
          "metadata": {
            "tags": []
          }
        },
        {
          "output_type": "stream",
          "text": [
            "\n"
          ],
          "name": "stdout"
        },
        {
          "output_type": "display_data",
          "data": {
            "application/vnd.jupyter.widget-view+json": {
              "model_id": "f8f84b69e7d44a998443a3cfd111a71f",
              "version_minor": 0,
              "version_major": 2
            },
            "text/plain": [
              "HBox(children=(FloatProgress(value=0.0, description='Downloading', max=231508.0, style=ProgressStyle(descripti…"
            ]
          },
          "metadata": {
            "tags": []
          }
        },
        {
          "output_type": "stream",
          "text": [
            "\n"
          ],
          "name": "stdout"
        }
      ]
    },
    {
      "cell_type": "markdown",
      "metadata": {
        "id": "kzboG3fX5LkP"
      },
      "source": [
        "Regardons un peu comment sont formatées les données en sortie du tokéniseur :"
      ]
    },
    {
      "cell_type": "code",
      "metadata": {
        "id": "CPKJQ1ny-k3S",
        "outputId": "2a653c6a-dd04-4d45-a342-bc94742d31cd",
        "colab": {
          "base_uri": "https://localhost:8080/",
          "height": 386
        }
      },
      "source": [
        "output_tokenizer_entrainement"
      ],
      "execution_count": 15,
      "outputs": [
        {
          "output_type": "execute_result",
          "data": {
            "text/plain": [
              "{'input_ids': <tf.Tensor: shape=(2330, 200), dtype=int32, numpy=\n",
              "array([[  101, 10166,  1012, ...,     0,     0,     0],\n",
              "       [  101, 19116,  2003, ...,     0,     0,     0],\n",
              "       [  101,  2025, 11937, ...,     0,     0,     0],\n",
              "       ...,\n",
              "       [  101,  1006,  2200, ...,     0,     0,     0],\n",
              "       [  101,  2045,  2024, ...,     0,     0,     0],\n",
              "       [  101,  1996,  3459, ...,     0,     0,     0]], dtype=int32)>, 'token_type_ids': <tf.Tensor: shape=(2330, 200), dtype=int32, numpy=\n",
              "array([[0, 0, 0, ..., 0, 0, 0],\n",
              "       [0, 0, 0, ..., 0, 0, 0],\n",
              "       [0, 0, 0, ..., 0, 0, 0],\n",
              "       ...,\n",
              "       [0, 0, 0, ..., 0, 0, 0],\n",
              "       [0, 0, 0, ..., 0, 0, 0],\n",
              "       [0, 0, 0, ..., 0, 0, 0]], dtype=int32)>, 'attention_mask': <tf.Tensor: shape=(2330, 200), dtype=int32, numpy=\n",
              "array([[1, 1, 1, ..., 0, 0, 0],\n",
              "       [1, 1, 1, ..., 0, 0, 0],\n",
              "       [1, 1, 1, ..., 0, 0, 0],\n",
              "       ...,\n",
              "       [1, 1, 1, ..., 0, 0, 0],\n",
              "       [1, 1, 1, ..., 0, 0, 0],\n",
              "       [1, 1, 1, ..., 0, 0, 0]], dtype=int32)>}"
            ]
          },
          "metadata": {
            "tags": []
          },
          "execution_count": 15
        }
      ]
    },
    {
      "cell_type": "code",
      "metadata": {
        "id": "_0BL0iiKzVS7",
        "outputId": "9d956ad2-8539-4926-ac64-8b12837a8b92",
        "colab": {
          "base_uri": "https://localhost:8080/",
          "height": 554
        }
      },
      "source": [
        "print(output_tokenizer_entrainement['input_ids'][0,:])\n",
        "print(output_tokenizer_entrainement['attention_mask'][0,:])\n",
        "print(output_tokenizer_entrainement['token_type_ids'][0,:])"
      ],
      "execution_count": 69,
      "outputs": [
        {
          "output_type": "stream",
          "text": [
            "tf.Tensor(\n",
            "[  101 10166  1012  1012  1012  3866  2023  2173  1012   102     0     0\n",
            "     0     0     0     0     0     0     0     0     0     0     0     0\n",
            "     0     0     0     0     0     0     0     0     0     0     0     0\n",
            "     0     0     0     0     0     0     0     0     0     0     0     0\n",
            "     0     0     0     0     0     0     0     0     0     0     0     0\n",
            "     0     0     0     0     0     0     0     0     0     0     0     0\n",
            "     0     0     0     0     0     0     0     0     0     0     0     0\n",
            "     0     0     0     0     0     0     0     0     0     0     0     0\n",
            "     0     0     0     0     0     0     0     0     0     0     0     0\n",
            "     0     0     0     0     0     0     0     0     0     0     0     0\n",
            "     0     0     0     0     0     0     0     0     0     0     0     0\n",
            "     0     0     0     0     0     0     0     0     0     0     0     0\n",
            "     0     0     0     0     0     0     0     0     0     0     0     0\n",
            "     0     0     0     0     0     0     0     0     0     0     0     0\n",
            "     0     0     0     0     0     0     0     0     0     0     0     0\n",
            "     0     0     0     0     0     0     0     0     0     0     0     0\n",
            "     0     0     0     0     0     0     0     0], shape=(200,), dtype=int32)\n",
            "tf.Tensor(\n",
            "[1 1 1 1 1 1 1 1 1 1 0 0 0 0 0 0 0 0 0 0 0 0 0 0 0 0 0 0 0 0 0 0 0 0 0 0 0\n",
            " 0 0 0 0 0 0 0 0 0 0 0 0 0 0 0 0 0 0 0 0 0 0 0 0 0 0 0 0 0 0 0 0 0 0 0 0 0\n",
            " 0 0 0 0 0 0 0 0 0 0 0 0 0 0 0 0 0 0 0 0 0 0 0 0 0 0 0 0 0 0 0 0 0 0 0 0 0\n",
            " 0 0 0 0 0 0 0 0 0 0 0 0 0 0 0 0 0 0 0 0 0 0 0 0 0 0 0 0 0 0 0 0 0 0 0 0 0\n",
            " 0 0 0 0 0 0 0 0 0 0 0 0 0 0 0 0 0 0 0 0 0 0 0 0 0 0 0 0 0 0 0 0 0 0 0 0 0\n",
            " 0 0 0 0 0 0 0 0 0 0 0 0 0 0 0], shape=(200,), dtype=int32)\n",
            "tf.Tensor(\n",
            "[0 0 0 0 0 0 0 0 0 0 0 0 0 0 0 0 0 0 0 0 0 0 0 0 0 0 0 0 0 0 0 0 0 0 0 0 0\n",
            " 0 0 0 0 0 0 0 0 0 0 0 0 0 0 0 0 0 0 0 0 0 0 0 0 0 0 0 0 0 0 0 0 0 0 0 0 0\n",
            " 0 0 0 0 0 0 0 0 0 0 0 0 0 0 0 0 0 0 0 0 0 0 0 0 0 0 0 0 0 0 0 0 0 0 0 0 0\n",
            " 0 0 0 0 0 0 0 0 0 0 0 0 0 0 0 0 0 0 0 0 0 0 0 0 0 0 0 0 0 0 0 0 0 0 0 0 0\n",
            " 0 0 0 0 0 0 0 0 0 0 0 0 0 0 0 0 0 0 0 0 0 0 0 0 0 0 0 0 0 0 0 0 0 0 0 0 0\n",
            " 0 0 0 0 0 0 0 0 0 0 0 0 0 0 0], shape=(200,), dtype=int32)\n"
          ],
          "name": "stdout"
        }
      ]
    },
    {
      "cell_type": "code",
      "metadata": {
        "id": "Upopsuvz-v_R",
        "outputId": "844e1c72-50b7-417c-f66e-4aec06e4d76d",
        "colab": {
          "base_uri": "https://localhost:8080/",
          "height": 554
        }
      },
      "source": [
        "print(output_tokenizer_tests['input_ids'][0,:])\n",
        "print(output_tokenizer_tests['attention_mask'][0,:])\n",
        "print(output_tokenizer_tests['token_type_ids'][0,:])"
      ],
      "execution_count": 52,
      "outputs": [
        {
          "output_type": "stream",
          "text": [
            "tf.Tensor(\n",
            "[  101  3889  3235 18058  1037  2428  6057  2836  1997  1037  2690  1011\n",
            "  4793  1010  3356  2465  1010  2039 26143  2317  3124  1012   102     0\n",
            "     0     0     0     0     0     0     0     0     0     0     0     0\n",
            "     0     0     0     0     0     0     0     0     0     0     0     0\n",
            "     0     0     0     0     0     0     0     0     0     0     0     0\n",
            "     0     0     0     0     0     0     0     0     0     0     0     0\n",
            "     0     0     0     0     0     0     0     0     0     0     0     0\n",
            "     0     0     0     0     0     0     0     0     0     0     0     0\n",
            "     0     0     0     0     0     0     0     0     0     0     0     0\n",
            "     0     0     0     0     0     0     0     0     0     0     0     0\n",
            "     0     0     0     0     0     0     0     0     0     0     0     0\n",
            "     0     0     0     0     0     0     0     0     0     0     0     0\n",
            "     0     0     0     0     0     0     0     0     0     0     0     0\n",
            "     0     0     0     0     0     0     0     0     0     0     0     0\n",
            "     0     0     0     0     0     0     0     0     0     0     0     0\n",
            "     0     0     0     0     0     0     0     0     0     0     0     0\n",
            "     0     0     0     0     0     0     0     0], shape=(200,), dtype=int32)\n",
            "tf.Tensor(\n",
            "[1 1 1 1 1 1 1 1 1 1 1 1 1 1 1 1 1 1 1 1 1 1 1 0 0 0 0 0 0 0 0 0 0 0 0 0 0\n",
            " 0 0 0 0 0 0 0 0 0 0 0 0 0 0 0 0 0 0 0 0 0 0 0 0 0 0 0 0 0 0 0 0 0 0 0 0 0\n",
            " 0 0 0 0 0 0 0 0 0 0 0 0 0 0 0 0 0 0 0 0 0 0 0 0 0 0 0 0 0 0 0 0 0 0 0 0 0\n",
            " 0 0 0 0 0 0 0 0 0 0 0 0 0 0 0 0 0 0 0 0 0 0 0 0 0 0 0 0 0 0 0 0 0 0 0 0 0\n",
            " 0 0 0 0 0 0 0 0 0 0 0 0 0 0 0 0 0 0 0 0 0 0 0 0 0 0 0 0 0 0 0 0 0 0 0 0 0\n",
            " 0 0 0 0 0 0 0 0 0 0 0 0 0 0 0], shape=(200,), dtype=int32)\n",
            "tf.Tensor(\n",
            "[0 0 0 0 0 0 0 0 0 0 0 0 0 0 0 0 0 0 0 0 0 0 0 0 0 0 0 0 0 0 0 0 0 0 0 0 0\n",
            " 0 0 0 0 0 0 0 0 0 0 0 0 0 0 0 0 0 0 0 0 0 0 0 0 0 0 0 0 0 0 0 0 0 0 0 0 0\n",
            " 0 0 0 0 0 0 0 0 0 0 0 0 0 0 0 0 0 0 0 0 0 0 0 0 0 0 0 0 0 0 0 0 0 0 0 0 0\n",
            " 0 0 0 0 0 0 0 0 0 0 0 0 0 0 0 0 0 0 0 0 0 0 0 0 0 0 0 0 0 0 0 0 0 0 0 0 0\n",
            " 0 0 0 0 0 0 0 0 0 0 0 0 0 0 0 0 0 0 0 0 0 0 0 0 0 0 0 0 0 0 0 0 0 0 0 0 0\n",
            " 0 0 0 0 0 0 0 0 0 0 0 0 0 0 0], shape=(200,), dtype=int32)\n"
          ],
          "name": "stdout"
        }
      ]
    },
    {
      "cell_type": "markdown",
      "metadata": {
        "id": "fejN7ZrzzaOu"
      },
      "source": [
        "Regardons comment le premier commentaire a été encodé :"
      ]
    },
    {
      "cell_type": "code",
      "metadata": {
        "id": "Q-E6oJcG5Qlj",
        "outputId": "07693fe8-a2b9-49ca-d3fc-2c59905ff55a",
        "colab": {
          "base_uri": "https://localhost:8080/",
          "height": 454
        }
      },
      "source": [
        "print(\"Commentaire original :\", x_entrainement[0])\n",
        "print(\"input_ids: \", output_tokenizer_entrainement['input_ids'][0,:])\n",
        "print(\"attention_mask: \", output_tokenizer_entrainement['attention_mask'][0,:])\n",
        "print(\"input_ids: \", output_tokenizer_entrainement['attention_mask'][0,:])\n"
      ],
      "execution_count": 49,
      "outputs": [
        {
          "output_type": "stream",
          "text": [
            "Commentaire original : Wow... Loved this place.\n",
            "input_ids:  tf.Tensor(\n",
            "[  101 10166  1012  1012  1012  3866  2023  2173  1012   102     0     0\n",
            "     0     0     0     0     0     0     0     0     0     0     0     0\n",
            "     0     0     0     0     0     0     0     0     0     0     0     0\n",
            "     0     0     0     0     0     0     0     0     0     0     0     0\n",
            "     0     0     0     0     0     0     0     0     0     0     0     0\n",
            "     0     0     0     0     0     0     0     0     0     0     0     0\n",
            "     0     0     0     0     0     0     0     0     0     0     0     0\n",
            "     0     0     0     0     0     0     0     0     0     0     0     0\n",
            "     0     0     0     0     0     0     0     0     0     0     0     0\n",
            "     0     0     0     0     0     0     0     0     0     0     0     0\n",
            "     0     0     0     0     0     0     0     0     0     0     0     0\n",
            "     0     0     0     0     0     0     0     0     0     0     0     0\n",
            "     0     0     0     0     0     0     0     0     0     0     0     0\n",
            "     0     0     0     0     0     0     0     0     0     0     0     0\n",
            "     0     0     0     0     0     0     0     0     0     0     0     0\n",
            "     0     0     0     0     0     0     0     0     0     0     0     0\n",
            "     0     0     0     0     0     0     0     0], shape=(200,), dtype=int32)\n",
            "attention_mask:  tf.Tensor(\n",
            "[1 1 1 1 1 1 1 1 1 1 0 0 0 0 0 0 0 0 0 0 0 0 0 0 0 0 0 0 0 0 0 0 0 0 0 0 0\n",
            " 0 0 0 0 0 0 0 0 0 0 0 0 0 0 0 0 0 0 0 0 0 0 0 0 0 0 0 0 0 0 0 0 0 0 0 0 0\n",
            " 0 0 0 0 0 0 0 0 0 0 0 0 0 0 0 0 0 0 0 0 0 0 0 0 0 0 0 0 0 0 0 0 0 0 0 0 0\n",
            " 0 0 0 0 0 0 0 0 0 0 0 0 0 0 0 0 0 0 0 0 0 0 0 0 0 0 0 0 0 0 0 0 0 0 0 0 0\n",
            " 0 0 0 0 0 0 0 0 0 0 0 0 0 0 0 0 0 0 0 0 0 0 0 0 0 0 0 0 0 0 0 0 0 0 0 0 0\n",
            " 0 0 0 0 0 0 0 0 0 0 0 0 0 0 0], shape=(200,), dtype=int32)\n"
          ],
          "name": "stdout"
        }
      ]
    },
    {
      "cell_type": "markdown",
      "metadata": {
        "id": "xAmGZYP86Hx7"
      },
      "source": [
        "print(\"attention_mask: \", output_tokenizer_entrainement['attention_mask'][0,:])\n",
        "Regardons les 5 premiers résultats de la tokénisation : On peut identifier les mot-clés **[CLS]** (valeur : 101) et **[SEP]** (valeur : 102)"
      ]
    },
    {
      "cell_type": "code",
      "metadata": {
        "id": "WWVaSBqo59qW",
        "outputId": "9cf06f11-c37a-484f-c414-787667430d88",
        "colab": {
          "base_uri": "https://localhost:8080/",
          "height": 867
        }
      },
      "source": [
        "for i in range (0,5):\n",
        "  print(output_tokenizer_entrainement['input_ids'][i])"
      ],
      "execution_count": null,
      "outputs": [
        {
          "output_type": "stream",
          "text": [
            "tf.Tensor(\n",
            "[  101  2062  1997  1996  2168  2214 13044  5365  2038  2042  2667  2000\n",
            "  3413  2125  2004 11701  9458  4024  2005  2070  2051  2085   102     0\n",
            "     0     0     0     0     0     0     0     0     0     0     0     0\n",
            "     0     0     0     0     0     0     0     0     0     0     0     0\n",
            "     0     0     0     0     0     0     0     0     0     0     0     0\n",
            "     0     0     0     0     0     0     0     0     0     0     0     0\n",
            "     0     0     0     0     0     0     0     0     0     0     0     0\n",
            "     0     0     0     0     0     0     0     0     0     0     0     0\n",
            "     0     0     0     0], shape=(100,), dtype=int32)\n",
            "tf.Tensor(\n",
            "[ 101 4299 2100 9378 2100  102    0    0    0    0    0    0    0    0\n",
            "    0    0    0    0    0    0    0    0    0    0    0    0    0    0\n",
            "    0    0    0    0    0    0    0    0    0    0    0    0    0    0\n",
            "    0    0    0    0    0    0    0    0    0    0    0    0    0    0\n",
            "    0    0    0    0    0    0    0    0    0    0    0    0    0    0\n",
            "    0    0    0    0    0    0    0    0    0    0    0    0    0    0\n",
            "    0    0    0    0    0    0    0    0    0    0    0    0    0    0\n",
            "    0    0], shape=(100,), dtype=int32)\n",
            "tf.Tensor(\n",
            "[  101  2000  2488  3305  2339  2023  2106  1050  1005  1056  7532  2007\n",
            "  2033  2052  5478  2178 10523  1010  1998  1045 24185  1050  1005  1056\n",
            "  2022  3564  2083  2023  2028  2153  2008  1999  2993  2003  8570  2438\n",
            "   102     0     0     0     0     0     0     0     0     0     0     0\n",
            "     0     0     0     0     0     0     0     0     0     0     0     0\n",
            "     0     0     0     0     0     0     0     0     0     0     0     0\n",
            "     0     0     0     0     0     0     0     0     0     0     0     0\n",
            "     0     0     0     0     0     0     0     0     0     0     0     0\n",
            "     0     0     0     0], shape=(100,), dtype=int32)\n",
            "tf.Tensor(\n",
            "[  101  2009  3957  3532 11271  2482 12417  2498  2000  2079  2008  2003\n",
            "  2428  6057  1010  1998  2059 24273  2149  2000  4756  2138  2002  4490\n",
            "  2061 27243  2035  1996  2051   102     0     0     0     0     0     0\n",
            "     0     0     0     0     0     0     0     0     0     0     0     0\n",
            "     0     0     0     0     0     0     0     0     0     0     0     0\n",
            "     0     0     0     0     0     0     0     0     0     0     0     0\n",
            "     0     0     0     0     0     0     0     0     0     0     0     0\n",
            "     0     0     0     0     0     0     0     0     0     0     0     0\n",
            "     0     0     0     0], shape=(100,), dtype=int32)\n",
            "tf.Tensor(\n",
            "[  101  2066  1037 11478  2990  1051  1005 12856  1010  2049  6835 18874\n",
            "  2003  5173  2013  1037  8840 18384 16940  1010  2383  2018  2035  2049\n",
            "  8995 11305 20804  2041  1998 15105   102     0     0     0     0     0\n",
            "     0     0     0     0     0     0     0     0     0     0     0     0\n",
            "     0     0     0     0     0     0     0     0     0     0     0     0\n",
            "     0     0     0     0     0     0     0     0     0     0     0     0\n",
            "     0     0     0     0     0     0     0     0     0     0     0     0\n",
            "     0     0     0     0     0     0     0     0     0     0     0     0\n",
            "     0     0     0     0], shape=(100,), dtype=int32)\n"
          ],
          "name": "stdout"
        }
      ]
    },
    {
      "cell_type": "markdown",
      "metadata": {
        "id": "Vakqzatl3le0"
      },
      "source": [
        "# **Définition et utilisation du modèle distilBERT avec Keras**"
      ]
    },
    {
      "cell_type": "markdown",
      "metadata": {
        "id": "uE_TEftF1OCf"
      },
      "source": [
        "Les données d'entrées étant maintenant correctement préparées, commençons par définir le modèle distilBERT pour ensuite l'appliquer aux données afin de réaliser l'opération de prolongation lexicale.  \n",
        "\n",
        "<img src=\"https://github.com/AlexandreBourrieau/ML-F1/blob/master/Carnets%20Jupyter/Images/DistilBERT_process.png?raw=true\"/>  \n",
        "La fonction `model()` permet d'exécuter le modèle sur les séquences d'entrées."
      ]
    },
    {
      "cell_type": "code",
      "metadata": {
        "id": "38a0wigo18Zg",
        "outputId": "7fbee361-6410-4e52-f067-0541365a4826",
        "colab": {
          "base_uri": "https://localhost:8080/",
          "height": 121
        }
      },
      "source": [
        "# Configuration du modèle distilBERT\n",
        "config = BertConfig(num_labels=1)           # 1 label\n",
        "config.output_hidden_states = False               # Ne récupère pas la totalité des couches mais uniquement la dernière\n",
        "config.output_attentions = False\n",
        "\n",
        "# Instanciation du modèle distilBERT\n",
        "transformer_model = TFBertModel.from_pretrained('bert-base-uncased', config = config)\n",
        "\n",
        "# Défintion du format des entrées du modèle\n",
        "entrees_ids = tf.keras.layers.Input(shape=(LONGUEUR_MAX_COMMENTAIRE,), name='input_token', dtype='int32')\n",
        "entrees_masks = tf.keras.layers.Input(shape=(LONGUEUR_MAX_COMMENTAIRE,), name='masked_token', dtype='int32') \n",
        "entrees_type_ids = tf.keras.layers.Input(shape=(LONGUEUR_MAX_COMMENTAIRE,), name='segment_ids', dtype='int32') \n",
        "\n",
        "\n",
        "# Création de la sortie du modèle\n",
        "sequence_output, pooled_output  = transformer_model(entrees_ids, attention_mask=entrees_masks, token_type_ids=entrees_type_ids)"
      ],
      "execution_count": 58,
      "outputs": [
        {
          "output_type": "stream",
          "text": [
            "Some weights of the model checkpoint at bert-base-uncased were not used when initializing TFBertModel: ['nsp___cls', 'mlm___cls']\n",
            "- This IS expected if you are initializing TFBertModel from the checkpoint of a model trained on another task or with another architecture (e.g. initializing a BertForSequenceClassification model from a BertForPretraining model).\n",
            "- This IS NOT expected if you are initializing TFBertModel from the checkpoint of a model that you expect to be exactly identical (initializing a BertForSequenceClassification model from a BertForSequenceClassification model).\n",
            "All the weights of TFBertModel were initialized from the model checkpoint at bert-base-uncased.\n",
            "If your task is similar to the task the model of the checkpoint was trained on, you can already use TFBertModel for predictions without further training.\n"
          ],
          "name": "stderr"
        }
      ]
    },
    {
      "cell_type": "code",
      "metadata": {
        "id": "Zv9Yata4FYPR",
        "outputId": "688c6d5b-034e-43b6-caa8-01e2bf69e117",
        "colab": {
          "base_uri": "https://localhost:8080/",
          "height": 622
        }
      },
      "source": [
        "model_BERT_seq = tf.keras.Model(inputs=[entrees_ids, entrees_masks,entrees_type_ids], outputs = sequence_output,trainable=False)\n",
        "model_BERT_seq.summary()\n",
        "\n",
        "model_BERT_pool = tf.keras.Model(inputs=[entrees_ids, entrees_masks,entrees_type_ids], outputs = pooled_output,trainable=False)\n",
        "model_BERT_pool.summary()"
      ],
      "execution_count": 64,
      "outputs": [
        {
          "output_type": "stream",
          "text": [
            "Model: \"functional_16\"\n",
            "__________________________________________________________________________________________________\n",
            "Layer (type)                    Output Shape         Param #     Connected to                     \n",
            "==================================================================================================\n",
            "input_token (InputLayer)        [(None, 200)]        0                                            \n",
            "__________________________________________________________________________________________________\n",
            "masked_token (InputLayer)       [(None, 200)]        0                                            \n",
            "__________________________________________________________________________________________________\n",
            "segment_ids (InputLayer)        [(None, 200)]        0                                            \n",
            "__________________________________________________________________________________________________\n",
            "tf_bert_model_8 (TFBertModel)   ((None, 200, 768), ( 109482240   input_token[0][0]                \n",
            "                                                                 masked_token[0][0]               \n",
            "                                                                 segment_ids[0][0]                \n",
            "==================================================================================================\n",
            "Total params: 109,482,240\n",
            "Trainable params: 0\n",
            "Non-trainable params: 109,482,240\n",
            "__________________________________________________________________________________________________\n",
            "Model: \"functional_18\"\n",
            "__________________________________________________________________________________________________\n",
            "Layer (type)                    Output Shape         Param #     Connected to                     \n",
            "==================================================================================================\n",
            "input_token (InputLayer)        [(None, 200)]        0                                            \n",
            "__________________________________________________________________________________________________\n",
            "masked_token (InputLayer)       [(None, 200)]        0                                            \n",
            "__________________________________________________________________________________________________\n",
            "segment_ids (InputLayer)        [(None, 200)]        0                                            \n",
            "__________________________________________________________________________________________________\n",
            "tf_bert_model_8 (TFBertModel)   ((None, 200, 768), ( 109482240   input_token[0][0]                \n",
            "                                                                 masked_token[0][0]               \n",
            "                                                                 segment_ids[0][0]                \n",
            "==================================================================================================\n",
            "Total params: 109,482,240\n",
            "Trainable params: 0\n",
            "Non-trainable params: 109,482,240\n",
            "__________________________________________________________________________________________________\n"
          ],
          "name": "stdout"
        }
      ]
    },
    {
      "cell_type": "code",
      "metadata": {
        "id": "R6HVLZ5DIl6D",
        "outputId": "b0564929-1444-4cdd-9310-bb15f25aebaa",
        "colab": {
          "base_uri": "https://localhost:8080/",
          "height": 420
        }
      },
      "source": [
        "output_tokenizer_entrainement['input_ids'][0,:]"
      ],
      "execution_count": 45,
      "outputs": [
        {
          "output_type": "execute_result",
          "data": {
            "text/plain": [
              "<tf.Tensor: shape=(200,), dtype=int32, numpy=\n",
              "array([  101, 10166,  1012,  1012,  1012,  3866,  2023,  2173,  1012,\n",
              "         102,     0,     0,     0,     0,     0,     0,     0,     0,\n",
              "           0,     0,     0,     0,     0,     0,     0,     0,     0,\n",
              "           0,     0,     0,     0,     0,     0,     0,     0,     0,\n",
              "           0,     0,     0,     0,     0,     0,     0,     0,     0,\n",
              "           0,     0,     0,     0,     0,     0,     0,     0,     0,\n",
              "           0,     0,     0,     0,     0,     0,     0,     0,     0,\n",
              "           0,     0,     0,     0,     0,     0,     0,     0,     0,\n",
              "           0,     0,     0,     0,     0,     0,     0,     0,     0,\n",
              "           0,     0,     0,     0,     0,     0,     0,     0,     0,\n",
              "           0,     0,     0,     0,     0,     0,     0,     0,     0,\n",
              "           0,     0,     0,     0,     0,     0,     0,     0,     0,\n",
              "           0,     0,     0,     0,     0,     0,     0,     0,     0,\n",
              "           0,     0,     0,     0,     0,     0,     0,     0,     0,\n",
              "           0,     0,     0,     0,     0,     0,     0,     0,     0,\n",
              "           0,     0,     0,     0,     0,     0,     0,     0,     0,\n",
              "           0,     0,     0,     0,     0,     0,     0,     0,     0,\n",
              "           0,     0,     0,     0,     0,     0,     0,     0,     0,\n",
              "           0,     0,     0,     0,     0,     0,     0,     0,     0,\n",
              "           0,     0,     0,     0,     0,     0,     0,     0,     0,\n",
              "           0,     0,     0,     0,     0,     0,     0,     0,     0,\n",
              "           0,     0,     0,     0,     0,     0,     0,     0,     0,\n",
              "           0,     0], dtype=int32)>"
            ]
          },
          "metadata": {
            "tags": []
          },
          "execution_count": 45
        }
      ]
    },
    {
      "cell_type": "code",
      "metadata": {
        "id": "yazLY97pLAnU",
        "outputId": "027297c6-8353-47f8-e924-89d0a7550093",
        "colab": {
          "base_uri": "https://localhost:8080/",
          "height": 420
        }
      },
      "source": [
        "tf.reshape(output_tokenizer_entrainement['input_ids'][0],[1,200])"
      ],
      "execution_count": 76,
      "outputs": [
        {
          "output_type": "execute_result",
          "data": {
            "text/plain": [
              "<tf.Tensor: shape=(1, 200), dtype=int32, numpy=\n",
              "array([[  101, 10166,  1012,  1012,  1012,  3866,  2023,  2173,  1012,\n",
              "          102,     0,     0,     0,     0,     0,     0,     0,     0,\n",
              "            0,     0,     0,     0,     0,     0,     0,     0,     0,\n",
              "            0,     0,     0,     0,     0,     0,     0,     0,     0,\n",
              "            0,     0,     0,     0,     0,     0,     0,     0,     0,\n",
              "            0,     0,     0,     0,     0,     0,     0,     0,     0,\n",
              "            0,     0,     0,     0,     0,     0,     0,     0,     0,\n",
              "            0,     0,     0,     0,     0,     0,     0,     0,     0,\n",
              "            0,     0,     0,     0,     0,     0,     0,     0,     0,\n",
              "            0,     0,     0,     0,     0,     0,     0,     0,     0,\n",
              "            0,     0,     0,     0,     0,     0,     0,     0,     0,\n",
              "            0,     0,     0,     0,     0,     0,     0,     0,     0,\n",
              "            0,     0,     0,     0,     0,     0,     0,     0,     0,\n",
              "            0,     0,     0,     0,     0,     0,     0,     0,     0,\n",
              "            0,     0,     0,     0,     0,     0,     0,     0,     0,\n",
              "            0,     0,     0,     0,     0,     0,     0,     0,     0,\n",
              "            0,     0,     0,     0,     0,     0,     0,     0,     0,\n",
              "            0,     0,     0,     0,     0,     0,     0,     0,     0,\n",
              "            0,     0,     0,     0,     0,     0,     0,     0,     0,\n",
              "            0,     0,     0,     0,     0,     0,     0,     0,     0,\n",
              "            0,     0,     0,     0,     0,     0,     0,     0,     0,\n",
              "            0,     0,     0,     0,     0,     0,     0,     0,     0,\n",
              "            0,     0]], dtype=int32)>"
            ]
          },
          "metadata": {
            "tags": []
          },
          "execution_count": 76
        }
      ]
    },
    {
      "cell_type": "code",
      "metadata": {
        "id": "qV8_wAWxGcBQ",
        "outputId": "62fb6890-9be7-4be5-d167-5c58fbc738c9",
        "colab": {
          "base_uri": "https://localhost:8080/",
          "height": 34
        }
      },
      "source": [
        "sortie_prolongation_lexicale_seq = model_BERT_seq.predict(\n",
        "    [tf.reshape(output_tokenizer_entrainement['input_ids'][0,:],[1,LONGUEUR_MAX_COMMENTAIRE]),\n",
        "     tf.reshape(output_tokenizer_entrainement['attention_mask'][0,:],[1,LONGUEUR_MAX_COMMENTAIRE]),\n",
        "     tf.reshape(output_tokenizer_entrainement['token_type_ids'][0,:],[1,LONGUEUR_MAX_COMMENTAIRE])],\n",
        "     verbose=1)\n",
        "#sortie_prolongation_lexicale_pool = model_BERT_pool.predict([output_tokenizer_entrainement['input_ids'][0,:],output_tokenizer_entrainement['attention_mask'][0,:],output_tokenizer_entrainement['token_type_ids'][0,:]],verbose=1)"
      ],
      "execution_count": 81,
      "outputs": [
        {
          "output_type": "stream",
          "text": [
            "1/1 [==============================] - 0s 4ms/step\n"
          ],
          "name": "stdout"
        }
      ]
    },
    {
      "cell_type": "code",
      "metadata": {
        "id": "c2Np5EzJJRhX",
        "outputId": "4f2d5668-a416-438a-bc39-ff1ba3757589",
        "colab": {
          "base_uri": "https://localhost:8080/",
          "height": 235
        }
      },
      "source": [
        "sortie_prolongation_lexicale_seq"
      ],
      "execution_count": 82,
      "outputs": [
        {
          "output_type": "execute_result",
          "data": {
            "text/plain": [
              "array([[[ 0.33393192,  0.14335315,  0.1590707 , ..., -0.31104344,\n",
              "          0.37322164, -0.01549056],\n",
              "        [ 1.1796607 ,  0.33355787,  0.13666746, ..., -0.06487569,\n",
              "          1.2360889 , -0.70138323],\n",
              "        [ 0.27707082, -0.9116565 ,  0.7017319 , ...,  0.45878002,\n",
              "          1.2516536 , -0.80017656],\n",
              "        ...,\n",
              "        [ 0.16839711,  0.04809053,  0.59447914, ..., -0.23886147,\n",
              "          0.3385871 , -0.2529226 ],\n",
              "        [ 0.12073302,  0.02263926,  0.43841383, ..., -0.3371656 ,\n",
              "          0.1929771 , -0.10771533],\n",
              "        [ 0.23280287, -0.15965004,  0.5057518 , ..., -0.15771806,\n",
              "          0.23470399, -0.48317653]]], dtype=float32)"
            ]
          },
          "metadata": {
            "tags": []
          },
          "execution_count": 82
        }
      ]
    },
    {
      "cell_type": "markdown",
      "metadata": {
        "id": "z9vwylPK8B2d"
      },
      "source": [
        "Pour chaque commentaire en entrée, la sortie du modèle distilBERT est un vecteur de dimension MAX_SEQUENCE_LENGTHx768 :\n",
        "* Il y a au maximum MAX_SEQUENCE_LENGTH mots dans chaque commentaire\n",
        "* Il y a un vecteur en sortie du modèle par mot dans chaque commentaire\n",
        "* Le vecteur qui code chaque mot est de dimension 768"
      ]
    },
    {
      "cell_type": "markdown",
      "metadata": {
        "id": "84jTmbNS9och"
      },
      "source": [
        "Vérifions cela en regardant le format de la sortie du modèle :"
      ]
    },
    {
      "cell_type": "code",
      "metadata": {
        "id": "sjeRVYQVAE4i",
        "outputId": "93bd946f-3825-413f-9042-56cffb96865c",
        "colab": {
          "base_uri": "https://localhost:8080/",
          "height": 34
        }
      },
      "source": [
        "sequence_output"
      ],
      "execution_count": 25,
      "outputs": [
        {
          "output_type": "execute_result",
          "data": {
            "text/plain": [
              "<tf.Tensor 'tf_bert_model_1/bert/pooler/dense/Tanh:0' shape=(None, 768) dtype=float32>"
            ]
          },
          "metadata": {
            "tags": []
          },
          "execution_count": 25
        }
      ]
    },
    {
      "cell_type": "code",
      "metadata": {
        "id": "r91iRlJ1AXiG",
        "outputId": "cf912df5-bb7a-449c-e88f-1b5f7166c864",
        "colab": {
          "base_uri": "https://localhost:8080/",
          "height": 34
        }
      },
      "source": [
        "pooled_output"
      ],
      "execution_count": 26,
      "outputs": [
        {
          "output_type": "execute_result",
          "data": {
            "text/plain": [
              "<tf.Tensor 'tf_bert_model_1/bert/encoder/layer_._11/output/LayerNorm/batchnorm/add_1:0' shape=(None, 200, 768) dtype=float32>"
            ]
          },
          "metadata": {
            "tags": []
          },
          "execution_count": 26
        }
      ]
    },
    {
      "cell_type": "code",
      "metadata": {
        "id": "SRyx0t5z5_zY",
        "outputId": "bf5d93b3-5009-42fd-e3a9-11ece2527517",
        "colab": {
          "base_uri": "https://localhost:8080/",
          "height": 52
        }
      },
      "source": [
        "sortie_BERT"
      ],
      "execution_count": null,
      "outputs": [
        {
          "output_type": "execute_result",
          "data": {
            "text/plain": [
              "(<tf.Tensor 'tf_bert_model/bert/encoder/layer_._11/output/LayerNorm/batchnorm/add_1:0' shape=(None, 100, 768) dtype=float32>,\n",
              " <tf.Tensor 'tf_bert_model/bert/pooler/dense/Tanh:0' shape=(None, 768) dtype=float32>)"
            ]
          },
          "metadata": {
            "tags": []
          },
          "execution_count": 7
        }
      ]
    },
    {
      "cell_type": "markdown",
      "metadata": {
        "id": "puRHTFsg9x0d"
      },
      "source": [
        "Parmi les MAX_SEQUENCE_LENGTH vecteurs en sortie, il ne nous faut que le premier (celui qui correspond au mot clé [CLS]). On doit donc récupérer, pour chaque commentaire, le premier vecteur de dimension 768 parmi les MAX_SEQUENCE_LENGTH en sortie :  \n",
        "  \n",
        "  \n",
        "<img src=\"https://github.com/AlexandreBourrieau/ML-F1/blob/master/Carnets%20Jupyter/Images/Slice_SortieBERT.png?raw=true\"/>  "
      ]
    },
    {
      "cell_type": "code",
      "metadata": {
        "id": "-7R2nn5n7sww"
      },
      "source": [
        "sortie_CLS = sortie_BERT[0][:,0,:]"
      ],
      "execution_count": null,
      "outputs": []
    },
    {
      "cell_type": "code",
      "metadata": {
        "id": "ZMtLGYG44Kxh",
        "outputId": "00b5fa5d-66ae-4838-86ff-da0d7f512dc7",
        "colab": {
          "base_uri": "https://localhost:8080/",
          "height": 312
        }
      },
      "source": [
        "model_BERT = tf.keras.Model(inputs=[entrees_ids, entrees_masks], outputs = sortie_CLS,trainable=False)\n",
        "model_BERT.summary()"
      ],
      "execution_count": null,
      "outputs": [
        {
          "output_type": "stream",
          "text": [
            "Model: \"functional_1\"\n",
            "__________________________________________________________________________________________________\n",
            "Layer (type)                    Output Shape         Param #     Connected to                     \n",
            "==================================================================================================\n",
            "input_token (InputLayer)        [(None, 100)]        0                                            \n",
            "__________________________________________________________________________________________________\n",
            "masked_token (InputLayer)       [(None, 100)]        0                                            \n",
            "__________________________________________________________________________________________________\n",
            "tf_bert_model (TFBertModel)     ((None, 100, 768), ( 109482240   input_token[0][0]                \n",
            "                                                                 masked_token[0][0]               \n",
            "__________________________________________________________________________________________________\n",
            "tf_op_layer_strided_slice (Tens [(None, 768)]        0           tf_bert_model[0][0]              \n",
            "==================================================================================================\n",
            "Total params: 109,482,240\n",
            "Trainable params: 0\n",
            "Non-trainable params: 109,482,240\n",
            "__________________________________________________________________________________________________\n"
          ],
          "name": "stdout"
        }
      ]
    },
    {
      "cell_type": "markdown",
      "metadata": {
        "id": "PEMRlzgpHlV2"
      },
      "source": [
        "Exécutons maintenant distilBERT sur les 10 premiers commentaires afin de regarder le format des sorties obtenues :"
      ]
    },
    {
      "cell_type": "code",
      "metadata": {
        "id": "sYJ7h-RC43o4",
        "outputId": "a547d543-c4d0-449d-d129-303c1a095cd0",
        "colab": {
          "base_uri": "https://localhost:8080/",
          "height": 1000
        }
      },
      "source": [
        "sortie_prolongation_lexicale = model_BERT.predict([output_tokenizer_entrainement['input_ids'][1:10],output_tokenizer_entrainement['attention_mask'][1:10]],verbose=1)\n",
        "print(\"Commentaire :\", commentaires[0])\n",
        "print(\"input_ids\", output_tokenizer_entrainement['input_ids'][0])\n",
        "print(\"Sortie BERT\", sortie_prolongation_lexicale[0])"
      ],
      "execution_count": null,
      "outputs": [
        {
          "output_type": "stream",
          "text": [
            "1/1 [==============================] - 0s 1ms/step\n",
            "Commentaire : a stirring , funny and finally transporting re imagining of beauty and the beast and 1930s horror films\n",
            "input_ids tf.Tensor(\n",
            "[  101  2009  1005  1055  2074  2205  2919  1996 11167  2015  2776  5607\n",
            "  3209  1999  1996  2519  2007  8872 17312 18856 17322  2015  2066  2019\n",
            "  3514  2100  2608 11033  1010  4686  2482  8632 11139  1998  1996  2128\n",
            " 24871  7491  2952   102     0     0     0     0     0     0     0     0\n",
            "     0     0     0     0     0     0     0     0     0     0     0     0\n",
            "     0     0     0     0     0     0     0     0     0     0     0     0\n",
            "     0     0     0     0     0     0     0     0     0     0     0     0\n",
            "     0     0     0     0     0     0     0     0     0     0     0     0\n",
            "     0     0     0     0], shape=(100,), dtype=int32)\n",
            "Sortie BERT [ 1.25438720e-01  3.04992706e-01 -4.04092669e-02 -3.53617221e-01\n",
            " -1.35262787e-01 -5.36565661e-01  1.66037887e-01  4.17941540e-01\n",
            " -7.69606382e-02 -5.29784203e-01 -1.55198470e-01  1.78011581e-01\n",
            " -2.67961845e-02  3.02552998e-01  2.78198481e-01  2.51336932e-01\n",
            " -9.28013772e-02  1.24307744e-01 -1.62236184e-01 -2.84903735e-01\n",
            "  6.13201819e-02 -6.27298653e-03  1.99205548e-01 -1.65071003e-02\n",
            " -2.94478834e-01 -3.27428162e-01 -1.90990567e-02 -3.20853055e-01\n",
            "  5.98728657e-05  1.70125619e-01  1.79434344e-01  3.90179977e-02\n",
            " -3.67910385e-01  4.53589439e-01 -1.90113828e-01 -1.94573533e-02\n",
            "  1.66733563e-01  1.43095106e-03  2.95166522e-02 -7.53613003e-03\n",
            " -1.55085996e-02  3.10579628e-01  2.18992561e-01 -3.27159204e-02\n",
            "  4.54903916e-02 -3.73449385e-01 -3.00655770e+00 -3.21063340e-01\n",
            " -1.21120185e-01 -4.34197009e-01  3.27710181e-01 -4.21552062e-02\n",
            "  2.53873646e-01  3.44084837e-02 -1.39655992e-02  4.26414371e-01\n",
            " -5.43834031e-01  5.07382870e-01  2.33003169e-01 -3.70757103e-01\n",
            "  6.53514624e-01 -7.94675201e-03 -2.58736521e-01  2.60706842e-01\n",
            " -1.09160200e-01  1.73925668e-01 -1.01617038e-01 -2.21997984e-02\n",
            " -6.55505583e-02  7.11195529e-01 -2.67904609e-01 -5.92120625e-02\n",
            " -4.94350679e-03 -1.10373594e-01  4.49345633e-02  1.47691622e-01\n",
            "  6.86630607e-04 -1.64884403e-02 -1.82993233e-01 -1.85792297e-02\n",
            " -9.20781940e-02  1.93685934e-01  2.90231109e-01 -1.47794068e-01\n",
            " -2.80478209e-01  6.94536716e-02 -6.57511279e-02 -5.87503910e-02\n",
            "  5.02577901e-01  6.91121161e-01 -4.92387041e-02 -1.79884255e-01\n",
            " -1.24031380e-01 -2.15627328e-01  3.05358231e-01 -1.62277073e-01\n",
            " -1.70366820e-02  1.27126470e-01  8.95109624e-02  2.94510841e-01\n",
            "  3.56908478e-02  2.22147584e-01 -1.78360045e-01 -2.42445320e-01\n",
            " -4.60436583e-01  1.12560160e-01  1.13963462e-01  2.36461788e-01\n",
            "  1.33399129e-01 -2.39989233e+00  3.53438318e-01  1.84329271e-01\n",
            " -1.59116298e-01 -5.25098920e-01 -1.19689167e-01  4.94889170e-02\n",
            "  2.33381793e-01 -2.83690870e-01 -1.42767519e-01  1.37843579e-01\n",
            " -4.86208618e-01  8.49869251e-01  1.19036518e-01 -4.03234571e-01\n",
            "  1.06365994e-01  2.08523139e-01  3.58721077e-01 -2.13693589e-01\n",
            "  6.65322468e-02  3.24549496e-01  2.37938777e-01  1.97618067e-01\n",
            " -7.45461881e-02  3.06644201e-01 -2.41778418e-01  3.20310175e-01\n",
            " -4.81018946e-02 -1.32616103e-01 -3.26938570e-01  9.68366340e-02\n",
            "  1.54130887e-02 -1.54852167e-01 -3.27336431e+00  2.28447646e-01\n",
            "  1.95401907e-01  2.78128177e-01 -1.01296529e-01  2.13451371e-01\n",
            " -1.78441793e-01 -4.07924727e-02  7.90408924e-02 -2.09838927e-01\n",
            "  8.00820291e-02  1.40274614e-01  3.14047396e-01 -2.88727641e-01\n",
            "  3.13647054e-02  8.74448046e-02  1.18339315e-01  1.14995264e-01\n",
            " -3.00579131e-01 -5.24042547e-02  1.85935482e-01 -1.51580483e-01\n",
            "  1.14913762e-01  8.96099135e-02  4.44001824e-01  5.47024012e-01\n",
            "  3.03727180e-01 -3.46365303e-01 -6.55955076e-03  5.20771623e-01\n",
            "  3.92717153e-01 -1.63021550e-01 -2.89323300e-01  2.17396244e-02\n",
            " -3.31908017e-02  3.75568420e-01  1.95069656e-01 -3.19359988e-01\n",
            " -2.43353292e-01  1.51914924e-01 -2.82115210e-02  1.84751302e-01\n",
            "  8.09807777e-01  1.79201156e-01  3.30863625e-01  2.60554612e-01\n",
            "  8.16632733e-02  4.02976386e-02 -6.20923601e-02 -3.45774800e-01\n",
            " -3.05796534e-01 -8.60401616e-03  5.09660244e-01  2.23629430e-01\n",
            "  3.35994154e-01 -2.01503932e-03  1.86405722e-02  6.35391921e-02\n",
            "  2.16565520e-01  1.49059176e-01 -9.53312293e-02 -2.48249233e-01\n",
            " -1.95135862e-01  3.68454409e+00  1.35854259e-02 -6.14082143e-02\n",
            "  1.36696041e-01  1.59570023e-01 -2.81936020e-01 -3.21394168e-02\n",
            " -3.95294249e-01  1.80880532e-01 -5.00521399e-02  1.24634385e-01\n",
            "  4.13401604e-01  2.63290443e-02 -2.56264985e-01 -1.54719353e-01\n",
            " -1.39783934e-01  1.58631235e-01 -4.93973643e-02  3.08086008e-01\n",
            " -1.74218506e-01  6.40523583e-02 -1.84381008e-03  2.91120738e-01\n",
            " -1.41633779e-01 -1.51074028e+00 -9.66611728e-02 -6.77726045e-02\n",
            "  1.83084890e-01  3.38779747e-01 -1.96781427e-01 -5.75205162e-02\n",
            " -2.26031959e-01 -1.75180897e-01  4.15630266e-02  2.19834566e-01\n",
            "  5.35425127e-01 -3.13040257e-01  1.67319447e-01  6.23162389e-01\n",
            " -7.01334476e-02  3.81430805e-01  2.36811414e-01 -3.79351437e-01\n",
            "  2.72722691e-01 -1.58876017e-01  3.60770673e-01  2.48632833e-01\n",
            "  1.02591932e-01 -2.44220465e-01  8.62260088e-02 -1.30417690e-01\n",
            " -6.75509647e-02 -1.14361353e-01 -1.49510652e-02 -2.06985712e-01\n",
            " -1.80980831e-01 -4.25038487e-02 -2.27093980e-01  1.21105105e-01\n",
            " -1.00978881e-01 -4.28204983e-01  1.37070328e-01 -4.61718768e-01\n",
            "  7.19109178e-03  2.56843753e-02 -3.77316177e-02 -2.49095604e-01\n",
            " -5.25344014e-01 -3.62339759e+00 -4.47337236e-03  3.79502654e-01\n",
            " -8.27790350e-02  1.72253072e-01  1.55995995e-01  1.62940890e-01\n",
            "  1.26024619e-01 -1.90307975e-01 -2.56392360e-01  7.42233217e-01\n",
            " -3.25126380e-01 -6.28325045e-02  2.06220955e-01 -6.20736301e-01\n",
            "  3.39758337e-01 -1.01498365e-01 -1.09956585e-01 -3.30082834e-01\n",
            " -1.29069090e-01  3.67466956e-01  7.21167028e-02 -9.19815153e-02\n",
            "  6.54034838e-02 -5.57131469e-02 -2.20360935e-01 -6.52994663e-02\n",
            " -3.35091621e-01  3.66980374e-01  1.31473728e-02 -4.29767482e-02\n",
            " -2.99369544e-01 -2.37197176e-01 -1.66694358e-01  2.11117089e-01\n",
            " -3.91113281e+00  5.97698651e-02  7.94600099e-02 -3.57792169e-01\n",
            "  1.92211524e-01  1.01635247e-01  3.74912024e-01 -1.11620918e-01\n",
            " -9.02181715e-02 -5.98670542e-03  3.45574528e-01  3.33808780e-01\n",
            " -3.30430046e-02  4.51358855e-01  4.16560769e-01 -2.08803132e-01\n",
            "  3.63764137e-01 -8.53619203e-02 -1.77375153e-02  9.24892798e-02\n",
            "  1.28608748e-01  2.45670117e-02  3.98989432e-02 -2.12453842e-01\n",
            "  1.40063047e-01  8.58048052e-02 -4.22102094e-01 -3.04939836e-01\n",
            " -3.30581009e-01 -6.75816685e-02 -9.29630399e-02 -2.28292122e-02\n",
            " -1.13728028e-02  1.02755666e-01 -2.35084325e-01 -2.55957961e-01\n",
            "  9.08331424e-02  3.51518810e-01  6.33789301e-01 -2.33798362e-02\n",
            "  1.20298602e-01  3.23741108e-01  1.30069003e-01  7.22379535e-02\n",
            "  3.60257030e-02  2.55957574e-01 -2.25646049e-01 -5.19687235e-01\n",
            "  1.44592822e-01  3.03238213e-01 -3.37411910e-01 -1.23911306e-01\n",
            "  6.82713628e-01 -2.62497187e-01 -5.60925864e-02 -5.43722324e-02\n",
            "  1.50989115e-01  5.16158789e-02  3.84167254e-01  1.61530405e-01\n",
            "  3.01485300e-01 -1.41411453e-01  2.53722332e-02 -3.39091301e-01\n",
            " -3.56685929e-02  2.10211843e-01  2.22978845e-01 -4.06075627e-01\n",
            "  9.42938924e-02  4.09363300e-01 -4.63686973e-01  5.05783856e-01\n",
            " -1.14048362e-01 -9.24833119e-01 -2.24778250e-01  3.17279249e-02\n",
            " -2.96738148e-01 -9.55296308e-02  1.36026740e-01  1.50072202e-02\n",
            "  1.59615263e-01 -4.08558547e-02  2.81396806e-01  4.41635907e-01\n",
            " -1.81734160e-01  7.65754655e-02  1.60617441e-01  5.65392561e-02\n",
            " -1.92883968e-01 -6.56109750e-02 -2.02338830e-01  2.07399815e-01\n",
            " -6.38484359e-02  6.90608323e-02  2.32745767e-01  3.10704768e-01\n",
            "  4.60282534e-01 -6.05364323e-01  3.66560698e-01  8.88908654e-02\n",
            "  4.92342263e-02 -6.19582534e-01 -1.08616441e-01  1.68992087e-01\n",
            "  3.52882817e-02 -9.97093096e-02 -1.87115267e-01  3.48674238e-01\n",
            " -1.34905085e-01  3.79861742e-01  2.19463333e-01  8.09228420e-02\n",
            "  1.02871343e-01  1.81077823e-01  9.68283892e-01 -2.18128860e-01\n",
            "  3.02654833e-01  1.29183441e-01  1.93663955e-01 -1.08412519e-01\n",
            "  2.35052243e-01 -2.31732890e-01  1.40196741e-01  1.50091201e-01\n",
            " -3.58038157e-01 -1.57206267e-01 -6.64198846e-02 -2.85051644e-01\n",
            " -4.92263138e-01  7.20204264e-02 -5.86007051e-02  1.57782331e-01\n",
            " -2.81385452e-01 -6.07170820e-01 -4.67149168e-03  1.63419973e-02\n",
            "  3.69474925e-02 -9.88978595e-02 -1.58272579e-01  3.89414355e-02\n",
            "  1.52655602e-01  2.60407984e-01 -1.95995659e-01  3.45577210e-01\n",
            "  1.35713205e-01  2.83941329e-01  7.43273646e-03 -1.52903169e-01\n",
            " -8.92873183e-02  5.57577252e-01  3.93265724e-01 -2.54590929e-01\n",
            " -1.10175446e-01  2.72173822e-01  2.74663031e-01 -5.75832166e-02\n",
            "  1.73535660e-01  5.54621406e-03  1.08890891e-01  2.16211900e-02\n",
            "  2.13176981e-01  1.60906136e-01 -1.29666018e+00  3.52409303e-01\n",
            "  1.16679974e-01  1.64027289e-01  1.46521509e-01 -1.29652053e-01\n",
            " -3.23683858e-01  4.65588540e-01 -9.66967195e-02  2.66242743e-01\n",
            " -2.77063668e-01  1.67649761e-01  4.26280528e-01  1.19525827e-02\n",
            " -2.91149765e-01  2.72236705e-01 -4.30547595e-02 -4.43924934e-01\n",
            "  1.20741874e-02 -7.40876496e-02 -4.09861714e-01  2.80711025e-01\n",
            "  1.44106708e-02 -5.62911257e-02 -4.75894362e-01 -4.83179390e-01\n",
            " -2.04606175e-01  5.92849970e-01  1.91056788e-01  2.94398874e-01\n",
            " -2.63929307e-01  1.72915727e-01  1.10616148e-01 -6.51548728e-02\n",
            "  2.06063509e-01 -1.00035250e-01  1.24546468e-01  2.25003526e-01\n",
            "  2.01469675e-01  4.12052631e-01 -2.16758817e-01  4.31937784e-01\n",
            " -5.31950593e-02  5.26174568e-02  3.34037036e-01  1.37993693e-01\n",
            " -5.30691862e-01  2.49736518e-01 -2.57134855e-01 -3.32368433e-01\n",
            " -3.29956234e-01 -6.52687028e-02 -2.85341814e-02 -2.52977580e-01\n",
            " -2.64394552e-01 -2.87612900e-02  1.46501660e-01  1.47818446e-01\n",
            "  5.51861301e-02  1.27174035e-02  3.88268292e-01 -1.26036003e-01\n",
            " -1.79074556e-02 -4.51879725e-02 -3.75417829e-01 -4.71367002e-01\n",
            "  3.48215178e-02 -1.97096199e-01 -4.49584007e-01  1.48468584e-01\n",
            "  3.00500870e-01 -6.84902072e-02 -2.15087652e-01 -3.31120826e-02\n",
            " -5.55935681e-01 -5.65264598e-02 -1.38120472e-01 -1.05330244e-01\n",
            "  4.17981803e-01 -1.24389350e-01  1.02122538e-02  8.19028020e-02\n",
            " -3.08322251e-01  2.39195451e-01 -2.00597584e-01  1.97171103e-02\n",
            "  6.12645186e-02  1.17154710e-01  1.46669582e-01 -1.36062831e-01\n",
            "  5.23073599e-03 -2.88243681e-01  1.34244084e-01  1.39508218e-01\n",
            "  5.32758176e-01  2.11620077e-01  1.49222791e-01 -7.35829622e-02\n",
            "  1.13510080e-01 -4.93494213e-01 -1.98179349e-01  1.80657640e-01\n",
            "  1.05302669e-01  4.61813867e-01 -9.23632979e-02  1.78495511e-01\n",
            "  5.03406942e-01  6.32394627e-02 -5.77772081e-01 -5.67347556e-02\n",
            " -4.94262993e-01  1.96310192e-01 -1.49916336e-02 -6.09498508e-02\n",
            " -9.84045491e-02 -4.55009490e-02  1.65756047e-01 -3.50179464e-01\n",
            "  2.03688002e+00  2.70365551e-03  1.16376936e-01 -2.13975072e-01\n",
            " -2.36753970e-01  1.46535859e-01 -1.18048161e-01  2.19436213e-01\n",
            "  5.51592298e-02  9.42493826e-02 -2.83220083e-01  4.47421670e-01\n",
            " -1.21219352e-01  3.69150072e-01  2.86785483e-01  3.28687727e-01\n",
            " -7.97981769e-02 -2.93552399e-01 -7.11848199e-01 -1.79628864e-01\n",
            " -2.33034551e-01 -3.30806434e-01 -7.75725693e-02 -3.73284042e-01\n",
            " -4.50107642e-02  2.70817339e-01 -7.70969316e-03  3.36553156e-01\n",
            " -1.55387238e-01 -5.13182208e-02  2.55585790e-01  6.80567771e-02\n",
            "  4.44345176e-02  2.80457526e-01 -2.37684518e-01 -1.11579418e-01\n",
            " -2.21840441e-02 -1.90957822e-03  5.93526810e-02 -5.72124273e-02\n",
            "  4.86181438e-01  4.77957763e-02  3.01601738e-01  9.97592881e-02\n",
            " -1.76949292e-01  2.85945833e-02  2.03193098e-01 -1.58364549e-01\n",
            " -1.57032102e-01  2.31089834e-02  1.92013696e-01 -2.02146411e-01\n",
            "  4.59413826e-02 -1.76435158e-01  8.35444927e-02  1.09371617e-02\n",
            " -1.31311387e-01 -1.04697406e-01 -4.00794111e-02 -8.21678787e-02\n",
            "  2.55347528e-02 -2.54869342e-01  6.26953781e-01 -2.38732696e-01\n",
            " -9.15851146e-02 -1.10719770e-01 -1.68602467e-01 -2.69882619e-01\n",
            "  1.41679555e-01 -1.13467351e-02 -8.17745924e-02  4.24456060e-01\n",
            "  1.48895085e-01  1.27507150e-01  3.56363475e-01 -1.70601070e-01\n",
            "  3.27587575e-01 -1.78114891e-01 -1.08297005e-01 -2.78006840e+00\n",
            "  4.08149630e-01  3.60372186e-01  2.44651422e-01 -9.37709510e-02\n",
            "  3.43943268e-01  3.60743254e-01  2.89857864e-01 -6.65218085e-02\n",
            "  1.63481720e-02  7.29940087e-03  6.79186940e-01  3.27077694e-02\n",
            "  3.48391294e-01 -1.26559287e-02  2.94813335e-01 -1.62532926e-01\n",
            " -1.84664473e-01 -1.55910537e-01  1.56944841e-01 -1.98448420e-01\n",
            "  9.02370661e-02 -3.21811326e-02  1.10618427e-01 -4.04208571e-01\n",
            "  3.29638779e-01  3.54208983e-02 -1.71947122e-01  3.11307192e-01\n",
            "  1.05578899e-01  3.85620818e-02  7.97553062e-02  2.90807262e-02\n",
            " -1.61390334e-01  3.06488782e-01  1.00744218e-02  1.11006543e-01\n",
            " -4.06752527e-03  3.70442837e-01  1.86634809e-03 -5.45597486e-02\n",
            "  5.89906096e-01 -5.01787126e-01  5.69272578e-01  2.05188870e-01\n",
            "  1.11623064e-01  2.13014141e-01 -1.47530586e-01  1.39748201e-01\n",
            " -5.16887426e-01 -6.00162596e-02  8.79847631e-02 -1.00277364e-04\n",
            " -2.52403468e-01  5.09805620e-01 -2.87013575e-02 -2.26631671e-01\n",
            " -2.20835984e-01  1.97839320e-01 -1.37978867e-02 -3.61665666e-01\n",
            " -1.52926669e-01  4.17143703e-02  1.59011364e-01  5.88999569e-01\n",
            "  5.41151688e-02 -1.82581156e-01  8.73429328e-02  3.18534300e-03\n",
            " -1.51881814e-01  8.64101201e-02  1.03189573e-01  9.22885239e-02\n",
            "  1.04291432e-01 -8.99188519e-02  2.52007395e-02  2.55742759e-01\n",
            "  3.01411152e-01  8.41317177e-02  1.52317524e-01 -2.91553229e-01\n",
            " -4.48658586e-01  2.52356976e-02  5.52118011e-02 -6.31822944e-02\n",
            " -7.16746569e+00 -3.14369231e-01 -2.42070034e-01  1.15399342e-02\n",
            " -2.27931254e-02  4.74258326e-02  1.31484568e-02  1.97159737e-01\n",
            "  6.81532696e-02  3.33961844e-02 -7.59087205e-02  1.27783880e-01\n",
            " -6.17485344e-02  1.24238551e-01  3.64700884e-01  4.74147320e-01]\n"
          ],
          "name": "stdout"
        }
      ]
    },
    {
      "cell_type": "markdown",
      "metadata": {
        "id": "0bjWNVb4KdZG"
      },
      "source": [
        "# **Ajout du réseau de neurones en sortie du modèle distilBERT**"
      ]
    },
    {
      "cell_type": "code",
      "metadata": {
        "id": "SEQc1zx5P25h",
        "outputId": "1323fa56-c58b-434f-be17-ac2060a7c358",
        "colab": {
          "base_uri": "https://localhost:8080/",
          "height": 347
        }
      },
      "source": [
        "output = Dense(2, activation='softmax')(sortie_CLS)\n",
        "model = tf.keras.Model(inputs=[entrees_ids, entrees_masks], outputs = output)\n",
        "model.compile(loss='sparse_categorical_crossentropy', optimizer=Adam(), metrics=['accuracy'])\n",
        "model.layers[2].trainable = False\n",
        "model.summary()"
      ],
      "execution_count": null,
      "outputs": [
        {
          "output_type": "stream",
          "text": [
            "Model: \"functional_3\"\n",
            "__________________________________________________________________________________________________\n",
            "Layer (type)                    Output Shape         Param #     Connected to                     \n",
            "==================================================================================================\n",
            "input_token (InputLayer)        [(None, 100)]        0                                            \n",
            "__________________________________________________________________________________________________\n",
            "masked_token (InputLayer)       [(None, 100)]        0                                            \n",
            "__________________________________________________________________________________________________\n",
            "tf_bert_model (TFBertModel)     ((None, 100, 768), ( 109482240   input_token[0][0]                \n",
            "                                                                 masked_token[0][0]               \n",
            "__________________________________________________________________________________________________\n",
            "tf_op_layer_strided_slice (Tens [(None, 768)]        0           tf_bert_model[0][0]              \n",
            "__________________________________________________________________________________________________\n",
            "dense (Dense)                   (None, 2)            1538        tf_op_layer_strided_slice[0][0]  \n",
            "==================================================================================================\n",
            "Total params: 109,483,778\n",
            "Trainable params: 1,538\n",
            "Non-trainable params: 109,482,240\n",
            "__________________________________________________________________________________________________\n"
          ],
          "name": "stdout"
        }
      ]
    },
    {
      "cell_type": "code",
      "metadata": {
        "id": "kar0AbDIK61t",
        "outputId": "997ad72e-d51d-4554-d9d7-97b6ea6d19e5",
        "colab": {
          "base_uri": "https://localhost:8080/",
          "height": 260
        }
      },
      "source": [
        "MAX_SIZE = 500\n",
        "history = model.fit([output_tokenizer_entrainement['input_ids'][1:MAX_SIZE],output_tokenizer_entrainement['attention_mask'][1:MAX_SIZE]], y_entrainement[1:MAX_SIZE], epochs=5, verbose=1, batch_size = 3, validation_data=([output_tokenizer_tests['input_ids'][1:MAX_SIZE],output_tokenizer_tests['attention_mask'][1:MAX_SIZE]],y_test[1:MAX_SIZE]))"
      ],
      "execution_count": null,
      "outputs": [
        {
          "output_type": "stream",
          "text": [
            "Epoch 1/5\n",
            "WARNING:tensorflow:Gradients do not exist for variables ['tf_bert_model/bert/pooler/dense/kernel:0', 'tf_bert_model/bert/pooler/dense/bias:0'] when minimizing the loss.\n",
            "WARNING:tensorflow:Gradients do not exist for variables ['tf_bert_model/bert/pooler/dense/kernel:0', 'tf_bert_model/bert/pooler/dense/bias:0'] when minimizing the loss.\n",
            "WARNING:tensorflow:Gradients do not exist for variables ['tf_bert_model/bert/pooler/dense/kernel:0', 'tf_bert_model/bert/pooler/dense/bias:0'] when minimizing the loss.\n",
            "WARNING:tensorflow:Gradients do not exist for variables ['tf_bert_model/bert/pooler/dense/kernel:0', 'tf_bert_model/bert/pooler/dense/bias:0'] when minimizing the loss.\n",
            "167/167 [==============================] - 24s 142ms/step - loss: 1.0656 - accuracy: 0.4749 - val_loss: 0.6971 - val_accuracy: 0.4930\n",
            "Epoch 2/5\n",
            "167/167 [==============================] - 21s 123ms/step - loss: 0.7297 - accuracy: 0.4870 - val_loss: 0.7510 - val_accuracy: 0.4930\n",
            "Epoch 3/5\n",
            "167/167 [==============================] - 21s 123ms/step - loss: 0.7242 - accuracy: 0.5130 - val_loss: 0.7006 - val_accuracy: 0.5070\n",
            "Epoch 4/5\n",
            "167/167 [==============================] - 21s 123ms/step - loss: 0.7087 - accuracy: 0.4930 - val_loss: 0.6933 - val_accuracy: 0.5070\n",
            "Epoch 5/5\n",
            "167/167 [==============================] - 20s 123ms/step - loss: 0.6968 - accuracy: 0.5471 - val_loss: 0.7094 - val_accuracy: 0.5070\n"
          ],
          "name": "stdout"
        }
      ]
    },
    {
      "cell_type": "code",
      "metadata": {
        "id": "4ZhKM9mfQ0qi",
        "outputId": "f3e54e9d-3314-4c8c-fe37-326bb3730e9d",
        "colab": {
          "base_uri": "https://localhost:8080/",
          "height": 295
        }
      },
      "source": [
        "plt.plot(history.history['accuracy'])\n",
        "plt.plot(history.history['val_accuracy'])\n",
        "plt.title('Model accuracy')\n",
        "plt.ylabel('Accuracy')\n",
        "plt.xlabel('Epoch')\n",
        "plt.legend(['Train', 'Test'], loc='upper left')\n",
        "plt.show()"
      ],
      "execution_count": null,
      "outputs": [
        {
          "output_type": "display_data",
          "data": {
            "image/png": "[encoded data removed]",
            "text/plain": [
              "<Figure size 432x288 with 1 Axes>"
            ]
          },
          "metadata": {
            "tags": [],
            "needs_background": "light"
          }
        }
      ]
    },
    {
      "cell_type": "markdown",
      "metadata": {
        "id": "T5ThHOoGRGIa"
      },
      "source": [
        "# **Fine Tuning**"
      ]
    },
    {
      "cell_type": "code",
      "metadata": {
        "id": "5eui3V0PRI6U",
        "outputId": "7ecb6410-5899-459d-9fcf-989a97ad6992",
        "colab": {
          "base_uri": "https://localhost:8080/",
          "height": 347
        }
      },
      "source": [
        "model.layers[2].trainable = True\n",
        "output = Dense(2, activation='softmax')(sortie_CLS)\n",
        "model = tf.keras.Model(inputs=[entrees_ids, entrees_masks], outputs = output)\n",
        "model.compile(loss='sparse_categorical_crossentropy', optimizer=Adam(1e-6), metrics=['accuracy'])\n",
        "model.summary()"
      ],
      "execution_count": null,
      "outputs": [
        {
          "output_type": "stream",
          "text": [
            "Model: \"functional_55\"\n",
            "__________________________________________________________________________________________________\n",
            "Layer (type)                    Output Shape         Param #     Connected to                     \n",
            "==================================================================================================\n",
            "input_token (InputLayer)        [(None, 100)]        0                                            \n",
            "__________________________________________________________________________________________________\n",
            "masked_token (InputLayer)       [(None, 100)]        0                                            \n",
            "__________________________________________________________________________________________________\n",
            "tf_distil_bert_model_4 (TFDisti ((None, 100, 768),)  66362880    input_token[0][0]                \n",
            "                                                                 masked_token[0][0]               \n",
            "__________________________________________________________________________________________________\n",
            "tf_op_layer_strided_slice_1 (Te [(None, 768)]        0           tf_distil_bert_model_4[0][0]     \n",
            "__________________________________________________________________________________________________\n",
            "dense_18 (Dense)                (None, 2)            1538        tf_op_layer_strided_slice_1[0][0]\n",
            "==================================================================================================\n",
            "Total params: 66,364,418\n",
            "Trainable params: 66,364,418\n",
            "Non-trainable params: 0\n",
            "__________________________________________________________________________________________________\n"
          ],
          "name": "stdout"
        }
      ]
    },
    {
      "cell_type": "code",
      "metadata": {
        "id": "eO3HSM6dRYl_",
        "outputId": "ee79a55e-5df8-46fe-960b-c7a4d4fb2662",
        "colab": {
          "base_uri": "https://localhost:8080/",
          "height": 191
        }
      },
      "source": [
        "MAX_SIZE = 200\n",
        "history2 = model.fit([output_tokenizer_entrainement['input_ids'][1:MAX_SIZE],output_tokenizer_entrainement['attention_mask'][1:MAX_SIZE]], y_entrainement[1:MAX_SIZE], epochs=5, verbose=1, batch_size = 3, validation_data=([output_tokenizer_tests['input_ids'][1:MAX_SIZE],output_tokenizer_tests['attention_mask'][1:MAX_SIZE]],y_test[1:MAX_SIZE]))"
      ],
      "execution_count": null,
      "outputs": [
        {
          "output_type": "stream",
          "text": [
            "Epoch 1/5\n",
            "67/67 [==============================] - 6s 95ms/step - loss: 0.4969 - accuracy: 0.8643 - val_loss: 0.5366 - val_accuracy: 0.7487\n",
            "Epoch 2/5\n",
            "67/67 [==============================] - 5s 74ms/step - loss: 0.3665 - accuracy: 0.9296 - val_loss: 0.4823 - val_accuracy: 0.7889\n",
            "Epoch 3/5\n",
            "67/67 [==============================] - 5s 74ms/step - loss: 0.2745 - accuracy: 0.9648 - val_loss: 0.4590 - val_accuracy: 0.8040\n",
            "Epoch 4/5\n",
            "67/67 [==============================] - 5s 76ms/step - loss: 0.2349 - accuracy: 0.9799 - val_loss: 0.4536 - val_accuracy: 0.7940\n",
            "Epoch 5/5\n",
            "67/67 [==============================] - 5s 75ms/step - loss: 0.1915 - accuracy: 0.9849 - val_loss: 0.4562 - val_accuracy: 0.7940\n"
          ],
          "name": "stdout"
        }
      ]
    },
    {
      "cell_type": "code",
      "metadata": {
        "id": "TGsA4TSdRvnu",
        "outputId": "99939d29-4f5b-4c52-f39d-fd0e30888500",
        "colab": {
          "base_uri": "https://localhost:8080/",
          "height": 295
        }
      },
      "source": [
        "plt.plot(history2.history['accuracy'])\n",
        "plt.plot(history2.history['val_accuracy'])\n",
        "plt.title('Model accuracy')\n",
        "plt.ylabel('Accuracy')\n",
        "plt.xlabel('Epoch')\n",
        "plt.legend(['Train', 'Test'], loc='upper left')\n",
        "plt.show()"
      ],
      "execution_count": null,
      "outputs": [
        {
          "output_type": "display_data",
          "data": {
            "image/png": "[encoded data removed]",
            "text/plain": [
              "<Figure size 432x288 with 1 Axes>"
            ]
          },
          "metadata": {
            "tags": [],
            "needs_background": "light"
          }
        }
      ]
    }
  ]
}