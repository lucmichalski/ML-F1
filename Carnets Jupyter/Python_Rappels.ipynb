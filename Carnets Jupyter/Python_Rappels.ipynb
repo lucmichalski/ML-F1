{
  "nbformat": 4,
  "nbformat_minor": 0,
  "metadata": {
    "colab": {
      "name": "Python Quick Start.ipynb",
      "provenance": [],
      "collapsed_sections": [],
      "toc_visible": true
    },
    "kernelspec": {
      "display_name": "Python 3",
      "language": "python",
      "name": "python3"
    },
    "language_info": {
      "codemirror_mode": {
        "name": "ipython",
        "version": 3
      },
      "file_extension": ".py",
      "mimetype": "text/x-python",
      "name": "python",
      "nbconvert_exporter": "python",
      "pygments_lexer": "ipython3",
      "version": "3.6.8"
    }
  },
  "cells": [
    {
      "cell_type": "markdown",
      "metadata": {
        "colab_type": "text",
        "id": "2EQ3aMz5KrjT"
      },
      "source": [
        "# Rappels sur le langage Python\n",
        "\n",
        "Python est un langage de programmation très populaire utlisé dans de nombreuses applications.\n",
        "En particulier, il est très utilisé en Machine Learning. Cela vient du fait que sa syntaxe est très simple et interactive.\n",
        "De plus, de nombreuses librairies en rapport avec le machine learning existent en Python.\n",
        "Il est facile et rapide d'expérimenter, ce qui est très important pendant les phases d'analyse de données et le developpement de modèles d'apprentissage.\n",
        "\n",
        "Nous utiliserons uniquement Python 3 dans ce cours."
      ]
    },
    {
      "cell_type": "markdown",
      "metadata": {
        "colab_type": "text",
        "id": "HHHYgpbFL4-N"
      },
      "source": [
        "## Syntaxe\n",
        "\n",
        "[Types de données](https://docs.python.org/3.4/reference/datamodel.html), [Operateurs](https://docs.python.org/3.4/library/operator.html), et variables. Python est un langage interactif ce qui nous permet de faire des essais en tapant juste du code et en l'éxécutant dans le carnet."
      ]
    },
    {
      "cell_type": "code",
      "metadata": {
        "colab_type": "code",
        "id": "e8wn727POHDT",
        "colab": {}
      },
      "source": [
        "# Nombres, ex: int (entiers), float (nombres à virgule), bool (booléens - 0 ou 1), complex (nombres complexes)\n",
        "\n",
        "11                      # 11 est un nombre entier"
      ],
      "execution_count": null,
      "outputs": []
    },
    {
      "cell_type": "code",
      "metadata": {
        "colab_type": "code",
        "id": "RPm4AG4kbEw0",
        "colab": {}
      },
      "source": [
        "3.1415926535897         # pi est un nombre flottant (nombre à virgule)"
      ],
      "execution_count": null,
      "outputs": []
    },
    {
      "cell_type": "code",
      "metadata": {
        "colab_type": "code",
        "id": "bE7teAo0bIPE",
        "colab": {}
      },
      "source": [
        "True                    # True est une variable boléenne (vrai ou faux,0 ou 1...)"
      ],
      "execution_count": null,
      "outputs": []
    },
    {
      "cell_type": "code",
      "metadata": {
        "colab_type": "code",
        "id": "qGOImoA2bKHa",
        "colab": {}
      },
      "source": [
        "# Complex or imaginary numbers\n",
        "\n",
        "1+2j                    # 1+2j est un nombre complexe, sa partie réelle est 1 et sa partie imaginaire est 2"
      ],
      "execution_count": null,
      "outputs": []
    },
    {
      "cell_type": "code",
      "metadata": {
        "colab_type": "code",
        "id": "IzEjfhsSG5MP",
        "colab": {}
      },
      "source": [
        "# \"None\" est similaire à \"null\" dans d'autres langages de programmation\n",
        "\n",
        "a = None\n",
        "print(a)"
      ],
      "execution_count": null,
      "outputs": []
    },
    {
      "cell_type": "code",
      "metadata": {
        "colab_type": "code",
        "id": "3bGPFjxJUjla",
        "colab": {}
      },
      "source": [
        "# type() permet de connapitre le type d'une variable\n",
        "\n",
        "a = 12.0\n",
        "type(a)"
      ],
      "execution_count": null,
      "outputs": []
    },
    {
      "cell_type": "code",
      "metadata": {
        "colab_type": "code",
        "id": "6J9HxRECRiDi",
        "colab": {}
      },
      "source": [
        "# Les chaines de caractères peuvent être définies avec des guillemets ou des apostrophes\n",
        "\n",
        "'Ceci est une chaine de caractères'"
      ],
      "execution_count": null,
      "outputs": []
    },
    {
      "cell_type": "code",
      "metadata": {
        "colab_type": "code",
        "id": "6iel--V5Rod7",
        "colab": {}
      },
      "source": [
        "\"Ceci est aussi une chaine de caractères\""
      ],
      "execution_count": null,
      "outputs": []
    },
    {
      "cell_type": "code",
      "metadata": {
        "colab_type": "code",
        "id": "DkCP-uPTRsO4",
        "colab": {}
      },
      "source": [
        "# Obtenir la longueur d'une chaine de caractères\n",
        "\n",
        "len('Une phrase...')"
      ],
      "execution_count": null,
      "outputs": []
    },
    {
      "cell_type": "code",
      "metadata": {
        "colab_type": "code",
        "id": "vGnLAm1OR1L6",
        "colab": {}
      },
      "source": [
        "# Selectioner un caractère dans une chaine de caractères\n",
        "\n",
        "a = 'Une phrase...'\n",
        "a[1]"
      ],
      "execution_count": null,
      "outputs": []
    },
    {
      "cell_type": "code",
      "metadata": {
        "colab_type": "code",
        "id": "OwtwX0K6SgVz",
        "colab": {}
      },
      "source": [
        "# Python vérifie que l'indexe ne dépasse par la longueur de la chaine de caractères\n",
        "\n",
        "a = 'Une phrase...'\n",
        "a[100]"
      ],
      "execution_count": null,
      "outputs": []
    },
    {
      "cell_type": "code",
      "metadata": {
        "colab_type": "code",
        "id": "xKZ3jhLISNzA",
        "colab": {}
      },
      "source": [
        "# Les indexes négatifs commencent à la fin\n",
        "\n",
        "a = 'Une phrase...'\n",
        "a[-6]"
      ],
      "execution_count": null,
      "outputs": []
    },
    {
      "cell_type": "code",
      "metadata": {
        "colab_type": "code",
        "id": "Osb-GVD7SBHh",
        "colab": {}
      },
      "source": [
        "# Selectionner un intervalle de caractères\n",
        "\n",
        "a = 'Une phrase'\n",
        "a[4:10]"
      ],
      "execution_count": null,
      "outputs": []
    },
    {
      "cell_type": "code",
      "metadata": {
        "colab_type": "code",
        "id": "14ciHg-BSava",
        "colab": {}
      },
      "source": [
        "# Les indexs négatifs fonctionnent aussi\n",
        "\n",
        "a = 'Une phrase...'\n",
        "a[-9:-3]"
      ],
      "execution_count": null,
      "outputs": []
    },
    {
      "cell_type": "markdown",
      "metadata": {
        "colab_type": "text",
        "id": "Kd3FLpHXaT2N"
      },
      "source": [
        "### Formatage des chaines de caractères\n",
        "\n",
        "Python supporte de multiples méthodes pour formater les chaines de caractères :\n",
        "\n",
        "\n",
        "*   [print](https://docs.python.org/3/library/stdtypes.html#printf-style-string-formatting)\n",
        "*   [format()](https://docs.python.org/3.4/library/string.html#formatspec)\n",
        "\n"
      ]
    },
    {
      "cell_type": "code",
      "metadata": {
        "colab_type": "code",
        "id": "AVtaLbChTXc2",
        "colab": {}
      },
      "source": [
        "# Avec la méthode printf\n",
        "\n",
        "Valeur = 42\n",
        "print('La réponse attendue est %d' %Valeur)"
      ],
      "execution_count": null,
      "outputs": []
    },
    {
      "cell_type": "code",
      "metadata": {
        "id": "J0l91QXZ6JfI",
        "colab_type": "code",
        "colab": {}
      },
      "source": [
        "# Multiple valeurs\n",
        "\n",
        "longueur = 8.0\n",
        "largeur = 4.0\n",
        "print('Les dimensions sont de %.2f mètres de long et %.2f mètres de large' % (longueur, largeur))"
      ],
      "execution_count": null,
      "outputs": []
    },
    {
      "cell_type": "code",
      "metadata": {
        "id": "j9kyxqN46JfM",
        "colab_type": "code",
        "colab": {}
      },
      "source": [
        "# Avec la méthode format(...)\n",
        "\n",
        "Valeur = 42\n",
        "'La réponse attendue est {0:d}'.format(Valeur)"
      ],
      "execution_count": null,
      "outputs": []
    },
    {
      "cell_type": "code",
      "metadata": {
        "id": "Y110gGc06JfQ",
        "colab_type": "code",
        "colab": {}
      },
      "source": [
        "# named values\n",
        "\n",
        "longueur = 8.0\n",
        "largeur = 4.0\n",
        "'Les dimensions sont de {longueur:.2f} mètres de long et {largeur:.2f} mètres de large'.format(longueur=longueur, largeur=largeur)"
      ],
      "execution_count": null,
      "outputs": []
    },
    {
      "cell_type": "markdown",
      "metadata": {
        "colab_type": "text",
        "id": "5m4XM7qjWfJo"
      },
      "source": [
        "###Conversion de type"
      ]
    },
    {
      "cell_type": "code",
      "metadata": {
        "colab_type": "code",
        "id": "JMzoX-ipWkcA",
        "colab": {}
      },
      "source": [
        "pi = 3.1415926535897\n",
        "type(pi)"
      ],
      "execution_count": null,
      "outputs": []
    },
    {
      "cell_type": "code",
      "metadata": {
        "colab_type": "code",
        "id": "0BBZv2o4Wu6g",
        "colab": {}
      },
      "source": [
        "int(pi)"
      ],
      "execution_count": null,
      "outputs": []
    },
    {
      "cell_type": "code",
      "metadata": {
        "colab_type": "code",
        "id": "FzbZ1NQ4W-Xg",
        "colab": {}
      },
      "source": [
        "complex(pi)"
      ],
      "execution_count": null,
      "outputs": []
    },
    {
      "cell_type": "code",
      "metadata": {
        "colab_type": "code",
        "id": "4avOgb6iWxrx",
        "colab": {}
      },
      "source": [
        "int('42')"
      ],
      "execution_count": null,
      "outputs": []
    },
    {
      "cell_type": "code",
      "metadata": {
        "colab_type": "code",
        "id": "bSgBvoNeW3hJ",
        "colab": {}
      },
      "source": [
        "str(42)"
      ],
      "execution_count": null,
      "outputs": []
    },
    {
      "cell_type": "code",
      "metadata": {
        "colab_type": "code",
        "id": "epmKkhMIGo8I",
        "colab": {}
      },
      "source": [
        "bool(0)"
      ],
      "execution_count": null,
      "outputs": []
    },
    {
      "cell_type": "markdown",
      "metadata": {
        "id": "PiT8MxgX6Jfs",
        "colab_type": "text"
      },
      "source": [
        "# Controle de flux\n",
        "\n",
        "Les espaces ou les tabulations sont utlisés pour structurer un programme."
      ]
    },
    {
      "cell_type": "code",
      "metadata": {
        "id": "FLjMFD6r6Jft",
        "colab_type": "code",
        "colab": {
          "base_uri": "https://localhost:8080/",
          "height": 104
        },
        "outputId": "ad09740f-aeb5-4a4c-f1be-89fc17909567"
      },
      "source": [
        "for i in range(5):\n",
        "    print('%d, au carré : %d' % (i, i*i))"
      ],
      "execution_count": 99,
      "outputs": [
        {
          "output_type": "stream",
          "text": [
            "0, au carré : 0\n",
            "1, au carré : 1\n",
            "2, au carré : 4\n",
            "3, au carré : 9\n",
            "4, au carré : 16\n"
          ],
          "name": "stdout"
        }
      ]
    },
    {
      "cell_type": "code",
      "metadata": {
        "id": "mB-x2Uvq6Jfx",
        "colab_type": "code",
        "colab": {
          "base_uri": "https://localhost:8080/",
          "height": 104
        },
        "outputId": "b0d07045-e91f-42d7-ce0f-bdc3c68dcd9a"
      },
      "source": [
        "i = 0\n",
        "while i < 5:\n",
        "    print('%d, au carré : %d' % (i, i*i))\n",
        "    i = i + 1"
      ],
      "execution_count": 100,
      "outputs": [
        {
          "output_type": "stream",
          "text": [
            "0, au carré : 0\n",
            "1, au carré : 1\n",
            "2, au carré : 4\n",
            "3, au carré : 9\n",
            "4, au carré : 16\n"
          ],
          "name": "stdout"
        }
      ]
    },
    {
      "cell_type": "code",
      "metadata": {
        "id": "EHi92L4V6Jf0",
        "colab_type": "code",
        "colab": {
          "base_uri": "https://localhost:8080/",
          "height": 173
        },
        "outputId": "4c716adb-b49d-436c-c2d6-7097fc2cdae7"
      },
      "source": [
        "for i in range(1, 10):\n",
        "    if i % 2 == 0:\n",
        "        print('%d est divisible par deux' % (i))\n",
        "    elif i % 3 == 0:\n",
        "        print('%d est divisible par trois' % (i))\n",
        "    else:\n",
        "        print('%d n\\'est pas divisible par deux ou par trois' % (i))"
      ],
      "execution_count": 101,
      "outputs": [
        {
          "output_type": "stream",
          "text": [
            "1 n'est pas divisible par deux ou par trois\n",
            "2 est divisible par deux\n",
            "3 est divisible par trois\n",
            "4 est divisible par deux\n",
            "5 n'est pas divisible par deux ou par trois\n",
            "6 est divisible par deux\n",
            "7 n'est pas divisible par deux ou par trois\n",
            "8 est divisible par deux\n",
            "9 est divisible par trois\n"
          ],
          "name": "stdout"
        }
      ]
    },
    {
      "cell_type": "markdown",
      "metadata": {
        "colab_type": "text",
        "id": "MiNZ8-THMGaQ"
      },
      "source": [
        "## Structures de données\n",
        "\n",
        "### Listes\n",
        "\n",
        "Les listes contiennent des valeurs ordonnées."
      ]
    },
    {
      "cell_type": "code",
      "metadata": {
        "colab_type": "code",
        "id": "n6zfxlBYQwqc",
        "colab": {
          "base_uri": "https://localhost:8080/",
          "height": 35
        },
        "outputId": "f4c2ee52-d551-4bd0-b4ad-7fe74eb33054"
      },
      "source": [
        "[1, 2, 3]"
      ],
      "execution_count": 102,
      "outputs": [
        {
          "output_type": "execute_result",
          "data": {
            "text/plain": [
              "[1, 2, 3]"
            ]
          },
          "metadata": {
            "tags": []
          },
          "execution_count": 102
        }
      ]
    },
    {
      "cell_type": "code",
      "metadata": {
        "colab_type": "code",
        "id": "wgIvI40zQ2iJ",
        "colab": {
          "base_uri": "https://localhost:8080/",
          "height": 35
        },
        "outputId": "d10a8b76-c946-4db5-b6ec-fa2ba01694d8"
      },
      "source": [
        "a = [1, 2, 3]\n",
        "len(a)"
      ],
      "execution_count": 103,
      "outputs": [
        {
          "output_type": "execute_result",
          "data": {
            "text/plain": [
              "3"
            ]
          },
          "metadata": {
            "tags": []
          },
          "execution_count": 103
        }
      ]
    },
    {
      "cell_type": "code",
      "metadata": {
        "id": "DSID_sSe6Jf_",
        "colab_type": "code",
        "colab": {
          "base_uri": "https://localhost:8080/",
          "height": 69
        },
        "outputId": "cc32e4e5-4ca3-43ea-965c-54c8f4aca577"
      },
      "source": [
        "# Récupérer des valeurs d'une liste\n",
        "\n",
        "for valeur in a:\n",
        "    print('La valeur est %d' % valeur)"
      ],
      "execution_count": 104,
      "outputs": [
        {
          "output_type": "stream",
          "text": [
            "La valeur est 1\n",
            "La valeur est 2\n",
            "La valeur est 3\n"
          ],
          "name": "stdout"
        }
      ]
    },
    {
      "cell_type": "code",
      "metadata": {
        "id": "BKVCOts76JgD",
        "colab_type": "code",
        "colab": {
          "base_uri": "https://localhost:8080/",
          "height": 35
        },
        "outputId": "73c137d4-4615-4803-f51b-6cf6a428b045"
      },
      "source": [
        "a = [1, 2, 3]\n",
        "a.append(4)\n",
        "a"
      ],
      "execution_count": 105,
      "outputs": [
        {
          "output_type": "execute_result",
          "data": {
            "text/plain": [
              "[1, 2, 3, 4]"
            ]
          },
          "metadata": {
            "tags": []
          },
          "execution_count": 105
        }
      ]
    },
    {
      "cell_type": "code",
      "metadata": {
        "colab_type": "code",
        "id": "33i5smW9HadB",
        "colab": {
          "base_uri": "https://localhost:8080/",
          "height": 35
        },
        "outputId": "4a07a1c5-d1cf-448b-e645-4a25c09926ce"
      },
      "source": [
        "# Addition de deux listes\n",
        "\n",
        "a = [1, 2, 3]\n",
        "b = [7, 8, 9]\n",
        "\n",
        "a+b"
      ],
      "execution_count": 106,
      "outputs": [
        {
          "output_type": "execute_result",
          "data": {
            "text/plain": [
              "[1, 2, 3, 7, 8, 9]"
            ]
          },
          "metadata": {
            "tags": []
          },
          "execution_count": 106
        }
      ]
    },
    {
      "cell_type": "code",
      "metadata": {
        "colab_type": "code",
        "id": "sN4Oe48mHkkw",
        "colab": {
          "base_uri": "https://localhost:8080/",
          "height": 35
        },
        "outputId": "416fd62c-8d8e-4eed-d8ac-7c3fb87aa2bf"
      },
      "source": [
        "# Liste définie à l'aide d'un petit algorithme\n",
        "\n",
        "a = [2*i for i in range(10)]\n",
        "a"
      ],
      "execution_count": 107,
      "outputs": [
        {
          "output_type": "execute_result",
          "data": {
            "text/plain": [
              "[0, 2, 4, 6, 8, 10, 12, 14, 16, 18]"
            ]
          },
          "metadata": {
            "tags": []
          },
          "execution_count": 107
        }
      ]
    },
    {
      "cell_type": "code",
      "metadata": {
        "colab_type": "code",
        "id": "4C1d30LxHsK4",
        "colab": {
          "base_uri": "https://localhost:8080/",
          "height": 35
        },
        "outputId": "2d09b2a9-9c76-4911-c708-0a1d98695a3b"
      },
      "source": [
        "# Renverser l'odre d'une liste\n",
        "\n",
        "a = [2*i for i in range(10)]\n",
        "a.reverse()\n",
        "a"
      ],
      "execution_count": 108,
      "outputs": [
        {
          "output_type": "execute_result",
          "data": {
            "text/plain": [
              "[18, 16, 14, 12, 10, 8, 6, 4, 2, 0]"
            ]
          },
          "metadata": {
            "tags": []
          },
          "execution_count": 108
        }
      ]
    },
    {
      "cell_type": "code",
      "metadata": {
        "colab_type": "code",
        "id": "SSERRxx8Ic4c",
        "colab": {
          "base_uri": "https://localhost:8080/",
          "height": 35
        },
        "outputId": "ebdf6ef5-44b0-4405-eb98-c901230dff15"
      },
      "source": [
        "# Trier les éléments d'une liste\n",
        "\n",
        "a=[0,2,4,6,3,1]\n",
        "a.sort()\n",
        "a"
      ],
      "execution_count": 109,
      "outputs": [
        {
          "output_type": "execute_result",
          "data": {
            "text/plain": [
              "[0, 1, 2, 3, 4, 6]"
            ]
          },
          "metadata": {
            "tags": []
          },
          "execution_count": 109
        }
      ]
    },
    {
      "cell_type": "markdown",
      "metadata": {
        "id": "hJ-zHJnd6JgT",
        "colab_type": "text"
      },
      "source": [
        "### Dictionaires\n",
        "\n",
        "Les dictionnaires contiennent paires de mot-clé"
      ]
    },
    {
      "cell_type": "code",
      "metadata": {
        "id": "ULn-AVxL6JgU",
        "colab_type": "code",
        "colab": {
          "base_uri": "https://localhost:8080/",
          "height": 87
        },
        "outputId": "7a039b6f-c29d-40b3-a64e-de91b1b745a2"
      },
      "source": [
        "groupe = { 'David St. Hubbins':'Guitare', 'Nigel Tufnel':'Saxo', 'Derek Smalls':'Basse', 'Percussions':'Inconnu' }\n",
        "groupe"
      ],
      "execution_count": 110,
      "outputs": [
        {
          "output_type": "execute_result",
          "data": {
            "text/plain": [
              "{'David St. Hubbins': 'Guitare',\n",
              " 'Derek Smalls': 'Basse',\n",
              " 'Nigel Tufnel': 'Saxo',\n",
              " 'Percussions': 'Inconnu'}"
            ]
          },
          "metadata": {
            "tags": []
          },
          "execution_count": 110
        }
      ]
    },
    {
      "cell_type": "code",
      "metadata": {
        "id": "TPbzEH436JgX",
        "colab_type": "code",
        "colab": {
          "base_uri": "https://localhost:8080/",
          "height": 87
        },
        "outputId": "96145e21-caa2-4f5e-89d9-a791ba204c25"
      },
      "source": [
        "for name in groupe:\n",
        "    print('Nom : %s, Instrument : %s' % (name, groupe[name]))"
      ],
      "execution_count": 111,
      "outputs": [
        {
          "output_type": "stream",
          "text": [
            "Nom : David St. Hubbins, Instrument : Guitare\n",
            "Nom : Nigel Tufnel, Instrument : Saxo\n",
            "Nom : Derek Smalls, Instrument : Basse\n",
            "Nom : Percussions, Instrument : Inconnu\n"
          ],
          "name": "stdout"
        }
      ]
    },
    {
      "cell_type": "code",
      "metadata": {
        "id": "WvpDMMVx6Jga",
        "colab_type": "code",
        "colab": {
          "base_uri": "https://localhost:8080/",
          "height": 87
        },
        "outputId": "cdcafc4e-fc6c-453f-b181-108e7953eace"
      },
      "source": [
        "for name, instrument in groupe.items():\n",
        "    print('Nom : %s, Instrument : %s' % (name, instrument))"
      ],
      "execution_count": 112,
      "outputs": [
        {
          "output_type": "stream",
          "text": [
            "Nom : David St. Hubbins, Instrument : Guitare\n",
            "Nom : Nigel Tufnel, Instrument : Saxo\n",
            "Nom : Derek Smalls, Instrument : Basse\n",
            "Nom : Percussions, Instrument : Inconnu\n"
          ],
          "name": "stdout"
        }
      ]
    },
    {
      "cell_type": "code",
      "metadata": {
        "id": "vhx-SRKv6Jgd",
        "colab_type": "code",
        "colab": {
          "base_uri": "https://localhost:8080/",
          "height": 87
        },
        "outputId": "50fc4e02-a2cf-42ab-e277-5206678afcef"
      },
      "source": [
        "groupe['Percussions'] = 'John \"Stumpy\" Pepys'\n",
        "\n",
        "for name in groupe:\n",
        "    print('Nom : %s, Instrument : %s' % (name, groupe[name]))"
      ],
      "execution_count": 113,
      "outputs": [
        {
          "output_type": "stream",
          "text": [
            "Nom : David St. Hubbins, Instrument : Guitare\n",
            "Nom : Nigel Tufnel, Instrument : Saxo\n",
            "Nom : Derek Smalls, Instrument : Basse\n",
            "Nom : Percussions, Instrument : John \"Stumpy\" Pepys\n"
          ],
          "name": "stdout"
        }
      ]
    },
    {
      "cell_type": "markdown",
      "metadata": {
        "colab_type": "text",
        "id": "zH7zPFeoMCU6"
      },
      "source": [
        "## Fonctions and Procédures\n",
        "\n",
        "Les fonctions et les procédures sont légèrement différentes.\n",
        "Les procédures ne prennent pas d'argument alors que les fonctions prennent des arguments."
      ]
    },
    {
      "cell_type": "code",
      "metadata": {
        "colab_type": "code",
        "id": "2BS31fldUKDz",
        "colab": {
          "base_uri": "https://localhost:8080/",
          "height": 35
        },
        "outputId": "4802bf62-878e-4cad-d488-a719f03d50ca"
      },
      "source": [
        "# len() est une procédure\n",
        "\n",
        "a = 'Une phrase'\n",
        "len(a)"
      ],
      "execution_count": 114,
      "outputs": [
        {
          "output_type": "execute_result",
          "data": {
            "text/plain": [
              "10"
            ]
          },
          "metadata": {
            "tags": []
          },
          "execution_count": 114
        }
      ]
    },
    {
      "cell_type": "code",
      "metadata": {
        "colab_type": "code",
        "id": "bL_N3deVUQWK",
        "colab": {
          "base_uri": "https://localhost:8080/",
          "height": 35
        },
        "outputId": "b1add47c-8145-4b66-d000-b29f99f4ee58"
      },
      "source": [
        "# upper() est une procédure\n",
        "\n",
        "a = 'Une phrase'\n",
        "a.upper()"
      ],
      "execution_count": 115,
      "outputs": [
        {
          "output_type": "execute_result",
          "data": {
            "application/vnd.google.colaboratory.intrinsic+json": {
              "type": "string"
            },
            "text/plain": [
              "'UNE PHRASE'"
            ]
          },
          "metadata": {
            "tags": []
          },
          "execution_count": 115
        }
      ]
    },
    {
      "cell_type": "code",
      "metadata": {
        "colab_type": "code",
        "id": "e2ps7j1TUe4Z",
        "colab": {
          "base_uri": "https://localhost:8080/",
          "height": 1000
        },
        "outputId": "27946be6-7e23-4d5b-a93f-19d604d08a12"
      },
      "source": [
        "# dir() lists attributes and methods of an object\n",
        "\n",
        "a = 'some string'\n",
        "dir(a)"
      ],
      "execution_count": 116,
      "outputs": [
        {
          "output_type": "execute_result",
          "data": {
            "text/plain": [
              "['__add__',\n",
              " '__class__',\n",
              " '__contains__',\n",
              " '__delattr__',\n",
              " '__dir__',\n",
              " '__doc__',\n",
              " '__eq__',\n",
              " '__format__',\n",
              " '__ge__',\n",
              " '__getattribute__',\n",
              " '__getitem__',\n",
              " '__getnewargs__',\n",
              " '__gt__',\n",
              " '__hash__',\n",
              " '__init__',\n",
              " '__init_subclass__',\n",
              " '__iter__',\n",
              " '__le__',\n",
              " '__len__',\n",
              " '__lt__',\n",
              " '__mod__',\n",
              " '__mul__',\n",
              " '__ne__',\n",
              " '__new__',\n",
              " '__reduce__',\n",
              " '__reduce_ex__',\n",
              " '__repr__',\n",
              " '__rmod__',\n",
              " '__rmul__',\n",
              " '__setattr__',\n",
              " '__sizeof__',\n",
              " '__str__',\n",
              " '__subclasshook__',\n",
              " 'capitalize',\n",
              " 'casefold',\n",
              " 'center',\n",
              " 'count',\n",
              " 'encode',\n",
              " 'endswith',\n",
              " 'expandtabs',\n",
              " 'find',\n",
              " 'format',\n",
              " 'format_map',\n",
              " 'index',\n",
              " 'isalnum',\n",
              " 'isalpha',\n",
              " 'isdecimal',\n",
              " 'isdigit',\n",
              " 'isidentifier',\n",
              " 'islower',\n",
              " 'isnumeric',\n",
              " 'isprintable',\n",
              " 'isspace',\n",
              " 'istitle',\n",
              " 'isupper',\n",
              " 'join',\n",
              " 'ljust',\n",
              " 'lower',\n",
              " 'lstrip',\n",
              " 'maketrans',\n",
              " 'partition',\n",
              " 'replace',\n",
              " 'rfind',\n",
              " 'rindex',\n",
              " 'rjust',\n",
              " 'rpartition',\n",
              " 'rsplit',\n",
              " 'rstrip',\n",
              " 'split',\n",
              " 'splitlines',\n",
              " 'startswith',\n",
              " 'strip',\n",
              " 'swapcase',\n",
              " 'title',\n",
              " 'translate',\n",
              " 'upper',\n",
              " 'zfill']"
            ]
          },
          "metadata": {
            "tags": []
          },
          "execution_count": 116
        }
      ]
    },
    {
      "cell_type": "code",
      "metadata": {
        "colab_type": "code",
        "id": "pVXM5ZACVhnT",
        "colab": {
          "base_uri": "https://localhost:8080/",
          "height": 35
        },
        "outputId": "85d33af9-5db7-4739-b92a-f1787a005cf8"
      },
      "source": [
        "# On utiliser def pour définir une fonction\n",
        "\n",
        "def moyenne(array):\n",
        "  n = len(array)\n",
        "  total = 0.0\n",
        "  for a in array:\n",
        "    total = total + a\n",
        "  return total / n\n",
        "\n",
        "moyenne([1, 2, 3])"
      ],
      "execution_count": 117,
      "outputs": [
        {
          "output_type": "execute_result",
          "data": {
            "text/plain": [
              "2.0"
            ]
          },
          "metadata": {
            "tags": []
          },
          "execution_count": 117
        }
      ]
    },
    {
      "cell_type": "code",
      "metadata": {
        "colab_type": "code",
        "id": "bSC0VjeDXNXY",
        "colab": {
          "base_uri": "https://localhost:8080/",
          "height": 35
        },
        "outputId": "a059249e-6c77-463c-b5ba-355fdf03432f"
      },
      "source": [
        "# Les fonctions peuvent retourner des p-uplets (suite de nombres, aussi nommés tuples en Anglais)\n",
        "\n",
        "def statistics(array):\n",
        "  avg = moyenne(array)\n",
        "  n = len(array)\n",
        "  total = 0.0\n",
        "  for a in array:\n",
        "    variance = a - avg\n",
        "    total += variance ** 2\n",
        "  ecart_type = total / n\n",
        "  return (avg, ecart_type)\n",
        "\n",
        "statistics([1, 2, 3])"
      ],
      "execution_count": 118,
      "outputs": [
        {
          "output_type": "execute_result",
          "data": {
            "text/plain": [
              "(2.0, 0.6666666666666666)"
            ]
          },
          "metadata": {
            "tags": []
          },
          "execution_count": 118
        }
      ]
    },
    {
      "cell_type": "code",
      "metadata": {
        "colab_type": "code",
        "id": "6NbDMklxX-hs",
        "colab": {
          "base_uri": "https://localhost:8080/",
          "height": 35
        },
        "outputId": "c4d47386-99fe-41a2-e77b-176f8084654f"
      },
      "source": [
        "# Assigner des valeurs retournées par une fonction à un p-uplet\n",
        "\n",
        "(avg, ecart_type) = statistics([1, 2, 3])\n",
        "print('La moyenne vaut %.2f et l\\'écart type vaut %.2f' % (avg, ecart_type))"
      ],
      "execution_count": 119,
      "outputs": [
        {
          "output_type": "stream",
          "text": [
            "La moyenne vaut 2.00 et l'écart type vaut 0.67\n"
          ],
          "name": "stdout"
        }
      ]
    },
    {
      "cell_type": "markdown",
      "metadata": {
        "colab_type": "text",
        "id": "6D7CKgOPQSzF"
      },
      "source": [
        "## Classes\n",
        "\n",
        "On utilise le mot clé class pour définir des classes."
      ]
    },
    {
      "cell_type": "code",
      "metadata": {
        "colab_type": "code",
        "id": "9ztIx4IjKqvW",
        "colab": {}
      },
      "source": [
        "class CompteBancaire(object):\n",
        "  def __init__(self, numero_de_compte, credit, taux_interet):\n",
        "    self.numero_de_compte = numero_de_compte\n",
        "    self.credit = credit\n",
        "    self.taux_interet = taux_interet\n",
        "  \n",
        "  def depot(self, montant):\n",
        "    self.credit += montant\n",
        "  \n",
        "  def prelevement(self, montant):\n",
        "    if self.credit >= montant:\n",
        "      self.credit -= montant\n",
        "      return montant\n",
        "    raise Exception('Crédit insuffisant pour le retrait demandé: seulement %.2f de crédit disponible %d' % (self.credit, self.numero_de_compte))\n",
        "  \n",
        "  def AjoutInteret(self):\n",
        "    self.credit *= 1.0 + self.taux_interet/100.0\n",
        "  \n",
        "  def __str__(self):\n",
        "    return 'Compte %d, credit : %.2f' % (self.numero_de_compte, self.credit)"
      ],
      "execution_count": 125,
      "outputs": []
    },
    {
      "cell_type": "code",
      "metadata": {
        "colab_type": "code",
        "id": "RR7vPMAtDh-7",
        "colab": {}
      },
      "source": [
        "compte1 = CompteBancaire(101, 100.0, 1.0)\n",
        "compte2 = CompteBancaire(201, 1000.0, 5.0)\n",
        "\n",
        "print(compte1)\n",
        "print(compte2)\n",
        "\n",
        "compte1.AjoutInteret()\n",
        "compte2.AjoutInteret()\n",
        "\n",
        "print(compte1)\n",
        "print(compte2)\n",
        "\n",
        "compte1.prelevement(10)\n",
        "print(compte1)\n",
        "\n"
      ],
      "execution_count": null,
      "outputs": []
    },
    {
      "cell_type": "markdown",
      "metadata": {
        "colab_type": "text",
        "id": "URDoWEMQJEdg"
      },
      "source": [
        "## Lire et Ecrire dans des fichiers"
      ]
    },
    {
      "cell_type": "code",
      "metadata": {
        "colab_type": "code",
        "id": "A_v0ZAX6JIwf",
        "colab": {}
      },
      "source": [
        "# 'w' ouvre un fichier pour y écrire, 'a' ajoute les données aux données déjà existantes\n",
        "\n",
        "with open('fichier.txt', 'w') as f:\n",
        "  f.write('Ligne 1\\n')\n",
        "  f.write('Ligne 2\\n')"
      ],
      "execution_count": 129,
      "outputs": []
    },
    {
      "cell_type": "code",
      "metadata": {
        "colab_type": "code",
        "id": "jx3mqmASJt_X",
        "colab": {}
      },
      "source": [
        "# readline() permet de lire les lignes dans un fichier les unes après les autres\n",
        "with open('fichier.txt') as f:\n",
        "  print(f.readline())\n",
        "  print(f.readline())"
      ],
      "execution_count": null,
      "outputs": []
    },
    {
      "cell_type": "code",
      "metadata": {
        "colab_type": "code",
        "id": "k2lTneQUKRfD",
        "colab": {}
      },
      "source": [
        "# readlines() (avec un \"s\" à la fin) permet de lire toutes les lignes\n",
        "with open('fichier.txt') as f:\n",
        "  print(f.readlines())"
      ],
      "execution_count": null,
      "outputs": []
    },
    {
      "cell_type": "markdown",
      "metadata": {
        "colab_type": "text",
        "id": "cxv30sH9bm4N"
      },
      "source": [
        "## Modules\n",
        "\n",
        "[import](https://docs.python.org/3/reference/simple_stmts.html#import) permet d'importer des modules de bibliothèques."
      ]
    },
    {
      "cell_type": "code",
      "metadata": {
        "colab_type": "code",
        "id": "pYjERSx-bmQJ",
        "colab": {}
      },
      "source": [
        "import matplotlib.pyplot as plt\n",
        "import math\n",
        "\n",
        "x = [0.1*i for i in range(64)]\n",
        "sin = [math.sin(i) for i in x]\n",
        "cos = [math.cos(i) for i in x]\n",
        "\n",
        "plt.plot(x, sin, label='sin(x)', color='blue', linewidth=2.5)\n",
        "plt.plot(x, cos, label='cos(x)', color='red', linewidth=0.5)\n",
        "plt.ylabel('y')\n",
        "plt.xlabel('x')\n",
        "plt.legend(loc='upper right')\n",
        "plt.show()"
      ],
      "execution_count": null,
      "outputs": []
    },
    {
      "cell_type": "code",
      "metadata": {
        "id": "Kp7VDqz-6JhT",
        "colab_type": "code",
        "colab": {}
      },
      "source": [
        ""
      ],
      "execution_count": null,
      "outputs": []
    }
  ]
}