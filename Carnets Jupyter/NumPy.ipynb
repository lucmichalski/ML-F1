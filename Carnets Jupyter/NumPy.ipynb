{
  "nbformat": 4,
  "nbformat_minor": 0,
  "metadata": {
    "kernelspec": {
      "display_name": "Python 3",
      "language": "python",
      "name": "python3"
    },
    "language_info": {
      "codemirror_mode": {
        "name": "ipython",
        "version": 3
      },
      "file_extension": ".py",
      "mimetype": "text/x-python",
      "name": "python",
      "nbconvert_exporter": "python",
      "pygments_lexer": "ipython3",
      "version": "3.6.8"
    },
    "colab": {
      "name": "NumPy.ipynb",
      "provenance": []
    }
  },
  "cells": [
    {
      "cell_type": "markdown",
      "metadata": {
        "id": "EShAay3afjdK",
        "colab_type": "text"
      },
      "source": [
        "# NumPy\n",
        "\n",
        "[NumPy](https://numpy.org) est une librairie en Python qui permet de manipuler des tableaux de plusieurs dimensions. Il possède des fonctions avancées dans le domaine de l'algèbre linéaire, de l'analyse statistique et de la transformation de données."
      ]
    },
    {
      "cell_type": "code",
      "metadata": {
        "id": "3BookU22fjdM",
        "colab_type": "code",
        "colab": {}
      },
      "source": [
        "import numpy as np"
      ],
      "execution_count": 1,
      "outputs": []
    },
    {
      "cell_type": "markdown",
      "metadata": {
        "id": "GAeFD-CqfjdS",
        "colab_type": "text"
      },
      "source": [
        "# Créer des tableaux avec NumPy\n",
        "\n",
        "Les tableaux sous NumPy peuvent être créés de plusieurs manières, nous allons voir certaines d'entre elles. La [documentation de NumPy](https://numpy.org/doc/stable/) explique en détail comment [créer des tableaux](https://numpy.org/doc/stable/reference/routines.array-creation.html)."
      ]
    },
    {
      "cell_type": "code",
      "metadata": {
        "id": "QOf7E6ChfjdT",
        "colab_type": "code",
        "colab": {
          "base_uri": "https://localhost:8080/",
          "height": 35
        },
        "outputId": "56888c3e-f04e-4650-ff83-700675de4b8b"
      },
      "source": [
        "a = np.zeros(5)\n",
        "a"
      ],
      "execution_count": 2,
      "outputs": [
        {
          "output_type": "execute_result",
          "data": {
            "text/plain": [
              "array([0., 0., 0., 0., 0.])"
            ]
          },
          "metadata": {
            "tags": []
          },
          "execution_count": 2
        }
      ]
    },
    {
      "cell_type": "code",
      "metadata": {
        "id": "3ZN1S7WrfjdY",
        "colab_type": "code",
        "colab": {
          "base_uri": "https://localhost:8080/",
          "height": 35
        },
        "outputId": "5867c4ca-7bb1-4f3d-d582-b496987eb0e0"
      },
      "source": [
        "a = np.ones(5)\n",
        "a"
      ],
      "execution_count": 3,
      "outputs": [
        {
          "output_type": "execute_result",
          "data": {
            "text/plain": [
              "array([1., 1., 1., 1., 1.])"
            ]
          },
          "metadata": {
            "tags": []
          },
          "execution_count": 3
        }
      ]
    },
    {
      "cell_type": "code",
      "metadata": {
        "id": "cEpKLONwfjdc",
        "colab_type": "code",
        "colab": {
          "base_uri": "https://localhost:8080/",
          "height": 35
        },
        "outputId": "c398acbc-22d0-4464-bdd4-addc36fe3bf9"
      },
      "source": [
        "np.random.random(5)"
      ],
      "execution_count": 4,
      "outputs": [
        {
          "output_type": "execute_result",
          "data": {
            "text/plain": [
              "array([0.88221054, 0.97647112, 0.14121777, 0.11096297, 0.76982535])"
            ]
          },
          "metadata": {
            "tags": []
          },
          "execution_count": 4
        }
      ]
    },
    {
      "cell_type": "code",
      "metadata": {
        "id": "84Mh6Sjifjdh",
        "colab_type": "code",
        "colab": {
          "base_uri": "https://localhost:8080/",
          "height": 35
        },
        "outputId": "8463fd26-278b-46a7-f26b-51d1b0e4a033"
      },
      "source": [
        "np.array([1, 2, 3, 4, 5])"
      ],
      "execution_count": 5,
      "outputs": [
        {
          "output_type": "execute_result",
          "data": {
            "text/plain": [
              "array([1, 2, 3, 4, 5])"
            ]
          },
          "metadata": {
            "tags": []
          },
          "execution_count": 5
        }
      ]
    },
    {
      "cell_type": "code",
      "metadata": {
        "id": "A8cTMm2Mfjdl",
        "colab_type": "code",
        "colab": {
          "base_uri": "https://localhost:8080/",
          "height": 52
        },
        "outputId": "eea0f30e-cf84-42a2-a776-460bb2214d20"
      },
      "source": [
        "np.zeros((2, 2))"
      ],
      "execution_count": 6,
      "outputs": [
        {
          "output_type": "execute_result",
          "data": {
            "text/plain": [
              "array([[0., 0.],\n",
              "       [0., 0.]])"
            ]
          },
          "metadata": {
            "tags": []
          },
          "execution_count": 6
        }
      ]
    },
    {
      "cell_type": "code",
      "metadata": {
        "id": "h48HyGbNfjdq",
        "colab_type": "code",
        "colab": {
          "base_uri": "https://localhost:8080/",
          "height": 52
        },
        "outputId": "8e3ab40a-61e1-43b6-854e-0170eddb4d51"
      },
      "source": [
        "np.random.random((2, 2))"
      ],
      "execution_count": 7,
      "outputs": [
        {
          "output_type": "execute_result",
          "data": {
            "text/plain": [
              "array([[0.88707852, 0.66181208],\n",
              "       [0.27745031, 0.22365533]])"
            ]
          },
          "metadata": {
            "tags": []
          },
          "execution_count": 7
        }
      ]
    },
    {
      "cell_type": "code",
      "metadata": {
        "id": "NJ8XBcYXfjdv",
        "colab_type": "code",
        "colab": {
          "base_uri": "https://localhost:8080/",
          "height": 52
        },
        "outputId": "3f388842-38a7-41ca-ca49-ef4a7db6f2ae"
      },
      "source": [
        "np.array([[1, 2], [3, 4]])"
      ],
      "execution_count": 8,
      "outputs": [
        {
          "output_type": "execute_result",
          "data": {
            "text/plain": [
              "array([[1, 2],\n",
              "       [3, 4]])"
            ]
          },
          "metadata": {
            "tags": []
          },
          "execution_count": 8
        }
      ]
    },
    {
      "cell_type": "markdown",
      "metadata": {
        "id": "VhVnFItIfjdz",
        "colab_type": "text"
      },
      "source": [
        "# Operations de base sur les tableaux"
      ]
    },
    {
      "cell_type": "code",
      "metadata": {
        "id": "tPE6RbGbfjdz",
        "colab_type": "code",
        "colab": {
          "base_uri": "https://localhost:8080/",
          "height": 35
        },
        "outputId": "efc62349-8bc0-4b63-db98-16e92de11d47"
      },
      "source": [
        "a = np.ones(5)\n",
        "a"
      ],
      "execution_count": 13,
      "outputs": [
        {
          "output_type": "execute_result",
          "data": {
            "text/plain": [
              "array([1., 1., 1., 1., 1.])"
            ]
          },
          "metadata": {
            "tags": []
          },
          "execution_count": 13
        }
      ]
    },
    {
      "cell_type": "code",
      "metadata": {
        "id": "F3nMaAjVfjd3",
        "colab_type": "code",
        "colab": {
          "base_uri": "https://localhost:8080/",
          "height": 35
        },
        "outputId": "b2bf7658-6bed-4d0c-ca44-793c1007917f"
      },
      "source": [
        "a + 2"
      ],
      "execution_count": 11,
      "outputs": [
        {
          "output_type": "execute_result",
          "data": {
            "text/plain": [
              "array([3., 3., 3., 3., 3.])"
            ]
          },
          "metadata": {
            "tags": []
          },
          "execution_count": 11
        }
      ]
    },
    {
      "cell_type": "code",
      "metadata": {
        "id": "z3lr6jpYfjd7",
        "colab_type": "code",
        "colab": {
          "base_uri": "https://localhost:8080/",
          "height": 35
        },
        "outputId": "50749468-619b-466d-b003-834fa4474137"
      },
      "source": [
        "b = np.array([1, 2, 3, 4, 5])\n",
        "b"
      ],
      "execution_count": 12,
      "outputs": [
        {
          "output_type": "execute_result",
          "data": {
            "text/plain": [
              "array([1, 2, 3, 4, 5])"
            ]
          },
          "metadata": {
            "tags": []
          },
          "execution_count": 12
        }
      ]
    },
    {
      "cell_type": "code",
      "metadata": {
        "id": "Q8qmWNGsfjeA",
        "colab_type": "code",
        "colab": {
          "base_uri": "https://localhost:8080/",
          "height": 35
        },
        "outputId": "60f9bbd7-938d-45f1-d8de-6f85dce82d38"
      },
      "source": [
        "a + b"
      ],
      "execution_count": 14,
      "outputs": [
        {
          "output_type": "execute_result",
          "data": {
            "text/plain": [
              "array([2., 3., 4., 5., 6.])"
            ]
          },
          "metadata": {
            "tags": []
          },
          "execution_count": 14
        }
      ]
    },
    {
      "cell_type": "code",
      "metadata": {
        "id": "n79c4RSbfjeD",
        "colab_type": "code",
        "colab": {
          "base_uri": "https://localhost:8080/",
          "height": 35
        },
        "outputId": "7febf438-dea3-423c-c0cb-9094fa034675"
      },
      "source": [
        "# Sélection des données dans un tableau 1D\n",
        "\n",
        "b[1:4]"
      ],
      "execution_count": 15,
      "outputs": [
        {
          "output_type": "execute_result",
          "data": {
            "text/plain": [
              "array([2, 3, 4])"
            ]
          },
          "metadata": {
            "tags": []
          },
          "execution_count": 15
        }
      ]
    },
    {
      "cell_type": "code",
      "metadata": {
        "id": "zX4qyfmqfjeH",
        "colab_type": "code",
        "colab": {
          "base_uri": "https://localhost:8080/",
          "height": 69
        },
        "outputId": "1deb6a02-23b3-426b-b35a-3e2668f8ba3a"
      },
      "source": [
        "a = np.array([[1, 2, 3], [4, 5, 6], [7, 8, 9]])\n",
        "a"
      ],
      "execution_count": 16,
      "outputs": [
        {
          "output_type": "execute_result",
          "data": {
            "text/plain": [
              "array([[1, 2, 3],\n",
              "       [4, 5, 6],\n",
              "       [7, 8, 9]])"
            ]
          },
          "metadata": {
            "tags": []
          },
          "execution_count": 16
        }
      ]
    },
    {
      "cell_type": "code",
      "metadata": {
        "id": "HMghp9iofjeL",
        "colab_type": "code",
        "colab": {}
      },
      "source": [
        "# Inverser les colones\n",
        "\n",
        "a[:, ::-1]"
      ],
      "execution_count": null,
      "outputs": []
    },
    {
      "cell_type": "code",
      "metadata": {
        "id": "g0tSlvlCfjeS",
        "colab_type": "code",
        "colab": {}
      },
      "source": [
        "# Inverser les lignes\n",
        "\n",
        "a[::-1]"
      ],
      "execution_count": null,
      "outputs": []
    },
    {
      "cell_type": "code",
      "metadata": {
        "id": "qhwbbTCwfjeV",
        "colab_type": "code",
        "colab": {}
      },
      "source": [
        "# Sélectionner une partie des lignes et des colones\n",
        "\n",
        "a[1:3, 1:3]"
      ],
      "execution_count": null,
      "outputs": []
    },
    {
      "cell_type": "markdown",
      "metadata": {
        "id": "dAlW1JJafjeZ",
        "colab_type": "text"
      },
      "source": [
        "# Functions statistiques"
      ]
    },
    {
      "cell_type": "code",
      "metadata": {
        "id": "gt_jXWmNfjea",
        "colab_type": "code",
        "colab": {}
      },
      "source": [
        "a = np.array([1, 2, 3, 4, 5])\n",
        "\n",
        "# Mean (average)\n",
        "\n",
        "np.mean(a)"
      ],
      "execution_count": null,
      "outputs": []
    },
    {
      "cell_type": "code",
      "metadata": {
        "id": "fv-BSjj7fjed",
        "colab_type": "code",
        "colab": {}
      },
      "source": [
        "# Standard deviation\n",
        "\n",
        "np.std(a)"
      ],
      "execution_count": null,
      "outputs": []
    },
    {
      "cell_type": "code",
      "metadata": {
        "id": "CrruK4A3fjeh",
        "colab_type": "code",
        "colab": {}
      },
      "source": [
        "# Minimum value\n",
        "\n",
        "np.min(a)"
      ],
      "execution_count": null,
      "outputs": []
    },
    {
      "cell_type": "code",
      "metadata": {
        "id": "D6bXj_Wufjek",
        "colab_type": "code",
        "colab": {}
      },
      "source": [
        "# Index if maximum value\n",
        "\n",
        "np.argmax(a)"
      ],
      "execution_count": null,
      "outputs": []
    },
    {
      "cell_type": "markdown",
      "metadata": {
        "id": "GCCYtqsbfjen",
        "colab_type": "text"
      },
      "source": [
        "# Algebre Linéaire"
      ]
    },
    {
      "cell_type": "code",
      "metadata": {
        "id": "2f2HfBKgfjeo",
        "colab_type": "code",
        "colab": {}
      },
      "source": [
        "a = 2 * np.ones(5)\n",
        "b = np.array([1, 2, 3, 4, 5])\n",
        "\n",
        "# Dot product of two vectors\n",
        "\n",
        "a.dot(b)"
      ],
      "execution_count": null,
      "outputs": []
    },
    {
      "cell_type": "code",
      "metadata": {
        "id": "cCTZiViSfjer",
        "colab_type": "code",
        "colab": {}
      },
      "source": [
        "a = np.array([[1, 2], [3, 4]])\n",
        "a"
      ],
      "execution_count": null,
      "outputs": []
    },
    {
      "cell_type": "code",
      "metadata": {
        "id": "-tVmwIyafjev",
        "colab_type": "code",
        "colab": {}
      },
      "source": [
        "# Transpose of a matrix\n",
        "\n",
        "a.T"
      ],
      "execution_count": null,
      "outputs": []
    },
    {
      "cell_type": "code",
      "metadata": {
        "id": "VDk4tWdkfjey",
        "colab_type": "code",
        "colab": {}
      },
      "source": [
        "# Determinant of a matrix\n",
        "\n",
        "np.linalg.det(a)"
      ],
      "execution_count": null,
      "outputs": []
    },
    {
      "cell_type": "code",
      "metadata": {
        "id": "7KsCJLfnfje2",
        "colab_type": "code",
        "colab": {}
      },
      "source": [
        "# Inverse of a matrix\n",
        "\n",
        "b = np.linalg.inv(a)\n",
        "b"
      ],
      "execution_count": null,
      "outputs": []
    },
    {
      "cell_type": "code",
      "metadata": {
        "id": "YFU7eDDbfje6",
        "colab_type": "code",
        "colab": {}
      },
      "source": [
        "a.dot(b)"
      ],
      "execution_count": null,
      "outputs": []
    },
    {
      "cell_type": "markdown",
      "metadata": {
        "id": "Lawbprjmfje9",
        "colab_type": "text"
      },
      "source": [
        "# Visualisation des données\n",
        "\n",
        "[Matplotlib](https://matplotlib.org) est une puissante librairie permettant de visualiser les données et facile à utliser. Elle peut être utilisée avec NumPy et Pandas."
      ]
    },
    {
      "cell_type": "code",
      "metadata": {
        "id": "bYhLzFt-fje-",
        "colab_type": "code",
        "colab": {}
      },
      "source": [
        "import math\n",
        "import matplotlib.pyplot as plt"
      ],
      "execution_count": null,
      "outputs": []
    },
    {
      "cell_type": "code",
      "metadata": {
        "id": "s17PowqVfjfB",
        "colab_type": "code",
        "colab": {}
      },
      "source": [
        "x = np.arange(0, 2*math.pi, 2*math.pi/50)\n",
        "sin = np.sin(x)\n",
        "cos = np.cos(x)"
      ],
      "execution_count": null,
      "outputs": []
    },
    {
      "cell_type": "code",
      "metadata": {
        "id": "9CrmaUyKfjfE",
        "colab_type": "code",
        "colab": {}
      },
      "source": [
        "plt.plot(x, sin, label='sin(x)', color='blue', linewidth=2.5)\n",
        "plt.plot(x, cos, label='cos(x)', color='red', linewidth=0.5)\n",
        "plt.ylabel('y')\n",
        "plt.xlabel('x')\n",
        "plt.legend(loc='upper right')\n",
        "plt.show()"
      ],
      "execution_count": null,
      "outputs": []
    },
    {
      "cell_type": "code",
      "metadata": {
        "id": "ni2skJRIfjfI",
        "colab_type": "code",
        "colab": {}
      },
      "source": [
        "plt.scatter(x, sin, label='sin(x)', color='green')\n",
        "plt.ylabel('y')\n",
        "plt.xlabel('x')\n",
        "plt.legend(loc='upper right')\n",
        "plt.show()"
      ],
      "execution_count": null,
      "outputs": []
    },
    {
      "cell_type": "code",
      "metadata": {
        "id": "7oMadTbufjfL",
        "colab_type": "code",
        "colab": {}
      },
      "source": [
        "x = np.arange(0, math.pi, math.pi/10)\n",
        "plt.bar(x, np.sin(x), align='center', width=0.2)"
      ],
      "execution_count": null,
      "outputs": []
    },
    {
      "cell_type": "code",
      "metadata": {
        "id": "jrRdG8jdfjfP",
        "colab_type": "code",
        "colab": {}
      },
      "source": [
        "x = np.arange(0, math.pi, math.pi/10)\n",
        "plt.barh(x, np.sin(x), align='center', height=0.2)"
      ],
      "execution_count": null,
      "outputs": []
    },
    {
      "cell_type": "markdown",
      "metadata": {
        "id": "a1FsRYFyfjfS",
        "colab_type": "text"
      },
      "source": [
        "# Travailler avec des images\n",
        "\n",
        "NumPy et Matplotlib permettent de travailler avec des images."
      ]
    },
    {
      "cell_type": "code",
      "metadata": {
        "id": "VO7J3w5TfjfT",
        "colab_type": "code",
        "colab": {}
      },
      "source": [
        "from skimage import io"
      ],
      "execution_count": null,
      "outputs": []
    },
    {
      "cell_type": "code",
      "metadata": {
        "id": "kr2AQSYafjfW",
        "colab_type": "code",
        "colab": {}
      },
      "source": [
        "h500 = io.imread('https://madhu.com/images/h500.gif')\n",
        "plt.imshow(h500)"
      ],
      "execution_count": null,
      "outputs": []
    },
    {
      "cell_type": "code",
      "metadata": {
        "id": "lScVZM9HfjfZ",
        "colab_type": "code",
        "colab": {}
      },
      "source": [
        "h500.shape"
      ],
      "execution_count": null,
      "outputs": []
    },
    {
      "cell_type": "code",
      "metadata": {
        "id": "ImqcVS9Xfjfd",
        "colab_type": "code",
        "colab": {}
      },
      "source": [
        "plt.imshow(h500[:, ::-1])"
      ],
      "execution_count": null,
      "outputs": []
    },
    {
      "cell_type": "code",
      "metadata": {
        "id": "YtlKclHUfjfg",
        "colab_type": "code",
        "colab": {}
      },
      "source": [
        "plt.imshow(h500[::-1])"
      ],
      "execution_count": null,
      "outputs": []
    },
    {
      "cell_type": "code",
      "metadata": {
        "id": "nj0dNU9Jfjfj",
        "colab_type": "code",
        "colab": {}
      },
      "source": [
        "plt.imshow(h500[100:200, 100:250])"
      ],
      "execution_count": null,
      "outputs": []
    },
    {
      "cell_type": "markdown",
      "metadata": {
        "id": "Vp6IrCR4fjfn",
        "colab_type": "text"
      },
      "source": [
        "# Transformer les données"
      ]
    },
    {
      "cell_type": "code",
      "metadata": {
        "id": "pGZkEHJlfjfo",
        "colab_type": "code",
        "colab": {}
      },
      "source": [
        "a = np.array([[1, 2], [3, 4]])\n",
        "a"
      ],
      "execution_count": null,
      "outputs": []
    },
    {
      "cell_type": "code",
      "metadata": {
        "id": "v_k2A3rafjfu",
        "colab_type": "code",
        "colab": {}
      },
      "source": [
        "a.reshape(4, 1)"
      ],
      "execution_count": null,
      "outputs": []
    },
    {
      "cell_type": "code",
      "metadata": {
        "id": "nZGzQ24efjfx",
        "colab_type": "code",
        "colab": {}
      },
      "source": [
        "a.reshape(1, 4)"
      ],
      "execution_count": null,
      "outputs": []
    },
    {
      "cell_type": "code",
      "metadata": {
        "id": "-E7r-MCMfjf2",
        "colab_type": "code",
        "colab": {}
      },
      "source": [
        "a.reshape(4, 1).shape"
      ],
      "execution_count": null,
      "outputs": []
    },
    {
      "cell_type": "code",
      "metadata": {
        "id": "g4CRqNfDfjf5",
        "colab_type": "code",
        "colab": {}
      },
      "source": [
        "a = np.array([[1, 2, 3], [4, 5, 6]])\n",
        "a"
      ],
      "execution_count": null,
      "outputs": []
    },
    {
      "cell_type": "code",
      "metadata": {
        "id": "QEz2ISXIfjf9",
        "colab_type": "code",
        "colab": {}
      },
      "source": [
        "a.shape"
      ],
      "execution_count": null,
      "outputs": []
    },
    {
      "cell_type": "code",
      "metadata": {
        "id": "jJVLFMTNfjgA",
        "colab_type": "code",
        "colab": {}
      },
      "source": [
        "a.reshape(3, 2)"
      ],
      "execution_count": null,
      "outputs": []
    },
    {
      "cell_type": "code",
      "metadata": {
        "id": "02huDvzSfjgE",
        "colab_type": "code",
        "colab": {}
      },
      "source": [
        "a = np.arange(0, 6)\n",
        "a"
      ],
      "execution_count": null,
      "outputs": []
    },
    {
      "cell_type": "code",
      "metadata": {
        "id": "UZsL8SYZfjgG",
        "colab_type": "code",
        "colab": {}
      },
      "source": [
        "a.reshape(2, 3)"
      ],
      "execution_count": null,
      "outputs": []
    },
    {
      "cell_type": "code",
      "metadata": {
        "id": "LCWs0j8mfjgJ",
        "colab_type": "code",
        "colab": {}
      },
      "source": [
        ""
      ],
      "execution_count": null,
      "outputs": []
    }
  ]
}