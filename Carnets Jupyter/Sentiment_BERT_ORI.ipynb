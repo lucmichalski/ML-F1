{
  "nbformat": 4,
  "nbformat_minor": 0,
  "metadata": {
    "colab": {
      "name": "Sentiment_BERT.ipynb",
      "provenance": [],
      "collapsed_sections": [],
      "include_colab_link": true
    },
    "kernelspec": {
      "name": "python3",
      "display_name": "Python 3"
    },
    "accelerator": "GPU"
  },
  "cells": [
    {
      "cell_type": "markdown",
      "metadata": {
        "id": "view-in-github",
        "colab_type": "text"
      },
      "source": [
        "<a href=\"https://colab.research.google.com/github/AlexandreBourrieau/ML-F1/blob/master/Carnets%20Jupyter/Sentiment_BERT_ORI.ipynb\" target=\"_parent\"><img src=\"https://colab.research.google.com/assets/colab-badge.svg\" alt=\"Open In Colab\"/></a>"
      ]
    },
    {
      "cell_type": "markdown",
      "metadata": {
        "id": "-XYOUdwbNZ1f"
      },
      "source": [
        "# BERT Sentiment Classification\n",
        "\n",
        "The Google AI team published a paper in 2018 titled [Bidirectional Encoder Representations from Transformers for Natural Language Understanding](https://arxiv.org/abs/1810.04805), or more simply, BERT. This model is trained a large corpus of natural language text using in a self-supervised learning style. During training, the model is tries to predict a small set of masked words in a sentence.\n",
        "\n",
        "Consider this sentence: \"It's raining outside, unfortunately I left my _________ at home\". Clearly, the missing word should be umbrella, or similar. The missing word can be determined from context found in surrounding words. BERT learns context by \"reading\" millions of sentences, producing a pre-trained model that understands context. Layers can be added on top of pre-trained BERT models for specific language tasks. The complete model can be more accurate due to [transfer learning](https://en.wikipedia.org/wiki/Transfer_learning).\n",
        "\n",
        "Pre-trained BERT models are available for public use. The example below demonstrates how a simple classification model with a modest training data set can achieve high accuracy by taking advantage of knowledge BERT has previously learned."
      ]
    },
    {
      "cell_type": "code",
      "metadata": {
        "id": "N6WlBu6GNSyi"
      },
      "source": [
        "%tensorflow_version 2.x"
      ],
      "execution_count": 1,
      "outputs": []
    },
    {
      "cell_type": "code",
      "metadata": {
        "id": "ZdwgQ7MfNoj2",
        "outputId": "9ec168f3-c53f-422f-9e2f-b3e297a6221e",
        "colab": {
          "base_uri": "https://localhost:8080/",
          "height": 101
        }
      },
      "source": [
        "!pip install --quiet bert-for-tf2\n",
        "!pip install --quiet sentencepiece"
      ],
      "execution_count": 2,
      "outputs": [
        {
          "output_type": "stream",
          "text": [
            "\u001b[?25l\r\u001b[K     |████████                        | 10kB 29.1MB/s eta 0:00:01\r\u001b[K     |████████████████                | 20kB 2.9MB/s eta 0:00:01\r\u001b[K     |████████████████████████▏       | 30kB 3.8MB/s eta 0:00:01\r\u001b[K     |████████████████████████████████| 40kB 2.7MB/s \n",
            "\u001b[?25h  Building wheel for bert-for-tf2 (setup.py) ... \u001b[?25l\u001b[?25hdone\n",
            "  Building wheel for py-params (setup.py) ... \u001b[?25l\u001b[?25hdone\n",
            "  Building wheel for params-flow (setup.py) ... \u001b[?25l\u001b[?25hdone\n",
            "\u001b[K     |████████████████████████████████| 1.1MB 4.6MB/s \n",
            "\u001b[?25h"
          ],
          "name": "stdout"
        }
      ]
    },
    {
      "cell_type": "code",
      "metadata": {
        "id": "VJzvJaBONyHe"
      },
      "source": [
        "import tensorflow_hub as hub\n",
        "import bert\n",
        "import pandas as pd\n",
        "import numpy as np\n",
        "import tensorflow as tf\n",
        "\n",
        "from tensorflow.keras.layers import Dense, Dropout, Input, Dropout, Lambda\n",
        "from tensorflow.keras import Sequential\n",
        "from tensorflow.keras.models import Model\n",
        "from tensorflow.keras.optimizers import Adam\n",
        "\n",
        "from sklearn.model_selection import train_test_split\n",
        "\n",
        "import matplotlib.pyplot as plt\n",
        "import random"
      ],
      "execution_count": 3,
      "outputs": []
    },
    {
      "cell_type": "markdown",
      "metadata": {
        "id": "tl9VyhxKnZRP"
      },
      "source": [
        "# Training Data\n",
        "\n",
        "Download labeled data from [UCI Machine Learning Repository](https://archive.ics.uci.edu/ml/datasets/Sentiment+Labelled+Sentences)"
      ]
    },
    {
      "cell_type": "code",
      "metadata": {
        "id": "Gr-B216RN3zu",
        "outputId": "44af3798-d413-4184-ae51-6322a40c91cf",
        "colab": {
          "base_uri": "https://localhost:8080/",
          "height": 101
        }
      },
      "source": [
        "# Download data from https://archive.ics.uci.edu/ml/datasets/Sentiment+Labelled+Sentences\n",
        "\n",
        "!wget --quiet \"https://archive.ics.uci.edu/ml/machine-learning-databases/00331/sentiment%20labelled%20sentences.zip\"\n",
        "!unzip -q \"sentiment labelled sentences\"\n",
        "!mv \"sentiment labelled sentences\" data\n",
        "!ls -l data"
      ],
      "execution_count": 4,
      "outputs": [
        {
          "output_type": "stream",
          "text": [
            "total 208\n",
            "-rw-r--r-- 1 root root 58226 Jul  5  2016 amazon_cells_labelled.txt\n",
            "-rw-r--r-- 1 root root 85285 Feb 15  2015 imdb_labelled.txt\n",
            "-rw-r--r-- 1 root root  1070 May 31  2015 readme.txt\n",
            "-rw-r--r-- 1 root root 61320 Jul  5  2016 yelp_labelled.txt\n"
          ],
          "name": "stdout"
        }
      ]
    },
    {
      "cell_type": "code",
      "metadata": {
        "id": "j2JYb3UQNte2",
        "outputId": "6f514ab3-8c02-4ff7-e12f-08c3fc3441eb",
        "colab": {
          "base_uri": "https://localhost:8080/",
          "height": 212
        }
      },
      "source": [
        "files = ['data/yelp_labelled.txt', 'data/amazon_cells_labelled.txt', 'data/imdb_labelled.txt']\n",
        "\n",
        "df_list = []\n",
        "for file in files:\n",
        "    df = pd.read_csv(file, names=['comment', 'sentiment'], sep='\\t')\n",
        "    df_list.append(df)\n",
        "\n",
        "data = pd.concat(df_list)\n",
        "data['length'] = data.comment.str.split(' ').str.len()\n",
        "\n",
        "max_seq_length = 200\n",
        "\n",
        "# Keep only short comments\n",
        "shortComments = data[data.length < max_seq_length-5]\n",
        "print('Number of rows: %d' % len(shortComments))\n",
        "\n",
        "shortComments.head()"
      ],
      "execution_count": 70,
      "outputs": [
        {
          "output_type": "stream",
          "text": [
            "Number of rows: 2743\n"
          ],
          "name": "stdout"
        },
        {
          "output_type": "execute_result",
          "data": {
            "text/html": [
              "<div>\n",
              "<style scoped>\n",
              "    .dataframe tbody tr th:only-of-type {\n",
              "        vertical-align: middle;\n",
              "    }\n",
              "\n",
              "    .dataframe tbody tr th {\n",
              "        vertical-align: top;\n",
              "    }\n",
              "\n",
              "    .dataframe thead th {\n",
              "        text-align: right;\n",
              "    }\n",
              "</style>\n",
              "<table border=\"1\" class=\"dataframe\">\n",
              "  <thead>\n",
              "    <tr style=\"text-align: right;\">\n",
              "      <th></th>\n",
              "      <th>comment</th>\n",
              "      <th>sentiment</th>\n",
              "      <th>length</th>\n",
              "    </tr>\n",
              "  </thead>\n",
              "  <tbody>\n",
              "    <tr>\n",
              "      <th>0</th>\n",
              "      <td>Wow... Loved this place.</td>\n",
              "      <td>1</td>\n",
              "      <td>4</td>\n",
              "    </tr>\n",
              "    <tr>\n",
              "      <th>1</th>\n",
              "      <td>Crust is not good.</td>\n",
              "      <td>0</td>\n",
              "      <td>4</td>\n",
              "    </tr>\n",
              "    <tr>\n",
              "      <th>2</th>\n",
              "      <td>Not tasty and the texture was just nasty.</td>\n",
              "      <td>0</td>\n",
              "      <td>8</td>\n",
              "    </tr>\n",
              "    <tr>\n",
              "      <th>3</th>\n",
              "      <td>Stopped by during the late May bank holiday of...</td>\n",
              "      <td>1</td>\n",
              "      <td>15</td>\n",
              "    </tr>\n",
              "    <tr>\n",
              "      <th>4</th>\n",
              "      <td>The selection on the menu was great and so wer...</td>\n",
              "      <td>1</td>\n",
              "      <td>12</td>\n",
              "    </tr>\n",
              "  </tbody>\n",
              "</table>\n",
              "</div>"
            ],
            "text/plain": [
              "                                             comment  sentiment  length\n",
              "0                           Wow... Loved this place.          1       4\n",
              "1                                 Crust is not good.          0       4\n",
              "2          Not tasty and the texture was just nasty.          0       8\n",
              "3  Stopped by during the late May bank holiday of...          1      15\n",
              "4  The selection on the menu was great and so wer...          1      12"
            ]
          },
          "metadata": {
            "tags": []
          },
          "execution_count": 70
        }
      ]
    },
    {
      "cell_type": "markdown",
      "metadata": {
        "id": "hg7hnkt4neK1"
      },
      "source": [
        "# Data Preparation"
      ]
    },
    {
      "cell_type": "code",
      "metadata": {
        "id": "6OnEpXb258Xv"
      },
      "source": [
        "TRAIN = 2330 \n",
        "TEST = 2743\n",
        "comments = shortComments.comment.astype(str).tolist()\n",
        "sentiments = shortComments.sentiment.tolist()\n",
        "labels = np.asarray(sentiments)\n",
        "\n",
        "x_train = comments[0:TRAIN]\n",
        "y_train = labels[0:TRAIN]\n",
        "x_test = comments[TRAIN:TEST]\n",
        "y_test = labels[TRAIN:TEST]"
      ],
      "execution_count": 71,
      "outputs": []
    },
    {
      "cell_type": "code",
      "metadata": {
        "id": "q7wr-SyM6BCD",
        "outputId": "7fcdd6b5-7c70-4be6-e107-1e1075883f13",
        "colab": {
          "base_uri": "https://localhost:8080/",
          "height": 50
        }
      },
      "source": [
        "print(x_train[0])\n",
        "print(x_test[0])"
      ],
      "execution_count": 72,
      "outputs": [
        {
          "output_type": "stream",
          "text": [
            "Wow... Loved this place.\n",
            "steve martin delivers a really funny performance of a middle-aged, upper class, uptight white guy.  \n"
          ],
          "name": "stdout"
        }
      ]
    },
    {
      "cell_type": "code",
      "metadata": {
        "id": "SLsycFuUQUMU"
      },
      "source": [
        "bert_path = \"https://tfhub.dev/tensorflow/bert_en_uncased_L-12_H-768_A-12/1\"\n",
        "bert_layer = hub.KerasLayer(bert_path, trainable=False, name='BERT')\n",
        "vocab_file1 = bert_layer.resolved_object.vocab_file.asset_path.numpy()\n",
        "tokenizer = bert.bert_tokenization.FullTokenizer(vocab_file1, do_lower_case=True)"
      ],
      "execution_count": 73,
      "outputs": []
    },
    {
      "cell_type": "code",
      "metadata": {
        "id": "tsWSnJaj5H2V"
      },
      "source": [
        "def encodeText(textList):\n",
        "  token_list = []\n",
        "  att_list = []\n",
        "  segment_list = []\n",
        "  for text in textList:\n",
        "    tokens = tokenizer.tokenize(text)\n",
        "    padding = ['[PAD]'] * (max_seq_length - len(tokens) - 2)\n",
        "    token_ids = tokenizer.convert_tokens_to_ids(['[CLS]'] + tokens + ['[SEP]'] + padding)\n",
        "    token_list.append(token_ids)\n",
        "\n",
        "    att_mask = [int(id > 0) for id in token_ids]\n",
        "    att_list.append(att_mask)\n",
        "\n",
        "    segment_ids = [0]*max_seq_length\n",
        "    segment_list.append(segment_ids)\n",
        "  return [tf.cast(token_list,tf.int32), tf.cast(att_list,tf.int32), tf.cast(segment_list,tf.int32)]"
      ],
      "execution_count": 74,
      "outputs": []
    },
    {
      "cell_type": "code",
      "metadata": {
        "id": "EDTPRkwg8-gU",
        "outputId": "6e7b8ef8-d731-4776-ed45-09faf5094960",
        "colab": {
          "base_uri": "https://localhost:8080/",
          "height": 806
        }
      },
      "source": [
        "print(x_train[0])\n",
        "encodeText([x_train[0]])"
      ],
      "execution_count": 75,
      "outputs": [
        {
          "output_type": "stream",
          "text": [
            "Wow... Loved this place.\n"
          ],
          "name": "stdout"
        },
        {
          "output_type": "execute_result",
          "data": {
            "text/plain": [
              "[<tf.Tensor: shape=(1, 200), dtype=int32, numpy=\n",
              " array([[  101, 10166,  1012,  1012,  1012,  3866,  2023,  2173,  1012,\n",
              "           102,     0,     0,     0,     0,     0,     0,     0,     0,\n",
              "             0,     0,     0,     0,     0,     0,     0,     0,     0,\n",
              "             0,     0,     0,     0,     0,     0,     0,     0,     0,\n",
              "             0,     0,     0,     0,     0,     0,     0,     0,     0,\n",
              "             0,     0,     0,     0,     0,     0,     0,     0,     0,\n",
              "             0,     0,     0,     0,     0,     0,     0,     0,     0,\n",
              "             0,     0,     0,     0,     0,     0,     0,     0,     0,\n",
              "             0,     0,     0,     0,     0,     0,     0,     0,     0,\n",
              "             0,     0,     0,     0,     0,     0,     0,     0,     0,\n",
              "             0,     0,     0,     0,     0,     0,     0,     0,     0,\n",
              "             0,     0,     0,     0,     0,     0,     0,     0,     0,\n",
              "             0,     0,     0,     0,     0,     0,     0,     0,     0,\n",
              "             0,     0,     0,     0,     0,     0,     0,     0,     0,\n",
              "             0,     0,     0,     0,     0,     0,     0,     0,     0,\n",
              "             0,     0,     0,     0,     0,     0,     0,     0,     0,\n",
              "             0,     0,     0,     0,     0,     0,     0,     0,     0,\n",
              "             0,     0,     0,     0,     0,     0,     0,     0,     0,\n",
              "             0,     0,     0,     0,     0,     0,     0,     0,     0,\n",
              "             0,     0,     0,     0,     0,     0,     0,     0,     0,\n",
              "             0,     0,     0,     0,     0,     0,     0,     0,     0,\n",
              "             0,     0,     0,     0,     0,     0,     0,     0,     0,\n",
              "             0,     0]], dtype=int32)>,\n",
              " <tf.Tensor: shape=(1, 200), dtype=int32, numpy=\n",
              " array([[1, 1, 1, 1, 1, 1, 1, 1, 1, 1, 0, 0, 0, 0, 0, 0, 0, 0, 0, 0, 0, 0,\n",
              "         0, 0, 0, 0, 0, 0, 0, 0, 0, 0, 0, 0, 0, 0, 0, 0, 0, 0, 0, 0, 0, 0,\n",
              "         0, 0, 0, 0, 0, 0, 0, 0, 0, 0, 0, 0, 0, 0, 0, 0, 0, 0, 0, 0, 0, 0,\n",
              "         0, 0, 0, 0, 0, 0, 0, 0, 0, 0, 0, 0, 0, 0, 0, 0, 0, 0, 0, 0, 0, 0,\n",
              "         0, 0, 0, 0, 0, 0, 0, 0, 0, 0, 0, 0, 0, 0, 0, 0, 0, 0, 0, 0, 0, 0,\n",
              "         0, 0, 0, 0, 0, 0, 0, 0, 0, 0, 0, 0, 0, 0, 0, 0, 0, 0, 0, 0, 0, 0,\n",
              "         0, 0, 0, 0, 0, 0, 0, 0, 0, 0, 0, 0, 0, 0, 0, 0, 0, 0, 0, 0, 0, 0,\n",
              "         0, 0, 0, 0, 0, 0, 0, 0, 0, 0, 0, 0, 0, 0, 0, 0, 0, 0, 0, 0, 0, 0,\n",
              "         0, 0, 0, 0, 0, 0, 0, 0, 0, 0, 0, 0, 0, 0, 0, 0, 0, 0, 0, 0, 0, 0,\n",
              "         0, 0]], dtype=int32)>,\n",
              " <tf.Tensor: shape=(1, 200), dtype=int32, numpy=\n",
              " array([[0, 0, 0, 0, 0, 0, 0, 0, 0, 0, 0, 0, 0, 0, 0, 0, 0, 0, 0, 0, 0, 0,\n",
              "         0, 0, 0, 0, 0, 0, 0, 0, 0, 0, 0, 0, 0, 0, 0, 0, 0, 0, 0, 0, 0, 0,\n",
              "         0, 0, 0, 0, 0, 0, 0, 0, 0, 0, 0, 0, 0, 0, 0, 0, 0, 0, 0, 0, 0, 0,\n",
              "         0, 0, 0, 0, 0, 0, 0, 0, 0, 0, 0, 0, 0, 0, 0, 0, 0, 0, 0, 0, 0, 0,\n",
              "         0, 0, 0, 0, 0, 0, 0, 0, 0, 0, 0, 0, 0, 0, 0, 0, 0, 0, 0, 0, 0, 0,\n",
              "         0, 0, 0, 0, 0, 0, 0, 0, 0, 0, 0, 0, 0, 0, 0, 0, 0, 0, 0, 0, 0, 0,\n",
              "         0, 0, 0, 0, 0, 0, 0, 0, 0, 0, 0, 0, 0, 0, 0, 0, 0, 0, 0, 0, 0, 0,\n",
              "         0, 0, 0, 0, 0, 0, 0, 0, 0, 0, 0, 0, 0, 0, 0, 0, 0, 0, 0, 0, 0, 0,\n",
              "         0, 0, 0, 0, 0, 0, 0, 0, 0, 0, 0, 0, 0, 0, 0, 0, 0, 0, 0, 0, 0, 0,\n",
              "         0, 0]], dtype=int32)>]"
            ]
          },
          "metadata": {
            "tags": []
          },
          "execution_count": 75
        }
      ]
    },
    {
      "cell_type": "code",
      "metadata": {
        "id": "m_yXu5Lm-Mum",
        "outputId": "73eb17be-6e59-4732-c5d5-340401c945ef",
        "colab": {
          "base_uri": "https://localhost:8080/",
          "height": 571
        }
      },
      "source": [
        "print(x_test[0])\n",
        "encodeText([x_test[0]])"
      ],
      "execution_count": 22,
      "outputs": [
        {
          "output_type": "stream",
          "text": [
            "steve martin delivers a really funny performance of a middle-aged, upper class, uptight white guy.  \n"
          ],
          "name": "stdout"
        },
        {
          "output_type": "execute_result",
          "data": {
            "text/plain": [
              "[<tf.Tensor: shape=(1, 128), dtype=int32, numpy=\n",
              " array([[  101,  3889,  3235, 18058,  1037,  2428,  6057,  2836,  1997,\n",
              "          1037,  2690,  1011,  4793,  1010,  3356,  2465,  1010,  2039,\n",
              "         26143,  2317,  3124,  1012,   102,     0,     0,     0,     0,\n",
              "             0,     0,     0,     0,     0,     0,     0,     0,     0,\n",
              "             0,     0,     0,     0,     0,     0,     0,     0,     0,\n",
              "             0,     0,     0,     0,     0,     0,     0,     0,     0,\n",
              "             0,     0,     0,     0,     0,     0,     0,     0,     0,\n",
              "             0,     0,     0,     0,     0,     0,     0,     0,     0,\n",
              "             0,     0,     0,     0,     0,     0,     0,     0,     0,\n",
              "             0,     0,     0,     0,     0,     0,     0,     0,     0,\n",
              "             0,     0,     0,     0,     0,     0,     0,     0,     0,\n",
              "             0,     0,     0,     0,     0,     0,     0,     0,     0,\n",
              "             0,     0,     0,     0,     0,     0,     0,     0,     0,\n",
              "             0,     0,     0,     0,     0,     0,     0,     0,     0,\n",
              "             0,     0]], dtype=int32)>,\n",
              " <tf.Tensor: shape=(1, 128), dtype=int32, numpy=\n",
              " array([[1, 1, 1, 1, 1, 1, 1, 1, 1, 1, 1, 1, 1, 1, 1, 1, 1, 1, 1, 1, 1, 1,\n",
              "         1, 0, 0, 0, 0, 0, 0, 0, 0, 0, 0, 0, 0, 0, 0, 0, 0, 0, 0, 0, 0, 0,\n",
              "         0, 0, 0, 0, 0, 0, 0, 0, 0, 0, 0, 0, 0, 0, 0, 0, 0, 0, 0, 0, 0, 0,\n",
              "         0, 0, 0, 0, 0, 0, 0, 0, 0, 0, 0, 0, 0, 0, 0, 0, 0, 0, 0, 0, 0, 0,\n",
              "         0, 0, 0, 0, 0, 0, 0, 0, 0, 0, 0, 0, 0, 0, 0, 0, 0, 0, 0, 0, 0, 0,\n",
              "         0, 0, 0, 0, 0, 0, 0, 0, 0, 0, 0, 0, 0, 0, 0, 0, 0, 0]],\n",
              "       dtype=int32)>,\n",
              " <tf.Tensor: shape=(1, 128), dtype=int32, numpy=\n",
              " array([[0, 0, 0, 0, 0, 0, 0, 0, 0, 0, 0, 0, 0, 0, 0, 0, 0, 0, 0, 0, 0, 0,\n",
              "         0, 0, 0, 0, 0, 0, 0, 0, 0, 0, 0, 0, 0, 0, 0, 0, 0, 0, 0, 0, 0, 0,\n",
              "         0, 0, 0, 0, 0, 0, 0, 0, 0, 0, 0, 0, 0, 0, 0, 0, 0, 0, 0, 0, 0, 0,\n",
              "         0, 0, 0, 0, 0, 0, 0, 0, 0, 0, 0, 0, 0, 0, 0, 0, 0, 0, 0, 0, 0, 0,\n",
              "         0, 0, 0, 0, 0, 0, 0, 0, 0, 0, 0, 0, 0, 0, 0, 0, 0, 0, 0, 0, 0, 0,\n",
              "         0, 0, 0, 0, 0, 0, 0, 0, 0, 0, 0, 0, 0, 0, 0, 0, 0, 0]],\n",
              "       dtype=int32)>]"
            ]
          },
          "metadata": {
            "tags": []
          },
          "execution_count": 22
        }
      ]
    },
    {
      "cell_type": "markdown",
      "metadata": {
        "id": "QmkLLlNEfxPO"
      },
      "source": [
        "# Define Model"
      ]
    },
    {
      "cell_type": "code",
      "metadata": {
        "id": "vRETjv5N_zc5",
        "outputId": "2a2428dc-8c5e-4587-a38e-3c454a23e2e1",
        "colab": {
          "base_uri": "https://localhost:8080/",
          "height": 622
        }
      },
      "source": [
        "input_word_ids = tf.keras.layers.Input(shape=(max_seq_length,), dtype=tf.int32, name=\"input_word_ids\")\n",
        "input_mask = tf.keras.layers.Input(shape=(max_seq_length,), dtype=tf.int32, name=\"input_mask\")\n",
        "input_segment_ids = tf.keras.layers.Input(shape=(max_seq_length,), dtype=tf.int32, name=\"segment_ids\")\n",
        "sortie_BERT = bert_layer([input_word_ids, input_mask, input_segment_ids])\n",
        "\n",
        "pooled_output, sequence_output = bert_layer([input_word_ids, input_mask, input_segment_ids])\n",
        "\n",
        "model_output_seq = Model([input_word_ids, input_mask, input_segment_ids], sequence_output)\n",
        "model_output_seq.summary()\n",
        "\n",
        "model_output_pooled = Model([input_word_ids, input_mask, input_segment_ids], pooled_output)\n",
        "model_output_pooled.summary()\n"
      ],
      "execution_count": 76,
      "outputs": [
        {
          "output_type": "stream",
          "text": [
            "Model: \"functional_17\"\n",
            "__________________________________________________________________________________________________\n",
            "Layer (type)                    Output Shape         Param #     Connected to                     \n",
            "==================================================================================================\n",
            "input_word_ids (InputLayer)     [(None, 200)]        0                                            \n",
            "__________________________________________________________________________________________________\n",
            "input_mask (InputLayer)         [(None, 200)]        0                                            \n",
            "__________________________________________________________________________________________________\n",
            "segment_ids (InputLayer)        [(None, 200)]        0                                            \n",
            "__________________________________________________________________________________________________\n",
            "BERT (KerasLayer)               [(None, 768), (None, 109482241   input_word_ids[0][0]             \n",
            "                                                                 input_mask[0][0]                 \n",
            "                                                                 segment_ids[0][0]                \n",
            "==================================================================================================\n",
            "Total params: 109,482,241\n",
            "Trainable params: 0\n",
            "Non-trainable params: 109,482,241\n",
            "__________________________________________________________________________________________________\n",
            "Model: \"functional_19\"\n",
            "__________________________________________________________________________________________________\n",
            "Layer (type)                    Output Shape         Param #     Connected to                     \n",
            "==================================================================================================\n",
            "input_word_ids (InputLayer)     [(None, 200)]        0                                            \n",
            "__________________________________________________________________________________________________\n",
            "input_mask (InputLayer)         [(None, 200)]        0                                            \n",
            "__________________________________________________________________________________________________\n",
            "segment_ids (InputLayer)        [(None, 200)]        0                                            \n",
            "__________________________________________________________________________________________________\n",
            "BERT (KerasLayer)               [(None, 768), (None, 109482241   input_word_ids[0][0]             \n",
            "                                                                 input_mask[0][0]                 \n",
            "                                                                 segment_ids[0][0]                \n",
            "==================================================================================================\n",
            "Total params: 109,482,241\n",
            "Trainable params: 0\n",
            "Non-trainable params: 109,482,241\n",
            "__________________________________________________________________________________________________\n"
          ],
          "name": "stdout"
        }
      ]
    },
    {
      "cell_type": "code",
      "metadata": {
        "id": "QwM6DcOgHEFA",
        "outputId": "fdda1b47-2adb-49f8-ab6b-2190835b8583",
        "colab": {
          "base_uri": "https://localhost:8080/",
          "height": 50
        }
      },
      "source": [
        "sortie_BERT"
      ],
      "execution_count": 68,
      "outputs": [
        {
          "output_type": "execute_result",
          "data": {
            "text/plain": [
              "[<tf.Tensor 'BERT/StatefulPartitionedCall_5:0' shape=(None, 768) dtype=float32>,\n",
              " <tf.Tensor 'BERT/StatefulPartitionedCall_5:1' shape=(None, None, 768) dtype=float32>]"
            ]
          },
          "metadata": {
            "tags": []
          },
          "execution_count": 68
        }
      ]
    },
    {
      "cell_type": "code",
      "metadata": {
        "id": "sHSCTwmcE7k8",
        "outputId": "eb6a1e94-1208-476c-ab17-814f5a7096cc",
        "colab": {
          "base_uri": "https://localhost:8080/",
          "height": 34
        }
      },
      "source": [
        "pooled_output"
      ],
      "execution_count": 77,
      "outputs": [
        {
          "output_type": "execute_result",
          "data": {
            "text/plain": [
              "<tf.Tensor 'BERT/StatefulPartitionedCall_8:0' shape=(None, 768) dtype=float32>"
            ]
          },
          "metadata": {
            "tags": []
          },
          "execution_count": 77
        }
      ]
    },
    {
      "cell_type": "code",
      "metadata": {
        "id": "Uz77luvPFDwO",
        "outputId": "41f37cf2-593e-4205-8139-b029442ae17a",
        "colab": {
          "base_uri": "https://localhost:8080/",
          "height": 34
        }
      },
      "source": [
        "sequence_output"
      ],
      "execution_count": 78,
      "outputs": [
        {
          "output_type": "execute_result",
          "data": {
            "text/plain": [
              "<tf.Tensor 'BERT/StatefulPartitionedCall_8:1' shape=(None, None, 768) dtype=float32>"
            ]
          },
          "metadata": {
            "tags": []
          },
          "execution_count": 78
        }
      ]
    },
    {
      "cell_type": "code",
      "metadata": {
        "id": "L4np_cu6FAC2",
        "outputId": "5c1ecf02-eab6-426a-834e-eb48389d2207",
        "colab": {
          "base_uri": "https://localhost:8080/",
          "height": 420
        }
      },
      "source": [
        "encodeText([x_train[0]])[0]"
      ],
      "execution_count": 85,
      "outputs": [
        {
          "output_type": "execute_result",
          "data": {
            "text/plain": [
              "<tf.Tensor: shape=(1, 200), dtype=int32, numpy=\n",
              "array([[  101, 10166,  1012,  1012,  1012,  3866,  2023,  2173,  1012,\n",
              "          102,     0,     0,     0,     0,     0,     0,     0,     0,\n",
              "            0,     0,     0,     0,     0,     0,     0,     0,     0,\n",
              "            0,     0,     0,     0,     0,     0,     0,     0,     0,\n",
              "            0,     0,     0,     0,     0,     0,     0,     0,     0,\n",
              "            0,     0,     0,     0,     0,     0,     0,     0,     0,\n",
              "            0,     0,     0,     0,     0,     0,     0,     0,     0,\n",
              "            0,     0,     0,     0,     0,     0,     0,     0,     0,\n",
              "            0,     0,     0,     0,     0,     0,     0,     0,     0,\n",
              "            0,     0,     0,     0,     0,     0,     0,     0,     0,\n",
              "            0,     0,     0,     0,     0,     0,     0,     0,     0,\n",
              "            0,     0,     0,     0,     0,     0,     0,     0,     0,\n",
              "            0,     0,     0,     0,     0,     0,     0,     0,     0,\n",
              "            0,     0,     0,     0,     0,     0,     0,     0,     0,\n",
              "            0,     0,     0,     0,     0,     0,     0,     0,     0,\n",
              "            0,     0,     0,     0,     0,     0,     0,     0,     0,\n",
              "            0,     0,     0,     0,     0,     0,     0,     0,     0,\n",
              "            0,     0,     0,     0,     0,     0,     0,     0,     0,\n",
              "            0,     0,     0,     0,     0,     0,     0,     0,     0,\n",
              "            0,     0,     0,     0,     0,     0,     0,     0,     0,\n",
              "            0,     0,     0,     0,     0,     0,     0,     0,     0,\n",
              "            0,     0,     0,     0,     0,     0,     0,     0,     0,\n",
              "            0,     0]], dtype=int32)>"
            ]
          },
          "metadata": {
            "tags": []
          },
          "execution_count": 85
        }
      ]
    },
    {
      "cell_type": "code",
      "metadata": {
        "id": "6_bhpcEYAQKY",
        "outputId": "f30d847e-f844-41e0-c10a-dd5c72b0aaa3",
        "colab": {
          "base_uri": "https://localhost:8080/",
          "height": 50
        }
      },
      "source": [
        "sortie_prolongation_lexicale_seq = model_output_seq.predict(encodeText([x_train[0]]),verbose=1)\n",
        "sortie_prolongation_lexicale_pool = model_output_pooled.predict(encodeText([x_train[0]]),verbose=1)\n",
        "\n",
        "#print(\"Commentaire :\", commentaires[0])\n",
        "#print(\"input_ids\", output_tokenizer_entrainement['input_ids'][0])\n",
        "#print(\"Sortie BERT\", sortie_prolongation_lexicale[0])"
      ],
      "execution_count": 79,
      "outputs": [
        {
          "output_type": "stream",
          "text": [
            "1/1 [==============================] - 0s 20ms/step\n",
            "1/1 [==============================] - 0s 20ms/step\n"
          ],
          "name": "stdout"
        }
      ]
    },
    {
      "cell_type": "code",
      "metadata": {
        "id": "odTylbhBCACq",
        "outputId": "9b79e222-6b8a-4c4a-d4bd-39f769affc68",
        "colab": {
          "base_uri": "https://localhost:8080/",
          "height": 252
        }
      },
      "source": [
        "print(sortie_prolongation_lexicale_seq.shape)\n",
        "print(sortie_prolongation_lexicale_seq)\n",
        "\n",
        "# Vecteur du premier mot [CLS]\n",
        "#print(sortie_prolongation_lexicale_seq[:,0,:])"
      ],
      "execution_count": 80,
      "outputs": [
        {
          "output_type": "stream",
          "text": [
            "(1, 200, 768)\n",
            "[[[ 0.33290103  0.14403981  0.15734318 ... -0.31091207  0.3727808\n",
            "   -0.01420402]\n",
            "  [ 1.1750797   0.33402944  0.13157754 ... -0.06376196  1.2347517\n",
            "   -0.69797796]\n",
            "  [ 0.27667293 -0.91083205  0.70141786 ...  0.45738718  1.2518204\n",
            "   -0.79927874]\n",
            "  ...\n",
            "  [ 0.16696827  0.04958361  0.5952973  ... -0.23928262  0.34050697\n",
            "   -0.2534288 ]\n",
            "  [ 0.12017815  0.02416777  0.43853474 ... -0.33656028  0.19453433\n",
            "   -0.10725914]\n",
            "  [ 0.23291521 -0.15911546  0.50661075 ... -0.15655492  0.23682216\n",
            "   -0.48425522]]]\n"
          ],
          "name": "stdout"
        }
      ]
    },
    {
      "cell_type": "code",
      "metadata": {
        "id": "Kd2TEBk7CfsW",
        "outputId": "ab2645aa-79c6-48de-a410-a8397f8a58cd",
        "colab": {
          "base_uri": "https://localhost:8080/",
          "height": 1000
        }
      },
      "source": [
        "print(sortie_prolongation_lexicale_pool.shape)\n",
        "sortie_prolongation_lexicale_pool"
      ],
      "execution_count": 42,
      "outputs": [
        {
          "output_type": "stream",
          "text": [
            "(1, 768)\n"
          ],
          "name": "stdout"
        },
        {
          "output_type": "execute_result",
          "data": {
            "text/plain": [
              "array([[-8.61744046e-01, -3.43323708e-01, -8.81922543e-01,\n",
              "         7.22717524e-01,  6.61231995e-01, -2.18384013e-01,\n",
              "         9.08083797e-01,  2.20222339e-01, -8.41560125e-01,\n",
              "        -9.99962509e-01, -4.25652921e-01,  9.05785799e-01,\n",
              "         9.73826528e-01,  4.53288466e-01,  9.43988979e-01,\n",
              "        -7.06010461e-01, -2.12116122e-01, -5.79297543e-01,\n",
              "         3.10203195e-01, -4.88268346e-01,  7.23718286e-01,\n",
              "         9.99957383e-01,  1.20174952e-01,  3.07119966e-01,\n",
              "         4.70252693e-01,  9.77804363e-01, -7.38498688e-01,\n",
              "         9.37963009e-01,  9.39454675e-01,  6.85649812e-01,\n",
              "        -7.12499797e-01,  1.34492368e-01, -9.86814201e-01,\n",
              "        -1.97977021e-01, -8.81141543e-01, -9.84222770e-01,\n",
              "         3.37755978e-01, -6.58392429e-01,  7.63365179e-02,\n",
              "         6.93049952e-02, -9.10925388e-01,  2.50340611e-01,\n",
              "         9.99914646e-01, -4.03407872e-01,  2.65088588e-01,\n",
              "        -3.39293897e-01, -9.99999762e-01,  2.67958671e-01,\n",
              "        -8.61242890e-01,  8.84906709e-01,  8.00273418e-01,\n",
              "         8.60615432e-01,  1.12213485e-01,  5.09222567e-01,\n",
              "         4.75645334e-01, -2.47329786e-01, -1.78271472e-01,\n",
              "         6.90300018e-02, -1.24134220e-01, -5.92244625e-01,\n",
              "        -6.31169319e-01,  2.57602721e-01, -8.58737230e-01,\n",
              "        -9.03019905e-01,  8.21612835e-01,  7.82324672e-01,\n",
              "        -7.57858753e-02, -2.21988916e-01, -6.19979985e-02,\n",
              "        -1.48947313e-01,  8.64252269e-01,  1.96324393e-01,\n",
              "        -2.15276599e-01, -8.81773472e-01,  6.43475890e-01,\n",
              "         2.20538810e-01, -6.90940797e-01,  1.00000000e+00,\n",
              "        -3.00470829e-01, -9.73787367e-01,  8.90311241e-01,\n",
              "         6.98829710e-01,  6.02814913e-01, -3.04663628e-01,\n",
              "         3.12550068e-01, -1.00000000e+00,  5.46869040e-01,\n",
              "        -7.45219663e-02, -9.89143491e-01,  1.79887757e-01,\n",
              "         6.22311413e-01, -2.79891342e-01,  8.20481300e-01,\n",
              "         6.50749326e-01, -5.73051691e-01, -4.11099702e-01,\n",
              "        -2.04637021e-01, -7.69850492e-01, -2.55081356e-01,\n",
              "        -3.40405852e-01,  2.12420039e-02, -2.28839606e-01,\n",
              "        -3.02998066e-01, -3.54757100e-01,  2.09864661e-01,\n",
              "        -3.60354781e-01, -4.24993008e-01,  6.23011827e-01,\n",
              "         3.20473462e-01,  6.28912330e-01,  4.79110867e-01,\n",
              "        -3.16391349e-01,  4.10672545e-01, -9.41679835e-01,\n",
              "         4.99219179e-01, -1.91432506e-01, -9.81087804e-01,\n",
              "        -6.77653193e-01, -9.90371406e-01,  6.27459645e-01,\n",
              "        -2.10705191e-01, -2.36755803e-01,  9.46291208e-01,\n",
              "        -3.08412105e-01,  3.57504040e-01, -1.13513313e-01,\n",
              "        -8.70121479e-01, -1.00000000e+00, -5.40234923e-01,\n",
              "        -3.15104634e-01, -2.45209381e-01, -2.20125094e-01,\n",
              "        -9.62786615e-01, -9.57431197e-01,  5.49747169e-01,\n",
              "         9.52603400e-01,  1.43883452e-01,  9.99685526e-01,\n",
              "        -3.82216692e-01,  9.23968613e-01, -4.53246534e-01,\n",
              "        -6.38307214e-01,  6.20920658e-01, -5.17648339e-01,\n",
              "         7.35760093e-01,  2.17575178e-01, -4.52645689e-01,\n",
              "         1.36431694e-01, -2.55897105e-01,  2.61997938e-01,\n",
              "        -5.79694092e-01, -1.37381285e-01, -7.59941220e-01,\n",
              "        -9.30617094e-01, -3.74269068e-01,  9.57383156e-01,\n",
              "        -6.23144507e-01, -9.21538770e-01, -2.08465397e-01,\n",
              "        -1.94651008e-01, -4.28209394e-01,  8.03131700e-01,\n",
              "         6.81672335e-01,  2.67469078e-01, -2.41362944e-01,\n",
              "         4.29258138e-01, -5.61535135e-02,  3.71920437e-01,\n",
              "        -7.05406666e-01,  9.62590650e-02,  3.80408764e-01,\n",
              "        -3.37101281e-01, -7.78241456e-01, -9.76165175e-01,\n",
              "        -2.88635701e-01,  5.12292743e-01,  9.88136590e-01,\n",
              "         7.16611564e-01,  2.34678671e-01,  7.78670788e-01,\n",
              "        -1.59609348e-01,  6.97446585e-01, -9.32181597e-01,\n",
              "         9.79993582e-01, -2.07894698e-01,  2.62277603e-01,\n",
              "        -3.99058461e-01,  6.31900012e-01, -8.34464908e-01,\n",
              "         2.53660589e-01,  8.07493210e-01, -7.14570880e-01,\n",
              "        -7.72575021e-01, -4.20180755e-03, -4.76539284e-01,\n",
              "        -3.12544495e-01, -8.61633599e-01,  4.14511710e-01,\n",
              "        -3.59725147e-01, -3.86698127e-01, -1.76770791e-01,\n",
              "         9.27046001e-01,  9.72456098e-01,  7.94199467e-01,\n",
              "         2.78784961e-01,  5.40881395e-01, -9.18544412e-01,\n",
              "        -5.50943613e-01,  7.72915706e-02,  9.48036239e-02,\n",
              "         2.50985891e-01,  9.91877437e-01, -5.65781415e-01,\n",
              "        -9.67447013e-02, -9.43334699e-01, -9.83875096e-01,\n",
              "        -1.30329981e-01, -8.96345615e-01, -2.04257414e-01,\n",
              "        -5.54361224e-01,  5.37353635e-01, -3.66577834e-01,\n",
              "         5.39723158e-01,  3.08027029e-01, -9.85630631e-01,\n",
              "        -7.61792004e-01,  3.56724173e-01, -3.39254856e-01,\n",
              "         3.94056737e-01, -2.16453508e-01,  7.79268801e-01,\n",
              "         9.29114282e-01, -5.12835979e-01,  5.54403663e-01,\n",
              "         9.12120461e-01, -9.27754164e-01, -7.87939370e-01,\n",
              "         8.11621666e-01, -1.68370605e-01,  8.18091869e-01,\n",
              "        -5.79549491e-01,  9.81524050e-01,  8.43359292e-01,\n",
              "         8.01778197e-01, -9.06242907e-01, -7.08131552e-01,\n",
              "        -8.43587339e-01, -6.32369518e-01, -2.13767752e-01,\n",
              "         6.69874134e-04,  8.60036612e-01,  7.05817580e-01,\n",
              "         3.69600207e-01,  5.37972450e-01, -4.73017335e-01,\n",
              "         9.94648159e-01, -8.02779496e-01, -9.44294572e-01,\n",
              "        -5.94341993e-01, -2.54818529e-01, -9.85471964e-01,\n",
              "         8.21371078e-01,  3.42668414e-01,  2.18683675e-01,\n",
              "        -3.88397664e-01, -6.16838455e-01, -9.49676931e-01,\n",
              "         8.50714624e-01,  1.27275020e-01,  9.78155792e-01,\n",
              "        -3.03236991e-01, -8.63321722e-01, -6.27952814e-01,\n",
              "        -9.25653279e-01, -2.17174023e-01, -2.80201495e-01,\n",
              "        -4.41154212e-01, -2.13998109e-01, -9.59607959e-01,\n",
              "         4.38125432e-01,  4.73602474e-01,  5.10202408e-01,\n",
              "        -7.74893045e-01,  9.97799814e-01,  9.99999821e-01,\n",
              "         9.71991777e-01,  8.64810944e-01,  9.09997761e-01,\n",
              "        -9.99535799e-01, -6.87417865e-01,  9.99984562e-01,\n",
              "        -9.83841658e-01, -1.00000000e+00, -9.31617975e-01,\n",
              "        -5.98649740e-01,  3.61851692e-01, -1.00000000e+00,\n",
              "        -1.52560726e-01,  9.75943357e-02, -8.88089895e-01,\n",
              "         6.02881432e-01,  9.59792256e-01,  9.90077734e-01,\n",
              "        -1.00000000e+00,  7.06689000e-01,  9.51963365e-01,\n",
              "        -6.63942337e-01,  9.28278029e-01, -4.56912458e-01,\n",
              "         9.70075667e-01,  7.28694320e-01,  3.98280203e-01,\n",
              "        -1.97202027e-01,  3.35227668e-01, -9.44720626e-01,\n",
              "        -8.10226858e-01, -6.33050323e-01, -7.86436856e-01,\n",
              "         9.96591389e-01,  6.32893220e-02, -6.90604270e-01,\n",
              "        -9.05161858e-01,  4.31787282e-01, -8.11979845e-02,\n",
              "         5.03618605e-02, -9.68122780e-01, -1.47996649e-01,\n",
              "         4.90956128e-01,  7.13206530e-01,  1.34788275e-01,\n",
              "         3.00606012e-01, -7.01390624e-01,  1.66600570e-01,\n",
              "         1.21342115e-01,  2.04451650e-01,  6.99617624e-01,\n",
              "        -9.18894887e-01, -6.57470107e-01, -4.29052621e-01,\n",
              "        -2.10016713e-01, -6.75425291e-01, -9.64477599e-01,\n",
              "         9.66158330e-01, -5.04473329e-01,  7.10151792e-01,\n",
              "         1.00000000e+00,  8.41519088e-02, -8.24443758e-01,\n",
              "         6.81643307e-01,  3.01234484e-01, -6.25357628e-01,\n",
              "         1.00000000e+00,  8.44014764e-01, -9.69944894e-01,\n",
              "        -6.20024621e-01,  6.48915112e-01, -5.16476870e-01,\n",
              "        -5.54413676e-01,  9.98097479e-01, -2.01261714e-01,\n",
              "        -5.98389268e-01, -2.40955740e-01,  9.69495595e-01,\n",
              "        -9.82321501e-01,  9.93866920e-01, -8.08209479e-01,\n",
              "        -9.77973342e-01,  9.63629782e-01,  9.40726936e-01,\n",
              "        -5.30903280e-01, -5.91242909e-01,  1.32233784e-01,\n",
              "        -6.19988143e-01,  3.18126649e-01, -9.50506091e-01,\n",
              "         7.37755358e-01,  3.89823556e-01, -4.42284197e-02,\n",
              "         8.83358359e-01, -7.09202886e-01, -6.79815471e-01,\n",
              "         2.23267287e-01, -5.65360904e-01, -1.76358953e-01,\n",
              "         8.90358031e-01,  4.24897432e-01, -1.27052367e-01,\n",
              "         5.82853891e-02, -2.61684299e-01, -3.54217649e-01,\n",
              "        -9.78548050e-01,  6.80913210e-01,  1.00000000e+00,\n",
              "        -5.17509222e-01,  6.20202005e-01, -4.85139221e-01,\n",
              "         1.67303514e-02, -1.15990467e-01,  5.04326940e-01,\n",
              "         5.89323163e-01, -2.93442369e-01, -8.06012094e-01,\n",
              "         8.45748067e-01, -9.54950392e-01, -9.84655440e-01,\n",
              "         7.83719540e-01,  2.92206526e-01, -6.76379278e-02,\n",
              "         9.99982536e-01,  4.13527071e-01,  6.38909563e-02,\n",
              "         4.04119551e-01,  9.42456007e-01, -1.50290340e-01,\n",
              "         4.50887978e-01,  8.44937027e-01,  9.67399240e-01,\n",
              "        -1.44414961e-01,  6.09960496e-01,  8.44443321e-01,\n",
              "        -8.47614110e-01, -2.92446733e-01, -5.72096586e-01,\n",
              "         4.27190773e-02, -9.26319361e-01,  1.76314071e-01,\n",
              "        -9.51290488e-01,  9.64963913e-01,  8.31301510e-01,\n",
              "         3.25000882e-01,  1.70541808e-01,  7.47226715e-01,\n",
              "         1.00000000e+00, -7.12320805e-01,  6.28745437e-01,\n",
              "        -4.14173827e-02,  7.83513248e-01, -9.99726415e-01,\n",
              "        -7.91633725e-01, -3.49079221e-01,  1.48130864e-01,\n",
              "        -7.86820889e-01, -2.62597084e-01,  2.31300235e-01,\n",
              "        -9.52481866e-01,  7.94202685e-01,  5.88171124e-01,\n",
              "        -9.82094169e-01, -9.80580091e-01, -3.65085542e-01,\n",
              "         8.31785262e-01,  4.05607373e-02, -9.63866115e-01,\n",
              "        -6.26170576e-01, -5.08152962e-01,  6.67271018e-01,\n",
              "        -2.65721977e-01, -9.40635383e-01, -1.16100721e-01,\n",
              "        -3.00438166e-01,  4.41988468e-01, -2.19140142e-01,\n",
              "         5.96491098e-01,  7.75941312e-01,  8.30894649e-01,\n",
              "        -6.69356227e-01, -3.23989213e-01, -5.12359068e-02,\n",
              "        -7.31557667e-01,  7.24002123e-01, -7.62667775e-01,\n",
              "        -9.13218915e-01, -1.35008827e-01,  1.00000000e+00,\n",
              "        -3.38457853e-01,  9.19309735e-01,  6.92857444e-01,\n",
              "         6.17259502e-01, -1.77541807e-01,  6.86590746e-02,\n",
              "         8.86343300e-01,  2.31888697e-01, -6.70157433e-01,\n",
              "        -8.16467404e-01, -3.89771074e-01, -3.18571657e-01,\n",
              "         5.33532858e-01,  5.37276745e-01,  6.58739686e-01,\n",
              "         8.33333850e-01,  7.66891241e-01,  5.62123768e-02,\n",
              "         4.98951562e-02, -5.64258061e-02,  9.99053121e-01,\n",
              "        -3.99905704e-02, -2.82967061e-01, -5.66692233e-01,\n",
              "         5.16881011e-02, -3.62200975e-01,  1.24105662e-01,\n",
              "         1.00000000e+00,  3.34196240e-01,  2.63599992e-01,\n",
              "        -9.86853421e-01, -7.68001795e-01, -8.81062865e-01,\n",
              "         9.99999285e-01,  8.54822755e-01, -7.43271649e-01,\n",
              "         6.61854982e-01,  6.66720927e-01, -6.57695010e-02,\n",
              "         7.23179579e-01, -1.75210357e-01, -2.74180412e-01,\n",
              "         1.96129560e-01,  2.94352230e-02,  9.46454644e-01,\n",
              "        -6.30383611e-01, -9.59372759e-01, -6.39333367e-01,\n",
              "         4.29209113e-01, -9.66000259e-01,  9.99831498e-01,\n",
              "        -4.84202117e-01, -1.29310802e-01, -3.06480020e-01,\n",
              "        -1.81081183e-02, -3.81639004e-02, -6.35039657e-02,\n",
              "        -9.82347906e-01, -1.17264450e-01,  1.32926598e-01,\n",
              "         9.65655327e-01,  1.46914080e-01, -6.49529099e-01,\n",
              "        -9.04611409e-01,  7.54384041e-01,  6.83827698e-01,\n",
              "        -8.40478003e-01, -9.33318913e-01,  9.58626926e-01,\n",
              "        -9.81332242e-01,  6.52439415e-01,  1.00000000e+00,\n",
              "         2.23523781e-01, -2.31324136e-01,  1.61724076e-01,\n",
              "        -3.63265723e-01,  3.11249912e-01, -3.04406583e-01,\n",
              "         5.91999292e-01, -9.58882987e-01, -4.37155783e-01,\n",
              "        -6.95593283e-02,  3.16161692e-01, -9.61043164e-02,\n",
              "        -3.56641918e-01,  6.00823045e-01,  1.17182881e-01,\n",
              "        -5.60955644e-01, -5.61241508e-01, -2.02400610e-01,\n",
              "         4.90349472e-01,  8.25400174e-01, -2.58027107e-01,\n",
              "        -1.69214621e-01,  2.30148397e-02,  6.63275719e-02,\n",
              "        -9.30707633e-01, -2.65391499e-01, -4.13662434e-01,\n",
              "        -9.99978840e-01,  5.69103539e-01, -1.00000000e+00,\n",
              "         5.43688238e-01, -2.55219638e-02, -2.10823387e-01,\n",
              "         8.45138252e-01,  5.72919309e-01,  7.57471561e-01,\n",
              "        -6.57917738e-01, -8.42706800e-01,  5.86762428e-01,\n",
              "         7.43950367e-01, -2.55070031e-01, -2.05151826e-01,\n",
              "        -7.20453858e-01,  2.83334196e-01,  3.34197320e-02,\n",
              "         3.53285164e-01, -6.03690028e-01,  7.24428236e-01,\n",
              "        -2.86741287e-01,  1.00000000e+00,  1.33385837e-01,\n",
              "        -4.49499160e-01, -9.76595402e-01,  2.02324927e-01,\n",
              "        -6.59346953e-02,  9.99999940e-01, -8.69811773e-01,\n",
              "        -9.54340458e-01,  3.89262319e-01, -6.68193161e-01,\n",
              "        -8.20446372e-01,  2.81610340e-01, -1.28892079e-01,\n",
              "        -7.19688773e-01, -9.24813151e-01,  9.59944427e-01,\n",
              "         8.66561770e-01, -6.40726924e-01,  5.14963806e-01,\n",
              "        -2.86334425e-01, -5.49732566e-01, -8.19333419e-02,\n",
              "         8.17707956e-01,  9.82896090e-01,  5.32261610e-01,\n",
              "         8.20057988e-01, -7.54959285e-02, -3.25998843e-01,\n",
              "         9.62543786e-01,  8.11486244e-02,  4.03959990e-01,\n",
              "         9.16582420e-02,  1.00000000e+00,  2.69019127e-01,\n",
              "        -8.96483719e-01, -2.99891480e-03, -9.72471476e-01,\n",
              "        -2.19228059e-01, -9.40116048e-01,  2.73069471e-01,\n",
              "         3.22156519e-01,  9.16481793e-01, -2.70147532e-01,\n",
              "         9.21252012e-01, -7.40392625e-01,  2.05917154e-02,\n",
              "        -5.27805567e-01, -5.02416492e-01,  4.17762309e-01,\n",
              "        -9.29465115e-01, -9.76484954e-01, -9.73030686e-01,\n",
              "         5.88734448e-01, -3.94471288e-01, -6.93504661e-02,\n",
              "         1.50921345e-01, -1.22664832e-01,  3.60857904e-01,\n",
              "         4.53387767e-01, -1.00000000e+00,  9.19881046e-01,\n",
              "         3.68557036e-01,  8.26840937e-01,  9.40755248e-01,\n",
              "         7.95037925e-01,  5.01187921e-01,  2.89345384e-01,\n",
              "        -9.80818570e-01, -9.82105017e-01, -2.52642035e-01,\n",
              "        -1.62660584e-01,  6.89435244e-01,  5.83534718e-01,\n",
              "         8.53153229e-01,  2.60082155e-01, -5.20800948e-01,\n",
              "        -4.75363493e-01, -7.36622870e-01, -8.11051190e-01,\n",
              "        -9.92697895e-01,  3.20736736e-01, -5.31868160e-01,\n",
              "        -9.32730615e-01,  9.42559123e-01,  1.67703293e-02,\n",
              "        -6.78283796e-02, -6.49866164e-02, -8.05647910e-01,\n",
              "         9.33691859e-01,  7.46288657e-01,  1.65225059e-01,\n",
              "         8.05413797e-02,  4.27276731e-01,  8.64734948e-01,\n",
              "         9.18105483e-01,  9.73057389e-01, -7.50097513e-01,\n",
              "         7.25905418e-01, -7.80622482e-01,  3.63533586e-01,\n",
              "         7.68139124e-01, -8.98634315e-01,  1.40751243e-01,\n",
              "         3.33347082e-01, -2.15348393e-01,  6.97224140e-02,\n",
              "        -1.50878578e-01, -9.48933065e-01,  3.82898241e-01,\n",
              "        -2.09004700e-01,  3.59184891e-01, -3.79301041e-01,\n",
              "         7.82261863e-02, -4.75084364e-01, -2.24351361e-01,\n",
              "        -5.93059242e-01, -6.24864340e-01,  7.14519978e-01,\n",
              "         3.07763308e-01,  8.96531165e-01,  8.68124723e-01,\n",
              "        -5.44117503e-02, -6.28073096e-01, -1.85401559e-01,\n",
              "        -6.95200205e-01, -9.10283983e-01,  9.17659700e-01,\n",
              "         1.04980603e-01, -2.45070040e-01,  6.02059722e-01,\n",
              "        -8.91458616e-03,  8.60172272e-01,  1.02718011e-01,\n",
              "        -3.27773958e-01, -3.87141734e-01, -6.12414360e-01,\n",
              "         8.42380047e-01, -3.66388947e-01, -5.89496851e-01,\n",
              "        -5.36246955e-01,  7.67371118e-01,  2.45503798e-01,\n",
              "         9.99963462e-01, -7.49743760e-01, -8.76352847e-01,\n",
              "        -3.98234814e-01, -3.90427083e-01,  4.69262779e-01,\n",
              "        -4.17843461e-01, -1.00000000e+00,  3.62146288e-01,\n",
              "        -6.30686700e-01,  6.80346847e-01, -7.23652601e-01,\n",
              "         8.24107647e-01, -5.41986763e-01, -9.76067364e-01,\n",
              "        -1.11330219e-01,  5.07667780e-01,  6.80637717e-01,\n",
              "        -4.30767477e-01, -5.58209658e-01,  6.22224748e-01,\n",
              "        -4.20891456e-02,  9.57012713e-01,  8.38529944e-01,\n",
              "        -2.55080968e-01,  1.42062992e-01,  7.15799212e-01,\n",
              "        -7.60810614e-01, -6.44791365e-01,  8.90321076e-01]], dtype=float32)"
            ]
          },
          "metadata": {
            "tags": []
          },
          "execution_count": 42
        }
      ]
    },
    {
      "cell_type": "code",
      "metadata": {
        "id": "KDGVde87ji8g",
        "outputId": "eca317de-02d8-4f44-f2ad-8060b9adf9d0",
        "colab": {
          "base_uri": "https://localhost:8080/",
          "height": 229
        }
      },
      "source": [
        "input_word_ids = tf.keras.layers.Input(shape=(max_seq_length,), dtype=tf.int32, name=\"input_word_ids\")\n",
        "input_mask = tf.keras.layers.Input(shape=(max_seq_length,), dtype=tf.int32, name=\"input_mask\")\n",
        "input_segment_ids = tf.keras.layers.Input(shape=(max_seq_length,), dtype=tf.int32, name=\"segment_ids\")\n",
        "pooled_output, sequence_output = bert_layer([input_word_ids, input_mask, input_segment_ids])\n",
        "\n",
        "l1 = Lambda(lambda seq: seq[:, 0, :])(sequence_output)\n",
        "output = Dense(2, activation='softmax')(l1)\n",
        "model = Model([input_word_ids, input_mask, input_segment_ids], output)\n",
        "model.compile(loss='sparse_categorical_crossentropy', optimizer=Adam(), metrics=['accuracy'])\n",
        "model.summary()"
      ],
      "execution_count": 23,
      "outputs": [
        {
          "output_type": "error",
          "ename": "NameError",
          "evalue": "ignored",
          "traceback": [
            "\u001b[0;31m---------------------------------------------------------------------------\u001b[0m",
            "\u001b[0;31mNameError\u001b[0m                                 Traceback (most recent call last)",
            "\u001b[0;32m<ipython-input-23-106380d78de6>\u001b[0m in \u001b[0;36m<module>\u001b[0;34m()\u001b[0m\n\u001b[1;32m      6\u001b[0m \u001b[0;31m#l1 = Lambda(lambda seq: seq[:, 0, :])(sequence_output)\u001b[0m\u001b[0;34m\u001b[0m\u001b[0;34m\u001b[0m\u001b[0;34m\u001b[0m\u001b[0m\n\u001b[1;32m      7\u001b[0m \u001b[0;31m#output = Dense(2, activation='softmax')(l1)\u001b[0m\u001b[0;34m\u001b[0m\u001b[0;34m\u001b[0m\u001b[0;34m\u001b[0m\u001b[0m\n\u001b[0;32m----> 8\u001b[0;31m \u001b[0mmodel\u001b[0m \u001b[0;34m=\u001b[0m \u001b[0mModel\u001b[0m\u001b[0;34m(\u001b[0m\u001b[0;34m[\u001b[0m\u001b[0minput_word_ids\u001b[0m\u001b[0;34m,\u001b[0m \u001b[0minput_mask\u001b[0m\u001b[0;34m,\u001b[0m \u001b[0minput_segment_ids\u001b[0m\u001b[0;34m]\u001b[0m\u001b[0;34m,\u001b[0m \u001b[0moutput\u001b[0m\u001b[0;34m)\u001b[0m\u001b[0;34m\u001b[0m\u001b[0;34m\u001b[0m\u001b[0m\n\u001b[0m\u001b[1;32m      9\u001b[0m \u001b[0;31m#model.compile(loss='sparse_categorical_crossentropy', optimizer=Adam(), metrics=['accuracy'])\u001b[0m\u001b[0;34m\u001b[0m\u001b[0;34m\u001b[0m\u001b[0;34m\u001b[0m\u001b[0m\n\u001b[1;32m     10\u001b[0m \u001b[0mmodel\u001b[0m\u001b[0;34m.\u001b[0m\u001b[0msummary\u001b[0m\u001b[0;34m(\u001b[0m\u001b[0;34m)\u001b[0m\u001b[0;34m\u001b[0m\u001b[0;34m\u001b[0m\u001b[0m\n",
            "\u001b[0;31mNameError\u001b[0m: name 'output' is not defined"
          ]
        }
      ]
    },
    {
      "cell_type": "markdown",
      "metadata": {
        "id": "zBY_Za9Ef2XM"
      },
      "source": [
        "# Transfer Learning\n",
        "\n",
        "BERT layer weights/biases are frozen, only train the final dense layer."
      ]
    },
    {
      "cell_type": "code",
      "metadata": {
        "id": "89VjM6GQ050W",
        "outputId": "1fa27741-5ff8-4156-8b5d-4fb459d0ab2e",
        "colab": {
          "base_uri": "https://localhost:8080/",
          "height": 193
        }
      },
      "source": [
        "history = model.fit(encodeText(x_train), y_train, epochs=5, verbose=1, batch_size = 3, validation_data=(encodeText(x_test), y_test))"
      ],
      "execution_count": null,
      "outputs": [
        {
          "output_type": "stream",
          "text": [
            "Epoch 1/5\n",
            "732/732 [==============================] - 36s 49ms/step - loss: 0.3773 - accuracy: 0.8496 - val_loss: 0.2810 - val_accuracy: 0.8907\n",
            "Epoch 2/5\n",
            "732/732 [==============================] - 34s 47ms/step - loss: 0.2417 - accuracy: 0.9139 - val_loss: 0.2540 - val_accuracy: 0.8889\n",
            "Epoch 3/5\n",
            "732/732 [==============================] - 34s 47ms/step - loss: 0.2150 - accuracy: 0.9248 - val_loss: 0.2608 - val_accuracy: 0.8871\n",
            "Epoch 4/5\n",
            "732/732 [==============================] - 34s 47ms/step - loss: 0.2016 - accuracy: 0.9216 - val_loss: 0.2531 - val_accuracy: 0.9035\n",
            "Epoch 5/5\n",
            "732/732 [==============================] - 34s 47ms/step - loss: 0.1913 - accuracy: 0.9294 - val_loss: 0.2463 - val_accuracy: 0.8998\n"
          ],
          "name": "stdout"
        }
      ]
    },
    {
      "cell_type": "markdown",
      "metadata": {
        "id": "G_G37pRkgGvf"
      },
      "source": [
        "# Fine Tuning\n",
        "\n",
        "Unfreeze BERT layer, choose lower learning rate and retrain all layers."
      ]
    },
    {
      "cell_type": "code",
      "metadata": {
        "id": "SGAnGRAHZjgq",
        "outputId": "88a87e44-cb1a-40cc-fc98-498de6b6453f",
        "colab": {
          "base_uri": "https://localhost:8080/",
          "height": 404
        }
      },
      "source": [
        "bert_layer.trainable = True\n",
        "output.trainable = False\n",
        "model2 = Model([input_word_ids, input_mask, input_segment_ids], output)\n",
        "model2.compile(loss='sparse_categorical_crossentropy', optimizer=Adam(1e-5), metrics=['accuracy'])\n",
        "model2.summary()"
      ],
      "execution_count": null,
      "outputs": [
        {
          "output_type": "stream",
          "text": [
            "Model: \"model_1\"\n",
            "__________________________________________________________________________________________________\n",
            "Layer (type)                    Output Shape         Param #     Connected to                     \n",
            "==================================================================================================\n",
            "input_word_ids (InputLayer)     [(None, 128)]        0                                            \n",
            "__________________________________________________________________________________________________\n",
            "input_mask (InputLayer)         [(None, 128)]        0                                            \n",
            "__________________________________________________________________________________________________\n",
            "segment_ids (InputLayer)        [(None, 128)]        0                                            \n",
            "__________________________________________________________________________________________________\n",
            "BERT (KerasLayer)               [(None, 768), (None, 109482241   input_word_ids[0][0]             \n",
            "                                                                 input_mask[0][0]                 \n",
            "                                                                 segment_ids[0][0]                \n",
            "__________________________________________________________________________________________________\n",
            "lambda (Lambda)                 (None, 768)          0           BERT[0][1]                       \n",
            "__________________________________________________________________________________________________\n",
            "dense (Dense)                   (None, 2)            1538        lambda[0][0]                     \n",
            "==================================================================================================\n",
            "Total params: 109,483,779\n",
            "Trainable params: 109,483,778\n",
            "Non-trainable params: 1\n",
            "__________________________________________________________________________________________________\n"
          ],
          "name": "stdout"
        }
      ]
    },
    {
      "cell_type": "code",
      "metadata": {
        "id": "ZIQQ78oZTrVl",
        "outputId": "bc45f4dd-aace-484a-b3ca-480e3c553af6",
        "colab": {
          "base_uri": "https://localhost:8080/",
          "height": 193
        }
      },
      "source": [
        "history2 = model2.fit(encodeText(x_train), y_train, epochs=5, verbose=1, batch_size = 3, validation_data=(encodeText(x_test), y_test))"
      ],
      "execution_count": null,
      "outputs": [
        {
          "output_type": "stream",
          "text": [
            "Epoch 1/5\n",
            "732/732 [==============================] - 111s 151ms/step - loss: 0.1961 - accuracy: 0.9275 - val_loss: 0.1467 - val_accuracy: 0.9472\n",
            "Epoch 2/5\n",
            "732/732 [==============================] - 109s 149ms/step - loss: 0.0209 - accuracy: 0.9932 - val_loss: 0.2696 - val_accuracy: 0.9381\n",
            "Epoch 3/5\n",
            "732/732 [==============================] - 110s 150ms/step - loss: 0.0044 - accuracy: 0.9986 - val_loss: 0.2351 - val_accuracy: 0.9344\n",
            "Epoch 4/5\n",
            "732/732 [==============================] - 110s 150ms/step - loss: 7.8046e-04 - accuracy: 1.0000 - val_loss: 0.3164 - val_accuracy: 0.9472\n",
            "Epoch 5/5\n",
            "732/732 [==============================] - 109s 149ms/step - loss: 0.0125 - accuracy: 0.9986 - val_loss: 0.2628 - val_accuracy: 0.9399\n"
          ],
          "name": "stdout"
        }
      ]
    },
    {
      "cell_type": "code",
      "metadata": {
        "id": "iO1LWnfrHOeD",
        "outputId": "92ccc2b3-1c1a-4567-c297-58185f62e084",
        "colab": {
          "base_uri": "https://localhost:8080/",
          "height": 295
        }
      },
      "source": [
        "plt.plot(history2.history['accuracy'])\n",
        "plt.plot(history2.history['val_accuracy'])\n",
        "plt.title('Model accuracy')\n",
        "plt.ylabel('Accuracy')\n",
        "plt.xlabel('Epoch')\n",
        "plt.legend(['Train', 'Test'], loc='upper left')\n",
        "plt.show()"
      ],
      "execution_count": null,
      "outputs": [
        {
          "output_type": "display_data",
          "data": {
            "image/png": "[encoded data removed]",
            "text/plain": [
              "<Figure size 432x288 with 1 Axes>"
            ]
          },
          "metadata": {
            "tags": []
          }
        }
      ]
    },
    {
      "cell_type": "markdown",
      "metadata": {
        "id": "aM3opEonfIiy"
      },
      "source": [
        "# Predictions"
      ]
    },
    {
      "cell_type": "code",
      "metadata": {
        "id": "FJY-hrCsdHqZ"
      },
      "source": [
        "predictions = model2.predict(encodeText(x_test))\n",
        "most_likely = predictions.argmax(1)"
      ],
      "execution_count": null,
      "outputs": []
    },
    {
      "cell_type": "code",
      "metadata": {
        "id": "Duv3GUEgdXzD",
        "outputId": "603f7222-5749-4954-fb39-bd169d4831b2",
        "colab": {
          "base_uri": "https://localhost:8080/",
          "height": 52
        }
      },
      "source": [
        "index = random.randrange(len(predictions))\n",
        "print(x_test[index])\n",
        "print('Prediction: %d, label: %d' % (most_likely[index], y_test[index]))"
      ],
      "execution_count": null,
      "outputs": [
        {
          "output_type": "stream",
          "text": [
            "I really loved the story line and the poler bear was kinda cute.But if anyone has a question about Fort Steele, just ask away:)  \n",
            "Prediction: 1, label: 1\n"
          ],
          "name": "stdout"
        }
      ]
    },
    {
      "cell_type": "markdown",
      "metadata": {
        "id": "9jGFSCDDfCDN"
      },
      "source": [
        "# Error Analysis"
      ]
    },
    {
      "cell_type": "code",
      "metadata": {
        "id": "LysdAXCheBZW",
        "outputId": "ade0a30c-4d6c-4d34-dfec-324ff6e84921",
        "colab": {
          "base_uri": "https://localhost:8080/",
          "height": 316
        }
      },
      "source": [
        "for i in range(1000):\n",
        "    index = random.randrange(len(predictions))\n",
        "    if most_likely[index] != y_test[index]:\n",
        "        break\n",
        "\n",
        "print(x_test[index])\n",
        "print('Prediction: %d, label: %d' % (most_likely[index], y_test[index]))\n",
        "\n",
        "plt.bar(range(2), predictions[index], tick_label=range(2))\n",
        "plt.title('Prediction values')\n",
        "plt.show()"
      ],
      "execution_count": null,
      "outputs": [
        {
          "output_type": "stream",
          "text": [
            "The Veggitarian platter is out of this world!\n",
            "Prediction: 0, label: 1\n"
          ],
          "name": "stdout"
        },
        {
          "output_type": "display_data",
          "data": {
            "image/png": "[encoded data removed]",
            "text/plain": [
              "<Figure size 432x288 with 1 Axes>"
            ]
          },
          "metadata": {
            "tags": []
          }
        }
      ]
    },
    {
      "cell_type": "code",
      "metadata": {
        "id": "pHtbmSyhe_6x",
        "outputId": "a3d713d0-3827-4e8d-ca5a-6dbb1e761d07",
        "colab": {
          "base_uri": "https://localhost:8080/",
          "height": 204
        }
      },
      "source": [
        "text = []\n",
        "labels = []\n",
        "preds = []\n",
        "for i in range(len(predictions)):\n",
        "  if most_likely[i] != y_test[i]:\n",
        "    text.append(x_test[i])\n",
        "    labels.append(y_test[i])\n",
        "    preds.append(most_likely[i])\n",
        "\n",
        "errors = pd.DataFrame({'Comment':text, 'Sentiment':labels, 'Predictions':preds})\n",
        "errors.head()"
      ],
      "execution_count": null,
      "outputs": [
        {
          "output_type": "execute_result",
          "data": {
            "text/html": [
              "<div>\n",
              "<style scoped>\n",
              "    .dataframe tbody tr th:only-of-type {\n",
              "        vertical-align: middle;\n",
              "    }\n",
              "\n",
              "    .dataframe tbody tr th {\n",
              "        vertical-align: top;\n",
              "    }\n",
              "\n",
              "    .dataframe thead th {\n",
              "        text-align: right;\n",
              "    }\n",
              "</style>\n",
              "<table border=\"1\" class=\"dataframe\">\n",
              "  <thead>\n",
              "    <tr style=\"text-align: right;\">\n",
              "      <th></th>\n",
              "      <th>Comment</th>\n",
              "      <th>Sentiment</th>\n",
              "      <th>Predictions</th>\n",
              "    </tr>\n",
              "  </thead>\n",
              "  <tbody>\n",
              "    <tr>\n",
              "      <th>0</th>\n",
              "      <td>It definitely was not as good as my S11.</td>\n",
              "      <td>1</td>\n",
              "      <td>0</td>\n",
              "    </tr>\n",
              "    <tr>\n",
              "      <th>1</th>\n",
              "      <td>For a product that costs as much as this one d...</td>\n",
              "      <td>0</td>\n",
              "      <td>1</td>\n",
              "    </tr>\n",
              "    <tr>\n",
              "      <th>2</th>\n",
              "      <td>You get extra minutes so that you can carry ou...</td>\n",
              "      <td>1</td>\n",
              "      <td>0</td>\n",
              "    </tr>\n",
              "    <tr>\n",
              "      <th>3</th>\n",
              "      <td>This place deserves one star and 90% has to do...</td>\n",
              "      <td>0</td>\n",
              "      <td>1</td>\n",
              "    </tr>\n",
              "    <tr>\n",
              "      <th>4</th>\n",
              "      <td>I'm not really sure how Joey's was voted best ...</td>\n",
              "      <td>0</td>\n",
              "      <td>1</td>\n",
              "    </tr>\n",
              "  </tbody>\n",
              "</table>\n",
              "</div>"
            ],
            "text/plain": [
              "                                             Comment  Sentiment  Predictions\n",
              "0           It definitely was not as good as my S11.          1            0\n",
              "1  For a product that costs as much as this one d...          0            1\n",
              "2  You get extra minutes so that you can carry ou...          1            0\n",
              "3  This place deserves one star and 90% has to do...          0            1\n",
              "4  I'm not really sure how Joey's was voted best ...          0            1"
            ]
          },
          "metadata": {
            "tags": []
          },
          "execution_count": 19
        }
      ]
    }
  ]
}