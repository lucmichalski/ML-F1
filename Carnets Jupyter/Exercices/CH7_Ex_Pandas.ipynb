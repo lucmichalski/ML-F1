{
  "nbformat": 4,
  "nbformat_minor": 0,
  "metadata": {
    "colab": {
      "name": "Untitled12.ipynb",
      "provenance": [],
      "authorship_tag": "ABX9TyPYE6ZJ6hlugAZJlToyxBFQ",
      "include_colab_link": true
    },
    "kernelspec": {
      "name": "python3",
      "display_name": "Python 3"
    }
  },
  "cells": [
    {
      "cell_type": "markdown",
      "metadata": {
        "id": "view-in-github",
        "colab_type": "text"
      },
      "source": [
        "<a href=\"https://colab.research.google.com/github/AlexandreBourrieau/ML-F1/blob/master/Carnets%20Jupyter/Exercices/CH7_Ex_Pandas.ipynb\" target=\"_parent\"><img src=\"https://colab.research.google.com/assets/colab-badge.svg\" alt=\"Open In Colab\"/></a>"
      ]
    },
    {
      "cell_type": "markdown",
      "metadata": {
        "id": "j7gxMWjogUXz",
        "colab_type": "text"
      },
      "source": [
        "# **Importation des données**"
      ]
    },
    {
      "cell_type": "markdown",
      "metadata": {
        "id": "0t6oBxaJg6ts",
        "colab_type": "text"
      },
      "source": [
        ""
      ]
    },
    {
      "cell_type": "code",
      "metadata": {
        "id": "PHnGYV64kgC2",
        "colab_type": "code",
        "colab": {
          "base_uri": "https://localhost:8080/",
          "height": 208
        },
        "outputId": "ba26cf9f-a550-4f4f-900a-41509689885f"
      },
      "source": [
        "!mkdir data\n",
        "!wget  https://archive.ics.uci.edu/ml/machine-learning-databases/autos/imports-85.data -P data"
      ],
      "execution_count": 1,
      "outputs": [
        {
          "output_type": "stream",
          "text": [
            "--2020-09-10 10:31:49--  https://archive.ics.uci.edu/ml/machine-learning-databases/autos/imports-85.data\n",
            "Resolving archive.ics.uci.edu (archive.ics.uci.edu)... 128.195.10.252\n",
            "Connecting to archive.ics.uci.edu (archive.ics.uci.edu)|128.195.10.252|:443... connected.\n",
            "HTTP request sent, awaiting response... 200 OK\n",
            "Length: 25936 (25K) [application/x-httpd-php]\n",
            "Saving to: ‘data/imports-85.data’\n",
            "\n",
            "imports-85.data     100%[===================>]  25.33K  --.-KB/s    in 0.1s    \n",
            "\n",
            "2020-09-10 10:31:50 (194 KB/s) - ‘data/imports-85.data’ saved [25936/25936]\n",
            "\n"
          ],
          "name": "stdout"
        }
      ]
    },
    {
      "cell_type": "code",
      "metadata": {
        "id": "6ZpH4B2EgZDT",
        "colab_type": "code",
        "colab": {}
      },
      "source": [
        "import pandas as pd\n",
        "import matplotlib.pyplot as plt"
      ],
      "execution_count": 2,
      "outputs": []
    },
    {
      "cell_type": "code",
      "metadata": {
        "id": "WjEYvD7Pgx3B",
        "colab_type": "code",
        "colab": {}
      },
      "source": [
        "NomsColonnes = ['symboling','normalized_losses','make','fuel_type','aspiration','num_of_doors','body_style',\n",
        "               'drive_wheels','engine_location','wheel_base','length','width','height','curb_weight',\n",
        "               'engine_type','num_of_cylinders','engine_size','fuel_system','bore','stroke','compression_ratio',\n",
        "               'horsepower','peak_rpm','city_mpg','highway_mpg','price']\n",
        "\n",
        "voitures = pd.read_csv('data/imports-85.data', sep=',', names = NomsColonnes)\n"
      ],
      "execution_count": 5,
      "outputs": []
    },
    {
      "cell_type": "markdown",
      "metadata": {
        "id": "drCdni9rmDSU",
        "colab_type": "text"
      },
      "source": [
        "# **Affichage du nombre total de voitures**"
      ]
    },
    {
      "cell_type": "code",
      "metadata": {
        "id": "vrEWhncsmBhe",
        "colab_type": "code",
        "colab": {
          "base_uri": "https://localhost:8080/",
          "height": 35
        },
        "outputId": "445e78e8-cf19-42ee-e513-fe27492f3f53"
      },
      "source": [
        "print('Nombre total de voitures : %d' % len(voitures))"
      ],
      "execution_count": 6,
      "outputs": [
        {
          "output_type": "stream",
          "text": [
            "Nombre total de voitures : 205\n"
          ],
          "name": "stdout"
        }
      ]
    }
  ]
}