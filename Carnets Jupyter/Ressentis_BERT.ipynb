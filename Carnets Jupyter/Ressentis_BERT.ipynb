{
  "nbformat": 4,
  "nbformat_minor": 0,
  "metadata": {
    "colab": {
      "name": "Untitled1.ipynb",
      "provenance": [],
      "authorship_tag": "ABX9TyO2CiwfDZB+9ffDAyzLA+V4",
      "include_colab_link": true
    },
    "kernelspec": {
      "name": "python3",
      "display_name": "Python 3"
    },
    "accelerator": "GPU",
    "widgets": {
      "application/vnd.jupyter.widget-state+json": {
        "584c919ef9cf4215b5b0691b55285d19": {
          "model_module": "@jupyter-widgets/controls",
          "model_name": "HBoxModel",
          "state": {
            "_view_name": "HBoxView",
            "_dom_classes": [],
            "_model_name": "HBoxModel",
            "_view_module": "@jupyter-widgets/controls",
            "_model_module_version": "1.5.0",
            "_view_count": null,
            "_view_module_version": "1.5.0",
            "box_style": "",
            "layout": "IPY_MODEL_8495089150554c32a0ff50c226249305",
            "_model_module": "@jupyter-widgets/controls",
            "children": [
              "IPY_MODEL_89ecaf75f5514cdfb824eea598d18a26",
              "IPY_MODEL_b6a81a562fb74b2f8b7c7c9a0f47e532"
            ]
          }
        },
        "8495089150554c32a0ff50c226249305": {
          "model_module": "@jupyter-widgets/base",
          "model_name": "LayoutModel",
          "state": {
            "_view_name": "LayoutView",
            "grid_template_rows": null,
            "right": null,
            "justify_content": null,
            "_view_module": "@jupyter-widgets/base",
            "overflow": null,
            "_model_module_version": "1.2.0",
            "_view_count": null,
            "flex_flow": null,
            "width": null,
            "min_width": null,
            "border": null,
            "align_items": null,
            "bottom": null,
            "_model_module": "@jupyter-widgets/base",
            "top": null,
            "grid_column": null,
            "overflow_y": null,
            "overflow_x": null,
            "grid_auto_flow": null,
            "grid_area": null,
            "grid_template_columns": null,
            "flex": null,
            "_model_name": "LayoutModel",
            "justify_items": null,
            "grid_row": null,
            "max_height": null,
            "align_content": null,
            "visibility": null,
            "align_self": null,
            "height": null,
            "min_height": null,
            "padding": null,
            "grid_auto_rows": null,
            "grid_gap": null,
            "max_width": null,
            "order": null,
            "_view_module_version": "1.2.0",
            "grid_template_areas": null,
            "object_position": null,
            "object_fit": null,
            "grid_auto_columns": null,
            "margin": null,
            "display": null,
            "left": null
          }
        },
        "89ecaf75f5514cdfb824eea598d18a26": {
          "model_module": "@jupyter-widgets/controls",
          "model_name": "FloatProgressModel",
          "state": {
            "_view_name": "ProgressView",
            "style": "IPY_MODEL_162cf431856340e483b4d9bc4f81b75a",
            "_dom_classes": [],
            "description": "Downloading: 100%",
            "_model_name": "FloatProgressModel",
            "bar_style": "success",
            "max": 442,
            "_view_module": "@jupyter-widgets/controls",
            "_model_module_version": "1.5.0",
            "value": 442,
            "_view_count": null,
            "_view_module_version": "1.5.0",
            "orientation": "horizontal",
            "min": 0,
            "description_tooltip": null,
            "_model_module": "@jupyter-widgets/controls",
            "layout": "IPY_MODEL_d77c710c36ea4794a1c0e12d4ce7bde9"
          }
        },
        "b6a81a562fb74b2f8b7c7c9a0f47e532": {
          "model_module": "@jupyter-widgets/controls",
          "model_name": "HTMLModel",
          "state": {
            "_view_name": "HTMLView",
            "style": "IPY_MODEL_330e18bc684c4ee489d86656c55a7b52",
            "_dom_classes": [],
            "description": "",
            "_model_name": "HTMLModel",
            "placeholder": "​",
            "_view_module": "@jupyter-widgets/controls",
            "_model_module_version": "1.5.0",
            "value": " 442/442 [00:00&lt;00:00, 716B/s]",
            "_view_count": null,
            "_view_module_version": "1.5.0",
            "description_tooltip": null,
            "_model_module": "@jupyter-widgets/controls",
            "layout": "IPY_MODEL_f44cf3db0ca44f77b31bec2644fd9730"
          }
        },
        "162cf431856340e483b4d9bc4f81b75a": {
          "model_module": "@jupyter-widgets/controls",
          "model_name": "ProgressStyleModel",
          "state": {
            "_view_name": "StyleView",
            "_model_name": "ProgressStyleModel",
            "description_width": "initial",
            "_view_module": "@jupyter-widgets/base",
            "_model_module_version": "1.5.0",
            "_view_count": null,
            "_view_module_version": "1.2.0",
            "bar_color": null,
            "_model_module": "@jupyter-widgets/controls"
          }
        },
        "d77c710c36ea4794a1c0e12d4ce7bde9": {
          "model_module": "@jupyter-widgets/base",
          "model_name": "LayoutModel",
          "state": {
            "_view_name": "LayoutView",
            "grid_template_rows": null,
            "right": null,
            "justify_content": null,
            "_view_module": "@jupyter-widgets/base",
            "overflow": null,
            "_model_module_version": "1.2.0",
            "_view_count": null,
            "flex_flow": null,
            "width": null,
            "min_width": null,
            "border": null,
            "align_items": null,
            "bottom": null,
            "_model_module": "@jupyter-widgets/base",
            "top": null,
            "grid_column": null,
            "overflow_y": null,
            "overflow_x": null,
            "grid_auto_flow": null,
            "grid_area": null,
            "grid_template_columns": null,
            "flex": null,
            "_model_name": "LayoutModel",
            "justify_items": null,
            "grid_row": null,
            "max_height": null,
            "align_content": null,
            "visibility": null,
            "align_self": null,
            "height": null,
            "min_height": null,
            "padding": null,
            "grid_auto_rows": null,
            "grid_gap": null,
            "max_width": null,
            "order": null,
            "_view_module_version": "1.2.0",
            "grid_template_areas": null,
            "object_position": null,
            "object_fit": null,
            "grid_auto_columns": null,
            "margin": null,
            "display": null,
            "left": null
          }
        },
        "330e18bc684c4ee489d86656c55a7b52": {
          "model_module": "@jupyter-widgets/controls",
          "model_name": "DescriptionStyleModel",
          "state": {
            "_view_name": "StyleView",
            "_model_name": "DescriptionStyleModel",
            "description_width": "",
            "_view_module": "@jupyter-widgets/base",
            "_model_module_version": "1.5.0",
            "_view_count": null,
            "_view_module_version": "1.2.0",
            "_model_module": "@jupyter-widgets/controls"
          }
        },
        "f44cf3db0ca44f77b31bec2644fd9730": {
          "model_module": "@jupyter-widgets/base",
          "model_name": "LayoutModel",
          "state": {
            "_view_name": "LayoutView",
            "grid_template_rows": null,
            "right": null,
            "justify_content": null,
            "_view_module": "@jupyter-widgets/base",
            "overflow": null,
            "_model_module_version": "1.2.0",
            "_view_count": null,
            "flex_flow": null,
            "width": null,
            "min_width": null,
            "border": null,
            "align_items": null,
            "bottom": null,
            "_model_module": "@jupyter-widgets/base",
            "top": null,
            "grid_column": null,
            "overflow_y": null,
            "overflow_x": null,
            "grid_auto_flow": null,
            "grid_area": null,
            "grid_template_columns": null,
            "flex": null,
            "_model_name": "LayoutModel",
            "justify_items": null,
            "grid_row": null,
            "max_height": null,
            "align_content": null,
            "visibility": null,
            "align_self": null,
            "height": null,
            "min_height": null,
            "padding": null,
            "grid_auto_rows": null,
            "grid_gap": null,
            "max_width": null,
            "order": null,
            "_view_module_version": "1.2.0",
            "grid_template_areas": null,
            "object_position": null,
            "object_fit": null,
            "grid_auto_columns": null,
            "margin": null,
            "display": null,
            "left": null
          }
        },
        "c25fab296660449db76ecc0e70a73284": {
          "model_module": "@jupyter-widgets/controls",
          "model_name": "HBoxModel",
          "state": {
            "_view_name": "HBoxView",
            "_dom_classes": [],
            "_model_name": "HBoxModel",
            "_view_module": "@jupyter-widgets/controls",
            "_model_module_version": "1.5.0",
            "_view_count": null,
            "_view_module_version": "1.5.0",
            "box_style": "",
            "layout": "IPY_MODEL_dac1f9d099494462820b9bf2d8a067e3",
            "_model_module": "@jupyter-widgets/controls",
            "children": [
              "IPY_MODEL_a202d9cf851e4ff0b31212213f8a4925",
              "IPY_MODEL_c3a433b3cfa64a66ac0f475b07b95231"
            ]
          }
        },
        "dac1f9d099494462820b9bf2d8a067e3": {
          "model_module": "@jupyter-widgets/base",
          "model_name": "LayoutModel",
          "state": {
            "_view_name": "LayoutView",
            "grid_template_rows": null,
            "right": null,
            "justify_content": null,
            "_view_module": "@jupyter-widgets/base",
            "overflow": null,
            "_model_module_version": "1.2.0",
            "_view_count": null,
            "flex_flow": null,
            "width": null,
            "min_width": null,
            "border": null,
            "align_items": null,
            "bottom": null,
            "_model_module": "@jupyter-widgets/base",
            "top": null,
            "grid_column": null,
            "overflow_y": null,
            "overflow_x": null,
            "grid_auto_flow": null,
            "grid_area": null,
            "grid_template_columns": null,
            "flex": null,
            "_model_name": "LayoutModel",
            "justify_items": null,
            "grid_row": null,
            "max_height": null,
            "align_content": null,
            "visibility": null,
            "align_self": null,
            "height": null,
            "min_height": null,
            "padding": null,
            "grid_auto_rows": null,
            "grid_gap": null,
            "max_width": null,
            "order": null,
            "_view_module_version": "1.2.0",
            "grid_template_areas": null,
            "object_position": null,
            "object_fit": null,
            "grid_auto_columns": null,
            "margin": null,
            "display": null,
            "left": null
          }
        },
        "a202d9cf851e4ff0b31212213f8a4925": {
          "model_module": "@jupyter-widgets/controls",
          "model_name": "FloatProgressModel",
          "state": {
            "_view_name": "ProgressView",
            "style": "IPY_MODEL_fa3e5653a1e24349aefbb00764cc0758",
            "_dom_classes": [],
            "description": "Downloading: 100%",
            "_model_name": "FloatProgressModel",
            "bar_style": "success",
            "max": 231508,
            "_view_module": "@jupyter-widgets/controls",
            "_model_module_version": "1.5.0",
            "value": 231508,
            "_view_count": null,
            "_view_module_version": "1.5.0",
            "orientation": "horizontal",
            "min": 0,
            "description_tooltip": null,
            "_model_module": "@jupyter-widgets/controls",
            "layout": "IPY_MODEL_4d1a1e1031e24b699e12173e4b40d09a"
          }
        },
        "c3a433b3cfa64a66ac0f475b07b95231": {
          "model_module": "@jupyter-widgets/controls",
          "model_name": "HTMLModel",
          "state": {
            "_view_name": "HTMLView",
            "style": "IPY_MODEL_3e0784a82f6444f1b051f289d584696d",
            "_dom_classes": [],
            "description": "",
            "_model_name": "HTMLModel",
            "placeholder": "​",
            "_view_module": "@jupyter-widgets/controls",
            "_model_module_version": "1.5.0",
            "value": " 232k/232k [00:00&lt;00:00, 920kB/s]",
            "_view_count": null,
            "_view_module_version": "1.5.0",
            "description_tooltip": null,
            "_model_module": "@jupyter-widgets/controls",
            "layout": "IPY_MODEL_5acec1d3ee1b4fa6afcef9a51121874b"
          }
        },
        "fa3e5653a1e24349aefbb00764cc0758": {
          "model_module": "@jupyter-widgets/controls",
          "model_name": "ProgressStyleModel",
          "state": {
            "_view_name": "StyleView",
            "_model_name": "ProgressStyleModel",
            "description_width": "initial",
            "_view_module": "@jupyter-widgets/base",
            "_model_module_version": "1.5.0",
            "_view_count": null,
            "_view_module_version": "1.2.0",
            "bar_color": null,
            "_model_module": "@jupyter-widgets/controls"
          }
        },
        "4d1a1e1031e24b699e12173e4b40d09a": {
          "model_module": "@jupyter-widgets/base",
          "model_name": "LayoutModel",
          "state": {
            "_view_name": "LayoutView",
            "grid_template_rows": null,
            "right": null,
            "justify_content": null,
            "_view_module": "@jupyter-widgets/base",
            "overflow": null,
            "_model_module_version": "1.2.0",
            "_view_count": null,
            "flex_flow": null,
            "width": null,
            "min_width": null,
            "border": null,
            "align_items": null,
            "bottom": null,
            "_model_module": "@jupyter-widgets/base",
            "top": null,
            "grid_column": null,
            "overflow_y": null,
            "overflow_x": null,
            "grid_auto_flow": null,
            "grid_area": null,
            "grid_template_columns": null,
            "flex": null,
            "_model_name": "LayoutModel",
            "justify_items": null,
            "grid_row": null,
            "max_height": null,
            "align_content": null,
            "visibility": null,
            "align_self": null,
            "height": null,
            "min_height": null,
            "padding": null,
            "grid_auto_rows": null,
            "grid_gap": null,
            "max_width": null,
            "order": null,
            "_view_module_version": "1.2.0",
            "grid_template_areas": null,
            "object_position": null,
            "object_fit": null,
            "grid_auto_columns": null,
            "margin": null,
            "display": null,
            "left": null
          }
        },
        "3e0784a82f6444f1b051f289d584696d": {
          "model_module": "@jupyter-widgets/controls",
          "model_name": "DescriptionStyleModel",
          "state": {
            "_view_name": "StyleView",
            "_model_name": "DescriptionStyleModel",
            "description_width": "",
            "_view_module": "@jupyter-widgets/base",
            "_model_module_version": "1.5.0",
            "_view_count": null,
            "_view_module_version": "1.2.0",
            "_model_module": "@jupyter-widgets/controls"
          }
        },
        "5acec1d3ee1b4fa6afcef9a51121874b": {
          "model_module": "@jupyter-widgets/base",
          "model_name": "LayoutModel",
          "state": {
            "_view_name": "LayoutView",
            "grid_template_rows": null,
            "right": null,
            "justify_content": null,
            "_view_module": "@jupyter-widgets/base",
            "overflow": null,
            "_model_module_version": "1.2.0",
            "_view_count": null,
            "flex_flow": null,
            "width": null,
            "min_width": null,
            "border": null,
            "align_items": null,
            "bottom": null,
            "_model_module": "@jupyter-widgets/base",
            "top": null,
            "grid_column": null,
            "overflow_y": null,
            "overflow_x": null,
            "grid_auto_flow": null,
            "grid_area": null,
            "grid_template_columns": null,
            "flex": null,
            "_model_name": "LayoutModel",
            "justify_items": null,
            "grid_row": null,
            "max_height": null,
            "align_content": null,
            "visibility": null,
            "align_self": null,
            "height": null,
            "min_height": null,
            "padding": null,
            "grid_auto_rows": null,
            "grid_gap": null,
            "max_width": null,
            "order": null,
            "_view_module_version": "1.2.0",
            "grid_template_areas": null,
            "object_position": null,
            "object_fit": null,
            "grid_auto_columns": null,
            "margin": null,
            "display": null,
            "left": null
          }
        },
        "0d9c4dbf18cc41ac9dc4c400e6eab205": {
          "model_module": "@jupyter-widgets/controls",
          "model_name": "HBoxModel",
          "state": {
            "_view_name": "HBoxView",
            "_dom_classes": [],
            "_model_name": "HBoxModel",
            "_view_module": "@jupyter-widgets/controls",
            "_model_module_version": "1.5.0",
            "_view_count": null,
            "_view_module_version": "1.5.0",
            "box_style": "",
            "layout": "IPY_MODEL_b64b619fbd9b4b999b3b0fb7f5593b84",
            "_model_module": "@jupyter-widgets/controls",
            "children": [
              "IPY_MODEL_56e51307a0ba48a88f03ad9d93d76a7e",
              "IPY_MODEL_be330784dcc947b6a0c1e064e6ad017b"
            ]
          }
        },
        "b64b619fbd9b4b999b3b0fb7f5593b84": {
          "model_module": "@jupyter-widgets/base",
          "model_name": "LayoutModel",
          "state": {
            "_view_name": "LayoutView",
            "grid_template_rows": null,
            "right": null,
            "justify_content": null,
            "_view_module": "@jupyter-widgets/base",
            "overflow": null,
            "_model_module_version": "1.2.0",
            "_view_count": null,
            "flex_flow": null,
            "width": null,
            "min_width": null,
            "border": null,
            "align_items": null,
            "bottom": null,
            "_model_module": "@jupyter-widgets/base",
            "top": null,
            "grid_column": null,
            "overflow_y": null,
            "overflow_x": null,
            "grid_auto_flow": null,
            "grid_area": null,
            "grid_template_columns": null,
            "flex": null,
            "_model_name": "LayoutModel",
            "justify_items": null,
            "grid_row": null,
            "max_height": null,
            "align_content": null,
            "visibility": null,
            "align_self": null,
            "height": null,
            "min_height": null,
            "padding": null,
            "grid_auto_rows": null,
            "grid_gap": null,
            "max_width": null,
            "order": null,
            "_view_module_version": "1.2.0",
            "grid_template_areas": null,
            "object_position": null,
            "object_fit": null,
            "grid_auto_columns": null,
            "margin": null,
            "display": null,
            "left": null
          }
        },
        "56e51307a0ba48a88f03ad9d93d76a7e": {
          "model_module": "@jupyter-widgets/controls",
          "model_name": "FloatProgressModel",
          "state": {
            "_view_name": "ProgressView",
            "style": "IPY_MODEL_25e56dd5f56545b09705fa02f88ebcc5",
            "_dom_classes": [],
            "description": "Downloading: 100%",
            "_model_name": "FloatProgressModel",
            "bar_style": "success",
            "max": 363423424,
            "_view_module": "@jupyter-widgets/controls",
            "_model_module_version": "1.5.0",
            "value": 363423424,
            "_view_count": null,
            "_view_module_version": "1.5.0",
            "orientation": "horizontal",
            "min": 0,
            "description_tooltip": null,
            "_model_module": "@jupyter-widgets/controls",
            "layout": "IPY_MODEL_f5b8b80f3b4c44a39b7e0332a58ad9a2"
          }
        },
        "be330784dcc947b6a0c1e064e6ad017b": {
          "model_module": "@jupyter-widgets/controls",
          "model_name": "HTMLModel",
          "state": {
            "_view_name": "HTMLView",
            "style": "IPY_MODEL_132ee7d7fd054dfd945a4fd528f1ad72",
            "_dom_classes": [],
            "description": "",
            "_model_name": "HTMLModel",
            "placeholder": "​",
            "_view_module": "@jupyter-widgets/controls",
            "_model_module_version": "1.5.0",
            "value": " 363M/363M [00:09&lt;00:00, 38.9MB/s]",
            "_view_count": null,
            "_view_module_version": "1.5.0",
            "description_tooltip": null,
            "_model_module": "@jupyter-widgets/controls",
            "layout": "IPY_MODEL_ebec69bf13824eaa842420247a01e2ff"
          }
        },
        "25e56dd5f56545b09705fa02f88ebcc5": {
          "model_module": "@jupyter-widgets/controls",
          "model_name": "ProgressStyleModel",
          "state": {
            "_view_name": "StyleView",
            "_model_name": "ProgressStyleModel",
            "description_width": "initial",
            "_view_module": "@jupyter-widgets/base",
            "_model_module_version": "1.5.0",
            "_view_count": null,
            "_view_module_version": "1.2.0",
            "bar_color": null,
            "_model_module": "@jupyter-widgets/controls"
          }
        },
        "f5b8b80f3b4c44a39b7e0332a58ad9a2": {
          "model_module": "@jupyter-widgets/base",
          "model_name": "LayoutModel",
          "state": {
            "_view_name": "LayoutView",
            "grid_template_rows": null,
            "right": null,
            "justify_content": null,
            "_view_module": "@jupyter-widgets/base",
            "overflow": null,
            "_model_module_version": "1.2.0",
            "_view_count": null,
            "flex_flow": null,
            "width": null,
            "min_width": null,
            "border": null,
            "align_items": null,
            "bottom": null,
            "_model_module": "@jupyter-widgets/base",
            "top": null,
            "grid_column": null,
            "overflow_y": null,
            "overflow_x": null,
            "grid_auto_flow": null,
            "grid_area": null,
            "grid_template_columns": null,
            "flex": null,
            "_model_name": "LayoutModel",
            "justify_items": null,
            "grid_row": null,
            "max_height": null,
            "align_content": null,
            "visibility": null,
            "align_self": null,
            "height": null,
            "min_height": null,
            "padding": null,
            "grid_auto_rows": null,
            "grid_gap": null,
            "max_width": null,
            "order": null,
            "_view_module_version": "1.2.0",
            "grid_template_areas": null,
            "object_position": null,
            "object_fit": null,
            "grid_auto_columns": null,
            "margin": null,
            "display": null,
            "left": null
          }
        },
        "132ee7d7fd054dfd945a4fd528f1ad72": {
          "model_module": "@jupyter-widgets/controls",
          "model_name": "DescriptionStyleModel",
          "state": {
            "_view_name": "StyleView",
            "_model_name": "DescriptionStyleModel",
            "description_width": "",
            "_view_module": "@jupyter-widgets/base",
            "_model_module_version": "1.5.0",
            "_view_count": null,
            "_view_module_version": "1.2.0",
            "_model_module": "@jupyter-widgets/controls"
          }
        },
        "ebec69bf13824eaa842420247a01e2ff": {
          "model_module": "@jupyter-widgets/base",
          "model_name": "LayoutModel",
          "state": {
            "_view_name": "LayoutView",
            "grid_template_rows": null,
            "right": null,
            "justify_content": null,
            "_view_module": "@jupyter-widgets/base",
            "overflow": null,
            "_model_module_version": "1.2.0",
            "_view_count": null,
            "flex_flow": null,
            "width": null,
            "min_width": null,
            "border": null,
            "align_items": null,
            "bottom": null,
            "_model_module": "@jupyter-widgets/base",
            "top": null,
            "grid_column": null,
            "overflow_y": null,
            "overflow_x": null,
            "grid_auto_flow": null,
            "grid_area": null,
            "grid_template_columns": null,
            "flex": null,
            "_model_name": "LayoutModel",
            "justify_items": null,
            "grid_row": null,
            "max_height": null,
            "align_content": null,
            "visibility": null,
            "align_self": null,
            "height": null,
            "min_height": null,
            "padding": null,
            "grid_auto_rows": null,
            "grid_gap": null,
            "max_width": null,
            "order": null,
            "_view_module_version": "1.2.0",
            "grid_template_areas": null,
            "object_position": null,
            "object_fit": null,
            "grid_auto_columns": null,
            "margin": null,
            "display": null,
            "left": null
          }
        }
      }
    }
  },
  "cells": [
    {
      "cell_type": "markdown",
      "metadata": {
        "id": "view-in-github",
        "colab_type": "text"
      },
      "source": [
        "<a href=\"https://colab.research.google.com/github/AlexandreBourrieau/ML-F1/blob/master/Carnets%20Jupyter/Ressentis_BERT.ipynb\" target=\"_parent\"><img src=\"https://colab.research.google.com/assets/colab-badge.svg\" alt=\"Open In Colab\"/></a>"
      ]
    },
    {
      "cell_type": "markdown",
      "metadata": {
        "id": "LJih03NWtfi0"
      },
      "source": [
        "# **Classification de ressentis avec distilBERT**"
      ]
    },
    {
      "cell_type": "markdown",
      "metadata": {
        "id": "x6Xo1x4rtto8"
      },
      "source": [
        "L'objectif est de créer un modèle qui prend en entrée des commentaires (en Anglais) et attribue à chacun un ressenti positif ou négatif.  \n",
        "Le modèle est composé de deux parties :  \n",
        "* DistilBERT va encoder le commentaire et en extraire des informations qui seront passées ensuite au réseau de neurones.  \n",
        "* Le modèle suivant est un réseau de neurones qui sera créé avec Keras.  \n",
        "\n",
        "<img src=\"https://raw.githubusercontent.com/AlexandreBourrieau/ML-F1/master/Carnets%20Jupyter/Images/StructureBERT.png\" />  \n",
        "  \n",
        "  Les données qui s'échangent entre les deux modèles sont des vecteurs de dimension 768. Ces vecteurs sont l'équivalent de l'application d'un algorithme de prolongation lexicale sur les mots qui composent le commentaire."
      ]
    },
    {
      "cell_type": "markdown",
      "metadata": {
        "id": "gePh7FotwPTH"
      },
      "source": [
        "# **Installation et importation des librairies**\n"
      ]
    },
    {
      "cell_type": "code",
      "metadata": {
        "id": "g5WrrT_pzIHu",
        "outputId": "e6363d66-8694-4d10-af68-13ae6c075aa6",
        "colab": {
          "base_uri": "https://localhost:8080/",
          "height": 104
        }
      },
      "source": [
        "!pip install transformers --quiet"
      ],
      "execution_count": 2,
      "outputs": [
        {
          "output_type": "stream",
          "text": [
            "\u001b[K     |████████████████████████████████| 1.1MB 4.7MB/s \n",
            "\u001b[K     |████████████████████████████████| 1.1MB 25.7MB/s \n",
            "\u001b[K     |████████████████████████████████| 890kB 47.3MB/s \n",
            "\u001b[K     |████████████████████████████████| 3.0MB 52.3MB/s \n",
            "\u001b[?25h  Building wheel for sacremoses (setup.py) ... \u001b[?25l\u001b[?25hdone\n"
          ],
          "name": "stdout"
        }
      ]
    },
    {
      "cell_type": "code",
      "metadata": {
        "id": "L5n4uHtutPlJ"
      },
      "source": [
        "import pandas as pd\n",
        "import numpy as np\n",
        "import tensorflow as tf\n",
        "\n",
        "from tensorflow.keras.layers import Dense, Dropout, Input, Dropout, Lambda\n",
        "from tensorflow.keras import Sequential\n",
        "from tensorflow.keras.models import Model\n",
        "from tensorflow.keras.optimizers import Adam\n",
        "\n",
        "from sklearn.model_selection import train_test_split\n",
        "\n",
        "from transformers import DistilBertConfig\n",
        "from transformers import TFDistilBertModel\n",
        "from transformers import AutoTokenizer\n",
        "\n",
        "import matplotlib.pyplot as plt\n",
        "\n",
        "import random"
      ],
      "execution_count": 3,
      "outputs": []
    },
    {
      "cell_type": "markdown",
      "metadata": {
        "id": "uWZEaivhxTd2"
      },
      "source": [
        "# **Importation des données**\n",
        "\n",
        "On utilise la librairie pandas pour lire les données depuis le fichier csv disponible sur le site de [standford](https://nlp.stanford.edu/sentiment/index.html) qui contient des commentaires sur des films, chacun d'eux avec une note positive (1) ou négative (0)."
      ]
    },
    {
      "cell_type": "code",
      "metadata": {
        "id": "hOrjCZGyyH4P"
      },
      "source": [
        "df = pd.read_csv('https://raw.githubusercontent.com/AlexandreBourrieau/ML-F1/master/Carnets%20Jupyter/Donn%C3%A9es/train.csv', delimiter='\\t', header=None)"
      ],
      "execution_count": 5,
      "outputs": []
    },
    {
      "cell_type": "markdown",
      "metadata": {
        "id": "xiO-lNQ6zYpU"
      },
      "source": [
        "Affiche quelques informations :"
      ]
    },
    {
      "cell_type": "code",
      "metadata": {
        "id": "FQT1SwyBzPvP",
        "outputId": "91e4e106-9aef-4eba-e12c-0232862a2d3d",
        "colab": {
          "base_uri": "https://localhost:8080/",
          "height": 277
        }
      },
      "source": [
        "print(df[0:10])\n",
        "print(\"Total des données : \", str(len(df)))\n",
        "print(\"Nombre d'avis positifs et négatifs : \",df[1].value_counts())"
      ],
      "execution_count": 7,
      "outputs": [
        {
          "output_type": "stream",
          "text": [
            "                                                   0  1\n",
            "0  a stirring , funny and finally transporting re...  1\n",
            "1  apparently reassembled from the cutting room f...  0\n",
            "2  they presume their audience wo n't sit still f...  0\n",
            "3  this is a visually stunning rumination on love...  1\n",
            "4  jonathan parker 's bartleby should have been t...  1\n",
            "5  campanella gets the tone just right funny in t...  1\n",
            "6  a fan film that for the uninitiated plays bett...  0\n",
            "7  b art and berling are both superb , while hupp...  1\n",
            "8  a little less extreme than in the past , with ...  0\n",
            "9                       the film is strictly routine  0\n",
            "Total des données :  6920\n",
            "Nombre d'avis positifs et négatifs :  1    3610\n",
            "0    3310\n",
            "Name: 1, dtype: int64\n"
          ],
          "name": "stdout"
        }
      ]
    },
    {
      "cell_type": "markdown",
      "metadata": {
        "id": "n4Vcm5K3Dej4"
      },
      "source": [
        "# **Préparation des données**\n",
        "\n",
        "# Séparation des données d'entrainement et de test \n",
        "On commence par récupérer 75% des données pour l'entrainement, et le reste pour les tests :\n",
        "\n",
        "<img src=\"https://github.com/AlexandreBourrieau/ML-F1/blob/master/Carnets%20Jupyter/Images/SeparationData.png?raw=true\"/>"
      ]
    },
    {
      "cell_type": "code",
      "metadata": {
        "id": "XefRRLg2DiQs"
      },
      "source": [
        "# Chargement des commentaires et des ressentis\n",
        "commentaires = df[0].astype(str).tolist()    # Récupère tous les commentaires dans une liste python\n",
        "ressentis = df[1].tolist()                   # Récupère tous les ressentis dans une liste python\n",
        "labels = np.asarray(ressentis)               # Créé un tableau de type numpy avec les ressentis\n",
        "\n",
        "x_entrainement, x_test, y_entrainement, y_test = train_test_split(commentaires, labels, test_size=0.25)"
      ],
      "execution_count": 8,
      "outputs": []
    },
    {
      "cell_type": "markdown",
      "metadata": {
        "id": "QDDdUWj83wuz"
      },
      "source": [
        "# Tokénisation  \n",
        "La première étape est de tokéniser les commentaires : les mots sont décomposés en index numériques au format BERT.  \n",
        "\n",
        "<img src=\"https://github.com/AlexandreBourrieau/ML-F1/blob/master/Carnets%20Jupyter/Images/TokenizeBERT.png?raw=true\"/>\n",
        "\n",
        "Après tokénisation, on obtient une liste de séquences et chaque séquence représente une liste d'index. On souhaite que BERT analyse toutes les séquences en une seule fois (ce qui est plus rapide). Il faut donc que toutes les séquences aient la même taille. On va donc ajouter du bourrage pour égaliser la longueur des séquences. Cela est indiqué avec le paramètre `padding='True'`.  \n",
        "Lorsque un bourrage est ajouté, il faut que BERT ne prenne pas en compte les mots à cette position (car il n'y en a pas !). Cette restriction est réalisé grace à l'`attention_mask`"
      ]
    },
    {
      "cell_type": "code",
      "metadata": {
        "id": "yHhqUPeiqzam",
        "outputId": "e5f702cb-c871-4e85-c24d-2df34b39ddb3",
        "colab": {
          "base_uri": "https://localhost:8080/",
          "height": 116,
          "referenced_widgets": [
            "584c919ef9cf4215b5b0691b55285d19",
            "8495089150554c32a0ff50c226249305",
            "89ecaf75f5514cdfb824eea598d18a26",
            "b6a81a562fb74b2f8b7c7c9a0f47e532",
            "162cf431856340e483b4d9bc4f81b75a",
            "d77c710c36ea4794a1c0e12d4ce7bde9",
            "330e18bc684c4ee489d86656c55a7b52",
            "f44cf3db0ca44f77b31bec2644fd9730",
            "c25fab296660449db76ecc0e70a73284",
            "dac1f9d099494462820b9bf2d8a067e3",
            "a202d9cf851e4ff0b31212213f8a4925",
            "c3a433b3cfa64a66ac0f475b07b95231",
            "fa3e5653a1e24349aefbb00764cc0758",
            "4d1a1e1031e24b699e12173e4b40d09a",
            "3e0784a82f6444f1b051f289d584696d",
            "5acec1d3ee1b4fa6afcef9a51121874b"
          ]
        }
      },
      "source": [
        "LONGUEUR_MAX_COMMENTAIRE = 100\n",
        "\n",
        "# Instanciation du tokeniseur\n",
        "tokenizer = AutoTokenizer.from_pretrained('distilbert-base-uncased')\n",
        "\n",
        "# Préparation des données d'entrainement\n",
        "output_tokenizer_entrainement = tokenizer(x_entrainement,max_length=LONGUEUR_MAX_COMMENTAIRE, padding='max_length', truncation=True, return_tensors='tf',add_special_tokens=True)\n",
        "\n",
        "# Préparation des données de tests\n",
        "output_tokenizer_tests = tokenizer(x_test,max_length=LONGUEUR_MAX_COMMENTAIRE, padding='max_length', truncation=True, return_tensors='tf',add_special_tokens=True)"
      ],
      "execution_count": 9,
      "outputs": [
        {
          "output_type": "display_data",
          "data": {
            "application/vnd.jupyter.widget-view+json": {
              "model_id": "584c919ef9cf4215b5b0691b55285d19",
              "version_minor": 0,
              "version_major": 2
            },
            "text/plain": [
              "HBox(children=(FloatProgress(value=0.0, description='Downloading', max=442.0, style=ProgressStyle(description_…"
            ]
          },
          "metadata": {
            "tags": []
          }
        },
        {
          "output_type": "stream",
          "text": [
            "\n"
          ],
          "name": "stdout"
        },
        {
          "output_type": "display_data",
          "data": {
            "application/vnd.jupyter.widget-view+json": {
              "model_id": "c25fab296660449db76ecc0e70a73284",
              "version_minor": 0,
              "version_major": 2
            },
            "text/plain": [
              "HBox(children=(FloatProgress(value=0.0, description='Downloading', max=231508.0, style=ProgressStyle(descripti…"
            ]
          },
          "metadata": {
            "tags": []
          }
        },
        {
          "output_type": "stream",
          "text": [
            "\n"
          ],
          "name": "stdout"
        }
      ]
    },
    {
      "cell_type": "markdown",
      "metadata": {
        "id": "kzboG3fX5LkP"
      },
      "source": [
        "Regardons un peu comment sont formatées les données en sortie du tokéniseur :"
      ]
    },
    {
      "cell_type": "code",
      "metadata": {
        "id": "_0BL0iiKzVS7",
        "outputId": "9137b7c5-1d05-400a-91c4-9b9e4837894b",
        "colab": {
          "base_uri": "https://localhost:8080/",
          "height": 277
        }
      },
      "source": [
        "output_tokenizer_entrainement"
      ],
      "execution_count": 7,
      "outputs": [
        {
          "output_type": "execute_result",
          "data": {
            "text/plain": [
              "{'input_ids': <tf.Tensor: shape=(5190, 100), dtype=int32, numpy=\n",
              "array([[  101,  1999, 20740, ...,     0,     0,     0],\n",
              "       [  101,  1037, 13940, ...,     0,     0,     0],\n",
              "       [  101,  1996,  3861, ...,     0,     0,     0],\n",
              "       ...,\n",
              "       [  101,  3811, 17837, ...,     0,     0,     0],\n",
              "       [  101,  1999,  2026, ...,     0,     0,     0],\n",
              "       [  101,  8040,  5369, ...,     0,     0,     0]], dtype=int32)>, 'attention_mask': <tf.Tensor: shape=(5190, 100), dtype=int32, numpy=\n",
              "array([[1, 1, 1, ..., 0, 0, 0],\n",
              "       [1, 1, 1, ..., 0, 0, 0],\n",
              "       [1, 1, 1, ..., 0, 0, 0],\n",
              "       ...,\n",
              "       [1, 1, 1, ..., 0, 0, 0],\n",
              "       [1, 1, 1, ..., 0, 0, 0],\n",
              "       [1, 1, 1, ..., 0, 0, 0]], dtype=int32)>}"
            ]
          },
          "metadata": {
            "tags": []
          },
          "execution_count": 7
        }
      ]
    },
    {
      "cell_type": "markdown",
      "metadata": {
        "id": "fejN7ZrzzaOu"
      },
      "source": [
        "Regardons comment le premier commentaire a été encodé :"
      ]
    },
    {
      "cell_type": "code",
      "metadata": {
        "id": "Q-E6oJcG5Qlj",
        "outputId": "9337d862-a862-4f9c-bb02-1541c19aff17",
        "colab": {
          "base_uri": "https://localhost:8080/",
          "height": 277
        }
      },
      "source": [
        "print(\"Commentaire original :\", x_entrainement[0])\n",
        "print(\"input_ids: \", output_tokenizer_entrainement['input_ids'][0])\n",
        "print(\"attention_mask: \", output_tokenizer_entrainement['attention_mask'][0])"
      ],
      "execution_count": 8,
      "outputs": [
        {
          "output_type": "stream",
          "text": [
            "Commentaire original : infidelity drama is nicely shot , well edited and features a standout performance by diane lane\n",
            "input_ids:  tf.Tensor(\n",
            "[  101  1999 20740 18605  3689  2003 19957  2915  1010  2092  5493  1998\n",
            "  2838  1037  3233  5833  2836  2011 12082  4644   102     0     0     0\n",
            "     0     0     0     0     0     0     0     0     0     0     0     0\n",
            "     0     0     0     0     0     0     0     0     0     0     0     0\n",
            "     0     0     0     0     0     0     0     0     0     0     0     0\n",
            "     0     0     0     0     0     0     0     0     0     0     0     0\n",
            "     0     0     0     0     0     0     0     0     0     0     0     0\n",
            "     0     0     0     0     0     0     0     0     0     0     0     0\n",
            "     0     0     0     0], shape=(100,), dtype=int32)\n",
            "attention_mask:  tf.Tensor(\n",
            "[1 1 1 1 1 1 1 1 1 1 1 1 1 1 1 1 1 1 1 1 1 0 0 0 0 0 0 0 0 0 0 0 0 0 0 0 0\n",
            " 0 0 0 0 0 0 0 0 0 0 0 0 0 0 0 0 0 0 0 0 0 0 0 0 0 0 0 0 0 0 0 0 0 0 0 0 0\n",
            " 0 0 0 0 0 0 0 0 0 0 0 0 0 0 0 0 0 0 0 0 0 0 0 0 0 0], shape=(100,), dtype=int32)\n"
          ],
          "name": "stdout"
        }
      ]
    },
    {
      "cell_type": "markdown",
      "metadata": {
        "id": "xAmGZYP86Hx7"
      },
      "source": [
        "Regardons les 5 premiers résultats de la tokénisation : On peut identifier les mot-clés **[CLS]** (valeur : 101) et **[SEP]** (valeur : 102)"
      ]
    },
    {
      "cell_type": "code",
      "metadata": {
        "id": "WWVaSBqo59qW",
        "outputId": "9cf06f11-c37a-484f-c414-787667430d88",
        "colab": {
          "base_uri": "https://localhost:8080/",
          "height": 867
        }
      },
      "source": [
        "for i in range (0,5):\n",
        "  print(output_tokenizer_entrainement['input_ids'][i])"
      ],
      "execution_count": 128,
      "outputs": [
        {
          "output_type": "stream",
          "text": [
            "tf.Tensor(\n",
            "[  101  2062  1997  1996  2168  2214 13044  5365  2038  2042  2667  2000\n",
            "  3413  2125  2004 11701  9458  4024  2005  2070  2051  2085   102     0\n",
            "     0     0     0     0     0     0     0     0     0     0     0     0\n",
            "     0     0     0     0     0     0     0     0     0     0     0     0\n",
            "     0     0     0     0     0     0     0     0     0     0     0     0\n",
            "     0     0     0     0     0     0     0     0     0     0     0     0\n",
            "     0     0     0     0     0     0     0     0     0     0     0     0\n",
            "     0     0     0     0     0     0     0     0     0     0     0     0\n",
            "     0     0     0     0], shape=(100,), dtype=int32)\n",
            "tf.Tensor(\n",
            "[ 101 4299 2100 9378 2100  102    0    0    0    0    0    0    0    0\n",
            "    0    0    0    0    0    0    0    0    0    0    0    0    0    0\n",
            "    0    0    0    0    0    0    0    0    0    0    0    0    0    0\n",
            "    0    0    0    0    0    0    0    0    0    0    0    0    0    0\n",
            "    0    0    0    0    0    0    0    0    0    0    0    0    0    0\n",
            "    0    0    0    0    0    0    0    0    0    0    0    0    0    0\n",
            "    0    0    0    0    0    0    0    0    0    0    0    0    0    0\n",
            "    0    0], shape=(100,), dtype=int32)\n",
            "tf.Tensor(\n",
            "[  101  2000  2488  3305  2339  2023  2106  1050  1005  1056  7532  2007\n",
            "  2033  2052  5478  2178 10523  1010  1998  1045 24185  1050  1005  1056\n",
            "  2022  3564  2083  2023  2028  2153  2008  1999  2993  2003  8570  2438\n",
            "   102     0     0     0     0     0     0     0     0     0     0     0\n",
            "     0     0     0     0     0     0     0     0     0     0     0     0\n",
            "     0     0     0     0     0     0     0     0     0     0     0     0\n",
            "     0     0     0     0     0     0     0     0     0     0     0     0\n",
            "     0     0     0     0     0     0     0     0     0     0     0     0\n",
            "     0     0     0     0], shape=(100,), dtype=int32)\n",
            "tf.Tensor(\n",
            "[  101  2009  3957  3532 11271  2482 12417  2498  2000  2079  2008  2003\n",
            "  2428  6057  1010  1998  2059 24273  2149  2000  4756  2138  2002  4490\n",
            "  2061 27243  2035  1996  2051   102     0     0     0     0     0     0\n",
            "     0     0     0     0     0     0     0     0     0     0     0     0\n",
            "     0     0     0     0     0     0     0     0     0     0     0     0\n",
            "     0     0     0     0     0     0     0     0     0     0     0     0\n",
            "     0     0     0     0     0     0     0     0     0     0     0     0\n",
            "     0     0     0     0     0     0     0     0     0     0     0     0\n",
            "     0     0     0     0], shape=(100,), dtype=int32)\n",
            "tf.Tensor(\n",
            "[  101  2066  1037 11478  2990  1051  1005 12856  1010  2049  6835 18874\n",
            "  2003  5173  2013  1037  8840 18384 16940  1010  2383  2018  2035  2049\n",
            "  8995 11305 20804  2041  1998 15105   102     0     0     0     0     0\n",
            "     0     0     0     0     0     0     0     0     0     0     0     0\n",
            "     0     0     0     0     0     0     0     0     0     0     0     0\n",
            "     0     0     0     0     0     0     0     0     0     0     0     0\n",
            "     0     0     0     0     0     0     0     0     0     0     0     0\n",
            "     0     0     0     0     0     0     0     0     0     0     0     0\n",
            "     0     0     0     0], shape=(100,), dtype=int32)\n"
          ],
          "name": "stdout"
        }
      ]
    },
    {
      "cell_type": "markdown",
      "metadata": {
        "id": "Vakqzatl3le0"
      },
      "source": [
        "# **Définition et utilisation du modèle distilBERT avec Keras**"
      ]
    },
    {
      "cell_type": "markdown",
      "metadata": {
        "id": "uE_TEftF1OCf"
      },
      "source": [
        "Les données d'entrées étant maintenant correctement préparées, commençons par définir le modèle distilBERT pour ensuite l'appliquer aux données afin de réaliser l'opération de prolongation lexicale.  \n",
        "\n",
        "<img src=\"https://github.com/AlexandreBourrieau/ML-F1/blob/master/Carnets%20Jupyter/Images/DistilBERT_process.png?raw=true\"/>  \n",
        "La fonction `model()` permet d'exécuter le modèle sur les séquences d'entrées."
      ]
    },
    {
      "cell_type": "code",
      "metadata": {
        "id": "38a0wigo18Zg",
        "outputId": "f4c3d9cf-9b9c-4ec7-9ac9-3bf6e66830db",
        "colab": {
          "base_uri": "https://localhost:8080/",
          "height": 173,
          "referenced_widgets": [
            "0d9c4dbf18cc41ac9dc4c400e6eab205",
            "b64b619fbd9b4b999b3b0fb7f5593b84",
            "56e51307a0ba48a88f03ad9d93d76a7e",
            "be330784dcc947b6a0c1e064e6ad017b",
            "25e56dd5f56545b09705fa02f88ebcc5",
            "f5b8b80f3b4c44a39b7e0332a58ad9a2",
            "132ee7d7fd054dfd945a4fd528f1ad72",
            "ebec69bf13824eaa842420247a01e2ff"
          ]
        }
      },
      "source": [
        "# Configuration du modèle distilBERT\n",
        "config = DistilBertConfig(num_labels=1)           # 1 label\n",
        "config.output_hidden_states = False               # Ne récupère pas la totalité des couches mais uniquement la dernière\n",
        "\n",
        "# Instanciation du modèle distilBERT\n",
        "transformer_model = TFDistilBertModel.from_pretrained('distilbert-base-uncased', config = config)\n",
        "\n",
        "# Défintion du format des entrées du modèle\n",
        "entrees_ids = tf.keras.layers.Input(shape=(LONGUEUR_MAX_COMMENTAIRE,), name='input_token', dtype='int32')\n",
        "entrees_masks = tf.keras.layers.Input(shape=(LONGUEUR_MAX_COMMENTAIRE,), name='masked_token', dtype='int32') \n",
        "\n",
        "# Création de la sortie du modèle\n",
        "sortie_distilBERT = transformer_model(entrees_ids, attention_mask=entrees_masks)"
      ],
      "execution_count": 10,
      "outputs": [
        {
          "output_type": "display_data",
          "data": {
            "application/vnd.jupyter.widget-view+json": {
              "model_id": "0d9c4dbf18cc41ac9dc4c400e6eab205",
              "version_minor": 0,
              "version_major": 2
            },
            "text/plain": [
              "HBox(children=(FloatProgress(value=0.0, description='Downloading', max=363423424.0, style=ProgressStyle(descri…"
            ]
          },
          "metadata": {
            "tags": []
          }
        },
        {
          "output_type": "stream",
          "text": [
            "\n"
          ],
          "name": "stdout"
        },
        {
          "output_type": "stream",
          "text": [
            "Some weights of the model checkpoint at distilbert-base-uncased were not used when initializing TFDistilBertModel: ['vocab_transform', 'activation_13', 'vocab_projector', 'vocab_layer_norm']\n",
            "- This IS expected if you are initializing TFDistilBertModel from the checkpoint of a model trained on another task or with another architecture (e.g. initializing a BertForSequenceClassification model from a BertForPretraining model).\n",
            "- This IS NOT expected if you are initializing TFDistilBertModel from the checkpoint of a model that you expect to be exactly identical (initializing a BertForSequenceClassification model from a BertForSequenceClassification model).\n",
            "All the weights of TFDistilBertModel were initialized from the model checkpoint at distilbert-base-uncased.\n",
            "If your task is similar to the task the model of the checkpoint was trained on, you can already use TFDistilBertModel for predictions without further training.\n"
          ],
          "name": "stderr"
        }
      ]
    },
    {
      "cell_type": "markdown",
      "metadata": {
        "id": "z9vwylPK8B2d"
      },
      "source": [
        "Pour chaque commentaire en entrée, la sortie du modèle distilBERT est un vecteur de dimension MAX_SEQUENCE_LENGTHx768 :\n",
        "* Il y a au maximum MAX_SEQUENCE_LENGTH mots dans chaque commentaire\n",
        "* Il y a un vecteur en sortie du modèle par mot dans chaque commentaire\n",
        "* Le vecteur qui code chaque mot est de dimension 768"
      ]
    },
    {
      "cell_type": "markdown",
      "metadata": {
        "id": "84jTmbNS9och"
      },
      "source": [
        "Vérifions cela en regardant le format de la sortie du modèle :"
      ]
    },
    {
      "cell_type": "code",
      "metadata": {
        "id": "SRyx0t5z5_zY",
        "outputId": "d192d6dd-0c55-47f2-da66-9a2c50c9780e",
        "colab": {
          "base_uri": "https://localhost:8080/",
          "height": 35
        }
      },
      "source": [
        "sortie_distilBERT"
      ],
      "execution_count": 10,
      "outputs": [
        {
          "output_type": "execute_result",
          "data": {
            "text/plain": [
              "(<tf.Tensor 'tf_distil_bert_model/distilbert/transformer/layer_._5/output_layer_norm/batchnorm/add_1:0' shape=(None, 100, 768) dtype=float32>,)"
            ]
          },
          "metadata": {
            "tags": []
          },
          "execution_count": 10
        }
      ]
    },
    {
      "cell_type": "markdown",
      "metadata": {
        "id": "puRHTFsg9x0d"
      },
      "source": [
        "Parmi les MAX_SEQUENCE_LENGTH vecteurs en sortie, il ne nous faut que le premier (celui qui correspond au mot clé [CLS]). On doit donc récupérer, pour chaque commentaire, le premier vecteur de dimension 768 parmi les MAX_SEQUENCE_LENGTH en sortie :  \n",
        "  \n",
        "  \n",
        "<img src=\"https://github.com/AlexandreBourrieau/ML-F1/blob/master/Carnets%20Jupyter/Images/Slice_SortieBERT.png?raw=true\"/>  "
      ]
    },
    {
      "cell_type": "code",
      "metadata": {
        "id": "-7R2nn5n7sww"
      },
      "source": [
        "sortie_CLS = sortie_distilBERT[0][:,0,:]"
      ],
      "execution_count": 11,
      "outputs": []
    },
    {
      "cell_type": "code",
      "metadata": {
        "id": "ZMtLGYG44Kxh",
        "outputId": "db45fa38-3c83-4b03-d2b8-2327e7a9cf5d",
        "colab": {
          "base_uri": "https://localhost:8080/",
          "height": 312
        }
      },
      "source": [
        "model = tf.keras.Model(inputs=[entrees_ids, entrees_masks], outputs = sortie_CLS)\n",
        "model.summary()"
      ],
      "execution_count": 12,
      "outputs": [
        {
          "output_type": "stream",
          "text": [
            "Model: \"functional_1\"\n",
            "__________________________________________________________________________________________________\n",
            "Layer (type)                    Output Shape         Param #     Connected to                     \n",
            "==================================================================================================\n",
            "input_token (InputLayer)        [(None, 100)]        0                                            \n",
            "__________________________________________________________________________________________________\n",
            "masked_token (InputLayer)       [(None, 100)]        0                                            \n",
            "__________________________________________________________________________________________________\n",
            "tf_distil_bert_model (TFDistilB ((None, 100, 768),)  66362880    input_token[0][0]                \n",
            "                                                                 masked_token[0][0]               \n",
            "__________________________________________________________________________________________________\n",
            "tf_op_layer_strided_slice (Tens [(None, 768)]        0           tf_distil_bert_model[0][0]       \n",
            "==================================================================================================\n",
            "Total params: 66,362,880\n",
            "Trainable params: 66,362,880\n",
            "Non-trainable params: 0\n",
            "__________________________________________________________________________________________________\n"
          ],
          "name": "stdout"
        }
      ]
    },
    {
      "cell_type": "markdown",
      "metadata": {
        "id": "PEMRlzgpHlV2"
      },
      "source": [
        "Exécutons maintenant distilBERT sur les 10 premiers commentaires afin de regarder le format des sorties obtenues :"
      ]
    },
    {
      "cell_type": "code",
      "metadata": {
        "id": "sYJ7h-RC43o4",
        "outputId": "5914430b-a9de-4d83-b47c-e3ae0ba999d3",
        "colab": {
          "base_uri": "https://localhost:8080/",
          "height": 1000
        }
      },
      "source": [
        "sortie_prolongation_lexicale = model.predict([output_tokenizer_entrainement['input_ids'][1:10],output_tokenizer_entrainement['attention_mask'][1:10]],verbose=1)\n",
        "print(\"Commentaire :\", commentaires[0])\n",
        "print(\"input_ids\", output_tokenizer_entrainement['input_ids'][0])\n",
        "print(\"Sortie BERT\", sortie_prolongation_lexicale[0])"
      ],
      "execution_count": 13,
      "outputs": [
        {
          "output_type": "stream",
          "text": [
            "1/1 [==============================] - 0s 2ms/step\n",
            "Commentaire : a stirring , funny and finally transporting re imagining of beauty and the beast and 1930s horror films\n",
            "input_ids tf.Tensor(\n",
            "[  101  2320  2002  4627  4083  2000 12014  2007  4507  2438  2000  2468\n",
            " 20172 22856  1998  7965  1010  1996  2143  4150 16014  8231  7511   102\n",
            "     0     0     0     0     0     0     0     0     0     0     0     0\n",
            "     0     0     0     0     0     0     0     0     0     0     0     0\n",
            "     0     0     0     0     0     0     0     0     0     0     0     0\n",
            "     0     0     0     0     0     0     0     0     0     0     0     0\n",
            "     0     0     0     0     0     0     0     0     0     0     0     0\n",
            "     0     0     0     0     0     0     0     0     0     0     0     0\n",
            "     0     0     0     0], shape=(100,), dtype=int32)\n",
            "Sortie BERT [-1.11723870e-01  1.66897267e-01 -9.15018544e-02 -1.33393317e-01\n",
            " -8.53074193e-02 -3.91883180e-02  6.67528659e-02  4.16917652e-01\n",
            " -1.15582824e-01 -1.89734966e-01  2.33363565e-02 -1.13600455e-01\n",
            " -1.06831677e-02  4.49850559e-01 -2.41472851e-02  2.13302881e-01\n",
            " -4.48511690e-02  1.19488962e-01  1.75298035e-01 -1.80559844e-01\n",
            " -5.12044989e-02 -2.77666807e-01  1.79375261e-02  5.46987578e-02\n",
            "  2.37901490e-02 -9.88402367e-02  1.11261964e-01 -1.30571499e-01\n",
            "  1.01128347e-01 -1.61638595e-02  1.04092937e-02  3.18677630e-03\n",
            " -1.70391798e-03 -1.35075212e-01 -9.77818221e-02 -1.35243088e-01\n",
            "  5.39537892e-03  1.40869319e-02 -4.67833988e-02  6.58113211e-02\n",
            " -8.86968449e-02  5.99934459e-02  2.04439566e-01  6.32415861e-02\n",
            " -1.24995805e-01  1.50855370e-02 -2.17775726e+00  7.31903911e-02\n",
            " -8.97179544e-02 -1.49734586e-01  1.12167075e-01 -4.56498340e-02\n",
            "  2.71182597e-01  2.50652432e-01  2.41351038e-01  2.17021406e-01\n",
            " -2.93017089e-01  4.57579732e-01  4.22842354e-02 -7.29826018e-02\n",
            "  2.60432720e-01 -1.32593364e-02 -1.17911428e-01  5.41264750e-02\n",
            " -6.93194196e-02  1.60657555e-01  6.44601928e-03  1.93602875e-01\n",
            " -1.85777813e-01  3.56261432e-01 -2.59204656e-01 -4.19132173e-01\n",
            "  2.14731485e-01  7.46704638e-04 -5.57069555e-02 -9.95303243e-02\n",
            " -1.17331088e-01  2.89093256e-02  1.72504932e-02  9.65809524e-02\n",
            "  7.26411492e-02  4.77284968e-01  1.71609059e-01  1.21235952e-01\n",
            " -1.34009328e-02  9.03505385e-02 -4.05434705e-02  1.28699139e-01\n",
            " -1.16795301e-01  2.67327726e-01 -5.81807718e-02  2.14563236e-02\n",
            "  1.56309620e-01  2.47702122e-01  3.64178509e-01 -3.07532758e-01\n",
            "  3.31443399e-01 -1.24982215e-01  2.17819870e-01  3.10323596e-01\n",
            "  9.16085914e-02 -1.29245102e-01  6.99704289e-02 -2.65678853e-01\n",
            "  1.30158558e-01 -9.27576497e-02  2.10526466e-01 -1.28876492e-01\n",
            "  2.11885035e-01 -2.36759996e+00  2.53034770e-01  2.39212677e-01\n",
            " -1.75144941e-01 -2.57703036e-01 -1.33811519e-01  1.82711512e-01\n",
            "  1.29837543e-01 -1.40338659e-01 -4.34072912e-02 -8.12907442e-02\n",
            "  1.66158602e-01  3.50944847e-01  4.91414070e-02 -3.16561401e-01\n",
            "  9.72167552e-02  1.08133286e-01  6.24770187e-02 -1.04878753e-01\n",
            "  5.21621853e-02  8.71175900e-02  3.28840524e-01  4.62940365e-01\n",
            " -1.33631572e-01 -7.15226978e-02 -2.09926039e-01  1.62438348e-01\n",
            "  9.68617797e-02 -1.91140085e-01 -2.13462278e-01 -1.02948807e-01\n",
            " -2.18728140e-01 -5.62775135e-03 -2.94944763e+00  2.77730018e-01\n",
            "  2.33321652e-01 -7.11910203e-02 -1.63847670e-01  2.70836055e-02\n",
            "  5.97263314e-02  6.84831664e-02  8.86795670e-02  1.07690588e-01\n",
            " -2.75319338e-01  5.06061763e-02 -1.29807010e-01 -2.32663661e-01\n",
            " -4.20319289e-02 -8.00716430e-02  3.56403470e-01  2.08755761e-01\n",
            "  3.53495106e-02 -1.54816836e-01 -1.65598884e-01 -1.37336358e-01\n",
            " -2.69014925e-01  1.50271654e-02  3.27285260e-01  3.64831984e-01\n",
            "  1.44648589e-02 -2.52353493e-03 -2.10908800e-03 -1.36747643e-01\n",
            "  4.89016771e-01 -1.45618737e-01  1.29504710e-01  1.29199736e-02\n",
            "  1.54009625e-01  2.71141052e-01  3.57529819e-02  7.42500797e-02\n",
            " -1.13381177e-01  3.37709814e-01  1.14413165e-01  1.01855367e-01\n",
            "  2.76110947e-01 -1.07106552e-01  2.61408836e-01 -2.30006158e-01\n",
            " -5.23864627e-02  2.86300004e-01 -2.34813854e-01 -3.38467181e-01\n",
            "  1.53108433e-01 -7.31505379e-02  2.23229676e-01  6.71225041e-02\n",
            "  1.30081931e-02 -4.80994523e-01  1.80342078e-01 -4.20908369e-02\n",
            " -1.83755890e-01 -8.00728798e-03 -2.07945943e-01  9.50696990e-02\n",
            " -1.04527757e-01  3.61308599e+00  4.47071604e-02 -3.16507109e-02\n",
            "  7.55492151e-02  1.05231844e-01  1.00693971e-01 -4.53192294e-02\n",
            " -5.06116897e-02 -4.64163087e-02  5.00704572e-02 -1.67718939e-02\n",
            "  3.36917490e-01  8.25537816e-02 -3.89076471e-02  5.35814762e-02\n",
            "  2.12002546e-02  1.22349702e-01 -1.34421140e-03  1.23904243e-01\n",
            " -4.50485572e-02  1.53338313e-01  9.88475531e-02  5.51634207e-02\n",
            "  5.14695197e-02 -1.18049431e+00 -7.59726390e-03 -1.55347109e-01\n",
            " -1.09161660e-02  2.27790803e-01 -3.41597080e-01 -7.15064183e-02\n",
            "  1.43671274e-01  1.16945729e-01  1.28574431e-01  2.21497074e-01\n",
            " -2.35224694e-01  1.76366851e-01  2.69903243e-01  3.28528136e-01\n",
            " -2.98604161e-01  3.19732159e-01  2.09972948e-01 -2.85631791e-03\n",
            " -2.15334788e-01 -7.17967004e-02  1.85412943e-01  3.49334106e-02\n",
            " -1.51039928e-01  1.40339071e-02  3.41163650e-02 -2.15546787e-01\n",
            "  9.75152329e-02  1.20643549e-01 -1.07535534e-01 -4.33311090e-02\n",
            " -3.06795806e-01 -1.95885107e-01  2.26278845e-02  1.50906965e-01\n",
            " -2.48975664e-01  1.77128658e-01  1.70632899e-01 -3.26199859e-01\n",
            "  1.61472186e-01  1.04356229e-01 -7.98697472e-02  9.68961418e-02\n",
            " -3.73046547e-01 -3.54447293e+00 -7.64862448e-02  2.30674837e-02\n",
            "  2.41618216e-01  3.48104984e-01 -1.88160270e-01  3.51054221e-02\n",
            "  1.33742392e-02  5.42536259e-01 -3.48366946e-01  2.20465973e-01\n",
            "  2.44484842e-01  3.75962183e-02  3.53464872e-01 -3.43827665e-01\n",
            "  2.16497615e-01  1.65953990e-02 -1.90654367e-01  3.68217416e-02\n",
            " -4.52634431e-02 -1.23170629e-01  3.14880013e-01 -9.70104486e-02\n",
            "  2.77303420e-02 -1.99050397e-01 -1.53779864e-01 -1.79571927e-01\n",
            " -1.67302787e-01  1.00901857e-01 -2.51666680e-02  4.61601801e-02\n",
            " -1.34931937e-01  3.32493335e-02 -1.55572429e-01 -3.72292474e-02\n",
            " -2.83941913e+00 -5.54949269e-02  1.09113850e-01  2.39931419e-03\n",
            "  4.06818166e-02 -8.73859227e-02  2.93317437e-01 -1.63613737e-01\n",
            " -4.94109273e-01  7.44380429e-03  1.10080905e-01  4.27656434e-02\n",
            " -1.17261253e-01  3.86730731e-01  3.53477776e-01 -1.29875779e-01\n",
            "  7.30063021e-02 -7.66138732e-02  1.14784420e-01  3.17279577e-01\n",
            " -8.79863054e-02 -4.91375476e-02 -1.05494827e-01 -6.94688410e-02\n",
            " -1.40975304e-02  2.50611961e-01 -4.63086635e-01 -1.33420914e-01\n",
            " -3.42363000e-01  5.22674099e-02 -5.50707616e-02 -3.39096993e-01\n",
            "  1.16465330e-01  6.10587671e-02 -1.11682788e-01 -2.94836342e-01\n",
            "  7.52313212e-02  1.36973590e-01  2.37246573e-01  8.08290392e-02\n",
            " -6.53418005e-02  5.04747868e-01  1.05787054e-01  3.65507245e-01\n",
            "  4.98675704e-01  7.21243769e-02 -3.74007300e-02 -3.99222761e-01\n",
            " -1.46890543e-02  1.33384407e-01 -6.47468716e-02  2.01340511e-01\n",
            "  1.18188787e+00  2.16353685e-03  2.28810497e-03 -1.40920624e-01\n",
            "  3.75990212e-01  7.02684671e-02  1.12819999e-01  6.64384663e-03\n",
            "  3.15224290e-01 -1.01311773e-01  1.53547347e-01  2.10642979e-01\n",
            " -2.03020751e-01 -9.40828472e-02  1.15821913e-01 -3.60139817e-01\n",
            "  9.19801369e-02 -4.13539633e-02 -2.30321050e-01  1.32587269e-01\n",
            "  2.42228508e-02 -7.85896599e-01 -8.59969854e-02  1.24109492e-01\n",
            " -1.44568771e-01  1.22910254e-02  1.12022229e-01  1.07915811e-02\n",
            " -3.44653904e-01 -1.69840068e-01  8.35682452e-03  1.76153988e-01\n",
            " -1.82773322e-01 -1.48156524e-01 -1.68233097e-01  4.29533646e-02\n",
            " -2.34127492e-01  8.62927511e-02  1.81142613e-02  2.29779273e-01\n",
            "  5.51404245e-03  1.06893897e-01  2.62821391e-02  1.81823403e-01\n",
            "  3.02298158e-01 -5.41557789e-01  1.17141359e-01 -7.49591738e-02\n",
            " -1.52151436e-02 -2.83818543e-01 -1.77726254e-01  1.42526045e-01\n",
            " -1.85918391e-01 -1.97846398e-01 -5.89675121e-02  4.80752259e-01\n",
            "  3.41958255e-02  2.51753509e-01  1.37987599e-01  2.42413759e-01\n",
            "  3.00019309e-02  4.53476757e-02  8.83986473e-01 -3.24236229e-03\n",
            "  3.91132422e-02  2.98405111e-01  5.22381328e-02  1.51818842e-01\n",
            "  3.45825136e-01  7.05605447e-02 -2.51199424e-01 -7.14006349e-02\n",
            " -1.80840760e-01 -2.86749154e-02 -7.50331283e-02 -3.09013665e-01\n",
            " -3.94669235e-01 -5.47257327e-02  1.98106736e-01  6.29506707e-02\n",
            " -2.06127256e-01 -5.91417015e-01 -1.28513888e-01 -1.16132215e-01\n",
            " -1.87729284e-01  1.60790175e-01  1.01834744e-01  4.49727774e-02\n",
            "  4.73035038e-01  3.88200581e-02 -1.55777752e-01  1.58915937e-01\n",
            " -1.30897220e-02  5.43612003e-01  7.53286034e-02  2.51217127e-01\n",
            " -4.20235284e-02  9.10552293e-02 -6.63555115e-02 -2.58526921e-01\n",
            "  2.92139910e-02 -1.27313003e-01  5.17980680e-02  9.80028808e-02\n",
            "  8.87586921e-02 -1.17850723e-02 -8.03219154e-02  6.68246597e-02\n",
            "  1.27756372e-01  3.17413151e-01 -1.42891526e+00  1.70950234e-01\n",
            "  2.47258663e-01  4.31981683e-03  1.46432951e-01 -1.03588864e-01\n",
            " -1.25818461e-01  4.36100543e-01  2.38649324e-02  6.34309575e-02\n",
            " -9.68053564e-02 -1.11821741e-02 -8.02592635e-02  3.23802568e-02\n",
            " -1.34165645e-01 -3.04126572e-02  1.53374776e-01  7.39297718e-02\n",
            " -7.41871893e-02  2.43316367e-01 -4.08396646e-02  1.38656110e-01\n",
            "  8.73464346e-02 -1.35594591e-01 -1.24986395e-01  3.88428122e-02\n",
            "  1.97177492e-02  2.78724581e-01 -1.68168265e-02  2.88313981e-02\n",
            "  1.95312172e-01 -2.50756234e-01 -4.65604067e-01 -1.63775995e-01\n",
            "  2.87883282e-01  3.79793867e-02  3.07982750e-02  3.99925001e-02\n",
            "  2.09895223e-01  1.48063913e-01 -4.32725728e-01  2.29575306e-01\n",
            " -9.55269784e-02 -1.93804294e-01  3.16842437e-01  1.75490141e-01\n",
            " -2.77236372e-01  2.35601850e-02 -2.12325692e-01 -2.26714298e-01\n",
            " -2.20288068e-01 -1.17620394e-01 -1.60851210e-01 -1.09514602e-01\n",
            "  4.12211791e-02 -1.36405956e-02  3.70694362e-02  6.38775378e-02\n",
            " -2.23212063e-01 -1.03165410e-01  3.96936238e-02 -2.41757825e-01\n",
            " -1.80753425e-01  6.86181784e-02 -2.34246016e-01 -5.74846029e-01\n",
            " -7.26155490e-02 -1.87924743e-01  4.25445810e-02  1.39196679e-01\n",
            "  3.43340904e-01 -7.26845115e-03 -1.55426621e-01  5.42570576e-02\n",
            "  5.18469922e-02  2.68158495e-01 -5.90915456e-02  7.47063160e-02\n",
            "  2.12569132e-01 -2.25112304e-01  2.16867346e-02 -1.04537949e-01\n",
            " -1.94535702e-01  4.02339876e-01  6.48709387e-02 -1.10106178e-01\n",
            " -1.56073213e-01  7.80287832e-02 -2.08458845e-02 -5.18157370e-02\n",
            " -2.77137339e-01 -3.29168022e-01  1.63227886e-01  4.62120771e-02\n",
            "  5.66499270e-02 -5.58415875e-02  1.03469819e-01 -8.58421698e-02\n",
            " -1.65617153e-01 -4.76126745e-03  6.04098663e-03  2.92073846e-01\n",
            "  2.87909865e-01  1.13211870e-01  9.29090232e-02  9.55865085e-02\n",
            "  3.27540100e-01  3.58910263e-02 -1.31680757e-01  1.93260968e-01\n",
            " -2.23634601e-01  3.93499695e-02  4.88280319e-02  2.02635881e-02\n",
            " -5.51975407e-02 -1.89493209e-01  2.20425278e-01 -3.09859037e-01\n",
            "  2.14705658e+00  3.24710667e-01  1.69817209e-02 -1.17416471e-01\n",
            "  8.25456381e-02  3.83930560e-03  2.50989888e-02  1.39142215e-01\n",
            " -1.73922300e-01  2.06376806e-01  6.34398013e-02  4.11201194e-02\n",
            "  5.63704595e-02  1.87803254e-01  3.90927374e-01  1.97747916e-01\n",
            " -1.56066567e-01 -3.28518003e-01 -4.39591110e-01 -2.47085989e-01\n",
            " -4.24004853e-01  9.64319929e-02  3.33646655e-01 -9.73026454e-02\n",
            "  4.17430811e-02  2.97637731e-02  4.37067710e-02  8.27742815e-02\n",
            " -1.05868593e-01  1.61992580e-01  4.19424474e-03 -8.30689669e-02\n",
            " -2.83362083e-02  2.30997801e-01 -1.36656344e-01  3.75146121e-02\n",
            "  8.69141743e-02 -2.97262669e-01 -1.24571390e-01  9.15702879e-02\n",
            "  4.77656648e-02 -2.83461869e-01  3.12444478e-01  2.32921690e-02\n",
            "  9.20660421e-02  2.49441192e-01 -1.45233884e-01 -1.21705152e-01\n",
            "  2.81232536e-01  3.44667643e-01 -8.62212628e-02  6.13301992e-04\n",
            " -2.02209800e-01  1.75900459e-01  8.01252201e-02 -3.07735473e-01\n",
            " -1.93604063e-02 -2.87369430e-01 -1.07517071e-01  7.34327808e-02\n",
            " -6.52288049e-02  1.23936385e-01  3.99189353e-01  1.90063655e-01\n",
            "  6.67349622e-02  1.69642866e-01 -2.24969000e-01  1.67129077e-02\n",
            " -8.10687914e-02 -6.23268187e-02 -2.81796865e-02  2.85024524e-01\n",
            "  3.22192669e-01  9.14179385e-02  2.15690702e-01  8.07569325e-02\n",
            "  3.62122655e-01  8.24090168e-02 -4.03727502e-01 -2.63619733e+00\n",
            "  5.41317314e-02  8.61222297e-02 -1.83848411e-01  7.38286646e-03\n",
            "  4.11774635e-01  2.43628919e-01 -1.46620587e-01  4.66630459e-02\n",
            " -1.08869798e-01  5.01649715e-02  3.31573218e-01  2.33170107e-01\n",
            "  1.90710604e-01  2.18549669e-01  1.79630995e-01  2.67459601e-01\n",
            " -9.57707763e-02 -1.11380756e-01 -6.82684183e-02 -1.36917055e-01\n",
            "  9.41824540e-02  7.47299045e-02 -1.63223103e-01 -7.24012852e-02\n",
            "  1.35144293e-01 -1.33608595e-01  2.94159539e-02  2.49525942e-02\n",
            "  1.30329311e-01 -3.26727688e-01  1.04415707e-01 -8.98759887e-02\n",
            " -8.67871344e-02  1.69601142e-01 -2.89380223e-01 -1.94889501e-01\n",
            " -6.38082176e-02  1.07325554e-01 -2.43677273e-02  2.06636861e-02\n",
            "  3.80937576e-01 -1.68795109e-01  3.13539430e-03  6.51242360e-02\n",
            " -1.47587135e-01  3.17008555e-01 -1.95092812e-01  2.61923879e-01\n",
            " -4.30463076e-01 -1.21995255e-01  1.22616187e-01  9.06329677e-02\n",
            " -6.12184890e-02  2.20866054e-01  1.35367125e-01  1.01810694e-01\n",
            " -1.40999451e-01  8.84498358e-02 -2.00357288e-01 -1.04998894e-01\n",
            " -6.73855096e-03  1.01175286e-01  1.51826292e-01  1.91500783e-01\n",
            " -1.66956052e-01 -7.97841698e-02  1.14172541e-01  6.06527552e-02\n",
            " -8.11647922e-02 -1.40669256e-01 -1.23200625e-01  1.86838254e-01\n",
            "  5.55176400e-02  2.37119734e-01  1.19640075e-01  3.63430142e-01\n",
            "  3.20328474e-01 -8.11265707e-02  8.77103359e-02 -2.03004293e-02\n",
            " -1.60561234e-01 -1.39728740e-01 -3.21745574e-02  6.57275617e-02\n",
            " -7.44959021e+00 -1.07069232e-01 -1.44999593e-01 -1.31965786e-01\n",
            "  1.41316906e-01 -5.11519611e-05  2.42436498e-01 -1.65900216e-01\n",
            " -3.65869626e-02 -1.12485364e-01  1.84867084e-01 -1.86574787e-01\n",
            " -3.81767116e-02  6.36302978e-02  4.46017295e-01  2.79634535e-01]\n"
          ],
          "name": "stdout"
        }
      ]
    }
  ]
}