{
  "nbformat": 4,
  "nbformat_minor": 0,
  "metadata": {
    "colab": {
      "name": "LinearRegression.ipynb",
      "provenance": [],
      "collapsed_sections": []
    },
    "kernelspec": {
      "display_name": "Python 3",
      "language": "python",
      "name": "python3"
    },
    "language_info": {
      "codemirror_mode": {
        "name": "ipython",
        "version": 3
      },
      "file_extension": ".py",
      "mimetype": "text/x-python",
      "name": "python",
      "nbconvert_exporter": "python",
      "pygments_lexer": "ipython3",
      "version": "3.6.8"
    }
  },
  "cells": [
    {
      "cell_type": "code",
      "metadata": {
        "colab_type": "code",
        "id": "4zsg-Ao8iW1q",
        "colab": {}
      },
      "source": [
        "import math\n",
        "import numpy as np\n",
        "from matplotlib import pyplot as plt"
      ],
      "execution_count": 1,
      "outputs": []
    },
    {
      "cell_type": "markdown",
      "metadata": {
        "colab_type": "text",
        "id": "r2SdbJ1wiW2I"
      },
      "source": [
        "# La méthode de régression linéaire\n",
        "\n",
        "La méthode de régression linéaire permet d'approximer au mieux une droite à un jeu de données. Cette idée peut être étendue dans le but d'approximer n'importe quelle courbe à un jeu de données. "
      ]
    },
    {
      "cell_type": "markdown",
      "metadata": {
        "colab_type": "text",
        "id": "0Ggifyj2iW2M"
      },
      "source": [
        "## Algèbre de base\n",
        "\n",
        "Une ligne peut être définie par l'équation d'une droite :\n",
        "\n",
        "$$y = a x + b$$\n",
        "\n",
        "$a$ est la pente, et $b$ est le point d'intersection avec l'axe des ordonnées. Etant donné deux points $A(x_1, y_1$) et $B(x_2, y_2$), nous avons deux équations avec deux inconnues. Il est alors possible de résoudre $a$ et $b$ à la main.\n",
        "\n",
        "Par exemple, considérons les deux points $A(2, 1)$ et $B(3, 3)$ :"
      ]
    },
    {
      "cell_type": "code",
      "metadata": {
        "colab_type": "code",
        "id": "5j1GUAsDiW2N",
        "colab": {
          "base_uri": "https://localhost:8080/",
          "height": 0
        },
        "outputId": "ff283922-505c-4e91-e430-b3d9a724e58a"
      },
      "source": [
        "(x1, y1) = (2, 1)\n",
        "(x2, y2) = (3, 3)\n",
        "\n",
        "plt.plot(x1, y1, 'ro')\n",
        "plt.plot(x2, y2, 'ro')\n",
        "plt.plot([x1, x2], [y1, y2])\n",
        "plt.show()"
      ],
      "execution_count": 2,
      "outputs": [
        {
          "output_type": "display_data",
          "data": {
            "image/png": "[encoded data removed]",
            "text/plain": [
              "<Figure size 432x288 with 1 Axes>"
            ]
          },
          "metadata": {
            "tags": [],
            "needs_background": "light"
          }
        }
      ]
    },
    {
      "cell_type": "markdown",
      "metadata": {
        "colab_type": "text",
        "id": "H-iswf-liW2W"
      },
      "source": [
        "Pour trouver les constantes $a$ et $b$ de l'équation de la droite, on peut écrire l'équation de la doite aux deux points $A(1,2)$ et $B(3,3)$ et ainsi obtenir deux équations :\n",
        "\n",
        "$$1 = 2 a + b$$\n",
        "\n",
        "$$3 = 3 a + b$$\n",
        "\n",
        "Il ne reste ensuite plus qu'à résoudre cette équation à deux inconnues, et on trouve les valeurs de $a$ et $b$ :\n",
        "\n",
        "$$a = 2$$\n",
        "\n",
        "$$b = -3$$\n",
        "\n",
        "Pour vérifier, dessinons la droite obtenue :"
      ]
    },
    {
      "cell_type": "code",
      "metadata": {
        "colab_type": "code",
        "id": "xEFZlrXHiW2c",
        "colab": {
          "base_uri": "https://localhost:8080/",
          "height": 0
        },
        "outputId": "6fd2292f-0ca3-489b-c359-69929c20ed9d"
      },
      "source": [
        "a = 2\n",
        "b = -3\n",
        "\n",
        "plt.plot(x1, y1, 'ro')\n",
        "plt.plot(x2, y2, 'ro')\n",
        "\n",
        "x= np.linspace(2.0,3.0,num=10)\n",
        "\n",
        "droite = a*x+b\n",
        "plt.plot(x, droite, color='blue', linewidth=0.5)\n",
        "\n",
        "plt.show()"
      ],
      "execution_count": 3,
      "outputs": [
        {
          "output_type": "display_data",
          "data": {
            "image/png": "[encoded data removed]",
            "text/plain": [
              "<Figure size 432x288 with 1 Axes>"
            ]
          },
          "metadata": {
            "tags": [],
            "needs_background": "light"
          }
        }
      ]
    },
    {
      "cell_type": "markdown",
      "metadata": {
        "colab_type": "text",
        "id": "XvrhjikLiW2r"
      },
      "source": [
        "## Algèbre Linéaire\n",
        "\n",
        "Le problème qu'on a vu peut être écrit à l'aide des outils mathématiques de [l'Algèbre Linéaire](https://fr.wikipedia.org/wiki/Alg%C3%A8bre_lin%C3%A9aire). Le système de deux équations à deux inconnues peut-être écrit sous forme matricielle :\n",
        "\n",
        "$$1 = 2 a + b$$\n",
        "\n",
        "$$3 = 3 a + b$$\n",
        "\n",
        "$$ \\begin{bmatrix}\n",
        "1 \\\\\n",
        "3\n",
        "\\end{bmatrix} = \\begin{bmatrix}\n",
        "2 & 1 \\\\\n",
        "3 & 1 \\\\\n",
        "\\end{bmatrix} \\begin{bmatrix}\n",
        "a \\\\\n",
        "b\n",
        "\\end{bmatrix}$$\n",
        "\n",
        "Ce qu'on peut écrire plus généralement sous forme d'une équation matricielle :\n",
        "\n",
        "$$y = A v$$\n",
        "\n",
        "$y$ et $v$ sont des vecteurs et $A$ est une matrice :\n",
        "\n",
        "$$y = \\begin{bmatrix}\n",
        "1 \\\\\n",
        "3\n",
        "\\end{bmatrix}$$\n",
        "\n",
        "$$v = \\begin{bmatrix}\n",
        "a \\\\\n",
        "b\n",
        "\\end{bmatrix}$$\n",
        "\n",
        "$$A = \\begin{bmatrix}\n",
        "2 & 1 \\\\\n",
        "3 & 1 \\\\\n",
        "\\end{bmatrix}$$"
      ]
    },
    {
      "cell_type": "markdown",
      "metadata": {
        "colab_type": "text",
        "id": "3k2UfDn6mZCh"
      },
      "source": [
        "Pour trouver $a$ et $b$, ce qui est équivalent à trouver le vecteur $v$, regardons comment on peut résoudre une simple équation comme :\n",
        "\n",
        "$$1 = 2 x$$\n",
        "\n",
        "On multiplie les deux côtés de l'équation par l'inverse de $2$, c'est-à-dire $2^{-1}$ :\n",
        "\n",
        "$$2^{-1} \\times 1 = 2^{-1} \\times 2 x$$\n",
        "\n",
        "Comme $2 \\times 2^{-1}$ = $1$, on a :\n",
        "\n",
        "$$x = \\frac{1}{2}$$"
      ]
    },
    {
      "cell_type": "markdown",
      "metadata": {
        "colab_type": "text",
        "id": "bnvw8jdNmJ_n"
      },
      "source": [
        "Par analogie, multiplier l'équation matricielle précédente par l'inverse de $A$, c'est-à-dire $A^{-1}$, des deux côtés amène à cela :\n",
        "\n",
        "$$y = A v$$\n",
        "\n",
        "$$A^{-1} y = A^{-1} A v$$\n",
        "\n",
        "La quantité $A^{-1} A$ est la [matrice identitée](https://fr.wikipedia.org/wiki/Matrice_identit%C3%A9), ainsi le vecteur $v$ devient :\n",
        "\n",
        "$$v = A^{-1} y$$\n",
        "\n",
        "NumPy contient des fonctions qui permettent de calculer l'inverse d'une matrice."
      ]
    },
    {
      "cell_type": "code",
      "metadata": {
        "colab_type": "code",
        "id": "g6tT2CyyiW2u",
        "colab": {}
      },
      "source": [
        "# Création d'une matrice 2x2\n",
        "\n",
        "A = np.array([[2, 1], [3, 1]])\n",
        "A"
      ],
      "execution_count": null,
      "outputs": []
    },
    {
      "cell_type": "code",
      "metadata": {
        "colab_type": "code",
        "id": "J4sIyI2riW3H",
        "colab": {}
      },
      "source": [
        "# Calcul de l'inverse de la matrice A\n",
        "\n",
        "Ainv = np.linalg.inv(A)\n",
        "Ainv"
      ],
      "execution_count": null,
      "outputs": []
    },
    {
      "cell_type": "code",
      "metadata": {
        "colab_type": "code",
        "id": "b9UDU_zejBKk",
        "colab": {}
      },
      "source": [
        "# Multiplions l'inverse de A avec A pour vérifier qu'on obtient bien la matrice identitée\n",
        "\n",
        "Ainv.dot(A)"
      ],
      "execution_count": null,
      "outputs": []
    },
    {
      "cell_type": "markdown",
      "metadata": {
        "colab_type": "text",
        "id": "oyg51fSKkiUO"
      },
      "source": [
        "On obtient bien les valeurs de la matrice identité avec quelques erreurs d'arrondis :\n",
        "\n",
        "$$A^{-1} A = I = \\begin{bmatrix}\n",
        "1 & 0 \\\\\n",
        "0 & 1 \\\\\n",
        "\\end{bmatrix}$$\n",
        "\n",
        "Multiplions le vecteur $y$ avec $A^{-1}$ afin de trouver le vecteur $v$ :"
      ]
    },
    {
      "cell_type": "code",
      "metadata": {
        "colab_type": "code",
        "id": "hDVQWHp0iW3P",
        "colab": {}
      },
      "source": [
        "y = np.array([1, 3])\n",
        "v = Ainv.dot(y)\n",
        "v"
      ],
      "execution_count": null,
      "outputs": []
    },
    {
      "cell_type": "markdown",
      "metadata": {
        "colab_type": "text",
        "id": "DMNWvWYdiW3U"
      },
      "source": [
        "On obtient le même résultat qu'avec la méthode non matricielle."
      ]
    },
    {
      "cell_type": "markdown",
      "metadata": {
        "colab_type": "text",
        "id": "5o93nuDjiW3a"
      },
      "source": [
        "## Avec davantage de données\n",
        "\n",
        "Considérons le cas où plus de deux points sont disponibles."
      ]
    },
    {
      "cell_type": "markdown",
      "metadata": {
        "colab_type": "text",
        "id": "CDHHRbFGiW3f"
      },
      "source": [
        "Si par exemple on a n points, on a dans ce cas $n$ abscisses, $x_1, x_2, ... x_n$ et $n$ ordonnées $y_1, y_2, ... y_n$. Un modèle linéaire simple est une droite et chaque point doit passer par la droite. On peut donc écrire les relations suivantes :\n",
        "$$\\left\\{\\begin{array}{}\n",
        "  y_1 = a x_1 + b\\\\\n",
        "  y_2 = a x_2 + b\\\\\n",
        "  y_3 = a x_3 + b\\\\\n",
        "  ...\\\\\n",
        "  y_n = a x_n + b\n",
        "  \\end{array}\n",
        "  \\right.\n",
        "$$  \n",
        "On se retrouve donc avec une système de $n$ équations à 2 inconnues ($a$ et $b$)."
      ]
    },
    {
      "cell_type": "markdown",
      "metadata": {
        "colab_type": "text",
        "id": "Ypf2XyvPiW3i"
      },
      "source": [
        "Cette relation peut être écrite sous forme matricielle :\n",
        "\n",
        "$$ \\begin{bmatrix}\n",
        "y_1 \\\\\n",
        "y_2 \\\\\n",
        "... \\\\\n",
        "y_n\n",
        "\\end{bmatrix} = \\begin{bmatrix}\n",
        "x_1 & 1 \\\\\n",
        "x_2 & 1 \\\\\n",
        "... \\\\\n",
        "x_n & 1\n",
        "\\end{bmatrix} \\begin{bmatrix}\n",
        "a \\\\\n",
        "b\n",
        "\\end{bmatrix}$$"
      ]
    },
    {
      "cell_type": "markdown",
      "metadata": {
        "colab_type": "text",
        "id": "iWX1OhUbiW3l"
      },
      "source": [
        "Introduisons les variables ci-dessous pour simplifier l'écriture :\n",
        "\n",
        "$$ y = \\begin{bmatrix}\n",
        "y_1 \\\\\n",
        "y_2 \\\\\n",
        "... \\\\\n",
        "y_n\n",
        "\\end{bmatrix}$$\n",
        "\n",
        "$$ A = \\begin{bmatrix}\n",
        "x_1 & 1 \\\\\n",
        "x_2 & 1 \\\\\n",
        "... \\\\\n",
        "x_n & 1\n",
        "\\end{bmatrix}$$\n",
        "\n",
        "$$ v = \\begin{bmatrix}\n",
        "a \\\\\n",
        "b\n",
        "\\end{bmatrix}$$"
      ]
    },
    {
      "cell_type": "markdown",
      "metadata": {
        "colab_type": "text",
        "id": "Odwv3wOKiW3r"
      },
      "source": [
        "Ainsi l'équation précédente peut s'écrire :\n",
        "\n",
        "$$ y = A v$$"
      ]
    },
    {
      "cell_type": "markdown",
      "metadata": {
        "colab_type": "text",
        "id": "_I9luAYriW34"
      },
      "source": [
        "Si $A$ est une matrice carrée (même nombre de lignes et de colone - par exemple si $n = 2$), $a$ et $b$ peuvent être déterminés de manière exacte :\n",
        "\n",
        "$$ \\begin{bmatrix}\n",
        "a \\\\\n",
        "b\n",
        "\\end{bmatrix} = v = A^{-1} y$$"
      ]
    },
    {
      "cell_type": "markdown",
      "metadata": {
        "colab_type": "text",
        "id": "e5chc6WPiW38"
      },
      "source": [
        "Dans le cas où $n > 2$, $A$ n'est plus une matrice carrée et elle ne peut pas être inversée. Une solution est de calculer sa matrice pseudo-inverse en multipliant la matrice $A$ par sa transposée $A^T$, ce qui permet d'obtenir une matrice carrée :\n",
        "\n",
        "$$ A^T y = (A^T A) v$$"
      ]
    },
    {
      "cell_type": "markdown",
      "metadata": {
        "colab_type": "text",
        "id": "2cn4xcP_iW3-"
      },
      "source": [
        "La matrice $(A^T A)$ à droite peut être éliminée en la multipliant par son inverse $(A^T A)^{-1}$:\n",
        "\n",
        "$$ (A^T A)^{-1} A^T y = (A^T A)^{-1} (A^T A) v$$"
      ]
    },
    {
      "cell_type": "markdown",
      "metadata": {
        "id": "9n0Ick5KY79s",
        "colab_type": "text"
      },
      "source": [
        "Le terme $(A^T A)^{-1} (A^T A)$ se simplifie car il est égal à la matrice unitée : $(A^T A)^{-1} (A^T A) = I$"
      ]
    },
    {
      "cell_type": "markdown",
      "metadata": {
        "colab_type": "text",
        "id": "k66t8jmziW4B"
      },
      "source": [
        "Après simplification on obtient $a$ et $b$:\n",
        "\n",
        "$$ v = \\begin{bmatrix}\n",
        "a \\\\\n",
        "b\n",
        "\\end{bmatrix} = (A^T A)^{-1} A^T y$$"
      ]
    },
    {
      "cell_type": "markdown",
      "metadata": {
        "id": "44lhbr3Qunet",
        "colab_type": "text"
      },
      "source": [
        "## Exemple numérique\n",
        "\n",
        "L'exemple suivant utlise des valeurs réelles."
      ]
    },
    {
      "cell_type": "code",
      "metadata": {
        "id": "UFEpgTCOunet",
        "colab_type": "code",
        "colab": {
          "base_uri": "https://localhost:8080/",
          "height": 265
        },
        "outputId": "a8aa25d3-396a-4cfc-8296-4b4464b4e669"
      },
      "source": [
        "x = np.array([-0.40033681,  1.12710083,  1.51535892,  3.13012734,  3.07744676,\n",
        "        4.25275393,  6.535855  ,  4.23343874,  8.048823  ,  7.38773014,\n",
        "        9.91933651, 12.69142755, 11.61959316, 12.20667906, 13.98048109,\n",
        "       16.07602619, 16.31351797, 17.31102756, 17.74511659, 17.66863483])\n",
        "\n",
        "y = np.array([ 0.7261771 ,  2.86206199, -0.2489528 ,  0.63325248,  4.49244568,\n",
        "        5.30531409, 13.6101148 ,  8.48395548, 10.42996366, 14.74172737,\n",
        "       15.88897483, 23.76571743, 23.61602269, 20.17880228, 25.85779471,\n",
        "       30.11114371, 26.88735809, 28.57977723, 30.99383456, 33.03676545])\n",
        "\n",
        "plt.scatter(x, y, color='red')\n",
        "plt.show()"
      ],
      "execution_count": 22,
      "outputs": [
        {
          "output_type": "display_data",
          "data": {
            "image/png": "[encoded data removed]",
            "text/plain": [
              "<Figure size 432x288 with 1 Axes>"
            ]
          },
          "metadata": {
            "tags": [],
            "needs_background": "light"
          }
        }
      ]
    },
    {
      "cell_type": "markdown",
      "metadata": {
        "id": "6IzL_QgQuney",
        "colab_type": "text"
      },
      "source": [
        "On commence par créer la matrice A sous la forme :\n",
        "\n",
        "$$A = \\begin{bmatrix}\n",
        "x_1 & 1 \\\\\n",
        "x_2 & 1 \\\\\n",
        "... \\\\\n",
        "x_n & 1\n",
        "\\end{bmatrix}$$"
      ]
    },
    {
      "cell_type": "code",
      "metadata": {
        "id": "39X7nr0puney",
        "colab_type": "code",
        "colab": {
          "base_uri": "https://localhost:8080/",
          "height": 364
        },
        "outputId": "b60ff56e-d4f5-4fb9-ccf9-2e2a8a077b92"
      },
      "source": [
        "x_colones = x.reshape((-1, 1))\n",
        "ones = np.ones((len(x), 1))\n",
        "A = np.append(x_colones, ones, axis=1)\n",
        "A"
      ],
      "execution_count": 25,
      "outputs": [
        {
          "output_type": "execute_result",
          "data": {
            "text/plain": [
              "array([[-0.40033681,  1.        ],\n",
              "       [ 1.12710083,  1.        ],\n",
              "       [ 1.51535892,  1.        ],\n",
              "       [ 3.13012734,  1.        ],\n",
              "       [ 3.07744676,  1.        ],\n",
              "       [ 4.25275393,  1.        ],\n",
              "       [ 6.535855  ,  1.        ],\n",
              "       [ 4.23343874,  1.        ],\n",
              "       [ 8.048823  ,  1.        ],\n",
              "       [ 7.38773014,  1.        ],\n",
              "       [ 9.91933651,  1.        ],\n",
              "       [12.69142755,  1.        ],\n",
              "       [11.61959316,  1.        ],\n",
              "       [12.20667906,  1.        ],\n",
              "       [13.98048109,  1.        ],\n",
              "       [16.07602619,  1.        ],\n",
              "       [16.31351797,  1.        ],\n",
              "       [17.31102756,  1.        ],\n",
              "       [17.74511659,  1.        ],\n",
              "       [17.66863483,  1.        ]])"
            ]
          },
          "metadata": {
            "tags": []
          },
          "execution_count": 25
        }
      ]
    },
    {
      "cell_type": "markdown",
      "metadata": {
        "id": "tUQixkcjune2",
        "colab_type": "text"
      },
      "source": [
        "On calcule ensuite la matrice pseudo-inverse de $A$ : $(A^TA)^{-1}$, et on la multiplie par $A^T$:\n",
        "\n",
        "$$(A^T A)^{-1} A^T$$"
      ]
    },
    {
      "cell_type": "code",
      "metadata": {
        "id": "lD6wzYw7une3",
        "colab_type": "code",
        "colab": {
          "base_uri": "https://localhost:8080/",
          "height": 156
        },
        "outputId": "a2bfb1b8-65e6-45e1-e918-a9eb8237fba6"
      },
      "source": [
        "At = A.T\n",
        "pseudo_inv = np.linalg.inv(At.dot(A)).dot(At)\n",
        "pseudo_inv"
      ],
      "execution_count": 26,
      "outputs": [
        {
          "output_type": "execute_result",
          "data": {
            "text/plain": [
              "array([[-0.01354453, -0.01139449, -0.01084797, -0.008575  , -0.00864916,\n",
              "        -0.00699478, -0.00378106, -0.00702197, -0.00165139, -0.00258195,\n",
              "         0.00098157,  0.0048836 ,  0.00337487,  0.00420126,  0.00669809,\n",
              "         0.0096478 ,  0.0099821 ,  0.01138621,  0.01199723,  0.01188958],\n",
              "       [ 0.17490775,  0.15508006,  0.15004008,  0.12907875,  0.1297626 ,\n",
              "         0.11450593,  0.08486897,  0.11475666,  0.06522911,  0.07381077,\n",
              "         0.04094796,  0.00496341,  0.01887691,  0.01125594, -0.0117698 ,\n",
              "        -0.0389721 , -0.04205498, -0.05500366, -0.06063858, -0.05964577]])"
            ]
          },
          "metadata": {
            "tags": []
          },
          "execution_count": 26
        }
      ]
    },
    {
      "cell_type": "markdown",
      "metadata": {
        "id": "HJ1rETbWune8",
        "colab_type": "text"
      },
      "source": [
        "On calcule ensuite $a$ et $b$ en multipliant le résultat précédent par $y$ :\n",
        "\n",
        "$$\\begin{bmatrix}\n",
        "a \\\\\n",
        "b\n",
        "\\end{bmatrix} = (A^T A)^{-1} A^T y$$"
      ]
    },
    {
      "cell_type": "markdown",
      "metadata": {
        "id": "m0YHrkkiarQa",
        "colab_type": "text"
      },
      "source": [
        "Regardons sur un graphique l'allure de la droite obtenue par rapport à la position des points :"
      ]
    },
    {
      "cell_type": "code",
      "metadata": {
        "id": "ikaBgsVlune8",
        "colab_type": "code",
        "colab": {
          "base_uri": "https://localhost:8080/",
          "height": 265
        },
        "outputId": "66850eb6-0290-4d8f-97cc-a2c460cccdf9"
      },
      "source": [
        "(a, b) = pseudo_inv.dot(y)\n",
        "\n",
        "x_points = [0, 20]\n",
        "y_points = [a*x + b for x in x_points]\n",
        "plt.scatter(x, y, color='red')\n",
        "plt.plot(x_points, y_points)\n",
        "plt.show()"
      ],
      "execution_count": 27,
      "outputs": [
        {
          "output_type": "display_data",
          "data": {
            "image/png": "[encoded data removed]",
            "text/plain": [
              "<Figure size 432x288 with 1 Axes>"
            ]
          },
          "metadata": {
            "tags": [],
            "needs_background": "light"
          }
        }
      ]
    },
    {
      "cell_type": "markdown",
      "metadata": {
        "colab_type": "text",
        "id": "mBwXIYeFiW4D"
      },
      "source": [
        "## Précision du modèle obtenu\n",
        "\n",
        "La précision du modèle obtenu peut être mesurée en calculant l'erreur quadratique moyenne entre les valeurs prédites et les valeurs obtenues par le modèle.  \n",
        "Pour cela, on calcule l'écart au carré entre la valeur que donne le modèle pour chaque point et la valeur vraie :  \n",
        "  \n",
        "  Erreur pour le point n°1 : $\\epsilon_1 = ((ax_1+b) - y_1)^2$  \n",
        "  Erreur pour le point n°2 : $\\epsilon_2 = ((ax_2+b) - y_2)^2$  \n",
        "  ...  \n",
        "  Erreur pour le point n°n : $\\epsilon_n = ((ax_n+b) - y_n)^2$  \n",
        "\n",
        "Puis on ajoute toutes les erreurs et on calcule la moyenne. On obtient l'erreur quadratique moyenne :\n",
        "$$ \\epsilon = \\frac{1}{n} \\sum_{i=1}^{n} (a x_i + b - y_i)^2 $$\n",
        "\n"
      ]
    },
    {
      "cell_type": "code",
      "metadata": {
        "id": "mZBsNmknunfC",
        "colab_type": "code",
        "colab": {
          "base_uri": "https://localhost:8080/",
          "height": 35
        },
        "outputId": "9798f677-5441-4874-d9af-3d942d5f5cf0"
      },
      "source": [
        "epsilon = ((a*x + b - y)**2).mean()     # Calcule la variance (erreur quadratique moyenne)\n",
        "math.sqrt(epsilon)                      # Calcule l'écart type"
      ],
      "execution_count": 31,
      "outputs": [
        {
          "output_type": "execute_result",
          "data": {
            "text/plain": [
              "2.125412002520472"
            ]
          },
          "metadata": {
            "tags": []
          },
          "execution_count": 31
        }
      ]
    },
    {
      "cell_type": "markdown",
      "metadata": {
        "id": "-uhkn8kCcxz9",
        "colab_type": "text"
      },
      "source": [
        "L'erreur calculée vaut environ 2.13. Cela signifie que les points se situent dans un intervalle de $\\pm$ 2.13 autour de la droite approximée.  \n",
        "Regardons cela sous forme d'un graphique :"
      ]
    },
    {
      "cell_type": "code",
      "metadata": {
        "colab_type": "code",
        "id": "KxGymD2odH4S",
        "colab": {
          "base_uri": "https://localhost:8080/",
          "height": 265
        },
        "outputId": "08d885a5-965a-4bb4-b0cd-cdd5da917674"
      },
      "source": [
        "(a, b) = pseudo_inv.dot(y)\n",
        "\n",
        "x_points = [0, 20]\n",
        "y_points = [a*x + b for x in x_points]\n",
        "\n",
        "intervalle_haut = [a*x + b+epsilon for x in x_points]\n",
        "intervalle_bas = [a*x + b-epsilon for x in x_points]\n",
        "\n",
        "plt.scatter(x, y, color='red')\n",
        "plt.plot(x_points, y_points)\n",
        "plt.plot(x_points, intervalle_haut,color='green')\n",
        "plt.plot(x_points, intervalle_bas,color='green')\n",
        "plt.show()"
      ],
      "execution_count": 32,
      "outputs": [
        {
          "output_type": "display_data",
          "data": {
            "image/png": "[encoded data removed]",
            "text/plain": [
              "<Figure size 432x288 with 1 Axes>"
            ]
          },
          "metadata": {
            "tags": [],
            "needs_background": "light"
          }
        }
      ]
    },
    {
      "cell_type": "markdown",
      "metadata": {
        "colab_type": "text",
        "id": "W0Uep79MiW4G"
      },
      "source": [
        "## Extension du modèle\n",
        "\n",
        "Dans le cas où une droite n'approxime pas correctement les données, un modèle plus complexe peut être utlisé. Par exemple, un modèle quadratique utilise une parabole :\n",
        "\n",
        "$$ y_i = a {x_i}^2 + b x_i + c$$"
      ]
    },
    {
      "cell_type": "markdown",
      "metadata": {
        "colab_type": "text",
        "id": "n46ouDjdiW4J"
      },
      "source": [
        "Sous forme matricielle :\n",
        "\n",
        "$$ \\begin{bmatrix}\n",
        "y_1 \\\\\n",
        "y_2 \\\\\n",
        "... \\\\\n",
        "y_n\n",
        "\\end{bmatrix} = \\begin{bmatrix}\n",
        "{x_1}^2 & x_1 & 1 \\\\\n",
        "{x_2}^2 & x_2 & 1 \\\\\n",
        "... \\\\\n",
        "{x_n}^2 & x_n & 1\n",
        "\\end{bmatrix} \\begin{bmatrix}\n",
        "a \\\\\n",
        "b \\\\\n",
        "c\n",
        "\\end{bmatrix}$$"
      ]
    },
    {
      "cell_type": "markdown",
      "metadata": {
        "colab_type": "text",
        "id": "CNpclVMYiW4M"
      },
      "source": [
        "Dans ce cas, la matrice $A$ est :\n",
        "\n",
        "$$ A = \\begin{bmatrix}\n",
        "{x_1}^2 & x_1 & 1 \\\\\n",
        "{x_2}^2 & x_2 & 1 \\\\\n",
        "... \\\\\n",
        "{x_n}^2 & x_n & 1\n",
        "\\end{bmatrix}$$"
      ]
    },
    {
      "cell_type": "markdown",
      "metadata": {
        "colab_type": "text",
        "id": "ZROSo4zmiW4O"
      },
      "source": [
        "Et on peut calculer les coefficients $a$, $b$, et $c$ en utlisant la matrice pseudo-inverse de $A$ :\n",
        "\n",
        "$$ \\begin{bmatrix}\n",
        "a \\\\\n",
        "b \\\\\n",
        "c\n",
        "\\end{bmatrix} = (A^T A)^{-1} A^T y$$"
      ]
    }
  ]
}