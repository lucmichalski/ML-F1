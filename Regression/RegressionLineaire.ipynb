{
  "nbformat": 4,
  "nbformat_minor": 0,
  "metadata": {
    "colab": {
      "name": "LinearRegression.ipynb",
      "provenance": [],
      "collapsed_sections": []
    },
    "kernelspec": {
      "display_name": "Python 3",
      "language": "python",
      "name": "python3"
    },
    "language_info": {
      "codemirror_mode": {
        "name": "ipython",
        "version": 3
      },
      "file_extension": ".py",
      "mimetype": "text/x-python",
      "name": "python",
      "nbconvert_exporter": "python",
      "pygments_lexer": "ipython3",
      "version": "3.6.8"
    }
  },
  "cells": [
    {
      "cell_type": "code",
      "metadata": {
        "colab_type": "code",
        "id": "4zsg-Ao8iW1q",
        "colab": {}
      },
      "source": [
        "import math\n",
        "import numpy as np\n",
        "from matplotlib import pyplot as plt"
      ],
      "execution_count": 1,
      "outputs": []
    },
    {
      "cell_type": "markdown",
      "metadata": {
        "colab_type": "text",
        "id": "r2SdbJ1wiW2I"
      },
      "source": [
        "# La méthode de régression linéaire\n",
        "\n",
        "La méthode de régression linéaire permet d'approximer au mieux une droite à un jeu de données. Cette idée peut être étendue dans le but d'approximer n'importe quelle courbe à un jeu de données. "
      ]
    },
    {
      "cell_type": "markdown",
      "metadata": {
        "colab_type": "text",
        "id": "0Ggifyj2iW2M"
      },
      "source": [
        "## Algèbre de base\n",
        "\n",
        "Une ligne peut être définie par l'équation d'une droite :\n",
        "\n",
        "$$y = a x + b$$\n",
        "\n",
        "$a$ est la pente, et $b$ est le point d'intersection avec l'axe des ordonnées. Etant donné deux points $A(x_1, y_1$) et $B(x_2, y_2$), nous avons deux équations avec deux inconnues. Il est alors possible de résoudre $a$ et $b$ à la main.\n",
        "\n",
        "Par exemple, considérons les deux points $A(2, 1)$ et $B(3, 3)$ :"
      ]
    },
    {
      "cell_type": "code",
      "metadata": {
        "colab_type": "code",
        "id": "5j1GUAsDiW2N",
        "colab": {
          "base_uri": "https://localhost:8080/",
          "height": 265
        },
        "outputId": "a3837f4b-0396-41fc-8350-b3460c732baf"
      },
      "source": [
        "(x1, y1) = (2, 1)\n",
        "(x2, y2) = (3, 3)\n",
        "\n",
        "plt.plot(x1, y1, 'ro')\n",
        "plt.plot(x2, y2, 'ro')\n",
        "plt.plot([x1, x2], [y1, y2])\n",
        "plt.show()"
      ],
      "execution_count": 2,
      "outputs": [
        {
          "output_type": "display_data",
          "data": {
            "image/png": "[encoded data removed]",
            "text/plain": [
              "<Figure size 432x288 with 1 Axes>"
            ]
          },
          "metadata": {
            "tags": [],
            "needs_background": "light"
          }
        }
      ]
    },
    {
      "cell_type": "markdown",
      "metadata": {
        "colab_type": "text",
        "id": "H-iswf-liW2W"
      },
      "source": [
        "Pour trouver les constantes $a$ et $b$ de l'équation de la droite, on peut écrire l'équation de la doite aux deux points $A(1,2)$ et $B(3,3)$ et ainsi obtenir deux équations :\n",
        "\n",
        "$$1 = 2 a + b$$\n",
        "\n",
        "$$3 = 3 a + b$$\n",
        "\n",
        "Il ne reste ensuite plus qu'à résoudre cette équation à deux inconnues, et on trouve les valeurs de $a$ et $b$ :\n",
        "\n",
        "$$a = 2$$\n",
        "\n",
        "$$b = -3$$\n",
        "\n",
        "Pour vérifier, dessinons la droite obtenue :"
      ]
    },
    {
      "cell_type": "code",
      "metadata": {
        "colab_type": "code",
        "id": "xEFZlrXHiW2c",
        "colab": {
          "base_uri": "https://localhost:8080/",
          "height": 265
        },
        "outputId": "559f07ea-7c38-4499-ef66-5469657ac603"
      },
      "source": [
        "a = 2\n",
        "b = -3\n",
        "\n",
        "plt.plot(x1, y1, 'ro')\n",
        "plt.plot(x2, y2, 'ro')\n",
        "\n",
        "x= np.linspace(2.0,3.0,num=10)\n",
        "\n",
        "droite = a*x+b\n",
        "plt.plot(x, droite, color='blue', linewidth=0.5)\n",
        "\n",
        "plt.show()"
      ],
      "execution_count": 3,
      "outputs": [
        {
          "output_type": "display_data",
          "data": {
            "image/png": "[encoded data removed]",
            "text/plain": [
              "<Figure size 432x288 with 1 Axes>"
            ]
          },
          "metadata": {
            "tags": [],
            "needs_background": "light"
          }
        }
      ]
    },
    {
      "cell_type": "markdown",
      "metadata": {
        "colab_type": "text",
        "id": "XvrhjikLiW2r"
      },
      "source": [
        "## Algèbre Linéaire\n",
        "\n",
        "Le problème qu'on a vu peut être écrit à l'aide des outils mathématiques de [l'Algèbre Linéaire](https://fr.wikipedia.org/wiki/Alg%C3%A8bre_lin%C3%A9aire). Le système de deux équations à deux inconnues peut-être écrit sous forme matricielle :\n",
        "\n",
        "$$1 = 2 a + b$$\n",
        "\n",
        "$$3 = 3 a + b$$\n",
        "\n",
        "$$ \\begin{bmatrix}\n",
        "1 \\\\\n",
        "3\n",
        "\\end{bmatrix} = \\begin{bmatrix}\n",
        "2 & 1 \\\\\n",
        "3 & 1 \\\\\n",
        "\\end{bmatrix} \\begin{bmatrix}\n",
        "a \\\\\n",
        "b\n",
        "\\end{bmatrix}$$\n",
        "\n",
        "Ce qu'on peut écrire plus généralement sous forme d'une équation matricielle :\n",
        "\n",
        "$$y = A v$$\n",
        "\n",
        "$y$ et $v$ sont des vecteurs et $A$ est une matrice :\n",
        "\n",
        "$$y = \\begin{bmatrix}\n",
        "1 \\\\\n",
        "3\n",
        "\\end{bmatrix}$$\n",
        "\n",
        "$$v = \\begin{bmatrix}\n",
        "a \\\\\n",
        "b\n",
        "\\end{bmatrix}$$\n",
        "\n",
        "$$A = \\begin{bmatrix}\n",
        "2 & 1 \\\\\n",
        "3 & 1 \\\\\n",
        "\\end{bmatrix}$$"
      ]
    },
    {
      "cell_type": "markdown",
      "metadata": {
        "colab_type": "text",
        "id": "3k2UfDn6mZCh"
      },
      "source": [
        "Pour trouver $a$ et $b$, ce qui est équivalent à trouver le vecteur $v$, regardons comment on peut résoudre une simple équation comme :\n",
        "\n",
        "$$1 = 2 x$$\n",
        "\n",
        "On multiplie les deux côtés de l'équation par l'inverse de $2$, c'est-à-dire $2^{-1}$ :\n",
        "\n",
        "$$2^{-1} \\times 1 = 2^{-1} \\times 2 x$$\n",
        "\n",
        "Comme $2 \\times 2^{-1}$ = $1$, on a :\n",
        "\n",
        "$$x = \\frac{1}{2}$$"
      ]
    },
    {
      "cell_type": "markdown",
      "metadata": {
        "colab_type": "text",
        "id": "bnvw8jdNmJ_n"
      },
      "source": [
        "Par analogie, multiplier l'équation matricielle précédente par l'inverse de $A$, c'est-à-dire $A^{-1}$, des deux côtés amène à cela :\n",
        "\n",
        "$$y = A v$$\n",
        "\n",
        "$$A^{-1} y = A^{-1} A v$$\n",
        "\n",
        "La quantité $A^{-1} A$ est la [matrice identitée](https://fr.wikipedia.org/wiki/Matrice_identit%C3%A9), ainsi le vecteur $v$ devient :\n",
        "\n",
        "$$v = A^{-1} y$$\n",
        "\n",
        "NumPy contient des fonctions qui permettent de calculer l'inverse d'une matrice."
      ]
    },
    {
      "cell_type": "code",
      "metadata": {
        "colab_type": "code",
        "id": "g6tT2CyyiW2u",
        "colab": {
          "base_uri": "https://localhost:8080/",
          "height": 52
        },
        "outputId": "26f16b78-62db-44ad-fd51-a4a230956322"
      },
      "source": [
        "# Création d'une matrice 2x2\n",
        "\n",
        "A = np.array([[2, 1], [3, 1]])\n",
        "A"
      ],
      "execution_count": 4,
      "outputs": [
        {
          "output_type": "execute_result",
          "data": {
            "text/plain": [
              "array([[2, 1],\n",
              "       [3, 1]])"
            ]
          },
          "metadata": {
            "tags": []
          },
          "execution_count": 4
        }
      ]
    },
    {
      "cell_type": "code",
      "metadata": {
        "colab_type": "code",
        "id": "J4sIyI2riW3H",
        "colab": {
          "base_uri": "https://localhost:8080/",
          "height": 52
        },
        "outputId": "fb62aafb-ca18-420b-e1a3-8e20c5824688"
      },
      "source": [
        "# Calcul de l'inverse de la matrice A\n",
        "\n",
        "Ainv = np.linalg.inv(A)\n",
        "Ainv"
      ],
      "execution_count": 5,
      "outputs": [
        {
          "output_type": "execute_result",
          "data": {
            "text/plain": [
              "array([[-1.,  1.],\n",
              "       [ 3., -2.]])"
            ]
          },
          "metadata": {
            "tags": []
          },
          "execution_count": 5
        }
      ]
    },
    {
      "cell_type": "code",
      "metadata": {
        "colab_type": "code",
        "id": "b9UDU_zejBKk",
        "colab": {
          "base_uri": "https://localhost:8080/",
          "height": 52
        },
        "outputId": "1e4238a3-3302-4b00-9409-363fa45e10d2"
      },
      "source": [
        "# Multiplions l'inverse de A avec A pour vérifier qu'on obtient bien la matrice identitée\n",
        "\n",
        "Ainv.dot(A)"
      ],
      "execution_count": 7,
      "outputs": [
        {
          "output_type": "execute_result",
          "data": {
            "text/plain": [
              "array([[1.0000000e+00, 0.0000000e+00],\n",
              "       [4.4408921e-16, 1.0000000e+00]])"
            ]
          },
          "metadata": {
            "tags": []
          },
          "execution_count": 7
        }
      ]
    },
    {
      "cell_type": "markdown",
      "metadata": {
        "colab_type": "text",
        "id": "oyg51fSKkiUO"
      },
      "source": [
        "On obtient bien les valeurs de la matrice identité avec quelques erreurs d'arrondis :\n",
        "\n",
        "$$A^{-1} A = I = \\begin{bmatrix}\n",
        "1 & 0 \\\\\n",
        "0 & 1 \\\\\n",
        "\\end{bmatrix}$$\n",
        "\n",
        "Multiplions le vecteur $y$ avec $A^{-1}$ afin de trouver le vecteur $v$ :"
      ]
    },
    {
      "cell_type": "code",
      "metadata": {
        "colab_type": "code",
        "id": "hDVQWHp0iW3P",
        "colab": {
          "base_uri": "https://localhost:8080/",
          "height": 35
        },
        "outputId": "6b665412-7bc0-4275-9cc0-62371f4bb8ed"
      },
      "source": [
        "y = np.array([1, 3])\n",
        "v = Ainv.dot(y)\n",
        "v"
      ],
      "execution_count": 6,
      "outputs": [
        {
          "output_type": "execute_result",
          "data": {
            "text/plain": [
              "array([ 2., -3.])"
            ]
          },
          "metadata": {
            "tags": []
          },
          "execution_count": 6
        }
      ]
    },
    {
      "cell_type": "markdown",
      "metadata": {
        "colab_type": "text",
        "id": "DMNWvWYdiW3U"
      },
      "source": [
        "On obtient le même résultat qu'avec la méthode non matricielle."
      ]
    },
    {
      "cell_type": "markdown",
      "metadata": {
        "colab_type": "text",
        "id": "5o93nuDjiW3a"
      },
      "source": [
        "## Avec davantage de données\n",
        "\n",
        "Considérons le cas où plus de deux points sont disponibles."
      ]
    },
    {
      "cell_type": "markdown",
      "metadata": {
        "colab_type": "text",
        "id": "CDHHRbFGiW3f"
      },
      "source": [
        "Given a set of samples, $x_1, x_2, ... x_n$ and $y_1, y_2, ... y_n$, a simple linear model can be written as:\n",
        "\n",
        "$$ y_i = a x_i + b$$"
      ]
    },
    {
      "cell_type": "markdown",
      "metadata": {
        "colab_type": "text",
        "id": "Ypf2XyvPiW3i"
      },
      "source": [
        "This can be rewritten in matrix form:\n",
        "\n",
        "$$ \\begin{bmatrix}\n",
        "y_1 \\\\\n",
        "y_2 \\\\\n",
        "... \\\\\n",
        "y_n\n",
        "\\end{bmatrix} = \\begin{bmatrix}\n",
        "x_1 & 1 \\\\\n",
        "x_2 & 1 \\\\\n",
        "... \\\\\n",
        "x_n & 1\n",
        "\\end{bmatrix} \\begin{bmatrix}\n",
        "a \\\\\n",
        "b\n",
        "\\end{bmatrix}$$"
      ]
    },
    {
      "cell_type": "markdown",
      "metadata": {
        "colab_type": "text",
        "id": "iWX1OhUbiW3l"
      },
      "source": [
        "Introduce variables for simplification:\n",
        "\n",
        "$$ y = \\begin{bmatrix}\n",
        "y_1 \\\\\n",
        "y_2 \\\\\n",
        "... \\\\\n",
        "y_n\n",
        "\\end{bmatrix}$$\n",
        "\n",
        "$$ A = \\begin{bmatrix}\n",
        "x_1 & 1 \\\\\n",
        "x_2 & 1 \\\\\n",
        "... \\\\\n",
        "x_n & 1\n",
        "\\end{bmatrix}$$\n",
        "\n",
        "$$ v = \\begin{bmatrix}\n",
        "a \\\\\n",
        "b\n",
        "\\end{bmatrix}$$"
      ]
    },
    {
      "cell_type": "markdown",
      "metadata": {
        "colab_type": "text",
        "id": "Odwv3wOKiW3r"
      },
      "source": [
        "Substitute variables above to produce a simplifed form:\n",
        "\n",
        "$$ y = A v$$"
      ]
    },
    {
      "cell_type": "markdown",
      "metadata": {
        "colab_type": "text",
        "id": "_I9luAYriW34"
      },
      "source": [
        "If $A$ is a square matrix, i.e. $n = 2$, $a$ and $b$ can be determined exactly:\n",
        "\n",
        "$$ \\begin{bmatrix}\n",
        "a \\\\\n",
        "b\n",
        "\\end{bmatrix} = v = A^{-1} y$$"
      ]
    },
    {
      "cell_type": "markdown",
      "metadata": {
        "colab_type": "text",
        "id": "e5chc6WPiW38"
      },
      "source": [
        "In the case where $n > 2$, $A$ is not square and cannot be inverted. One solution is to compute a pseudo-inverse by multiplying $A$ by it's transpose $A^T$, which will yield a square matrix on the right hand side:\n",
        "\n",
        "$$ A^T y = A^T A v$$"
      ]
    },
    {
      "cell_type": "markdown",
      "metadata": {
        "colab_type": "text",
        "id": "2cn4xcP_iW3-"
      },
      "source": [
        "The matrix $A^T A$ on the right can be eliminated by multiplying by it's inverse $(A^T A)^{-1}$:\n",
        "\n",
        "$$ (A^T A)^{-1} A^T y = (A^T A)^{-1} (A^T A) v$$"
      ]
    },
    {
      "cell_type": "markdown",
      "metadata": {
        "colab_type": "text",
        "id": "k66t8jmziW4B"
      },
      "source": [
        "Simplifying yields the result for $a$ and $b$:\n",
        "\n",
        "$$ v = \\begin{bmatrix}\n",
        "a \\\\\n",
        "b\n",
        "\\end{bmatrix} = (A^T A)^{-1} A^T y$$"
      ]
    },
    {
      "cell_type": "markdown",
      "metadata": {
        "id": "44lhbr3Qunet",
        "colab_type": "text"
      },
      "source": [
        "## Exemple numérique\n",
        "\n",
        "L'exemple suivant utlise des valeurs réelles."
      ]
    },
    {
      "cell_type": "code",
      "metadata": {
        "id": "UFEpgTCOunet",
        "colab_type": "code",
        "colab": {}
      },
      "source": [
        "x = np.array([-0.40033681,  1.12710083,  1.51535892,  3.13012734,  3.07744676,\n",
        "        4.25275393,  6.535855  ,  4.23343874,  8.048823  ,  7.38773014,\n",
        "        9.91933651, 12.69142755, 11.61959316, 12.20667906, 13.98048109,\n",
        "       16.07602619, 16.31351797, 17.31102756, 17.74511659, 17.66863483])\n",
        "\n",
        "y = np.array([ 0.7261771 ,  2.86206199, -0.2489528 ,  0.63325248,  4.49244568,\n",
        "        5.30531409, 13.6101148 ,  8.48395548, 10.42996366, 14.74172737,\n",
        "       15.88897483, 23.76571743, 23.61602269, 20.17880228, 25.85779471,\n",
        "       30.11114371, 26.88735809, 28.57977723, 30.99383456, 33.03676545])\n",
        "\n",
        "plt.scatter(x, y, color='red')\n",
        "plt.show()"
      ],
      "execution_count": null,
      "outputs": []
    },
    {
      "cell_type": "markdown",
      "metadata": {
        "id": "6IzL_QgQuney",
        "colab_type": "text"
      },
      "source": [
        "Prepare matrix A of the form\n",
        "\n",
        "$$A = \\begin{bmatrix}\n",
        "x_1 & 1 \\\\\n",
        "x_2 & 1 \\\\\n",
        "... \\\\\n",
        "x_n & 1\n",
        "\\end{bmatrix}$$"
      ]
    },
    {
      "cell_type": "code",
      "metadata": {
        "id": "39X7nr0puney",
        "colab_type": "code",
        "colab": {}
      },
      "source": [
        "x_matrix = x.reshape((-1, 1))\n",
        "ones = np.ones((len(x), 1))\n",
        "A = np.append(x_matrix, ones, axis=1)\n",
        "A"
      ],
      "execution_count": null,
      "outputs": []
    },
    {
      "cell_type": "markdown",
      "metadata": {
        "id": "tUQixkcjune2",
        "colab_type": "text"
      },
      "source": [
        "Compute the pseudo-inverse\n",
        "\n",
        "$$(A^T A)^{-1} A^T$$"
      ]
    },
    {
      "cell_type": "code",
      "metadata": {
        "id": "lD6wzYw7une3",
        "colab_type": "code",
        "colab": {}
      },
      "source": [
        "At = A.T\n",
        "pseudo_inv = np.linalg.inv(At.dot(A)).dot(At)\n",
        "pseudo_inv"
      ],
      "execution_count": null,
      "outputs": []
    },
    {
      "cell_type": "markdown",
      "metadata": {
        "id": "HJ1rETbWune8",
        "colab_type": "text"
      },
      "source": [
        "Compute $a$ and $b$ by multiplying the pseudo-inverse times $y$\n",
        "\n",
        "$$\\begin{bmatrix}\n",
        "a \\\\\n",
        "b\n",
        "\\end{bmatrix} = (A^T A)^{-1} A^T y$$"
      ]
    },
    {
      "cell_type": "code",
      "metadata": {
        "id": "ikaBgsVlune8",
        "colab_type": "code",
        "colab": {}
      },
      "source": [
        "(a, b) = pseudo_inv.dot(y)\n",
        "\n",
        "x_points = [0, 20]\n",
        "y_points = [a*x + b for x in x_points]\n",
        "plt.scatter(x, y, color='red')\n",
        "plt.plot(x_points, y_points)\n",
        "plt.show()"
      ],
      "execution_count": null,
      "outputs": []
    },
    {
      "cell_type": "markdown",
      "metadata": {
        "colab_type": "text",
        "id": "mBwXIYeFiW4D"
      },
      "source": [
        "## Précision d'un modèle\n",
        "\n",
        "La précision d'un modèle d'apprentissage automatique peut être mesurée en calculant l'erreur quadratique moyenne entre les valeurs prédites et les valeurs obtenues par l'entrainement :\n",
        "\n",
        "$$ \\epsilon = \\frac{1}{m} \\sum_{i=1}^{m} (a x_i + b - y_i)^2 $$\n",
        "\n",
        "L'erreur de prédiction peut être calculée de la même manière, mais en utilisant les échantillons de tests à la place des échantillons d'entrainement.\n",
        "\n",
        "Test error can be different and training error, for example:\n",
        "\n",
        "- If training error is high, this is a case of __high bias__. This generally means the model is not powerful enough to fit the training data.\n",
        "- If the training error is low, but the test error is high, this is a case of __high variance__. This usually often means the model is overfitting and does not generalize well with data it has not seen."
      ]
    },
    {
      "cell_type": "code",
      "metadata": {
        "id": "mZBsNmknunfC",
        "colab_type": "code",
        "colab": {}
      },
      "source": [
        "epsilon = ((a*x + b - y)**2).mean()\n",
        "math.sqrt(epsilon)"
      ],
      "execution_count": null,
      "outputs": []
    },
    {
      "cell_type": "markdown",
      "metadata": {
        "colab_type": "text",
        "id": "W0Uep79MiW4G"
      },
      "source": [
        "## Extending the Model\n",
        "\n",
        "In the case where a straight line will not accurately fit the available data, a more complex model can be used. For example, a quadratic model might be more suitable:\n",
        "\n",
        "$$ y_i = a {x_i}^2 + b x_i + c \\tag{10}$$"
      ]
    },
    {
      "cell_type": "markdown",
      "metadata": {
        "colab_type": "text",
        "id": "n46ouDjdiW4J"
      },
      "source": [
        "In matrix form:\n",
        "\n",
        "$$ \\begin{bmatrix}\n",
        "y_1 \\\\\n",
        "y_2 \\\\\n",
        "... \\\\\n",
        "y_n\n",
        "\\end{bmatrix} = \\begin{bmatrix}\n",
        "{x_1}^2 & x_1 & 1 \\\\\n",
        "{x_2}^2 & x_2 & 1 \\\\\n",
        "... \\\\\n",
        "{x_n}^2 & x_n & 1\n",
        "\\end{bmatrix} \\begin{bmatrix}\n",
        "a \\\\\n",
        "b \\\\\n",
        "c\n",
        "\\end{bmatrix} \\tag{11}$$"
      ]
    },
    {
      "cell_type": "markdown",
      "metadata": {
        "colab_type": "text",
        "id": "CNpclVMYiW4M"
      },
      "source": [
        "In this case the matrix $A$ is:\n",
        "\n",
        "$$ A = \\begin{bmatrix}\n",
        "{x_1}^2 & x_1 & 1 \\\\\n",
        "{x_2}^2 & x_2 & 1 \\\\\n",
        "... \\\\\n",
        "{x_n}^2 & x_n & 1\n",
        "\\end{bmatrix}\\tag{12}$$"
      ]
    },
    {
      "cell_type": "markdown",
      "metadata": {
        "colab_type": "text",
        "id": "ZROSo4zmiW4O"
      },
      "source": [
        "The same procedure can be used to find $a$, $b$, and $c$:\n",
        "\n",
        "$$ \\begin{bmatrix}\n",
        "a \\\\\n",
        "b \\\\\n",
        "c\n",
        "\\end{bmatrix} = (A^T A)^{-1} A^T y \\tag{13}$$"
      ]
    },
    {
      "cell_type": "code",
      "metadata": {
        "id": "vw5EsZWcunfJ",
        "colab_type": "code",
        "colab": {}
      },
      "source": [
        ""
      ],
      "execution_count": null,
      "outputs": []
    }
  ]
}