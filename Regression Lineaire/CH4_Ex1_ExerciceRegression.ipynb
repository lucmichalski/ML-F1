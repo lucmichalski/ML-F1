{
  "nbformat": 4,
  "nbformat_minor": 0,
  "metadata": {
    "colab": {
      "name": "Untitled7.ipynb",
      "provenance": [],
      "authorship_tag": "ABX9TyO0aMe1Zx3h+EcrgYBomHst",
      "include_colab_link": true
    },
    "kernelspec": {
      "name": "python3",
      "display_name": "Python 3"
    }
  },
  "cells": [
    {
      "cell_type": "markdown",
      "metadata": {
        "id": "view-in-github",
        "colab_type": "text"
      },
      "source": [
        "<a href=\"https://colab.research.google.com/github/AlexandreBourrieau/ML-F1/blob/master/Regression%20Lineaire/CH3_Ex1_ExerciceRegression.ipynb\" target=\"_parent\"><img src=\"https://colab.research.google.com/assets/colab-badge.svg\" alt=\"Open In Colab\"/></a>"
      ]
    },
    {
      "cell_type": "markdown",
      "metadata": {
        "id": "TuWN3a24yxMA",
        "colab_type": "text"
      },
      "source": [
        "Lecture du fichier csv :"
      ]
    },
    {
      "cell_type": "code",
      "metadata": {
        "id": "Cp5Yo0cyrIRL",
        "colab_type": "code",
        "colab": {}
      },
      "source": [
        "import math\n",
        "import numpy as np\n",
        "from matplotlib import pyplot as plt\n",
        "import pandas as pd\n",
        "\n",
        "# Importation des données à l'aide de pandas\n",
        "url = \"https://raw.githubusercontent.com/AlexandreBourrieau/ML-F1/master/Regression%20Lineaire/Ex1_Datas.csv\"\n",
        "df = pd.read_csv(url,sep=\",\",header=None)\n",
        "\n",
        "# Enregistrement des données dans au format NumPy dans les variables X et Y\n",
        "# X : Taille de la population\n",
        "# Y : Profit effectué\n",
        "X = np.array(df.iloc[0:len(df),0])\n",
        "Y = np.array(df.iloc[0:len(df),1])"
      ],
      "execution_count": null,
      "outputs": []
    },
    {
      "cell_type": "markdown",
      "metadata": {
        "id": "auVhtDF00YI8",
        "colab_type": "text"
      },
      "source": [
        "Afficher les points :"
      ]
    },
    {
      "cell_type": "code",
      "metadata": {
        "id": "WKYcfTJU0dCl",
        "colab_type": "code",
        "colab": {
          "base_uri": "https://localhost:8080/",
          "height": 266
        },
        "outputId": "74ef8681-b9b7-4039-b60c-562051f5dfee"
      },
      "source": [
        "plt.scatter(X, Y, color='red')\n",
        "plt.show()"
      ],
      "execution_count": 5,
      "outputs": [
        {
          "output_type": "display_data",
          "data": {
            "image/png": "[encoded data removed]",
            "text/plain": [
              "<Figure size 432x288 with 1 Axes>"
            ]
          },
          "metadata": {
            "tags": [],
            "needs_background": "light"
          }
        }
      ]
    }
  ]
}
