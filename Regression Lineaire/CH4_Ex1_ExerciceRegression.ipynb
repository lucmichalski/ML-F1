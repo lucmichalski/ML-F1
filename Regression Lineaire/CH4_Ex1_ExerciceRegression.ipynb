{
  "nbformat": 4,
  "nbformat_minor": 0,
  "metadata": {
    "colab": {
      "name": "Untitled7.ipynb",
      "provenance": [],
      "authorship_tag": "ABX9TyPIM+lQngti9RoeUTc3WTpA",
      "include_colab_link": true
    },
    "kernelspec": {
      "name": "python3",
      "display_name": "Python 3"
    }
  },
  "cells": [
    {
      "cell_type": "markdown",
      "metadata": {
        "id": "view-in-github",
        "colab_type": "text"
      },
      "source": [
        "<a href=\"https://colab.research.google.com/github/AlexandreBourrieau/ML-F1/blob/master/Regression%20Lineaire/CH4_Ex1_ExerciceRegression.ipynb\" target=\"_parent\"><img src=\"https://colab.research.google.com/assets/colab-badge.svg\" alt=\"Open In Colab\"/></a>"
      ]
    },
    {
      "cell_type": "markdown",
      "metadata": {
        "id": "TuWN3a24yxMA",
        "colab_type": "text"
      },
      "source": [
        "Lecture du fichier csv :"
      ]
    },
    {
      "cell_type": "code",
      "metadata": {
        "id": "Cp5Yo0cyrIRL",
        "colab_type": "code",
        "colab": {}
      },
      "source": [
        "import math\n",
        "import numpy as np\n",
        "from matplotlib import pyplot as plt\n",
        "import pandas as pd\n",
        "\n",
        "# Importation des données à l'aide de pandas\n",
        "url = \"https://raw.githubusercontent.com/AlexandreBourrieau/ML-F1/master/Regression%20Lineaire/Ex1_Datas.csv\"\n",
        "df = pd.read_csv(url,sep=\",\",header=None)\n",
        "\n",
        "# Enregistrement des données dans au format NumPy dans les variables X et Y\n",
        "# X : Taille de la population\n",
        "# Y : Profit effectué\n",
        "X = np.array(df.iloc[0:len(df),0])\n",
        "Y = np.array(df.iloc[0:len(df),1])"
      ],
      "execution_count": null,
      "outputs": []
    },
    {
      "cell_type": "markdown",
      "metadata": {
        "id": "auVhtDF00YI8",
        "colab_type": "text"
      },
      "source": [
        "Afficher les points :"
      ]
    },
    {
      "cell_type": "code",
      "metadata": {
        "id": "WKYcfTJU0dCl",
        "colab_type": "code",
        "colab": {}
      },
      "source": [
        "plt.scatter(X, Y, color='red')\n",
        "plt.show()"
      ],
      "execution_count": null,
      "outputs": []
    },
    {
      "cell_type": "markdown",
      "metadata": {
        "id": "kuw_No_p11ef",
        "colab_type": "text"
      },
      "source": [
        "Création de la matrice A sous la forme :\n",
        "\n",
        "$$A = \\begin{bmatrix}\n",
        "x_1 & 1 \\\\\n",
        "x_2 & 1 \\\\\n",
        "... \\\\\n",
        "x_n & 1\n",
        "\\end{bmatrix}$$"
      ]
    },
    {
      "cell_type": "code",
      "metadata": {
        "id": "Jc6gv7fV14-3",
        "colab_type": "code",
        "colab": {}
      },
      "source": [
        "x_colones = X.reshape((-1, 1))\n",
        "ones = np.ones((len(X), 1))\n",
        "A = np.append(x_colones, ones, axis=1)"
      ],
      "execution_count": null,
      "outputs": []
    },
    {
      "cell_type": "markdown",
      "metadata": {
        "id": "lpVy_De62IYt",
        "colab_type": "text"
      },
      "source": [
        "Calcul de la matrice pseudo-inverse de $A$ : $(A^TA)^{-1}$. On la multiplie ensuite par $A^T$ afin d'obtenir $(A^T A)^{-1} A^T$"
      ]
    },
    {
      "cell_type": "code",
      "metadata": {
        "id": "n8EO1JSl2UeH",
        "colab_type": "code",
        "colab": {}
      },
      "source": [
        "At = A.T\n",
        "pseudo_inv = np.linalg.inv(At.dot(A)).dot(At)\n",
        "pseudo_inv"
      ],
      "execution_count": null,
      "outputs": []
    },
    {
      "cell_type": "markdown",
      "metadata": {
        "id": "24gusoLG2eG9",
        "colab_type": "text"
      },
      "source": [
        "Calcul de a et b : (a,b) = $(A^TA)^{−1}A^TY$"
      ]
    },
    {
      "cell_type": "code",
      "metadata": {
        "id": "YttZ99YU2hw7",
        "colab_type": "code",
        "colab": {}
      },
      "source": [
        "(a, b) = pseudo_inv.dot(Y)"
      ],
      "execution_count": null,
      "outputs": []
    },
    {
      "cell_type": "markdown",
      "metadata": {
        "id": "tNbNoxcs3EDf",
        "colab_type": "text"
      },
      "source": [
        "Affichage des données"
      ]
    },
    {
      "cell_type": "code",
      "metadata": {
        "id": "HBXErnAN3HzF",
        "colab_type": "code",
        "colab": {}
      },
      "source": [
        "x_points = [0, 25]\n",
        "y_points = [a*X + b for X in x_points]\n",
        "plt.scatter(X, Y, color='red')\n",
        "plt.plot(x_points, y_points)\n",
        "plt.show()"
      ],
      "execution_count": null,
      "outputs": []
    },
    {
      "cell_type": "markdown",
      "metadata": {
        "id": "Lb9cjM4-3UaL",
        "colab_type": "text"
      },
      "source": [
        "Calcul de l'erreur quadratique moyenne"
      ]
    },
    {
      "cell_type": "code",
      "metadata": {
        "id": "d5hABS0x3XF7",
        "colab_type": "code",
        "colab": {}
      },
      "source": [
        "epsilon = ((a*X + b - Y)**2).mean()     # Calcule la variance (erreur quadratique moyenne)\n",
        "math.sqrt(epsilon) "
      ],
      "execution_count": null,
      "outputs": []
    }
  ]
}