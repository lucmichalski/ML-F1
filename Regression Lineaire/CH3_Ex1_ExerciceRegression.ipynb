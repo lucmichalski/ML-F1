{
  "nbformat": 4,
  "nbformat_minor": 0,
  "metadata": {
    "colab": {
      "name": "Untitled7.ipynb",
      "provenance": [],
      "authorship_tag": "ABX9TyOFGUkyapebqBFd49TM3kCS",
      "include_colab_link": true
    },
    "kernelspec": {
      "name": "python3",
      "display_name": "Python 3"
    }
  },
  "cells": [
    {
      "cell_type": "markdown",
      "metadata": {
        "id": "view-in-github",
        "colab_type": "text"
      },
      "source": [
        "<a href=\"https://colab.research.google.com/github/AlexandreBourrieau/ML-F1/blob/master/Regression%20Lineaire/CH3_Ex1_ExerciceRegression.ipynb\" target=\"_parent\"><img src=\"https://colab.research.google.com/assets/colab-badge.svg\" alt=\"Open In Colab\"/></a>"
      ]
    },
    {
      "cell_type": "markdown",
      "metadata": {
        "id": "TuWN3a24yxMA",
        "colab_type": "text"
      },
      "source": [
        "Lecture du fichier csv :"
      ]
    },
    {
      "cell_type": "code",
      "metadata": {
        "id": "Cp5Yo0cyrIRL",
        "colab_type": "code",
        "colab": {}
      },
      "source": [
        "import math\n",
        "import numpy as np\n",
        "from matplotlib import pyplot as plt\n",
        "import pandas as pd\n",
        "\n",
        "url = \"https://raw.githubusercontent.com/AlexandreBourrieau/ML-F1/master/Regression%20Lineaire/Ex1_Datas.csv\"\n",
        "df = pd.read_csv(url,sep=\",\",header=None)\n",
        "print (df.values)\n"
      ],
      "execution_count": null,
      "outputs": []
    }
  ]
}