{
  "nbformat": 4,
  "nbformat_minor": 0,
  "metadata": {
    "colab": {
      "name": "Untitled10.ipynb",
      "provenance": [],
      "authorship_tag": "ABX9TyOudClztSsK6NDU0+i8XrYB",
      "include_colab_link": true
    },
    "kernelspec": {
      "name": "python3",
      "display_name": "Python 3"
    },
    "accelerator": "GPU"
  },
  "cells": [
    {
      "cell_type": "markdown",
      "metadata": {
        "id": "view-in-github",
        "colab_type": "text"
      },
      "source": [
        "<a href=\"https://colab.research.google.com/github/AlexandreBourrieau/ML-F1/blob/master/MNIST%5CExercice2%20-%20FashionMNIST.ipynb\" target=\"_parent\"><img src=\"https://colab.research.google.com/assets/colab-badge.svg\" alt=\"Open In Colab\"/></a>"
      ]
    },
    {
      "cell_type": "markdown",
      "metadata": {
        "id": "ipfQtIvIPE-z",
        "colab_type": "text"
      },
      "source": [
        "# Importation des libraries"
      ]
    },
    {
      "cell_type": "code",
      "metadata": {
        "id": "19LuKXryPTfc",
        "colab_type": "code",
        "colab": {}
      },
      "source": [
        "from tensorflow.keras.datasets import mnist\n",
        "from tensorflow.keras.models import Sequential\n",
        "from tensorflow.keras.layers import Dense, Dropout, Flatten\n",
        "from tensorflow.keras.layers import Conv2D, MaxPooling2D\n",
        "from tensorflow.keras import backend as K\n",
        "from tensorflow.keras.optimizers import Adam\n",
        "from matplotlib import pyplot as plt\n",
        "import numpy as np\n",
        "import random"
      ],
      "execution_count": 1,
      "outputs": []
    },
    {
      "cell_type": "markdown",
      "metadata": {
        "id": "5mDS0czRPVqs",
        "colab_type": "text"
      },
      "source": [
        "# Chargement des données Fashion-MNIST"
      ]
    },
    {
      "cell_type": "code",
      "metadata": {
        "id": "msNmhjT9OY5h",
        "colab_type": "code",
        "colab": {}
      },
      "source": [
        "from tensorflow.keras.datasets import fashion_mnist\n",
        "(x_entrainement, y_entrainement), (x_test, y_test) = fashion_mnist.load_data()\n",
        "orig_test = x_test"
      ],
      "execution_count": 4,
      "outputs": []
    },
    {
      "cell_type": "markdown",
      "metadata": {
        "id": "00dVsf0WPmqG",
        "colab_type": "text"
      },
      "source": [
        "# Affichage de quelques images"
      ]
    },
    {
      "cell_type": "markdown",
      "metadata": {
        "id": "423mL7-ZQCbE",
        "colab_type": "text"
      },
      "source": [
        "Labels utilisés :\n",
        "* 0 : T-shirt / Top\n",
        "* 1 : Pantalon\n",
        "* 2 : Pullover\n",
        "* 3 : Robe\n",
        "* 4 : Manteau\n",
        "* 5 : Sandales\n",
        "* 6 : Shirt\n",
        "* 7 : Baskets\n",
        "* 8 : Sac\n",
        "* 9 : Bottines"
      ]
    },
    {
      "cell_type": "code",
      "metadata": {
        "id": "sxehjo8yPuWs",
        "colab_type": "code",
        "colab": {
          "base_uri": "https://localhost:8080/",
          "height": 281
        },
        "outputId": "4f79259c-5a1b-40f9-93c3-7bf1487a13cb"
      },
      "source": [
        "index = random.randrange(1000)\n",
        "plt.imshow(orig_test[index], cmap='gray')\n",
        "plt.title('Label: %d' % y_test[index])\n",
        "plt.show()"
      ],
      "execution_count": 25,
      "outputs": [
        {
          "output_type": "display_data",
          "data": {
            "image/png": "[encoded data removed]",
            "text/plain": [
              "<Figure size 432x288 with 1 Axes>"
            ]
          },
          "metadata": {
            "tags": [],
            "needs_background": "light"
          }
        }
      ]
    },
    {
      "cell_type": "markdown",
      "metadata": {
        "id": "Ck9agJlTQuMO",
        "colab_type": "text"
      },
      "source": [
        "# Préparation des données"
      ]
    },
    {
      "cell_type": "code",
      "metadata": {
        "id": "2gVFCs1CQyYM",
        "colab_type": "code",
        "colab": {
          "base_uri": "https://localhost:8080/",
          "height": 52
        },
        "outputId": "febcdb02-3062-4efc-fa44-d643401ee118"
      },
      "source": [
        "if K.image_data_format() == 'channels_first':\n",
        "    x_entrainement = x_entrainement.reshape(x_entrainement.shape[0], 1, 28, 28)\n",
        "    x_test = x_test.reshape(x_test.shape[0], 1, dim_img_lignes, dim_img_colonnes)\n",
        "    input_shape = (1, dim_img_lignes, dim_img_colonnes)\n",
        "else:\n",
        "    x_entrainement = x_entrainement.reshape(x_entrainement.shape[0], 28, 28, 1)\n",
        "    x_test = x_test.reshape(x_test.shape[0], 28, 28, 1)\n",
        "    input_shape = (28, 28, 1)\n",
        "    \n",
        "x_entrainement, x_test = x_entrainement / 255.0, x_test / 255.0\n",
        "\n",
        "print(x_entrainement.shape[0], 'train samples')\n",
        "print(x_test.shape[0], 'test samples')"
      ],
      "execution_count": 28,
      "outputs": [
        {
          "output_type": "stream",
          "text": [
            "60000 train samples\n",
            "10000 test samples\n"
          ],
          "name": "stdout"
        }
      ]
    },
    {
      "cell_type": "markdown",
      "metadata": {
        "id": "0Ez2DeC6RBtF",
        "colab_type": "text"
      },
      "source": [
        "# Définition d'un réseau de neurones à convolution"
      ]
    },
    {
      "cell_type": "code",
      "metadata": {
        "id": "5uYV3leARBGE",
        "colab_type": "code",
        "colab": {
          "base_uri": "https://localhost:8080/",
          "height": 433
        },
        "outputId": "00ee34ca-5f85-4cd8-c6aa-0351c175983e"
      },
      "source": [
        "model = Sequential()\n",
        "model.add(Conv2D(32, kernel_size=(3, 3), activation='relu', input_shape=input_shape))\n",
        "model.add(Conv2D(64, (3, 3), activation='relu'))\n",
        "model.add(MaxPooling2D(pool_size=(2, 2)))\n",
        "model.add(Dropout(0.7/2))\n",
        "model.add(Flatten())\n",
        "model.add(Dense(128, activation='relu'))\n",
        "model.add(Dropout(0.7))\n",
        "model.add(Dense(10, activation='softmax'))\n",
        "\n",
        "model.summary()"
      ],
      "execution_count": 36,
      "outputs": [
        {
          "output_type": "stream",
          "text": [
            "Model: \"sequential_2\"\n",
            "_________________________________________________________________\n",
            "Layer (type)                 Output Shape              Param #   \n",
            "=================================================================\n",
            "conv2d_4 (Conv2D)            (None, 26, 26, 32)        320       \n",
            "_________________________________________________________________\n",
            "conv2d_5 (Conv2D)            (None, 24, 24, 64)        18496     \n",
            "_________________________________________________________________\n",
            "max_pooling2d_2 (MaxPooling2 (None, 12, 12, 64)        0         \n",
            "_________________________________________________________________\n",
            "dropout_4 (Dropout)          (None, 12, 12, 64)        0         \n",
            "_________________________________________________________________\n",
            "flatten_2 (Flatten)          (None, 9216)              0         \n",
            "_________________________________________________________________\n",
            "dense_4 (Dense)              (None, 128)               1179776   \n",
            "_________________________________________________________________\n",
            "dropout_5 (Dropout)          (None, 128)               0         \n",
            "_________________________________________________________________\n",
            "dense_5 (Dense)              (None, 10)                1290      \n",
            "=================================================================\n",
            "Total params: 1,199,882\n",
            "Trainable params: 1,199,882\n",
            "Non-trainable params: 0\n",
            "_________________________________________________________________\n"
          ],
          "name": "stdout"
        }
      ]
    },
    {
      "cell_type": "markdown",
      "metadata": {
        "id": "71aCpbkURNDM",
        "colab_type": "text"
      },
      "source": [
        "# Entrainement du modèle"
      ]
    },
    {
      "cell_type": "code",
      "metadata": {
        "id": "hNbcqP__jM29",
        "colab_type": "code",
        "colab": {
          "base_uri": "https://localhost:8080/",
          "height": 468
        },
        "outputId": "34f4341b-327b-400b-d48e-8d5cf2820380"
      },
      "source": [
        "model.compile(loss='sparse_categorical_crossentropy', optimizer=Adam(), metrics=['accuracy'])\n",
        "\n",
        "# Entraine le modèle sur un certain nombre d'itérations\n",
        "historique = model.fit(x_entrainement, y_entrainement, batch_size=128, epochs=20, verbose=1, validation_data=(x_test, y_test))\n",
        "\n",
        "# Evalue la précision du modèle avec les données de tests\n",
        "score = model.evaluate(x_test, y_test, verbose=0)\n",
        "print('Pertes (Test) :', score[0])\n",
        "print('Précision (Test) :', score[1])\n",
        "\n",
        "# Affiche les informations\n",
        "plt.plot(historique.history['accuracy'])\n",
        "plt.plot(historique.history['val_accuracy'])\n",
        "plt.title('Précision du modèle')\n",
        "plt.ylabel('Précision')\n",
        "plt.xlabel('Itérations')\n",
        "plt.legend(['Entrainement', 'Test'], loc='upper left')\n",
        "plt.show()"
      ],
      "execution_count": null,
      "outputs": [
        {
          "output_type": "stream",
          "text": [
            "Epoch 1/20\n",
            "469/469 [==============================] - 3s 6ms/step - loss: 0.6663 - accuracy: 0.7659 - val_loss: 0.3812 - val_accuracy: 0.8632\n",
            "Epoch 2/20\n",
            "469/469 [==============================] - 2s 5ms/step - loss: 0.4485 - accuracy: 0.8429 - val_loss: 0.3195 - val_accuracy: 0.8851\n",
            "Epoch 3/20\n",
            "469/469 [==============================] - 2s 5ms/step - loss: 0.3902 - accuracy: 0.8616 - val_loss: 0.2874 - val_accuracy: 0.8939\n",
            "Epoch 4/20\n",
            "469/469 [==============================] - 2s 5ms/step - loss: 0.3551 - accuracy: 0.8735 - val_loss: 0.2776 - val_accuracy: 0.8985\n",
            "Epoch 5/20\n",
            "469/469 [==============================] - 2s 5ms/step - loss: 0.3294 - accuracy: 0.8815 - val_loss: 0.2668 - val_accuracy: 0.9029\n",
            "Epoch 6/20\n",
            "469/469 [==============================] - 2s 5ms/step - loss: 0.3094 - accuracy: 0.8894 - val_loss: 0.2512 - val_accuracy: 0.9070\n",
            "Epoch 7/20\n",
            "469/469 [==============================] - 2s 5ms/step - loss: 0.2924 - accuracy: 0.8943 - val_loss: 0.2460 - val_accuracy: 0.9097\n",
            "Epoch 8/20\n",
            "469/469 [==============================] - 2s 5ms/step - loss: 0.2835 - accuracy: 0.8982 - val_loss: 0.2400 - val_accuracy: 0.9125\n",
            "Epoch 9/20\n",
            "469/469 [==============================] - 2s 5ms/step - loss: 0.2664 - accuracy: 0.9038 - val_loss: 0.2332 - val_accuracy: 0.9168\n",
            "Epoch 10/20\n",
            "469/469 [==============================] - 2s 5ms/step - loss: 0.2609 - accuracy: 0.9052 - val_loss: 0.2279 - val_accuracy: 0.9176\n",
            "Epoch 11/20\n",
            "469/469 [==============================] - 2s 5ms/step - loss: 0.2507 - accuracy: 0.9068 - val_loss: 0.2225 - val_accuracy: 0.9194\n",
            "Epoch 12/20\n",
            "469/469 [==============================] - 2s 5ms/step - loss: 0.2393 - accuracy: 0.9125 - val_loss: 0.2309 - val_accuracy: 0.9164\n",
            "Epoch 13/20\n",
            "379/469 [=======================>......] - ETA: 0s - loss: 0.2307 - accuracy: 0.9154"
          ],
          "name": "stdout"
        }
      ]
    },
    {
      "cell_type": "markdown",
      "metadata": {
        "id": "d_zs0d8mRjQc",
        "colab_type": "text"
      },
      "source": [
        "# Prédictions"
      ]
    },
    {
      "cell_type": "code",
      "metadata": {
        "id": "iAzocOp9RmMM",
        "colab_type": "code",
        "colab": {}
      },
      "source": [
        "predictions = model.predict(x_test)\n",
        "plus_probable = predictions.argmax(1)"
      ],
      "execution_count": null,
      "outputs": []
    }
  ]
}